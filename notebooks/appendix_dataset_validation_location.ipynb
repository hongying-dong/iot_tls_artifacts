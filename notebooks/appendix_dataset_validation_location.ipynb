{
 "cells": [
  {
   "cell_type": "markdown",
   "id": "hidden-conviction",
   "metadata": {},
   "source": [
    "## Comparison across geographical locations"
   ]
  },
  {
   "cell_type": "markdown",
   "id": "specified-weekend",
   "metadata": {},
   "source": [
    "### Import libraries"
   ]
  },
  {
   "cell_type": "code",
   "execution_count": 1,
   "id": "polish-tower",
   "metadata": {},
   "outputs": [],
   "source": [
    "import os\n",
    "import pandas as pd \n",
    "import numpy as np\n",
    "from lxml import etree \n",
    "pd.set_option('display.max_columns', None)\n",
    "pd.options.display.max_colwidth = 200\n",
    "import os\n",
    "import glob\n",
    "import time\n",
    "import re\n",
    "import datetime\n",
    "import matplotlib.pyplot as plt\n",
    "import seaborn as sns\n",
    "import itertools\n",
    "import matplotlib.patches as mpatches\n",
    "import shutil\n",
    "from IPython.display import clear_output\n",
    "pd.set_option('display.max_rows', 500)\n",
    "from manuf import manuf\n",
    "from user_agents import parse\n",
    "import dataframe_image as dfi\n",
    "import tldextract"
   ]
  },
  {
   "cell_type": "markdown",
   "id": "operational-criticism",
   "metadata": {},
   "source": [
    "### Readin datasets of different geolocations"
   ]
  },
  {
   "cell_type": "code",
   "execution_count": 2,
   "id": "second-germany",
   "metadata": {},
   "outputs": [],
   "source": [
    "ny = pd.read_parquet(\"../datasets/ny_serv_withcrt.parquet\")"
   ]
  },
  {
   "cell_type": "code",
   "execution_count": 3,
   "id": "visible-certification",
   "metadata": {},
   "outputs": [],
   "source": [
    "ny_set = set(ny['server_name_indication'].tolist())"
   ]
  },
  {
   "cell_type": "code",
   "execution_count": 4,
   "id": "sacred-reserve",
   "metadata": {},
   "outputs": [],
   "source": [
    "ff = pd.read_parquet(\"../datasets/ff_serv.parquet\")"
   ]
  },
  {
   "cell_type": "code",
   "execution_count": 5,
   "id": "discrete-layout",
   "metadata": {},
   "outputs": [],
   "source": [
    "ff_set = set(ff['server_name_indication'].tolist())"
   ]
  },
  {
   "cell_type": "code",
   "execution_count": 6,
   "id": "surprising-graduate",
   "metadata": {},
   "outputs": [],
   "source": [
    "sin = pd.read_parquet(\"../datasets/sin_serv.parquet\")"
   ]
  },
  {
   "cell_type": "code",
   "execution_count": 7,
   "id": "higher-astrology",
   "metadata": {},
   "outputs": [],
   "source": [
    "sin_set = set(sin['server_name_indication'].tolist())"
   ]
  },
  {
   "cell_type": "markdown",
   "id": "perfect-aerospace",
   "metadata": {},
   "source": [
    "### Num. SNIs"
   ]
  },
  {
   "cell_type": "code",
   "execution_count": 8,
   "id": "alive-genesis",
   "metadata": {},
   "outputs": [
    {
     "data": {
      "text/plain": [
       "1151"
      ]
     },
     "execution_count": 8,
     "metadata": {},
     "output_type": "execute_result"
    }
   ],
   "source": [
    "len(ny_set)"
   ]
  },
  {
   "cell_type": "code",
   "execution_count": 9,
   "id": "innovative-ceramic",
   "metadata": {},
   "outputs": [
    {
     "data": {
      "text/plain": [
       "1149"
      ]
     },
     "execution_count": 9,
     "metadata": {},
     "output_type": "execute_result"
    }
   ],
   "source": [
    "len(ff_set)"
   ]
  },
  {
   "cell_type": "code",
   "execution_count": 10,
   "id": "incredible-sierra",
   "metadata": {},
   "outputs": [
    {
     "data": {
      "text/plain": [
       "1150"
      ]
     },
     "execution_count": 10,
     "metadata": {},
     "output_type": "execute_result"
    }
   ],
   "source": [
    "len(sin_set)"
   ]
  },
  {
   "cell_type": "markdown",
   "id": "norman-slave",
   "metadata": {},
   "source": [
    "### SNIs with cert shared by all locations"
   ]
  },
  {
   "cell_type": "code",
   "execution_count": 11,
   "id": "canadian-claim",
   "metadata": {},
   "outputs": [],
   "source": [
    "ny_sub = ny[['server_name_indication', 'issuer_O', 'issuer_CN', 'cert_serialNum_from_x509af']].drop_duplicates()\n",
    "\n",
    "ff_sub = ff[['server_name_indication', 'issuer_O', 'issuer_CN', 'cert_serialNum_from_x509af']].drop_duplicates()\n",
    "\n",
    "sin_sub = sin[['server_name_indication', 'issuer_O', 'issuer_CN', 'cert_serialNum_from_x509af']].drop_duplicates()"
   ]
  },
  {
   "cell_type": "code",
   "execution_count": 12,
   "id": "formal-mechanism",
   "metadata": {},
   "outputs": [
    {
     "data": {
      "text/plain": [
       "(841,)"
      ]
     },
     "execution_count": 12,
     "metadata": {},
     "output_type": "execute_result"
    }
   ],
   "source": [
    "ny_sub['cert_serialNum_from_x509af'].value_counts().shape"
   ]
  },
  {
   "cell_type": "code",
   "execution_count": 13,
   "id": "mounted-color",
   "metadata": {},
   "outputs": [
    {
     "data": {
      "text/plain": [
       "(833,)"
      ]
     },
     "execution_count": 13,
     "metadata": {},
     "output_type": "execute_result"
    }
   ],
   "source": [
    "ff_sub['cert_serialNum_from_x509af'].value_counts().shape"
   ]
  },
  {
   "cell_type": "code",
   "execution_count": 14,
   "id": "fatty-bubble",
   "metadata": {},
   "outputs": [
    {
     "data": {
      "text/plain": [
       "(815,)"
      ]
     },
     "execution_count": 14,
     "metadata": {},
     "output_type": "execute_result"
    }
   ],
   "source": [
    "sin_sub['cert_serialNum_from_x509af'].value_counts().shape"
   ]
  },
  {
   "cell_type": "code",
   "execution_count": 15,
   "id": "brave-scholarship",
   "metadata": {},
   "outputs": [],
   "source": [
    "comm_temp = pd.merge(ny_sub, ff_sub, how='inner', on=['server_name_indication', 'issuer_CN', 'issuer_O', 'cert_serialNum_from_x509af'])\n",
    "comm_all = pd.merge(comm_temp, sin_sub, how='inner', on=['server_name_indication', 'issuer_CN', 'issuer_O', 'cert_serialNum_from_x509af'])"
   ]
  },
  {
   "cell_type": "code",
   "execution_count": 16,
   "id": "collaborative-papua",
   "metadata": {},
   "outputs": [
    {
     "data": {
      "text/plain": [
       "(1182, 4)"
      ]
     },
     "execution_count": 16,
     "metadata": {},
     "output_type": "execute_result"
    }
   ],
   "source": [
    "comm_all.shape"
   ]
  },
  {
   "cell_type": "code",
   "execution_count": 17,
   "id": "proud-stanley",
   "metadata": {},
   "outputs": [
    {
     "data": {
      "text/plain": [
       "(1087,)"
      ]
     },
     "execution_count": 17,
     "metadata": {},
     "output_type": "execute_result"
    }
   ],
   "source": [
    "comm_all['server_name_indication'].value_counts().shape"
   ]
  },
  {
   "cell_type": "markdown",
   "id": "minimal-single",
   "metadata": {},
   "source": [
    "### Differences"
   ]
  },
  {
   "cell_type": "markdown",
   "id": "certain-cotton",
   "metadata": {},
   "source": [
    "### Certificates not observed in New York dataset"
   ]
  },
  {
   "cell_type": "code",
   "execution_count": 22,
   "id": "differential-section",
   "metadata": {},
   "outputs": [],
   "source": [
    "ff_notny = nyff_temp.loc[nyff_temp['_merge'] == 'right_only'].drop(columns=['_merge'])"
   ]
  },
  {
   "cell_type": "code",
   "execution_count": 23,
   "id": "leading-chest",
   "metadata": {},
   "outputs": [],
   "source": [
    "ff_notny_sin = pd.merge(ff_notny, sin_sub, how=\"outer\", on=['server_name_indication', 'issuer_CN', \\\n",
    "                                                        'issuer_O', 'cert_serialNum_from_x509af'], indicator=True)"
   ]
  },
  {
   "cell_type": "code",
   "execution_count": 24,
   "id": "finite-procurement",
   "metadata": {},
   "outputs": [
    {
     "data": {
      "text/plain": [
       "(99, 3)"
      ]
     },
     "execution_count": 24,
     "metadata": {},
     "output_type": "execute_result"
    }
   ],
   "source": [
    "ff_notny_sin.loc[ff_notny_sin['_merge'] == \"left_only\"].groupby(['cert_serialNum_from_x509af', 'issuer_CN'])\\\n",
    "            ['server_name_indication'].agg(lambda x: x.nunique()).reset_index().shape"
   ]
  },
  {
   "cell_type": "markdown",
   "id": "impossible-specification",
   "metadata": {},
   "source": [
    "### Certificates not observed in Frankfurt dataset"
   ]
  },
  {
   "cell_type": "code",
   "execution_count": 25,
   "id": "linear-touch",
   "metadata": {},
   "outputs": [],
   "source": [
    "sinff_temp = pd.merge(sin_sub, ff_sub, how=\"outer\", on=['server_name_indication', 'issuer_CN', \\\n",
    "                                              'issuer_O', 'cert_serialNum_from_x509af'], indicator=True)"
   ]
  },
  {
   "cell_type": "code",
   "execution_count": 26,
   "id": "pretty-motion",
   "metadata": {},
   "outputs": [],
   "source": [
    "sin_notff = sinff_temp.loc[sinff_temp['_merge'] == 'left_only'].drop(columns=['_merge'])"
   ]
  },
  {
   "cell_type": "code",
   "execution_count": 27,
   "id": "straight-shannon",
   "metadata": {},
   "outputs": [],
   "source": [
    "sin_notff_ny = pd.merge(sin_notff, ny_sub, how=\"outer\", on=['server_name_indication', 'issuer_CN', \\\n",
    "                                                        'issuer_O', 'cert_serialNum_from_x509af'], indicator=True)"
   ]
  },
  {
   "cell_type": "code",
   "execution_count": 28,
   "id": "partial-riding",
   "metadata": {},
   "outputs": [
    {
     "data": {
      "text/plain": [
       "(82, 3)"
      ]
     },
     "execution_count": 28,
     "metadata": {},
     "output_type": "execute_result"
    }
   ],
   "source": [
    "sin_notff_ny.loc[sin_notff_ny['_merge'] == \"left_only\"].groupby(['cert_serialNum_from_x509af', 'issuer_CN'])\\\n",
    "            ['server_name_indication'].agg(lambda x: x.nunique()).reset_index().shape"
   ]
  },
  {
   "cell_type": "markdown",
   "id": "advisory-cross",
   "metadata": {},
   "source": [
    "### Certificates not observed in Singapore dataset"
   ]
  },
  {
   "cell_type": "code",
   "execution_count": 18,
   "id": "alleged-automation",
   "metadata": {},
   "outputs": [],
   "source": [
    "nyff_temp = pd.merge(ny_sub, ff_sub, how=\"outer\", on=['server_name_indication', 'issuer_CN', \\\n",
    "                                              'issuer_O', 'cert_serialNum_from_x509af'], indicator=True)"
   ]
  },
  {
   "cell_type": "code",
   "execution_count": 19,
   "id": "blessed-worst",
   "metadata": {},
   "outputs": [],
   "source": [
    "ny_notff = nyff_temp.loc[nyff_temp['_merge'] == 'left_only'].drop(columns=['_merge'])"
   ]
  },
  {
   "cell_type": "code",
   "execution_count": 20,
   "id": "noted-advisory",
   "metadata": {},
   "outputs": [],
   "source": [
    "ny_notff_sin = pd.merge(ny_notff, sin_sub, how=\"outer\", on=['server_name_indication', 'issuer_CN', \\\n",
    "                                                        'issuer_O', 'cert_serialNum_from_x509af'], indicator=True)"
   ]
  },
  {
   "cell_type": "code",
   "execution_count": 21,
   "id": "broadband-mexico",
   "metadata": {},
   "outputs": [
    {
     "data": {
      "text/plain": [
       "(106, 3)"
      ]
     },
     "execution_count": 21,
     "metadata": {},
     "output_type": "execute_result"
    }
   ],
   "source": [
    "ny_notff_sin.loc[ny_notff_sin['_merge'] == \"left_only\"].groupby(['cert_serialNum_from_x509af', 'issuer_CN'])\\\n",
    "            ['server_name_indication'].agg(lambda x: x.nunique()).reset_index().shape"
   ]
  }
 ],
 "metadata": {
  "kernelspec": {
   "display_name": "Python 3",
   "language": "python",
   "name": "python3"
  },
  "language_info": {
   "codemirror_mode": {
    "name": "ipython",
    "version": 3
   },
   "file_extension": ".py",
   "mimetype": "text/x-python",
   "name": "python",
   "nbconvert_exporter": "python",
   "pygments_lexer": "ipython3",
   "version": "3.8.5"
  }
 },
 "nbformat": 4,
 "nbformat_minor": 5
}
