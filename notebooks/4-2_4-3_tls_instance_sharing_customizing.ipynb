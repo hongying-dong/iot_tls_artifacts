{
 "cells": [
  {
   "cell_type": "code",
   "execution_count": 249,
   "id": "african-suspect",
   "metadata": {},
   "outputs": [],
   "source": [
    "import pandas as pd\n",
    "import numpy as np\n",
    "import os\n",
    "import json\n",
    "from tqdm import tqdm\n",
    "import sqlite3\n",
    "import time\n",
    "import hashlib\n",
    "import re\n",
    "import datetime\n",
    "import matplotlib.pyplot as plt\n",
    "import matplotlib\n",
    "import editdistance\n",
    "import functools\n",
    "from IPython.display import clear_output\n",
    "import seaborn as sns\n",
    "import random\n",
    "pd.set_option('display.max_colwidth', None)\n",
    "pd.set_option('display.max_columns', None)"
   ]
  },
  {
   "cell_type": "code",
   "execution_count": 250,
   "id": "heard-subcommittee",
   "metadata": {},
   "outputs": [],
   "source": [
    "from __future__ import division\n",
    "\n",
    "import math\n",
    "from bisect import bisect_left\n",
    "from collections import namedtuple"
   ]
  },
  {
   "cell_type": "code",
   "execution_count": 744,
   "id": "bright-blank",
   "metadata": {},
   "outputs": [],
   "source": [
    "fps = pd.read_csv(\"../tmp_data/inspector2014_with_dist2lib.csv\")"
   ]
  },
  {
   "cell_type": "code",
   "execution_count": 745,
   "id": "unauthorized-thermal",
   "metadata": {},
   "outputs": [
    {
     "data": {
      "text/plain": [
       "(5827, 20)"
      ]
     },
     "execution_count": 745,
     "metadata": {},
     "output_type": "execute_result"
    }
   ],
   "source": [
    "fps.shape"
   ]
  },
  {
   "cell_type": "code",
   "execution_count": 747,
   "id": "reserved-parker",
   "metadata": {},
   "outputs": [
    {
     "data": {
      "text/html": [
       "<div>\n",
       "<style scoped>\n",
       "    .dataframe tbody tr th:only-of-type {\n",
       "        vertical-align: middle;\n",
       "    }\n",
       "\n",
       "    .dataframe tbody tr th {\n",
       "        vertical-align: top;\n",
       "    }\n",
       "\n",
       "    .dataframe thead th {\n",
       "        text-align: right;\n",
       "    }\n",
       "</style>\n",
       "<table border=\"1\" class=\"dataframe\">\n",
       "  <thead>\n",
       "    <tr style=\"text-align: right;\">\n",
       "      <th></th>\n",
       "      <th>idx</th>\n",
       "      <th>likely_libver</th>\n",
       "      <th>lib_ciphersuites</th>\n",
       "      <th>device_id</th>\n",
       "      <th>cipher_suites</th>\n",
       "      <th>extension_types</th>\n",
       "      <th>tls_version</th>\n",
       "      <th>device_vendor</th>\n",
       "      <th>device_name</th>\n",
       "      <th>cipher_code</th>\n",
       "      <th>ciphersuite_len</th>\n",
       "      <th>cipher_code_idxl</th>\n",
       "      <th>cipher_code_hex</th>\n",
       "      <th>updated_hexcodelis</th>\n",
       "      <th>updated_codelis</th>\n",
       "      <th>likely</th>\n",
       "      <th>likely_idx</th>\n",
       "      <th>likely_score</th>\n",
       "      <th>cumulative_agreement</th>\n",
       "      <th>distance_2lib_sim</th>\n",
       "    </tr>\n",
       "  </thead>\n",
       "  <tbody>\n",
       "    <tr>\n",
       "      <th>638</th>\n",
       "      <td>50</td>\n",
       "      <td>curl_7.41.0_(x86_64-unknown-linux-gnu)_libcurl/7.41.0_CyaSSL/3.3.0</td>\n",
       "      <td>[53, 47, 5, 4, 10]</td>\n",
       "      <td>s197bc0cc99</td>\n",
       "      <td>49171+49172+47+53+255</td>\n",
       "      <td>11+10+35+16+21</td>\n",
       "      <td>769</td>\n",
       "      <td>amazon</td>\n",
       "      <td>fire</td>\n",
       "      <td>[49171, 49172, 47, 53, 255]</td>\n",
       "      <td>5</td>\n",
       "      <td>['49171:0', '49172:1', '47:2', '53:3', '255:4']</td>\n",
       "      <td>['0xc013', '0xc014', '0x2f', '0x35', '0xff']</td>\n",
       "      <td>['0xc013', '0xc014', '0x2f', '0x35', '0xff']</td>\n",
       "      <td>[49171, 49172, 47, 53, 255]</td>\n",
       "      <td>[50, 0.25]</td>\n",
       "      <td>50</td>\n",
       "      <td>0.25</td>\n",
       "      <td>[0.0, 0.0, 0.3333333333333333, 0.5, 0.4]</td>\n",
       "      <td>4</td>\n",
       "    </tr>\n",
       "  </tbody>\n",
       "</table>\n",
       "</div>"
      ],
      "text/plain": [
       "     idx                                                       likely_libver  \\\n",
       "638   50  curl_7.41.0_(x86_64-unknown-linux-gnu)_libcurl/7.41.0_CyaSSL/3.3.0   \n",
       "\n",
       "       lib_ciphersuites    device_id          cipher_suites extension_types  \\\n",
       "638  [53, 47, 5, 4, 10]  s197bc0cc99  49171+49172+47+53+255  11+10+35+16+21   \n",
       "\n",
       "     tls_version device_vendor device_name                  cipher_code  \\\n",
       "638          769        amazon        fire  [49171, 49172, 47, 53, 255]   \n",
       "\n",
       "     ciphersuite_len                                 cipher_code_idxl  \\\n",
       "638                5  ['49171:0', '49172:1', '47:2', '53:3', '255:4']   \n",
       "\n",
       "                                  cipher_code_hex  \\\n",
       "638  ['0xc013', '0xc014', '0x2f', '0x35', '0xff']   \n",
       "\n",
       "                               updated_hexcodelis  \\\n",
       "638  ['0xc013', '0xc014', '0x2f', '0x35', '0xff']   \n",
       "\n",
       "                 updated_codelis      likely  likely_idx  likely_score  \\\n",
       "638  [49171, 49172, 47, 53, 255]  [50, 0.25]          50          0.25   \n",
       "\n",
       "                         cumulative_agreement  distance_2lib_sim  \n",
       "638  [0.0, 0.0, 0.3333333333333333, 0.5, 0.4]                  4  "
      ]
     },
     "execution_count": 747,
     "metadata": {},
     "output_type": "execute_result"
    }
   ],
   "source": [
    "fps.sample(1)"
   ]
  },
  {
   "cell_type": "code",
   "execution_count": 748,
   "id": "limited-master",
   "metadata": {},
   "outputs": [],
   "source": [
    "fps['extension_types'] = fps['extension_types'].fillna(\"missing\")\n",
    "fps['fps'] = fps.apply(lambda x: x['cipher_suites'] + \"_\" + x['extension_types'] + \"_\" + str(x['tls_version']), axis=1)"
   ]
  },
  {
   "cell_type": "code",
   "execution_count": 749,
   "id": "documented-framework",
   "metadata": {},
   "outputs": [
    {
     "data": {
      "text/plain": [
       "(30,)"
      ]
     },
     "execution_count": 749,
     "metadata": {},
     "output_type": "execute_result"
    }
   ],
   "source": [
    "fps.loc[fps['device_vendor'] == 'sonos']['fps'].value_counts().shape"
   ]
  },
  {
   "cell_type": "code",
   "execution_count": null,
   "id": "abandoned-crime",
   "metadata": {},
   "outputs": [],
   "source": []
  },
  {
   "cell_type": "markdown",
   "id": "bulgarian-pizza",
   "metadata": {},
   "source": [
    "### Add to subsection \"TLS instance sharing and customizing\""
   ]
  },
  {
   "cell_type": "code",
   "execution_count": 704,
   "id": "varied-crack",
   "metadata": {},
   "outputs": [],
   "source": [
    "fps_data = pd.read_csv(\"../tmp_data/fps_sample.csv\")"
   ]
  },
  {
   "cell_type": "code",
   "execution_count": 707,
   "id": "fleet-horror",
   "metadata": {},
   "outputs": [
    {
     "data": {
      "text/html": [
       "<div>\n",
       "<style scoped>\n",
       "    .dataframe tbody tr th:only-of-type {\n",
       "        vertical-align: middle;\n",
       "    }\n",
       "\n",
       "    .dataframe tbody tr th {\n",
       "        vertical-align: top;\n",
       "    }\n",
       "\n",
       "    .dataframe thead th {\n",
       "        text-align: right;\n",
       "    }\n",
       "</style>\n",
       "<table border=\"1\" class=\"dataframe\">\n",
       "  <thead>\n",
       "    <tr style=\"text-align: right;\">\n",
       "      <th></th>\n",
       "      <th>fps</th>\n",
       "      <th>fps_hash</th>\n",
       "      <th>device_id</th>\n",
       "      <th>device_vendor</th>\n",
       "      <th>device_name</th>\n",
       "      <th>vendor_cnt</th>\n",
       "      <th>if_anon</th>\n",
       "      <th>if_export</th>\n",
       "      <th>if_rc4</th>\n",
       "      <th>if_rc2</th>\n",
       "      <th>if_des</th>\n",
       "      <th>if_nocipher</th>\n",
       "      <th>if_3des</th>\n",
       "      <th>tls_version</th>\n",
       "      <th>popularity</th>\n",
       "      <th>vul_score</th>\n",
       "    </tr>\n",
       "  </thead>\n",
       "  <tbody>\n",
       "    <tr>\n",
       "      <th>291</th>\n",
       "      <td>769;49172+49162+57+56+55+54+136+135+134+133+49167+49157+53+132+49171+49161+51+50+49+48+154+153+152+151+69+68+67+66+49166+49156+47+150+65+7+49169+49159+49164+49154+5+4+49170+49160+22+19+16+13+49165+49155+10+255;11+10+35</td>\n",
       "      <td>944968447256267871</td>\n",
       "      <td>s0d2f015cd4</td>\n",
       "      <td>qnap</td>\n",
       "      <td>storage</td>\n",
       "      <td>2</td>\n",
       "      <td>0</td>\n",
       "      <td>0</td>\n",
       "      <td>54</td>\n",
       "      <td>0</td>\n",
       "      <td>0</td>\n",
       "      <td>0</td>\n",
       "      <td>81</td>\n",
       "      <td>769</td>\n",
       "      <td>Shared FPS</td>\n",
       "      <td>2</td>\n",
       "    </tr>\n",
       "    <tr>\n",
       "      <th>530</th>\n",
       "      <td>771;49196+49200+49195+49199+255;11+10+13+16</td>\n",
       "      <td>270463083062116128</td>\n",
       "      <td>s6e403abcd6</td>\n",
       "      <td>google</td>\n",
       "      <td>dot</td>\n",
       "      <td>2</td>\n",
       "      <td>0</td>\n",
       "      <td>0</td>\n",
       "      <td>0</td>\n",
       "      <td>0</td>\n",
       "      <td>0</td>\n",
       "      <td>0</td>\n",
       "      <td>0</td>\n",
       "      <td>771</td>\n",
       "      <td>Shared FPS</td>\n",
       "      <td>0</td>\n",
       "    </tr>\n",
       "    <tr>\n",
       "      <th>152</th>\n",
       "      <td>771;49200+49196+49192+49188+49172+49162+165+163+161+159+107+106+105+104+57+56+55+54+136+135+134+133+49202+49198+49194+49190+49167+49157+157+61+53+132+49199+49195+49191+49187+49171+49161+164+162+160+158+103+64+63+62+51+50+49+48+154+153+152+151+69+68+67+66+49201+49197+49193+49189+49166+49156+156+60+47+150+65+49169+49159+49164+49154+5+49170+49160+22+19+16+13+49165+49155+10+255;11+10+13+15+13172+16+21</td>\n",
       "      <td>1831270424469231222</td>\n",
       "      <td>s0222d29760</td>\n",
       "      <td>roku</td>\n",
       "      <td>streamer</td>\n",
       "      <td>6</td>\n",
       "      <td>0</td>\n",
       "      <td>0</td>\n",
       "      <td>650</td>\n",
       "      <td>0</td>\n",
       "      <td>0</td>\n",
       "      <td>0</td>\n",
       "      <td>1170</td>\n",
       "      <td>771</td>\n",
       "      <td>Popular FPS</td>\n",
       "      <td>2</td>\n",
       "    </tr>\n",
       "  </tbody>\n",
       "</table>\n",
       "</div>"
      ],
      "text/plain": [
       "                                                                                                                                                                                                                                                                                                                                                                                                                  fps  \\\n",
       "291                                                                                                                                                                                        769;49172+49162+57+56+55+54+136+135+134+133+49167+49157+53+132+49171+49161+51+50+49+48+154+153+152+151+69+68+67+66+49166+49156+47+150+65+7+49169+49159+49164+49154+5+4+49170+49160+22+19+16+13+49165+49155+10+255;11+10+35   \n",
       "530                                                                                                                                                                                                                                                                                                                                                                       771;49196+49200+49195+49199+255;11+10+13+16   \n",
       "152  771;49200+49196+49192+49188+49172+49162+165+163+161+159+107+106+105+104+57+56+55+54+136+135+134+133+49202+49198+49194+49190+49167+49157+157+61+53+132+49199+49195+49191+49187+49171+49161+164+162+160+158+103+64+63+62+51+50+49+48+154+153+152+151+69+68+67+66+49201+49197+49193+49189+49166+49156+156+60+47+150+65+49169+49159+49164+49154+5+49170+49160+22+19+16+13+49165+49155+10+255;11+10+13+15+13172+16+21   \n",
       "\n",
       "                fps_hash    device_id device_vendor device_name  vendor_cnt  \\\n",
       "291   944968447256267871  s0d2f015cd4          qnap     storage           2   \n",
       "530   270463083062116128  s6e403abcd6        google         dot           2   \n",
       "152  1831270424469231222  s0222d29760          roku    streamer           6   \n",
       "\n",
       "     if_anon  if_export  if_rc4  if_rc2  if_des  if_nocipher  if_3des  \\\n",
       "291        0          0      54       0       0            0       81   \n",
       "530        0          0       0       0       0            0        0   \n",
       "152        0          0     650       0       0            0     1170   \n",
       "\n",
       "     tls_version   popularity  vul_score  \n",
       "291          769   Shared FPS          2  \n",
       "530          771   Shared FPS          0  \n",
       "152          771  Popular FPS          2  "
      ]
     },
     "execution_count": 707,
     "metadata": {},
     "output_type": "execute_result"
    }
   ],
   "source": [
    "fps_data.sample(3)"
   ]
  },
  {
   "cell_type": "code",
   "execution_count": 708,
   "id": "devoted-support",
   "metadata": {},
   "outputs": [],
   "source": [
    "fps_pervendor = fps_data.groupby(['device_vendor'])['fps'].agg(lambda x: x.nunique()).reset_index(name='num_fps')"
   ]
  },
  {
   "cell_type": "code",
   "execution_count": 711,
   "id": "consolidated-willow",
   "metadata": {},
   "outputs": [
    {
     "data": {
      "text/html": [
       "<div>\n",
       "<style scoped>\n",
       "    .dataframe tbody tr th:only-of-type {\n",
       "        vertical-align: middle;\n",
       "    }\n",
       "\n",
       "    .dataframe tbody tr th {\n",
       "        vertical-align: top;\n",
       "    }\n",
       "\n",
       "    .dataframe thead th {\n",
       "        text-align: right;\n",
       "    }\n",
       "</style>\n",
       "<table border=\"1\" class=\"dataframe\">\n",
       "  <thead>\n",
       "    <tr style=\"text-align: right;\">\n",
       "      <th></th>\n",
       "      <th>device_vendor</th>\n",
       "      <th>num_fps</th>\n",
       "    </tr>\n",
       "  </thead>\n",
       "  <tbody>\n",
       "    <tr>\n",
       "      <th>0</th>\n",
       "      <td>amazon</td>\n",
       "      <td>244</td>\n",
       "    </tr>\n",
       "    <tr>\n",
       "      <th>15</th>\n",
       "      <td>google</td>\n",
       "      <td>172</td>\n",
       "    </tr>\n",
       "    <tr>\n",
       "      <th>48</th>\n",
       "      <td>synology</td>\n",
       "      <td>107</td>\n",
       "    </tr>\n",
       "    <tr>\n",
       "      <th>39</th>\n",
       "      <td>samsung</td>\n",
       "      <td>104</td>\n",
       "    </tr>\n",
       "    <tr>\n",
       "      <th>47</th>\n",
       "      <td>sony</td>\n",
       "      <td>97</td>\n",
       "    </tr>\n",
       "    <tr>\n",
       "      <th>...</th>\n",
       "      <td>...</td>\n",
       "      <td>...</td>\n",
       "    </tr>\n",
       "    <tr>\n",
       "      <th>54</th>\n",
       "      <td>tuya</td>\n",
       "      <td>1</td>\n",
       "    </tr>\n",
       "    <tr>\n",
       "      <th>13</th>\n",
       "      <td>epson</td>\n",
       "      <td>1</td>\n",
       "    </tr>\n",
       "    <tr>\n",
       "      <th>16</th>\n",
       "      <td>hdhomerun</td>\n",
       "      <td>1</td>\n",
       "    </tr>\n",
       "    <tr>\n",
       "      <th>42</th>\n",
       "      <td>silicondust</td>\n",
       "      <td>1</td>\n",
       "    </tr>\n",
       "    <tr>\n",
       "      <th>3</th>\n",
       "      <td>belkin</td>\n",
       "      <td>1</td>\n",
       "    </tr>\n",
       "  </tbody>\n",
       "</table>\n",
       "<p>65 rows × 2 columns</p>\n",
       "</div>"
      ],
      "text/plain": [
       "   device_vendor  num_fps\n",
       "0         amazon      244\n",
       "15        google      172\n",
       "48      synology      107\n",
       "39       samsung      104\n",
       "47          sony       97\n",
       "..           ...      ...\n",
       "54          tuya        1\n",
       "13         epson        1\n",
       "16     hdhomerun        1\n",
       "42   silicondust        1\n",
       "3         belkin        1\n",
       "\n",
       "[65 rows x 2 columns]"
      ]
     },
     "execution_count": 711,
     "metadata": {},
     "output_type": "execute_result"
    }
   ],
   "source": [
    "fps_pervendor.sort_values(by='num_fps', ascending=False)"
   ]
  },
  {
   "cell_type": "code",
   "execution_count": 153,
   "id": "french-lecture",
   "metadata": {},
   "outputs": [],
   "source": [
    "fps_pervendor = fps_fps.loc[fps_fps['num_vendor'] == 1].groupby(['vendor'])['fps'].agg(num_fps=lambda x: x.nunique(), \\\n",
    "                                                                                       set_fps=lambda x: set(x))\\\n",
    "                                                                                  .reset_index()"
   ]
  },
  {
   "cell_type": "code",
   "execution_count": 154,
   "id": "fifth-integration",
   "metadata": {},
   "outputs": [
    {
     "data": {
      "text/plain": [
       "(49, 3)"
      ]
     },
     "execution_count": 154,
     "metadata": {},
     "output_type": "execute_result"
    }
   ],
   "source": [
    "fps_pervendor.shape"
   ]
  },
  {
   "cell_type": "code",
   "execution_count": 177,
   "id": "german-soccer",
   "metadata": {},
   "outputs": [
    {
     "data": {
      "text/html": [
       "<div>\n",
       "<style scoped>\n",
       "    .dataframe tbody tr th:only-of-type {\n",
       "        vertical-align: middle;\n",
       "    }\n",
       "\n",
       "    .dataframe tbody tr th {\n",
       "        vertical-align: top;\n",
       "    }\n",
       "\n",
       "    .dataframe thead th {\n",
       "        text-align: right;\n",
       "    }\n",
       "</style>\n",
       "<table border=\"1\" class=\"dataframe\">\n",
       "  <thead>\n",
       "    <tr style=\"text-align: right;\">\n",
       "      <th></th>\n",
       "      <th>fps</th>\n",
       "      <th>fps_hash</th>\n",
       "      <th>device_id</th>\n",
       "      <th>device_vendor</th>\n",
       "      <th>device_name</th>\n",
       "      <th>vendor_cnt</th>\n",
       "      <th>if_anon</th>\n",
       "      <th>if_export</th>\n",
       "      <th>if_rc4</th>\n",
       "      <th>if_rc2</th>\n",
       "      <th>if_des</th>\n",
       "      <th>if_nocipher</th>\n",
       "      <th>if_3des</th>\n",
       "      <th>tls_version</th>\n",
       "      <th>popularity</th>\n",
       "      <th>vul_score</th>\n",
       "    </tr>\n",
       "  </thead>\n",
       "  <tbody>\n",
       "    <tr>\n",
       "      <th>1366</th>\n",
       "      <td>771;53+49199+49171+49172+156+47+158+51+57+49169+10+5+4;65281+10+11+5+13+13172</td>\n",
       "      <td>-2788473907737668210</td>\n",
       "      <td>s9a85ea6ceb</td>\n",
       "      <td>tivo</td>\n",
       "      <td>mini</td>\n",
       "      <td>1</td>\n",
       "      <td>0</td>\n",
       "      <td>0</td>\n",
       "      <td>3</td>\n",
       "      <td>0</td>\n",
       "      <td>0</td>\n",
       "      <td>0</td>\n",
       "      <td>1</td>\n",
       "      <td>771</td>\n",
       "      <td>Exclusive FPS</td>\n",
       "      <td>2</td>\n",
       "    </tr>\n",
       "    <tr>\n",
       "      <th>658</th>\n",
       "      <td>771;52393+49195+49196+52392+49199+49200+49161+49162+49171+49172+156+157+47+53;23+65281+10+11+35+16+5+13</td>\n",
       "      <td>-959768159451643844</td>\n",
       "      <td>see7e2a4e2c</td>\n",
       "      <td>philips</td>\n",
       "      <td>led</td>\n",
       "      <td>2</td>\n",
       "      <td>0</td>\n",
       "      <td>0</td>\n",
       "      <td>0</td>\n",
       "      <td>0</td>\n",
       "      <td>0</td>\n",
       "      <td>0</td>\n",
       "      <td>0</td>\n",
       "      <td>771</td>\n",
       "      <td>Shared FPS</td>\n",
       "      <td>0</td>\n",
       "    </tr>\n",
       "  </tbody>\n",
       "</table>\n",
       "</div>"
      ],
      "text/plain": [
       "                                                                                                          fps  \\\n",
       "1366                            771;53+49199+49171+49172+156+47+158+51+57+49169+10+5+4;65281+10+11+5+13+13172   \n",
       "658   771;52393+49195+49196+52392+49199+49200+49161+49162+49171+49172+156+157+47+53;23+65281+10+11+35+16+5+13   \n",
       "\n",
       "                 fps_hash    device_id device_vendor device_name  vendor_cnt  \\\n",
       "1366 -2788473907737668210  s9a85ea6ceb          tivo        mini           1   \n",
       "658   -959768159451643844  see7e2a4e2c       philips         led           2   \n",
       "\n",
       "      if_anon  if_export  if_rc4  if_rc2  if_des  if_nocipher  if_3des  \\\n",
       "1366        0          0       3       0       0            0        1   \n",
       "658         0          0       0       0       0            0        0   \n",
       "\n",
       "      tls_version     popularity  vul_score  \n",
       "1366          771  Exclusive FPS          2  \n",
       "658           771     Shared FPS          0  "
      ]
     },
     "execution_count": 177,
     "metadata": {},
     "output_type": "execute_result"
    }
   ],
   "source": [
    "fps_data.sample(2)"
   ]
  },
  {
   "cell_type": "code",
   "execution_count": 180,
   "id": "incoming-green",
   "metadata": {},
   "outputs": [],
   "source": [
    "fps_data['ciphersuites'] = fps_data['fps'].apply(lambda x: x.split(\";\")[1])"
   ]
  },
  {
   "cell_type": "code",
   "execution_count": 182,
   "id": "light-greene",
   "metadata": {},
   "outputs": [],
   "source": [
    "fps_ciphersuite47 = fps_data.loc[fps_data['ciphersuites'] == \"47\"]"
   ]
  },
  {
   "cell_type": "code",
   "execution_count": 184,
   "id": "faced-elevation",
   "metadata": {},
   "outputs": [],
   "source": [
    "devid_47 = list(set(fps_ciphersuite47['device_id'].tolist()))"
   ]
  },
  {
   "cell_type": "code",
   "execution_count": 194,
   "id": "copyrighted-joseph",
   "metadata": {},
   "outputs": [
    {
     "data": {
      "text/plain": [
       "327"
      ]
     },
     "execution_count": 194,
     "metadata": {},
     "output_type": "execute_result"
    }
   ],
   "source": [
    "len(devid_47)"
   ]
  },
  {
   "cell_type": "markdown",
   "id": "controlled-coordinate",
   "metadata": {},
   "source": [
    "### Sharing and Customizing; SDK-related Analysis"
   ]
  },
  {
   "cell_type": "code",
   "execution_count": 1000,
   "id": "unlimited-porter",
   "metadata": {},
   "outputs": [],
   "source": [
    "df = pd.read_csv(\"../tmp_data/ciphersuites_withpki.csv\")"
   ]
  },
  {
   "cell_type": "code",
   "execution_count": 1001,
   "id": "informed-language",
   "metadata": {},
   "outputs": [
    {
     "data": {
      "text/plain": [
       "(27442, 33)"
      ]
     },
     "execution_count": 1001,
     "metadata": {},
     "output_type": "execute_result"
    }
   ],
   "source": [
    "df.shape"
   ]
  },
  {
   "cell_type": "code",
   "execution_count": 1002,
   "id": "paperback-success",
   "metadata": {},
   "outputs": [
    {
     "data": {
      "text/plain": [
       "(2014,)"
      ]
     },
     "execution_count": 1002,
     "metadata": {},
     "output_type": "execute_result"
    }
   ],
   "source": [
    "df['device_id'].value_counts().shape"
   ]
  },
  {
   "cell_type": "code",
   "execution_count": 1005,
   "id": "rubber-glossary",
   "metadata": {},
   "outputs": [],
   "source": [
    "import tldextract\n",
    "blocked_domains = set()\n",
    "\n",
    "def parse_blocklist():\n",
    "    with open('hosts-blocklists.txt') as fp:\n",
    "        for line in fp:\n",
    "            if '::' in line:\n",
    "                domain = line.split('/')[1].lower().strip()\n",
    "                if domain:\n",
    "                    blocked_domains.add(domain)\n",
    "\n",
    "parse_blocklist()"
   ]
  },
  {
   "cell_type": "code",
   "execution_count": 1006,
   "id": "coordinated-algorithm",
   "metadata": {},
   "outputs": [],
   "source": [
    "def is_hostname_blocked(sni):\n",
    "    if sni in blocked_domains:\n",
    "        return True\n",
    "    else:\n",
    "        return False"
   ]
  },
  {
   "cell_type": "code",
   "execution_count": 1007,
   "id": "studied-andorra",
   "metadata": {},
   "outputs": [
    {
     "name": "stdout",
     "output_type": "stream",
     "text": [
      "True\n"
     ]
    }
   ],
   "source": [
    "print(is_hostname_blocked('doubleclick.com'))"
   ]
  },
  {
   "cell_type": "code",
   "execution_count": 1008,
   "id": "designing-scheduling",
   "metadata": {},
   "outputs": [],
   "source": [
    "df['if_tracking'] = df['sni'].apply(lambda x: is_hostname_blocked(x))"
   ]
  },
  {
   "cell_type": "code",
   "execution_count": 1009,
   "id": "imposed-award",
   "metadata": {},
   "outputs": [
    {
     "data": {
      "text/plain": [
       "False    27386\n",
       "True        56\n",
       "Name: if_tracking, dtype: int64"
      ]
     },
     "execution_count": 1009,
     "metadata": {},
     "output_type": "execute_result"
    }
   ],
   "source": [
    "df['if_tracking'].value_counts()"
   ]
  },
  {
   "cell_type": "code",
   "execution_count": 1010,
   "id": "multiple-fossil",
   "metadata": {},
   "outputs": [],
   "source": [
    "df['extension_types_x'] = df['extension_types_x'].fillna(\"missing\")"
   ]
  },
  {
   "cell_type": "code",
   "execution_count": 1011,
   "id": "secret-wheat",
   "metadata": {},
   "outputs": [],
   "source": [
    "df['fps'] = df.apply(lambda x: x['cipher_suites'] + \"_\" + x['extension_types_x'] + \\\n",
    "                             \"_\" + str(x['tls_version']), axis=1)"
   ]
  },
  {
   "cell_type": "code",
   "execution_count": 1012,
   "id": "ordered-miniature",
   "metadata": {},
   "outputs": [
    {
     "data": {
      "text/plain": [
       "(423,)"
      ]
     },
     "execution_count": 1012,
     "metadata": {},
     "output_type": "execute_result"
    }
   ],
   "source": [
    "df['fps'].value_counts().shape"
   ]
  },
  {
   "cell_type": "code",
   "execution_count": 1013,
   "id": "secondary-nurse",
   "metadata": {},
   "outputs": [
    {
     "data": {
      "text/plain": [
       "(66,)"
      ]
     },
     "execution_count": 1013,
     "metadata": {},
     "output_type": "execute_result"
    }
   ],
   "source": [
    "df['device_vendor'].value_counts().shape"
   ]
  },
  {
   "cell_type": "code",
   "execution_count": 1014,
   "id": "round-contributor",
   "metadata": {},
   "outputs": [
    {
     "data": {
      "text/plain": [
       "6.82258064516129"
      ]
     },
     "execution_count": 1014,
     "metadata": {},
     "output_type": "execute_result"
    }
   ],
   "source": [
    "423/62"
   ]
  },
  {
   "cell_type": "code",
   "execution_count": 1019,
   "id": "functioning-arrow",
   "metadata": {},
   "outputs": [],
   "source": [
    "df_filter = df.loc[df['device_vendor'] != 'Unknown']"
   ]
  },
  {
   "cell_type": "code",
   "execution_count": 1020,
   "id": "unknown-helen",
   "metadata": {},
   "outputs": [
    {
     "data": {
      "text/html": [
       "<div>\n",
       "<style scoped>\n",
       "    .dataframe tbody tr th:only-of-type {\n",
       "        vertical-align: middle;\n",
       "    }\n",
       "\n",
       "    .dataframe tbody tr th {\n",
       "        vertical-align: top;\n",
       "    }\n",
       "\n",
       "    .dataframe thead th {\n",
       "        text-align: right;\n",
       "    }\n",
       "</style>\n",
       "<table border=\"1\" class=\"dataframe\">\n",
       "  <thead>\n",
       "    <tr style=\"text-align: right;\">\n",
       "      <th></th>\n",
       "      <th>idx</th>\n",
       "      <th>likely_libver</th>\n",
       "      <th>lib_ciphersuites</th>\n",
       "      <th>device_id</th>\n",
       "      <th>cipher_suites</th>\n",
       "      <th>extension_types_x</th>\n",
       "      <th>tls_version</th>\n",
       "      <th>device_vendor</th>\n",
       "      <th>device_name</th>\n",
       "      <th>cipher_code</th>\n",
       "      <th>ciphersuite_len</th>\n",
       "      <th>cipher_code_idxl</th>\n",
       "      <th>cipher_code_hex</th>\n",
       "      <th>updated_hexcodelis</th>\n",
       "      <th>updated_codelis</th>\n",
       "      <th>likely</th>\n",
       "      <th>likely_idx</th>\n",
       "      <th>likely_score</th>\n",
       "      <th>cumulative_agreement</th>\n",
       "      <th>distance_2lib_sim</th>\n",
       "      <th>server_name_indication</th>\n",
       "      <th>response</th>\n",
       "      <th>server_tls_version</th>\n",
       "      <th>if_tls_fallback</th>\n",
       "      <th>cert_chain_len</th>\n",
       "      <th>chain_issuer_O</th>\n",
       "      <th>chain_issuer_CN</th>\n",
       "      <th>chain_subject_O</th>\n",
       "      <th>chain_subject_CN</th>\n",
       "      <th>cert_validity_days</th>\n",
       "      <th>version</th>\n",
       "      <th>extension_types_y</th>\n",
       "      <th>sni</th>\n",
       "      <th>if_tracking</th>\n",
       "      <th>fps</th>\n",
       "    </tr>\n",
       "  </thead>\n",
       "  <tbody>\n",
       "    <tr>\n",
       "      <th>3606</th>\n",
       "      <td>48</td>\n",
       "      <td>curl_7.65.1_(x86_64-pc-linux-gnu)_libcurl/7.65.1_wolfSSL/3.7.1</td>\n",
       "      <td>[49196, 49195, 49200, 49199, 159, 158, 52244, 52243, 52245, 49191, 49187, 49192, 49188, 49162, 49161, 49160, 49172, 49171, 49170, 107, 103, 57, 51]</td>\n",
       "      <td>s19277670e1</td>\n",
       "      <td>49195+49187+49196+49188+49199+49191+49200+49192+255</td>\n",
       "      <td>11+10+13+15+13172+16</td>\n",
       "      <td>771</td>\n",
       "      <td>roku</td>\n",
       "      <td>express</td>\n",
       "      <td>[49195, 49187, 49196, 49188, 49199, 49191, 49200, 49192, 255]</td>\n",
       "      <td>9</td>\n",
       "      <td>['49195:0', '49187:1', '49196:2', '49188:3', '49199:4', '49191:5', '49200:6', '49192:7', '255:8']</td>\n",
       "      <td>['0xc02b', '0xc023', '0xc02c', '0xc024', '0xc02f', '0xc027', '0xc030', '0xc028', '0xff']</td>\n",
       "      <td>['0xc02b', '0xc023', '0xc02c', '0xc024', '0xc02f', '0xc027', '0xc030', '0xc028', '0xff']</td>\n",
       "      <td>[49195, 49187, 49196, 49188, 49199, 49191, 49200, 49192, 255]</td>\n",
       "      <td>[48, 0.32]</td>\n",
       "      <td>48</td>\n",
       "      <td>0.32</td>\n",
       "      <td>[0.0, 0.5, 0.6666666666666666, 0.5, 0.6, 0.5, 0.5714285714285714, 0.5, 0.4444444444444444, 0.5, 0.5714285714285714, 0.6363636363636364, 0.6956521739130435, 0.6666666666666666, 0.64, 0.6153846153846154, 0.5925925925925926, 0.5714285714285714, 0.5517241379310345, 0.5333333333333333, 0.5161290322580645, 0.5, 0.48484848484848486]</td>\n",
       "      <td>3</td>\n",
       "      <td>secure.netflix.com</td>\n",
       "      <td>False</td>\n",
       "      <td>TLS 1.2</td>\n",
       "      <td>False</td>\n",
       "      <td>2</td>\n",
       "      <td>['Netflix' 'VeriSign']</td>\n",
       "      <td>['Netflix Public SHA2 RSA CA 3'\\n 'VeriSign Class 3 Public Primary Certification ']</td>\n",
       "      <td>['Netflix' 'Netflix']</td>\n",
       "      <td>['secure.netflix.com' 'Netflix Public SHA2 RSA CA 3']</td>\n",
       "      <td>31 days 04:41:37</td>\n",
       "      <td>771</td>\n",
       "      <td>0+11+10+13+15+13172+16</td>\n",
       "      <td>secure.netflix.com</td>\n",
       "      <td>False</td>\n",
       "      <td>49195+49187+49196+49188+49199+49191+49200+49192+255_11+10+13+15+13172+16_771</td>\n",
       "    </tr>\n",
       "  </tbody>\n",
       "</table>\n",
       "</div>"
      ],
      "text/plain": [
       "      idx                                                   likely_libver  \\\n",
       "3606   48  curl_7.65.1_(x86_64-pc-linux-gnu)_libcurl/7.65.1_wolfSSL/3.7.1   \n",
       "\n",
       "                                                                                                                                         lib_ciphersuites  \\\n",
       "3606  [49196, 49195, 49200, 49199, 159, 158, 52244, 52243, 52245, 49191, 49187, 49192, 49188, 49162, 49161, 49160, 49172, 49171, 49170, 107, 103, 57, 51]   \n",
       "\n",
       "        device_id                                        cipher_suites  \\\n",
       "3606  s19277670e1  49195+49187+49196+49188+49199+49191+49200+49192+255   \n",
       "\n",
       "         extension_types_x  tls_version device_vendor device_name  \\\n",
       "3606  11+10+13+15+13172+16          771          roku     express   \n",
       "\n",
       "                                                        cipher_code  \\\n",
       "3606  [49195, 49187, 49196, 49188, 49199, 49191, 49200, 49192, 255]   \n",
       "\n",
       "      ciphersuite_len  \\\n",
       "3606                9   \n",
       "\n",
       "                                                                                       cipher_code_idxl  \\\n",
       "3606  ['49195:0', '49187:1', '49196:2', '49188:3', '49199:4', '49191:5', '49200:6', '49192:7', '255:8']   \n",
       "\n",
       "                                                                               cipher_code_hex  \\\n",
       "3606  ['0xc02b', '0xc023', '0xc02c', '0xc024', '0xc02f', '0xc027', '0xc030', '0xc028', '0xff']   \n",
       "\n",
       "                                                                            updated_hexcodelis  \\\n",
       "3606  ['0xc02b', '0xc023', '0xc02c', '0xc024', '0xc02f', '0xc027', '0xc030', '0xc028', '0xff']   \n",
       "\n",
       "                                                    updated_codelis  \\\n",
       "3606  [49195, 49187, 49196, 49188, 49199, 49191, 49200, 49192, 255]   \n",
       "\n",
       "          likely  likely_idx  likely_score  \\\n",
       "3606  [48, 0.32]          48          0.32   \n",
       "\n",
       "                                                                                                                                                                                                                                                                                                                         cumulative_agreement  \\\n",
       "3606  [0.0, 0.5, 0.6666666666666666, 0.5, 0.6, 0.5, 0.5714285714285714, 0.5, 0.4444444444444444, 0.5, 0.5714285714285714, 0.6363636363636364, 0.6956521739130435, 0.6666666666666666, 0.64, 0.6153846153846154, 0.5925925925925926, 0.5714285714285714, 0.5517241379310345, 0.5333333333333333, 0.5161290322580645, 0.5, 0.48484848484848486]   \n",
       "\n",
       "      distance_2lib_sim server_name_indication  response server_tls_version  \\\n",
       "3606                  3     secure.netflix.com     False            TLS 1.2   \n",
       "\n",
       "      if_tls_fallback  cert_chain_len          chain_issuer_O  \\\n",
       "3606            False               2  ['Netflix' 'VeriSign']   \n",
       "\n",
       "                                                                          chain_issuer_CN  \\\n",
       "3606  ['Netflix Public SHA2 RSA CA 3'\\n 'VeriSign Class 3 Public Primary Certification ']   \n",
       "\n",
       "            chain_subject_O  \\\n",
       "3606  ['Netflix' 'Netflix']   \n",
       "\n",
       "                                           chain_subject_CN  \\\n",
       "3606  ['secure.netflix.com' 'Netflix Public SHA2 RSA CA 3']   \n",
       "\n",
       "     cert_validity_days  version       extension_types_y                 sni  \\\n",
       "3606   31 days 04:41:37      771  0+11+10+13+15+13172+16  secure.netflix.com   \n",
       "\n",
       "      if_tracking  \\\n",
       "3606        False   \n",
       "\n",
       "                                                                               fps  \n",
       "3606  49195+49187+49196+49188+49199+49191+49200+49192+255_11+10+13+15+13172+16_771  "
      ]
     },
     "execution_count": 1020,
     "metadata": {},
     "output_type": "execute_result"
    }
   ],
   "source": [
    "df_filter.sample(1)"
   ]
  },
  {
   "cell_type": "code",
   "execution_count": 1021,
   "id": "sound-running",
   "metadata": {},
   "outputs": [
    {
     "data": {
      "text/plain": [
       "(1151,)"
      ]
     },
     "execution_count": 1021,
     "metadata": {},
     "output_type": "execute_result"
    }
   ],
   "source": [
    "df_filter['sni'].value_counts().shape"
   ]
  },
  {
   "cell_type": "code",
   "execution_count": 1022,
   "id": "incredible-still",
   "metadata": {},
   "outputs": [],
   "source": [
    "df_filter['fps'] = df_filter.apply(lambda x: x['cipher_suites'] + \"_\" + x['extension_types_x'] + \\\n",
    "                                              \"_\" + str(x['tls_version']), axis=1)"
   ]
  },
  {
   "cell_type": "code",
   "execution_count": 1023,
   "id": "infrared-galaxy",
   "metadata": {},
   "outputs": [],
   "source": [
    "df_sub = df_filter[['device_id', 'device_name' ,'device_vendor', 'cipher_suites', 'tls_version', 'cipher_code', \\\n",
    "                    'updated_codelis', 'server_name_indication', 'sni', 'fps', 'distance_2lib_sim', 'likely_libver']]"
   ]
  },
  {
   "cell_type": "code",
   "execution_count": 937,
   "id": "secondary-protection",
   "metadata": {},
   "outputs": [],
   "source": [
    "#df_corr = df_filter[['device_id', 'device_name' ,'device_vendor', 'cipher_suites', 'tls_version', 'cipher_code', \\\n",
    "#                    'updated_codelis', 'server_name_indication', 'sni', 'fps', 'response', 'server_tls_version', \\\n",
    "#                     'if_tls_fallback', 'cert_chain_len', 'chain_issuer_O', 'chain_issuer_CN', 'chain_subject_O', \\\n",
    "#                     'chain_subject_CN', 'cert_validity_days']]"
   ]
  },
  {
   "cell_type": "code",
   "execution_count": 1024,
   "id": "designing-refund",
   "metadata": {},
   "outputs": [
    {
     "name": "stderr",
     "output_type": "stream",
     "text": [
      "<ipython-input-1024-f3465da35c76>:1: SettingWithCopyWarning: \n",
      "A value is trying to be set on a copy of a slice from a DataFrame.\n",
      "Try using .loc[row_indexer,col_indexer] = value instead\n",
      "\n",
      "See the caveats in the documentation: https://pandas.pydata.org/pandas-docs/stable/user_guide/indexing.html#returning-a-view-versus-a-copy\n",
      "  df_sub['updated_codelis'] = df_sub['updated_codelis'].apply(lambda x: eval(x))\n"
     ]
    }
   ],
   "source": [
    "df_sub['updated_codelis'] = df_sub['updated_codelis'].apply(lambda x: eval(x))"
   ]
  },
  {
   "cell_type": "code",
   "execution_count": 940,
   "id": "german-wagner",
   "metadata": {},
   "outputs": [],
   "source": [
    "#df_corr['updated_codelis'] = df_corr['updated_codelis'].apply(lambda x: eval(x))"
   ]
  },
  {
   "cell_type": "code",
   "execution_count": 1025,
   "id": "contemporary-format",
   "metadata": {},
   "outputs": [],
   "source": [
    "vulmap = pd.read_csv('../tmp_data/vul_component_mapping.csv')"
   ]
  },
  {
   "cell_type": "code",
   "execution_count": 1026,
   "id": "decimal-vinyl",
   "metadata": {},
   "outputs": [
    {
     "data": {
      "text/html": [
       "<div>\n",
       "<style scoped>\n",
       "    .dataframe tbody tr th:only-of-type {\n",
       "        vertical-align: middle;\n",
       "    }\n",
       "\n",
       "    .dataframe tbody tr th {\n",
       "        vertical-align: top;\n",
       "    }\n",
       "\n",
       "    .dataframe thead th {\n",
       "        text-align: right;\n",
       "    }\n",
       "</style>\n",
       "<table border=\"1\" class=\"dataframe\">\n",
       "  <thead>\n",
       "    <tr style=\"text-align: right;\">\n",
       "      <th></th>\n",
       "      <th>ciphersuite</th>\n",
       "      <th>code</th>\n",
       "      <th>code_base10</th>\n",
       "      <th>cipher_y</th>\n",
       "      <th>key_exchange</th>\n",
       "      <th>mac</th>\n",
       "      <th>cipher</th>\n",
       "      <th>vul_components</th>\n",
       "    </tr>\n",
       "  </thead>\n",
       "  <tbody>\n",
       "    <tr>\n",
       "      <th>87</th>\n",
       "      <td>0x22</td>\n",
       "      <td>0x00,0x22</td>\n",
       "      <td>34</td>\n",
       "      <td>TLS_KRB5_WITH_DES_CBC_MD5</td>\n",
       "      <td>tls_krb5</td>\n",
       "      <td>md5</td>\n",
       "      <td>des_cbc</td>\n",
       "      <td>des</td>\n",
       "    </tr>\n",
       "  </tbody>\n",
       "</table>\n",
       "</div>"
      ],
      "text/plain": [
       "   ciphersuite       code  code_base10                   cipher_y  \\\n",
       "87        0x22  0x00,0x22           34  TLS_KRB5_WITH_DES_CBC_MD5   \n",
       "\n",
       "   key_exchange  mac   cipher vul_components  \n",
       "87     tls_krb5  md5  des_cbc            des  "
      ]
     },
     "execution_count": 1026,
     "metadata": {},
     "output_type": "execute_result"
    }
   ],
   "source": [
    "vulmap.sample(1)"
   ]
  },
  {
   "cell_type": "code",
   "execution_count": 1027,
   "id": "about-contemporary",
   "metadata": {},
   "outputs": [],
   "source": [
    "vulmap['code_base10'] = vulmap['code_base10'].apply(lambda x: str(x))"
   ]
  },
  {
   "cell_type": "code",
   "execution_count": 1028,
   "id": "negative-conviction",
   "metadata": {},
   "outputs": [
    {
     "data": {
      "text/plain": [
       "'des'"
      ]
     },
     "execution_count": 1028,
     "metadata": {},
     "output_type": "execute_result"
    }
   ],
   "source": [
    "vulmap.loc[vulmap['code_base10'] == '15']['vul_components'].item()"
   ]
  },
  {
   "cell_type": "code",
   "execution_count": 1029,
   "id": "hispanic-cement",
   "metadata": {},
   "outputs": [],
   "source": [
    "def find_vulcomp(code_lis):\n",
    "    vul_lis = []\n",
    "    for code in code_lis:\n",
    "        try:\n",
    "            vul_component = vulmap.loc[vulmap['code_base10'] == str(code)]['vul_components'].item()\n",
    "            if vul_component not in vul_lis:\n",
    "                vul_lis.append(vul_component)\n",
    "        except:\n",
    "            continue\n",
    "    if vul_lis:\n",
    "        return \",\".join(vul_lis)\n",
    "    else:\n",
    "        return \"none\""
   ]
  },
  {
   "cell_type": "code",
   "execution_count": 1030,
   "id": "continuing-grant",
   "metadata": {},
   "outputs": [
    {
     "name": "stderr",
     "output_type": "stream",
     "text": [
      "<ipython-input-1030-922977e6bb3c>:1: SettingWithCopyWarning: \n",
      "A value is trying to be set on a copy of a slice from a DataFrame.\n",
      "Try using .loc[row_indexer,col_indexer] = value instead\n",
      "\n",
      "See the caveats in the documentation: https://pandas.pydata.org/pandas-docs/stable/user_guide/indexing.html#returning-a-view-versus-a-copy\n",
      "  df_sub['vul_comp'] = df_sub['updated_codelis'].apply(lambda x: find_vulcomp(x))\n"
     ]
    }
   ],
   "source": [
    "df_sub['vul_comp'] = df_sub['updated_codelis'].apply(lambda x: find_vulcomp(x))"
   ]
  },
  {
   "cell_type": "code",
   "execution_count": 847,
   "id": "through-venue",
   "metadata": {},
   "outputs": [
    {
     "name": "stderr",
     "output_type": "stream",
     "text": [
      "<ipython-input-847-90e093a3a65a>:1: SettingWithCopyWarning: \n",
      "A value is trying to be set on a copy of a slice from a DataFrame.\n",
      "Try using .loc[row_indexer,col_indexer] = value instead\n",
      "\n",
      "See the caveats in the documentation: https://pandas.pydata.org/pandas-docs/stable/user_guide/indexing.html#returning-a-view-versus-a-copy\n",
      "  df_corr['vul_comp'] = df_corr['updated_codelis'].apply(lambda x: find_vulcomp(x))\n"
     ]
    }
   ],
   "source": [
    "#df_corr['vul_comp'] = df_corr['updated_codelis'].apply(lambda x: find_vulcomp(x))"
   ]
  },
  {
   "cell_type": "code",
   "execution_count": 1031,
   "id": "athletic-retail",
   "metadata": {},
   "outputs": [
    {
     "data": {
      "text/plain": [
       "(18831, 13)"
      ]
     },
     "execution_count": 1031,
     "metadata": {},
     "output_type": "execute_result"
    }
   ],
   "source": [
    "df_sub.loc[df_sub['vul_comp'] != 'none'].shape"
   ]
  },
  {
   "cell_type": "code",
   "execution_count": 1032,
   "id": "entertaining-mountain",
   "metadata": {},
   "outputs": [],
   "source": [
    "#df_corr.loc[df_corr['vul_comp'] != 'none'].shape"
   ]
  },
  {
   "cell_type": "code",
   "execution_count": 1033,
   "id": "incorporated-ending",
   "metadata": {},
   "outputs": [
    {
     "name": "stderr",
     "output_type": "stream",
     "text": [
      "<ipython-input-1033-4c20c3f149a2>:1: SettingWithCopyWarning: \n",
      "A value is trying to be set on a copy of a slice from a DataFrame.\n",
      "Try using .loc[row_indexer,col_indexer] = value instead\n",
      "\n",
      "See the caveats in the documentation: https://pandas.pydata.org/pandas-docs/stable/user_guide/indexing.html#returning-a-view-versus-a-copy\n",
      "  df_sub['domain'] = df_sub['sni'].apply(lambda x: tldextract.extract(x).domain + \".\" + \\\n"
     ]
    }
   ],
   "source": [
    "df_sub['domain'] = df_sub['sni'].apply(lambda x: tldextract.extract(x).domain + \".\" + \\\n",
    "                                                 tldextract.extract(x).suffix)"
   ]
  },
  {
   "cell_type": "code",
   "execution_count": 1034,
   "id": "golden-fleece",
   "metadata": {},
   "outputs": [],
   "source": [
    "lib_df = pd.read_csv('../tmp_data/library_fps.csv')"
   ]
  },
  {
   "cell_type": "code",
   "execution_count": 1035,
   "id": "standard-cement",
   "metadata": {},
   "outputs": [
    {
     "data": {
      "text/plain": [
       "(6891, 9)"
      ]
     },
     "execution_count": 1035,
     "metadata": {},
     "output_type": "execute_result"
    }
   ],
   "source": [
    "lib_df.shape"
   ]
  },
  {
   "cell_type": "code",
   "execution_count": 1037,
   "id": "comparable-founder",
   "metadata": {},
   "outputs": [],
   "source": [
    "lib_df['fps'] = lib_df.apply(lambda x: x['cipher_suites'] + \"_\" + x['extension_types'] + \\\n",
    "                                              \"_\" + str(x['tls_version']), axis=1)"
   ]
  },
  {
   "cell_type": "code",
   "execution_count": 1038,
   "id": "international-spirituality",
   "metadata": {},
   "outputs": [],
   "source": [
    "lib_df = lib_df.drop_duplicates(subset=['fps'], keep='last').reset_index().drop(columns='index')"
   ]
  },
  {
   "cell_type": "code",
   "execution_count": 1039,
   "id": "underlying-blackberry",
   "metadata": {},
   "outputs": [],
   "source": [
    "lib_fpslis = lib_df['fps'].tolist()"
   ]
  },
  {
   "cell_type": "code",
   "execution_count": 1040,
   "id": "frequent-problem",
   "metadata": {},
   "outputs": [],
   "source": [
    "df_sub = df_sub.loc[~df_sub['fps'].isin(lib_fpslis)]"
   ]
  },
  {
   "cell_type": "code",
   "execution_count": 957,
   "id": "desirable-driver",
   "metadata": {},
   "outputs": [],
   "source": [
    "#df_corr.to_csv(\"../tmp_data/fps_sni.csv\", index=False)"
   ]
  },
  {
   "cell_type": "code",
   "execution_count": 958,
   "id": "adolescent-stable",
   "metadata": {},
   "outputs": [],
   "source": [
    "#df_sub.to_csv(\"../tmp_data/fps_sharing_customizing.csv\", index=False)"
   ]
  },
  {
   "cell_type": "code",
   "execution_count": 1042,
   "id": "accessible-receiver",
   "metadata": {},
   "outputs": [
    {
     "data": {
      "text/html": [
       "<div>\n",
       "<style scoped>\n",
       "    .dataframe tbody tr th:only-of-type {\n",
       "        vertical-align: middle;\n",
       "    }\n",
       "\n",
       "    .dataframe tbody tr th {\n",
       "        vertical-align: top;\n",
       "    }\n",
       "\n",
       "    .dataframe thead th {\n",
       "        text-align: right;\n",
       "    }\n",
       "</style>\n",
       "<table border=\"1\" class=\"dataframe\">\n",
       "  <thead>\n",
       "    <tr style=\"text-align: right;\">\n",
       "      <th></th>\n",
       "      <th>device_id</th>\n",
       "      <th>device_name</th>\n",
       "      <th>device_vendor</th>\n",
       "      <th>cipher_suites</th>\n",
       "      <th>tls_version</th>\n",
       "      <th>cipher_code</th>\n",
       "      <th>updated_codelis</th>\n",
       "      <th>server_name_indication</th>\n",
       "      <th>sni</th>\n",
       "      <th>fps</th>\n",
       "      <th>distance_2lib_sim</th>\n",
       "      <th>likely_libver</th>\n",
       "      <th>vul_comp</th>\n",
       "      <th>domain</th>\n",
       "    </tr>\n",
       "  </thead>\n",
       "  <tbody>\n",
       "    <tr>\n",
       "      <th>17359</th>\n",
       "      <td>s95ccf22f96</td>\n",
       "      <td>bridge</td>\n",
       "      <td>wink</td>\n",
       "      <td>4867+4865+4866+52393+52392+49195+49199+49196+49200+49171+49172+156+157+47+53+10</td>\n",
       "      <td>771</td>\n",
       "      <td>[4867, 4865, 4866, 52393, 52392, 49195, 49199, 49196, 49200, 49171, 49172, 156, 157, 47, 53, 10]</td>\n",
       "      <td>[4867, 4865, 4866, 52393, 52392, 49195, 49199, 49196, 49200, 49171, 49172, 156, 157, 47, 53, 10]</td>\n",
       "      <td>pi.ispot.tv</td>\n",
       "      <td>pi.ispot.tv</td>\n",
       "      <td>4867+4865+4866+52393+52392+49195+49199+49196+49200+49171+49172+156+157+47+53+10_23+65281+10+11+35+16+5+13+18+51+45+43+27+21_771</td>\n",
       "      <td>4</td>\n",
       "      <td>curl-7.60.076_openssl-1.1.1-pre2</td>\n",
       "      <td>3des</td>\n",
       "      <td>ispot.tv</td>\n",
       "    </tr>\n",
       "  </tbody>\n",
       "</table>\n",
       "</div>"
      ],
      "text/plain": [
       "         device_id device_name device_vendor  \\\n",
       "17359  s95ccf22f96      bridge          wink   \n",
       "\n",
       "                                                                         cipher_suites  \\\n",
       "17359  4867+4865+4866+52393+52392+49195+49199+49196+49200+49171+49172+156+157+47+53+10   \n",
       "\n",
       "       tls_version  \\\n",
       "17359          771   \n",
       "\n",
       "                                                                                            cipher_code  \\\n",
       "17359  [4867, 4865, 4866, 52393, 52392, 49195, 49199, 49196, 49200, 49171, 49172, 156, 157, 47, 53, 10]   \n",
       "\n",
       "                                                                                        updated_codelis  \\\n",
       "17359  [4867, 4865, 4866, 52393, 52392, 49195, 49199, 49196, 49200, 49171, 49172, 156, 157, 47, 53, 10]   \n",
       "\n",
       "      server_name_indication          sni  \\\n",
       "17359            pi.ispot.tv  pi.ispot.tv   \n",
       "\n",
       "                                                                                                                                   fps  \\\n",
       "17359  4867+4865+4866+52393+52392+49195+49199+49196+49200+49171+49172+156+157+47+53+10_23+65281+10+11+35+16+5+13+18+51+45+43+27+21_771   \n",
       "\n",
       "       distance_2lib_sim                     likely_libver vul_comp    domain  \n",
       "17359                  4  curl-7.60.076_openssl-1.1.1-pre2     3des  ispot.tv  "
      ]
     },
     "execution_count": 1042,
     "metadata": {},
     "output_type": "execute_result"
    }
   ],
   "source": [
    "df_sub.sample(1)"
   ]
  },
  {
   "cell_type": "code",
   "execution_count": 1044,
   "id": "egyptian-climb",
   "metadata": {},
   "outputs": [],
   "source": [
    "df_cnt0 = df_sub.groupby(['sni'])['fps'].agg(lambda x: x.nunique())\\\n",
    "                  .reset_index(name='num_fps')"
   ]
  },
  {
   "cell_type": "code",
   "execution_count": 1045,
   "id": "qualified-honey",
   "metadata": {},
   "outputs": [],
   "source": [
    "df_cnt1 = df_sub.groupby(['sni'])['device_id'].agg(lambda x: x.nunique())\\\n",
    "                  .reset_index(name='num_device')"
   ]
  },
  {
   "cell_type": "code",
   "execution_count": 1046,
   "id": "instant-invalid",
   "metadata": {},
   "outputs": [],
   "source": [
    "df_cnt2 = df_sub.groupby(['sni'])['device_vendor'].agg(lambda x: x.nunique())\\\n",
    "                   .reset_index(name='num_device_vendor')"
   ]
  },
  {
   "cell_type": "code",
   "execution_count": 1047,
   "id": "piano-airfare",
   "metadata": {},
   "outputs": [],
   "source": [
    "df_cnt3 = df_sub.groupby(['sni'])['device_vendor'].agg(lambda x: set(x))\\\n",
    "                   .reset_index(name='set_device_vendor')"
   ]
  },
  {
   "cell_type": "code",
   "execution_count": 1048,
   "id": "relevant-student",
   "metadata": {},
   "outputs": [],
   "source": [
    "df_cnt4 = df_sub.groupby(['sni'])['vul_comp'].agg(lambda x: set(x))\\\n",
    "                .reset_index(name='set_vulcomp')"
   ]
  },
  {
   "cell_type": "code",
   "execution_count": 1049,
   "id": "saving-brooks",
   "metadata": {},
   "outputs": [],
   "source": [
    "df_cnt5 = df_sub.groupby(['sni'])['tls_version'].agg(lambda x: set(x))\\\n",
    "                .reset_index(name='set_tlsver')"
   ]
  },
  {
   "cell_type": "code",
   "execution_count": 1050,
   "id": "august-stable",
   "metadata": {},
   "outputs": [],
   "source": [
    "df_cnt_tmp = df_cnt0.merge(df_cnt1, how='inner', on='sni')\n",
    "df_cnt_tmp = df_cnt_tmp.merge(df_cnt2, how='inner', on='sni')\n",
    "df_cnt_tmp = df_cnt_tmp.merge(df_cnt3, how='inner', on='sni')\n",
    "df_cnt_tmp = df_cnt_tmp.merge(df_cnt4, how='inner', on='sni')\n",
    "df_cnt = df_cnt_tmp.merge(df_cnt5, how='inner', on='sni')"
   ]
  },
  {
   "cell_type": "code",
   "execution_count": 1051,
   "id": "designed-investment",
   "metadata": {},
   "outputs": [
    {
     "data": {
      "text/plain": [
       "(1131,)"
      ]
     },
     "execution_count": 1051,
     "metadata": {},
     "output_type": "execute_result"
    }
   ],
   "source": [
    "df_cnt['sni'].value_counts().shape"
   ]
  },
  {
   "cell_type": "code",
   "execution_count": 1052,
   "id": "comparative-subscription",
   "metadata": {},
   "outputs": [
    {
     "data": {
      "text/html": [
       "<div>\n",
       "<style scoped>\n",
       "    .dataframe tbody tr th:only-of-type {\n",
       "        vertical-align: middle;\n",
       "    }\n",
       "\n",
       "    .dataframe tbody tr th {\n",
       "        vertical-align: top;\n",
       "    }\n",
       "\n",
       "    .dataframe thead th {\n",
       "        text-align: right;\n",
       "    }\n",
       "</style>\n",
       "<table border=\"1\" class=\"dataframe\">\n",
       "  <thead>\n",
       "    <tr style=\"text-align: right;\">\n",
       "      <th></th>\n",
       "      <th>sni</th>\n",
       "      <th>num_fps</th>\n",
       "      <th>num_device</th>\n",
       "      <th>num_device_vendor</th>\n",
       "      <th>set_device_vendor</th>\n",
       "      <th>set_vulcomp</th>\n",
       "      <th>set_tlsver</th>\n",
       "    </tr>\n",
       "  </thead>\n",
       "  <tbody>\n",
       "    <tr>\n",
       "      <th>658</th>\n",
       "      <td>match.adsrvr.org</td>\n",
       "      <td>7</td>\n",
       "      <td>8</td>\n",
       "      <td>4</td>\n",
       "      <td>{samsung, cisco, roku, amazon}</td>\n",
       "      <td>{rc,3des, none, 3des}</td>\n",
       "      <td>{771}</td>\n",
       "    </tr>\n",
       "    <tr>\n",
       "      <th>1105</th>\n",
       "      <td>www.gstatic.com</td>\n",
       "      <td>64</td>\n",
       "      <td>230</td>\n",
       "      <td>22</td>\n",
       "      <td>{insignia, vizio, idevices, onkyo, wink, pioneer, lg, amcrest, google, cisco, philips, sharp, samsung, sony, amazon, hp, nvidia, lutron, xiaomi, tivo, ubiquity, roku}</td>\n",
       "      <td>{3des,rc, rc,3des, none, 3des}</td>\n",
       "      <td>{770, 771}</td>\n",
       "    </tr>\n",
       "  </tbody>\n",
       "</table>\n",
       "</div>"
      ],
      "text/plain": [
       "                   sni  num_fps  num_device  num_device_vendor  \\\n",
       "658   match.adsrvr.org        7           8                  4   \n",
       "1105   www.gstatic.com       64         230                 22   \n",
       "\n",
       "                                                                                                                                                           set_device_vendor  \\\n",
       "658                                                                                                                                           {samsung, cisco, roku, amazon}   \n",
       "1105  {insignia, vizio, idevices, onkyo, wink, pioneer, lg, amcrest, google, cisco, philips, sharp, samsung, sony, amazon, hp, nvidia, lutron, xiaomi, tivo, ubiquity, roku}   \n",
       "\n",
       "                         set_vulcomp  set_tlsver  \n",
       "658            {rc,3des, none, 3des}       {771}  \n",
       "1105  {3des,rc, rc,3des, none, 3des}  {770, 771}  "
      ]
     },
     "execution_count": 1052,
     "metadata": {},
     "output_type": "execute_result"
    }
   ],
   "source": [
    "df_cnt.sample(2)"
   ]
  },
  {
   "cell_type": "code",
   "execution_count": 1053,
   "id": "designed-armstrong",
   "metadata": {},
   "outputs": [
    {
     "data": {
      "text/plain": [
       "(207,)"
      ]
     },
     "execution_count": 1053,
     "metadata": {},
     "output_type": "execute_result"
    }
   ],
   "source": [
    "df_cnt.loc[(df_cnt['num_fps'] == 1)]['sni'].value_counts().shape"
   ]
  },
  {
   "cell_type": "code",
   "execution_count": 1054,
   "id": "seasonal-marketing",
   "metadata": {},
   "outputs": [],
   "source": [
    "sdk = df_cnt.loc[(df_cnt['num_fps'] == 1) & (df_cnt['num_device_vendor'] > 1)]"
   ]
  },
  {
   "cell_type": "code",
   "execution_count": 1055,
   "id": "robust-canal",
   "metadata": {},
   "outputs": [
    {
     "data": {
      "text/plain": [
       "(56,)"
      ]
     },
     "execution_count": 1055,
     "metadata": {},
     "output_type": "execute_result"
    }
   ],
   "source": [
    "sdk['sni'].value_counts().shape"
   ]
  },
  {
   "cell_type": "code",
   "execution_count": 1056,
   "id": "lovely-popularity",
   "metadata": {},
   "outputs": [],
   "source": [
    "sdk_snilis = list(set(sdk['sni'].tolist()))"
   ]
  },
  {
   "cell_type": "code",
   "execution_count": 1057,
   "id": "lovely-arthritis",
   "metadata": {},
   "outputs": [
    {
     "name": "stderr",
     "output_type": "stream",
     "text": [
      "<ipython-input-1057-4cfc1f08abe0>:1: SettingWithCopyWarning: \n",
      "A value is trying to be set on a copy of a slice from a DataFrame.\n",
      "Try using .loc[row_indexer,col_indexer] = value instead\n",
      "\n",
      "See the caveats in the documentation: https://pandas.pydata.org/pandas-docs/stable/user_guide/indexing.html#returning-a-view-versus-a-copy\n",
      "  sdk['domain'] = sdk['sni'].apply(lambda x: tldextract.extract(x).domain + \".\" + \\\n"
     ]
    }
   ],
   "source": [
    "sdk['domain'] = sdk['sni'].apply(lambda x: tldextract.extract(x).domain + \".\" + \\\n",
    "                                                 tldextract.extract(x).suffix)"
   ]
  },
  {
   "cell_type": "code",
   "execution_count": 1058,
   "id": "wired-insight",
   "metadata": {},
   "outputs": [],
   "source": [
    "sdk_domlis = list(set(sdk['domain'].tolist()))"
   ]
  },
  {
   "cell_type": "code",
   "execution_count": 1061,
   "id": "sacred-butterfly",
   "metadata": {},
   "outputs": [
    {
     "data": {
      "text/plain": [
       "27"
      ]
     },
     "execution_count": 1061,
     "metadata": {},
     "output_type": "execute_result"
    }
   ],
   "source": [
    "len(sdk_domlis)"
   ]
  },
  {
   "cell_type": "code",
   "execution_count": 1064,
   "id": "dangerous-springer",
   "metadata": {},
   "outputs": [],
   "source": [
    "df_numdev = df_sub.groupby(['sni', 'fps', 'device_vendor'])['device_id'].agg(lambda x: x.nunique()).reset_index(name='num_dev')"
   ]
  },
  {
   "cell_type": "code",
   "execution_count": 1065,
   "id": "amber-latin",
   "metadata": {},
   "outputs": [],
   "source": [
    "df_numdev['domain'] = df_numdev['sni'].apply(lambda x: tldextract.extract(x).domain + \".\" + \\\n",
    "                                                 tldextract.extract(x).suffix)"
   ]
  },
  {
   "cell_type": "code",
   "execution_count": 1153,
   "id": "curious-ridge",
   "metadata": {},
   "outputs": [],
   "source": [
    "df_fpstmp0 = df_sub.loc[df_sub['sni'].isin(sdk_snilis)].groupby(['domain', 'fps'])['device_id'].agg(lambda x: x.nunique()).reset_index(name='num_device')"
   ]
  },
  {
   "cell_type": "code",
   "execution_count": 1154,
   "id": "continental-executive",
   "metadata": {},
   "outputs": [],
   "source": [
    "df_fpstmp1 = df_sub.loc[df_sub['sni'].isin(sdk_snilis)].groupby(['domain', 'fps'])['device_vendor'].agg(lambda x: set(x)).reset_index(name='set_vendor')"
   ]
  },
  {
   "cell_type": "code",
   "execution_count": 1156,
   "id": "motivated-faith",
   "metadata": {},
   "outputs": [],
   "source": [
    "df_fpstmp2 = df_sub.loc[df_sub['sni'].isin(sdk_snilis)].groupby(['domain', 'fps'])['vul_comp'].agg(lambda x: set(x)).reset_index(name='set_vulcomp')"
   ]
  },
  {
   "cell_type": "code",
   "execution_count": 1157,
   "id": "known-headset",
   "metadata": {},
   "outputs": [],
   "source": [
    "df_fpstmp = df_fpstmp0.merge(df_fpstmp1, how='inner', on=['domain', 'fps'])\n",
    "df_fpstmp = df_fpstmp.merge(df_fpstmp2, how='inner', on=['domain', 'fps'])"
   ]
  },
  {
   "cell_type": "code",
   "execution_count": 1159,
   "id": "rolled-payroll",
   "metadata": {},
   "outputs": [
    {
     "data": {
      "text/html": [
       "<div>\n",
       "<style scoped>\n",
       "    .dataframe tbody tr th:only-of-type {\n",
       "        vertical-align: middle;\n",
       "    }\n",
       "\n",
       "    .dataframe tbody tr th {\n",
       "        vertical-align: top;\n",
       "    }\n",
       "\n",
       "    .dataframe thead th {\n",
       "        text-align: right;\n",
       "    }\n",
       "</style>\n",
       "<table border=\"1\" class=\"dataframe\">\n",
       "  <thead>\n",
       "    <tr style=\"text-align: right;\">\n",
       "      <th></th>\n",
       "      <th>domain</th>\n",
       "      <th>num_device</th>\n",
       "      <th>set_vendor</th>\n",
       "      <th>set_vulcomp</th>\n",
       "    </tr>\n",
       "  </thead>\n",
       "  <tbody>\n",
       "    <tr>\n",
       "      <th>0</th>\n",
       "      <td>amazonmusic.com</td>\n",
       "      <td>3</td>\n",
       "      <td>{sonos, google, amazon}</td>\n",
       "      <td>{none}</td>\n",
       "    </tr>\n",
       "    <tr>\n",
       "      <th>1</th>\n",
       "      <td>arlo.com</td>\n",
       "      <td>13</td>\n",
       "      <td>{arlo, netgear}</td>\n",
       "      <td>{none}</td>\n",
       "    </tr>\n",
       "    <tr>\n",
       "      <th>2</th>\n",
       "      <td>cast4.audio</td>\n",
       "      <td>7</td>\n",
       "      <td>{pioneer, onkyo}</td>\n",
       "      <td>{3des}</td>\n",
       "    </tr>\n",
       "    <tr>\n",
       "      <th>3</th>\n",
       "      <td>datadoghq.com</td>\n",
       "      <td>6</td>\n",
       "      <td>{sense, texas instruments}</td>\n",
       "      <td>{none}</td>\n",
       "    </tr>\n",
       "    <tr>\n",
       "      <th>4</th>\n",
       "      <td>demdex.net</td>\n",
       "      <td>3</td>\n",
       "      <td>{roku, tcl}</td>\n",
       "      <td>{rc,3des}</td>\n",
       "    </tr>\n",
       "    <tr>\n",
       "      <th>5</th>\n",
       "      <td>dtvce.com</td>\n",
       "      <td>3</td>\n",
       "      <td>{samsung, directv, humax}</td>\n",
       "      <td>{none}</td>\n",
       "    </tr>\n",
       "    <tr>\n",
       "      <th>6</th>\n",
       "      <td>googleapis.com</td>\n",
       "      <td>6</td>\n",
       "      <td>{sony, nvidia}</td>\n",
       "      <td>{none}</td>\n",
       "    </tr>\n",
       "    <tr>\n",
       "      <th>7</th>\n",
       "      <td>googleusercontent.com</td>\n",
       "      <td>3</td>\n",
       "      <td>{sony, nvidia}</td>\n",
       "      <td>{none}</td>\n",
       "    </tr>\n",
       "    <tr>\n",
       "      <th>8</th>\n",
       "      <td>hdhomerun.com</td>\n",
       "      <td>8</td>\n",
       "      <td>{hdhomerun, silicondust}</td>\n",
       "      <td>{none}</td>\n",
       "    </tr>\n",
       "    <tr>\n",
       "      <th>9</th>\n",
       "      <td>hulu.com</td>\n",
       "      <td>3</td>\n",
       "      <td>{roku, tcl}</td>\n",
       "      <td>{rc,3des}</td>\n",
       "    </tr>\n",
       "    <tr>\n",
       "      <th>10</th>\n",
       "      <td>instagram.com</td>\n",
       "      <td>3</td>\n",
       "      <td>{google, cisco}</td>\n",
       "      <td>{none}</td>\n",
       "    </tr>\n",
       "    <tr>\n",
       "      <th>11</th>\n",
       "      <td>mgo-images.com</td>\n",
       "      <td>37</td>\n",
       "      <td>{insignia, roku, tcl, sharp}</td>\n",
       "      <td>{rc,3des}</td>\n",
       "    </tr>\n",
       "    <tr>\n",
       "      <th>12</th>\n",
       "      <td>mgo.com</td>\n",
       "      <td>37</td>\n",
       "      <td>{insignia, roku, tcl, sharp}</td>\n",
       "      <td>{rc,3des}</td>\n",
       "    </tr>\n",
       "    <tr>\n",
       "      <th>13</th>\n",
       "      <td>microsoft.com</td>\n",
       "      <td>4</td>\n",
       "      <td>{lutron, xiaomi, hp}</td>\n",
       "      <td>{3des}</td>\n",
       "    </tr>\n",
       "    <tr>\n",
       "      <th>14</th>\n",
       "      <td>netgear.com</td>\n",
       "      <td>4</td>\n",
       "      <td>{arlo, netgear}</td>\n",
       "      <td>{none}</td>\n",
       "    </tr>\n",
       "    <tr>\n",
       "      <th>15</th>\n",
       "      <td>nflximg.net</td>\n",
       "      <td>5</td>\n",
       "      <td>{samsung, nvidia, amazon}</td>\n",
       "      <td>{none}</td>\n",
       "    </tr>\n",
       "    <tr>\n",
       "      <th>16</th>\n",
       "      <td>nflxvideo.net</td>\n",
       "      <td>6</td>\n",
       "      <td>{lg, nvidia, amazon}</td>\n",
       "      <td>{none}</td>\n",
       "    </tr>\n",
       "    <tr>\n",
       "      <th>17</th>\n",
       "      <td>pandora.com</td>\n",
       "      <td>8</td>\n",
       "      <td>{sonos, amazon}</td>\n",
       "      <td>{none}</td>\n",
       "    </tr>\n",
       "    <tr>\n",
       "      <th>18</th>\n",
       "      <td>ravm.tv</td>\n",
       "      <td>36</td>\n",
       "      <td>{insignia, roku, tcl, sharp}</td>\n",
       "      <td>{rc,3des}</td>\n",
       "    </tr>\n",
       "    <tr>\n",
       "      <th>19</th>\n",
       "      <td>roku.com</td>\n",
       "      <td>120</td>\n",
       "      <td>{insignia, tcl, brother, sharp, roku, cisco}</td>\n",
       "      <td>{rc,3des}</td>\n",
       "    </tr>\n",
       "    <tr>\n",
       "      <th>20</th>\n",
       "      <td>roku.com</td>\n",
       "      <td>32</td>\n",
       "      <td>{insignia, tcl, brother, sharp, roku}</td>\n",
       "      <td>{3des}</td>\n",
       "    </tr>\n",
       "    <tr>\n",
       "      <th>21</th>\n",
       "      <td>samsung.com</td>\n",
       "      <td>6</td>\n",
       "      <td>{samsung, xiaomi, google, cisco}</td>\n",
       "      <td>{none}</td>\n",
       "    </tr>\n",
       "    <tr>\n",
       "      <th>22</th>\n",
       "      <td>samsungcloudsolution.com</td>\n",
       "      <td>3</td>\n",
       "      <td>{samsung, netatmo}</td>\n",
       "      <td>{rc,3des}</td>\n",
       "    </tr>\n",
       "    <tr>\n",
       "      <th>23</th>\n",
       "      <td>samsungcloudsolution.com</td>\n",
       "      <td>3</td>\n",
       "      <td>{samsung, netatmo}</td>\n",
       "      <td>{3des,rc,des}</td>\n",
       "    </tr>\n",
       "    <tr>\n",
       "      <th>24</th>\n",
       "      <td>sense.com</td>\n",
       "      <td>6</td>\n",
       "      <td>{sense, texas instruments}</td>\n",
       "      <td>{none}</td>\n",
       "    </tr>\n",
       "    <tr>\n",
       "      <th>25</th>\n",
       "      <td>skyegloup.com</td>\n",
       "      <td>11</td>\n",
       "      <td>{marantz, denon}</td>\n",
       "      <td>{3des}</td>\n",
       "    </tr>\n",
       "    <tr>\n",
       "      <th>26</th>\n",
       "      <td>sonos.com</td>\n",
       "      <td>76</td>\n",
       "      <td>{ikea, sonos, google, amazon}</td>\n",
       "      <td>{none}</td>\n",
       "    </tr>\n",
       "    <tr>\n",
       "      <th>27</th>\n",
       "      <td>synology.com</td>\n",
       "      <td>18</td>\n",
       "      <td>{synology, lg}</td>\n",
       "      <td>{rc,3des}</td>\n",
       "    </tr>\n",
       "    <tr>\n",
       "      <th>28</th>\n",
       "      <td>vizio.com</td>\n",
       "      <td>4</td>\n",
       "      <td>{wink, vizio}</td>\n",
       "      <td>{none}</td>\n",
       "    </tr>\n",
       "  </tbody>\n",
       "</table>\n",
       "</div>"
      ],
      "text/plain": [
       "                      domain  num_device  \\\n",
       "0            amazonmusic.com           3   \n",
       "1                   arlo.com          13   \n",
       "2                cast4.audio           7   \n",
       "3              datadoghq.com           6   \n",
       "4                 demdex.net           3   \n",
       "5                  dtvce.com           3   \n",
       "6             googleapis.com           6   \n",
       "7      googleusercontent.com           3   \n",
       "8              hdhomerun.com           8   \n",
       "9                   hulu.com           3   \n",
       "10             instagram.com           3   \n",
       "11            mgo-images.com          37   \n",
       "12                   mgo.com          37   \n",
       "13             microsoft.com           4   \n",
       "14               netgear.com           4   \n",
       "15               nflximg.net           5   \n",
       "16             nflxvideo.net           6   \n",
       "17               pandora.com           8   \n",
       "18                   ravm.tv          36   \n",
       "19                  roku.com         120   \n",
       "20                  roku.com          32   \n",
       "21               samsung.com           6   \n",
       "22  samsungcloudsolution.com           3   \n",
       "23  samsungcloudsolution.com           3   \n",
       "24                 sense.com           6   \n",
       "25             skyegloup.com          11   \n",
       "26                 sonos.com          76   \n",
       "27              synology.com          18   \n",
       "28                 vizio.com           4   \n",
       "\n",
       "                                      set_vendor    set_vulcomp  \n",
       "0                        {sonos, google, amazon}         {none}  \n",
       "1                                {arlo, netgear}         {none}  \n",
       "2                               {pioneer, onkyo}         {3des}  \n",
       "3                     {sense, texas instruments}         {none}  \n",
       "4                                    {roku, tcl}      {rc,3des}  \n",
       "5                      {samsung, directv, humax}         {none}  \n",
       "6                                 {sony, nvidia}         {none}  \n",
       "7                                 {sony, nvidia}         {none}  \n",
       "8                       {hdhomerun, silicondust}         {none}  \n",
       "9                                    {roku, tcl}      {rc,3des}  \n",
       "10                               {google, cisco}         {none}  \n",
       "11                  {insignia, roku, tcl, sharp}      {rc,3des}  \n",
       "12                  {insignia, roku, tcl, sharp}      {rc,3des}  \n",
       "13                          {lutron, xiaomi, hp}         {3des}  \n",
       "14                               {arlo, netgear}         {none}  \n",
       "15                     {samsung, nvidia, amazon}         {none}  \n",
       "16                          {lg, nvidia, amazon}         {none}  \n",
       "17                               {sonos, amazon}         {none}  \n",
       "18                  {insignia, roku, tcl, sharp}      {rc,3des}  \n",
       "19  {insignia, tcl, brother, sharp, roku, cisco}      {rc,3des}  \n",
       "20         {insignia, tcl, brother, sharp, roku}         {3des}  \n",
       "21              {samsung, xiaomi, google, cisco}         {none}  \n",
       "22                            {samsung, netatmo}      {rc,3des}  \n",
       "23                            {samsung, netatmo}  {3des,rc,des}  \n",
       "24                    {sense, texas instruments}         {none}  \n",
       "25                              {marantz, denon}         {3des}  \n",
       "26                 {ikea, sonos, google, amazon}         {none}  \n",
       "27                                {synology, lg}      {rc,3des}  \n",
       "28                                 {wink, vizio}         {none}  "
      ]
     },
     "execution_count": 1159,
     "metadata": {},
     "output_type": "execute_result"
    }
   ],
   "source": [
    "df_fpstmp[['domain', 'num_device', 'set_vendor', 'set_vulcomp']]"
   ]
  },
  {
   "cell_type": "code",
   "execution_count": null,
   "id": "broadband-mailing",
   "metadata": {},
   "outputs": [],
   "source": []
  },
  {
   "cell_type": "code",
   "execution_count": null,
   "id": "bizarre-anchor",
   "metadata": {},
   "outputs": [],
   "source": []
  },
  {
   "cell_type": "code",
   "execution_count": null,
   "id": "identical-medicare",
   "metadata": {},
   "outputs": [],
   "source": []
  },
  {
   "cell_type": "markdown",
   "id": "explicit-residence",
   "metadata": {},
   "source": [
    "#### Vendors with num_dev == 1 visiting SNI with certain FP"
   ]
  },
  {
   "cell_type": "code",
   "execution_count": 1069,
   "id": "hidden-southeast",
   "metadata": {},
   "outputs": [
    {
     "data": {
      "text/html": [
       "<div>\n",
       "<style scoped>\n",
       "    .dataframe tbody tr th:only-of-type {\n",
       "        vertical-align: middle;\n",
       "    }\n",
       "\n",
       "    .dataframe tbody tr th {\n",
       "        vertical-align: top;\n",
       "    }\n",
       "\n",
       "    .dataframe thead th {\n",
       "        text-align: right;\n",
       "    }\n",
       "</style>\n",
       "<table border=\"1\" class=\"dataframe\">\n",
       "  <thead>\n",
       "    <tr style=\"text-align: right;\">\n",
       "      <th></th>\n",
       "      <th>domain</th>\n",
       "      <th>set_vendor</th>\n",
       "    </tr>\n",
       "  </thead>\n",
       "  <tbody>\n",
       "    <tr>\n",
       "      <th>0</th>\n",
       "      <td>amazonmusic.com</td>\n",
       "      <td>{sonos, google, amazon}</td>\n",
       "    </tr>\n",
       "    <tr>\n",
       "      <th>1</th>\n",
       "      <td>datadoghq.com</td>\n",
       "      <td>{texas instruments}</td>\n",
       "    </tr>\n",
       "    <tr>\n",
       "      <th>2</th>\n",
       "      <td>demdex.net</td>\n",
       "      <td>{tcl}</td>\n",
       "    </tr>\n",
       "    <tr>\n",
       "      <th>3</th>\n",
       "      <td>dtvce.com</td>\n",
       "      <td>{samsung, directv, humax}</td>\n",
       "    </tr>\n",
       "    <tr>\n",
       "      <th>4</th>\n",
       "      <td>googleusercontent.com</td>\n",
       "      <td>{nvidia}</td>\n",
       "    </tr>\n",
       "    <tr>\n",
       "      <th>5</th>\n",
       "      <td>hdhomerun.com</td>\n",
       "      <td>{hdhomerun}</td>\n",
       "    </tr>\n",
       "    <tr>\n",
       "      <th>6</th>\n",
       "      <td>hulu.com</td>\n",
       "      <td>{tcl}</td>\n",
       "    </tr>\n",
       "    <tr>\n",
       "      <th>7</th>\n",
       "      <td>instagram.com</td>\n",
       "      <td>{cisco}</td>\n",
       "    </tr>\n",
       "    <tr>\n",
       "      <th>8</th>\n",
       "      <td>mgo-images.com</td>\n",
       "      <td>{insignia, sharp}</td>\n",
       "    </tr>\n",
       "    <tr>\n",
       "      <th>9</th>\n",
       "      <td>mgo.com</td>\n",
       "      <td>{insignia}</td>\n",
       "    </tr>\n",
       "    <tr>\n",
       "      <th>10</th>\n",
       "      <td>microsoft.com</td>\n",
       "      <td>{lutron, xiaomi}</td>\n",
       "    </tr>\n",
       "    <tr>\n",
       "      <th>11</th>\n",
       "      <td>netgear.com</td>\n",
       "      <td>{arlo}</td>\n",
       "    </tr>\n",
       "    <tr>\n",
       "      <th>12</th>\n",
       "      <td>nflximg.net</td>\n",
       "      <td>{samsung, nvidia}</td>\n",
       "    </tr>\n",
       "    <tr>\n",
       "      <th>13</th>\n",
       "      <td>nflxvideo.net</td>\n",
       "      <td>{lg, nvidia, amazon}</td>\n",
       "    </tr>\n",
       "    <tr>\n",
       "      <th>14</th>\n",
       "      <td>ravm.tv</td>\n",
       "      <td>{sharp}</td>\n",
       "    </tr>\n",
       "    <tr>\n",
       "      <th>15</th>\n",
       "      <td>roku.com</td>\n",
       "      <td>{insignia, brother, roku, sharp, tcl, cisco}</td>\n",
       "    </tr>\n",
       "    <tr>\n",
       "      <th>16</th>\n",
       "      <td>samsung.com</td>\n",
       "      <td>{samsung, xiaomi, google, cisco}</td>\n",
       "    </tr>\n",
       "    <tr>\n",
       "      <th>17</th>\n",
       "      <td>samsungcloudsolution.com</td>\n",
       "      <td>{netatmo}</td>\n",
       "    </tr>\n",
       "    <tr>\n",
       "      <th>18</th>\n",
       "      <td>sense.com</td>\n",
       "      <td>{texas instruments}</td>\n",
       "    </tr>\n",
       "    <tr>\n",
       "      <th>19</th>\n",
       "      <td>skyegloup.com</td>\n",
       "      <td>{marantz}</td>\n",
       "    </tr>\n",
       "    <tr>\n",
       "      <th>20</th>\n",
       "      <td>sonos.com</td>\n",
       "      <td>{ikea, google, amazon}</td>\n",
       "    </tr>\n",
       "    <tr>\n",
       "      <th>21</th>\n",
       "      <td>synology.com</td>\n",
       "      <td>{lg}</td>\n",
       "    </tr>\n",
       "    <tr>\n",
       "      <th>22</th>\n",
       "      <td>vizio.com</td>\n",
       "      <td>{wink}</td>\n",
       "    </tr>\n",
       "  </tbody>\n",
       "</table>\n",
       "</div>"
      ],
      "text/plain": [
       "                      domain                                    set_vendor\n",
       "0            amazonmusic.com                       {sonos, google, amazon}\n",
       "1              datadoghq.com                           {texas instruments}\n",
       "2                 demdex.net                                         {tcl}\n",
       "3                  dtvce.com                     {samsung, directv, humax}\n",
       "4      googleusercontent.com                                      {nvidia}\n",
       "5              hdhomerun.com                                   {hdhomerun}\n",
       "6                   hulu.com                                         {tcl}\n",
       "7              instagram.com                                       {cisco}\n",
       "8             mgo-images.com                             {insignia, sharp}\n",
       "9                    mgo.com                                    {insignia}\n",
       "10             microsoft.com                              {lutron, xiaomi}\n",
       "11               netgear.com                                        {arlo}\n",
       "12               nflximg.net                             {samsung, nvidia}\n",
       "13             nflxvideo.net                          {lg, nvidia, amazon}\n",
       "14                   ravm.tv                                       {sharp}\n",
       "15                  roku.com  {insignia, brother, roku, sharp, tcl, cisco}\n",
       "16               samsung.com              {samsung, xiaomi, google, cisco}\n",
       "17  samsungcloudsolution.com                                     {netatmo}\n",
       "18                 sense.com                           {texas instruments}\n",
       "19             skyegloup.com                                     {marantz}\n",
       "20                 sonos.com                        {ikea, google, amazon}\n",
       "21              synology.com                                          {lg}\n",
       "22                 vizio.com                                        {wink}"
      ]
     },
     "execution_count": 1069,
     "metadata": {},
     "output_type": "execute_result"
    }
   ],
   "source": [
    "df_numdev.loc[(df_numdev['sni'].isin(sdk_snilis)) & \\\n",
    "              (df_numdev['num_dev'] == 1)].groupby(['domain'])['device_vendor'].agg(lambda x: set(x)).reset_index(name='set_vendor')"
   ]
  },
  {
   "cell_type": "code",
   "execution_count": 1071,
   "id": "southwest-plymouth",
   "metadata": {},
   "outputs": [],
   "source": [
    "df_sdk = df_sub.loc[df_sub['sni'].isin(sdk_snilis)][['sni', 'fps', 'domain']]"
   ]
  },
  {
   "cell_type": "code",
   "execution_count": 1072,
   "id": "inside-shipping",
   "metadata": {},
   "outputs": [],
   "source": [
    "df_sdk_dropdup = df_sdk.drop_duplicates(subset=['sni', 'fps'])"
   ]
  },
  {
   "cell_type": "code",
   "execution_count": 1073,
   "id": "continued-south",
   "metadata": {},
   "outputs": [
    {
     "data": {
      "text/plain": [
       "(56, 3)"
      ]
     },
     "execution_count": 1073,
     "metadata": {},
     "output_type": "execute_result"
    }
   ],
   "source": [
    "df_sdk_dropdup.shape"
   ]
  },
  {
   "cell_type": "code",
   "execution_count": 1139,
   "id": "female-silence",
   "metadata": {},
   "outputs": [],
   "source": [
    "df_merge = sdk.merge(df_sdk_dropdup, how='inner', on=['sni', 'domain'])"
   ]
  },
  {
   "cell_type": "code",
   "execution_count": 1141,
   "id": "boolean-render",
   "metadata": {},
   "outputs": [
    {
     "data": {
      "text/html": [
       "<div>\n",
       "<style scoped>\n",
       "    .dataframe tbody tr th:only-of-type {\n",
       "        vertical-align: middle;\n",
       "    }\n",
       "\n",
       "    .dataframe tbody tr th {\n",
       "        vertical-align: top;\n",
       "    }\n",
       "\n",
       "    .dataframe thead th {\n",
       "        text-align: right;\n",
       "    }\n",
       "</style>\n",
       "<table border=\"1\" class=\"dataframe\">\n",
       "  <thead>\n",
       "    <tr style=\"text-align: right;\">\n",
       "      <th></th>\n",
       "      <th>domain</th>\n",
       "      <th>set_vulcomp</th>\n",
       "      <th>set_tlsver</th>\n",
       "    </tr>\n",
       "  </thead>\n",
       "  <tbody>\n",
       "    <tr>\n",
       "      <th>47</th>\n",
       "      <td>amazonmusic.com</td>\n",
       "      <td>{none}</td>\n",
       "      <td>{771}</td>\n",
       "    </tr>\n",
       "    <tr>\n",
       "      <th>2</th>\n",
       "      <td>arlo.com</td>\n",
       "      <td>{none}</td>\n",
       "      <td>{771}</td>\n",
       "    </tr>\n",
       "    <tr>\n",
       "      <th>36</th>\n",
       "      <td>arlo.com</td>\n",
       "      <td>{none}</td>\n",
       "      <td>{771}</td>\n",
       "    </tr>\n",
       "    <tr>\n",
       "      <th>31</th>\n",
       "      <td>cast4.audio</td>\n",
       "      <td>{3des}</td>\n",
       "      <td>{771}</td>\n",
       "    </tr>\n",
       "    <tr>\n",
       "      <th>1</th>\n",
       "      <td>datadoghq.com</td>\n",
       "      <td>{none}</td>\n",
       "      <td>{771}</td>\n",
       "    </tr>\n",
       "    <tr>\n",
       "      <th>52</th>\n",
       "      <td>demdex.net</td>\n",
       "      <td>{rc,3des}</td>\n",
       "      <td>{771}</td>\n",
       "    </tr>\n",
       "    <tr>\n",
       "      <th>9</th>\n",
       "      <td>dtvce.com</td>\n",
       "      <td>{none}</td>\n",
       "      <td>{771}</td>\n",
       "    </tr>\n",
       "    <tr>\n",
       "      <th>40</th>\n",
       "      <td>googleapis.com</td>\n",
       "      <td>{none}</td>\n",
       "      <td>{771}</td>\n",
       "    </tr>\n",
       "    <tr>\n",
       "      <th>38</th>\n",
       "      <td>googleusercontent.com</td>\n",
       "      <td>{none}</td>\n",
       "      <td>{771}</td>\n",
       "    </tr>\n",
       "    <tr>\n",
       "      <th>33</th>\n",
       "      <td>hdhomerun.com</td>\n",
       "      <td>{none}</td>\n",
       "      <td>{771}</td>\n",
       "    </tr>\n",
       "    <tr>\n",
       "      <th>51</th>\n",
       "      <td>hdhomerun.com</td>\n",
       "      <td>{none}</td>\n",
       "      <td>{771}</td>\n",
       "    </tr>\n",
       "    <tr>\n",
       "      <th>20</th>\n",
       "      <td>hulu.com</td>\n",
       "      <td>{rc,3des}</td>\n",
       "      <td>{771}</td>\n",
       "    </tr>\n",
       "    <tr>\n",
       "      <th>21</th>\n",
       "      <td>instagram.com</td>\n",
       "      <td>{none}</td>\n",
       "      <td>{771}</td>\n",
       "    </tr>\n",
       "    <tr>\n",
       "      <th>7</th>\n",
       "      <td>mgo-images.com</td>\n",
       "      <td>{rc,3des}</td>\n",
       "      <td>{771}</td>\n",
       "    </tr>\n",
       "    <tr>\n",
       "      <th>8</th>\n",
       "      <td>mgo-images.com</td>\n",
       "      <td>{rc,3des}</td>\n",
       "      <td>{771}</td>\n",
       "    </tr>\n",
       "    <tr>\n",
       "      <th>5</th>\n",
       "      <td>mgo.com</td>\n",
       "      <td>{rc,3des}</td>\n",
       "      <td>{771}</td>\n",
       "    </tr>\n",
       "    <tr>\n",
       "      <th>54</th>\n",
       "      <td>mgo.com</td>\n",
       "      <td>{rc,3des}</td>\n",
       "      <td>{771}</td>\n",
       "    </tr>\n",
       "    <tr>\n",
       "      <th>32</th>\n",
       "      <td>microsoft.com</td>\n",
       "      <td>{3des}</td>\n",
       "      <td>{771}</td>\n",
       "    </tr>\n",
       "    <tr>\n",
       "      <th>10</th>\n",
       "      <td>microsoft.com</td>\n",
       "      <td>{3des}</td>\n",
       "      <td>{771}</td>\n",
       "    </tr>\n",
       "    <tr>\n",
       "      <th>53</th>\n",
       "      <td>netgear.com</td>\n",
       "      <td>{none}</td>\n",
       "      <td>{771}</td>\n",
       "    </tr>\n",
       "    <tr>\n",
       "      <th>3</th>\n",
       "      <td>nflximg.net</td>\n",
       "      <td>{none}</td>\n",
       "      <td>{771}</td>\n",
       "    </tr>\n",
       "    <tr>\n",
       "      <th>24</th>\n",
       "      <td>nflxvideo.net</td>\n",
       "      <td>{none}</td>\n",
       "      <td>{771}</td>\n",
       "    </tr>\n",
       "    <tr>\n",
       "      <th>23</th>\n",
       "      <td>nflxvideo.net</td>\n",
       "      <td>{none}</td>\n",
       "      <td>{771}</td>\n",
       "    </tr>\n",
       "    <tr>\n",
       "      <th>26</th>\n",
       "      <td>nflxvideo.net</td>\n",
       "      <td>{none}</td>\n",
       "      <td>{771}</td>\n",
       "    </tr>\n",
       "    <tr>\n",
       "      <th>25</th>\n",
       "      <td>nflxvideo.net</td>\n",
       "      <td>{none}</td>\n",
       "      <td>{771}</td>\n",
       "    </tr>\n",
       "    <tr>\n",
       "      <th>22</th>\n",
       "      <td>nflxvideo.net</td>\n",
       "      <td>{none}</td>\n",
       "      <td>{771}</td>\n",
       "    </tr>\n",
       "    <tr>\n",
       "      <th>48</th>\n",
       "      <td>pandora.com</td>\n",
       "      <td>{none}</td>\n",
       "      <td>{771}</td>\n",
       "    </tr>\n",
       "    <tr>\n",
       "      <th>14</th>\n",
       "      <td>ravm.tv</td>\n",
       "      <td>{rc,3des}</td>\n",
       "      <td>{771}</td>\n",
       "    </tr>\n",
       "    <tr>\n",
       "      <th>34</th>\n",
       "      <td>roku.com</td>\n",
       "      <td>{3des}</td>\n",
       "      <td>{771}</td>\n",
       "    </tr>\n",
       "    <tr>\n",
       "      <th>0</th>\n",
       "      <td>roku.com</td>\n",
       "      <td>{rc,3des}</td>\n",
       "      <td>{771}</td>\n",
       "    </tr>\n",
       "    <tr>\n",
       "      <th>50</th>\n",
       "      <td>roku.com</td>\n",
       "      <td>{3des}</td>\n",
       "      <td>{771}</td>\n",
       "    </tr>\n",
       "    <tr>\n",
       "      <th>35</th>\n",
       "      <td>roku.com</td>\n",
       "      <td>{3des}</td>\n",
       "      <td>{771}</td>\n",
       "    </tr>\n",
       "    <tr>\n",
       "      <th>44</th>\n",
       "      <td>roku.com</td>\n",
       "      <td>{rc,3des}</td>\n",
       "      <td>{771}</td>\n",
       "    </tr>\n",
       "    <tr>\n",
       "      <th>55</th>\n",
       "      <td>roku.com</td>\n",
       "      <td>{rc,3des}</td>\n",
       "      <td>{771}</td>\n",
       "    </tr>\n",
       "    <tr>\n",
       "      <th>29</th>\n",
       "      <td>roku.com</td>\n",
       "      <td>{3des}</td>\n",
       "      <td>{771}</td>\n",
       "    </tr>\n",
       "    <tr>\n",
       "      <th>28</th>\n",
       "      <td>roku.com</td>\n",
       "      <td>{rc,3des}</td>\n",
       "      <td>{771}</td>\n",
       "    </tr>\n",
       "    <tr>\n",
       "      <th>19</th>\n",
       "      <td>roku.com</td>\n",
       "      <td>{rc,3des}</td>\n",
       "      <td>{771}</td>\n",
       "    </tr>\n",
       "    <tr>\n",
       "      <th>4</th>\n",
       "      <td>roku.com</td>\n",
       "      <td>{rc,3des}</td>\n",
       "      <td>{771}</td>\n",
       "    </tr>\n",
       "    <tr>\n",
       "      <th>11</th>\n",
       "      <td>roku.com</td>\n",
       "      <td>{rc,3des}</td>\n",
       "      <td>{771}</td>\n",
       "    </tr>\n",
       "    <tr>\n",
       "      <th>12</th>\n",
       "      <td>roku.com</td>\n",
       "      <td>{rc,3des}</td>\n",
       "      <td>{771}</td>\n",
       "    </tr>\n",
       "    <tr>\n",
       "      <th>13</th>\n",
       "      <td>roku.com</td>\n",
       "      <td>{3des}</td>\n",
       "      <td>{771}</td>\n",
       "    </tr>\n",
       "    <tr>\n",
       "      <th>30</th>\n",
       "      <td>roku.com</td>\n",
       "      <td>{3des}</td>\n",
       "      <td>{771}</td>\n",
       "    </tr>\n",
       "    <tr>\n",
       "      <th>15</th>\n",
       "      <td>samsung.com</td>\n",
       "      <td>{none}</td>\n",
       "      <td>{771}</td>\n",
       "    </tr>\n",
       "    <tr>\n",
       "      <th>16</th>\n",
       "      <td>samsung.com</td>\n",
       "      <td>{none}</td>\n",
       "      <td>{771}</td>\n",
       "    </tr>\n",
       "    <tr>\n",
       "      <th>18</th>\n",
       "      <td>samsungcloudsolution.com</td>\n",
       "      <td>{rc,3des}</td>\n",
       "      <td>{769}</td>\n",
       "    </tr>\n",
       "    <tr>\n",
       "      <th>43</th>\n",
       "      <td>samsungcloudsolution.com</td>\n",
       "      <td>{3des,rc,des}</td>\n",
       "      <td>{769}</td>\n",
       "    </tr>\n",
       "    <tr>\n",
       "      <th>37</th>\n",
       "      <td>sense.com</td>\n",
       "      <td>{none}</td>\n",
       "      <td>{771}</td>\n",
       "    </tr>\n",
       "    <tr>\n",
       "      <th>42</th>\n",
       "      <td>skyegloup.com</td>\n",
       "      <td>{3des}</td>\n",
       "      <td>{771}</td>\n",
       "    </tr>\n",
       "    <tr>\n",
       "      <th>41</th>\n",
       "      <td>skyegloup.com</td>\n",
       "      <td>{3des}</td>\n",
       "      <td>{771}</td>\n",
       "    </tr>\n",
       "    <tr>\n",
       "      <th>46</th>\n",
       "      <td>sonos.com</td>\n",
       "      <td>{none}</td>\n",
       "      <td>{771}</td>\n",
       "    </tr>\n",
       "    <tr>\n",
       "      <th>17</th>\n",
       "      <td>sonos.com</td>\n",
       "      <td>{none}</td>\n",
       "      <td>{771}</td>\n",
       "    </tr>\n",
       "    <tr>\n",
       "      <th>49</th>\n",
       "      <td>sonos.com</td>\n",
       "      <td>{none}</td>\n",
       "      <td>{771}</td>\n",
       "    </tr>\n",
       "    <tr>\n",
       "      <th>39</th>\n",
       "      <td>sonos.com</td>\n",
       "      <td>{none}</td>\n",
       "      <td>{771}</td>\n",
       "    </tr>\n",
       "    <tr>\n",
       "      <th>27</th>\n",
       "      <td>sonos.com</td>\n",
       "      <td>{none}</td>\n",
       "      <td>{771}</td>\n",
       "    </tr>\n",
       "    <tr>\n",
       "      <th>6</th>\n",
       "      <td>synology.com</td>\n",
       "      <td>{rc,3des}</td>\n",
       "      <td>{771}</td>\n",
       "    </tr>\n",
       "    <tr>\n",
       "      <th>45</th>\n",
       "      <td>vizio.com</td>\n",
       "      <td>{none}</td>\n",
       "      <td>{771}</td>\n",
       "    </tr>\n",
       "  </tbody>\n",
       "</table>\n",
       "</div>"
      ],
      "text/plain": [
       "                      domain    set_vulcomp set_tlsver\n",
       "47           amazonmusic.com         {none}      {771}\n",
       "2                   arlo.com         {none}      {771}\n",
       "36                  arlo.com         {none}      {771}\n",
       "31               cast4.audio         {3des}      {771}\n",
       "1              datadoghq.com         {none}      {771}\n",
       "52                demdex.net      {rc,3des}      {771}\n",
       "9                  dtvce.com         {none}      {771}\n",
       "40            googleapis.com         {none}      {771}\n",
       "38     googleusercontent.com         {none}      {771}\n",
       "33             hdhomerun.com         {none}      {771}\n",
       "51             hdhomerun.com         {none}      {771}\n",
       "20                  hulu.com      {rc,3des}      {771}\n",
       "21             instagram.com         {none}      {771}\n",
       "7             mgo-images.com      {rc,3des}      {771}\n",
       "8             mgo-images.com      {rc,3des}      {771}\n",
       "5                    mgo.com      {rc,3des}      {771}\n",
       "54                   mgo.com      {rc,3des}      {771}\n",
       "32             microsoft.com         {3des}      {771}\n",
       "10             microsoft.com         {3des}      {771}\n",
       "53               netgear.com         {none}      {771}\n",
       "3                nflximg.net         {none}      {771}\n",
       "24             nflxvideo.net         {none}      {771}\n",
       "23             nflxvideo.net         {none}      {771}\n",
       "26             nflxvideo.net         {none}      {771}\n",
       "25             nflxvideo.net         {none}      {771}\n",
       "22             nflxvideo.net         {none}      {771}\n",
       "48               pandora.com         {none}      {771}\n",
       "14                   ravm.tv      {rc,3des}      {771}\n",
       "34                  roku.com         {3des}      {771}\n",
       "0                   roku.com      {rc,3des}      {771}\n",
       "50                  roku.com         {3des}      {771}\n",
       "35                  roku.com         {3des}      {771}\n",
       "44                  roku.com      {rc,3des}      {771}\n",
       "55                  roku.com      {rc,3des}      {771}\n",
       "29                  roku.com         {3des}      {771}\n",
       "28                  roku.com      {rc,3des}      {771}\n",
       "19                  roku.com      {rc,3des}      {771}\n",
       "4                   roku.com      {rc,3des}      {771}\n",
       "11                  roku.com      {rc,3des}      {771}\n",
       "12                  roku.com      {rc,3des}      {771}\n",
       "13                  roku.com         {3des}      {771}\n",
       "30                  roku.com         {3des}      {771}\n",
       "15               samsung.com         {none}      {771}\n",
       "16               samsung.com         {none}      {771}\n",
       "18  samsungcloudsolution.com      {rc,3des}      {769}\n",
       "43  samsungcloudsolution.com  {3des,rc,des}      {769}\n",
       "37                 sense.com         {none}      {771}\n",
       "42             skyegloup.com         {3des}      {771}\n",
       "41             skyegloup.com         {3des}      {771}\n",
       "46                 sonos.com         {none}      {771}\n",
       "17                 sonos.com         {none}      {771}\n",
       "49                 sonos.com         {none}      {771}\n",
       "39                 sonos.com         {none}      {771}\n",
       "27                 sonos.com         {none}      {771}\n",
       "6               synology.com      {rc,3des}      {771}\n",
       "45                 vizio.com         {none}      {771}"
      ]
     },
     "execution_count": 1141,
     "metadata": {},
     "output_type": "execute_result"
    }
   ],
   "source": [
    "df_merge[['domain', 'set_vulcomp', 'set_tlsver']].sort_values(by='domain')"
   ]
  },
  {
   "cell_type": "code",
   "execution_count": 1085,
   "id": "minimal-unknown",
   "metadata": {},
   "outputs": [],
   "source": [
    "df_sdktemp1 = df_sdk_dropdup.groupby(['fps'])['domain'].agg(lambda x: set(x)).reset_index(name='samefps_domain_set')"
   ]
  },
  {
   "cell_type": "code",
   "execution_count": 1086,
   "id": "guided-louis",
   "metadata": {},
   "outputs": [],
   "source": [
    "df_sdktemp2 = df_sdk_dropdup.groupby(['fps'])['sni'].agg(lambda x: x.nunique()).reset_index(name='samefps_num_sni')"
   ]
  },
  {
   "cell_type": "code",
   "execution_count": 1087,
   "id": "republican-variance",
   "metadata": {},
   "outputs": [],
   "source": [
    "df_sdktemp_merge = df_sdktemp1.merge(df_sdktemp2, how='inner', on='fps')"
   ]
  },
  {
   "cell_type": "code",
   "execution_count": 1088,
   "id": "convinced-papua",
   "metadata": {},
   "outputs": [
    {
     "data": {
      "text/html": [
       "<div>\n",
       "<style scoped>\n",
       "    .dataframe tbody tr th:only-of-type {\n",
       "        vertical-align: middle;\n",
       "    }\n",
       "\n",
       "    .dataframe tbody tr th {\n",
       "        vertical-align: top;\n",
       "    }\n",
       "\n",
       "    .dataframe thead th {\n",
       "        text-align: right;\n",
       "    }\n",
       "</style>\n",
       "<table border=\"1\" class=\"dataframe\">\n",
       "  <thead>\n",
       "    <tr style=\"text-align: right;\">\n",
       "      <th></th>\n",
       "      <th>samefps_domain_set</th>\n",
       "      <th>samefps_num_sni</th>\n",
       "    </tr>\n",
       "  </thead>\n",
       "  <tbody>\n",
       "    <tr>\n",
       "      <th>0</th>\n",
       "      <td>{hdhomerun.com}</td>\n",
       "      <td>2</td>\n",
       "    </tr>\n",
       "    <tr>\n",
       "      <th>15</th>\n",
       "      <td>{sonos.com, pandora.com, amazonmusic.com}</td>\n",
       "      <td>7</td>\n",
       "    </tr>\n",
       "    <tr>\n",
       "      <th>14</th>\n",
       "      <td>{vizio.com}</td>\n",
       "      <td>1</td>\n",
       "    </tr>\n",
       "    <tr>\n",
       "      <th>13</th>\n",
       "      <td>{roku.com}</td>\n",
       "      <td>6</td>\n",
       "    </tr>\n",
       "    <tr>\n",
       "      <th>12</th>\n",
       "      <td>{hulu.com, mgo.com, mgo-images.com, roku.com, ravm.tv, demdex.net}</td>\n",
       "      <td>15</td>\n",
       "    </tr>\n",
       "    <tr>\n",
       "      <th>11</th>\n",
       "      <td>{synology.com}</td>\n",
       "      <td>1</td>\n",
       "    </tr>\n",
       "    <tr>\n",
       "      <th>10</th>\n",
       "      <td>{arlo.com, netgear.com}</td>\n",
       "      <td>3</td>\n",
       "    </tr>\n",
       "    <tr>\n",
       "      <th>9</th>\n",
       "      <td>{skyegloup.com}</td>\n",
       "      <td>2</td>\n",
       "    </tr>\n",
       "    <tr>\n",
       "      <th>8</th>\n",
       "      <td>{microsoft.com}</td>\n",
       "      <td>2</td>\n",
       "    </tr>\n",
       "    <tr>\n",
       "      <th>7</th>\n",
       "      <td>{googleusercontent.com, googleapis.com}</td>\n",
       "      <td>2</td>\n",
       "    </tr>\n",
       "    <tr>\n",
       "      <th>6</th>\n",
       "      <td>{samsung.com}</td>\n",
       "      <td>2</td>\n",
       "    </tr>\n",
       "    <tr>\n",
       "      <th>5</th>\n",
       "      <td>{cast4.audio}</td>\n",
       "      <td>1</td>\n",
       "    </tr>\n",
       "    <tr>\n",
       "      <th>4</th>\n",
       "      <td>{nflxvideo.net, nflximg.net}</td>\n",
       "      <td>6</td>\n",
       "    </tr>\n",
       "    <tr>\n",
       "      <th>3</th>\n",
       "      <td>{dtvce.com}</td>\n",
       "      <td>1</td>\n",
       "    </tr>\n",
       "    <tr>\n",
       "      <th>2</th>\n",
       "      <td>{sense.com, datadoghq.com}</td>\n",
       "      <td>2</td>\n",
       "    </tr>\n",
       "    <tr>\n",
       "      <th>1</th>\n",
       "      <td>{instagram.com}</td>\n",
       "      <td>1</td>\n",
       "    </tr>\n",
       "    <tr>\n",
       "      <th>16</th>\n",
       "      <td>{samsungcloudsolution.com}</td>\n",
       "      <td>1</td>\n",
       "    </tr>\n",
       "    <tr>\n",
       "      <th>17</th>\n",
       "      <td>{samsungcloudsolution.com}</td>\n",
       "      <td>1</td>\n",
       "    </tr>\n",
       "  </tbody>\n",
       "</table>\n",
       "</div>"
      ],
      "text/plain": [
       "                                                    samefps_domain_set  \\\n",
       "0                                                      {hdhomerun.com}   \n",
       "15                           {sonos.com, pandora.com, amazonmusic.com}   \n",
       "14                                                         {vizio.com}   \n",
       "13                                                          {roku.com}   \n",
       "12  {hulu.com, mgo.com, mgo-images.com, roku.com, ravm.tv, demdex.net}   \n",
       "11                                                      {synology.com}   \n",
       "10                                             {arlo.com, netgear.com}   \n",
       "9                                                      {skyegloup.com}   \n",
       "8                                                      {microsoft.com}   \n",
       "7                              {googleusercontent.com, googleapis.com}   \n",
       "6                                                        {samsung.com}   \n",
       "5                                                        {cast4.audio}   \n",
       "4                                         {nflxvideo.net, nflximg.net}   \n",
       "3                                                          {dtvce.com}   \n",
       "2                                           {sense.com, datadoghq.com}   \n",
       "1                                                      {instagram.com}   \n",
       "16                                          {samsungcloudsolution.com}   \n",
       "17                                          {samsungcloudsolution.com}   \n",
       "\n",
       "    samefps_num_sni  \n",
       "0                 2  \n",
       "15                7  \n",
       "14                1  \n",
       "13                6  \n",
       "12               15  \n",
       "11                1  \n",
       "10                3  \n",
       "9                 2  \n",
       "8                 2  \n",
       "7                 2  \n",
       "6                 2  \n",
       "5                 1  \n",
       "4                 6  \n",
       "3                 1  \n",
       "2                 2  \n",
       "1                 1  \n",
       "16                1  \n",
       "17                1  "
      ]
     },
     "execution_count": 1088,
     "metadata": {},
     "output_type": "execute_result"
    }
   ],
   "source": [
    "df_sdktemp_merge[['samefps_domain_set', 'samefps_num_sni']].sort_values(by='samefps_domain_set', ascending=True)"
   ]
  },
  {
   "cell_type": "code",
   "execution_count": 1094,
   "id": "outstanding-indonesia",
   "metadata": {},
   "outputs": [],
   "source": [
    "df_domtmp = df_sub.loc[df_sub['sni'].isin(sdk_snilis)]"
   ]
  },
  {
   "cell_type": "code",
   "execution_count": 1160,
   "id": "smooth-graphics",
   "metadata": {},
   "outputs": [],
   "source": [
    "df_domdev = df_domtmp.groupby(['domain', 'fps'])['device_id'].agg(lambda x: x.nunique()).reset_index(name='num_dev')"
   ]
  },
  {
   "cell_type": "code",
   "execution_count": 1162,
   "id": "natural-russell",
   "metadata": {},
   "outputs": [
    {
     "data": {
      "text/html": [
       "<div>\n",
       "<style scoped>\n",
       "    .dataframe tbody tr th:only-of-type {\n",
       "        vertical-align: middle;\n",
       "    }\n",
       "\n",
       "    .dataframe tbody tr th {\n",
       "        vertical-align: top;\n",
       "    }\n",
       "\n",
       "    .dataframe thead th {\n",
       "        text-align: right;\n",
       "    }\n",
       "</style>\n",
       "<table border=\"1\" class=\"dataframe\">\n",
       "  <thead>\n",
       "    <tr style=\"text-align: right;\">\n",
       "      <th></th>\n",
       "      <th>domain</th>\n",
       "      <th>num_dev</th>\n",
       "    </tr>\n",
       "  </thead>\n",
       "  <tbody>\n",
       "    <tr>\n",
       "      <th>0</th>\n",
       "      <td>amazonmusic.com</td>\n",
       "      <td>3</td>\n",
       "    </tr>\n",
       "    <tr>\n",
       "      <th>1</th>\n",
       "      <td>arlo.com</td>\n",
       "      <td>13</td>\n",
       "    </tr>\n",
       "    <tr>\n",
       "      <th>2</th>\n",
       "      <td>cast4.audio</td>\n",
       "      <td>7</td>\n",
       "    </tr>\n",
       "    <tr>\n",
       "      <th>3</th>\n",
       "      <td>datadoghq.com</td>\n",
       "      <td>6</td>\n",
       "    </tr>\n",
       "    <tr>\n",
       "      <th>4</th>\n",
       "      <td>demdex.net</td>\n",
       "      <td>3</td>\n",
       "    </tr>\n",
       "    <tr>\n",
       "      <th>5</th>\n",
       "      <td>dtvce.com</td>\n",
       "      <td>3</td>\n",
       "    </tr>\n",
       "    <tr>\n",
       "      <th>6</th>\n",
       "      <td>googleapis.com</td>\n",
       "      <td>6</td>\n",
       "    </tr>\n",
       "    <tr>\n",
       "      <th>7</th>\n",
       "      <td>googleusercontent.com</td>\n",
       "      <td>3</td>\n",
       "    </tr>\n",
       "    <tr>\n",
       "      <th>8</th>\n",
       "      <td>hdhomerun.com</td>\n",
       "      <td>8</td>\n",
       "    </tr>\n",
       "    <tr>\n",
       "      <th>9</th>\n",
       "      <td>hulu.com</td>\n",
       "      <td>3</td>\n",
       "    </tr>\n",
       "    <tr>\n",
       "      <th>10</th>\n",
       "      <td>instagram.com</td>\n",
       "      <td>3</td>\n",
       "    </tr>\n",
       "    <tr>\n",
       "      <th>11</th>\n",
       "      <td>mgo-images.com</td>\n",
       "      <td>37</td>\n",
       "    </tr>\n",
       "    <tr>\n",
       "      <th>12</th>\n",
       "      <td>mgo.com</td>\n",
       "      <td>37</td>\n",
       "    </tr>\n",
       "    <tr>\n",
       "      <th>13</th>\n",
       "      <td>microsoft.com</td>\n",
       "      <td>4</td>\n",
       "    </tr>\n",
       "    <tr>\n",
       "      <th>14</th>\n",
       "      <td>netgear.com</td>\n",
       "      <td>4</td>\n",
       "    </tr>\n",
       "    <tr>\n",
       "      <th>15</th>\n",
       "      <td>nflximg.net</td>\n",
       "      <td>5</td>\n",
       "    </tr>\n",
       "    <tr>\n",
       "      <th>16</th>\n",
       "      <td>nflxvideo.net</td>\n",
       "      <td>6</td>\n",
       "    </tr>\n",
       "    <tr>\n",
       "      <th>17</th>\n",
       "      <td>pandora.com</td>\n",
       "      <td>8</td>\n",
       "    </tr>\n",
       "    <tr>\n",
       "      <th>18</th>\n",
       "      <td>ravm.tv</td>\n",
       "      <td>36</td>\n",
       "    </tr>\n",
       "    <tr>\n",
       "      <th>19</th>\n",
       "      <td>roku.com</td>\n",
       "      <td>120</td>\n",
       "    </tr>\n",
       "    <tr>\n",
       "      <th>20</th>\n",
       "      <td>roku.com</td>\n",
       "      <td>32</td>\n",
       "    </tr>\n",
       "    <tr>\n",
       "      <th>21</th>\n",
       "      <td>samsung.com</td>\n",
       "      <td>6</td>\n",
       "    </tr>\n",
       "    <tr>\n",
       "      <th>22</th>\n",
       "      <td>samsungcloudsolution.com</td>\n",
       "      <td>3</td>\n",
       "    </tr>\n",
       "    <tr>\n",
       "      <th>23</th>\n",
       "      <td>samsungcloudsolution.com</td>\n",
       "      <td>3</td>\n",
       "    </tr>\n",
       "    <tr>\n",
       "      <th>24</th>\n",
       "      <td>sense.com</td>\n",
       "      <td>6</td>\n",
       "    </tr>\n",
       "    <tr>\n",
       "      <th>25</th>\n",
       "      <td>skyegloup.com</td>\n",
       "      <td>11</td>\n",
       "    </tr>\n",
       "    <tr>\n",
       "      <th>26</th>\n",
       "      <td>sonos.com</td>\n",
       "      <td>76</td>\n",
       "    </tr>\n",
       "    <tr>\n",
       "      <th>27</th>\n",
       "      <td>synology.com</td>\n",
       "      <td>18</td>\n",
       "    </tr>\n",
       "    <tr>\n",
       "      <th>28</th>\n",
       "      <td>vizio.com</td>\n",
       "      <td>4</td>\n",
       "    </tr>\n",
       "  </tbody>\n",
       "</table>\n",
       "</div>"
      ],
      "text/plain": [
       "                      domain  num_dev\n",
       "0            amazonmusic.com        3\n",
       "1                   arlo.com       13\n",
       "2                cast4.audio        7\n",
       "3              datadoghq.com        6\n",
       "4                 demdex.net        3\n",
       "5                  dtvce.com        3\n",
       "6             googleapis.com        6\n",
       "7      googleusercontent.com        3\n",
       "8              hdhomerun.com        8\n",
       "9                   hulu.com        3\n",
       "10             instagram.com        3\n",
       "11            mgo-images.com       37\n",
       "12                   mgo.com       37\n",
       "13             microsoft.com        4\n",
       "14               netgear.com        4\n",
       "15               nflximg.net        5\n",
       "16             nflxvideo.net        6\n",
       "17               pandora.com        8\n",
       "18                   ravm.tv       36\n",
       "19                  roku.com      120\n",
       "20                  roku.com       32\n",
       "21               samsung.com        6\n",
       "22  samsungcloudsolution.com        3\n",
       "23  samsungcloudsolution.com        3\n",
       "24                 sense.com        6\n",
       "25             skyegloup.com       11\n",
       "26                 sonos.com       76\n",
       "27              synology.com       18\n",
       "28                 vizio.com        4"
      ]
     },
     "execution_count": 1162,
     "metadata": {},
     "output_type": "execute_result"
    }
   ],
   "source": [
    "df_domdev[['domain', 'num_dev']]"
   ]
  },
  {
   "cell_type": "code",
   "execution_count": 1163,
   "id": "beneficial-intelligence",
   "metadata": {},
   "outputs": [],
   "source": [
    "df_vendor1dev = df_sub.loc[(df_sub['sni'].isin(sdk_snilis))].groupby(['domain', 'fps', 'device_vendor'])['device_id']\\\n",
    "                      .agg(lambda x: x.nunique()).reset_index(name='num_dev')"
   ]
  },
  {
   "cell_type": "code",
   "execution_count": 1117,
   "id": "prospective-legislation",
   "metadata": {},
   "outputs": [
    {
     "data": {
      "text/plain": [
       "s95ccf22f96    1\n",
       "Name: device_id, dtype: int64"
      ]
     },
     "execution_count": 1117,
     "metadata": {},
     "output_type": "execute_result"
    }
   ],
   "source": [
    "df_sub.loc[(df_sub['sni'].isin(sdk_snilis)) & \\\n",
    "           (df_sub['domain'] == \"vizio.com\") & \\\n",
    "           (df_sub['device_vendor'] == \"wink\")]['device_id'].value_counts()"
   ]
  },
  {
   "cell_type": "code",
   "execution_count": 1167,
   "id": "surprising-interest",
   "metadata": {},
   "outputs": [
    {
     "data": {
      "text/html": [
       "<div>\n",
       "<style scoped>\n",
       "    .dataframe tbody tr th:only-of-type {\n",
       "        vertical-align: middle;\n",
       "    }\n",
       "\n",
       "    .dataframe tbody tr th {\n",
       "        vertical-align: top;\n",
       "    }\n",
       "\n",
       "    .dataframe thead th {\n",
       "        text-align: right;\n",
       "    }\n",
       "</style>\n",
       "<table border=\"1\" class=\"dataframe\">\n",
       "  <thead>\n",
       "    <tr style=\"text-align: right;\">\n",
       "      <th></th>\n",
       "      <th>domain</th>\n",
       "      <th>fps</th>\n",
       "      <th>device_vendor</th>\n",
       "      <th>num_dev</th>\n",
       "    </tr>\n",
       "  </thead>\n",
       "  <tbody>\n",
       "    <tr>\n",
       "      <th>50</th>\n",
       "      <td>roku.com</td>\n",
       "      <td>49200+49196+49192+49188+49172+49162+165+163+161+159+107+106+105+104+57+56+55+54+136+135+134+133+49202+49198+49194+49190+49167+49157+157+61+53+132+49199+49195+49191+49187+49171+49161+164+162+160+158+103+64+63+62+51+50+49+48+154+153+152+151+69+68+67+66+49201+49197+49193+49189+49166+49156+156+60+47+150+65+49169+49159+49164+49154+5+49170+49160+22+19+16+13+49165+49155+10+255_11+10+13+15+13172+16+21_771</td>\n",
       "      <td>cisco</td>\n",
       "      <td>1</td>\n",
       "    </tr>\n",
       "    <tr>\n",
       "      <th>55</th>\n",
       "      <td>roku.com</td>\n",
       "      <td>49200+49196+49192+49188+49172+49162+165+163+161+159+107+106+105+104+57+56+55+54+136+135+134+133+49202+49198+49194+49190+49167+49157+157+61+53+132+49199+49195+49191+49187+49171+49161+164+162+160+158+103+64+63+62+51+50+49+48+69+68+67+66+49201+49197+49193+49189+49166+49156+156+60+47+65+49170+49160+22+19+16+13+49165+49155+10+255_11+10+35+13+15_771</td>\n",
       "      <td>brother</td>\n",
       "      <td>1</td>\n",
       "    </tr>\n",
       "    <tr>\n",
       "      <th>56</th>\n",
       "      <td>roku.com</td>\n",
       "      <td>49200+49196+49192+49188+49172+49162+165+163+161+159+107+106+105+104+57+56+55+54+136+135+134+133+49202+49198+49194+49190+49167+49157+157+61+53+132+49199+49195+49191+49187+49171+49161+164+162+160+158+103+64+63+62+51+50+49+48+69+68+67+66+49201+49197+49193+49189+49166+49156+156+60+47+65+49170+49160+22+19+16+13+49165+49155+10+255_11+10+35+13+15_771</td>\n",
       "      <td>insignia</td>\n",
       "      <td>1</td>\n",
       "    </tr>\n",
       "    <tr>\n",
       "      <th>58</th>\n",
       "      <td>roku.com</td>\n",
       "      <td>49200+49196+49192+49188+49172+49162+165+163+161+159+107+106+105+104+57+56+55+54+136+135+134+133+49202+49198+49194+49190+49167+49157+157+61+53+132+49199+49195+49191+49187+49171+49161+164+162+160+158+103+64+63+62+51+50+49+48+69+68+67+66+49201+49197+49193+49189+49166+49156+156+60+47+65+49170+49160+22+19+16+13+49165+49155+10+255_11+10+35+13+15_771</td>\n",
       "      <td>sharp</td>\n",
       "      <td>1</td>\n",
       "    </tr>\n",
       "  </tbody>\n",
       "</table>\n",
       "</div>"
      ],
      "text/plain": [
       "      domain  \\\n",
       "50  roku.com   \n",
       "55  roku.com   \n",
       "56  roku.com   \n",
       "58  roku.com   \n",
       "\n",
       "                                                                                                                                                                                                                                                                                                                                                                                                                 fps  \\\n",
       "50  49200+49196+49192+49188+49172+49162+165+163+161+159+107+106+105+104+57+56+55+54+136+135+134+133+49202+49198+49194+49190+49167+49157+157+61+53+132+49199+49195+49191+49187+49171+49161+164+162+160+158+103+64+63+62+51+50+49+48+154+153+152+151+69+68+67+66+49201+49197+49193+49189+49166+49156+156+60+47+150+65+49169+49159+49164+49154+5+49170+49160+22+19+16+13+49165+49155+10+255_11+10+13+15+13172+16+21_771   \n",
       "55                                                         49200+49196+49192+49188+49172+49162+165+163+161+159+107+106+105+104+57+56+55+54+136+135+134+133+49202+49198+49194+49190+49167+49157+157+61+53+132+49199+49195+49191+49187+49171+49161+164+162+160+158+103+64+63+62+51+50+49+48+69+68+67+66+49201+49197+49193+49189+49166+49156+156+60+47+65+49170+49160+22+19+16+13+49165+49155+10+255_11+10+35+13+15_771   \n",
       "56                                                         49200+49196+49192+49188+49172+49162+165+163+161+159+107+106+105+104+57+56+55+54+136+135+134+133+49202+49198+49194+49190+49167+49157+157+61+53+132+49199+49195+49191+49187+49171+49161+164+162+160+158+103+64+63+62+51+50+49+48+69+68+67+66+49201+49197+49193+49189+49166+49156+156+60+47+65+49170+49160+22+19+16+13+49165+49155+10+255_11+10+35+13+15_771   \n",
       "58                                                         49200+49196+49192+49188+49172+49162+165+163+161+159+107+106+105+104+57+56+55+54+136+135+134+133+49202+49198+49194+49190+49167+49157+157+61+53+132+49199+49195+49191+49187+49171+49161+164+162+160+158+103+64+63+62+51+50+49+48+69+68+67+66+49201+49197+49193+49189+49166+49156+156+60+47+65+49170+49160+22+19+16+13+49165+49155+10+255_11+10+35+13+15_771   \n",
       "\n",
       "   device_vendor  num_dev  \n",
       "50         cisco        1  \n",
       "55       brother        1  \n",
       "56      insignia        1  \n",
       "58         sharp        1  "
      ]
     },
     "execution_count": 1167,
     "metadata": {},
     "output_type": "execute_result"
    }
   ],
   "source": [
    "df_vendor1dev.loc[(df_vendor1dev['num_dev'] == 1) & (df_vendor1dev['domain'] == 'roku.com')]"
   ]
  },
  {
   "cell_type": "code",
   "execution_count": 1174,
   "id": "enabling-consciousness",
   "metadata": {},
   "outputs": [
    {
     "data": {
      "text/html": [
       "<div>\n",
       "<style scoped>\n",
       "    .dataframe tbody tr th:only-of-type {\n",
       "        vertical-align: middle;\n",
       "    }\n",
       "\n",
       "    .dataframe tbody tr th {\n",
       "        vertical-align: top;\n",
       "    }\n",
       "\n",
       "    .dataframe thead th {\n",
       "        text-align: right;\n",
       "    }\n",
       "</style>\n",
       "<table border=\"1\" class=\"dataframe\">\n",
       "  <thead>\n",
       "    <tr style=\"text-align: right;\">\n",
       "      <th></th>\n",
       "      <th>device_vendor</th>\n",
       "      <th>num_dev</th>\n",
       "    </tr>\n",
       "  </thead>\n",
       "  <tbody>\n",
       "    <tr>\n",
       "      <th>0</th>\n",
       "      <td>brother</td>\n",
       "      <td>2</td>\n",
       "    </tr>\n",
       "    <tr>\n",
       "      <th>1</th>\n",
       "      <td>cisco</td>\n",
       "      <td>1</td>\n",
       "    </tr>\n",
       "    <tr>\n",
       "      <th>2</th>\n",
       "      <td>insignia</td>\n",
       "      <td>2</td>\n",
       "    </tr>\n",
       "    <tr>\n",
       "      <th>3</th>\n",
       "      <td>roku</td>\n",
       "      <td>99</td>\n",
       "    </tr>\n",
       "    <tr>\n",
       "      <th>4</th>\n",
       "      <td>sharp</td>\n",
       "      <td>4</td>\n",
       "    </tr>\n",
       "    <tr>\n",
       "      <th>5</th>\n",
       "      <td>tcl</td>\n",
       "      <td>17</td>\n",
       "    </tr>\n",
       "  </tbody>\n",
       "</table>\n",
       "</div>"
      ],
      "text/plain": [
       "  device_vendor  num_dev\n",
       "0       brother        2\n",
       "1         cisco        1\n",
       "2      insignia        2\n",
       "3          roku       99\n",
       "4         sharp        4\n",
       "5           tcl       17"
      ]
     },
     "execution_count": 1174,
     "metadata": {},
     "output_type": "execute_result"
    }
   ],
   "source": [
    "df_sub.loc[(df_sub['domain'] == 'roku.com') & \\\n",
    "           (df_sub['fps'] == \"49200+49196+49192+49188+49172+49162+165+163+161+159+107+106+105+104+57+56+55+54+136+135+134+133+49202+49198+49194+49190+49167+49157+157+61+53+132+49199+49195+49191+49187+49171+49161+164+162+160+158+103+64+63+62+51+50+49+48+154+153+152+151+69+68+67+66+49201+49197+49193+49189+49166+49156+156+60+47+150+65+49169+49159+49164+49154+5+49170+49160+22+19+16+13+49165+49155+10+255_11+10+13+15+13172+16+21_771\")]\\\n",
    "          .groupby(['device_vendor'])['device_id'].agg(lambda x: x.nunique()).reset_index(name='num_dev')"
   ]
  },
  {
   "cell_type": "code",
   "execution_count": 1175,
   "id": "musical-candle",
   "metadata": {},
   "outputs": [
    {
     "data": {
      "text/html": [
       "<div>\n",
       "<style scoped>\n",
       "    .dataframe tbody tr th:only-of-type {\n",
       "        vertical-align: middle;\n",
       "    }\n",
       "\n",
       "    .dataframe tbody tr th {\n",
       "        vertical-align: top;\n",
       "    }\n",
       "\n",
       "    .dataframe thead th {\n",
       "        text-align: right;\n",
       "    }\n",
       "</style>\n",
       "<table border=\"1\" class=\"dataframe\">\n",
       "  <thead>\n",
       "    <tr style=\"text-align: right;\">\n",
       "      <th></th>\n",
       "      <th>device_vendor</th>\n",
       "      <th>num_dev</th>\n",
       "    </tr>\n",
       "  </thead>\n",
       "  <tbody>\n",
       "    <tr>\n",
       "      <th>0</th>\n",
       "      <td>brother</td>\n",
       "      <td>2</td>\n",
       "    </tr>\n",
       "    <tr>\n",
       "      <th>1</th>\n",
       "      <td>cisco</td>\n",
       "      <td>1</td>\n",
       "    </tr>\n",
       "    <tr>\n",
       "      <th>2</th>\n",
       "      <td>insignia</td>\n",
       "      <td>2</td>\n",
       "    </tr>\n",
       "    <tr>\n",
       "      <th>3</th>\n",
       "      <td>roku</td>\n",
       "      <td>83</td>\n",
       "    </tr>\n",
       "    <tr>\n",
       "      <th>4</th>\n",
       "      <td>sharp</td>\n",
       "      <td>4</td>\n",
       "    </tr>\n",
       "    <tr>\n",
       "      <th>5</th>\n",
       "      <td>tcl</td>\n",
       "      <td>17</td>\n",
       "    </tr>\n",
       "  </tbody>\n",
       "</table>\n",
       "</div>"
      ],
      "text/plain": [
       "  device_vendor  num_dev\n",
       "0       brother        2\n",
       "1         cisco        1\n",
       "2      insignia        2\n",
       "3          roku       83\n",
       "4         sharp        4\n",
       "5           tcl       17"
      ]
     },
     "execution_count": 1175,
     "metadata": {},
     "output_type": "execute_result"
    }
   ],
   "source": [
    "df_sub.loc[(df_sub['domain'] == 'roku.com') & \\\n",
    "           (df_sub['fps'] == \"49200+49196+49192+49188+49172+49162+165+163+161+159+107+106+105+104+57+56+55+54+136+135+134+133+49202+49198+49194+49190+49167+49157+157+61+53+132+49199+49195+49191+49187+49171+49161+164+162+160+158+103+64+63+62+51+50+49+48+69+68+67+66+49201+49197+49193+49189+49166+49156+156+60+47+65+49170+49160+22+19+16+13+49165+49155+10+255_11+10+35+13+15_771\")]\\\n",
    "          .groupby(['device_vendor'])['device_id'].agg(lambda x: x.nunique()).reset_index(name='num_dev')"
   ]
  },
  {
   "cell_type": "code",
   "execution_count": null,
   "id": "outdoor-snapshot",
   "metadata": {},
   "outputs": [],
   "source": []
  },
  {
   "cell_type": "code",
   "execution_count": null,
   "id": "tutorial-footwear",
   "metadata": {},
   "outputs": [],
   "source": []
  },
  {
   "cell_type": "markdown",
   "id": "saving-amber",
   "metadata": {},
   "source": [
    "### If SNIs linked to FPs shared by multiple devices"
   ]
  },
  {
   "cell_type": "code",
   "execution_count": 1121,
   "id": "banner-dynamics",
   "metadata": {},
   "outputs": [],
   "source": [
    "muldev = df_cnt.loc[(df_cnt['num_fps'] == 1) & (df_cnt['num_device'] > 1)]"
   ]
  },
  {
   "cell_type": "code",
   "execution_count": 1124,
   "id": "unable-sierra",
   "metadata": {},
   "outputs": [],
   "source": [
    "muldev_snilis = list(set(muldev['sni'].tolist()))"
   ]
  },
  {
   "cell_type": "code",
   "execution_count": 1125,
   "id": "spectacular-freeware",
   "metadata": {},
   "outputs": [
    {
     "name": "stderr",
     "output_type": "stream",
     "text": [
      "<ipython-input-1125-ffa0ee69e0c5>:1: SettingWithCopyWarning: \n",
      "A value is trying to be set on a copy of a slice from a DataFrame.\n",
      "Try using .loc[row_indexer,col_indexer] = value instead\n",
      "\n",
      "See the caveats in the documentation: https://pandas.pydata.org/pandas-docs/stable/user_guide/indexing.html#returning-a-view-versus-a-copy\n",
      "  muldev['domain'] = muldev['sni'].apply(lambda x: tldextract.extract(x).domain + \".\" + \\\n"
     ]
    }
   ],
   "source": [
    "muldev['domain'] = muldev['sni'].apply(lambda x: tldextract.extract(x).domain + \".\" + \\\n",
    "                                                 tldextract.extract(x).suffix)"
   ]
  },
  {
   "cell_type": "code",
   "execution_count": 1126,
   "id": "configured-automation",
   "metadata": {},
   "outputs": [],
   "source": [
    "df_muldev = df_sub.loc[df_sub['sni'].isin(muldev_snilis)][['sni', 'fps', 'domain']]"
   ]
  },
  {
   "cell_type": "code",
   "execution_count": 1127,
   "id": "egyptian-average",
   "metadata": {},
   "outputs": [],
   "source": [
    "df_muldev_dropdup = df_muldev.drop_duplicates(subset=['sni', 'fps'])"
   ]
  },
  {
   "cell_type": "code",
   "execution_count": 1128,
   "id": "democratic-amino",
   "metadata": {},
   "outputs": [
    {
     "data": {
      "text/plain": [
       "(197, 3)"
      ]
     },
     "execution_count": 1128,
     "metadata": {},
     "output_type": "execute_result"
    }
   ],
   "source": [
    "df_muldev_dropdup.shape"
   ]
  },
  {
   "cell_type": "code",
   "execution_count": 1129,
   "id": "sealed-absolute",
   "metadata": {},
   "outputs": [],
   "source": [
    "df_merge = muldev.merge(df_muldev_dropdup, how='inner', on=['sni', 'domain'])"
   ]
  },
  {
   "cell_type": "code",
   "execution_count": 1136,
   "id": "wanted-spain",
   "metadata": {},
   "outputs": [
    {
     "data": {
      "text/html": [
       "<div>\n",
       "<style scoped>\n",
       "    .dataframe tbody tr th:only-of-type {\n",
       "        vertical-align: middle;\n",
       "    }\n",
       "\n",
       "    .dataframe tbody tr th {\n",
       "        vertical-align: top;\n",
       "    }\n",
       "\n",
       "    .dataframe thead th {\n",
       "        text-align: right;\n",
       "    }\n",
       "</style>\n",
       "<table border=\"1\" class=\"dataframe\">\n",
       "  <thead>\n",
       "    <tr style=\"text-align: right;\">\n",
       "      <th></th>\n",
       "      <th>domain</th>\n",
       "      <th>num_sni</th>\n",
       "    </tr>\n",
       "  </thead>\n",
       "  <tbody>\n",
       "    <tr>\n",
       "      <th>40</th>\n",
       "      <td>nflximg.net</td>\n",
       "      <td>1</td>\n",
       "    </tr>\n",
       "    <tr>\n",
       "      <th>41</th>\n",
       "      <td>nflxso.net</td>\n",
       "      <td>1</td>\n",
       "    </tr>\n",
       "    <tr>\n",
       "      <th>42</th>\n",
       "      <td>nflxvideo.net</td>\n",
       "      <td>5</td>\n",
       "    </tr>\n",
       "    <tr>\n",
       "      <th>43</th>\n",
       "      <td>nintendo.com</td>\n",
       "      <td>1</td>\n",
       "    </tr>\n",
       "    <tr>\n",
       "      <th>44</th>\n",
       "      <td>nintendo.net</td>\n",
       "      <td>14</td>\n",
       "    </tr>\n",
       "    <tr>\n",
       "      <th>45</th>\n",
       "      <td>nist.gov</td>\n",
       "      <td>1</td>\n",
       "    </tr>\n",
       "    <tr>\n",
       "      <th>46</th>\n",
       "      <td>nvidiagrid.net</td>\n",
       "      <td>1</td>\n",
       "    </tr>\n",
       "    <tr>\n",
       "      <th>47</th>\n",
       "      <td>pandora.com</td>\n",
       "      <td>1</td>\n",
       "    </tr>\n",
       "    <tr>\n",
       "      <th>48</th>\n",
       "      <td>playstation.com</td>\n",
       "      <td>6</td>\n",
       "    </tr>\n",
       "    <tr>\n",
       "      <th>49</th>\n",
       "      <td>playstation.net</td>\n",
       "      <td>16</td>\n",
       "    </tr>\n",
       "    <tr>\n",
       "      <th>50</th>\n",
       "      <td>qnap.com</td>\n",
       "      <td>1</td>\n",
       "    </tr>\n",
       "    <tr>\n",
       "      <th>51</th>\n",
       "      <td>ravm.tv</td>\n",
       "      <td>2</td>\n",
       "    </tr>\n",
       "    <tr>\n",
       "      <th>52</th>\n",
       "      <td>ring.com</td>\n",
       "      <td>2</td>\n",
       "    </tr>\n",
       "    <tr>\n",
       "      <th>53</th>\n",
       "      <td>roku.com</td>\n",
       "      <td>23</td>\n",
       "    </tr>\n",
       "    <tr>\n",
       "      <th>54</th>\n",
       "      <td>samsung-svoice.com</td>\n",
       "      <td>1</td>\n",
       "    </tr>\n",
       "    <tr>\n",
       "      <th>55</th>\n",
       "      <td>samsung.com</td>\n",
       "      <td>2</td>\n",
       "    </tr>\n",
       "    <tr>\n",
       "      <th>56</th>\n",
       "      <td>samsungcloud.tv</td>\n",
       "      <td>1</td>\n",
       "    </tr>\n",
       "    <tr>\n",
       "      <th>57</th>\n",
       "      <td>samsungcloudsolution.com</td>\n",
       "      <td>2</td>\n",
       "    </tr>\n",
       "    <tr>\n",
       "      <th>58</th>\n",
       "      <td>samsungcloudsolution.net</td>\n",
       "      <td>1</td>\n",
       "    </tr>\n",
       "    <tr>\n",
       "      <th>59</th>\n",
       "      <td>samsungelectronics.com</td>\n",
       "      <td>1</td>\n",
       "    </tr>\n",
       "    <tr>\n",
       "      <th>60</th>\n",
       "      <td>samsunghrm.com</td>\n",
       "      <td>1</td>\n",
       "    </tr>\n",
       "    <tr>\n",
       "      <th>61</th>\n",
       "      <td>samsungiotcloud.com</td>\n",
       "      <td>1</td>\n",
       "    </tr>\n",
       "    <tr>\n",
       "      <th>62</th>\n",
       "      <td>samsungosp.com</td>\n",
       "      <td>1</td>\n",
       "    </tr>\n",
       "    <tr>\n",
       "      <th>63</th>\n",
       "      <td>samsungqbe.com</td>\n",
       "      <td>1</td>\n",
       "    </tr>\n",
       "    <tr>\n",
       "      <th>64</th>\n",
       "      <td>sbixby.com</td>\n",
       "      <td>3</td>\n",
       "    </tr>\n",
       "    <tr>\n",
       "      <th>65</th>\n",
       "      <td>sense.com</td>\n",
       "      <td>2</td>\n",
       "    </tr>\n",
       "    <tr>\n",
       "      <th>66</th>\n",
       "      <td>skyegloup.com</td>\n",
       "      <td>3</td>\n",
       "    </tr>\n",
       "    <tr>\n",
       "      <th>67</th>\n",
       "      <td>sleepnumber.com</td>\n",
       "      <td>1</td>\n",
       "    </tr>\n",
       "    <tr>\n",
       "      <th>68</th>\n",
       "      <td>smartthings.com</td>\n",
       "      <td>1</td>\n",
       "    </tr>\n",
       "    <tr>\n",
       "      <th>69</th>\n",
       "      <td>sonos.com</td>\n",
       "      <td>9</td>\n",
       "    </tr>\n",
       "    <tr>\n",
       "      <th>70</th>\n",
       "      <td>sonyentertainmentnetwork.com</td>\n",
       "      <td>1</td>\n",
       "    </tr>\n",
       "    <tr>\n",
       "      <th>71</th>\n",
       "      <td>synology.com</td>\n",
       "      <td>5</td>\n",
       "    </tr>\n",
       "    <tr>\n",
       "      <th>72</th>\n",
       "      <td>tesla.services</td>\n",
       "      <td>2</td>\n",
       "    </tr>\n",
       "    <tr>\n",
       "      <th>73</th>\n",
       "      <td>tplinkra.com</td>\n",
       "      <td>1</td>\n",
       "    </tr>\n",
       "    <tr>\n",
       "      <th>74</th>\n",
       "      <td>tuyaus.com</td>\n",
       "      <td>1</td>\n",
       "    </tr>\n",
       "    <tr>\n",
       "      <th>75</th>\n",
       "      <td>vizio.com</td>\n",
       "      <td>1</td>\n",
       "    </tr>\n",
       "    <tr>\n",
       "      <th>76</th>\n",
       "      <td>weather.gov</td>\n",
       "      <td>1</td>\n",
       "    </tr>\n",
       "    <tr>\n",
       "      <th>77</th>\n",
       "      <td>whisk.com</td>\n",
       "      <td>1</td>\n",
       "    </tr>\n",
       "    <tr>\n",
       "      <th>78</th>\n",
       "      <td>xiaomi.com</td>\n",
       "      <td>1</td>\n",
       "    </tr>\n",
       "  </tbody>\n",
       "</table>\n",
       "</div>"
      ],
      "text/plain": [
       "                          domain  num_sni\n",
       "40                   nflximg.net        1\n",
       "41                    nflxso.net        1\n",
       "42                 nflxvideo.net        5\n",
       "43                  nintendo.com        1\n",
       "44                  nintendo.net       14\n",
       "45                      nist.gov        1\n",
       "46                nvidiagrid.net        1\n",
       "47                   pandora.com        1\n",
       "48               playstation.com        6\n",
       "49               playstation.net       16\n",
       "50                      qnap.com        1\n",
       "51                       ravm.tv        2\n",
       "52                      ring.com        2\n",
       "53                      roku.com       23\n",
       "54            samsung-svoice.com        1\n",
       "55                   samsung.com        2\n",
       "56               samsungcloud.tv        1\n",
       "57      samsungcloudsolution.com        2\n",
       "58      samsungcloudsolution.net        1\n",
       "59        samsungelectronics.com        1\n",
       "60                samsunghrm.com        1\n",
       "61           samsungiotcloud.com        1\n",
       "62                samsungosp.com        1\n",
       "63                samsungqbe.com        1\n",
       "64                    sbixby.com        3\n",
       "65                     sense.com        2\n",
       "66                 skyegloup.com        3\n",
       "67               sleepnumber.com        1\n",
       "68               smartthings.com        1\n",
       "69                     sonos.com        9\n",
       "70  sonyentertainmentnetwork.com        1\n",
       "71                  synology.com        5\n",
       "72                tesla.services        2\n",
       "73                  tplinkra.com        1\n",
       "74                    tuyaus.com        1\n",
       "75                     vizio.com        1\n",
       "76                   weather.gov        1\n",
       "77                     whisk.com        1\n",
       "78                    xiaomi.com        1"
      ]
     },
     "execution_count": 1136,
     "metadata": {},
     "output_type": "execute_result"
    }
   ],
   "source": [
    "df_merge.groupby(['domain'])['sni'].agg(lambda x: x.nunique()).reset_index(name='num_sni')[40:]"
   ]
  },
  {
   "cell_type": "code",
   "execution_count": null,
   "id": "outer-adobe",
   "metadata": {},
   "outputs": [],
   "source": []
  },
  {
   "cell_type": "code",
   "execution_count": null,
   "id": "ranging-tolerance",
   "metadata": {},
   "outputs": [],
   "source": []
  },
  {
   "cell_type": "markdown",
   "id": "hired-humanity",
   "metadata": {},
   "source": [
    "### Why devices have both FPS customization and sharing?"
   ]
  },
  {
   "cell_type": "code",
   "execution_count": 1240,
   "id": "alien-tongue",
   "metadata": {},
   "outputs": [
    {
     "data": {
      "text/html": [
       "<div>\n",
       "<style scoped>\n",
       "    .dataframe tbody tr th:only-of-type {\n",
       "        vertical-align: middle;\n",
       "    }\n",
       "\n",
       "    .dataframe tbody tr th {\n",
       "        vertical-align: top;\n",
       "    }\n",
       "\n",
       "    .dataframe thead th {\n",
       "        text-align: right;\n",
       "    }\n",
       "</style>\n",
       "<table border=\"1\" class=\"dataframe\">\n",
       "  <thead>\n",
       "    <tr style=\"text-align: right;\">\n",
       "      <th></th>\n",
       "      <th>idx</th>\n",
       "      <th>likely_libver</th>\n",
       "      <th>lib_ciphersuites</th>\n",
       "      <th>device_id</th>\n",
       "      <th>cipher_suites</th>\n",
       "      <th>extension_types</th>\n",
       "      <th>tls_version</th>\n",
       "      <th>device_vendor</th>\n",
       "      <th>device_name</th>\n",
       "      <th>cipher_code</th>\n",
       "      <th>ciphersuite_len</th>\n",
       "      <th>cipher_code_idxl</th>\n",
       "      <th>cipher_code_hex</th>\n",
       "      <th>updated_hexcodelis</th>\n",
       "      <th>updated_codelis</th>\n",
       "      <th>likely</th>\n",
       "      <th>likely_idx</th>\n",
       "      <th>likely_score</th>\n",
       "      <th>cumulative_agreement</th>\n",
       "      <th>distance_2lib_sim</th>\n",
       "      <th>fps</th>\n",
       "    </tr>\n",
       "  </thead>\n",
       "  <tbody>\n",
       "    <tr>\n",
       "      <th>3360</th>\n",
       "      <td>39</td>\n",
       "      <td>curl-7.71.073_openssl-1.1.0l</td>\n",
       "      <td>[49196, 49200, 159, 52393, 52392, 52394, 49195, 49199, 158, 49188, 49192, 107, 49187, 49191, 103, 49162, 49172, 57, 49161, 49171, 51, 157, 156, 61, 60, 53, 47, 255]</td>\n",
       "      <td>s8bc2818e69</td>\n",
       "      <td>49195+49196+49199+49200+49171+49172+156+157+47+53+255</td>\n",
       "      <td>11+10+35+13+16</td>\n",
       "      <td>771</td>\n",
       "      <td>amazon</td>\n",
       "      <td>echo</td>\n",
       "      <td>[49195, 49196, 49199, 49200, 49171, 49172, 156, 157, 47, 53, 255]</td>\n",
       "      <td>11</td>\n",
       "      <td>['49195:0', '49196:1', '49199:2', '49200:3', '49171:4', '49172:5', '156:6', '157:7', '47:8', '53:9', '255:10']</td>\n",
       "      <td>['0xc02b', '0xc02c', '0xc02f', '0xc030', '0xc013', '0xc014', '0x9c', '0x9d', '0x2f', '0x35', '0xff']</td>\n",
       "      <td>['0xc02b', '0xc02c', '0xc02f', '0xc030', '0xc013', '0xc014', '0x9c', '0x9d', '0x2f', '0x35', '0xff']</td>\n",
       "      <td>[49195, 49196, 49199, 49200, 49171, 49172, 156, 157, 47, 53, 255]</td>\n",
       "      <td>[39, 0.3793103448275862]</td>\n",
       "      <td>39</td>\n",
       "      <td>0.37931</td>\n",
       "      <td>[0.0, 0.5, 0.3333333333333333, 0.5, 0.4, 0.3333333333333333, 0.42857142857142855, 0.5, 0.4444444444444444, 0.4, 0.36363636363636365, 0.3333333333333333, 0.32, 0.3076923076923077, 0.2962962962962963, 0.2857142857142857, 0.3448275862068966, 0.3333333333333333, 0.3225806451612903, 0.375, 0.36363636363636365, 0.4117647058823529, 0.45714285714285713, 0.4444444444444444, 0.43243243243243246, 0.47368421052631576, 0.5128205128205128, 0.55]</td>\n",
       "      <td>3</td>\n",
       "      <td>49195+49196+49199+49200+49171+49172+156+157+47+53+255_11+10+35+13+16_771</td>\n",
       "    </tr>\n",
       "  </tbody>\n",
       "</table>\n",
       "</div>"
      ],
      "text/plain": [
       "      idx                 likely_libver  \\\n",
       "3360   39  curl-7.71.073_openssl-1.1.0l   \n",
       "\n",
       "                                                                                                                                                          lib_ciphersuites  \\\n",
       "3360  [49196, 49200, 159, 52393, 52392, 52394, 49195, 49199, 158, 49188, 49192, 107, 49187, 49191, 103, 49162, 49172, 57, 49161, 49171, 51, 157, 156, 61, 60, 53, 47, 255]   \n",
       "\n",
       "        device_id                                          cipher_suites  \\\n",
       "3360  s8bc2818e69  49195+49196+49199+49200+49171+49172+156+157+47+53+255   \n",
       "\n",
       "     extension_types  tls_version device_vendor device_name  \\\n",
       "3360  11+10+35+13+16          771        amazon        echo   \n",
       "\n",
       "                                                            cipher_code  \\\n",
       "3360  [49195, 49196, 49199, 49200, 49171, 49172, 156, 157, 47, 53, 255]   \n",
       "\n",
       "      ciphersuite_len  \\\n",
       "3360               11   \n",
       "\n",
       "                                                                                                    cipher_code_idxl  \\\n",
       "3360  ['49195:0', '49196:1', '49199:2', '49200:3', '49171:4', '49172:5', '156:6', '157:7', '47:8', '53:9', '255:10']   \n",
       "\n",
       "                                                                                           cipher_code_hex  \\\n",
       "3360  ['0xc02b', '0xc02c', '0xc02f', '0xc030', '0xc013', '0xc014', '0x9c', '0x9d', '0x2f', '0x35', '0xff']   \n",
       "\n",
       "                                                                                        updated_hexcodelis  \\\n",
       "3360  ['0xc02b', '0xc02c', '0xc02f', '0xc030', '0xc013', '0xc014', '0x9c', '0x9d', '0x2f', '0x35', '0xff']   \n",
       "\n",
       "                                                        updated_codelis  \\\n",
       "3360  [49195, 49196, 49199, 49200, 49171, 49172, 156, 157, 47, 53, 255]   \n",
       "\n",
       "                        likely  likely_idx  likely_score  \\\n",
       "3360  [39, 0.3793103448275862]          39       0.37931   \n",
       "\n",
       "                                                                                                                                                                                                                                                                                                                                                                                                                                     cumulative_agreement  \\\n",
       "3360  [0.0, 0.5, 0.3333333333333333, 0.5, 0.4, 0.3333333333333333, 0.42857142857142855, 0.5, 0.4444444444444444, 0.4, 0.36363636363636365, 0.3333333333333333, 0.32, 0.3076923076923077, 0.2962962962962963, 0.2857142857142857, 0.3448275862068966, 0.3333333333333333, 0.3225806451612903, 0.375, 0.36363636363636365, 0.4117647058823529, 0.45714285714285713, 0.4444444444444444, 0.43243243243243246, 0.47368421052631576, 0.5128205128205128, 0.55]   \n",
       "\n",
       "      distance_2lib_sim  \\\n",
       "3360                  3   \n",
       "\n",
       "                                                                           fps  \n",
       "3360  49195+49196+49199+49200+49171+49172+156+157+47+53+255_11+10+35+13+16_771  "
      ]
     },
     "execution_count": 1240,
     "metadata": {},
     "output_type": "execute_result"
    }
   ],
   "source": [
    "fps.sample(1)"
   ]
  },
  {
   "cell_type": "code",
   "execution_count": 1241,
   "id": "configured-showcase",
   "metadata": {},
   "outputs": [],
   "source": [
    "fps = fps.loc[fps['device_vendor'] != 'unknown']"
   ]
  },
  {
   "cell_type": "code",
   "execution_count": 1242,
   "id": "complete-lexington",
   "metadata": {},
   "outputs": [
    {
     "data": {
      "text/plain": [
       "(903,)"
      ]
     },
     "execution_count": 1242,
     "metadata": {},
     "output_type": "execute_result"
    }
   ],
   "source": [
    "fps['fps'].value_counts().shape"
   ]
  },
  {
   "cell_type": "code",
   "execution_count": 1243,
   "id": "backed-swimming",
   "metadata": {},
   "outputs": [],
   "source": [
    "vendor_lis = list(set(fps['device_vendor'].tolist()))"
   ]
  },
  {
   "cell_type": "code",
   "execution_count": 1244,
   "id": "underlying-sweet",
   "metadata": {},
   "outputs": [],
   "source": [
    "def divide_vendordev(df):\n",
    "    df_ret = pd.DataFrame()\n",
    "    for vendor in vendor_lis:\n",
    "        df_temp = df.loc[df['device_vendor'] == vendor]\n",
    "        total_devnum = len(list(set(df_temp['device_id'].tolist())))\n",
    "        df_numdev = df_temp.groupby(['fps'])['device_id'].agg(lambda x: x.nunique()).reset_index(name='num_dev')\n",
    "        df_setdev = df_temp.groupby(['fps'])['device_name'].agg(lambda x: set(x)).reset_index(name='set_dev')\n",
    "        df_numdev = df_numdev.merge(df_setdev, how='inner', on='fps')\n",
    "        df_numdev['device_vendor'] = vendor\n",
    "        df_numdev['dev_num'] = total_devnum\n",
    "        df_ret = pd.concat([df_ret, df_numdev])\n",
    "    return df_ret"
   ]
  },
  {
   "cell_type": "code",
   "execution_count": 1245,
   "id": "covered-organization",
   "metadata": {},
   "outputs": [],
   "source": [
    "df_vendordev = divide_vendordev(fps)"
   ]
  },
  {
   "cell_type": "code",
   "execution_count": 1246,
   "id": "experimental-november",
   "metadata": {},
   "outputs": [
    {
     "data": {
      "text/html": [
       "<div>\n",
       "<style scoped>\n",
       "    .dataframe tbody tr th:only-of-type {\n",
       "        vertical-align: middle;\n",
       "    }\n",
       "\n",
       "    .dataframe tbody tr th {\n",
       "        vertical-align: top;\n",
       "    }\n",
       "\n",
       "    .dataframe thead th {\n",
       "        text-align: right;\n",
       "    }\n",
       "</style>\n",
       "<table border=\"1\" class=\"dataframe\">\n",
       "  <thead>\n",
       "    <tr style=\"text-align: right;\">\n",
       "      <th></th>\n",
       "      <th>fps</th>\n",
       "      <th>num_dev</th>\n",
       "      <th>set_dev</th>\n",
       "      <th>device_vendor</th>\n",
       "      <th>dev_num</th>\n",
       "    </tr>\n",
       "  </thead>\n",
       "  <tbody>\n",
       "    <tr>\n",
       "      <th>85</th>\n",
       "      <td>52393+49195+49196+52392+49199+49200+49161+49162+49171+49172+156+157+47+53_65281+23+13+11+10_771</td>\n",
       "      <td>1</td>\n",
       "      <td>{bravia}</td>\n",
       "      <td>sony</td>\n",
       "      <td>52</td>\n",
       "    </tr>\n",
       "  </tbody>\n",
       "</table>\n",
       "</div>"
      ],
      "text/plain": [
       "                                                                                                fps  \\\n",
       "85  52393+49195+49196+52392+49199+49200+49161+49162+49171+49172+156+157+47+53_65281+23+13+11+10_771   \n",
       "\n",
       "    num_dev   set_dev device_vendor  dev_num  \n",
       "85        1  {bravia}          sony       52  "
      ]
     },
     "execution_count": 1246,
     "metadata": {},
     "output_type": "execute_result"
    }
   ],
   "source": [
    "df_vendordev.sample(1)"
   ]
  },
  {
   "cell_type": "code",
   "execution_count": 1247,
   "id": "rolled-analysis",
   "metadata": {},
   "outputs": [
    {
     "data": {
      "text/plain": [
       "148                                                      {echo, speaker, fire}\n",
       "154                                               {stick, echo, speaker, fire}\n",
       "160                                                       {echo, kindle, fire}\n",
       "162                                              {stick, echo, streamer, fire}\n",
       "164                        {echo, speaker, stick, dot, device, fire, streamer}\n",
       "165                              {echo, dot, something, fire, video, streamer}\n",
       "167                                               {stick, echo, speaker, fire}\n",
       "168                                              {stick, echo, streamer, fire}\n",
       "169    {echo, spot, stick, dot, switch, kindle, fire, device, voice, streamer}\n",
       "171                                                      {echo, speaker, fire}\n",
       "173                 {echo, speaker, stick, dot, device, fire, voice, streamer}\n",
       "177       {echo, tickytackymain, stick, dot, something, fire, video, streamer}\n",
       "183       {echo, tickytackymain, stick, dot, something, fire, video, streamer}\n",
       "184                                                      {echo, speaker, fire}\n",
       "185                                               {stick, echo, speaker, fire}\n",
       "186                                               {stick, echo, speaker, fire}\n",
       "187                                                        {stick, echo, fire}\n",
       "189                                         {echo, dot, fire, video, streamer}\n",
       "190                                                 {stick, echo, video, fire}\n",
       "209                                              {stick, echo, streamer, fire}\n",
       "210                                                     {echo, streamer, fire}\n",
       "213                        {echo, speaker, stick, dot, device, fire, streamer}\n",
       "215                  {echo, tickytackymain, stick, dot, fire, video, streamer}\n",
       "219                                                       {echo, kindle, fire}\n",
       "220                                                              {stick, echo}\n",
       "221                                             {echo, switch, streamer, fire}\n",
       "224                                                       {echo, kindle, fire}\n",
       "225                                                        {stick, echo, fire}\n",
       "228                         {echo, speaker, tickytackymain, stick, ring, fire}\n",
       "230                                                 {stick, echo, dot, device}\n",
       "Name: set_dev, dtype: object"
      ]
     },
     "execution_count": 1247,
     "metadata": {},
     "output_type": "execute_result"
    }
   ],
   "source": [
    "df_vendordev.loc[(df_vendordev['device_vendor'] == 'amazon') & (df_vendordev['num_dev'] >= 10)]['set_dev']"
   ]
  },
  {
   "cell_type": "code",
   "execution_count": 1248,
   "id": "distributed-hardware",
   "metadata": {},
   "outputs": [
    {
     "ename": "TypeError",
     "evalue": "unhashable type: 'set'",
     "output_type": "error",
     "traceback": [
      "\u001b[0;31m---------------------------------------------------------------------------\u001b[0m",
      "\u001b[0;31mTypeError\u001b[0m                                 Traceback (most recent call last)",
      "\u001b[0;32mpandas/_libs/hashtable_class_helper.pxi\u001b[0m in \u001b[0;36mpandas._libs.hashtable.PyObjectHashTable.map_locations\u001b[0;34m()\u001b[0m\n",
      "\u001b[0;31mTypeError\u001b[0m: unhashable type: 'set'"
     ]
    },
    {
     "name": "stderr",
     "output_type": "stream",
     "text": [
      "Exception ignored in: 'pandas._libs.index.IndexEngine._call_map_locations'\n",
      "Traceback (most recent call last):\n",
      "  File \"pandas/_libs/hashtable_class_helper.pxi\", line 4588, in pandas._libs.hashtable.PyObjectHashTable.map_locations\n",
      "TypeError: unhashable type: 'set'\n"
     ]
    },
    {
     "data": {
      "text/plain": [
       "{echo}         88\n",
       "{fire}         47\n",
       "{ring}          9\n",
       "{streamer}      5\n",
       "{stick}         5\n",
       "{dot}           4\n",
       "{kindle}        4\n",
       "{speaker}       3\n",
       "{device}        1\n",
       "{something}     1\n",
       "{video}         1\n",
       "Name: set_dev, dtype: int64"
      ]
     },
     "execution_count": 1248,
     "metadata": {},
     "output_type": "execute_result"
    }
   ],
   "source": [
    "df_vendordev.loc[(df_vendordev['device_vendor'] == 'amazon') & (df_vendordev['num_dev'] == 1)]['set_dev'].value_counts()"
   ]
  },
  {
   "cell_type": "code",
   "execution_count": 1269,
   "id": "laden-patrol",
   "metadata": {},
   "outputs": [],
   "source": [
    "amazon = fps.loc[fps['device_vendor'] == 'amazon'][['device_id', 'device_name', 'fps']]"
   ]
  },
  {
   "cell_type": "code",
   "execution_count": 1270,
   "id": "interracial-testing",
   "metadata": {},
   "outputs": [
    {
     "data": {
      "text/plain": [
       "(244,)"
      ]
     },
     "execution_count": 1270,
     "metadata": {},
     "output_type": "execute_result"
    }
   ],
   "source": [
    "amazon['fps'].value_counts().shape"
   ]
  },
  {
   "cell_type": "code",
   "execution_count": 1283,
   "id": "smooth-instrument",
   "metadata": {},
   "outputs": [],
   "source": [
    "amazon = amazon.loc[(amazon['device_name'] != 'device') & (amazon['device_name'] != 'something') & (amazon['device_name'] != 'video')]"
   ]
  },
  {
   "cell_type": "code",
   "execution_count": 1284,
   "id": "recent-exhaust",
   "metadata": {},
   "outputs": [],
   "source": [
    "amazon_gbtype = amazon.groupby(['fps'])['device_name'].agg(lambda x: x.nunique()).reset_index(name='num_devtype')"
   ]
  },
  {
   "cell_type": "code",
   "execution_count": 1285,
   "id": "legitimate-audit",
   "metadata": {},
   "outputs": [
    {
     "data": {
      "text/plain": [
       "(64,)"
      ]
     },
     "execution_count": 1285,
     "metadata": {},
     "output_type": "execute_result"
    }
   ],
   "source": [
    "amazon_gbtype.loc[amazon_gbtype['num_devtype'] > 1]['fps'].value_counts().shape"
   ]
  },
  {
   "cell_type": "code",
   "execution_count": 1286,
   "id": "animal-tuition",
   "metadata": {},
   "outputs": [
    {
     "data": {
      "text/plain": [
       "(177,)"
      ]
     },
     "execution_count": 1286,
     "metadata": {},
     "output_type": "execute_result"
    }
   ],
   "source": [
    "amazon_gbtype.loc[amazon_gbtype['num_devtype'] == 1]['fps'].value_counts().shape"
   ]
  },
  {
   "cell_type": "code",
   "execution_count": 1287,
   "id": "civic-unemployment",
   "metadata": {},
   "outputs": [],
   "source": [
    "echo = amazon.loc[amazon['device_name'] == 'echo']"
   ]
  },
  {
   "cell_type": "code",
   "execution_count": 1288,
   "id": "filled-thickness",
   "metadata": {},
   "outputs": [
    {
     "data": {
      "text/plain": [
       "(151,)"
      ]
     },
     "execution_count": 1288,
     "metadata": {},
     "output_type": "execute_result"
    }
   ],
   "source": [
    "echo['fps'].value_counts().shape"
   ]
  },
  {
   "cell_type": "code",
   "execution_count": 1289,
   "id": "established-respondent",
   "metadata": {},
   "outputs": [
    {
     "data": {
      "text/html": [
       "<div>\n",
       "<style scoped>\n",
       "    .dataframe tbody tr th:only-of-type {\n",
       "        vertical-align: middle;\n",
       "    }\n",
       "\n",
       "    .dataframe tbody tr th {\n",
       "        vertical-align: top;\n",
       "    }\n",
       "\n",
       "    .dataframe thead th {\n",
       "        text-align: right;\n",
       "    }\n",
       "</style>\n",
       "<table border=\"1\" class=\"dataframe\">\n",
       "  <thead>\n",
       "    <tr style=\"text-align: right;\">\n",
       "      <th></th>\n",
       "      <th>device_id</th>\n",
       "      <th>device_name</th>\n",
       "      <th>fps</th>\n",
       "    </tr>\n",
       "  </thead>\n",
       "  <tbody>\n",
       "    <tr>\n",
       "      <th>4751</th>\n",
       "      <td>scd47782fbc</td>\n",
       "      <td>echo</td>\n",
       "      <td>49195+49196+49199+49200+158+159+49161+49162+49171+49172+51+57+50+56+49159+49169+156+157+47+53+5+255_11+10+35+13_771</td>\n",
       "    </tr>\n",
       "  </tbody>\n",
       "</table>\n",
       "</div>"
      ],
      "text/plain": [
       "        device_id device_name  \\\n",
       "4751  scd47782fbc        echo   \n",
       "\n",
       "                                                                                                                      fps  \n",
       "4751  49195+49196+49199+49200+158+159+49161+49162+49171+49172+51+57+50+56+49159+49169+156+157+47+53+5+255_11+10+35+13_771  "
      ]
     },
     "execution_count": 1289,
     "metadata": {},
     "output_type": "execute_result"
    }
   ],
   "source": [
    "echo.sample(1)"
   ]
  },
  {
   "cell_type": "code",
   "execution_count": 1262,
   "id": "adjacent-harrison",
   "metadata": {},
   "outputs": [],
   "source": [
    "echo_fpslis = list(set(echo['fps'].tolist()))"
   ]
  },
  {
   "cell_type": "code",
   "execution_count": 1263,
   "id": "nasty-placement",
   "metadata": {},
   "outputs": [
    {
     "data": {
      "text/plain": [
       "(60,)"
      ]
     },
     "execution_count": 1263,
     "metadata": {},
     "output_type": "execute_result"
    }
   ],
   "source": [
    "amazon.loc[(amazon['fps'].isin(echo_fpslis)) & (amazon['device_name'] != 'echo')]['fps'].value_counts().shape"
   ]
  },
  {
   "cell_type": "code",
   "execution_count": 1290,
   "id": "streaming-practice",
   "metadata": {},
   "outputs": [],
   "source": [
    "fps_all = pd.read_csv(\"../tmp_data/fps_sample.csv\")"
   ]
  },
  {
   "cell_type": "code",
   "execution_count": 1291,
   "id": "first-horror",
   "metadata": {},
   "outputs": [
    {
     "data": {
      "text/html": [
       "<div>\n",
       "<style scoped>\n",
       "    .dataframe tbody tr th:only-of-type {\n",
       "        vertical-align: middle;\n",
       "    }\n",
       "\n",
       "    .dataframe tbody tr th {\n",
       "        vertical-align: top;\n",
       "    }\n",
       "\n",
       "    .dataframe thead th {\n",
       "        text-align: right;\n",
       "    }\n",
       "</style>\n",
       "<table border=\"1\" class=\"dataframe\">\n",
       "  <thead>\n",
       "    <tr style=\"text-align: right;\">\n",
       "      <th></th>\n",
       "      <th>fps</th>\n",
       "      <th>fps_hash</th>\n",
       "      <th>device_id</th>\n",
       "      <th>device_vendor</th>\n",
       "      <th>device_name</th>\n",
       "      <th>vendor_cnt</th>\n",
       "      <th>if_anon</th>\n",
       "      <th>if_export</th>\n",
       "      <th>if_rc4</th>\n",
       "      <th>if_rc2</th>\n",
       "      <th>if_des</th>\n",
       "      <th>if_nocipher</th>\n",
       "      <th>if_3des</th>\n",
       "      <th>tls_version</th>\n",
       "      <th>popularity</th>\n",
       "      <th>vul_score</th>\n",
       "    </tr>\n",
       "  </thead>\n",
       "  <tbody>\n",
       "    <tr>\n",
       "      <th>490</th>\n",
       "      <td>771;49195+49199+49196+49200+52393+52392+52244+52243+49161+49171+49162+49172+156+157+47+53+10;65281+23+35+13+5+18+16+11+10</td>\n",
       "      <td>238357097510621</td>\n",
       "      <td>s7d18fc126b</td>\n",
       "      <td>panasonic</td>\n",
       "      <td>gzu</td>\n",
       "      <td>2</td>\n",
       "      <td>0</td>\n",
       "      <td>0</td>\n",
       "      <td>0</td>\n",
       "      <td>0</td>\n",
       "      <td>0</td>\n",
       "      <td>0</td>\n",
       "      <td>3</td>\n",
       "      <td>771</td>\n",
       "      <td>Shared FPS</td>\n",
       "      <td>1</td>\n",
       "    </tr>\n",
       "  </tbody>\n",
       "</table>\n",
       "</div>"
      ],
      "text/plain": [
       "                                                                                                                           fps  \\\n",
       "490  771;49195+49199+49196+49200+52393+52392+52244+52243+49161+49171+49162+49172+156+157+47+53+10;65281+23+35+13+5+18+16+11+10   \n",
       "\n",
       "            fps_hash    device_id device_vendor device_name  vendor_cnt  \\\n",
       "490  238357097510621  s7d18fc126b     panasonic         gzu           2   \n",
       "\n",
       "     if_anon  if_export  if_rc4  if_rc2  if_des  if_nocipher  if_3des  \\\n",
       "490        0          0       0       0       0            0        3   \n",
       "\n",
       "     tls_version  popularity  vul_score  \n",
       "490          771  Shared FPS          1  "
      ]
     },
     "execution_count": 1291,
     "metadata": {},
     "output_type": "execute_result"
    }
   ],
   "source": [
    "fps_all.sample(1)"
   ]
  },
  {
   "cell_type": "code",
   "execution_count": 1293,
   "id": "ultimate-champagne",
   "metadata": {},
   "outputs": [],
   "source": [
    "fps_sub = fps_all[['fps', 'if_anon', 'if_export', 'if_rc4', 'if_rc2', 'if_des', 'if_nocipher', 'if_3des', 'tls_version', 'vul_score']]"
   ]
  },
  {
   "cell_type": "code",
   "execution_count": 1297,
   "id": "southwest-booking",
   "metadata": {},
   "outputs": [
    {
     "name": "stderr",
     "output_type": "stream",
     "text": [
      "<ipython-input-1297-cd0e9fc8cb97>:1: SettingWithCopyWarning: \n",
      "A value is trying to be set on a copy of a slice from a DataFrame.\n",
      "Try using .loc[row_indexer,col_indexer] = value instead\n",
      "\n",
      "See the caveats in the documentation: https://pandas.pydata.org/pandas-docs/stable/user_guide/indexing.html#returning-a-view-versus-a-copy\n",
      "  fps_sub['fps'] = fps_all['fps'].apply(lambda x: \"_\".join([x.split(\";\")[1], x.split(\";\")[2], x.split(\";\")[0]]))\n"
     ]
    }
   ],
   "source": [
    "fps_sub['fps'] = fps_all['fps'].apply(lambda x: \"_\".join([x.split(\";\")[1], x.split(\";\")[2], x.split(\";\")[0]]))"
   ]
  },
  {
   "cell_type": "code",
   "execution_count": 1298,
   "id": "medieval-baltimore",
   "metadata": {},
   "outputs": [],
   "source": [
    "echo_merge = echo.merge(fps_sub, on=['fps'], how='inner')"
   ]
  },
  {
   "cell_type": "code",
   "execution_count": 1299,
   "id": "fantastic-reply",
   "metadata": {},
   "outputs": [
    {
     "data": {
      "text/plain": [
       "(151,)"
      ]
     },
     "execution_count": 1299,
     "metadata": {},
     "output_type": "execute_result"
    }
   ],
   "source": [
    "echo_merge['fps'].value_counts().shape"
   ]
  },
  {
   "cell_type": "code",
   "execution_count": 1300,
   "id": "acting-workplace",
   "metadata": {},
   "outputs": [],
   "source": [
    "echo_vul = echo_merge.loc[echo_merge['vul_score'] != 0]"
   ]
  },
  {
   "cell_type": "code",
   "execution_count": 1302,
   "id": "hollywood-berkeley",
   "metadata": {},
   "outputs": [
    {
     "data": {
      "text/plain": [
       "(40,)"
      ]
     },
     "execution_count": 1302,
     "metadata": {},
     "output_type": "execute_result"
    }
   ],
   "source": [
    "echo_vul['fps'].value_counts().shape"
   ]
  },
  {
   "cell_type": "code",
   "execution_count": 1303,
   "id": "exciting-convergence",
   "metadata": {},
   "outputs": [],
   "source": [
    "echovul_gbfps = echo_vul.groupby(['fps'])['device_id'].agg(lambda x: x.nunique()).reset_index(name='num_dev')"
   ]
  },
  {
   "cell_type": "code",
   "execution_count": 1304,
   "id": "double-flashing",
   "metadata": {},
   "outputs": [
    {
     "data": {
      "text/plain": [
       "(17,)"
      ]
     },
     "execution_count": 1304,
     "metadata": {},
     "output_type": "execute_result"
    }
   ],
   "source": [
    "echovul_gbfps.loc[echovul_gbfps['num_dev'] > 1]['fps'].value_counts().shape"
   ]
  },
  {
   "cell_type": "code",
   "execution_count": 1304,
   "id": "chinese-listing",
   "metadata": {},
   "outputs": [
    {
     "data": {
      "text/plain": [
       "(17,)"
      ]
     },
     "execution_count": 1304,
     "metadata": {},
     "output_type": "execute_result"
    }
   ],
   "source": [
    "echovul_gbfps.loc[echovul_gbfps['num_dev'] > 1]['fps'].value_counts().shape"
   ]
  },
  {
   "cell_type": "code",
   "execution_count": 1305,
   "id": "standing-campus",
   "metadata": {},
   "outputs": [],
   "source": [
    "echo_share = echo_merge.groupby(['fps'])['device_id'].agg(lambda x: x.nunique()).reset_index(name='num_dev')"
   ]
  },
  {
   "cell_type": "code",
   "execution_count": 1306,
   "id": "blank-correspondence",
   "metadata": {},
   "outputs": [],
   "source": [
    "echo_share_lis = list(set(echo_share.loc[echo_share['num_dev'] > 1]['fps'].tolist()))"
   ]
  },
  {
   "cell_type": "code",
   "execution_count": 1307,
   "id": "defined-hammer",
   "metadata": {},
   "outputs": [],
   "source": [
    "echo_sharefps = echo_merge.loc[echo_merge['fps'].isin(echo_share_lis)]"
   ]
  },
  {
   "cell_type": "code",
   "execution_count": 1308,
   "id": "rough-adaptation",
   "metadata": {},
   "outputs": [
    {
     "data": {
      "text/plain": [
       "(41,)"
      ]
     },
     "execution_count": 1308,
     "metadata": {},
     "output_type": "execute_result"
    }
   ],
   "source": [
    "echo_sharefps['fps'].value_counts().shape"
   ]
  },
  {
   "cell_type": "code",
   "execution_count": 1309,
   "id": "premier-compromise",
   "metadata": {},
   "outputs": [
    {
     "data": {
      "text/plain": [
       "(17,)"
      ]
     },
     "execution_count": 1309,
     "metadata": {},
     "output_type": "execute_result"
    }
   ],
   "source": [
    "echo_sharefps.loc[echo_sharefps['vul_score'] != 0]['fps'].value_counts().shape"
   ]
  },
  {
   "cell_type": "code",
   "execution_count": 1310,
   "id": "funded-uncle",
   "metadata": {},
   "outputs": [],
   "source": [
    "echo_single_lis = list(set(echo_share.loc[echo_share['num_dev'] == 1]['fps'].tolist()))"
   ]
  },
  {
   "cell_type": "code",
   "execution_count": 1311,
   "id": "premier-somalia",
   "metadata": {},
   "outputs": [],
   "source": [
    "echo_singlefps = echo_merge.loc[echo_merge['fps'].isin(echo_single_lis)]"
   ]
  },
  {
   "cell_type": "code",
   "execution_count": 1312,
   "id": "boring-superior",
   "metadata": {},
   "outputs": [
    {
     "data": {
      "text/plain": [
       "(110,)"
      ]
     },
     "execution_count": 1312,
     "metadata": {},
     "output_type": "execute_result"
    }
   ],
   "source": [
    "echo_singlefps['fps'].value_counts().shape"
   ]
  },
  {
   "cell_type": "code",
   "execution_count": 1313,
   "id": "reported-clone",
   "metadata": {},
   "outputs": [
    {
     "data": {
      "text/plain": [
       "(23,)"
      ]
     },
     "execution_count": 1313,
     "metadata": {},
     "output_type": "execute_result"
    }
   ],
   "source": [
    "echo_singlefps.loc[echo_singlefps['vul_score'] != 0]['fps'].value_counts().shape"
   ]
  },
  {
   "cell_type": "code",
   "execution_count": 1264,
   "id": "dynamic-pakistan",
   "metadata": {},
   "outputs": [],
   "source": [
    "#amazon.to_csv(\"../tmp_data/amazon_device_type_conn.csv\", index=False)"
   ]
  },
  {
   "cell_type": "code",
   "execution_count": null,
   "id": "opened-payroll",
   "metadata": {},
   "outputs": [],
   "source": []
  },
  {
   "cell_type": "code",
   "execution_count": 771,
   "id": "intensive-marking",
   "metadata": {},
   "outputs": [],
   "source": [
    "def get_graphdf(df):\n",
    "    df_ret = pd.DataFrame()\n",
    "    for vendor in vendor_lis:\n",
    "        total_devnum = df.loc[df['device_vendor'] == vendor]['dev_num'].max()\n",
    "        total_fpsnum = df.loc[df['device_vendor'] == vendor]['fps'].nunique()\n",
    "        fps_1devnum = df.loc[(df['device_vendor'] == vendor) & (df['num_dev'] == 1)].shape[0]\n",
    "        fps_10devnum = df.loc[(df['device_vendor'] == vendor) & (df['num_dev'] >= 10)].shape[0]\n",
    "        df_tmp = pd.DataFrame([{'device_vendor':vendor, 'total_devnum':total_devnum, 'total_fpsnum':total_fpsnum, \\\n",
    "                                         'fps_1devnum':fps_1devnum, 'fps_10devnum':fps_10devnum}])\n",
    "        df_ret = pd.concat([df_ret, df_tmp])\n",
    "    return df_ret"
   ]
  },
  {
   "cell_type": "code",
   "execution_count": 772,
   "id": "renewable-compensation",
   "metadata": {},
   "outputs": [],
   "source": [
    "df_graph = get_graphdf(df_vendordev)"
   ]
  },
  {
   "cell_type": "code",
   "execution_count": 773,
   "id": "seventh-correlation",
   "metadata": {},
   "outputs": [
    {
     "data": {
      "text/html": [
       "<div>\n",
       "<style scoped>\n",
       "    .dataframe tbody tr th:only-of-type {\n",
       "        vertical-align: middle;\n",
       "    }\n",
       "\n",
       "    .dataframe tbody tr th {\n",
       "        vertical-align: top;\n",
       "    }\n",
       "\n",
       "    .dataframe thead th {\n",
       "        text-align: right;\n",
       "    }\n",
       "</style>\n",
       "<table border=\"1\" class=\"dataframe\">\n",
       "  <thead>\n",
       "    <tr style=\"text-align: right;\">\n",
       "      <th></th>\n",
       "      <th>device_vendor</th>\n",
       "      <th>total_devnum</th>\n",
       "      <th>total_fpsnum</th>\n",
       "      <th>fps_1devnum</th>\n",
       "      <th>fps_10devnum</th>\n",
       "    </tr>\n",
       "  </thead>\n",
       "  <tbody>\n",
       "    <tr>\n",
       "      <th>0</th>\n",
       "      <td>amazon</td>\n",
       "      <td>521</td>\n",
       "      <td>244</td>\n",
       "      <td>168</td>\n",
       "      <td>30</td>\n",
       "    </tr>\n",
       "    <tr>\n",
       "      <th>0</th>\n",
       "      <td>google</td>\n",
       "      <td>467</td>\n",
       "      <td>172</td>\n",
       "      <td>112</td>\n",
       "      <td>19</td>\n",
       "    </tr>\n",
       "    <tr>\n",
       "      <th>0</th>\n",
       "      <td>synology</td>\n",
       "      <td>52</td>\n",
       "      <td>107</td>\n",
       "      <td>72</td>\n",
       "      <td>4</td>\n",
       "    </tr>\n",
       "    <tr>\n",
       "      <th>0</th>\n",
       "      <td>samsung</td>\n",
       "      <td>86</td>\n",
       "      <td>104</td>\n",
       "      <td>63</td>\n",
       "      <td>10</td>\n",
       "    </tr>\n",
       "    <tr>\n",
       "      <th>0</th>\n",
       "      <td>sony</td>\n",
       "      <td>52</td>\n",
       "      <td>97</td>\n",
       "      <td>56</td>\n",
       "      <td>6</td>\n",
       "    </tr>\n",
       "    <tr>\n",
       "      <th>0</th>\n",
       "      <td>lg</td>\n",
       "      <td>36</td>\n",
       "      <td>54</td>\n",
       "      <td>35</td>\n",
       "      <td>2</td>\n",
       "    </tr>\n",
       "    <tr>\n",
       "      <th>0</th>\n",
       "      <td>western digital</td>\n",
       "      <td>6</td>\n",
       "      <td>49</td>\n",
       "      <td>47</td>\n",
       "      <td>0</td>\n",
       "    </tr>\n",
       "    <tr>\n",
       "      <th>0</th>\n",
       "      <td>nvidia</td>\n",
       "      <td>22</td>\n",
       "      <td>43</td>\n",
       "      <td>20</td>\n",
       "      <td>4</td>\n",
       "    </tr>\n",
       "    <tr>\n",
       "      <th>0</th>\n",
       "      <td>tplink</td>\n",
       "      <td>29</td>\n",
       "      <td>39</td>\n",
       "      <td>34</td>\n",
       "      <td>1</td>\n",
       "    </tr>\n",
       "    <tr>\n",
       "      <th>0</th>\n",
       "      <td>roku</td>\n",
       "      <td>109</td>\n",
       "      <td>38</td>\n",
       "      <td>24</td>\n",
       "      <td>9</td>\n",
       "    </tr>\n",
       "  </tbody>\n",
       "</table>\n",
       "</div>"
      ],
      "text/plain": [
       "     device_vendor  total_devnum  total_fpsnum  fps_1devnum  fps_10devnum\n",
       "0           amazon           521           244          168            30\n",
       "0           google           467           172          112            19\n",
       "0         synology            52           107           72             4\n",
       "0          samsung            86           104           63            10\n",
       "0             sony            52            97           56             6\n",
       "0               lg            36            54           35             2\n",
       "0  western digital             6            49           47             0\n",
       "0           nvidia            22            43           20             4\n",
       "0           tplink            29            39           34             1\n",
       "0             roku           109            38           24             9"
      ]
     },
     "execution_count": 773,
     "metadata": {},
     "output_type": "execute_result"
    }
   ],
   "source": [
    "df_graph.sort_values(by='total_fpsnum', ascending=False)[:10]"
   ]
  },
  {
   "cell_type": "markdown",
   "id": "liable-compiler",
   "metadata": {},
   "source": [
    "### Statistics to fillin"
   ]
  },
  {
   "cell_type": "code",
   "execution_count": 1176,
   "id": "imposed-style",
   "metadata": {},
   "outputs": [],
   "source": [
    "fps_all = pd.read_csv(\"../tmp_data/fps_sample.csv\")"
   ]
  },
  {
   "cell_type": "code",
   "execution_count": 1209,
   "id": "assured-syria",
   "metadata": {},
   "outputs": [
    {
     "data": {
      "text/html": [
       "<div>\n",
       "<style scoped>\n",
       "    .dataframe tbody tr th:only-of-type {\n",
       "        vertical-align: middle;\n",
       "    }\n",
       "\n",
       "    .dataframe tbody tr th {\n",
       "        vertical-align: top;\n",
       "    }\n",
       "\n",
       "    .dataframe thead th {\n",
       "        text-align: right;\n",
       "    }\n",
       "</style>\n",
       "<table border=\"1\" class=\"dataframe\">\n",
       "  <thead>\n",
       "    <tr style=\"text-align: right;\">\n",
       "      <th></th>\n",
       "      <th>fps</th>\n",
       "      <th>fps_hash</th>\n",
       "      <th>device_id</th>\n",
       "      <th>device_vendor</th>\n",
       "      <th>device_name</th>\n",
       "      <th>vendor_cnt</th>\n",
       "      <th>if_anon</th>\n",
       "      <th>if_export</th>\n",
       "      <th>if_rc4</th>\n",
       "      <th>if_rc2</th>\n",
       "      <th>if_des</th>\n",
       "      <th>if_nocipher</th>\n",
       "      <th>if_3des</th>\n",
       "      <th>tls_version</th>\n",
       "      <th>popularity</th>\n",
       "      <th>vul_score</th>\n",
       "    </tr>\n",
       "  </thead>\n",
       "  <tbody>\n",
       "    <tr>\n",
       "      <th>584</th>\n",
       "      <td>771;49200+49196+49192+49188+49172+49162+163+159+107+106+57+56+49177+49202+49198+49194+49190+49167+49157+157+61+53+49199+49195+49191+49187+49171+49161+162+158+103+64+51+50+49176+49201+49197+49193+49189+49166+49156+156+60+47+49170+49160+22+19+49175+49165+49155+10+255;11+10+13+15+21</td>\n",
       "      <td>-6153398580975328638</td>\n",
       "      <td>sa740c73226</td>\n",
       "      <td>vizio</td>\n",
       "      <td>speaker</td>\n",
       "      <td>4</td>\n",
       "      <td>21</td>\n",
       "      <td>0</td>\n",
       "      <td>0</td>\n",
       "      <td>0</td>\n",
       "      <td>0</td>\n",
       "      <td>0</td>\n",
       "      <td>56</td>\n",
       "      <td>771</td>\n",
       "      <td>Shared FPS</td>\n",
       "      <td>2</td>\n",
       "    </tr>\n",
       "  </tbody>\n",
       "</table>\n",
       "</div>"
      ],
      "text/plain": [
       "                                                                                                                                                                                                                                                                                          fps  \\\n",
       "584  771;49200+49196+49192+49188+49172+49162+163+159+107+106+57+56+49177+49202+49198+49194+49190+49167+49157+157+61+53+49199+49195+49191+49187+49171+49161+162+158+103+64+51+50+49176+49201+49197+49193+49189+49166+49156+156+60+47+49170+49160+22+19+49175+49165+49155+10+255;11+10+13+15+21   \n",
       "\n",
       "                fps_hash    device_id device_vendor device_name  vendor_cnt  \\\n",
       "584 -6153398580975328638  sa740c73226         vizio     speaker           4   \n",
       "\n",
       "     if_anon  if_export  if_rc4  if_rc2  if_des  if_nocipher  if_3des  \\\n",
       "584       21          0       0       0       0            0       56   \n",
       "\n",
       "     tls_version  popularity  vul_score  \n",
       "584          771  Shared FPS          2  "
      ]
     },
     "execution_count": 1209,
     "metadata": {},
     "output_type": "execute_result"
    }
   ],
   "source": [
    "fps_all.sample(1)"
   ]
  },
  {
   "cell_type": "code",
   "execution_count": 1314,
   "id": "identical-bundle",
   "metadata": {},
   "outputs": [
    {
     "data": {
      "text/plain": [
       "(901,)"
      ]
     },
     "execution_count": 1314,
     "metadata": {},
     "output_type": "execute_result"
    }
   ],
   "source": [
    "fps_all['fps'].value_counts().shape"
   ]
  },
  {
   "cell_type": "code",
   "execution_count": 1316,
   "id": "eligible-anatomy",
   "metadata": {},
   "outputs": [
    {
     "data": {
      "text/plain": [
       "(107,)"
      ]
     },
     "execution_count": 1316,
     "metadata": {},
     "output_type": "execute_result"
    }
   ],
   "source": [
    "fps_all.loc[(fps_all['device_vendor'] == 'synology')]['fps'].value_counts().shape"
   ]
  },
  {
   "cell_type": "code",
   "execution_count": 1315,
   "id": "polar-situation",
   "metadata": {},
   "outputs": [
    {
     "data": {
      "text/plain": [
       "(81,)"
      ]
     },
     "execution_count": 1315,
     "metadata": {},
     "output_type": "execute_result"
    }
   ],
   "source": [
    "fps_all.loc[(fps_all['device_vendor'] == 'synology') & \\\n",
    "            (fps_all['vul_score'] > 0)]['fps'].value_counts().shape"
   ]
  },
  {
   "cell_type": "code",
   "execution_count": 1317,
   "id": "dominican-soldier",
   "metadata": {},
   "outputs": [
    {
     "data": {
      "text/plain": [
       "(19,)"
      ]
     },
     "execution_count": 1317,
     "metadata": {},
     "output_type": "execute_result"
    }
   ],
   "source": [
    "fps_all.loc[(fps_all['device_vendor'] == 'synology') & \\\n",
    "            (fps_all['vul_score'] > 0)]['device_id'].value_counts().shape"
   ]
  },
  {
   "cell_type": "code",
   "execution_count": 1318,
   "id": "rocky-closure",
   "metadata": {},
   "outputs": [
    {
     "data": {
      "text/plain": [
       "(22,)"
      ]
     },
     "execution_count": 1318,
     "metadata": {},
     "output_type": "execute_result"
    }
   ],
   "source": [
    "fps_all.loc[(fps_all['device_vendor'] == 'synology')]['device_id'].value_counts().shape"
   ]
  },
  {
   "cell_type": "code",
   "execution_count": 1203,
   "id": "optional-group",
   "metadata": {},
   "outputs": [],
   "source": [
    "fps_singledev = fps_all.groupby(['fps'])['device_id'].agg(lambda x: x.nunique()).reset_index(name='num_dev')"
   ]
  },
  {
   "cell_type": "code",
   "execution_count": 1204,
   "id": "framed-bracelet",
   "metadata": {},
   "outputs": [
    {
     "data": {
      "text/plain": [
       "(698,)"
      ]
     },
     "execution_count": 1204,
     "metadata": {},
     "output_type": "execute_result"
    }
   ],
   "source": [
    "fps_singledev.loc[fps_singledev['num_dev'] == 1]['fps'].value_counts().shape"
   ]
  },
  {
   "cell_type": "code",
   "execution_count": 1217,
   "id": "peripheral-hindu",
   "metadata": {},
   "outputs": [],
   "source": [
    "fps_singlevendor = fps_all.groupby(['fps'])['device_vendor'].agg(lambda x: x.nunique()).reset_index(name='num_vendor')"
   ]
  },
  {
   "cell_type": "code",
   "execution_count": 1218,
   "id": "welcome-garbage",
   "metadata": {},
   "outputs": [],
   "source": [
    "fps_singlevendor_lis = list(set(fps_singlevendor.loc[fps_singlevendor['num_vendor'] == 1]['fps'].tolist()))"
   ]
  },
  {
   "cell_type": "code",
   "execution_count": 1195,
   "id": "unexpected-torture",
   "metadata": {},
   "outputs": [],
   "source": [
    "fps_gbvendor = fps_all.groupby(['device_vendor'])['fps'].agg(lambda x: x.nunique()).reset_index(name='num_fps')"
   ]
  },
  {
   "cell_type": "code",
   "execution_count": 1198,
   "id": "private-insight",
   "metadata": {},
   "outputs": [
    {
     "data": {
      "text/plain": [
       "41.243834037997075"
      ]
     },
     "execution_count": 1198,
     "metadata": {},
     "output_type": "execute_result"
    }
   ],
   "source": [
    "fps_gbvendor['num_fps'].std()"
   ]
  },
  {
   "cell_type": "code",
   "execution_count": 1181,
   "id": "damaged-mills",
   "metadata": {},
   "outputs": [],
   "source": [
    "vul_fps = fps_all.loc[fps_all['vul_score'] != 0]"
   ]
  },
  {
   "cell_type": "code",
   "execution_count": 1200,
   "id": "three-notebook",
   "metadata": {},
   "outputs": [
    {
     "data": {
      "text/plain": [
       "(403,)"
      ]
     },
     "execution_count": 1200,
     "metadata": {},
     "output_type": "execute_result"
    }
   ],
   "source": [
    "vul_fps['fps'].value_counts().shape"
   ]
  },
  {
   "cell_type": "code",
   "execution_count": 1182,
   "id": "comparative-generator",
   "metadata": {},
   "outputs": [
    {
     "data": {
      "text/plain": [
       "81"
      ]
     },
     "execution_count": 1182,
     "metadata": {},
     "output_type": "execute_result"
    }
   ],
   "source": [
    "vul_fps.groupby(['device_vendor'])['fps'].agg(lambda x: x.nunique()).reset_index(name='num_vulfps')['num_vulfps'].max()"
   ]
  },
  {
   "cell_type": "code",
   "execution_count": 1201,
   "id": "pacific-village",
   "metadata": {},
   "outputs": [],
   "source": [
    "vul_fps_gbfps = vul_fps.groupby(['fps'])['device_id'].agg(lambda x: x.nunique()).reset_index(name='num_dev')"
   ]
  },
  {
   "cell_type": "code",
   "execution_count": 1202,
   "id": "conceptual-nursing",
   "metadata": {},
   "outputs": [
    {
     "data": {
      "text/plain": [
       "(128,)"
      ]
     },
     "execution_count": 1202,
     "metadata": {},
     "output_type": "execute_result"
    }
   ],
   "source": [
    "vul_fps_gbfps.loc[vul_fps_gbfps['num_dev'] > 1]['fps'].value_counts().shape"
   ]
  },
  {
   "cell_type": "code",
   "execution_count": 1189,
   "id": "qualified-benjamin",
   "metadata": {},
   "outputs": [],
   "source": [
    "fps_gbfps = fps_all.loc[fps_all['vul_score'] != 0].groupby(['fps'])['device_id'].agg(lambda x: x.nunique()).reset_index(name='num_dev')"
   ]
  },
  {
   "cell_type": "code",
   "execution_count": 1190,
   "id": "integral-banner",
   "metadata": {},
   "outputs": [
    {
     "data": {
      "text/plain": [
       "(128,)"
      ]
     },
     "execution_count": 1190,
     "metadata": {},
     "output_type": "execute_result"
    }
   ],
   "source": [
    "fps_gbfps.loc[fps_gbfps['num_dev'] > 1]['fps'].value_counts().shape"
   ]
  },
  {
   "cell_type": "code",
   "execution_count": 1191,
   "id": "palestinian-lawrence",
   "metadata": {},
   "outputs": [],
   "source": [
    "fps_gbfps_lis = list(set(fps_gbfps.loc[fps_gbfps['num_dev'] > 1]['fps'].tolist()))"
   ]
  },
  {
   "cell_type": "code",
   "execution_count": 1193,
   "id": "correct-roulette",
   "metadata": {},
   "outputs": [
    {
     "data": {
      "text/plain": [
       "(246,)"
      ]
     },
     "execution_count": 1193,
     "metadata": {},
     "output_type": "execute_result"
    }
   ],
   "source": [
    "fps_all.loc[fps_all['fps'].isin(fps_gbfps_lis)]['device_id'].value_counts().shape"
   ]
  },
  {
   "cell_type": "code",
   "execution_count": 1194,
   "id": "interested-housing",
   "metadata": {},
   "outputs": [
    {
     "data": {
      "text/plain": [
       "(53,)"
      ]
     },
     "execution_count": 1194,
     "metadata": {},
     "output_type": "execute_result"
    }
   ],
   "source": [
    "fps_all.loc[fps_all['fps'].isin(fps_gbfps_lis)]['device_vendor'].value_counts().shape"
   ]
  },
  {
   "cell_type": "code",
   "execution_count": 1185,
   "id": "structured-maximum",
   "metadata": {},
   "outputs": [],
   "source": [
    "broken_fps = fps_all.loc[(fps_all['if_anon'] != 0) | \\\n",
    "                         (fps_all['if_export'] != 0) | \\\n",
    "                         (fps_all['if_nocipher'] != 0)]"
   ]
  },
  {
   "cell_type": "code",
   "execution_count": 1211,
   "id": "multiple-residence",
   "metadata": {},
   "outputs": [
    {
     "data": {
      "text/plain": [
       "(31,)"
      ]
     },
     "execution_count": 1211,
     "metadata": {},
     "output_type": "execute_result"
    }
   ],
   "source": [
    "broken_fps['fps'].value_counts().shape"
   ]
  },
  {
   "cell_type": "code",
   "execution_count": 1186,
   "id": "rental-company",
   "metadata": {},
   "outputs": [
    {
     "data": {
      "text/plain": [
       "(27,)"
      ]
     },
     "execution_count": 1186,
     "metadata": {},
     "output_type": "execute_result"
    }
   ],
   "source": [
    "broken_fps['device_id'].value_counts().shape"
   ]
  },
  {
   "cell_type": "code",
   "execution_count": 1188,
   "id": "systematic-reference",
   "metadata": {},
   "outputs": [
    {
     "data": {
      "text/plain": [
       "synology           18\n",
       "western digital     6\n",
       "tplink              5\n",
       "sony                4\n",
       "amazon              3\n",
       "hp                  2\n",
       "lg                  2\n",
       "samsung             2\n",
       "qnap                1\n",
       "vizio               1\n",
       "philips             1\n",
       "lutron              1\n",
       "amcrest             1\n",
       "google              1\n",
       "Name: device_vendor, dtype: int64"
      ]
     },
     "execution_count": 1188,
     "metadata": {},
     "output_type": "execute_result"
    }
   ],
   "source": [
    "broken_fps['device_vendor'].value_counts()"
   ]
  },
  {
   "cell_type": "code",
   "execution_count": 1206,
   "id": "double-mozambique",
   "metadata": {},
   "outputs": [],
   "source": [
    "broken_gbfps = broken_fps.groupby(['fps'])['device_id'].agg(lambda x: x.nunique()).reset_index(name='num_dev')"
   ]
  },
  {
   "cell_type": "code",
   "execution_count": 1210,
   "id": "funny-chest",
   "metadata": {},
   "outputs": [
    {
     "data": {
      "text/plain": [
       "(9,)"
      ]
     },
     "execution_count": 1210,
     "metadata": {},
     "output_type": "execute_result"
    }
   ],
   "source": [
    "broken_gbfps.loc[broken_gbfps['num_dev'] > 1]['fps'].value_counts().shape"
   ]
  },
  {
   "cell_type": "code",
   "execution_count": 1213,
   "id": "infinite-prompt",
   "metadata": {},
   "outputs": [
    {
     "data": {
      "text/plain": [
       "3.8958333333333335"
      ]
     },
     "execution_count": 1213,
     "metadata": {},
     "output_type": "execute_result"
    }
   ],
   "source": [
    "broken_fps['vul_score'].mean()"
   ]
  },
  {
   "cell_type": "code",
   "execution_count": 1214,
   "id": "subject-three",
   "metadata": {},
   "outputs": [
    {
     "data": {
      "text/plain": [
       "7"
      ]
     },
     "execution_count": 1214,
     "metadata": {},
     "output_type": "execute_result"
    }
   ],
   "source": [
    "broken_fps['vul_score'].max()"
   ]
  },
  {
   "cell_type": "code",
   "execution_count": 1219,
   "id": "accessory-poland",
   "metadata": {},
   "outputs": [],
   "source": [
    "synology = fps_all.loc[fps_all['device_vendor'] == 'synology']"
   ]
  },
  {
   "cell_type": "code",
   "execution_count": 1220,
   "id": "improving-input",
   "metadata": {},
   "outputs": [
    {
     "data": {
      "text/plain": [
       "(22,)"
      ]
     },
     "execution_count": 1220,
     "metadata": {},
     "output_type": "execute_result"
    }
   ],
   "source": [
    "synology.loc[(synology['fps'].isin(fps_singlevendor_lis)) & \\\n",
    "             (synology['vul_score'] > 1)]['fps'].value_counts().shape"
   ]
  },
  {
   "cell_type": "code",
   "execution_count": 1276,
   "id": "grave-universe",
   "metadata": {},
   "outputs": [],
   "source": [
    "echo = fps_all.loc[fps_all['device_name'] == 'echo']"
   ]
  },
  {
   "cell_type": "code",
   "execution_count": 1277,
   "id": "continent-prediction",
   "metadata": {},
   "outputs": [
    {
     "data": {
      "text/plain": [
       "(127,)"
      ]
     },
     "execution_count": 1277,
     "metadata": {},
     "output_type": "execute_result"
    }
   ],
   "source": [
    "echo['fps'].value_counts().shape"
   ]
  },
  {
   "cell_type": "code",
   "execution_count": 1278,
   "id": "meaningful-insured",
   "metadata": {},
   "outputs": [],
   "source": [
    "echo_vul = echo.loc[echo['vul_score'] != 0]"
   ]
  },
  {
   "cell_type": "code",
   "execution_count": 1279,
   "id": "accompanied-arrest",
   "metadata": {},
   "outputs": [
    {
     "data": {
      "text/plain": [
       "(29, 16)"
      ]
     },
     "execution_count": 1279,
     "metadata": {},
     "output_type": "execute_result"
    }
   ],
   "source": [
    "echo_vul.shape"
   ]
  },
  {
   "cell_type": "code",
   "execution_count": 1281,
   "id": "heavy-internet",
   "metadata": {},
   "outputs": [],
   "source": [
    "echovul_gbfps = echo_vul.groupby(['fps'])['device_id'].agg(lambda x: x.nunique()).reset_index(name='num_dev')"
   ]
  },
  {
   "cell_type": "code",
   "execution_count": 1282,
   "id": "worthy-melbourne",
   "metadata": {},
   "outputs": [
    {
     "data": {
      "text/plain": [
       "(0,)"
      ]
     },
     "execution_count": 1282,
     "metadata": {},
     "output_type": "execute_result"
    }
   ],
   "source": [
    "echovul_gbfps.loc[echovul_gbfps['num_dev'] > 1]['fps'].value_counts().shape"
   ]
  },
  {
   "cell_type": "code",
   "execution_count": null,
   "id": "communist-intake",
   "metadata": {},
   "outputs": [],
   "source": []
  }
 ],
 "metadata": {
  "kernelspec": {
   "display_name": "Python 3",
   "language": "python",
   "name": "python3"
  },
  "language_info": {
   "codemirror_mode": {
    "name": "ipython",
    "version": 3
   },
   "file_extension": ".py",
   "mimetype": "text/x-python",
   "name": "python",
   "nbconvert_exporter": "python",
   "pygments_lexer": "ipython3",
   "version": "3.8.5"
  }
 },
 "nbformat": 4,
 "nbformat_minor": 5
}
