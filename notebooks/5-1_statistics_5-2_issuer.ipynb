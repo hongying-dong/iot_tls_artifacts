{
 "cells": [
  {
   "cell_type": "markdown",
   "id": "mediterranean-operator",
   "metadata": {},
   "source": [
    "## Overall Statistics and Certificate Issuers"
   ]
  },
  {
   "cell_type": "markdown",
   "id": "future-madagascar",
   "metadata": {},
   "source": [
    "### Import libraries"
   ]
  },
  {
   "cell_type": "code",
   "execution_count": 1,
   "id": "electronic-review",
   "metadata": {},
   "outputs": [],
   "source": [
    "import os\n",
    "import pandas as pd \n",
    "import numpy as np\n",
    "from lxml import etree \n",
    "pd.set_option('display.max_columns', None)\n",
    "pd.options.display.max_colwidth = 200\n",
    "import os\n",
    "import glob\n",
    "import time\n",
    "import re\n",
    "import datetime\n",
    "import matplotlib.pyplot as plt\n",
    "import seaborn as sns\n",
    "import itertools\n",
    "import matplotlib.patches as mpatches\n",
    "import shutil\n",
    "from IPython.display import clear_output\n",
    "pd.set_option('display.max_rows', 500)\n",
    "from manuf import manuf\n",
    "from user_agents import parse\n",
    "import dataframe_image as dfi\n",
    "import tldextract"
   ]
  },
  {
   "cell_type": "markdown",
   "id": "quick-mixture",
   "metadata": {},
   "source": [
    "## 5.1 Statistics on dataset"
   ]
  },
  {
   "cell_type": "markdown",
   "id": "mysterious-variance",
   "metadata": {},
   "source": [
    "### Readin datasets"
   ]
  },
  {
   "cell_type": "code",
   "execution_count": 2,
   "id": "civilian-battlefield",
   "metadata": {},
   "outputs": [],
   "source": [
    "dev = pd.read_parquet(\"../datasets/ny_serv_withcrt.parquet\")"
   ]
  },
  {
   "cell_type": "code",
   "execution_count": 3,
   "id": "popular-problem",
   "metadata": {},
   "outputs": [
    {
     "data": {
      "text/html": [
       "<div>\n",
       "<style scoped>\n",
       "    .dataframe tbody tr th:only-of-type {\n",
       "        vertical-align: middle;\n",
       "    }\n",
       "\n",
       "    .dataframe tbody tr th {\n",
       "        vertical-align: top;\n",
       "    }\n",
       "\n",
       "    .dataframe thead th {\n",
       "        text-align: right;\n",
       "    }\n",
       "</style>\n",
       "<table border=\"1\" class=\"dataframe\">\n",
       "  <thead>\n",
       "    <tr style=\"text-align: right;\">\n",
       "      <th></th>\n",
       "      <th>cert_alg_element</th>\n",
       "      <th>cert_basicConstraints_cA</th>\n",
       "      <th>cert_id</th>\n",
       "      <th>cert_idx</th>\n",
       "      <th>cert_ifCRLSign</th>\n",
       "      <th>cert_ifDataEncipherment</th>\n",
       "      <th>cert_ifDigitalSig</th>\n",
       "      <th>cert_ifKeyCertSign</th>\n",
       "      <th>cert_ifKeyEncipherment</th>\n",
       "      <th>cert_issuer</th>\n",
       "      <th>cert_keyIdentifier</th>\n",
       "      <th>cert_public_key_exponent</th>\n",
       "      <th>cert_resourceIdentifier</th>\n",
       "      <th>cert_san</th>\n",
       "      <th>cert_sct_logid</th>\n",
       "      <th>cert_serialNum_from_ber</th>\n",
       "      <th>cert_serialNum_from_x509af</th>\n",
       "      <th>cert_sig_hash_hash</th>\n",
       "      <th>cert_sig_hash_sig</th>\n",
       "      <th>cert_sig_len</th>\n",
       "      <th>cert_sortedtime</th>\n",
       "      <th>cert_subject</th>\n",
       "      <th>cert_subjectKeyIdentifier</th>\n",
       "      <th>cert_version</th>\n",
       "      <th>serv_curve</th>\n",
       "      <th>cert_notBefore</th>\n",
       "      <th>cert_notAfter</th>\n",
       "      <th>cert_validity_days</th>\n",
       "      <th>cert_mapped_idx</th>\n",
       "      <th>cert_cap_ts</th>\n",
       "      <th>cert_cap_uts</th>\n",
       "      <th>cert_ip_dst</th>\n",
       "      <th>cert_ip_src</th>\n",
       "      <th>cert_tcp_dstport</th>\n",
       "      <th>cert_tcp_srcport</th>\n",
       "      <th>cert_ts_idx_end</th>\n",
       "      <th>cert_ts_idx_start</th>\n",
       "      <th>issuer_CN</th>\n",
       "      <th>issuer_O</th>\n",
       "      <th>issuer_OUnit</th>\n",
       "      <th>issuer_C</th>\n",
       "      <th>subject_CN</th>\n",
       "      <th>subject_O</th>\n",
       "      <th>subject_OUnit</th>\n",
       "      <th>subject_C</th>\n",
       "      <th>cert_sig_alg</th>\n",
       "      <th>if_weak_sig_alg</th>\n",
       "      <th>dev_dst_ip_x</th>\n",
       "      <th>dev_dst_port_x</th>\n",
       "      <th>dev_dst_sni</th>\n",
       "      <th>cert_idx_list</th>\n",
       "      <th>cert_loc</th>\n",
       "      <th>cert_chain_len</th>\n",
       "      <th>chain_issuer</th>\n",
       "      <th>chain_issuer_O</th>\n",
       "      <th>chain_issuer_CN</th>\n",
       "      <th>chain_subject</th>\n",
       "      <th>chain_subject_O</th>\n",
       "      <th>chain_subject_CN</th>\n",
       "      <th>chain_basicConstraintsCA</th>\n",
       "      <th>chain_ifKeyCertSign</th>\n",
       "      <th>chain_keyIdentifier</th>\n",
       "      <th>chain_subjectIdentifier</th>\n",
       "      <th>chain_serial_from_ber</th>\n",
       "      <th>chain_serial_from_x509af</th>\n",
       "      <th>client_ciphersuite_code</th>\n",
       "      <th>client_compression_method</th>\n",
       "      <th>client_extension_type_code</th>\n",
       "      <th>client_hello_id</th>\n",
       "      <th>client_idx</th>\n",
       "      <th>client_sig_hash_alg_code</th>\n",
       "      <th>client_sig_hash_hash_code</th>\n",
       "      <th>client_supported_group_code</th>\n",
       "      <th>server_name_indication</th>\n",
       "      <th>clnt_mapped_idx</th>\n",
       "      <th>clnt_cap_ts</th>\n",
       "      <th>clnt_cap_uts</th>\n",
       "      <th>clnt_ip_dst</th>\n",
       "      <th>clnt_ip_src</th>\n",
       "      <th>clnt_tcp_dstport</th>\n",
       "      <th>clnt_tcp_srcport</th>\n",
       "      <th>clnt_ts_idx_end</th>\n",
       "      <th>clnt_ts_idx_start</th>\n",
       "      <th>client_tls_version</th>\n",
       "      <th>client_ciphersuite</th>\n",
       "      <th>client_extension_type</th>\n",
       "      <th>client_supported_groups</th>\n",
       "      <th>client_sig_hash_alg</th>\n",
       "      <th>client_sig_hash_hash</th>\n",
       "      <th>if_weak_cipher_included</th>\n",
       "      <th>weak_cipher_included</th>\n",
       "      <th>weak_sigalg_included</th>\n",
       "      <th>if_tls_fallback</th>\n",
       "      <th>if_weak_sigalg</th>\n",
       "      <th>dev_dst_ip_y</th>\n",
       "      <th>dev_dst_port_y</th>\n",
       "      <th>server_ciphersuite</th>\n",
       "      <th>server_ciphersuite_code</th>\n",
       "      <th>server_compression_method</th>\n",
       "      <th>server_extension_type_code</th>\n",
       "      <th>server_hello_id</th>\n",
       "      <th>server_idx</th>\n",
       "      <th>server_tls_version</th>\n",
       "      <th>serv_mapped_idx</th>\n",
       "      <th>serv_cap_ts</th>\n",
       "      <th>serv_cap_uts</th>\n",
       "      <th>serv_ip_dst</th>\n",
       "      <th>serv_ip_src</th>\n",
       "      <th>serv_tcp_dstport</th>\n",
       "      <th>serv_tcp_srcport</th>\n",
       "      <th>serv_ts_idx_end</th>\n",
       "      <th>serv_ts_idx_start</th>\n",
       "      <th>server_extension_type</th>\n",
       "      <th>if_weak_cipher</th>\n",
       "      <th>dev_dst_ip</th>\n",
       "      <th>dev_dst_port</th>\n",
       "      <th>serial_num</th>\n",
       "      <th>response</th>\n",
       "    </tr>\n",
       "  </thead>\n",
       "  <tbody>\n",
       "    <tr>\n",
       "      <th>13653</th>\n",
       "      <td>rsaEncryption</td>\n",
       "      <td>NaN</td>\n",
       "      <td>1.0</td>\n",
       "      <td>155.0</td>\n",
       "      <td>NaN</td>\n",
       "      <td>NaN</td>\n",
       "      <td>NaN</td>\n",
       "      <td>NaN</td>\n",
       "      <td>NaN</td>\n",
       "      <td>rdnSequence: 3 items (id-at-commonName=DigiCert SHA2 Secure Server CA,id-at-organizationName=DigiCert Inc,id-at-countryName=US)</td>\n",
       "      <td>0f80611c823161d52f28e78d4638b42ce1c6d9e2</td>\n",
       "      <td>65537.0</td>\n",
       "      <td>http://crl3.digicert.com/ssca-sha2-g6.crl</td>\n",
       "      <td>*.urbanairship.com,urbanairship.com,</td>\n",
       "      <td>2979bef09e393921f056739f63a577e5be577d9c600af8f94d5d265c255dc784</td>\n",
       "      <td>NaN</td>\n",
       "      <td>02959bf7bf2c284543d5a4dbabb15c54</td>\n",
       "      <td>SHA256</td>\n",
       "      <td>ECDSA</td>\n",
       "      <td>NaN</td>\n",
       "      <td>['2020-06-09 00:00:00 (UTC)', '2022-07-14 12:00:00 (UTC)']</td>\n",
       "      <td>rdnSequence: 6 items (id-at-commonName=*.urbanairship.com,id-at-organizationalUnitName=Operations,id-at-organizationName=Urban Airship, Inc.,id-at-localityName=Portland,id-at-stateOrProvinceName=O...</td>\n",
       "      <td>97474bbe7b7e8e772da0e0fb130cf45e760583ae</td>\n",
       "      <td>v3</td>\n",
       "      <td>None</td>\n",
       "      <td>2020-06-09 00:00:00</td>\n",
       "      <td>2022-07-14 12:00:00</td>\n",
       "      <td>765 days 12:00:00</td>\n",
       "      <td>3</td>\n",
       "      <td>Apr 16, 2022 13:24:45.889406000 EDT</td>\n",
       "      <td>1.650130e+09</td>\n",
       "      <td>67.205.150.252</td>\n",
       "      <td>35.201.74.116</td>\n",
       "      <td>44924</td>\n",
       "      <td>443</td>\n",
       "      <td>473.0</td>\n",
       "      <td>3.0</td>\n",
       "      <td>DigiCert SHA2 Secure Server CA</td>\n",
       "      <td>DigiCert Inc</td>\n",
       "      <td>NaN</td>\n",
       "      <td>US</td>\n",
       "      <td>*.urbanairship.com</td>\n",
       "      <td>Urban Airship</td>\n",
       "      <td>NaN</td>\n",
       "      <td>US</td>\n",
       "      <td>sha256WithRSAEncryption</td>\n",
       "      <td>False</td>\n",
       "      <td>35.201.74.116</td>\n",
       "      <td>443</td>\n",
       "      <td>remote-data.urbanairship.com</td>\n",
       "      <td>[155.0, 333.0]</td>\n",
       "      <td>0</td>\n",
       "      <td>2</td>\n",
       "      <td>[rdnSequence: 3 items (id-at-commonName=DigiCert SHA2 Secure Server CA,id-at-organizationName=DigiCert Inc,id-at-countryName=US), rdnSequence: 4 items (id-at-commonName=DigiCert Global Root CA,id-...</td>\n",
       "      <td>[DigiCert Inc, DigiCert Inc]</td>\n",
       "      <td>[DigiCert SHA2 Secure Server CA, DigiCert Global Root CA]</td>\n",
       "      <td>[rdnSequence: 6 items (id-at-commonName=*.urbanairship.com,id-at-organizationalUnitName=Operations,id-at-organizationName=Urban Airship, Inc.,id-at-localityName=Portland,id-at-stateOrProvinceName=...</td>\n",
       "      <td>[Urban Airship, DigiCert Inc]</td>\n",
       "      <td>[*.urbanairship.com, DigiCert SHA2 Secure Server CA]</td>\n",
       "      <td>[nan, 1.0]</td>\n",
       "      <td>[None, None]</td>\n",
       "      <td>[0f80611c823161d52f28e78d4638b42ce1c6d9e2, 03de503556d14cbb66f0a3e21b1bc397b23dd155]</td>\n",
       "      <td>[97474bbe7b7e8e772da0e0fb130cf45e760583ae, 0f80611c823161d52f28e78d4638b42ce1c6d9e2]</td>\n",
       "      <td>[None, None]</td>\n",
       "      <td>[02959bf7bf2c284543d5a4dbabb15c54, 01fda3eb6eca75c888438b724bcfbc91]</td>\n",
       "      <td>['c02c', 'c030', '009f', 'cca9', 'cca8', 'ccaa', 'c02b', 'c02f', '009e', 'c024', 'c028', '006b', 'c023', 'c027', '0067', 'c00a', 'c014', '0039', 'c009', 'c013', '0033', '009d', '009c', '003d', '00...</td>\n",
       "      <td>['0']</td>\n",
       "      <td>['0', '11', '10', '35', '22', '23', '13']</td>\n",
       "      <td>1.0</td>\n",
       "      <td>115.0</td>\n",
       "      <td>['0403', '0503', '0603', '0807', '0808', '0809', '080a', '080b', '0804', '0805', '0806', '0401', '0501', '0601', '0303', '0301', '0302', '0402', '0502', '0602']</td>\n",
       "      <td>['04', '05', '06', '08', '08', '08', '08', '08', '08', '08', '08', '04', '05', '06', '03', '03', '03', '04', '05', '06']</td>\n",
       "      <td>['001d', '0017', '001e', '0019', '0018']</td>\n",
       "      <td>remote-data.urbanairship.com</td>\n",
       "      <td>3</td>\n",
       "      <td>Apr 16, 2022 13:24:45.887060000 EDT</td>\n",
       "      <td>1.650130e+09</td>\n",
       "      <td>35.201.74.116</td>\n",
       "      <td>67.205.150.252</td>\n",
       "      <td>443</td>\n",
       "      <td>44924</td>\n",
       "      <td>260.0</td>\n",
       "      <td>3.0</td>\n",
       "      <td>TLS 1.2</td>\n",
       "      <td>['TLS_ECDHE_ECDSA_WITH_AES_256_GCM_SHA384', 'TLS_ECDHE_RSA_WITH_AES_256_GCM_SHA384', 'TLS_DHE_RSA_WITH_AES_256_GCM_SHA384', 'TLS_ECDHE_ECDSA_WITH_CHACHA20_POLY1305_SHA256', 'TLS_ECDHE_RSA_WITH_CHA...</td>\n",
       "      <td>['server_name', 'ec_point_formats', 'supported_groups', 'session_ticket', 'encrypt_then_mac', 'extended_master_secret', 'signature_algorithms']</td>\n",
       "      <td>['x25519', 'secp256r1', 'x448', 'secp521r1', 'secp384r1']</td>\n",
       "      <td>['ecdsa_secp256r1_sha256', 'ecdsa_secp384r1_sha384', 'ecdsa_secp521r1_sha512', 'ed25519', 'ed448', 'rsa_pss_pss_sha256', 'rsa_pss_pss_sha384', 'rsa_pss_pss_sha512', 'rsa_pss_rsae_sha256', 'rsa_pss...</td>\n",
       "      <td>['SHA256', 'SHA384', 'SHA512', 'Unknown', 'Unknown', 'Unknown', 'Unknown', 'Unknown', 'Unknown', 'Unknown', 'Unknown', 'SHA256', 'SHA384', 'SHA512', 'SHA224', 'SHA224', 'SHA224', 'SHA256', 'SHA384...</td>\n",
       "      <td>False</td>\n",
       "      <td>[]</td>\n",
       "      <td>[]</td>\n",
       "      <td>False</td>\n",
       "      <td>False</td>\n",
       "      <td>35.201.74.116</td>\n",
       "      <td>443</td>\n",
       "      <td>TLS_ECDHE_RSA_WITH_CHACHA20_POLY1305_SHA256</td>\n",
       "      <td>cca8</td>\n",
       "      <td>['0']</td>\n",
       "      <td>['23', '65281', '11', '35']</td>\n",
       "      <td>1.0</td>\n",
       "      <td>51.0</td>\n",
       "      <td>TLS 1.2</td>\n",
       "      <td>3</td>\n",
       "      <td>Apr 16, 2022 13:24:45.889406000 EDT</td>\n",
       "      <td>1.650130e+09</td>\n",
       "      <td>67.205.150.252</td>\n",
       "      <td>35.201.74.116</td>\n",
       "      <td>44924</td>\n",
       "      <td>443</td>\n",
       "      <td>473.0</td>\n",
       "      <td>3.0</td>\n",
       "      <td>['extended_master_secret', 'renegotiation_info', 'ec_point_formats', 'session_ticket']</td>\n",
       "      <td>False</td>\n",
       "      <td>35.201.74.116</td>\n",
       "      <td>443</td>\n",
       "      <td>02959bf7bf2c284543d5a4dbabb15c54</td>\n",
       "      <td>True</td>\n",
       "    </tr>\n",
       "  </tbody>\n",
       "</table>\n",
       "</div>"
      ],
      "text/plain": [
       "      cert_alg_element  cert_basicConstraints_cA  cert_id  cert_idx  \\\n",
       "13653    rsaEncryption                       NaN      1.0     155.0   \n",
       "\n",
       "       cert_ifCRLSign  cert_ifDataEncipherment  cert_ifDigitalSig  \\\n",
       "13653             NaN                      NaN                NaN   \n",
       "\n",
       "       cert_ifKeyCertSign  cert_ifKeyEncipherment  \\\n",
       "13653                 NaN                     NaN   \n",
       "\n",
       "                                                                                                                           cert_issuer  \\\n",
       "13653  rdnSequence: 3 items (id-at-commonName=DigiCert SHA2 Secure Server CA,id-at-organizationName=DigiCert Inc,id-at-countryName=US)   \n",
       "\n",
       "                             cert_keyIdentifier  cert_public_key_exponent  \\\n",
       "13653  0f80611c823161d52f28e78d4638b42ce1c6d9e2                   65537.0   \n",
       "\n",
       "                         cert_resourceIdentifier  \\\n",
       "13653  http://crl3.digicert.com/ssca-sha2-g6.crl   \n",
       "\n",
       "                                   cert_san  \\\n",
       "13653  *.urbanairship.com,urbanairship.com,   \n",
       "\n",
       "                                                         cert_sct_logid  \\\n",
       "13653  2979bef09e393921f056739f63a577e5be577d9c600af8f94d5d265c255dc784   \n",
       "\n",
       "       cert_serialNum_from_ber        cert_serialNum_from_x509af  \\\n",
       "13653                      NaN  02959bf7bf2c284543d5a4dbabb15c54   \n",
       "\n",
       "      cert_sig_hash_hash cert_sig_hash_sig  cert_sig_len  \\\n",
       "13653             SHA256             ECDSA           NaN   \n",
       "\n",
       "                                                  cert_sortedtime  \\\n",
       "13653  ['2020-06-09 00:00:00 (UTC)', '2022-07-14 12:00:00 (UTC)']   \n",
       "\n",
       "                                                                                                                                                                                                  cert_subject  \\\n",
       "13653  rdnSequence: 6 items (id-at-commonName=*.urbanairship.com,id-at-organizationalUnitName=Operations,id-at-organizationName=Urban Airship, Inc.,id-at-localityName=Portland,id-at-stateOrProvinceName=O...   \n",
       "\n",
       "                      cert_subjectKeyIdentifier cert_version serv_curve  \\\n",
       "13653  97474bbe7b7e8e772da0e0fb130cf45e760583ae           v3       None   \n",
       "\n",
       "            cert_notBefore        cert_notAfter cert_validity_days  \\\n",
       "13653  2020-06-09 00:00:00  2022-07-14 12:00:00  765 days 12:00:00   \n",
       "\n",
       "       cert_mapped_idx                          cert_cap_ts  cert_cap_uts  \\\n",
       "13653                3  Apr 16, 2022 13:24:45.889406000 EDT  1.650130e+09   \n",
       "\n",
       "          cert_ip_dst    cert_ip_src  cert_tcp_dstport  cert_tcp_srcport  \\\n",
       "13653  67.205.150.252  35.201.74.116             44924               443   \n",
       "\n",
       "       cert_ts_idx_end  cert_ts_idx_start                       issuer_CN  \\\n",
       "13653            473.0                3.0  DigiCert SHA2 Secure Server CA   \n",
       "\n",
       "           issuer_O  issuer_OUnit issuer_C          subject_CN      subject_O  \\\n",
       "13653  DigiCert Inc           NaN       US  *.urbanairship.com  Urban Airship   \n",
       "\n",
       "       subject_OUnit subject_C             cert_sig_alg if_weak_sig_alg  \\\n",
       "13653            NaN        US  sha256WithRSAEncryption           False   \n",
       "\n",
       "        dev_dst_ip_x dev_dst_port_x                   dev_dst_sni  \\\n",
       "13653  35.201.74.116            443  remote-data.urbanairship.com   \n",
       "\n",
       "        cert_idx_list  cert_loc  cert_chain_len  \\\n",
       "13653  [155.0, 333.0]         0               2   \n",
       "\n",
       "                                                                                                                                                                                                  chain_issuer  \\\n",
       "13653  [rdnSequence: 3 items (id-at-commonName=DigiCert SHA2 Secure Server CA,id-at-organizationName=DigiCert Inc,id-at-countryName=US), rdnSequence: 4 items (id-at-commonName=DigiCert Global Root CA,id-...   \n",
       "\n",
       "                     chain_issuer_O  \\\n",
       "13653  [DigiCert Inc, DigiCert Inc]   \n",
       "\n",
       "                                                 chain_issuer_CN  \\\n",
       "13653  [DigiCert SHA2 Secure Server CA, DigiCert Global Root CA]   \n",
       "\n",
       "                                                                                                                                                                                                 chain_subject  \\\n",
       "13653  [rdnSequence: 6 items (id-at-commonName=*.urbanairship.com,id-at-organizationalUnitName=Operations,id-at-organizationName=Urban Airship, Inc.,id-at-localityName=Portland,id-at-stateOrProvinceName=...   \n",
       "\n",
       "                     chain_subject_O  \\\n",
       "13653  [Urban Airship, DigiCert Inc]   \n",
       "\n",
       "                                           chain_subject_CN  \\\n",
       "13653  [*.urbanairship.com, DigiCert SHA2 Secure Server CA]   \n",
       "\n",
       "      chain_basicConstraintsCA chain_ifKeyCertSign  \\\n",
       "13653               [nan, 1.0]        [None, None]   \n",
       "\n",
       "                                                                        chain_keyIdentifier  \\\n",
       "13653  [0f80611c823161d52f28e78d4638b42ce1c6d9e2, 03de503556d14cbb66f0a3e21b1bc397b23dd155]   \n",
       "\n",
       "                                                                    chain_subjectIdentifier  \\\n",
       "13653  [97474bbe7b7e8e772da0e0fb130cf45e760583ae, 0f80611c823161d52f28e78d4638b42ce1c6d9e2]   \n",
       "\n",
       "      chain_serial_from_ber  \\\n",
       "13653          [None, None]   \n",
       "\n",
       "                                                   chain_serial_from_x509af  \\\n",
       "13653  [02959bf7bf2c284543d5a4dbabb15c54, 01fda3eb6eca75c888438b724bcfbc91]   \n",
       "\n",
       "                                                                                                                                                                                       client_ciphersuite_code  \\\n",
       "13653  ['c02c', 'c030', '009f', 'cca9', 'cca8', 'ccaa', 'c02b', 'c02f', '009e', 'c024', 'c028', '006b', 'c023', 'c027', '0067', 'c00a', 'c014', '0039', 'c009', 'c013', '0033', '009d', '009c', '003d', '00...   \n",
       "\n",
       "      client_compression_method                 client_extension_type_code  \\\n",
       "13653                     ['0']  ['0', '11', '10', '35', '22', '23', '13']   \n",
       "\n",
       "       client_hello_id  client_idx  \\\n",
       "13653              1.0       115.0   \n",
       "\n",
       "                                                                                                                                               client_sig_hash_alg_code  \\\n",
       "13653  ['0403', '0503', '0603', '0807', '0808', '0809', '080a', '080b', '0804', '0805', '0806', '0401', '0501', '0601', '0303', '0301', '0302', '0402', '0502', '0602']   \n",
       "\n",
       "                                                                                                      client_sig_hash_hash_code  \\\n",
       "13653  ['04', '05', '06', '08', '08', '08', '08', '08', '08', '08', '08', '04', '05', '06', '03', '03', '03', '04', '05', '06']   \n",
       "\n",
       "                    client_supported_group_code        server_name_indication  \\\n",
       "13653  ['001d', '0017', '001e', '0019', '0018']  remote-data.urbanairship.com   \n",
       "\n",
       "       clnt_mapped_idx                          clnt_cap_ts  clnt_cap_uts  \\\n",
       "13653                3  Apr 16, 2022 13:24:45.887060000 EDT  1.650130e+09   \n",
       "\n",
       "         clnt_ip_dst     clnt_ip_src  clnt_tcp_dstport  clnt_tcp_srcport  \\\n",
       "13653  35.201.74.116  67.205.150.252               443             44924   \n",
       "\n",
       "       clnt_ts_idx_end  clnt_ts_idx_start client_tls_version  \\\n",
       "13653            260.0                3.0            TLS 1.2   \n",
       "\n",
       "                                                                                                                                                                                            client_ciphersuite  \\\n",
       "13653  ['TLS_ECDHE_ECDSA_WITH_AES_256_GCM_SHA384', 'TLS_ECDHE_RSA_WITH_AES_256_GCM_SHA384', 'TLS_DHE_RSA_WITH_AES_256_GCM_SHA384', 'TLS_ECDHE_ECDSA_WITH_CHACHA20_POLY1305_SHA256', 'TLS_ECDHE_RSA_WITH_CHA...   \n",
       "\n",
       "                                                                                                                                 client_extension_type  \\\n",
       "13653  ['server_name', 'ec_point_formats', 'supported_groups', 'session_ticket', 'encrypt_then_mac', 'extended_master_secret', 'signature_algorithms']   \n",
       "\n",
       "                                         client_supported_groups  \\\n",
       "13653  ['x25519', 'secp256r1', 'x448', 'secp521r1', 'secp384r1']   \n",
       "\n",
       "                                                                                                                                                                                           client_sig_hash_alg  \\\n",
       "13653  ['ecdsa_secp256r1_sha256', 'ecdsa_secp384r1_sha384', 'ecdsa_secp521r1_sha512', 'ed25519', 'ed448', 'rsa_pss_pss_sha256', 'rsa_pss_pss_sha384', 'rsa_pss_pss_sha512', 'rsa_pss_rsae_sha256', 'rsa_pss...   \n",
       "\n",
       "                                                                                                                                                                                          client_sig_hash_hash  \\\n",
       "13653  ['SHA256', 'SHA384', 'SHA512', 'Unknown', 'Unknown', 'Unknown', 'Unknown', 'Unknown', 'Unknown', 'Unknown', 'Unknown', 'SHA256', 'SHA384', 'SHA512', 'SHA224', 'SHA224', 'SHA224', 'SHA256', 'SHA384...   \n",
       "\n",
       "       if_weak_cipher_included weak_cipher_included weak_sigalg_included  \\\n",
       "13653                    False                   []                   []   \n",
       "\n",
       "       if_tls_fallback  if_weak_sigalg   dev_dst_ip_y dev_dst_port_y  \\\n",
       "13653            False           False  35.201.74.116            443   \n",
       "\n",
       "                                server_ciphersuite server_ciphersuite_code  \\\n",
       "13653  TLS_ECDHE_RSA_WITH_CHACHA20_POLY1305_SHA256                    cca8   \n",
       "\n",
       "      server_compression_method   server_extension_type_code  server_hello_id  \\\n",
       "13653                     ['0']  ['23', '65281', '11', '35']              1.0   \n",
       "\n",
       "       server_idx server_tls_version  serv_mapped_idx  \\\n",
       "13653        51.0            TLS 1.2                3   \n",
       "\n",
       "                               serv_cap_ts  serv_cap_uts     serv_ip_dst  \\\n",
       "13653  Apr 16, 2022 13:24:45.889406000 EDT  1.650130e+09  67.205.150.252   \n",
       "\n",
       "         serv_ip_src  serv_tcp_dstport  serv_tcp_srcport  serv_ts_idx_end  \\\n",
       "13653  35.201.74.116             44924               443            473.0   \n",
       "\n",
       "       serv_ts_idx_start  \\\n",
       "13653                3.0   \n",
       "\n",
       "                                                                        server_extension_type  \\\n",
       "13653  ['extended_master_secret', 'renegotiation_info', 'ec_point_formats', 'session_ticket']   \n",
       "\n",
       "       if_weak_cipher     dev_dst_ip dev_dst_port  \\\n",
       "13653           False  35.201.74.116          443   \n",
       "\n",
       "                             serial_num  response  \n",
       "13653  02959bf7bf2c284543d5a4dbabb15c54      True  "
      ]
     },
     "execution_count": 3,
     "metadata": {},
     "output_type": "execute_result"
    }
   ],
   "source": [
    "dev.sample(1)"
   ]
  },
  {
   "cell_type": "code",
   "execution_count": 4,
   "id": "typical-nickel",
   "metadata": {},
   "outputs": [],
   "source": [
    "names = pd.read_parquet(\"../datasets/sni_used_to_generate_pcaps.parquet\")"
   ]
  },
  {
   "cell_type": "markdown",
   "id": "agreed-basket",
   "metadata": {},
   "source": [
    "### Merge to obtain device information"
   ]
  },
  {
   "cell_type": "code",
   "execution_count": 5,
   "id": "polish-delta",
   "metadata": {},
   "outputs": [],
   "source": [
    "dev_withid = pd.merge(dev, names, how='left', left_on='server_name_indication', right_on='sni')"
   ]
  },
  {
   "cell_type": "code",
   "execution_count": 6,
   "id": "continuing-means",
   "metadata": {},
   "outputs": [
    {
     "data": {
      "text/plain": [
       "(371079, 123)"
      ]
     },
     "execution_count": 6,
     "metadata": {},
     "output_type": "execute_result"
    }
   ],
   "source": [
    "dev_withid.shape"
   ]
  },
  {
   "cell_type": "code",
   "execution_count": 7,
   "id": "rural-latitude",
   "metadata": {},
   "outputs": [
    {
     "data": {
      "text/plain": [
       "(0, 123)"
      ]
     },
     "execution_count": 7,
     "metadata": {},
     "output_type": "execute_result"
    }
   ],
   "source": [
    "dev_withid.loc[dev_withid['device_id'].isna()].shape"
   ]
  },
  {
   "cell_type": "markdown",
   "id": "broken-exclusive",
   "metadata": {},
   "source": [
    "### Statistics"
   ]
  },
  {
   "cell_type": "code",
   "execution_count": 8,
   "id": "understood-receptor",
   "metadata": {},
   "outputs": [
    {
     "data": {
      "text/plain": [
       "(842, 3)"
      ]
     },
     "execution_count": 8,
     "metadata": {},
     "output_type": "execute_result"
    }
   ],
   "source": [
    "dev_withid.groupby(['serial_num', 'issuer_CN'])['device_id'].agg('count').reset_index(name='count').shape"
   ]
  },
  {
   "cell_type": "code",
   "execution_count": 9,
   "id": "directed-fabric",
   "metadata": {},
   "outputs": [
    {
     "data": {
      "text/plain": [
       "(1151,)"
      ]
     },
     "execution_count": 9,
     "metadata": {},
     "output_type": "execute_result"
    }
   ],
   "source": [
    "dev_withid['sni'].value_counts().shape"
   ]
  },
  {
   "cell_type": "code",
   "execution_count": 13,
   "id": "controlling-headquarters",
   "metadata": {},
   "outputs": [
    {
     "data": {
      "text/plain": [
       "(65,)"
      ]
     },
     "execution_count": 13,
     "metadata": {},
     "output_type": "execute_result"
    }
   ],
   "source": [
    "dev_withid.loc[dev_withid['device_vendor'] != \"unknown\"]['device_vendor'].value_counts().shape"
   ]
  },
  {
   "cell_type": "code",
   "execution_count": 21,
   "id": "entitled-gibraltar",
   "metadata": {},
   "outputs": [
    {
     "data": {
      "text/plain": [
       "DigiCert Inc                        114611\n",
       "Google Trust Services LLC            99985\n",
       "Amazon                               78816\n",
       "Netflix                              13422\n",
       "Roku                                 12537\n",
       "Sectigo Limited                       8910\n",
       "GoDaddy.com                           6022\n",
       "GlobalSign nv-sa                      5286\n",
       "Apple Inc.                            3701\n",
       "COMODO CA Limited                     3255\n",
       "Samsung Electronics                   3210\n",
       "Cloudflare                            3122\n",
       "Nest Labs                             3040\n",
       "Sony Computer Entertainment Inc.      2397\n",
       "Microsoft Corporation                 2395\n",
       "Nintendo of America Inc.              1685\n",
       "Let's Encrypt                         1525\n",
       "Nintendo of America                   1100\n",
       "Comodo Japan                           873\n",
       "Network Solutions L.L.C.               860\n",
       "Entrust                                816\n",
       "Philips Hue                            640\n",
       "Netflix Inc                            480\n",
       "Canary Connect                         340\n",
       "nan                                    300\n",
       "LG Electronics Inc.                    240\n",
       "TAIWAN-CA                              220\n",
       "Gandi                                  213\n",
       "Sense Labs Inc                         177\n",
       "Universal Electronics Inc              160\n",
       "ZeroSSL                                137\n",
       "ecobee inc                              80\n",
       "Tesla Inc.                              80\n",
       "Obihai Technology Inc.                  76\n",
       "Symantec Corporation                    68\n",
       "ATT Mobility and Entertainment          60\n",
       "Tesla Motors                            60\n",
       "EchoStar                                60\n",
       "Samsung                                 60\n",
       "Trustwave Holdings                      60\n",
       "Name: issuer_O, dtype: int64"
      ]
     },
     "execution_count": 21,
     "metadata": {},
     "output_type": "execute_result"
    }
   ],
   "source": [
    "## the same issuer with different name included\n",
    "dev_withid['issuer_O'].value_counts()"
   ]
  },
  {
   "cell_type": "code",
   "execution_count": 22,
   "id": "decimal-highlight",
   "metadata": {},
   "outputs": [],
   "source": [
    "dev_stat = dev_withid.groupby(['serial_num', 'issuer_CN'])['sni']\\\n",
    "                     .agg(lambda x: x.nunique()).reset_index(name='num_sni')"
   ]
  },
  {
   "cell_type": "code",
   "execution_count": 23,
   "id": "legitimate-princess",
   "metadata": {},
   "outputs": [
    {
     "data": {
      "text/html": [
       "<div>\n",
       "<style scoped>\n",
       "    .dataframe tbody tr th:only-of-type {\n",
       "        vertical-align: middle;\n",
       "    }\n",
       "\n",
       "    .dataframe tbody tr th {\n",
       "        vertical-align: top;\n",
       "    }\n",
       "\n",
       "    .dataframe thead th {\n",
       "        text-align: right;\n",
       "    }\n",
       "</style>\n",
       "<table border=\"1\" class=\"dataframe\">\n",
       "  <thead>\n",
       "    <tr style=\"text-align: right;\">\n",
       "      <th></th>\n",
       "      <th>serial_num</th>\n",
       "      <th>issuer_CN</th>\n",
       "      <th>num_sni</th>\n",
       "    </tr>\n",
       "  </thead>\n",
       "  <tbody>\n",
       "    <tr>\n",
       "      <th>606</th>\n",
       "      <td>0e89e157eaac5464de298184c3b3ec31</td>\n",
       "      <td>DigiCert TLS RSA SHA256 2020 CA1</td>\n",
       "      <td>1</td>\n",
       "    </tr>\n",
       "    <tr>\n",
       "      <th>587</th>\n",
       "      <td>0e0ce8317efe39327a4a661a639afa69</td>\n",
       "      <td>DigiCert Global CA G2</td>\n",
       "      <td>1</td>\n",
       "    </tr>\n",
       "  </tbody>\n",
       "</table>\n",
       "</div>"
      ],
      "text/plain": [
       "                           serial_num                         issuer_CN  \\\n",
       "606  0e89e157eaac5464de298184c3b3ec31  DigiCert TLS RSA SHA256 2020 CA1   \n",
       "587  0e0ce8317efe39327a4a661a639afa69             DigiCert Global CA G2   \n",
       "\n",
       "     num_sni  \n",
       "606        1  \n",
       "587        1  "
      ]
     },
     "execution_count": 23,
     "metadata": {},
     "output_type": "execute_result"
    }
   ],
   "source": [
    "dev_stat.sample(2)"
   ]
  },
  {
   "cell_type": "code",
   "execution_count": 24,
   "id": "shaped-liability",
   "metadata": {},
   "outputs": [
    {
     "data": {
      "text/html": [
       "<div>\n",
       "<style scoped>\n",
       "    .dataframe tbody tr th:only-of-type {\n",
       "        vertical-align: middle;\n",
       "    }\n",
       "\n",
       "    .dataframe tbody tr th {\n",
       "        vertical-align: top;\n",
       "    }\n",
       "\n",
       "    .dataframe thead th {\n",
       "        text-align: right;\n",
       "    }\n",
       "</style>\n",
       "<table border=\"1\" class=\"dataframe\">\n",
       "  <thead>\n",
       "    <tr style=\"text-align: right;\">\n",
       "      <th></th>\n",
       "      <th>serial_num</th>\n",
       "      <th>issuer_CN</th>\n",
       "      <th>num_sni</th>\n",
       "    </tr>\n",
       "  </thead>\n",
       "  <tbody>\n",
       "    <tr>\n",
       "      <th>23</th>\n",
       "      <td>00ba1bd1a082861a8e1200000000068b53</td>\n",
       "      <td>GTS CA 1C3</td>\n",
       "      <td>32</td>\n",
       "    </tr>\n",
       "  </tbody>\n",
       "</table>\n",
       "</div>"
      ],
      "text/plain": [
       "                            serial_num   issuer_CN  num_sni\n",
       "23  00ba1bd1a082861a8e1200000000068b53  GTS CA 1C3       32"
      ]
     },
     "execution_count": 24,
     "metadata": {},
     "output_type": "execute_result"
    }
   ],
   "source": [
    "dev_stat[dev_stat['num_sni'] == dev_stat['num_sni'].max()]"
   ]
  },
  {
   "cell_type": "code",
   "execution_count": 25,
   "id": "cleared-video",
   "metadata": {},
   "outputs": [
    {
     "data": {
      "text/plain": [
       "1.7185273159144894"
      ]
     },
     "execution_count": 25,
     "metadata": {},
     "output_type": "execute_result"
    }
   ],
   "source": [
    "dev_stat['num_sni'].mean()"
   ]
  },
  {
   "cell_type": "code",
   "execution_count": 26,
   "id": "asian-serial",
   "metadata": {},
   "outputs": [
    {
     "data": {
      "text/plain": [
       "5.531856092594214"
      ]
     },
     "execution_count": 26,
     "metadata": {},
     "output_type": "execute_result"
    }
   ],
   "source": [
    "dev_stat['num_sni'].var()"
   ]
  },
  {
   "cell_type": "code",
   "execution_count": 27,
   "id": "bridal-jumping",
   "metadata": {},
   "outputs": [],
   "source": [
    "dev_ip = dev_withid[['serial_num', 'issuer_CN', 'sni', 'cert_ip_src']]"
   ]
  },
  {
   "cell_type": "code",
   "execution_count": 28,
   "id": "fresh-thunder",
   "metadata": {},
   "outputs": [],
   "source": [
    "dev_ipstat = dev_withid.groupby(['serial_num', 'issuer_CN'])['cert_ip_src']\\\n",
    "                       .agg(lambda x: x.nunique()).reset_index(name='num_ip')"
   ]
  },
  {
   "cell_type": "code",
   "execution_count": 29,
   "id": "referenced-volume",
   "metadata": {},
   "outputs": [
    {
     "data": {
      "text/html": [
       "<div>\n",
       "<style scoped>\n",
       "    .dataframe tbody tr th:only-of-type {\n",
       "        vertical-align: middle;\n",
       "    }\n",
       "\n",
       "    .dataframe tbody tr th {\n",
       "        vertical-align: top;\n",
       "    }\n",
       "\n",
       "    .dataframe thead th {\n",
       "        text-align: right;\n",
       "    }\n",
       "</style>\n",
       "<table border=\"1\" class=\"dataframe\">\n",
       "  <thead>\n",
       "    <tr style=\"text-align: right;\">\n",
       "      <th></th>\n",
       "      <th>serial_num</th>\n",
       "      <th>issuer_CN</th>\n",
       "      <th>num_ip</th>\n",
       "    </tr>\n",
       "  </thead>\n",
       "  <tbody>\n",
       "    <tr>\n",
       "      <th>458</th>\n",
       "      <td>0abc3881e7ccb4abd8a9147f9d9883c2</td>\n",
       "      <td>DigiCert TLS RSA SHA256 2020 CA1</td>\n",
       "      <td>4</td>\n",
       "    </tr>\n",
       "    <tr>\n",
       "      <th>425</th>\n",
       "      <td>0a0bc641b77a8ffdc3c97f53849a43ba</td>\n",
       "      <td>DigiCert TLS RSA SHA256 2020 CA1</td>\n",
       "      <td>1</td>\n",
       "    </tr>\n",
       "  </tbody>\n",
       "</table>\n",
       "</div>"
      ],
      "text/plain": [
       "                           serial_num                         issuer_CN  \\\n",
       "458  0abc3881e7ccb4abd8a9147f9d9883c2  DigiCert TLS RSA SHA256 2020 CA1   \n",
       "425  0a0bc641b77a8ffdc3c97f53849a43ba  DigiCert TLS RSA SHA256 2020 CA1   \n",
       "\n",
       "     num_ip  \n",
       "458       4  \n",
       "425       1  "
      ]
     },
     "execution_count": 29,
     "metadata": {},
     "output_type": "execute_result"
    }
   ],
   "source": [
    "dev_ipstat.sample(2)"
   ]
  },
  {
   "cell_type": "code",
   "execution_count": 30,
   "id": "exterior-transport",
   "metadata": {},
   "outputs": [],
   "source": [
    "dev_servip_stat = pd.merge(dev_stat, dev_ipstat, \\\n",
    "                           left_on=['serial_num', 'issuer_CN'], \\\n",
    "                           right_on=['serial_num', 'issuer_CN'], \\\n",
    "                           how='inner')"
   ]
  },
  {
   "cell_type": "code",
   "execution_count": 31,
   "id": "academic-bicycle",
   "metadata": {},
   "outputs": [
    {
     "data": {
      "text/html": [
       "<div>\n",
       "<style scoped>\n",
       "    .dataframe tbody tr th:only-of-type {\n",
       "        vertical-align: middle;\n",
       "    }\n",
       "\n",
       "    .dataframe tbody tr th {\n",
       "        vertical-align: top;\n",
       "    }\n",
       "\n",
       "    .dataframe thead th {\n",
       "        text-align: right;\n",
       "    }\n",
       "</style>\n",
       "<table border=\"1\" class=\"dataframe\">\n",
       "  <thead>\n",
       "    <tr style=\"text-align: right;\">\n",
       "      <th></th>\n",
       "      <th>serial_num</th>\n",
       "      <th>issuer_CN</th>\n",
       "      <th>num_sni</th>\n",
       "      <th>num_ip</th>\n",
       "    </tr>\n",
       "  </thead>\n",
       "  <tbody>\n",
       "    <tr>\n",
       "      <th>461</th>\n",
       "      <td>0ac8f3034c07ae64f5f5efb934bf1da4</td>\n",
       "      <td>DigiCert TLS RSA SHA256 2020 CA1</td>\n",
       "      <td>1</td>\n",
       "      <td>1</td>\n",
       "    </tr>\n",
       "    <tr>\n",
       "      <th>455</th>\n",
       "      <td>0aafecabdb6d008d9f9feba0d16bd750</td>\n",
       "      <td>GeoTrust RSA CA 2018</td>\n",
       "      <td>3</td>\n",
       "      <td>4</td>\n",
       "    </tr>\n",
       "  </tbody>\n",
       "</table>\n",
       "</div>"
      ],
      "text/plain": [
       "                           serial_num                         issuer_CN  \\\n",
       "461  0ac8f3034c07ae64f5f5efb934bf1da4  DigiCert TLS RSA SHA256 2020 CA1   \n",
       "455  0aafecabdb6d008d9f9feba0d16bd750              GeoTrust RSA CA 2018   \n",
       "\n",
       "     num_sni  num_ip  \n",
       "461        1       1  \n",
       "455        3       4  "
      ]
     },
     "execution_count": 31,
     "metadata": {},
     "output_type": "execute_result"
    }
   ],
   "source": [
    "dev_servip_stat.sample(2)"
   ]
  },
  {
   "cell_type": "code",
   "execution_count": 32,
   "id": "yellow-inquiry",
   "metadata": {},
   "outputs": [
    {
     "data": {
      "text/html": [
       "<div>\n",
       "<style scoped>\n",
       "    .dataframe tbody tr th:only-of-type {\n",
       "        vertical-align: middle;\n",
       "    }\n",
       "\n",
       "    .dataframe tbody tr th {\n",
       "        vertical-align: top;\n",
       "    }\n",
       "\n",
       "    .dataframe thead th {\n",
       "        text-align: right;\n",
       "    }\n",
       "</style>\n",
       "<table border=\"1\" class=\"dataframe\">\n",
       "  <thead>\n",
       "    <tr style=\"text-align: right;\">\n",
       "      <th></th>\n",
       "      <th>serial_num</th>\n",
       "      <th>issuer_CN</th>\n",
       "      <th>num_sni</th>\n",
       "      <th>num_ip</th>\n",
       "    </tr>\n",
       "  </thead>\n",
       "  <tbody>\n",
       "    <tr>\n",
       "      <th>448</th>\n",
       "      <td>0a7d777742b470e4766b807438f0c184</td>\n",
       "      <td>Amazon</td>\n",
       "      <td>21</td>\n",
       "      <td>93</td>\n",
       "    </tr>\n",
       "  </tbody>\n",
       "</table>\n",
       "</div>"
      ],
      "text/plain": [
       "                           serial_num issuer_CN  num_sni  num_ip\n",
       "448  0a7d777742b470e4766b807438f0c184    Amazon       21      93"
      ]
     },
     "execution_count": 32,
     "metadata": {},
     "output_type": "execute_result"
    }
   ],
   "source": [
    "dev_servip_stat[dev_servip_stat['num_ip'] == dev_servip_stat['num_ip'].max()]"
   ]
  },
  {
   "cell_type": "code",
   "execution_count": 33,
   "id": "consolidated-commitment",
   "metadata": {},
   "outputs": [
    {
     "data": {
      "text/plain": [
       "5.42874109263658"
      ]
     },
     "execution_count": 33,
     "metadata": {},
     "output_type": "execute_result"
    }
   ],
   "source": [
    "dev_servip_stat['num_ip'].mean()"
   ]
  },
  {
   "cell_type": "code",
   "execution_count": 34,
   "id": "documented-kentucky",
   "metadata": {},
   "outputs": [
    {
     "data": {
      "text/plain": [
       "90.66138462016431"
      ]
     },
     "execution_count": 34,
     "metadata": {},
     "output_type": "execute_result"
    }
   ],
   "source": [
    "dev_servip_stat['num_ip'].var()"
   ]
  },
  {
   "cell_type": "code",
   "execution_count": 35,
   "id": "german-jacket",
   "metadata": {},
   "outputs": [
    {
     "data": {
      "text/plain": [
       "(547, 4)"
      ]
     },
     "execution_count": 35,
     "metadata": {},
     "output_type": "execute_result"
    }
   ],
   "source": [
    "dev_servip_stat.loc[dev_servip_stat['num_ip'] > 1].shape"
   ]
  },
  {
   "cell_type": "code",
   "execution_count": 36,
   "id": "wicked-indicator",
   "metadata": {},
   "outputs": [
    {
     "data": {
      "text/plain": [
       "7.817184643510055"
      ]
     },
     "execution_count": 36,
     "metadata": {},
     "output_type": "execute_result"
    }
   ],
   "source": [
    "dev_servip_stat.loc[dev_servip_stat['num_ip'] > 1]['num_ip'].mean()"
   ]
  },
  {
   "cell_type": "code",
   "execution_count": 37,
   "id": "useful-reservoir",
   "metadata": {},
   "outputs": [],
   "source": [
    "temp_max = dev_servip_stat.loc[dev_servip_stat['num_ip'] > 1]"
   ]
  },
  {
   "cell_type": "code",
   "execution_count": 38,
   "id": "right-context",
   "metadata": {},
   "outputs": [
    {
     "data": {
      "text/html": [
       "<div>\n",
       "<style scoped>\n",
       "    .dataframe tbody tr th:only-of-type {\n",
       "        vertical-align: middle;\n",
       "    }\n",
       "\n",
       "    .dataframe tbody tr th {\n",
       "        vertical-align: top;\n",
       "    }\n",
       "\n",
       "    .dataframe thead th {\n",
       "        text-align: right;\n",
       "    }\n",
       "</style>\n",
       "<table border=\"1\" class=\"dataframe\">\n",
       "  <thead>\n",
       "    <tr style=\"text-align: right;\">\n",
       "      <th></th>\n",
       "      <th>serial_num</th>\n",
       "      <th>issuer_CN</th>\n",
       "      <th>num_sni</th>\n",
       "      <th>num_ip</th>\n",
       "    </tr>\n",
       "  </thead>\n",
       "  <tbody>\n",
       "    <tr>\n",
       "      <th>448</th>\n",
       "      <td>0a7d777742b470e4766b807438f0c184</td>\n",
       "      <td>Amazon</td>\n",
       "      <td>21</td>\n",
       "      <td>93</td>\n",
       "    </tr>\n",
       "  </tbody>\n",
       "</table>\n",
       "</div>"
      ],
      "text/plain": [
       "                           serial_num issuer_CN  num_sni  num_ip\n",
       "448  0a7d777742b470e4766b807438f0c184    Amazon       21      93"
      ]
     },
     "execution_count": 38,
     "metadata": {},
     "output_type": "execute_result"
    }
   ],
   "source": [
    "temp_max[temp_max['num_ip'] == temp_max['num_ip'].max()]"
   ]
  },
  {
   "cell_type": "markdown",
   "id": "dried-coast",
   "metadata": {},
   "source": [
    "## 5.2 Issuer"
   ]
  },
  {
   "cell_type": "markdown",
   "id": "chief-opera",
   "metadata": {},
   "source": [
    "### Drop columns that will not be used in the analysis"
   ]
  },
  {
   "cell_type": "code",
   "execution_count": 39,
   "id": "representative-edwards",
   "metadata": {},
   "outputs": [],
   "source": [
    "_col2drop = ['cert_keyIdentifier', 'cert_sortedtime', 'cert_subjectKeyIdentifier', 'cert_mapped_idx', \\\n",
    "             'cert_cap_ts', 'cert_cap_uts', 'dev_dst_ip_x', 'dev_dst_port_x', 'dev_dst_sni', 'cert_idx_list', \\\n",
    "             'client_ciphersuite_code', 'client_compression_method', 'client_extension_type_code', 'client_hello_id', \\\n",
    "             'client_idx', 'client_sig_hash_alg_code', 'client_sig_hash_hash_code', 'client_supported_group_code', \\\n",
    "             'clnt_mapped_idx', 'clnt_cap_ts', 'clnt_cap_uts', 'clnt_ip_dst', 'clnt_ip_src', 'clnt_tcp_dstport', \\\n",
    "             'clnt_tcp_srcport', 'clnt_ts_idx_end', 'clnt_ts_idx_start', 'client_tls_version', 'client_ciphersuite', \\\n",
    "             'client_extension_type', 'client_supported_groups', 'client_sig_hash_alg', 'client_sig_hash_hash', \\\n",
    "             'if_weak_cipher_included', 'weak_cipher_included', 'weak_sigalg_included', 'dev_dst_ip_y', 'dev_dst_port_y', \\\n",
    "             'cert_ts_idx_end', 'cert_ts_idx_start', 'server_hello_id', 'server_idx', 'serv_mapped_idx', 'serv_cap_ts', \\\n",
    "             'serv_cap_uts', 'serv_ip_dst', 'serv_ip_src', 'serv_tcp_dstport', 'serv_tcp_srcport', 'serv_ts_idx_end', \\\n",
    "             'serv_ts_idx_start', 'dev_dst_ip', 'dev_dst_port']"
   ]
  },
  {
   "cell_type": "code",
   "execution_count": 40,
   "id": "numerous-dollar",
   "metadata": {},
   "outputs": [],
   "source": [
    "dev_dropcol = dev_withid.drop([*_col2drop], 1)"
   ]
  },
  {
   "cell_type": "code",
   "execution_count": 41,
   "id": "concrete-webmaster",
   "metadata": {},
   "outputs": [
    {
     "data": {
      "text/plain": [
       "Index(['cert_alg_element', 'cert_basicConstraints_cA', 'cert_id', 'cert_idx',\n",
       "       'cert_ifCRLSign', 'cert_ifDataEncipherment', 'cert_ifDigitalSig',\n",
       "       'cert_ifKeyCertSign', 'cert_ifKeyEncipherment', 'cert_issuer',\n",
       "       'cert_public_key_exponent', 'cert_resourceIdentifier', 'cert_san',\n",
       "       'cert_sct_logid', 'cert_serialNum_from_ber',\n",
       "       'cert_serialNum_from_x509af', 'cert_sig_hash_hash', 'cert_sig_hash_sig',\n",
       "       'cert_sig_len', 'cert_subject', 'cert_version', 'serv_curve',\n",
       "       'cert_notBefore', 'cert_notAfter', 'cert_validity_days', 'cert_ip_dst',\n",
       "       'cert_ip_src', 'cert_tcp_dstport', 'cert_tcp_srcport', 'issuer_CN',\n",
       "       'issuer_O', 'issuer_OUnit', 'issuer_C', 'subject_CN', 'subject_O',\n",
       "       'subject_OUnit', 'subject_C', 'cert_sig_alg', 'if_weak_sig_alg',\n",
       "       'cert_loc', 'cert_chain_len', 'chain_issuer', 'chain_issuer_O',\n",
       "       'chain_issuer_CN', 'chain_subject', 'chain_subject_O',\n",
       "       'chain_subject_CN', 'chain_basicConstraintsCA', 'chain_ifKeyCertSign',\n",
       "       'chain_keyIdentifier', 'chain_subjectIdentifier',\n",
       "       'chain_serial_from_ber', 'chain_serial_from_x509af',\n",
       "       'server_name_indication', 'if_tls_fallback', 'if_weak_sigalg',\n",
       "       'server_ciphersuite', 'server_ciphersuite_code',\n",
       "       'server_compression_method', 'server_extension_type_code',\n",
       "       'server_tls_version', 'server_extension_type', 'if_weak_cipher',\n",
       "       'serial_num', 'response', 'device_id', 'sni', 'device_vendor',\n",
       "       'device_name', 'user_key'],\n",
       "      dtype='object')"
      ]
     },
     "execution_count": 41,
     "metadata": {},
     "output_type": "execute_result"
    }
   ],
   "source": [
    "dev_dropcol.columns"
   ]
  },
  {
   "cell_type": "markdown",
   "id": "literary-respect",
   "metadata": {},
   "source": [
    "### Issuer Overview"
   ]
  },
  {
   "cell_type": "code",
   "execution_count": 42,
   "id": "destroyed-burning",
   "metadata": {},
   "outputs": [
    {
     "data": {
      "text/plain": [
       "(371079, 70)"
      ]
     },
     "execution_count": 42,
     "metadata": {},
     "output_type": "execute_result"
    }
   ],
   "source": [
    "dev_dropcol.shape"
   ]
  },
  {
   "cell_type": "code",
   "execution_count": 43,
   "id": "favorite-hunter",
   "metadata": {},
   "outputs": [],
   "source": [
    "dev_dropcol['sni'] = dev_dropcol['sni'].fillna(\"missing\")"
   ]
  },
  {
   "cell_type": "code",
   "execution_count": 44,
   "id": "middle-israeli",
   "metadata": {},
   "outputs": [],
   "source": [
    "dev_dropcol['issuer_O'] = dev_dropcol['issuer_O'].fillna(\"missing\")"
   ]
  },
  {
   "cell_type": "code",
   "execution_count": 45,
   "id": "white-opinion",
   "metadata": {},
   "outputs": [],
   "source": [
    "dev_dropcol['issuer_CN'] = dev_dropcol['issuer_CN'].fillna(\"missing\")"
   ]
  },
  {
   "cell_type": "markdown",
   "id": "wicked-optimum",
   "metadata": {},
   "source": [
    "### Get domain"
   ]
  },
  {
   "cell_type": "code",
   "execution_count": 46,
   "id": "identical-humor",
   "metadata": {},
   "outputs": [],
   "source": [
    "dev_dropcol['domain'] = dev_dropcol['sni'].apply(lambda x: \"{}.{}\".format(tldextract.extract(x).domain, tldextract.extract(x).suffix))"
   ]
  },
  {
   "cell_type": "markdown",
   "id": "turkish-cosmetic",
   "metadata": {},
   "source": [
    "### Parse issuer organizations"
   ]
  },
  {
   "cell_type": "code",
   "execution_count": 47,
   "id": "pleasant-circuit",
   "metadata": {},
   "outputs": [],
   "source": [
    "def parse_issuer(text):\n",
    "    if text.startswith('mediasoup'):\n",
    "        return \"mediasoup\"\n",
    "    return text.replace('\\\\', '').replace('\\\"', '')\\\n",
    "               .split(\" Inc\")[0].split(\" INC\")[0].split(\" L.L.C.\")[0].split(\" LLC\")[0].split(\" llc\")[0].split(\" Hue\")[0]\\\n",
    "               .split(\" Co.\")[0].split(\" CO.\")[0].split(\" Ltd\")[0].split(\" Limited\")[0].split(\" GmbH\")[0].split(\" inc\")[0].split(\" CA\")[0]"
   ]
  },
  {
   "cell_type": "markdown",
   "id": "utility-contrary",
   "metadata": {},
   "source": [
    "### Rename"
   ]
  },
  {
   "cell_type": "code",
   "execution_count": 48,
   "id": "rural-tongue",
   "metadata": {},
   "outputs": [
    {
     "name": "stderr",
     "output_type": "stream",
     "text": [
      "<ipython-input-48-fc8a4e3c8e6b>:1: SettingWithCopyWarning: \n",
      "A value is trying to be set on a copy of a slice from a DataFrame\n",
      "\n",
      "See the caveats in the documentation: https://pandas.pydata.org/pandas-docs/stable/user_guide/indexing.html#returning-a-view-versus-a-copy\n",
      "  dev_dropcol.issuer_O[dev_dropcol['issuer_CN'].str.contains('Tesla')] = 'Tesla Motor Services'\n",
      "<ipython-input-48-fc8a4e3c8e6b>:2: SettingWithCopyWarning: \n",
      "A value is trying to be set on a copy of a slice from a DataFrame\n",
      "\n",
      "See the caveats in the documentation: https://pandas.pydata.org/pandas-docs/stable/user_guide/indexing.html#returning-a-view-versus-a-copy\n",
      "  dev_dropcol.issuer_O[dev_dropcol['issuer_CN'].str.contains('TP-LINK')] = 'TP-Link'\n",
      "<ipython-input-48-fc8a4e3c8e6b>:3: SettingWithCopyWarning: \n",
      "A value is trying to be set on a copy of a slice from a DataFrame\n",
      "\n",
      "See the caveats in the documentation: https://pandas.pydata.org/pandas-docs/stable/user_guide/indexing.html#returning-a-view-versus-a-copy\n",
      "  dev_dropcol.issuer_O[dev_dropcol['issuer_CN'].str.contains('AIRTIES')] = 'AirTies'\n",
      "<ipython-input-48-fc8a4e3c8e6b>:4: SettingWithCopyWarning: \n",
      "A value is trying to be set on a copy of a slice from a DataFrame\n",
      "\n",
      "See the caveats in the documentation: https://pandas.pydata.org/pandas-docs/stable/user_guide/indexing.html#returning-a-view-versus-a-copy\n",
      "  dev_dropcol.issuer_O[dev_dropcol['issuer_O'].str.contains('Samsung')] = 'Samsung Electronics'\n",
      "<ipython-input-48-fc8a4e3c8e6b>:5: SettingWithCopyWarning: \n",
      "A value is trying to be set on a copy of a slice from a DataFrame\n",
      "\n",
      "See the caveats in the documentation: https://pandas.pydata.org/pandas-docs/stable/user_guide/indexing.html#returning-a-view-versus-a-copy\n",
      "  dev_dropcol.issuer_O[dev_dropcol['issuer_O'].str.contains('Comodo')] = 'COMODO'\n",
      "<ipython-input-48-fc8a4e3c8e6b>:6: SettingWithCopyWarning: \n",
      "A value is trying to be set on a copy of a slice from a DataFrame\n",
      "\n",
      "See the caveats in the documentation: https://pandas.pydata.org/pandas-docs/stable/user_guide/indexing.html#returning-a-view-versus-a-copy\n",
      "  dev_dropcol.issuer_O[dev_dropcol['issuer_O'] == 'nan'] = 'Tuya'\n"
     ]
    }
   ],
   "source": [
    "dev_dropcol.issuer_O[dev_dropcol['issuer_CN'].str.contains('Tesla')] = 'Tesla Motor Services'\n",
    "dev_dropcol.issuer_O[dev_dropcol['issuer_CN'].str.contains('TP-LINK')] = 'TP-Link'\n",
    "dev_dropcol.issuer_O[dev_dropcol['issuer_CN'].str.contains('AIRTIES')] = 'AirTies'\n",
    "dev_dropcol.issuer_O[dev_dropcol['issuer_O'].str.contains('Samsung')] = 'Samsung Electronics'\n",
    "dev_dropcol.issuer_O[dev_dropcol['issuer_O'].str.contains('Comodo')] = 'COMODO'\n",
    "dev_dropcol.issuer_O[dev_dropcol['issuer_O'] == 'nan'] = 'Tuya'"
   ]
  },
  {
   "cell_type": "code",
   "execution_count": 49,
   "id": "corresponding-uruguay",
   "metadata": {},
   "outputs": [],
   "source": [
    "pd.set_option('display.max_colwidth', None)"
   ]
  },
  {
   "cell_type": "markdown",
   "id": "radical-capitol",
   "metadata": {},
   "source": [
    "### Drop records with unknown devices"
   ]
  },
  {
   "cell_type": "code",
   "execution_count": 50,
   "id": "pharmaceutical-valve",
   "metadata": {},
   "outputs": [],
   "source": [
    "dev_dropcol = dev_dropcol.loc[dev_dropcol['device_vendor'] != \"Unknown\"]"
   ]
  },
  {
   "cell_type": "code",
   "execution_count": 51,
   "id": "martial-chile",
   "metadata": {},
   "outputs": [],
   "source": [
    "dev_dropcol['issuer_O'] = dev_dropcol['issuer_O'].apply(lambda x: parse_issuer(x))"
   ]
  },
  {
   "cell_type": "code",
   "execution_count": 52,
   "id": "metallic-finish",
   "metadata": {},
   "outputs": [
    {
     "data": {
      "text/plain": [
       "DigiCert                          114611\n",
       "Google Trust Services              99985\n",
       "Amazon                             78816\n",
       "Netflix                            13902\n",
       "Roku                               12537\n",
       "Sectigo                             8910\n",
       "GoDaddy.com                         6022\n",
       "GlobalSign nv-sa                    5286\n",
       "COMODO                              4128\n",
       "Apple                               3701\n",
       "Samsung Electronics                 3270\n",
       "Cloudflare                          3122\n",
       "Nest Labs                           3040\n",
       "Nintendo of America                 2785\n",
       "Sony Computer Entertainment         2397\n",
       "Microsoft Corporation               2395\n",
       "Let's Encrypt                       1525\n",
       "Network Solutions                    860\n",
       "Entrust                              816\n",
       "Philips                              640\n",
       "Tesla Motor Services                 380\n",
       "Canary Connect                       340\n",
       "LG Electronics                       240\n",
       "TAIWAN-CA                            220\n",
       "Gandi                                213\n",
       "Sense Labs                           177\n",
       "Universal Electronics                160\n",
       "ZeroSSL                              137\n",
       "ecobee                                80\n",
       "Obihai Technology                     76\n",
       "Symantec Corporation                  68\n",
       "Tuya                                  60\n",
       "EchoStar                              60\n",
       "ATT Mobility and Entertainment        60\n",
       "Trustwave Holdings                    60\n",
       "Name: issuer_O, dtype: int64"
      ]
     },
     "execution_count": 52,
     "metadata": {},
     "output_type": "execute_result"
    }
   ],
   "source": [
    "dev_dropcol['issuer_O'].value_counts()"
   ]
  },
  {
   "cell_type": "markdown",
   "id": "continuous-anatomy",
   "metadata": {},
   "source": [
    "### Organize issuer organization info"
   ]
  },
  {
   "cell_type": "code",
   "execution_count": 53,
   "id": "introductory-thong",
   "metadata": {},
   "outputs": [],
   "source": [
    "vendor_issuerlis = ['Roku', 'Samsung Electronics', 'Nest Labs', 'Nintendo of America', 'Sony Computer Entertainment', \\\n",
    "                    'Philips', 'Tesla Motor Services', 'Canary Connect', 'LG Electronics', 'Sense Labs', \\\n",
    "                    'Universal Electronics', 'ecobee', 'Obihai Technology', 'ATT Mobility and Entertainment', \\\n",
    "                    'EchoStar', 'Tuya']"
   ]
  },
  {
   "cell_type": "code",
   "execution_count": 54,
   "id": "suitable-prediction",
   "metadata": {},
   "outputs": [
    {
     "data": {
      "text/plain": [
       "(60, 71)"
      ]
     },
     "execution_count": 54,
     "metadata": {},
     "output_type": "execute_result"
    }
   ],
   "source": [
    "dev_dropcol.loc[dev_dropcol['issuer_O'].isin(vendor_issuerlis)].drop_duplicates(['issuer_O', 'issuer_CN', 'serial_num']).shape"
   ]
  },
  {
   "cell_type": "code",
   "execution_count": 55,
   "id": "christian-colombia",
   "metadata": {},
   "outputs": [
    {
     "data": {
      "text/plain": [
       "(391,)"
      ]
     },
     "execution_count": 55,
     "metadata": {},
     "output_type": "execute_result"
    }
   ],
   "source": [
    "dev_dropcol.loc[dev_dropcol['issuer_O'].isin(vendor_issuerlis)]['device_id'].value_counts().shape"
   ]
  },
  {
   "cell_type": "markdown",
   "id": "pretty-pleasure",
   "metadata": {},
   "source": [
    "### Plot"
   ]
  },
  {
   "cell_type": "code",
   "execution_count": 56,
   "id": "guided-madrid",
   "metadata": {},
   "outputs": [],
   "source": [
    "dev_dropdup = dev_dropcol.drop_duplicates(subset=['issuer_O', 'issuer_CN', 'serial_num', \\\n",
    "                                                  'sni', 'device_vendor'])"
   ]
  },
  {
   "cell_type": "code",
   "execution_count": 57,
   "id": "private-particular",
   "metadata": {},
   "outputs": [
    {
     "data": {
      "text/plain": [
       "(4949, 71)"
      ]
     },
     "execution_count": 57,
     "metadata": {},
     "output_type": "execute_result"
    }
   ],
   "source": [
    "dev_dropdup.shape"
   ]
  },
  {
   "cell_type": "code",
   "execution_count": 58,
   "id": "judicial-tuesday",
   "metadata": {},
   "outputs": [],
   "source": [
    "cat_cnt = dev_dropdup.groupby(['device_vendor'])['sni'].agg('count').reset_index(name='total')"
   ]
  },
  {
   "cell_type": "code",
   "execution_count": 59,
   "id": "twelve-bleeding",
   "metadata": {},
   "outputs": [
    {
     "data": {
      "text/plain": [
       "(66, 2)"
      ]
     },
     "execution_count": 59,
     "metadata": {},
     "output_type": "execute_result"
    }
   ],
   "source": [
    "cat_cnt.shape"
   ]
  },
  {
   "cell_type": "markdown",
   "id": "acute-motel",
   "metadata": {},
   "source": [
    "### Public trust issuer organization list"
   ]
  },
  {
   "cell_type": "code",
   "execution_count": 61,
   "id": "regional-badge",
   "metadata": {},
   "outputs": [],
   "source": [
    "public_lis = ['DigiCert', 'Amazon', 'Google Trust Services', 'Microsoft Corporation', 'Sectigo', 'GlobalSign nv-sa', \\\n",
    "              'GoDaddy.com', \"Let's Encrypt\", \"Cloudflare\", \"Network Solutions\", \"Entrust\", \"Apple\", \"COMODO CA\", \\\n",
    "              \"COMODO Japan\", \"ZeroSSL\", \"Gandi\", \"TAIWAN-CA\", \"cPanel\"]"
   ]
  },
  {
   "cell_type": "code",
   "execution_count": 64,
   "id": "frequent-subscription",
   "metadata": {},
   "outputs": [],
   "source": [
    "issuer = dev_dropdup.groupby('issuer_O')['cert_id'].agg('count').reset_index(name='count').sort_values('count', ascending=False)"
   ]
  },
  {
   "cell_type": "code",
   "execution_count": 65,
   "id": "analyzed-kitty",
   "metadata": {},
   "outputs": [
    {
     "data": {
      "text/html": [
       "<div>\n",
       "<style scoped>\n",
       "    .dataframe tbody tr th:only-of-type {\n",
       "        vertical-align: middle;\n",
       "    }\n",
       "\n",
       "    .dataframe tbody tr th {\n",
       "        vertical-align: top;\n",
       "    }\n",
       "\n",
       "    .dataframe thead th {\n",
       "        text-align: right;\n",
       "    }\n",
       "</style>\n",
       "<table border=\"1\" class=\"dataframe\">\n",
       "  <thead>\n",
       "    <tr style=\"text-align: right;\">\n",
       "      <th></th>\n",
       "      <th>issuer_O</th>\n",
       "      <th>count</th>\n",
       "    </tr>\n",
       "  </thead>\n",
       "  <tbody>\n",
       "    <tr>\n",
       "      <th>6</th>\n",
       "      <td>DigiCert</td>\n",
       "      <td>2338</td>\n",
       "    </tr>\n",
       "    <tr>\n",
       "      <th>12</th>\n",
       "      <td>Google Trust Services</td>\n",
       "      <td>791</td>\n",
       "    </tr>\n",
       "  </tbody>\n",
       "</table>\n",
       "</div>"
      ],
      "text/plain": [
       "                 issuer_O  count\n",
       "6                DigiCert   2338\n",
       "12  Google Trust Services    791"
      ]
     },
     "execution_count": 65,
     "metadata": {},
     "output_type": "execute_result"
    }
   ],
   "source": [
    "issuer.head(2)"
   ]
  },
  {
   "cell_type": "code",
   "execution_count": 66,
   "id": "waiting-myanmar",
   "metadata": {},
   "outputs": [
    {
     "data": {
      "text/plain": [
       "4949"
      ]
     },
     "execution_count": 66,
     "metadata": {},
     "output_type": "execute_result"
    }
   ],
   "source": [
    "sum(issuer['count'])"
   ]
  },
  {
   "cell_type": "markdown",
   "id": "satisfied-syndrome",
   "metadata": {},
   "source": [
    "### Calculate DigiCert percentage"
   ]
  },
  {
   "cell_type": "code",
   "execution_count": 67,
   "id": "closing-looking",
   "metadata": {},
   "outputs": [
    {
     "data": {
      "text/plain": [
       "0.4724186704384724"
      ]
     },
     "execution_count": 67,
     "metadata": {},
     "output_type": "execute_result"
    }
   ],
   "source": [
    "2338/4949"
   ]
  },
  {
   "cell_type": "code",
   "execution_count": 68,
   "id": "black-studio",
   "metadata": {},
   "outputs": [
    {
     "data": {
      "text/plain": [
       "(35, 2)"
      ]
     },
     "execution_count": 68,
     "metadata": {},
     "output_type": "execute_result"
    }
   ],
   "source": [
    "issuer.shape"
   ]
  },
  {
   "cell_type": "code",
   "execution_count": 69,
   "id": "compressed-matrix",
   "metadata": {},
   "outputs": [
    {
     "data": {
      "text/html": [
       "<div>\n",
       "<style scoped>\n",
       "    .dataframe tbody tr th:only-of-type {\n",
       "        vertical-align: middle;\n",
       "    }\n",
       "\n",
       "    .dataframe tbody tr th {\n",
       "        vertical-align: top;\n",
       "    }\n",
       "\n",
       "    .dataframe thead th {\n",
       "        text-align: right;\n",
       "    }\n",
       "</style>\n",
       "<table border=\"1\" class=\"dataframe\">\n",
       "  <thead>\n",
       "    <tr style=\"text-align: right;\">\n",
       "      <th></th>\n",
       "      <th>issuer_O</th>\n",
       "      <th>count</th>\n",
       "    </tr>\n",
       "  </thead>\n",
       "  <tbody>\n",
       "    <tr>\n",
       "      <th>6</th>\n",
       "      <td>DigiCert</td>\n",
       "      <td>2338</td>\n",
       "    </tr>\n",
       "    <tr>\n",
       "      <th>12</th>\n",
       "      <td>Google Trust Services</td>\n",
       "      <td>791</td>\n",
       "    </tr>\n",
       "    <tr>\n",
       "      <th>1</th>\n",
       "      <td>Amazon</td>\n",
       "      <td>555</td>\n",
       "    </tr>\n",
       "    <tr>\n",
       "      <th>17</th>\n",
       "      <td>Netflix</td>\n",
       "      <td>262</td>\n",
       "    </tr>\n",
       "    <tr>\n",
       "      <th>24</th>\n",
       "      <td>Sectigo</td>\n",
       "      <td>182</td>\n",
       "    </tr>\n",
       "    <tr>\n",
       "      <th>15</th>\n",
       "      <td>Microsoft Corporation</td>\n",
       "      <td>158</td>\n",
       "    </tr>\n",
       "    <tr>\n",
       "      <th>2</th>\n",
       "      <td>Apple</td>\n",
       "      <td>135</td>\n",
       "    </tr>\n",
       "    <tr>\n",
       "      <th>5</th>\n",
       "      <td>Cloudflare</td>\n",
       "      <td>81</td>\n",
       "    </tr>\n",
       "    <tr>\n",
       "      <th>22</th>\n",
       "      <td>Roku</td>\n",
       "      <td>78</td>\n",
       "    </tr>\n",
       "    <tr>\n",
       "      <th>11</th>\n",
       "      <td>GoDaddy.com</td>\n",
       "      <td>76</td>\n",
       "    </tr>\n",
       "    <tr>\n",
       "      <th>10</th>\n",
       "      <td>GlobalSign nv-sa</td>\n",
       "      <td>74</td>\n",
       "    </tr>\n",
       "    <tr>\n",
       "      <th>14</th>\n",
       "      <td>Let's Encrypt</td>\n",
       "      <td>44</td>\n",
       "    </tr>\n",
       "    <tr>\n",
       "      <th>3</th>\n",
       "      <td>COMODO</td>\n",
       "      <td>39</td>\n",
       "    </tr>\n",
       "    <tr>\n",
       "      <th>23</th>\n",
       "      <td>Samsung Electronics</td>\n",
       "      <td>24</td>\n",
       "    </tr>\n",
       "    <tr>\n",
       "      <th>8</th>\n",
       "      <td>Entrust</td>\n",
       "      <td>19</td>\n",
       "    </tr>\n",
       "    <tr>\n",
       "      <th>18</th>\n",
       "      <td>Network Solutions</td>\n",
       "      <td>19</td>\n",
       "    </tr>\n",
       "    <tr>\n",
       "      <th>19</th>\n",
       "      <td>Nintendo of America</td>\n",
       "      <td>18</td>\n",
       "    </tr>\n",
       "    <tr>\n",
       "      <th>26</th>\n",
       "      <td>Sony Computer Entertainment</td>\n",
       "      <td>14</td>\n",
       "    </tr>\n",
       "    <tr>\n",
       "      <th>29</th>\n",
       "      <td>Tesla Motor Services</td>\n",
       "      <td>10</td>\n",
       "    </tr>\n",
       "    <tr>\n",
       "      <th>16</th>\n",
       "      <td>Nest Labs</td>\n",
       "      <td>5</td>\n",
       "    </tr>\n",
       "    <tr>\n",
       "      <th>33</th>\n",
       "      <td>ZeroSSL</td>\n",
       "      <td>4</td>\n",
       "    </tr>\n",
       "    <tr>\n",
       "      <th>25</th>\n",
       "      <td>Sense Labs</td>\n",
       "      <td>3</td>\n",
       "    </tr>\n",
       "    <tr>\n",
       "      <th>0</th>\n",
       "      <td>ATT Mobility and Entertainment</td>\n",
       "      <td>3</td>\n",
       "    </tr>\n",
       "    <tr>\n",
       "      <th>9</th>\n",
       "      <td>Gandi</td>\n",
       "      <td>3</td>\n",
       "    </tr>\n",
       "    <tr>\n",
       "      <th>13</th>\n",
       "      <td>LG Electronics</td>\n",
       "      <td>2</td>\n",
       "    </tr>\n",
       "    <tr>\n",
       "      <th>28</th>\n",
       "      <td>TAIWAN-CA</td>\n",
       "      <td>2</td>\n",
       "    </tr>\n",
       "    <tr>\n",
       "      <th>4</th>\n",
       "      <td>Canary Connect</td>\n",
       "      <td>2</td>\n",
       "    </tr>\n",
       "    <tr>\n",
       "      <th>21</th>\n",
       "      <td>Philips</td>\n",
       "      <td>1</td>\n",
       "    </tr>\n",
       "    <tr>\n",
       "      <th>20</th>\n",
       "      <td>Obihai Technology</td>\n",
       "      <td>1</td>\n",
       "    </tr>\n",
       "    <tr>\n",
       "      <th>27</th>\n",
       "      <td>Symantec Corporation</td>\n",
       "      <td>1</td>\n",
       "    </tr>\n",
       "    <tr>\n",
       "      <th>7</th>\n",
       "      <td>EchoStar</td>\n",
       "      <td>1</td>\n",
       "    </tr>\n",
       "    <tr>\n",
       "      <th>30</th>\n",
       "      <td>Trustwave Holdings</td>\n",
       "      <td>1</td>\n",
       "    </tr>\n",
       "    <tr>\n",
       "      <th>31</th>\n",
       "      <td>Tuya</td>\n",
       "      <td>1</td>\n",
       "    </tr>\n",
       "    <tr>\n",
       "      <th>32</th>\n",
       "      <td>Universal Electronics</td>\n",
       "      <td>1</td>\n",
       "    </tr>\n",
       "    <tr>\n",
       "      <th>34</th>\n",
       "      <td>ecobee</td>\n",
       "      <td>1</td>\n",
       "    </tr>\n",
       "  </tbody>\n",
       "</table>\n",
       "</div>"
      ],
      "text/plain": [
       "                          issuer_O  count\n",
       "6                         DigiCert   2338\n",
       "12           Google Trust Services    791\n",
       "1                           Amazon    555\n",
       "17                         Netflix    262\n",
       "24                         Sectigo    182\n",
       "15           Microsoft Corporation    158\n",
       "2                            Apple    135\n",
       "5                       Cloudflare     81\n",
       "22                            Roku     78\n",
       "11                     GoDaddy.com     76\n",
       "10                GlobalSign nv-sa     74\n",
       "14                   Let's Encrypt     44\n",
       "3                           COMODO     39\n",
       "23             Samsung Electronics     24\n",
       "8                          Entrust     19\n",
       "18               Network Solutions     19\n",
       "19             Nintendo of America     18\n",
       "26     Sony Computer Entertainment     14\n",
       "29            Tesla Motor Services     10\n",
       "16                       Nest Labs      5\n",
       "33                         ZeroSSL      4\n",
       "25                      Sense Labs      3\n",
       "0   ATT Mobility and Entertainment      3\n",
       "9                            Gandi      3\n",
       "13                  LG Electronics      2\n",
       "28                       TAIWAN-CA      2\n",
       "4                   Canary Connect      2\n",
       "21                         Philips      1\n",
       "20               Obihai Technology      1\n",
       "27            Symantec Corporation      1\n",
       "7                         EchoStar      1\n",
       "30              Trustwave Holdings      1\n",
       "31                            Tuya      1\n",
       "32           Universal Electronics      1\n",
       "34                          ecobee      1"
      ]
     },
     "execution_count": 69,
     "metadata": {},
     "output_type": "execute_result"
    }
   ],
   "source": [
    "issuer"
   ]
  },
  {
   "cell_type": "code",
   "execution_count": 70,
   "id": "formal-superior",
   "metadata": {},
   "outputs": [],
   "source": [
    "issuer_lis = issuer['issuer_O'].tolist()"
   ]
  },
  {
   "cell_type": "code",
   "execution_count": 71,
   "id": "immune-kernel",
   "metadata": {},
   "outputs": [
    {
     "name": "stderr",
     "output_type": "stream",
     "text": [
      "<ipython-input-71-2ab8b34aea2d>:1: SettingWithCopyWarning: \n",
      "A value is trying to be set on a copy of a slice from a DataFrame.\n",
      "Try using .loc[row_indexer,col_indexer] = value instead\n",
      "\n",
      "See the caveats in the documentation: https://pandas.pydata.org/pandas-docs/stable/user_guide/indexing.html#returning-a-view-versus-a-copy\n",
      "  dev_dropdup['signed_by_public'] = dev_dropdup['issuer_O'].apply(lambda x: 1 if x in (public_lis) else 0)\n"
     ]
    }
   ],
   "source": [
    "dev_dropdup['signed_by_public'] = dev_dropdup['issuer_O'].apply(lambda x: 1 if x in (public_lis) else 0)"
   ]
  },
  {
   "cell_type": "code",
   "execution_count": 72,
   "id": "incorporate-license",
   "metadata": {},
   "outputs": [],
   "source": [
    "dev_issuer = dev_dropdup.groupby(['device_vendor', 'issuer_O'])['cert_id']\\\n",
    "                        .agg('count').reset_index(name='count').sort_values('count', ascending=False)"
   ]
  },
  {
   "cell_type": "code",
   "execution_count": 73,
   "id": "traditional-eagle",
   "metadata": {},
   "outputs": [],
   "source": [
    "dev_public = dev_dropdup.groupby(['device_vendor'])['signed_by_public'].agg('sum').reset_index(name='signed_by_public')\\\n",
    "                        .sort_values('signed_by_public', ascending=False)"
   ]
  },
  {
   "cell_type": "code",
   "execution_count": 74,
   "id": "difficult-hundred",
   "metadata": {},
   "outputs": [
    {
     "data": {
      "text/plain": [
       "(323, 3)"
      ]
     },
     "execution_count": 74,
     "metadata": {},
     "output_type": "execute_result"
    }
   ],
   "source": [
    "dev_issuer.shape"
   ]
  },
  {
   "cell_type": "code",
   "execution_count": 75,
   "id": "liable-lithuania",
   "metadata": {},
   "outputs": [],
   "source": [
    "dev_merge = pd.merge(cat_cnt, dev_issuer, how='inner', left_on='device_vendor', right_on='device_vendor')"
   ]
  },
  {
   "cell_type": "code",
   "execution_count": 76,
   "id": "legitimate-swimming",
   "metadata": {},
   "outputs": [],
   "source": [
    "dev_merge = pd.merge(dev_merge, dev_public, how='inner', left_on='device_vendor', right_on='device_vendor')"
   ]
  },
  {
   "cell_type": "code",
   "execution_count": 77,
   "id": "portable-population",
   "metadata": {},
   "outputs": [],
   "source": [
    "dev_merge['perc'] = dev_merge['count'] / dev_merge['total']"
   ]
  },
  {
   "cell_type": "code",
   "execution_count": 78,
   "id": "consolidated-period",
   "metadata": {},
   "outputs": [],
   "source": [
    "dev_merge['pub_perc'] = dev_merge['signed_by_public'] / dev_merge['total']"
   ]
  },
  {
   "cell_type": "markdown",
   "id": "sexual-calcium",
   "metadata": {},
   "source": [
    "### Rename"
   ]
  },
  {
   "cell_type": "code",
   "execution_count": 79,
   "id": "mature-mouth",
   "metadata": {},
   "outputs": [],
   "source": [
    "dev_merge['device_vendor'] = dev_merge['device_vendor'].apply(lambda x: x.capitalize())"
   ]
  },
  {
   "cell_type": "code",
   "execution_count": 81,
   "id": "capital-people",
   "metadata": {},
   "outputs": [
    {
     "name": "stderr",
     "output_type": "stream",
     "text": [
      "<ipython-input-81-bb924bdf8ea9>:1: SettingWithCopyWarning: \n",
      "A value is trying to be set on a copy of a slice from a DataFrame\n",
      "\n",
      "See the caveats in the documentation: https://pandas.pydata.org/pandas-docs/stable/user_guide/indexing.html#returning-a-view-versus-a-copy\n",
      "  dev_merge.device_vendor[dev_merge['device_vendor'].str.contains('Lg')] = 'LG'\n",
      "<ipython-input-81-bb924bdf8ea9>:2: SettingWithCopyWarning: \n",
      "A value is trying to be set on a copy of a slice from a DataFrame\n",
      "\n",
      "See the caveats in the documentation: https://pandas.pydata.org/pandas-docs/stable/user_guide/indexing.html#returning-a-view-versus-a-copy\n",
      "  dev_merge.device_vendor[dev_merge['device_vendor'].str.contains('Directv')] = 'DirecTV'\n",
      "<ipython-input-81-bb924bdf8ea9>:3: SettingWithCopyWarning: \n",
      "A value is trying to be set on a copy of a slice from a DataFrame\n",
      "\n",
      "See the caveats in the documentation: https://pandas.pydata.org/pandas-docs/stable/user_guide/indexing.html#returning-a-view-versus-a-copy\n",
      "  dev_merge.device_vendor[dev_merge['device_vendor'].str.contains('Dish network')] = 'Dish Network'\n",
      "<ipython-input-81-bb924bdf8ea9>:4: SettingWithCopyWarning: \n",
      "A value is trying to be set on a copy of a slice from a DataFrame\n",
      "\n",
      "See the caveats in the documentation: https://pandas.pydata.org/pandas-docs/stable/user_guide/indexing.html#returning-a-view-versus-a-copy\n",
      "  dev_merge.device_vendor[dev_merge['device_vendor'].str.contains('Tcl')] = 'TCL'\n",
      "<ipython-input-81-bb924bdf8ea9>:5: SettingWithCopyWarning: \n",
      "A value is trying to be set on a copy of a slice from a DataFrame\n",
      "\n",
      "See the caveats in the documentation: https://pandas.pydata.org/pandas-docs/stable/user_guide/indexing.html#returning-a-view-versus-a-copy\n",
      "  dev_merge.device_vendor[dev_merge['device_vendor'].str.contains('Tplink')] = 'TP-Link'\n",
      "<ipython-input-81-bb924bdf8ea9>:6: SettingWithCopyWarning: \n",
      "A value is trying to be set on a copy of a slice from a DataFrame\n",
      "\n",
      "See the caveats in the documentation: https://pandas.pydata.org/pandas-docs/stable/user_guide/indexing.html#returning-a-view-versus-a-copy\n",
      "  dev_merge.device_vendor[dev_merge['device_vendor'].str.contains('Western digital')] = 'Western Digital'\n",
      "<ipython-input-81-bb924bdf8ea9>:7: SettingWithCopyWarning: \n",
      "A value is trying to be set on a copy of a slice from a DataFrame\n",
      "\n",
      "See the caveats in the documentation: https://pandas.pydata.org/pandas-docs/stable/user_guide/indexing.html#returning-a-view-versus-a-copy\n",
      "  dev_merge.device_vendor[dev_merge['device_vendor'].str.contains('Hp')] = 'HP'\n",
      "<ipython-input-81-bb924bdf8ea9>:8: SettingWithCopyWarning: \n",
      "A value is trying to be set on a copy of a slice from a DataFrame\n",
      "\n",
      "See the caveats in the documentation: https://pandas.pydata.org/pandas-docs/stable/user_guide/indexing.html#returning-a-view-versus-a-copy\n",
      "  dev_merge.device_vendor[dev_merge['device_vendor'].str.contains('Ihome')] = 'iHome'\n",
      "<ipython-input-81-bb924bdf8ea9>:9: SettingWithCopyWarning: \n",
      "A value is trying to be set on a copy of a slice from a DataFrame\n",
      "\n",
      "See the caveats in the documentation: https://pandas.pydata.org/pandas-docs/stable/user_guide/indexing.html#returning-a-view-versus-a-copy\n",
      "  dev_merge.device_vendor[dev_merge['device_vendor'].str.contains('Ikea')] = 'IKEA'\n",
      "<ipython-input-81-bb924bdf8ea9>:10: SettingWithCopyWarning: \n",
      "A value is trying to be set on a copy of a slice from a DataFrame\n",
      "\n",
      "See the caveats in the documentation: https://pandas.pydata.org/pandas-docs/stable/user_guide/indexing.html#returning-a-view-versus-a-copy\n",
      "  dev_merge.device_vendor[dev_merge['device_vendor'].str.contains('Irobot')] = 'iRobot'\n",
      "<ipython-input-81-bb924bdf8ea9>:11: SettingWithCopyWarning: \n",
      "A value is trying to be set on a copy of a slice from a DataFrame\n",
      "\n",
      "See the caveats in the documentation: https://pandas.pydata.org/pandas-docs/stable/user_guide/indexing.html#returning-a-view-versus-a-copy\n",
      "  dev_merge.device_vendor[dev_merge['device_vendor'].str.contains('Netgear')] = 'NETGEAR'\n",
      "<ipython-input-81-bb924bdf8ea9>:12: SettingWithCopyWarning: \n",
      "A value is trying to be set on a copy of a slice from a DataFrame\n",
      "\n",
      "See the caveats in the documentation: https://pandas.pydata.org/pandas-docs/stable/user_guide/indexing.html#returning-a-view-versus-a-copy\n",
      "  dev_merge.device_vendor[dev_merge['device_vendor'].str.contains('Qnap')] = 'QNAP'\n",
      "<ipython-input-81-bb924bdf8ea9>:13: SettingWithCopyWarning: \n",
      "A value is trying to be set on a copy of a slice from a DataFrame\n",
      "\n",
      "See the caveats in the documentation: https://pandas.pydata.org/pandas-docs/stable/user_guide/indexing.html#returning-a-view-versus-a-copy\n",
      "  dev_merge.device_vendor[dev_merge['device_vendor'].str.contains('Sleep number')] = 'Sleep Number'\n",
      "<ipython-input-81-bb924bdf8ea9>:14: SettingWithCopyWarning: \n",
      "A value is trying to be set on a copy of a slice from a DataFrame\n",
      "\n",
      "See the caveats in the documentation: https://pandas.pydata.org/pandas-docs/stable/user_guide/indexing.html#returning-a-view-versus-a-copy\n",
      "  dev_merge.device_vendor[dev_merge['device_vendor'].str.contains('Echobee')] = 'echobee'\n",
      "<ipython-input-81-bb924bdf8ea9>:15: SettingWithCopyWarning: \n",
      "A value is trying to be set on a copy of a slice from a DataFrame\n",
      "\n",
      "See the caveats in the documentation: https://pandas.pydata.org/pandas-docs/stable/user_guide/indexing.html#returning-a-view-versus-a-copy\n",
      "  dev_merge.device_vendor[dev_merge['device_vendor'].str.contains('Idevices')] = 'iDevices'\n",
      "<ipython-input-81-bb924bdf8ea9>:16: SettingWithCopyWarning: \n",
      "A value is trying to be set on a copy of a slice from a DataFrame\n",
      "\n",
      "See the caveats in the documentation: https://pandas.pydata.org/pandas-docs/stable/user_guide/indexing.html#returning-a-view-versus-a-copy\n",
      "  dev_merge.device_vendor[dev_merge['device_vendor'].str.contains('Vmware')] = 'VMware'\n",
      "<ipython-input-81-bb924bdf8ea9>:17: SettingWithCopyWarning: \n",
      "A value is trying to be set on a copy of a slice from a DataFrame\n",
      "\n",
      "See the caveats in the documentation: https://pandas.pydata.org/pandas-docs/stable/user_guide/indexing.html#returning-a-view-versus-a-copy\n",
      "  dev_merge.device_vendor[dev_merge['device_vendor'].str.contains('Hdhomerun')] = 'HDHomeRun'\n",
      "<ipython-input-81-bb924bdf8ea9>:18: SettingWithCopyWarning: \n",
      "A value is trying to be set on a copy of a slice from a DataFrame\n",
      "\n",
      "See the caveats in the documentation: https://pandas.pydata.org/pandas-docs/stable/user_guide/indexing.html#returning-a-view-versus-a-copy\n",
      "  dev_merge.device_vendor[dev_merge['device_vendor'].str.contains('Ecobee')] = 'ecobee'\n",
      "<ipython-input-81-bb924bdf8ea9>:19: SettingWithCopyWarning: \n",
      "A value is trying to be set on a copy of a slice from a DataFrame\n",
      "\n",
      "See the caveats in the documentation: https://pandas.pydata.org/pandas-docs/stable/user_guide/indexing.html#returning-a-view-versus-a-copy\n",
      "  dev_merge.device_vendor[dev_merge['device_vendor'].str.contains('Texas instruments')] = 'Texas Instruments'\n"
     ]
    }
   ],
   "source": [
    "dev_merge.device_vendor[dev_merge['device_vendor'].str.contains('Lg')] = 'LG'\n",
    "dev_merge.device_vendor[dev_merge['device_vendor'].str.contains('Directv')] = 'DirecTV'\n",
    "dev_merge.device_vendor[dev_merge['device_vendor'].str.contains('Dish network')] = 'Dish Network'\n",
    "dev_merge.device_vendor[dev_merge['device_vendor'].str.contains('Tcl')] = 'TCL'\n",
    "dev_merge.device_vendor[dev_merge['device_vendor'].str.contains('Tplink')] = 'TP-Link'\n",
    "dev_merge.device_vendor[dev_merge['device_vendor'].str.contains('Western digital')] = 'Western Digital'\n",
    "dev_merge.device_vendor[dev_merge['device_vendor'].str.contains('Hp')] = 'HP'\n",
    "dev_merge.device_vendor[dev_merge['device_vendor'].str.contains('Ihome')] = 'iHome'\n",
    "dev_merge.device_vendor[dev_merge['device_vendor'].str.contains('Ikea')] = 'IKEA'\n",
    "dev_merge.device_vendor[dev_merge['device_vendor'].str.contains('Irobot')] = 'iRobot'\n",
    "dev_merge.device_vendor[dev_merge['device_vendor'].str.contains('Netgear')] = 'NETGEAR'\n",
    "dev_merge.device_vendor[dev_merge['device_vendor'].str.contains('Qnap')] = 'QNAP'\n",
    "dev_merge.device_vendor[dev_merge['device_vendor'].str.contains('Sleep number')] = 'Sleep Number'\n",
    "dev_merge.device_vendor[dev_merge['device_vendor'].str.contains('Echobee')] = 'echobee'\n",
    "dev_merge.device_vendor[dev_merge['device_vendor'].str.contains('Idevices')] = 'iDevices'\n",
    "dev_merge.device_vendor[dev_merge['device_vendor'].str.contains('Vmware')] = 'VMware'\n",
    "dev_merge.device_vendor[dev_merge['device_vendor'].str.contains('Hdhomerun')] = 'HDHomeRun'\n",
    "dev_merge.device_vendor[dev_merge['device_vendor'].str.contains('Ecobee')] = 'ecobee'\n",
    "dev_merge.device_vendor[dev_merge['device_vendor'].str.contains('Texas instruments')] = 'Texas Instruments'"
   ]
  },
  {
   "cell_type": "code",
   "execution_count": 82,
   "id": "valued-thinking",
   "metadata": {},
   "outputs": [],
   "source": [
    "dev_merge = dev_merge.loc[dev_merge['device_vendor'] != \"Unknown\"]"
   ]
  },
  {
   "cell_type": "code",
   "execution_count": 83,
   "id": "small-soviet",
   "metadata": {},
   "outputs": [],
   "source": [
    "dev_issuer_reshape = dev_merge.pivot(index='issuer_O', columns='device_vendor', values='perc')"
   ]
  },
  {
   "cell_type": "code",
   "execution_count": 84,
   "id": "suffering-struggle",
   "metadata": {},
   "outputs": [],
   "source": [
    "dev_issuer_reshape = dev_issuer_reshape.fillna(0)"
   ]
  },
  {
   "cell_type": "code",
   "execution_count": 85,
   "id": "written-mercy",
   "metadata": {},
   "outputs": [],
   "source": [
    "dev_issuer_reshape = dev_issuer_reshape.reindex(issuer_lis)"
   ]
  },
  {
   "cell_type": "code",
   "execution_count": 86,
   "id": "patient-pasta",
   "metadata": {},
   "outputs": [],
   "source": [
    "dev_issuer_reshape = dev_issuer_reshape.dropna(axis=0)"
   ]
  },
  {
   "cell_type": "code",
   "execution_count": 87,
   "id": "egyptian-hammer",
   "metadata": {},
   "outputs": [],
   "source": [
    "dev_public_lis = dev_merge.sort_values(by='pub_perc', ascending=False)['device_vendor'].tolist()"
   ]
  },
  {
   "cell_type": "markdown",
   "id": "brief-idaho",
   "metadata": {},
   "source": [
    "### Sort x-axis"
   ]
  },
  {
   "cell_type": "code",
   "execution_count": 88,
   "id": "governmental-plymouth",
   "metadata": {},
   "outputs": [],
   "source": [
    "sorted_lis = []\n",
    "for vendor in dev_public_lis:\n",
    "    if vendor not in sorted_lis:\n",
    "        sorted_lis.append(vendor)"
   ]
  },
  {
   "cell_type": "code",
   "execution_count": 89,
   "id": "compatible-andorra",
   "metadata": {},
   "outputs": [
    {
     "data": {
      "text/plain": [
       "['Yamaha',\n",
       " 'Fing',\n",
       " 'iDevices',\n",
       " 'QNAP',\n",
       " 'HDHomeRun',\n",
       " 'Epson',\n",
       " 'Denon',\n",
       " 'Logitech',\n",
       " 'Silicondust',\n",
       " 'Skybell',\n",
       " 'Sleep Number',\n",
       " 'Sonos',\n",
       " 'IKEA',\n",
       " 'Pioneer',\n",
       " 'Lutron',\n",
       " 'Marantz',\n",
       " 'Nanoleaf',\n",
       " 'NETGEAR',\n",
       " 'iRobot',\n",
       " 'Onkyo',\n",
       " 'Ubiquity',\n",
       " 'Belkin',\n",
       " 'Arlo',\n",
       " 'TP-Link',\n",
       " 'Canon',\n",
       " 'Bose',\n",
       " 'Vera',\n",
       " 'Wyze',\n",
       " 'Withings',\n",
       " 'Western Digital',\n",
       " 'VMware',\n",
       " 'Google',\n",
       " 'HP',\n",
       " 'Cisco',\n",
       " 'Synology',\n",
       " 'Amazon',\n",
       " 'Vizio',\n",
       " 'LG',\n",
       " 'Samsung',\n",
       " 'Nvidia',\n",
       " 'Tivo',\n",
       " 'Xiaomi',\n",
       " 'Roku',\n",
       " 'Sony',\n",
       " 'DirecTV',\n",
       " 'Wink',\n",
       " 'Tesla',\n",
       " 'Texas Instruments',\n",
       " 'Insignia',\n",
       " 'TCL',\n",
       " 'Humax',\n",
       " 'Philips',\n",
       " 'ecobee',\n",
       " 'Brother',\n",
       " 'Sharp',\n",
       " 'Sense',\n",
       " 'Amcrest',\n",
       " 'Nintendo',\n",
       " 'Netatmo',\n",
       " 'Panasonic',\n",
       " 'Sky',\n",
       " 'Dish Network',\n",
       " 'Canary',\n",
       " 'Tuya',\n",
       " 'Obihai']"
      ]
     },
     "execution_count": 89,
     "metadata": {},
     "output_type": "execute_result"
    }
   ],
   "source": [
    "sorted_lis"
   ]
  },
  {
   "cell_type": "code",
   "execution_count": 90,
   "id": "hourly-renaissance",
   "metadata": {},
   "outputs": [
    {
     "data": {
      "text/html": [
       "<div>\n",
       "<style scoped>\n",
       "    .dataframe tbody tr th:only-of-type {\n",
       "        vertical-align: middle;\n",
       "    }\n",
       "\n",
       "    .dataframe tbody tr th {\n",
       "        vertical-align: top;\n",
       "    }\n",
       "\n",
       "    .dataframe thead th {\n",
       "        text-align: right;\n",
       "    }\n",
       "</style>\n",
       "<table border=\"1\" class=\"dataframe\">\n",
       "  <thead>\n",
       "    <tr style=\"text-align: right;\">\n",
       "      <th>device_vendor</th>\n",
       "      <th>Amazon</th>\n",
       "      <th>Amcrest</th>\n",
       "      <th>Arlo</th>\n",
       "      <th>Belkin</th>\n",
       "      <th>Bose</th>\n",
       "      <th>Brother</th>\n",
       "      <th>Canary</th>\n",
       "      <th>Canon</th>\n",
       "      <th>Cisco</th>\n",
       "      <th>Denon</th>\n",
       "      <th>DirecTV</th>\n",
       "      <th>Dish Network</th>\n",
       "      <th>Epson</th>\n",
       "      <th>Fing</th>\n",
       "      <th>Google</th>\n",
       "      <th>HDHomeRun</th>\n",
       "      <th>HP</th>\n",
       "      <th>Humax</th>\n",
       "      <th>IKEA</th>\n",
       "      <th>Insignia</th>\n",
       "      <th>LG</th>\n",
       "      <th>Logitech</th>\n",
       "      <th>Lutron</th>\n",
       "      <th>Marantz</th>\n",
       "      <th>NETGEAR</th>\n",
       "      <th>Nanoleaf</th>\n",
       "      <th>Netatmo</th>\n",
       "      <th>Nintendo</th>\n",
       "      <th>Nvidia</th>\n",
       "      <th>Obihai</th>\n",
       "      <th>Onkyo</th>\n",
       "      <th>Panasonic</th>\n",
       "      <th>Philips</th>\n",
       "      <th>Pioneer</th>\n",
       "      <th>QNAP</th>\n",
       "      <th>Roku</th>\n",
       "      <th>Samsung</th>\n",
       "      <th>Sense</th>\n",
       "      <th>Sharp</th>\n",
       "      <th>Silicondust</th>\n",
       "      <th>Sky</th>\n",
       "      <th>Skybell</th>\n",
       "      <th>Sleep Number</th>\n",
       "      <th>Sonos</th>\n",
       "      <th>Sony</th>\n",
       "      <th>Synology</th>\n",
       "      <th>TCL</th>\n",
       "      <th>TP-Link</th>\n",
       "      <th>Tesla</th>\n",
       "      <th>Texas Instruments</th>\n",
       "      <th>Tivo</th>\n",
       "      <th>Tuya</th>\n",
       "      <th>Ubiquity</th>\n",
       "      <th>VMware</th>\n",
       "      <th>Vera</th>\n",
       "      <th>Vizio</th>\n",
       "      <th>Western Digital</th>\n",
       "      <th>Wink</th>\n",
       "      <th>Withings</th>\n",
       "      <th>Wyze</th>\n",
       "      <th>Xiaomi</th>\n",
       "      <th>Yamaha</th>\n",
       "      <th>ecobee</th>\n",
       "      <th>iDevices</th>\n",
       "      <th>iRobot</th>\n",
       "    </tr>\n",
       "    <tr>\n",
       "      <th>issuer_O</th>\n",
       "      <th></th>\n",
       "      <th></th>\n",
       "      <th></th>\n",
       "      <th></th>\n",
       "      <th></th>\n",
       "      <th></th>\n",
       "      <th></th>\n",
       "      <th></th>\n",
       "      <th></th>\n",
       "      <th></th>\n",
       "      <th></th>\n",
       "      <th></th>\n",
       "      <th></th>\n",
       "      <th></th>\n",
       "      <th></th>\n",
       "      <th></th>\n",
       "      <th></th>\n",
       "      <th></th>\n",
       "      <th></th>\n",
       "      <th></th>\n",
       "      <th></th>\n",
       "      <th></th>\n",
       "      <th></th>\n",
       "      <th></th>\n",
       "      <th></th>\n",
       "      <th></th>\n",
       "      <th></th>\n",
       "      <th></th>\n",
       "      <th></th>\n",
       "      <th></th>\n",
       "      <th></th>\n",
       "      <th></th>\n",
       "      <th></th>\n",
       "      <th></th>\n",
       "      <th></th>\n",
       "      <th></th>\n",
       "      <th></th>\n",
       "      <th></th>\n",
       "      <th></th>\n",
       "      <th></th>\n",
       "      <th></th>\n",
       "      <th></th>\n",
       "      <th></th>\n",
       "      <th></th>\n",
       "      <th></th>\n",
       "      <th></th>\n",
       "      <th></th>\n",
       "      <th></th>\n",
       "      <th></th>\n",
       "      <th></th>\n",
       "      <th></th>\n",
       "      <th></th>\n",
       "      <th></th>\n",
       "      <th></th>\n",
       "      <th></th>\n",
       "      <th></th>\n",
       "      <th></th>\n",
       "      <th></th>\n",
       "      <th></th>\n",
       "      <th></th>\n",
       "      <th></th>\n",
       "      <th></th>\n",
       "      <th></th>\n",
       "      <th></th>\n",
       "      <th></th>\n",
       "    </tr>\n",
       "  </thead>\n",
       "  <tbody>\n",
       "    <tr>\n",
       "      <th>Nintendo of America</th>\n",
       "      <td>0.0</td>\n",
       "      <td>0.0</td>\n",
       "      <td>0.0</td>\n",
       "      <td>0.0</td>\n",
       "      <td>0.0</td>\n",
       "      <td>0.0</td>\n",
       "      <td>0.0</td>\n",
       "      <td>0.0</td>\n",
       "      <td>0.0</td>\n",
       "      <td>0.0</td>\n",
       "      <td>0.0</td>\n",
       "      <td>0.0</td>\n",
       "      <td>0.0</td>\n",
       "      <td>0.0</td>\n",
       "      <td>0.0</td>\n",
       "      <td>0.0</td>\n",
       "      <td>0.0</td>\n",
       "      <td>0.0</td>\n",
       "      <td>0.0</td>\n",
       "      <td>0.0</td>\n",
       "      <td>0.0</td>\n",
       "      <td>0.0</td>\n",
       "      <td>0.0</td>\n",
       "      <td>0.0</td>\n",
       "      <td>0.0</td>\n",
       "      <td>0.0</td>\n",
       "      <td>0.0</td>\n",
       "      <td>0.5625</td>\n",
       "      <td>0.0</td>\n",
       "      <td>0.0</td>\n",
       "      <td>0.0</td>\n",
       "      <td>0.0</td>\n",
       "      <td>0.0</td>\n",
       "      <td>0.0</td>\n",
       "      <td>0.0</td>\n",
       "      <td>0.0</td>\n",
       "      <td>0.0</td>\n",
       "      <td>0.0</td>\n",
       "      <td>0.0</td>\n",
       "      <td>0.0</td>\n",
       "      <td>0.0</td>\n",
       "      <td>0.0</td>\n",
       "      <td>0.0</td>\n",
       "      <td>0.0</td>\n",
       "      <td>0.0</td>\n",
       "      <td>0.0</td>\n",
       "      <td>0.0</td>\n",
       "      <td>0.0</td>\n",
       "      <td>0.0</td>\n",
       "      <td>0.0</td>\n",
       "      <td>0.0</td>\n",
       "      <td>0.0</td>\n",
       "      <td>0.0</td>\n",
       "      <td>0.0</td>\n",
       "      <td>0.0</td>\n",
       "      <td>0.0</td>\n",
       "      <td>0.0</td>\n",
       "      <td>0.0</td>\n",
       "      <td>0.0</td>\n",
       "      <td>0.0</td>\n",
       "      <td>0.0</td>\n",
       "      <td>0.0</td>\n",
       "      <td>0.0</td>\n",
       "      <td>0.0</td>\n",
       "      <td>0.0</td>\n",
       "    </tr>\n",
       "    <tr>\n",
       "      <th>Tuya</th>\n",
       "      <td>0.0</td>\n",
       "      <td>0.0</td>\n",
       "      <td>0.0</td>\n",
       "      <td>0.0</td>\n",
       "      <td>0.0</td>\n",
       "      <td>0.0</td>\n",
       "      <td>0.0</td>\n",
       "      <td>0.0</td>\n",
       "      <td>0.0</td>\n",
       "      <td>0.0</td>\n",
       "      <td>0.0</td>\n",
       "      <td>0.0</td>\n",
       "      <td>0.0</td>\n",
       "      <td>0.0</td>\n",
       "      <td>0.0</td>\n",
       "      <td>0.0</td>\n",
       "      <td>0.0</td>\n",
       "      <td>0.0</td>\n",
       "      <td>0.0</td>\n",
       "      <td>0.0</td>\n",
       "      <td>0.0</td>\n",
       "      <td>0.0</td>\n",
       "      <td>0.0</td>\n",
       "      <td>0.0</td>\n",
       "      <td>0.0</td>\n",
       "      <td>0.0</td>\n",
       "      <td>0.0</td>\n",
       "      <td>0.0000</td>\n",
       "      <td>0.0</td>\n",
       "      <td>0.0</td>\n",
       "      <td>0.0</td>\n",
       "      <td>0.0</td>\n",
       "      <td>0.0</td>\n",
       "      <td>0.0</td>\n",
       "      <td>0.0</td>\n",
       "      <td>0.0</td>\n",
       "      <td>0.0</td>\n",
       "      <td>0.0</td>\n",
       "      <td>0.0</td>\n",
       "      <td>0.0</td>\n",
       "      <td>0.0</td>\n",
       "      <td>0.0</td>\n",
       "      <td>0.0</td>\n",
       "      <td>0.0</td>\n",
       "      <td>0.0</td>\n",
       "      <td>0.0</td>\n",
       "      <td>0.0</td>\n",
       "      <td>0.0</td>\n",
       "      <td>0.0</td>\n",
       "      <td>0.0</td>\n",
       "      <td>0.0</td>\n",
       "      <td>1.0</td>\n",
       "      <td>0.0</td>\n",
       "      <td>0.0</td>\n",
       "      <td>0.0</td>\n",
       "      <td>0.0</td>\n",
       "      <td>0.0</td>\n",
       "      <td>0.0</td>\n",
       "      <td>0.0</td>\n",
       "      <td>0.0</td>\n",
       "      <td>0.0</td>\n",
       "      <td>0.0</td>\n",
       "      <td>0.0</td>\n",
       "      <td>0.0</td>\n",
       "      <td>0.0</td>\n",
       "    </tr>\n",
       "  </tbody>\n",
       "</table>\n",
       "</div>"
      ],
      "text/plain": [
       "device_vendor        Amazon  Amcrest  Arlo  Belkin  Bose  Brother  Canary  \\\n",
       "issuer_O                                                                    \n",
       "Nintendo of America     0.0      0.0   0.0     0.0   0.0      0.0     0.0   \n",
       "Tuya                    0.0      0.0   0.0     0.0   0.0      0.0     0.0   \n",
       "\n",
       "device_vendor        Canon  Cisco  Denon  DirecTV  Dish Network  Epson  Fing  \\\n",
       "issuer_O                                                                       \n",
       "Nintendo of America    0.0    0.0    0.0      0.0           0.0    0.0   0.0   \n",
       "Tuya                   0.0    0.0    0.0      0.0           0.0    0.0   0.0   \n",
       "\n",
       "device_vendor        Google  HDHomeRun   HP  Humax  IKEA  Insignia   LG  \\\n",
       "issuer_O                                                                  \n",
       "Nintendo of America     0.0        0.0  0.0    0.0   0.0       0.0  0.0   \n",
       "Tuya                    0.0        0.0  0.0    0.0   0.0       0.0  0.0   \n",
       "\n",
       "device_vendor        Logitech  Lutron  Marantz  NETGEAR  Nanoleaf  Netatmo  \\\n",
       "issuer_O                                                                     \n",
       "Nintendo of America       0.0     0.0      0.0      0.0       0.0      0.0   \n",
       "Tuya                      0.0     0.0      0.0      0.0       0.0      0.0   \n",
       "\n",
       "device_vendor        Nintendo  Nvidia  Obihai  Onkyo  Panasonic  Philips  \\\n",
       "issuer_O                                                                   \n",
       "Nintendo of America    0.5625     0.0     0.0    0.0        0.0      0.0   \n",
       "Tuya                   0.0000     0.0     0.0    0.0        0.0      0.0   \n",
       "\n",
       "device_vendor        Pioneer  QNAP  Roku  Samsung  Sense  Sharp  Silicondust  \\\n",
       "issuer_O                                                                       \n",
       "Nintendo of America      0.0   0.0   0.0      0.0    0.0    0.0          0.0   \n",
       "Tuya                     0.0   0.0   0.0      0.0    0.0    0.0          0.0   \n",
       "\n",
       "device_vendor        Sky  Skybell  Sleep Number  Sonos  Sony  Synology  TCL  \\\n",
       "issuer_O                                                                      \n",
       "Nintendo of America  0.0      0.0           0.0    0.0   0.0       0.0  0.0   \n",
       "Tuya                 0.0      0.0           0.0    0.0   0.0       0.0  0.0   \n",
       "\n",
       "device_vendor        TP-Link  Tesla  Texas Instruments  Tivo  Tuya  Ubiquity  \\\n",
       "issuer_O                                                                       \n",
       "Nintendo of America      0.0    0.0                0.0   0.0   0.0       0.0   \n",
       "Tuya                     0.0    0.0                0.0   0.0   1.0       0.0   \n",
       "\n",
       "device_vendor        VMware  Vera  Vizio  Western Digital  Wink  Withings  \\\n",
       "issuer_O                                                                    \n",
       "Nintendo of America     0.0   0.0    0.0              0.0   0.0       0.0   \n",
       "Tuya                    0.0   0.0    0.0              0.0   0.0       0.0   \n",
       "\n",
       "device_vendor        Wyze  Xiaomi  Yamaha  ecobee  iDevices  iRobot  \n",
       "issuer_O                                                             \n",
       "Nintendo of America   0.0     0.0     0.0     0.0       0.0     0.0  \n",
       "Tuya                  0.0     0.0     0.0     0.0       0.0     0.0  "
      ]
     },
     "execution_count": 90,
     "metadata": {},
     "output_type": "execute_result"
    }
   ],
   "source": [
    "dev_issuer_reshape.sample(2)"
   ]
  },
  {
   "cell_type": "code",
   "execution_count": 91,
   "id": "alleged-breakfast",
   "metadata": {},
   "outputs": [],
   "source": [
    "dev_issuer_reshape = dev_issuer_reshape.reindex(columns=sorted_lis)"
   ]
  },
  {
   "cell_type": "code",
   "execution_count": 92,
   "id": "european-carol",
   "metadata": {},
   "outputs": [
    {
     "data": {
      "text/html": [
       "<div>\n",
       "<style scoped>\n",
       "    .dataframe tbody tr th:only-of-type {\n",
       "        vertical-align: middle;\n",
       "    }\n",
       "\n",
       "    .dataframe tbody tr th {\n",
       "        vertical-align: top;\n",
       "    }\n",
       "\n",
       "    .dataframe thead th {\n",
       "        text-align: right;\n",
       "    }\n",
       "</style>\n",
       "<table border=\"1\" class=\"dataframe\">\n",
       "  <thead>\n",
       "    <tr style=\"text-align: right;\">\n",
       "      <th>device_vendor</th>\n",
       "      <th>Yamaha</th>\n",
       "      <th>Fing</th>\n",
       "      <th>iDevices</th>\n",
       "      <th>QNAP</th>\n",
       "      <th>HDHomeRun</th>\n",
       "      <th>Epson</th>\n",
       "      <th>Denon</th>\n",
       "      <th>Logitech</th>\n",
       "      <th>Silicondust</th>\n",
       "      <th>Skybell</th>\n",
       "      <th>Sleep Number</th>\n",
       "      <th>Sonos</th>\n",
       "      <th>IKEA</th>\n",
       "      <th>Pioneer</th>\n",
       "      <th>Lutron</th>\n",
       "      <th>Marantz</th>\n",
       "      <th>Nanoleaf</th>\n",
       "      <th>NETGEAR</th>\n",
       "      <th>iRobot</th>\n",
       "      <th>Onkyo</th>\n",
       "      <th>Ubiquity</th>\n",
       "      <th>Belkin</th>\n",
       "      <th>Arlo</th>\n",
       "      <th>TP-Link</th>\n",
       "      <th>Canon</th>\n",
       "      <th>Bose</th>\n",
       "      <th>Vera</th>\n",
       "      <th>Wyze</th>\n",
       "      <th>Withings</th>\n",
       "      <th>Western Digital</th>\n",
       "      <th>VMware</th>\n",
       "      <th>Google</th>\n",
       "      <th>HP</th>\n",
       "      <th>Cisco</th>\n",
       "      <th>Synology</th>\n",
       "      <th>Amazon</th>\n",
       "      <th>Vizio</th>\n",
       "      <th>LG</th>\n",
       "      <th>Samsung</th>\n",
       "      <th>Nvidia</th>\n",
       "      <th>Tivo</th>\n",
       "      <th>Xiaomi</th>\n",
       "      <th>Roku</th>\n",
       "      <th>Sony</th>\n",
       "      <th>DirecTV</th>\n",
       "      <th>Wink</th>\n",
       "      <th>Tesla</th>\n",
       "      <th>Texas Instruments</th>\n",
       "      <th>Insignia</th>\n",
       "      <th>TCL</th>\n",
       "      <th>Humax</th>\n",
       "      <th>Philips</th>\n",
       "      <th>ecobee</th>\n",
       "      <th>Brother</th>\n",
       "      <th>Sharp</th>\n",
       "      <th>Sense</th>\n",
       "      <th>Amcrest</th>\n",
       "      <th>Nintendo</th>\n",
       "      <th>Netatmo</th>\n",
       "      <th>Panasonic</th>\n",
       "      <th>Sky</th>\n",
       "      <th>Dish Network</th>\n",
       "      <th>Canary</th>\n",
       "      <th>Tuya</th>\n",
       "      <th>Obihai</th>\n",
       "    </tr>\n",
       "    <tr>\n",
       "      <th>issuer_O</th>\n",
       "      <th></th>\n",
       "      <th></th>\n",
       "      <th></th>\n",
       "      <th></th>\n",
       "      <th></th>\n",
       "      <th></th>\n",
       "      <th></th>\n",
       "      <th></th>\n",
       "      <th></th>\n",
       "      <th></th>\n",
       "      <th></th>\n",
       "      <th></th>\n",
       "      <th></th>\n",
       "      <th></th>\n",
       "      <th></th>\n",
       "      <th></th>\n",
       "      <th></th>\n",
       "      <th></th>\n",
       "      <th></th>\n",
       "      <th></th>\n",
       "      <th></th>\n",
       "      <th></th>\n",
       "      <th></th>\n",
       "      <th></th>\n",
       "      <th></th>\n",
       "      <th></th>\n",
       "      <th></th>\n",
       "      <th></th>\n",
       "      <th></th>\n",
       "      <th></th>\n",
       "      <th></th>\n",
       "      <th></th>\n",
       "      <th></th>\n",
       "      <th></th>\n",
       "      <th></th>\n",
       "      <th></th>\n",
       "      <th></th>\n",
       "      <th></th>\n",
       "      <th></th>\n",
       "      <th></th>\n",
       "      <th></th>\n",
       "      <th></th>\n",
       "      <th></th>\n",
       "      <th></th>\n",
       "      <th></th>\n",
       "      <th></th>\n",
       "      <th></th>\n",
       "      <th></th>\n",
       "      <th></th>\n",
       "      <th></th>\n",
       "      <th></th>\n",
       "      <th></th>\n",
       "      <th></th>\n",
       "      <th></th>\n",
       "      <th></th>\n",
       "      <th></th>\n",
       "      <th></th>\n",
       "      <th></th>\n",
       "      <th></th>\n",
       "      <th></th>\n",
       "      <th></th>\n",
       "      <th></th>\n",
       "      <th></th>\n",
       "      <th></th>\n",
       "      <th></th>\n",
       "    </tr>\n",
       "  </thead>\n",
       "  <tbody>\n",
       "    <tr>\n",
       "      <th>GoDaddy.com</th>\n",
       "      <td>0.0</td>\n",
       "      <td>0.0</td>\n",
       "      <td>0.0</td>\n",
       "      <td>0.0</td>\n",
       "      <td>0.0</td>\n",
       "      <td>0.0</td>\n",
       "      <td>0.0</td>\n",
       "      <td>0.0</td>\n",
       "      <td>0.0</td>\n",
       "      <td>0.0</td>\n",
       "      <td>0.0</td>\n",
       "      <td>0.0</td>\n",
       "      <td>0.0</td>\n",
       "      <td>0.0</td>\n",
       "      <td>0.0</td>\n",
       "      <td>0.0</td>\n",
       "      <td>0.0</td>\n",
       "      <td>0.0</td>\n",
       "      <td>0.0</td>\n",
       "      <td>0.0</td>\n",
       "      <td>0.0</td>\n",
       "      <td>0.0</td>\n",
       "      <td>0.0</td>\n",
       "      <td>0.058824</td>\n",
       "      <td>0.0</td>\n",
       "      <td>0.5</td>\n",
       "      <td>0.5</td>\n",
       "      <td>0.0</td>\n",
       "      <td>0.0</td>\n",
       "      <td>0.0</td>\n",
       "      <td>0.0</td>\n",
       "      <td>0.011682</td>\n",
       "      <td>0.0</td>\n",
       "      <td>0.012931</td>\n",
       "      <td>0.088235</td>\n",
       "      <td>0.013605</td>\n",
       "      <td>0.054054</td>\n",
       "      <td>0.016349</td>\n",
       "      <td>0.011215</td>\n",
       "      <td>0.013761</td>\n",
       "      <td>0.017341</td>\n",
       "      <td>0.006061</td>\n",
       "      <td>0.014403</td>\n",
       "      <td>0.025237</td>\n",
       "      <td>0.0</td>\n",
       "      <td>0.024096</td>\n",
       "      <td>0.000000</td>\n",
       "      <td>0.2</td>\n",
       "      <td>0.0</td>\n",
       "      <td>0.014388</td>\n",
       "      <td>0.0</td>\n",
       "      <td>0.0</td>\n",
       "      <td>0.0</td>\n",
       "      <td>0.0</td>\n",
       "      <td>0.0</td>\n",
       "      <td>0.0</td>\n",
       "      <td>0.09375</td>\n",
       "      <td>0.0</td>\n",
       "      <td>0.125</td>\n",
       "      <td>0.0</td>\n",
       "      <td>0.0</td>\n",
       "      <td>0.0</td>\n",
       "      <td>0.0</td>\n",
       "      <td>0.0</td>\n",
       "      <td>0.0</td>\n",
       "    </tr>\n",
       "    <tr>\n",
       "      <th>Tesla Motor Services</th>\n",
       "      <td>0.0</td>\n",
       "      <td>0.0</td>\n",
       "      <td>0.0</td>\n",
       "      <td>0.0</td>\n",
       "      <td>0.0</td>\n",
       "      <td>0.0</td>\n",
       "      <td>0.0</td>\n",
       "      <td>0.0</td>\n",
       "      <td>0.0</td>\n",
       "      <td>0.0</td>\n",
       "      <td>0.0</td>\n",
       "      <td>0.0</td>\n",
       "      <td>0.0</td>\n",
       "      <td>0.0</td>\n",
       "      <td>0.0</td>\n",
       "      <td>0.0</td>\n",
       "      <td>0.0</td>\n",
       "      <td>0.0</td>\n",
       "      <td>0.0</td>\n",
       "      <td>0.0</td>\n",
       "      <td>0.0</td>\n",
       "      <td>0.0</td>\n",
       "      <td>0.0</td>\n",
       "      <td>0.000000</td>\n",
       "      <td>0.0</td>\n",
       "      <td>0.0</td>\n",
       "      <td>0.0</td>\n",
       "      <td>0.0</td>\n",
       "      <td>0.0</td>\n",
       "      <td>0.0</td>\n",
       "      <td>0.0</td>\n",
       "      <td>0.000000</td>\n",
       "      <td>0.0</td>\n",
       "      <td>0.000000</td>\n",
       "      <td>0.000000</td>\n",
       "      <td>0.000000</td>\n",
       "      <td>0.000000</td>\n",
       "      <td>0.013624</td>\n",
       "      <td>0.000000</td>\n",
       "      <td>0.000000</td>\n",
       "      <td>0.000000</td>\n",
       "      <td>0.000000</td>\n",
       "      <td>0.000000</td>\n",
       "      <td>0.000000</td>\n",
       "      <td>0.0</td>\n",
       "      <td>0.000000</td>\n",
       "      <td>0.192308</td>\n",
       "      <td>0.0</td>\n",
       "      <td>0.0</td>\n",
       "      <td>0.000000</td>\n",
       "      <td>0.0</td>\n",
       "      <td>0.0</td>\n",
       "      <td>0.0</td>\n",
       "      <td>0.0</td>\n",
       "      <td>0.0</td>\n",
       "      <td>0.0</td>\n",
       "      <td>0.00000</td>\n",
       "      <td>0.0</td>\n",
       "      <td>0.000</td>\n",
       "      <td>0.0</td>\n",
       "      <td>0.0</td>\n",
       "      <td>0.0</td>\n",
       "      <td>0.0</td>\n",
       "      <td>0.0</td>\n",
       "      <td>0.0</td>\n",
       "    </tr>\n",
       "  </tbody>\n",
       "</table>\n",
       "</div>"
      ],
      "text/plain": [
       "device_vendor         Yamaha  Fing  iDevices  QNAP  HDHomeRun  Epson  Denon  \\\n",
       "issuer_O                                                                      \n",
       "GoDaddy.com              0.0   0.0       0.0   0.0        0.0    0.0    0.0   \n",
       "Tesla Motor Services     0.0   0.0       0.0   0.0        0.0    0.0    0.0   \n",
       "\n",
       "device_vendor         Logitech  Silicondust  Skybell  Sleep Number  Sonos  \\\n",
       "issuer_O                                                                    \n",
       "GoDaddy.com                0.0          0.0      0.0           0.0    0.0   \n",
       "Tesla Motor Services       0.0          0.0      0.0           0.0    0.0   \n",
       "\n",
       "device_vendor         IKEA  Pioneer  Lutron  Marantz  Nanoleaf  NETGEAR  \\\n",
       "issuer_O                                                                  \n",
       "GoDaddy.com            0.0      0.0     0.0      0.0       0.0      0.0   \n",
       "Tesla Motor Services   0.0      0.0     0.0      0.0       0.0      0.0   \n",
       "\n",
       "device_vendor         iRobot  Onkyo  Ubiquity  Belkin  Arlo   TP-Link  Canon  \\\n",
       "issuer_O                                                                       \n",
       "GoDaddy.com              0.0    0.0       0.0     0.0   0.0  0.058824    0.0   \n",
       "Tesla Motor Services     0.0    0.0       0.0     0.0   0.0  0.000000    0.0   \n",
       "\n",
       "device_vendor         Bose  Vera  Wyze  Withings  Western Digital  VMware  \\\n",
       "issuer_O                                                                    \n",
       "GoDaddy.com            0.5   0.5   0.0       0.0              0.0     0.0   \n",
       "Tesla Motor Services   0.0   0.0   0.0       0.0              0.0     0.0   \n",
       "\n",
       "device_vendor           Google   HP     Cisco  Synology    Amazon     Vizio  \\\n",
       "issuer_O                                                                      \n",
       "GoDaddy.com           0.011682  0.0  0.012931  0.088235  0.013605  0.054054   \n",
       "Tesla Motor Services  0.000000  0.0  0.000000  0.000000  0.000000  0.000000   \n",
       "\n",
       "device_vendor               LG   Samsung    Nvidia      Tivo    Xiaomi  \\\n",
       "issuer_O                                                                 \n",
       "GoDaddy.com           0.016349  0.011215  0.013761  0.017341  0.006061   \n",
       "Tesla Motor Services  0.013624  0.000000  0.000000  0.000000  0.000000   \n",
       "\n",
       "device_vendor             Roku      Sony  DirecTV      Wink     Tesla  \\\n",
       "issuer_O                                                                \n",
       "GoDaddy.com           0.014403  0.025237      0.0  0.024096  0.000000   \n",
       "Tesla Motor Services  0.000000  0.000000      0.0  0.000000  0.192308   \n",
       "\n",
       "device_vendor         Texas Instruments  Insignia       TCL  Humax  Philips  \\\n",
       "issuer_O                                                                      \n",
       "GoDaddy.com                         0.2       0.0  0.014388    0.0      0.0   \n",
       "Tesla Motor Services                0.0       0.0  0.000000    0.0      0.0   \n",
       "\n",
       "device_vendor         ecobee  Brother  Sharp  Sense  Amcrest  Nintendo  \\\n",
       "issuer_O                                                                 \n",
       "GoDaddy.com              0.0      0.0    0.0    0.0  0.09375       0.0   \n",
       "Tesla Motor Services     0.0      0.0    0.0    0.0  0.00000       0.0   \n",
       "\n",
       "device_vendor         Netatmo  Panasonic  Sky  Dish Network  Canary  Tuya  \\\n",
       "issuer_O                                                                    \n",
       "GoDaddy.com             0.125        0.0  0.0           0.0     0.0   0.0   \n",
       "Tesla Motor Services    0.000        0.0  0.0           0.0     0.0   0.0   \n",
       "\n",
       "device_vendor         Obihai  \n",
       "issuer_O                      \n",
       "GoDaddy.com              0.0  \n",
       "Tesla Motor Services     0.0  "
      ]
     },
     "execution_count": 92,
     "metadata": {},
     "output_type": "execute_result"
    }
   ],
   "source": [
    "dev_issuer_reshape.sample(2)"
   ]
  },
  {
   "cell_type": "code",
   "execution_count": 93,
   "id": "speaking-success",
   "metadata": {},
   "outputs": [],
   "source": [
    "dev_issuer_reshape_try = dev_issuer_reshape.copy()"
   ]
  },
  {
   "cell_type": "code",
   "execution_count": 94,
   "id": "compressed-campaign",
   "metadata": {},
   "outputs": [],
   "source": [
    "mask = np.zeros_like(dev_issuer_reshape_try)"
   ]
  },
  {
   "cell_type": "code",
   "execution_count": 95,
   "id": "minus-brown",
   "metadata": {},
   "outputs": [],
   "source": [
    "dev_issuer_reshape_mask = (dev_issuer_reshape_try == 0).values"
   ]
  },
  {
   "cell_type": "code",
   "execution_count": 96,
   "id": "neither-union",
   "metadata": {},
   "outputs": [
    {
     "data": {
      "text/plain": [
       "array([[False, False, False, ...,  True,  True,  True],\n",
       "       [ True,  True, False, ...,  True,  True,  True],\n",
       "       [ True,  True, False, ...,  True,  True,  True],\n",
       "       ...,\n",
       "       [ True,  True,  True, ...,  True, False,  True],\n",
       "       [ True,  True,  True, ...,  True,  True,  True],\n",
       "       [ True,  True,  True, ...,  True,  True,  True]])"
      ]
     },
     "execution_count": 96,
     "metadata": {},
     "output_type": "execute_result"
    }
   ],
   "source": [
    "dev_issuer_reshape_mask"
   ]
  },
  {
   "cell_type": "code",
   "execution_count": 97,
   "id": "immediate-wealth",
   "metadata": {},
   "outputs": [
    {
     "data": {
      "image/png": "[encoded data removed]",
      "text/plain": [
       "<Figure size 1368x792 with 2 Axes>"
      ]
     },
     "metadata": {
      "needs_background": "light"
     },
     "output_type": "display_data"
    }
   ],
   "source": [
    "#fig = plt.figure(figsize=(18, 9))\n",
    "#cbar_kws={\"shrink\": .5, \"orientation\": \"horizontal\"},\n",
    "\n",
    "fig, (cax, ax) = plt.subplots(nrows=2, figsize=(19, 11), gridspec_kw={\"height_ratios\":[0.02, 1]})\n",
    "ax = sns.heatmap(dev_issuer_reshape_try, cmap=\"Greens\", ax=ax, square=True, cbar=False, linecolor='black', mask = dev_issuer_reshape_mask, linewidths=.1)\n",
    "\n",
    "cbar = fig.colorbar(ax.get_children()[0], cax=cax, orientation=\"horizontal\")\n",
    "cbar.ax.tick_params(labelsize=14) \n",
    "\n",
    "\n",
    "ax.set_facecolor(\"#E1E3E5\")\n",
    "#ax.set_facecolor(((0.0, 0.0, 0.0, 0.3)))\n",
    "\n",
    "#fig.colorbar(ax.get_children()[0], cax=cax, fraction=0.046, pad=0.04, orientation=\"horizontal\")\n",
    "\n",
    "plt.ylabel(\"\")\n",
    "plt.xlabel(\"\")\n",
    "\n",
    "pub_lis = [0,1,2,4,5,6,7,9,10,11,12,14,15,20,23,25,29,31]\n",
    "for idx in pub_lis:\n",
    "    ax.get_yticklabels()[idx].set_color(\"royalblue\")\n",
    "    ax.get_yticklabels()[idx].set_fontweight('bold')\n",
    "priv_lis = [3,8,13,16,17,18,19,21,22,24,26,27,28,30,32,33,34]\n",
    "for idx in priv_lis:\n",
    "    ax.get_yticklabels()[idx].set_color(\"firebrick\")\n",
    "    ax.get_yticklabels()[idx].set_fontweight('bold')\n",
    "    \n",
    "ax.set_xticklabels(ax.get_xticklabels(), fontsize=14.5, ha='center', va='top')\n",
    "ax.tick_params(axis=\"y\",direction=\"out\", pad=10)\n",
    "ax.set_yticklabels(ax.get_yticklabels(), fontsize=14, va='center')\n",
    "\n",
    "#fig.tight_layout()\n",
    "plt.subplots_adjust(left=0.19, right=0.99, bottom=0.18, top=0.99)\n",
    "plt.show()"
   ]
  }
 ],
 "metadata": {
  "kernelspec": {
   "display_name": "Python 3",
   "language": "python",
   "name": "python3"
  },
  "language_info": {
   "codemirror_mode": {
    "name": "ipython",
    "version": 3
   },
   "file_extension": ".py",
   "mimetype": "text/x-python",
   "name": "python",
   "nbconvert_exporter": "python",
   "pygments_lexer": "ipython3",
   "version": "3.8.5"
  }
 },
 "nbformat": 4,
 "nbformat_minor": 5
}
