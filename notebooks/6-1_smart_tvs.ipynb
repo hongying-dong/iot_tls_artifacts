{
 "cells": [
  {
   "cell_type": "markdown",
   "id": "curious-inspection",
   "metadata": {},
   "source": [
    "## Case Study: Smart TVs"
   ]
  },
  {
   "cell_type": "markdown",
   "id": "painted-customs",
   "metadata": {},
   "source": [
    "### Import libraries"
   ]
  },
  {
   "cell_type": "code",
   "execution_count": 5,
   "id": "chief-financing",
   "metadata": {},
   "outputs": [],
   "source": [
    "import os\n",
    "import pandas as pd \n",
    "import numpy as np\n",
    "from lxml import etree \n",
    "pd.set_option('display.max_columns', None)\n",
    "pd.options.display.max_colwidth = 200\n",
    "import os\n",
    "import glob\n",
    "import time\n",
    "import re\n",
    "import datetime\n",
    "import matplotlib.pyplot as plt\n",
    "import seaborn as sns\n",
    "import itertools\n",
    "import matplotlib.patches as mpatches\n",
    "import shutil\n",
    "from IPython.display import clear_output\n",
    "pd.set_option('display.max_rows', 500)\n",
    "from manuf import manuf\n",
    "from user_agents import parse\n",
    "import dataframe_image as dfi\n",
    "import tldextract\n",
    "import random\n",
    "import math"
   ]
  },
  {
   "cell_type": "code",
   "execution_count": 2,
   "id": "organized-plate",
   "metadata": {},
   "outputs": [],
   "source": [
    "tv_ssl = pd.read_parquet(\"../datasets/smarttv_ssl.parquet\")"
   ]
  },
  {
   "cell_type": "code",
   "execution_count": 3,
   "id": "geological-ferry",
   "metadata": {},
   "outputs": [
    {
     "data": {
      "text/plain": [
       "(1093117, 21)"
      ]
     },
     "execution_count": 3,
     "metadata": {},
     "output_type": "execute_result"
    }
   ],
   "source": [
    "tv_ssl.shape"
   ]
  },
  {
   "cell_type": "code",
   "execution_count": 4,
   "id": "functional-aquarium",
   "metadata": {},
   "outputs": [
    {
     "data": {
      "text/html": [
       "<div>\n",
       "<style scoped>\n",
       "    .dataframe tbody tr th:only-of-type {\n",
       "        vertical-align: middle;\n",
       "    }\n",
       "\n",
       "    .dataframe tbody tr th {\n",
       "        vertical-align: top;\n",
       "    }\n",
       "\n",
       "    .dataframe thead th {\n",
       "        text-align: right;\n",
       "    }\n",
       "</style>\n",
       "<table border=\"1\" class=\"dataframe\">\n",
       "  <thead>\n",
       "    <tr style=\"text-align: right;\">\n",
       "      <th></th>\n",
       "      <th>ts</th>\n",
       "      <th>uid</th>\n",
       "      <th>id.orig_h</th>\n",
       "      <th>id.orig_p</th>\n",
       "      <th>id.resp_h</th>\n",
       "      <th>id.resp_p</th>\n",
       "      <th>version</th>\n",
       "      <th>cipher</th>\n",
       "      <th>curve</th>\n",
       "      <th>server_name</th>\n",
       "      <th>resumed</th>\n",
       "      <th>last_alert</th>\n",
       "      <th>next_protocol</th>\n",
       "      <th>established</th>\n",
       "      <th>ssl_history</th>\n",
       "      <th>cert_chain_fps</th>\n",
       "      <th>client_cert_chain_fps</th>\n",
       "      <th>sni_matches_cert</th>\n",
       "      <th>validation_status</th>\n",
       "      <th>folder_name</th>\n",
       "      <th>capture_name</th>\n",
       "    </tr>\n",
       "  </thead>\n",
       "  <tbody>\n",
       "    <tr>\n",
       "      <th>688792</th>\n",
       "      <td>1557673894.467775</td>\n",
       "      <td>CUvsfZ3W1ms512fsYk</td>\n",
       "      <td>10.42.0.20</td>\n",
       "      <td>45659.0</td>\n",
       "      <td>104.88.11.103</td>\n",
       "      <td>443.0</td>\n",
       "      <td>TLSv12</td>\n",
       "      <td>TLS_ECDHE_RSA_WITH_AES_256_GCM_SHA384</td>\n",
       "      <td>secp256r1</td>\n",
       "      <td>niagara.cc.com</td>\n",
       "      <td>F</td>\n",
       "      <td>-</td>\n",
       "      <td>http/1.1</td>\n",
       "      <td>T</td>\n",
       "      <td>CsxknGIti</td>\n",
       "      <td>12e0525fdca6a471cf1bdb048016974f3db9e1e73592874ac5dd91aa6e6fa0a4,154c433c491929c5ef686e838e323664a00e6a0d822ccc958fb4dab03e49a08f</td>\n",
       "      <td>(empty)</td>\n",
       "      <td>T</td>\n",
       "      <td>ok</td>\n",
       "      <td>amazon-data-20190510-205355</td>\n",
       "      <td>com.mtvn.vh1android-1557673593</td>\n",
       "    </tr>\n",
       "  </tbody>\n",
       "</table>\n",
       "</div>"
      ],
      "text/plain": [
       "                       ts                 uid   id.orig_h  id.orig_p  \\\n",
       "688792  1557673894.467775  CUvsfZ3W1ms512fsYk  10.42.0.20    45659.0   \n",
       "\n",
       "            id.resp_h  id.resp_p version  \\\n",
       "688792  104.88.11.103      443.0  TLSv12   \n",
       "\n",
       "                                       cipher      curve     server_name  \\\n",
       "688792  TLS_ECDHE_RSA_WITH_AES_256_GCM_SHA384  secp256r1  niagara.cc.com   \n",
       "\n",
       "       resumed last_alert next_protocol established ssl_history  \\\n",
       "688792       F          -      http/1.1           T   CsxknGIti   \n",
       "\n",
       "                                                                                                                           cert_chain_fps  \\\n",
       "688792  12e0525fdca6a471cf1bdb048016974f3db9e1e73592874ac5dd91aa6e6fa0a4,154c433c491929c5ef686e838e323664a00e6a0d822ccc958fb4dab03e49a08f   \n",
       "\n",
       "       client_cert_chain_fps sni_matches_cert validation_status  \\\n",
       "688792               (empty)                T                ok   \n",
       "\n",
       "                        folder_name                    capture_name  \n",
       "688792  amazon-data-20190510-205355  com.mtvn.vh1android-1557673593  "
      ]
     },
     "execution_count": 4,
     "metadata": {},
     "output_type": "execute_result"
    }
   ],
   "source": [
    "tv_ssl.sample(1)"
   ]
  },
  {
   "cell_type": "markdown",
   "id": "integral-happiness",
   "metadata": {},
   "source": [
    "### Dataframe process"
   ]
  },
  {
   "cell_type": "code",
   "execution_count": 6,
   "id": "random-fleet",
   "metadata": {},
   "outputs": [],
   "source": [
    "tv_ssl = tv_ssl.loc[tv_ssl['cert_chain_fps'].notna()]\n",
    "tv_ssl['fingerprint'] = tv_ssl['cert_chain_fps'].apply(lambda x: x.split(\",\")[0])\n",
    "tv_ssl['vendor'] = tv_ssl['folder_name'].apply(lambda x: x.split(\"-\")[0])"
   ]
  },
  {
   "cell_type": "code",
   "execution_count": 7,
   "id": "sixth-medline",
   "metadata": {},
   "outputs": [],
   "source": [
    "tv_x509 = pd.read_parquet(\"../datasets/smarttv_x509.parquet\")"
   ]
  },
  {
   "cell_type": "code",
   "execution_count": 8,
   "id": "dated-bronze",
   "metadata": {},
   "outputs": [
    {
     "data": {
      "text/plain": [
       "(222434, 24)"
      ]
     },
     "execution_count": 8,
     "metadata": {},
     "output_type": "execute_result"
    }
   ],
   "source": [
    "tv_x509.shape"
   ]
  },
  {
   "cell_type": "code",
   "execution_count": 9,
   "id": "reduced-express",
   "metadata": {},
   "outputs": [
    {
     "data": {
      "text/html": [
       "<div>\n",
       "<style scoped>\n",
       "    .dataframe tbody tr th:only-of-type {\n",
       "        vertical-align: middle;\n",
       "    }\n",
       "\n",
       "    .dataframe tbody tr th {\n",
       "        vertical-align: top;\n",
       "    }\n",
       "\n",
       "    .dataframe thead th {\n",
       "        text-align: right;\n",
       "    }\n",
       "</style>\n",
       "<table border=\"1\" class=\"dataframe\">\n",
       "  <thead>\n",
       "    <tr style=\"text-align: right;\">\n",
       "      <th></th>\n",
       "      <th>ts</th>\n",
       "      <th>fingerprint</th>\n",
       "      <th>certificate.version</th>\n",
       "      <th>certificate.serial</th>\n",
       "      <th>certificate.subject</th>\n",
       "      <th>certificate.issuer</th>\n",
       "      <th>certificate.not_valid_before</th>\n",
       "      <th>certificate.not_valid_after</th>\n",
       "      <th>certificate.key_alg</th>\n",
       "      <th>certificate.sig_alg</th>\n",
       "      <th>certificate.key_type</th>\n",
       "      <th>certificate.key_length</th>\n",
       "      <th>certificate.exponent</th>\n",
       "      <th>certificate.curve</th>\n",
       "      <th>san.dns</th>\n",
       "      <th>san.uri</th>\n",
       "      <th>san.email</th>\n",
       "      <th>san.ip</th>\n",
       "      <th>basic_constraints.ca</th>\n",
       "      <th>basic_constraints.path_len</th>\n",
       "      <th>host_cert</th>\n",
       "      <th>client_cert</th>\n",
       "      <th>folder_name</th>\n",
       "      <th>capture_name</th>\n",
       "    </tr>\n",
       "  </thead>\n",
       "  <tbody>\n",
       "    <tr>\n",
       "      <th>219189</th>\n",
       "      <td>1556747312.035975</td>\n",
       "      <td>54fa41cf45cb52cb2b930d2c3e86278a6d558ab23f0e6af1b7c7bfbeb2022be4</td>\n",
       "      <td>3.0</td>\n",
       "      <td>0E2895B49438</td>\n",
       "      <td>CN=*.bidswitch.net</td>\n",
       "      <td>O=mitmproxy,CN=mitmproxy</td>\n",
       "      <td>1.556589e+09</td>\n",
       "      <td>1.619834e+09</td>\n",
       "      <td>rsaEncryption</td>\n",
       "      <td>sha256WithRSAEncryption</td>\n",
       "      <td>rsa</td>\n",
       "      <td>2048.0</td>\n",
       "      <td>65537</td>\n",
       "      <td>-</td>\n",
       "      <td>*.bidswitch.net,x.bidswitch.net,bidswitch.net</td>\n",
       "      <td>-</td>\n",
       "      <td>-</td>\n",
       "      <td>35.185.64.230</td>\n",
       "      <td>-</td>\n",
       "      <td>-</td>\n",
       "      <td>T</td>\n",
       "      <td>F</td>\n",
       "      <td>roku-data-20190501-125316</td>\n",
       "      <td>90598-1556747217</td>\n",
       "    </tr>\n",
       "  </tbody>\n",
       "</table>\n",
       "</div>"
      ],
      "text/plain": [
       "                       ts  \\\n",
       "219189  1556747312.035975   \n",
       "\n",
       "                                                             fingerprint  \\\n",
       "219189  54fa41cf45cb52cb2b930d2c3e86278a6d558ab23f0e6af1b7c7bfbeb2022be4   \n",
       "\n",
       "        certificate.version certificate.serial certificate.subject  \\\n",
       "219189                  3.0       0E2895B49438  CN=*.bidswitch.net   \n",
       "\n",
       "              certificate.issuer  certificate.not_valid_before  \\\n",
       "219189  O=mitmproxy,CN=mitmproxy                  1.556589e+09   \n",
       "\n",
       "        certificate.not_valid_after certificate.key_alg  \\\n",
       "219189                 1.619834e+09       rsaEncryption   \n",
       "\n",
       "            certificate.sig_alg certificate.key_type  certificate.key_length  \\\n",
       "219189  sha256WithRSAEncryption                  rsa                  2048.0   \n",
       "\n",
       "       certificate.exponent certificate.curve  \\\n",
       "219189                65537                 -   \n",
       "\n",
       "                                              san.dns san.uri san.email  \\\n",
       "219189  *.bidswitch.net,x.bidswitch.net,bidswitch.net       -         -   \n",
       "\n",
       "               san.ip basic_constraints.ca basic_constraints.path_len  \\\n",
       "219189  35.185.64.230                    -                          -   \n",
       "\n",
       "       host_cert client_cert                folder_name      capture_name  \n",
       "219189         T           F  roku-data-20190501-125316  90598-1556747217  "
      ]
     },
     "execution_count": 9,
     "metadata": {},
     "output_type": "execute_result"
    }
   ],
   "source": [
    "tv_x509.sample(1)"
   ]
  },
  {
   "cell_type": "code",
   "execution_count": 10,
   "id": "swiss-player",
   "metadata": {},
   "outputs": [],
   "source": [
    "tv_x509 = tv_x509.loc[tv_x509['certificate.version'].notna()]"
   ]
  },
  {
   "cell_type": "code",
   "execution_count": 11,
   "id": "available-pursuit",
   "metadata": {},
   "outputs": [
    {
     "data": {
      "text/plain": [
       "(211424, 24)"
      ]
     },
     "execution_count": 11,
     "metadata": {},
     "output_type": "execute_result"
    }
   ],
   "source": [
    "tv_x509.shape"
   ]
  },
  {
   "cell_type": "code",
   "execution_count": 12,
   "id": "rural-redhead",
   "metadata": {},
   "outputs": [],
   "source": [
    "tv_x509['certificate.issuer'] = tv_x509['certificate.issuer'].fillna(\"missing\")\n",
    "tv_x509['certificate.subject'] = tv_x509['certificate.subject'].fillna(\"missing\")\n",
    "\n",
    "tv_x509['issuer_O'] = tv_x509['certificate.issuer'].apply(lambda x: x.split(\"O=\")[-1].split(\",\")[0])\n",
    "tv_x509['issuer_CN'] = tv_x509['certificate.issuer'].apply(lambda x: x.split(\"CN=\")[-1].split(\",\")[0])\n",
    "tv_x509['subject_CN'] = tv_x509['certificate.subject'].apply(lambda x: x.split(\"CN=\")[-1].split(\",\")[0])\n",
    "\n",
    "tv_x509['certificate.not_valid_before'] = tv_x509['certificate.not_valid_before'].fillna(0)\n",
    "tv_x509['certificate.not_valid_after'] = tv_x509['certificate.not_valid_after'].fillna(0)\n",
    "tv_x509['not_before'] = tv_x509['certificate.not_valid_before'].apply(lambda x: \\\n",
    "                                         datetime.datetime.fromtimestamp(x).strftime(\"%m/%d/%Y, %H:%M:%S\"))\n",
    "tv_x509['not_after'] = tv_x509['certificate.not_valid_after'].apply(lambda x: \\\n",
    "                                         datetime.datetime.fromtimestamp(x).strftime(\"%m/%d/%Y, %H:%M:%S\"))\n",
    "tv_x509['validity_days'] = tv_x509.apply(lambda x: \\\n",
    "                                         (datetime.datetime.fromtimestamp(x['certificate.not_valid_after']) - \\\n",
    "                                          datetime.datetime.fromtimestamp(x['certificate.not_valid_before'])).days, \\\n",
    "                                          axis=1)\n",
    "tv_x509['date'] = tv_x509['ts'].apply(lambda x: datetime.datetime.fromtimestamp(float(x)))"
   ]
  },
  {
   "cell_type": "markdown",
   "id": "flush-belize",
   "metadata": {},
   "source": [
    "### Servers visited; certificates received"
   ]
  },
  {
   "cell_type": "code",
   "execution_count": 13,
   "id": "widespread-permission",
   "metadata": {},
   "outputs": [],
   "source": [
    "tv_ssl_dropdup = tv_ssl.drop_duplicates(['server_name', 'validation_status', 'cert_chain_fps', 'version', 'vendor'])"
   ]
  },
  {
   "cell_type": "code",
   "execution_count": 14,
   "id": "attached-aquarium",
   "metadata": {},
   "outputs": [],
   "source": [
    "tv_x509_dropdup = tv_x509.drop_duplicates(['fingerprint', 'certificate.issuer', 'validity_days'])"
   ]
  },
  {
   "cell_type": "code",
   "execution_count": 15,
   "id": "stunning-solid",
   "metadata": {},
   "outputs": [],
   "source": [
    "tv_dropdup_merge = pd.merge(tv_ssl_dropdup, tv_x509_dropdup, left_on='fingerprint', right_on='fingerprint', how='left')"
   ]
  },
  {
   "cell_type": "code",
   "execution_count": 16,
   "id": "structured-monster",
   "metadata": {},
   "outputs": [],
   "source": [
    "tv_dropdup_merge.loc[tv_dropdup_merge.vendor == \"amazon_manual_v2\", \"vendor\"] = \"amazon\""
   ]
  },
  {
   "cell_type": "code",
   "execution_count": 17,
   "id": "applicable-suite",
   "metadata": {},
   "outputs": [],
   "source": [
    "tv_dropdup_filter = tv_dropdup_merge.loc[(tv_dropdup_merge['vendor'] == \"amazon\") | \\\n",
    "                                         (tv_dropdup_merge['vendor'] == \"roku\")]"
   ]
  },
  {
   "cell_type": "code",
   "execution_count": 18,
   "id": "brief-designer",
   "metadata": {},
   "outputs": [],
   "source": [
    "tv_dropdup_filter = tv_dropdup_filter.drop_duplicates(['server_name','validation_status', 'cert_chain_fps', 'version', 'vendor', \\\n",
    "                                                       'fingerprint', 'certificate.issuer', 'validity_days'])"
   ]
  },
  {
   "cell_type": "code",
   "execution_count": 19,
   "id": "coordinate-protocol",
   "metadata": {},
   "outputs": [
    {
     "data": {
      "text/plain": [
       "(66473, 53)"
      ]
     },
     "execution_count": 19,
     "metadata": {},
     "output_type": "execute_result"
    }
   ],
   "source": [
    "tv_dropdup_filter.shape"
   ]
  },
  {
   "cell_type": "code",
   "execution_count": 20,
   "id": "global-canberra",
   "metadata": {},
   "outputs": [
    {
     "data": {
      "text/plain": [
       "amazon    43130\n",
       "roku      23343\n",
       "Name: vendor, dtype: int64"
      ]
     },
     "execution_count": 20,
     "metadata": {},
     "output_type": "execute_result"
    }
   ],
   "source": [
    "tv_dropdup_filter['vendor'].value_counts()"
   ]
  },
  {
   "cell_type": "code",
   "execution_count": 21,
   "id": "upper-conducting",
   "metadata": {},
   "outputs": [],
   "source": [
    "tv_dropdup_filter['domain'] = tv_dropdup_filter['server_name'].apply(lambda x: \"{}.{}\".format(tldextract.extract(x).domain, \\\n",
    "                                                                                              tldextract.extract(x).suffix))"
   ]
  },
  {
   "cell_type": "code",
   "execution_count": 22,
   "id": "monthly-baseline",
   "metadata": {},
   "outputs": [],
   "source": [
    "amazon = tv_dropdup_filter.loc[(tv_dropdup_filter['vendor'] == \"amazon\") & \\\n",
    "                               (tv_dropdup_filter['issuer_O'] != \"mitmproxy\")]"
   ]
  },
  {
   "cell_type": "code",
   "execution_count": 23,
   "id": "prescribed-stomach",
   "metadata": {},
   "outputs": [
    {
     "data": {
      "text/plain": [
       "(3574, 54)"
      ]
     },
     "execution_count": 23,
     "metadata": {},
     "output_type": "execute_result"
    }
   ],
   "source": [
    "amazon.shape"
   ]
  },
  {
   "cell_type": "code",
   "execution_count": 24,
   "id": "personalized-award",
   "metadata": {},
   "outputs": [],
   "source": [
    "roku = tv_dropdup_filter.loc[(tv_dropdup_filter['vendor'] == \"roku\") & \\\n",
    "                             (tv_dropdup_filter['issuer_O'] != \"mitmproxy\") & \\\n",
    "                             (tv_dropdup_filter['issuer_CN'] != \"3016sale.xyz\")]"
   ]
  },
  {
   "cell_type": "code",
   "execution_count": 25,
   "id": "simple-lincoln",
   "metadata": {},
   "outputs": [
    {
     "data": {
      "text/plain": [
       "(5618, 54)"
      ]
     },
     "execution_count": 25,
     "metadata": {},
     "output_type": "execute_result"
    }
   ],
   "source": [
    "roku.shape"
   ]
  },
  {
   "cell_type": "code",
   "execution_count": 26,
   "id": "rough-short",
   "metadata": {},
   "outputs": [],
   "source": [
    "amazon_domain_lis = list(set(amazon['domain'].tolist()))\n",
    "roku_domain_lis = list(set(roku['domain'].tolist()))"
   ]
  },
  {
   "cell_type": "code",
   "execution_count": 27,
   "id": "unavailable-section",
   "metadata": {},
   "outputs": [],
   "source": [
    "comm_lis = list(set(amazon_domain_lis).intersection(roku_domain_lis))"
   ]
  },
  {
   "cell_type": "code",
   "execution_count": 28,
   "id": "covered-actor",
   "metadata": {},
   "outputs": [
    {
     "data": {
      "text/plain": [
       "448"
      ]
     },
     "execution_count": 28,
     "metadata": {},
     "output_type": "execute_result"
    }
   ],
   "source": [
    "len(comm_lis)"
   ]
  },
  {
   "cell_type": "code",
   "execution_count": 29,
   "id": "communist-crazy",
   "metadata": {},
   "outputs": [],
   "source": [
    "amazon_only = amazon.loc[~amazon['domain'].isin(comm_lis)]"
   ]
  },
  {
   "cell_type": "code",
   "execution_count": 30,
   "id": "popular-westminster",
   "metadata": {},
   "outputs": [],
   "source": [
    "roku_only = roku.loc[~roku['domain'].isin(comm_lis)]"
   ]
  },
  {
   "cell_type": "code",
   "execution_count": 31,
   "id": "satellite-integral",
   "metadata": {},
   "outputs": [],
   "source": [
    "amazon_filter = amazon_only.loc[(amazon_only['domain'].str.startswith(\"amazon\")) | \\\n",
    "                                ((amazon_only['domain'].str.startswith(\"aws\")))]"
   ]
  },
  {
   "cell_type": "code",
   "execution_count": 32,
   "id": "unnecessary-biology",
   "metadata": {},
   "outputs": [],
   "source": [
    "roku_filter = roku_only.loc[roku_only['domain'].str.startswith(\"roku\")]"
   ]
  },
  {
   "cell_type": "code",
   "execution_count": 33,
   "id": "excessive-event",
   "metadata": {},
   "outputs": [
    {
     "data": {
      "text/plain": [
       "(15, 54)"
      ]
     },
     "execution_count": 33,
     "metadata": {},
     "output_type": "execute_result"
    }
   ],
   "source": [
    "amazon_filter.shape"
   ]
  },
  {
   "cell_type": "code",
   "execution_count": 34,
   "id": "beautiful-mystery",
   "metadata": {},
   "outputs": [
    {
     "data": {
      "text/html": [
       "<div>\n",
       "<style scoped>\n",
       "    .dataframe tbody tr th:only-of-type {\n",
       "        vertical-align: middle;\n",
       "    }\n",
       "\n",
       "    .dataframe tbody tr th {\n",
       "        vertical-align: top;\n",
       "    }\n",
       "\n",
       "    .dataframe thead th {\n",
       "        text-align: right;\n",
       "    }\n",
       "</style>\n",
       "<table border=\"1\" class=\"dataframe\">\n",
       "  <thead>\n",
       "    <tr style=\"text-align: right;\">\n",
       "      <th></th>\n",
       "      <th>server_name</th>\n",
       "      <th>issuer_O</th>\n",
       "      <th>issuer_CN</th>\n",
       "      <th>certificate.serial</th>\n",
       "      <th>validation_status</th>\n",
       "      <th>validity_days</th>\n",
       "    </tr>\n",
       "  </thead>\n",
       "  <tbody>\n",
       "    <tr>\n",
       "      <th>0</th>\n",
       "      <td>wl.amazon-dss.com</td>\n",
       "      <td>Amazon</td>\n",
       "      <td>Amazon</td>\n",
       "      <td>08A26BEFA71D81D79508693990771B5A</td>\n",
       "      <td>ok</td>\n",
       "      <td>396.0</td>\n",
       "    </tr>\n",
       "    <tr>\n",
       "      <th>84</th>\n",
       "      <td>api.amazonalexa.com</td>\n",
       "      <td>Amazon</td>\n",
       "      <td>Amazon</td>\n",
       "      <td>0FB4B5976D52A9921F101098DE2E7A92</td>\n",
       "      <td>ok</td>\n",
       "      <td>359.0</td>\n",
       "    </tr>\n",
       "    <tr>\n",
       "      <th>97</th>\n",
       "      <td>resources.amazonwebapps.com</td>\n",
       "      <td>Amazon</td>\n",
       "      <td>Amazon</td>\n",
       "      <td>09A766AD4B80FAFB273974941A52DA85</td>\n",
       "      <td>ok</td>\n",
       "      <td>356.0</td>\n",
       "    </tr>\n",
       "    <tr>\n",
       "      <th>160</th>\n",
       "      <td>api.amazonalexa.com</td>\n",
       "      <td>NaN</td>\n",
       "      <td>NaN</td>\n",
       "      <td>NaN</td>\n",
       "      <td>-</td>\n",
       "      <td>NaN</td>\n",
       "    </tr>\n",
       "    <tr>\n",
       "      <th>372</th>\n",
       "      <td>amazonchannelstudio-cdn.com</td>\n",
       "      <td>Amazon</td>\n",
       "      <td>Amazon</td>\n",
       "      <td>08EAA6793D35E0A26DE3496AEC464D16</td>\n",
       "      <td>ok</td>\n",
       "      <td>396.0</td>\n",
       "    </tr>\n",
       "    <tr>\n",
       "      <th>374</th>\n",
       "      <td>amazonchannelstudio-cdn.com</td>\n",
       "      <td>NaN</td>\n",
       "      <td>NaN</td>\n",
       "      <td>NaN</td>\n",
       "      <td>-</td>\n",
       "      <td>NaN</td>\n",
       "    </tr>\n",
       "    <tr>\n",
       "      <th>4788</th>\n",
       "      <td>wl.amazon-dss.com</td>\n",
       "      <td>NaN</td>\n",
       "      <td>NaN</td>\n",
       "      <td>NaN</td>\n",
       "      <td>-</td>\n",
       "      <td>NaN</td>\n",
       "    </tr>\n",
       "    <tr>\n",
       "      <th>6024</th>\n",
       "      <td>wl.amazon-dss.com</td>\n",
       "      <td>NaN</td>\n",
       "      <td>NaN</td>\n",
       "      <td>NaN</td>\n",
       "      <td>-</td>\n",
       "      <td>NaN</td>\n",
       "    </tr>\n",
       "    <tr>\n",
       "      <th>19063</th>\n",
       "      <td>global.safebrowsing.service.amazonsilk.com</td>\n",
       "      <td>Amazon</td>\n",
       "      <td>Amazon</td>\n",
       "      <td>091679203A511E77451BEF79F40F17AE</td>\n",
       "      <td>ok</td>\n",
       "      <td>365.0</td>\n",
       "    </tr>\n",
       "    <tr>\n",
       "      <th>25935</th>\n",
       "      <td>wl.amazon-dss.com</td>\n",
       "      <td>NaN</td>\n",
       "      <td>NaN</td>\n",
       "      <td>NaN</td>\n",
       "      <td>-</td>\n",
       "      <td>NaN</td>\n",
       "    </tr>\n",
       "    <tr>\n",
       "      <th>33725</th>\n",
       "      <td>api.amazonalexa.com</td>\n",
       "      <td>Amazon</td>\n",
       "      <td>Amazon</td>\n",
       "      <td>070BD899B82AEE40D1986AA070153EFA</td>\n",
       "      <td>ok</td>\n",
       "      <td>365.0</td>\n",
       "    </tr>\n",
       "    <tr>\n",
       "      <th>33892</th>\n",
       "      <td>avs.na.amazonalexa.com</td>\n",
       "      <td>Amazon</td>\n",
       "      <td>Amazon</td>\n",
       "      <td>03957950AF0B0E4B481E4E8CECEAB2FC</td>\n",
       "      <td>ok</td>\n",
       "      <td>365.0</td>\n",
       "    </tr>\n",
       "    <tr>\n",
       "      <th>52366</th>\n",
       "      <td>avs.na.amazonalexa.com</td>\n",
       "      <td>NaN</td>\n",
       "      <td>NaN</td>\n",
       "      <td>NaN</td>\n",
       "      <td>-</td>\n",
       "      <td>NaN</td>\n",
       "    </tr>\n",
       "    <tr>\n",
       "      <th>59027</th>\n",
       "      <td>wl.amazon-dss.com</td>\n",
       "      <td>Amazon</td>\n",
       "      <td>Amazon</td>\n",
       "      <td>0B9C43F56DCE164A789143B5A6C20A48</td>\n",
       "      <td>ok</td>\n",
       "      <td>397.0</td>\n",
       "    </tr>\n",
       "    <tr>\n",
       "      <th>61359</th>\n",
       "      <td>avs.na.amazonalexa.com</td>\n",
       "      <td>NaN</td>\n",
       "      <td>NaN</td>\n",
       "      <td>NaN</td>\n",
       "      <td>-</td>\n",
       "      <td>NaN</td>\n",
       "    </tr>\n",
       "  </tbody>\n",
       "</table>\n",
       "</div>"
      ],
      "text/plain": [
       "                                      server_name issuer_O issuer_CN  \\\n",
       "0                               wl.amazon-dss.com   Amazon    Amazon   \n",
       "84                            api.amazonalexa.com   Amazon    Amazon   \n",
       "97                    resources.amazonwebapps.com   Amazon    Amazon   \n",
       "160                           api.amazonalexa.com      NaN       NaN   \n",
       "372                   amazonchannelstudio-cdn.com   Amazon    Amazon   \n",
       "374                   amazonchannelstudio-cdn.com      NaN       NaN   \n",
       "4788                            wl.amazon-dss.com      NaN       NaN   \n",
       "6024                            wl.amazon-dss.com      NaN       NaN   \n",
       "19063  global.safebrowsing.service.amazonsilk.com   Amazon    Amazon   \n",
       "25935                           wl.amazon-dss.com      NaN       NaN   \n",
       "33725                         api.amazonalexa.com   Amazon    Amazon   \n",
       "33892                      avs.na.amazonalexa.com   Amazon    Amazon   \n",
       "52366                      avs.na.amazonalexa.com      NaN       NaN   \n",
       "59027                           wl.amazon-dss.com   Amazon    Amazon   \n",
       "61359                      avs.na.amazonalexa.com      NaN       NaN   \n",
       "\n",
       "                     certificate.serial validation_status  validity_days  \n",
       "0      08A26BEFA71D81D79508693990771B5A                ok          396.0  \n",
       "84     0FB4B5976D52A9921F101098DE2E7A92                ok          359.0  \n",
       "97     09A766AD4B80FAFB273974941A52DA85                ok          356.0  \n",
       "160                                 NaN                 -            NaN  \n",
       "372    08EAA6793D35E0A26DE3496AEC464D16                ok          396.0  \n",
       "374                                 NaN                 -            NaN  \n",
       "4788                                NaN                 -            NaN  \n",
       "6024                                NaN                 -            NaN  \n",
       "19063  091679203A511E77451BEF79F40F17AE                ok          365.0  \n",
       "25935                               NaN                 -            NaN  \n",
       "33725  070BD899B82AEE40D1986AA070153EFA                ok          365.0  \n",
       "33892  03957950AF0B0E4B481E4E8CECEAB2FC                ok          365.0  \n",
       "52366                               NaN                 -            NaN  \n",
       "59027  0B9C43F56DCE164A789143B5A6C20A48                ok          397.0  \n",
       "61359                               NaN                 -            NaN  "
      ]
     },
     "execution_count": 34,
     "metadata": {},
     "output_type": "execute_result"
    }
   ],
   "source": [
    "amazon_filter[['server_name', 'issuer_O', 'issuer_CN', 'certificate.serial', 'validation_status', 'validity_days']]"
   ]
  },
  {
   "cell_type": "code",
   "execution_count": 35,
   "id": "radio-wheel",
   "metadata": {},
   "outputs": [
    {
     "data": {
      "text/plain": [
       "(8, 54)"
      ]
     },
     "execution_count": 35,
     "metadata": {},
     "output_type": "execute_result"
    }
   ],
   "source": [
    "roku_filter.shape"
   ]
  },
  {
   "cell_type": "code",
   "execution_count": 36,
   "id": "worth-gravity",
   "metadata": {},
   "outputs": [
    {
     "data": {
      "text/html": [
       "<div>\n",
       "<style scoped>\n",
       "    .dataframe tbody tr th:only-of-type {\n",
       "        vertical-align: middle;\n",
       "    }\n",
       "\n",
       "    .dataframe tbody tr th {\n",
       "        vertical-align: top;\n",
       "    }\n",
       "\n",
       "    .dataframe thead th {\n",
       "        text-align: right;\n",
       "    }\n",
       "</style>\n",
       "<table border=\"1\" class=\"dataframe\">\n",
       "  <thead>\n",
       "    <tr style=\"text-align: right;\">\n",
       "      <th></th>\n",
       "      <th>ts_x</th>\n",
       "      <th>uid</th>\n",
       "      <th>id.orig_h</th>\n",
       "      <th>id.orig_p</th>\n",
       "      <th>id.resp_h</th>\n",
       "      <th>id.resp_p</th>\n",
       "      <th>version</th>\n",
       "      <th>cipher</th>\n",
       "      <th>curve</th>\n",
       "      <th>server_name</th>\n",
       "      <th>resumed</th>\n",
       "      <th>last_alert</th>\n",
       "      <th>next_protocol</th>\n",
       "      <th>established</th>\n",
       "      <th>ssl_history</th>\n",
       "      <th>cert_chain_fps</th>\n",
       "      <th>client_cert_chain_fps</th>\n",
       "      <th>sni_matches_cert</th>\n",
       "      <th>validation_status</th>\n",
       "      <th>folder_name_x</th>\n",
       "      <th>capture_name_x</th>\n",
       "      <th>fingerprint</th>\n",
       "      <th>vendor</th>\n",
       "      <th>ts_y</th>\n",
       "      <th>certificate.version</th>\n",
       "      <th>certificate.serial</th>\n",
       "      <th>certificate.subject</th>\n",
       "      <th>certificate.issuer</th>\n",
       "      <th>certificate.not_valid_before</th>\n",
       "      <th>certificate.not_valid_after</th>\n",
       "      <th>certificate.key_alg</th>\n",
       "      <th>certificate.sig_alg</th>\n",
       "      <th>certificate.key_type</th>\n",
       "      <th>certificate.key_length</th>\n",
       "      <th>certificate.exponent</th>\n",
       "      <th>certificate.curve</th>\n",
       "      <th>san.dns</th>\n",
       "      <th>san.uri</th>\n",
       "      <th>san.email</th>\n",
       "      <th>san.ip</th>\n",
       "      <th>basic_constraints.ca</th>\n",
       "      <th>basic_constraints.path_len</th>\n",
       "      <th>host_cert</th>\n",
       "      <th>client_cert</th>\n",
       "      <th>folder_name_y</th>\n",
       "      <th>capture_name_y</th>\n",
       "      <th>issuer_O</th>\n",
       "      <th>issuer_CN</th>\n",
       "      <th>subject_CN</th>\n",
       "      <th>not_before</th>\n",
       "      <th>not_after</th>\n",
       "      <th>validity_days</th>\n",
       "      <th>date</th>\n",
       "      <th>domain</th>\n",
       "    </tr>\n",
       "  </thead>\n",
       "  <tbody>\n",
       "    <tr>\n",
       "      <th>1685</th>\n",
       "      <td>1563327043.351951</td>\n",
       "      <td>CclahU26NTou6pc3b</td>\n",
       "      <td>10.42.0.119</td>\n",
       "      <td>41126.0</td>\n",
       "      <td>34.197.164.98</td>\n",
       "      <td>443.0</td>\n",
       "      <td>TLSv12</td>\n",
       "      <td>TLS_ECDHE_RSA_WITH_AES_128_GCM_SHA256</td>\n",
       "      <td>secp256r1</td>\n",
       "      <td>api.rokutime.com</td>\n",
       "      <td>F</td>\n",
       "      <td>unknown_ca</td>\n",
       "      <td>-</td>\n",
       "      <td>F</td>\n",
       "      <td>CsxknL</td>\n",
       "      <td>34ae4ff5721ef09116308e2064579079d94a75160052efc7cde8b4d8da5630d6,25847d668eb4f04fdd40b12b6b0740c567da7d024308eb6c2c96fe41d9de218d</td>\n",
       "      <td>(empty)</td>\n",
       "      <td>F</td>\n",
       "      <td>ok</td>\n",
       "      <td>roku-data-20190716-121233</td>\n",
       "      <td>48631-1563326967</td>\n",
       "      <td>34ae4ff5721ef09116308e2064579079d94a75160052efc7cde8b4d8da5630d6</td>\n",
       "      <td>roku</td>\n",
       "      <td>1563308100.038230</td>\n",
       "      <td>3.0</td>\n",
       "      <td>0392B46869F744E54501EBDDBC9DDC03881D</td>\n",
       "      <td>CN=3016sale.xyz</td>\n",
       "      <td>CN=Let's Encrypt Authority X3,O=Let's Encrypt,C=US</td>\n",
       "      <td>1.562895e+09</td>\n",
       "      <td>1.570671e+09</td>\n",
       "      <td>rsaEncryption</td>\n",
       "      <td>sha256WithRSAEncryption</td>\n",
       "      <td>rsa</td>\n",
       "      <td>2048.0</td>\n",
       "      <td>65537</td>\n",
       "      <td>-</td>\n",
       "      <td>3016sale.xyz</td>\n",
       "      <td>-</td>\n",
       "      <td>-</td>\n",
       "      <td>-</td>\n",
       "      <td>F</td>\n",
       "      <td>-</td>\n",
       "      <td>T</td>\n",
       "      <td>F</td>\n",
       "      <td>roku-data-20190716-121233</td>\n",
       "      <td>215768-1563308069</td>\n",
       "      <td>Let's Encrypt</td>\n",
       "      <td>Let's Encrypt Authority X3</td>\n",
       "      <td>3016sale.xyz</td>\n",
       "      <td>07/11/2019, 21:33:16</td>\n",
       "      <td>10/09/2019, 21:33:16</td>\n",
       "      <td>90.0</td>\n",
       "      <td>2019-07-16 16:15:00.038230</td>\n",
       "      <td>rokutime.com</td>\n",
       "    </tr>\n",
       "    <tr>\n",
       "      <th>1686</th>\n",
       "      <td>1563327043.367308</td>\n",
       "      <td>CpAMr82LQxxViCTcml</td>\n",
       "      <td>10.42.0.119</td>\n",
       "      <td>41127.0</td>\n",
       "      <td>34.197.164.98</td>\n",
       "      <td>443.0</td>\n",
       "      <td>-</td>\n",
       "      <td>-</td>\n",
       "      <td>-</td>\n",
       "      <td>api.rokutime.com</td>\n",
       "      <td>F</td>\n",
       "      <td>handshake_failure</td>\n",
       "      <td>-</td>\n",
       "      <td>F</td>\n",
       "      <td>Cl</td>\n",
       "      <td>-</td>\n",
       "      <td>-</td>\n",
       "      <td>-</td>\n",
       "      <td>-</td>\n",
       "      <td>roku-data-20190716-121233</td>\n",
       "      <td>48631-1563326967</td>\n",
       "      <td>-</td>\n",
       "      <td>roku</td>\n",
       "      <td>NaN</td>\n",
       "      <td>NaN</td>\n",
       "      <td>NaN</td>\n",
       "      <td>NaN</td>\n",
       "      <td>NaN</td>\n",
       "      <td>NaN</td>\n",
       "      <td>NaN</td>\n",
       "      <td>NaN</td>\n",
       "      <td>NaN</td>\n",
       "      <td>NaN</td>\n",
       "      <td>NaN</td>\n",
       "      <td>NaN</td>\n",
       "      <td>NaN</td>\n",
       "      <td>NaN</td>\n",
       "      <td>NaN</td>\n",
       "      <td>NaN</td>\n",
       "      <td>NaN</td>\n",
       "      <td>NaN</td>\n",
       "      <td>NaN</td>\n",
       "      <td>NaN</td>\n",
       "      <td>NaN</td>\n",
       "      <td>NaN</td>\n",
       "      <td>NaN</td>\n",
       "      <td>NaN</td>\n",
       "      <td>NaN</td>\n",
       "      <td>NaN</td>\n",
       "      <td>NaN</td>\n",
       "      <td>NaN</td>\n",
       "      <td>NaN</td>\n",
       "      <td>NaT</td>\n",
       "      <td>rokutime.com</td>\n",
       "    </tr>\n",
       "    <tr>\n",
       "      <th>8382</th>\n",
       "      <td>1552589994.342402</td>\n",
       "      <td>C23bpfS67siBKrORh</td>\n",
       "      <td>10.42.0.119</td>\n",
       "      <td>38927.0</td>\n",
       "      <td>34.197.164.98</td>\n",
       "      <td>443.0</td>\n",
       "      <td>TLSv12</td>\n",
       "      <td>TLS_ECDHE_RSA_WITH_AES_128_GCM_SHA256</td>\n",
       "      <td>secp256r1</td>\n",
       "      <td>api.rokutime.com</td>\n",
       "      <td>F</td>\n",
       "      <td>-</td>\n",
       "      <td>-</td>\n",
       "      <td>T</td>\n",
       "      <td>CsxknGIi</td>\n",
       "      <td>8b5a7181cb5a51e5326016f3528119211da9c865c6a133dc74086a25133820f2,130d0d65193ffcaa524951b5220e5187f8cb310efff71cf383ed4687050702e3</td>\n",
       "      <td>(empty)</td>\n",
       "      <td>T</td>\n",
       "      <td>self signed certificate in certificate chain</td>\n",
       "      <td>roku-data-20190314-161246</td>\n",
       "      <td>32614-1552589788</td>\n",
       "      <td>8b5a7181cb5a51e5326016f3528119211da9c865c6a133dc74086a25133820f2</td>\n",
       "      <td>roku</td>\n",
       "      <td>1552589994.361401</td>\n",
       "      <td>3.0</td>\n",
       "      <td>200C</td>\n",
       "      <td>CN=api.rokutime.com,OU=PlayerServices,O=Roku\\\\, Inc.,L=Los Gatos,ST=California,C=US</td>\n",
       "      <td>OU=Roku Server Certification Authority,O=Roku\\\\, Inc.,L=Saratoga,ST=California,C=US</td>\n",
       "      <td>1.220285e+09</td>\n",
       "      <td>1.583804e+09</td>\n",
       "      <td>rsaEncryption</td>\n",
       "      <td>sha256WithRSAEncryption</td>\n",
       "      <td>rsa</td>\n",
       "      <td>2048.0</td>\n",
       "      <td>65537</td>\n",
       "      <td>-</td>\n",
       "      <td>api.rokutime.com,ntp.rokutime.com</td>\n",
       "      <td>-</td>\n",
       "      <td>-</td>\n",
       "      <td>-</td>\n",
       "      <td>F</td>\n",
       "      <td>-</td>\n",
       "      <td>T</td>\n",
       "      <td>F</td>\n",
       "      <td>roku-data-20190314-161246</td>\n",
       "      <td>32614-1552589788</td>\n",
       "      <td>Roku\\\\</td>\n",
       "      <td>OU=Roku Server Certification Authority</td>\n",
       "      <td>api.rokutime.com</td>\n",
       "      <td>09/01/2008, 12:00:00</td>\n",
       "      <td>03/09/2020, 21:39:55</td>\n",
       "      <td>4207.0</td>\n",
       "      <td>2019-03-14 14:59:54.361401</td>\n",
       "      <td>rokutime.com</td>\n",
       "    </tr>\n",
       "    <tr>\n",
       "      <th>13507</th>\n",
       "      <td>1557383964.657148</td>\n",
       "      <td>CsC7l68amrIjiwOTb</td>\n",
       "      <td>10.42.0.119</td>\n",
       "      <td>41844.0</td>\n",
       "      <td>162.241.224.14</td>\n",
       "      <td>443.0</td>\n",
       "      <td>TLSv12</td>\n",
       "      <td>TLS_ECDHE_RSA_WITH_AES_256_GCM_SHA384</td>\n",
       "      <td>secp256r1</td>\n",
       "      <td>www.roku-photoview.com</td>\n",
       "      <td>F</td>\n",
       "      <td>-</td>\n",
       "      <td>http/1.1</td>\n",
       "      <td>T</td>\n",
       "      <td>CsxknGIi</td>\n",
       "      <td>a1c723cc195852e55442f377e7189dbb81bd11972b6b2aa52aed5fa0c0f910d6,25847d668eb4f04fdd40b12b6b0740c567da7d024308eb6c2c96fe41d9de218d</td>\n",
       "      <td>(empty)</td>\n",
       "      <td>T</td>\n",
       "      <td>ok</td>\n",
       "      <td>roku-data-20190508-013650</td>\n",
       "      <td>133629-1557383933</td>\n",
       "      <td>a1c723cc195852e55442f377e7189dbb81bd11972b6b2aa52aed5fa0c0f910d6</td>\n",
       "      <td>roku</td>\n",
       "      <td>1557383964.690789</td>\n",
       "      <td>3.0</td>\n",
       "      <td>04EF7490723CB127EC70DDDD9D89A6E4ADD6</td>\n",
       "      <td>CN=roku-photoview.com</td>\n",
       "      <td>CN=Let's Encrypt Authority X3,O=Let's Encrypt,C=US</td>\n",
       "      <td>1.553418e+09</td>\n",
       "      <td>1.561194e+09</td>\n",
       "      <td>rsaEncryption</td>\n",
       "      <td>sha256WithRSAEncryption</td>\n",
       "      <td>rsa</td>\n",
       "      <td>2048.0</td>\n",
       "      <td>65537</td>\n",
       "      <td>-</td>\n",
       "      <td>autodiscover.roku-photoview.com,cpanel.roku-photoview.com,mail.roku-photoview.com,roku-photoview.com,webdisk.roku-photoview.com,webmail.roku-photoview.com,www.roku-photoview.com</td>\n",
       "      <td>-</td>\n",
       "      <td>-</td>\n",
       "      <td>-</td>\n",
       "      <td>F</td>\n",
       "      <td>-</td>\n",
       "      <td>T</td>\n",
       "      <td>F</td>\n",
       "      <td>roku-data-20190508-013650</td>\n",
       "      <td>133629-1557383933</td>\n",
       "      <td>Let's Encrypt</td>\n",
       "      <td>Let's Encrypt Authority X3</td>\n",
       "      <td>roku-photoview.com</td>\n",
       "      <td>03/24/2019, 04:53:37</td>\n",
       "      <td>06/22/2019, 04:53:37</td>\n",
       "      <td>90.0</td>\n",
       "      <td>2019-05-09 02:39:24.690789</td>\n",
       "      <td>roku-photoview.com</td>\n",
       "    </tr>\n",
       "    <tr>\n",
       "      <th>13508</th>\n",
       "      <td>1557384074.234420</td>\n",
       "      <td>CAMftC3LdgqIbjXwbb</td>\n",
       "      <td>10.42.0.119</td>\n",
       "      <td>41858.0</td>\n",
       "      <td>162.241.224.14</td>\n",
       "      <td>443.0</td>\n",
       "      <td>TLSv12</td>\n",
       "      <td>TLS_ECDHE_RSA_WITH_AES_256_GCM_SHA384</td>\n",
       "      <td>-</td>\n",
       "      <td>www.roku-photoview.com</td>\n",
       "      <td>T</td>\n",
       "      <td>-</td>\n",
       "      <td>http/1.1</td>\n",
       "      <td>T</td>\n",
       "      <td>CsiI</td>\n",
       "      <td>-</td>\n",
       "      <td>-</td>\n",
       "      <td>-</td>\n",
       "      <td>-</td>\n",
       "      <td>roku-data-20190508-013650</td>\n",
       "      <td>133629-1557383933</td>\n",
       "      <td>-</td>\n",
       "      <td>roku</td>\n",
       "      <td>NaN</td>\n",
       "      <td>NaN</td>\n",
       "      <td>NaN</td>\n",
       "      <td>NaN</td>\n",
       "      <td>NaN</td>\n",
       "      <td>NaN</td>\n",
       "      <td>NaN</td>\n",
       "      <td>NaN</td>\n",
       "      <td>NaN</td>\n",
       "      <td>NaN</td>\n",
       "      <td>NaN</td>\n",
       "      <td>NaN</td>\n",
       "      <td>NaN</td>\n",
       "      <td>NaN</td>\n",
       "      <td>NaN</td>\n",
       "      <td>NaN</td>\n",
       "      <td>NaN</td>\n",
       "      <td>NaN</td>\n",
       "      <td>NaN</td>\n",
       "      <td>NaN</td>\n",
       "      <td>NaN</td>\n",
       "      <td>NaN</td>\n",
       "      <td>NaN</td>\n",
       "      <td>NaN</td>\n",
       "      <td>NaN</td>\n",
       "      <td>NaN</td>\n",
       "      <td>NaN</td>\n",
       "      <td>NaN</td>\n",
       "      <td>NaN</td>\n",
       "      <td>NaT</td>\n",
       "      <td>roku-photoview.com</td>\n",
       "    </tr>\n",
       "    <tr>\n",
       "      <th>41038</th>\n",
       "      <td>1559058482.190850</td>\n",
       "      <td>CZrnOD1zybyOwTIZQ6</td>\n",
       "      <td>10.42.0.120</td>\n",
       "      <td>58981.0</td>\n",
       "      <td>54.172.170.195</td>\n",
       "      <td>443.0</td>\n",
       "      <td>TLSv12</td>\n",
       "      <td>TLS_ECDHE_RSA_WITH_AES_128_GCM_SHA256</td>\n",
       "      <td>secp256r1</td>\n",
       "      <td>api.rokutime.com</td>\n",
       "      <td>F</td>\n",
       "      <td>unknown_ca</td>\n",
       "      <td>-</td>\n",
       "      <td>F</td>\n",
       "      <td>CsxknL</td>\n",
       "      <td>(empty)</td>\n",
       "      <td>(empty)</td>\n",
       "      <td>-</td>\n",
       "      <td>-</td>\n",
       "      <td>roku-data-20190524-202541</td>\n",
       "      <td>280013-1559058028</td>\n",
       "      <td>(empty)</td>\n",
       "      <td>roku</td>\n",
       "      <td>NaN</td>\n",
       "      <td>NaN</td>\n",
       "      <td>NaN</td>\n",
       "      <td>NaN</td>\n",
       "      <td>NaN</td>\n",
       "      <td>NaN</td>\n",
       "      <td>NaN</td>\n",
       "      <td>NaN</td>\n",
       "      <td>NaN</td>\n",
       "      <td>NaN</td>\n",
       "      <td>NaN</td>\n",
       "      <td>NaN</td>\n",
       "      <td>NaN</td>\n",
       "      <td>NaN</td>\n",
       "      <td>NaN</td>\n",
       "      <td>NaN</td>\n",
       "      <td>NaN</td>\n",
       "      <td>NaN</td>\n",
       "      <td>NaN</td>\n",
       "      <td>NaN</td>\n",
       "      <td>NaN</td>\n",
       "      <td>NaN</td>\n",
       "      <td>NaN</td>\n",
       "      <td>NaN</td>\n",
       "      <td>NaN</td>\n",
       "      <td>NaN</td>\n",
       "      <td>NaN</td>\n",
       "      <td>NaN</td>\n",
       "      <td>NaN</td>\n",
       "      <td>NaT</td>\n",
       "      <td>rokutime.com</td>\n",
       "    </tr>\n",
       "    <tr>\n",
       "      <th>42140</th>\n",
       "      <td>1559055052.643821</td>\n",
       "      <td>CKI4IK1MrVtRZ4KqG7</td>\n",
       "      <td>10.42.0.120</td>\n",
       "      <td>54291.0</td>\n",
       "      <td>162.241.224.14</td>\n",
       "      <td>443.0</td>\n",
       "      <td>TLSv12</td>\n",
       "      <td>TLS_ECDHE_RSA_WITH_AES_128_GCM_SHA256</td>\n",
       "      <td>secp256r1</td>\n",
       "      <td>www.roku-photoview.com</td>\n",
       "      <td>F</td>\n",
       "      <td>unknown_ca</td>\n",
       "      <td>http/1.1</td>\n",
       "      <td>F</td>\n",
       "      <td>CsxknL</td>\n",
       "      <td>(empty)</td>\n",
       "      <td>(empty)</td>\n",
       "      <td>-</td>\n",
       "      <td>-</td>\n",
       "      <td>roku-data-20190524-202541</td>\n",
       "      <td>133629-1559055019</td>\n",
       "      <td>(empty)</td>\n",
       "      <td>roku</td>\n",
       "      <td>NaN</td>\n",
       "      <td>NaN</td>\n",
       "      <td>NaN</td>\n",
       "      <td>NaN</td>\n",
       "      <td>NaN</td>\n",
       "      <td>NaN</td>\n",
       "      <td>NaN</td>\n",
       "      <td>NaN</td>\n",
       "      <td>NaN</td>\n",
       "      <td>NaN</td>\n",
       "      <td>NaN</td>\n",
       "      <td>NaN</td>\n",
       "      <td>NaN</td>\n",
       "      <td>NaN</td>\n",
       "      <td>NaN</td>\n",
       "      <td>NaN</td>\n",
       "      <td>NaN</td>\n",
       "      <td>NaN</td>\n",
       "      <td>NaN</td>\n",
       "      <td>NaN</td>\n",
       "      <td>NaN</td>\n",
       "      <td>NaN</td>\n",
       "      <td>NaN</td>\n",
       "      <td>NaN</td>\n",
       "      <td>NaN</td>\n",
       "      <td>NaN</td>\n",
       "      <td>NaN</td>\n",
       "      <td>NaN</td>\n",
       "      <td>NaN</td>\n",
       "      <td>NaT</td>\n",
       "      <td>roku-photoview.com</td>\n",
       "    </tr>\n",
       "    <tr>\n",
       "      <th>42141</th>\n",
       "      <td>1559055064.805838</td>\n",
       "      <td>CGikY64J3zMUtRQp5</td>\n",
       "      <td>10.42.0.120</td>\n",
       "      <td>54294.0</td>\n",
       "      <td>162.241.224.14</td>\n",
       "      <td>443.0</td>\n",
       "      <td>TLSv12</td>\n",
       "      <td>TLS_ECDHE_RSA_WITH_AES_256_GCM_SHA384</td>\n",
       "      <td>secp256r1</td>\n",
       "      <td>www.roku-photoview.com</td>\n",
       "      <td>F</td>\n",
       "      <td>-</td>\n",
       "      <td>http/1.1</td>\n",
       "      <td>T</td>\n",
       "      <td>CsxknGIi</td>\n",
       "      <td>7cd5cce48e89b01cce83509456eef2763fa80c2af488454f9afc8295009abd79,25847d668eb4f04fdd40b12b6b0740c567da7d024308eb6c2c96fe41d9de218d</td>\n",
       "      <td>(empty)</td>\n",
       "      <td>T</td>\n",
       "      <td>ok</td>\n",
       "      <td>roku-data-20190524-202541</td>\n",
       "      <td>133629-1559055019</td>\n",
       "      <td>7cd5cce48e89b01cce83509456eef2763fa80c2af488454f9afc8295009abd79</td>\n",
       "      <td>roku</td>\n",
       "      <td>1559055064.878429</td>\n",
       "      <td>3.0</td>\n",
       "      <td>04F48DF143F927BF6294C575B4CADBA22747</td>\n",
       "      <td>CN=roku-photoview.com</td>\n",
       "      <td>CN=Let's Encrypt Authority X3,O=Let's Encrypt,C=US</td>\n",
       "      <td>1.558749e+09</td>\n",
       "      <td>1.566525e+09</td>\n",
       "      <td>rsaEncryption</td>\n",
       "      <td>sha256WithRSAEncryption</td>\n",
       "      <td>rsa</td>\n",
       "      <td>2048.0</td>\n",
       "      <td>65537.0</td>\n",
       "      <td>-</td>\n",
       "      <td>autodiscover.roku-photoview.com,cpanel.roku-photoview.com,mail.roku-photoview.com,roku-photoview.com,webdisk.roku-photoview.com,webmail.roku-photoview.com,www.roku-photoview.com</td>\n",
       "      <td>-</td>\n",
       "      <td>-</td>\n",
       "      <td>-</td>\n",
       "      <td>F</td>\n",
       "      <td>-</td>\n",
       "      <td>T</td>\n",
       "      <td>F</td>\n",
       "      <td>roku-data-20190524-202541</td>\n",
       "      <td>133629-1559055019</td>\n",
       "      <td>Let's Encrypt</td>\n",
       "      <td>Let's Encrypt Authority X3</td>\n",
       "      <td>roku-photoview.com</td>\n",
       "      <td>05/24/2019, 21:47:48</td>\n",
       "      <td>08/22/2019, 21:47:48</td>\n",
       "      <td>90.0</td>\n",
       "      <td>2019-05-28 10:51:04.878429</td>\n",
       "      <td>roku-photoview.com</td>\n",
       "    </tr>\n",
       "  </tbody>\n",
       "</table>\n",
       "</div>"
      ],
      "text/plain": [
       "                    ts_x                 uid    id.orig_h  id.orig_p  \\\n",
       "1685   1563327043.351951   CclahU26NTou6pc3b  10.42.0.119    41126.0   \n",
       "1686   1563327043.367308  CpAMr82LQxxViCTcml  10.42.0.119    41127.0   \n",
       "8382   1552589994.342402   C23bpfS67siBKrORh  10.42.0.119    38927.0   \n",
       "13507  1557383964.657148   CsC7l68amrIjiwOTb  10.42.0.119    41844.0   \n",
       "13508  1557384074.234420  CAMftC3LdgqIbjXwbb  10.42.0.119    41858.0   \n",
       "41038  1559058482.190850  CZrnOD1zybyOwTIZQ6  10.42.0.120    58981.0   \n",
       "42140  1559055052.643821  CKI4IK1MrVtRZ4KqG7  10.42.0.120    54291.0   \n",
       "42141  1559055064.805838   CGikY64J3zMUtRQp5  10.42.0.120    54294.0   \n",
       "\n",
       "            id.resp_h  id.resp_p version  \\\n",
       "1685    34.197.164.98      443.0  TLSv12   \n",
       "1686    34.197.164.98      443.0       -   \n",
       "8382    34.197.164.98      443.0  TLSv12   \n",
       "13507  162.241.224.14      443.0  TLSv12   \n",
       "13508  162.241.224.14      443.0  TLSv12   \n",
       "41038  54.172.170.195      443.0  TLSv12   \n",
       "42140  162.241.224.14      443.0  TLSv12   \n",
       "42141  162.241.224.14      443.0  TLSv12   \n",
       "\n",
       "                                      cipher      curve  \\\n",
       "1685   TLS_ECDHE_RSA_WITH_AES_128_GCM_SHA256  secp256r1   \n",
       "1686                                       -          -   \n",
       "8382   TLS_ECDHE_RSA_WITH_AES_128_GCM_SHA256  secp256r1   \n",
       "13507  TLS_ECDHE_RSA_WITH_AES_256_GCM_SHA384  secp256r1   \n",
       "13508  TLS_ECDHE_RSA_WITH_AES_256_GCM_SHA384          -   \n",
       "41038  TLS_ECDHE_RSA_WITH_AES_128_GCM_SHA256  secp256r1   \n",
       "42140  TLS_ECDHE_RSA_WITH_AES_128_GCM_SHA256  secp256r1   \n",
       "42141  TLS_ECDHE_RSA_WITH_AES_256_GCM_SHA384  secp256r1   \n",
       "\n",
       "                  server_name resumed         last_alert next_protocol  \\\n",
       "1685         api.rokutime.com       F         unknown_ca             -   \n",
       "1686         api.rokutime.com       F  handshake_failure             -   \n",
       "8382         api.rokutime.com       F                  -             -   \n",
       "13507  www.roku-photoview.com       F                  -      http/1.1   \n",
       "13508  www.roku-photoview.com       T                  -      http/1.1   \n",
       "41038        api.rokutime.com       F         unknown_ca             -   \n",
       "42140  www.roku-photoview.com       F         unknown_ca      http/1.1   \n",
       "42141  www.roku-photoview.com       F                  -      http/1.1   \n",
       "\n",
       "      established ssl_history  \\\n",
       "1685            F      CsxknL   \n",
       "1686            F          Cl   \n",
       "8382            T    CsxknGIi   \n",
       "13507           T    CsxknGIi   \n",
       "13508           T        CsiI   \n",
       "41038           F      CsxknL   \n",
       "42140           F      CsxknL   \n",
       "42141           T    CsxknGIi   \n",
       "\n",
       "                                                                                                                          cert_chain_fps  \\\n",
       "1685   34ae4ff5721ef09116308e2064579079d94a75160052efc7cde8b4d8da5630d6,25847d668eb4f04fdd40b12b6b0740c567da7d024308eb6c2c96fe41d9de218d   \n",
       "1686                                                                                                                                   -   \n",
       "8382   8b5a7181cb5a51e5326016f3528119211da9c865c6a133dc74086a25133820f2,130d0d65193ffcaa524951b5220e5187f8cb310efff71cf383ed4687050702e3   \n",
       "13507  a1c723cc195852e55442f377e7189dbb81bd11972b6b2aa52aed5fa0c0f910d6,25847d668eb4f04fdd40b12b6b0740c567da7d024308eb6c2c96fe41d9de218d   \n",
       "13508                                                                                                                                  -   \n",
       "41038                                                                                                                            (empty)   \n",
       "42140                                                                                                                            (empty)   \n",
       "42141  7cd5cce48e89b01cce83509456eef2763fa80c2af488454f9afc8295009abd79,25847d668eb4f04fdd40b12b6b0740c567da7d024308eb6c2c96fe41d9de218d   \n",
       "\n",
       "      client_cert_chain_fps sni_matches_cert  \\\n",
       "1685                (empty)                F   \n",
       "1686                      -                -   \n",
       "8382                (empty)                T   \n",
       "13507               (empty)                T   \n",
       "13508                     -                -   \n",
       "41038               (empty)                -   \n",
       "42140               (empty)                -   \n",
       "42141               (empty)                T   \n",
       "\n",
       "                                  validation_status  \\\n",
       "1685                                             ok   \n",
       "1686                                              -   \n",
       "8382   self signed certificate in certificate chain   \n",
       "13507                                            ok   \n",
       "13508                                             -   \n",
       "41038                                             -   \n",
       "42140                                             -   \n",
       "42141                                            ok   \n",
       "\n",
       "                   folder_name_x     capture_name_x  \\\n",
       "1685   roku-data-20190716-121233   48631-1563326967   \n",
       "1686   roku-data-20190716-121233   48631-1563326967   \n",
       "8382   roku-data-20190314-161246   32614-1552589788   \n",
       "13507  roku-data-20190508-013650  133629-1557383933   \n",
       "13508  roku-data-20190508-013650  133629-1557383933   \n",
       "41038  roku-data-20190524-202541  280013-1559058028   \n",
       "42140  roku-data-20190524-202541  133629-1559055019   \n",
       "42141  roku-data-20190524-202541  133629-1559055019   \n",
       "\n",
       "                                                            fingerprint  \\\n",
       "1685   34ae4ff5721ef09116308e2064579079d94a75160052efc7cde8b4d8da5630d6   \n",
       "1686                                                                  -   \n",
       "8382   8b5a7181cb5a51e5326016f3528119211da9c865c6a133dc74086a25133820f2   \n",
       "13507  a1c723cc195852e55442f377e7189dbb81bd11972b6b2aa52aed5fa0c0f910d6   \n",
       "13508                                                                 -   \n",
       "41038                                                           (empty)   \n",
       "42140                                                           (empty)   \n",
       "42141  7cd5cce48e89b01cce83509456eef2763fa80c2af488454f9afc8295009abd79   \n",
       "\n",
       "      vendor               ts_y  certificate.version  \\\n",
       "1685    roku  1563308100.038230                  3.0   \n",
       "1686    roku                NaN                  NaN   \n",
       "8382    roku  1552589994.361401                  3.0   \n",
       "13507   roku  1557383964.690789                  3.0   \n",
       "13508   roku                NaN                  NaN   \n",
       "41038   roku                NaN                  NaN   \n",
       "42140   roku                NaN                  NaN   \n",
       "42141   roku  1559055064.878429                  3.0   \n",
       "\n",
       "                         certificate.serial  \\\n",
       "1685   0392B46869F744E54501EBDDBC9DDC03881D   \n",
       "1686                                    NaN   \n",
       "8382                                   200C   \n",
       "13507  04EF7490723CB127EC70DDDD9D89A6E4ADD6   \n",
       "13508                                   NaN   \n",
       "41038                                   NaN   \n",
       "42140                                   NaN   \n",
       "42141  04F48DF143F927BF6294C575B4CADBA22747   \n",
       "\n",
       "                                                                       certificate.subject  \\\n",
       "1685                                                                       CN=3016sale.xyz   \n",
       "1686                                                                                   NaN   \n",
       "8382   CN=api.rokutime.com,OU=PlayerServices,O=Roku\\\\, Inc.,L=Los Gatos,ST=California,C=US   \n",
       "13507                                                                CN=roku-photoview.com   \n",
       "13508                                                                                  NaN   \n",
       "41038                                                                                  NaN   \n",
       "42140                                                                                  NaN   \n",
       "42141                                                                CN=roku-photoview.com   \n",
       "\n",
       "                                                                        certificate.issuer  \\\n",
       "1685                                    CN=Let's Encrypt Authority X3,O=Let's Encrypt,C=US   \n",
       "1686                                                                                   NaN   \n",
       "8382   OU=Roku Server Certification Authority,O=Roku\\\\, Inc.,L=Saratoga,ST=California,C=US   \n",
       "13507                                   CN=Let's Encrypt Authority X3,O=Let's Encrypt,C=US   \n",
       "13508                                                                                  NaN   \n",
       "41038                                                                                  NaN   \n",
       "42140                                                                                  NaN   \n",
       "42141                                   CN=Let's Encrypt Authority X3,O=Let's Encrypt,C=US   \n",
       "\n",
       "       certificate.not_valid_before  certificate.not_valid_after  \\\n",
       "1685                   1.562895e+09                 1.570671e+09   \n",
       "1686                            NaN                          NaN   \n",
       "8382                   1.220285e+09                 1.583804e+09   \n",
       "13507                  1.553418e+09                 1.561194e+09   \n",
       "13508                           NaN                          NaN   \n",
       "41038                           NaN                          NaN   \n",
       "42140                           NaN                          NaN   \n",
       "42141                  1.558749e+09                 1.566525e+09   \n",
       "\n",
       "      certificate.key_alg      certificate.sig_alg certificate.key_type  \\\n",
       "1685        rsaEncryption  sha256WithRSAEncryption                  rsa   \n",
       "1686                  NaN                      NaN                  NaN   \n",
       "8382        rsaEncryption  sha256WithRSAEncryption                  rsa   \n",
       "13507       rsaEncryption  sha256WithRSAEncryption                  rsa   \n",
       "13508                 NaN                      NaN                  NaN   \n",
       "41038                 NaN                      NaN                  NaN   \n",
       "42140                 NaN                      NaN                  NaN   \n",
       "42141       rsaEncryption  sha256WithRSAEncryption                  rsa   \n",
       "\n",
       "       certificate.key_length certificate.exponent certificate.curve  \\\n",
       "1685                   2048.0                65537                 -   \n",
       "1686                      NaN                  NaN               NaN   \n",
       "8382                   2048.0                65537                 -   \n",
       "13507                  2048.0                65537                 -   \n",
       "13508                     NaN                  NaN               NaN   \n",
       "41038                     NaN                  NaN               NaN   \n",
       "42140                     NaN                  NaN               NaN   \n",
       "42141                  2048.0              65537.0                 -   \n",
       "\n",
       "                                                                                                                                                                                 san.dns  \\\n",
       "1685                                                                                                                                                                        3016sale.xyz   \n",
       "1686                                                                                                                                                                                 NaN   \n",
       "8382                                                                                                                                                   api.rokutime.com,ntp.rokutime.com   \n",
       "13507  autodiscover.roku-photoview.com,cpanel.roku-photoview.com,mail.roku-photoview.com,roku-photoview.com,webdisk.roku-photoview.com,webmail.roku-photoview.com,www.roku-photoview.com   \n",
       "13508                                                                                                                                                                                NaN   \n",
       "41038                                                                                                                                                                                NaN   \n",
       "42140                                                                                                                                                                                NaN   \n",
       "42141  autodiscover.roku-photoview.com,cpanel.roku-photoview.com,mail.roku-photoview.com,roku-photoview.com,webdisk.roku-photoview.com,webmail.roku-photoview.com,www.roku-photoview.com   \n",
       "\n",
       "      san.uri san.email san.ip basic_constraints.ca  \\\n",
       "1685        -         -      -                    F   \n",
       "1686      NaN       NaN    NaN                  NaN   \n",
       "8382        -         -      -                    F   \n",
       "13507       -         -      -                    F   \n",
       "13508     NaN       NaN    NaN                  NaN   \n",
       "41038     NaN       NaN    NaN                  NaN   \n",
       "42140     NaN       NaN    NaN                  NaN   \n",
       "42141       -         -      -                    F   \n",
       "\n",
       "      basic_constraints.path_len host_cert client_cert  \\\n",
       "1685                           -         T           F   \n",
       "1686                         NaN       NaN         NaN   \n",
       "8382                           -         T           F   \n",
       "13507                          -         T           F   \n",
       "13508                        NaN       NaN         NaN   \n",
       "41038                        NaN       NaN         NaN   \n",
       "42140                        NaN       NaN         NaN   \n",
       "42141                          -         T           F   \n",
       "\n",
       "                   folder_name_y     capture_name_y       issuer_O  \\\n",
       "1685   roku-data-20190716-121233  215768-1563308069  Let's Encrypt   \n",
       "1686                         NaN                NaN            NaN   \n",
       "8382   roku-data-20190314-161246   32614-1552589788         Roku\\\\   \n",
       "13507  roku-data-20190508-013650  133629-1557383933  Let's Encrypt   \n",
       "13508                        NaN                NaN            NaN   \n",
       "41038                        NaN                NaN            NaN   \n",
       "42140                        NaN                NaN            NaN   \n",
       "42141  roku-data-20190524-202541  133629-1559055019  Let's Encrypt   \n",
       "\n",
       "                                    issuer_CN          subject_CN  \\\n",
       "1685               Let's Encrypt Authority X3        3016sale.xyz   \n",
       "1686                                      NaN                 NaN   \n",
       "8382   OU=Roku Server Certification Authority    api.rokutime.com   \n",
       "13507              Let's Encrypt Authority X3  roku-photoview.com   \n",
       "13508                                     NaN                 NaN   \n",
       "41038                                     NaN                 NaN   \n",
       "42140                                     NaN                 NaN   \n",
       "42141              Let's Encrypt Authority X3  roku-photoview.com   \n",
       "\n",
       "                 not_before             not_after  validity_days  \\\n",
       "1685   07/11/2019, 21:33:16  10/09/2019, 21:33:16           90.0   \n",
       "1686                    NaN                   NaN            NaN   \n",
       "8382   09/01/2008, 12:00:00  03/09/2020, 21:39:55         4207.0   \n",
       "13507  03/24/2019, 04:53:37  06/22/2019, 04:53:37           90.0   \n",
       "13508                   NaN                   NaN            NaN   \n",
       "41038                   NaN                   NaN            NaN   \n",
       "42140                   NaN                   NaN            NaN   \n",
       "42141  05/24/2019, 21:47:48  08/22/2019, 21:47:48           90.0   \n",
       "\n",
       "                            date              domain  \n",
       "1685  2019-07-16 16:15:00.038230        rokutime.com  \n",
       "1686                         NaT        rokutime.com  \n",
       "8382  2019-03-14 14:59:54.361401        rokutime.com  \n",
       "13507 2019-05-09 02:39:24.690789  roku-photoview.com  \n",
       "13508                        NaT  roku-photoview.com  \n",
       "41038                        NaT        rokutime.com  \n",
       "42140                        NaT  roku-photoview.com  \n",
       "42141 2019-05-28 10:51:04.878429  roku-photoview.com  "
      ]
     },
     "execution_count": 36,
     "metadata": {},
     "output_type": "execute_result"
    }
   ],
   "source": [
    "roku_filter"
   ]
  },
  {
   "cell_type": "code",
   "execution_count": 37,
   "id": "completed-quality",
   "metadata": {},
   "outputs": [],
   "source": [
    "amazon_vendor = amazon.loc[(amazon['domain'].str.startswith(\"amazon\")) | \\\n",
    "                          ((amazon['domain'].str.startswith(\"aws\")))]"
   ]
  },
  {
   "cell_type": "code",
   "execution_count": 38,
   "id": "latest-macintosh",
   "metadata": {},
   "outputs": [],
   "source": [
    "roku_vendor = roku.loc[roku['domain'].str.startswith(\"roku\")]"
   ]
  },
  {
   "cell_type": "code",
   "execution_count": 39,
   "id": "neural-aurora",
   "metadata": {},
   "outputs": [],
   "source": [
    "amazon_vendor = amazon_vendor.loc[amazon_vendor['certificate.issuer'].notna()]"
   ]
  },
  {
   "cell_type": "code",
   "execution_count": 40,
   "id": "lasting-cambridge",
   "metadata": {},
   "outputs": [],
   "source": [
    "roku_vendor = roku_vendor.loc[(roku_vendor['certificate.issuer'].notna()) &\\\n",
    "                              (roku_vendor['subject_CN'] != \"3016sale.xyz\")]"
   ]
  },
  {
   "cell_type": "code",
   "execution_count": 41,
   "id": "short-reply",
   "metadata": {},
   "outputs": [],
   "source": [
    "amazon_vendor['vendor'] = \"Amazon\""
   ]
  },
  {
   "cell_type": "code",
   "execution_count": 42,
   "id": "norwegian-drilling",
   "metadata": {},
   "outputs": [],
   "source": [
    "amazon_vendor['issuer_O'] = amazon_vendor['issuer_O'].apply(lambda x: x.split(\" Inc\")[0])"
   ]
  },
  {
   "cell_type": "code",
   "execution_count": 43,
   "id": "acute-daniel",
   "metadata": {},
   "outputs": [
    {
     "data": {
      "text/plain": [
       "Amazon      65\n",
       "DigiCert    61\n",
       "Name: issuer_O, dtype: int64"
      ]
     },
     "execution_count": 43,
     "metadata": {},
     "output_type": "execute_result"
    }
   ],
   "source": [
    "amazon_vendor['issuer_O'].value_counts()"
   ]
  },
  {
   "cell_type": "code",
   "execution_count": 44,
   "id": "false-nylon",
   "metadata": {},
   "outputs": [],
   "source": [
    "amazon_vendor_temp = amazon_vendor.loc[~amazon_vendor['server_name'].str.endswith(\"s3.amazonaws.com\")]\n",
    "amazon_vendor_temp = amazon_vendor_temp.loc[~amazon_vendor_temp['server_name'].str.endswith(\"amazonaws.com\")]\n",
    "amazon_vendor2 = amazon_vendor_temp.loc[~amazon_vendor_temp['server_name'].str.endswith(\"amazonvideo.com\")]"
   ]
  },
  {
   "cell_type": "code",
   "execution_count": 105,
   "id": "sharp-illustration",
   "metadata": {},
   "outputs": [
    {
     "data": {
      "text/plain": [
       "www.amazon.com                                4\n",
       "atv-ext.amazon.com                            3\n",
       "mas-sdk.amazon.com                            3\n",
       "arcus-uswest.amazon.com                       3\n",
       "na.account.amazon.com                         2\n",
       "mas-ext.amazon.com                            2\n",
       "dp-rsm-prod.amazon.com                        2\n",
       "device-metrics-us.amazon.com                  2\n",
       "fls-na.amazon.com                             2\n",
       "api.amazonalexa.com                           2\n",
       "ktpx.amazon.com                               2\n",
       "wl.amazon-dss.com                             2\n",
       "api.amazon.com                                2\n",
       "music.amazon.com                              2\n",
       "prime.amazon.com                              2\n",
       "aviary.amazon.com                             2\n",
       "aca-livecards-service.amazon.com              1\n",
       "ags-ext.amazon.com                            1\n",
       "aax-us.amazon-adsystem.com                    1\n",
       "unagi-na.amazon.com                           1\n",
       "aax.amazon-adsystem.com                       1\n",
       "appstore-tv-prod-na.amazon.com                1\n",
       "todo-ta-g7g.amazon.com                        1\n",
       "devicemessaging.us-east-1.amazon.com          1\n",
       "firs-ta-g7g.amazon.com                        1\n",
       "digprjsurvey.amazon.com                       1\n",
       "msh.amazon.com                                1\n",
       "resources.amazonwebapps.com                   1\n",
       "softwareupdates.amazon.com                    1\n",
       "amazonchannelstudio-cdn.com                   1\n",
       "mads.amazon-adsystem.com                      1\n",
       "s.amazon-adsystem.com                         1\n",
       "cortana-gateway.amazon.com                    1\n",
       "ftvr-na.amazon.com                            1\n",
       "mads.amazon.com                               1\n",
       "device-messaging-na.amazon.com                1\n",
       "dcape-na.amazon.com                           1\n",
       "global.safebrowsing.service.amazonsilk.com    1\n",
       "aax-us-east.amazon-adsystem.com               1\n",
       "avs.na.amazonalexa.com                        1\n",
       "det-ta-g7g.amazon.com                         1\n",
       "Name: server_name, dtype: int64"
      ]
     },
     "execution_count": 105,
     "metadata": {},
     "output_type": "execute_result"
    }
   ],
   "source": [
    "amazon_vendor2['server_name'].value_counts()"
   ]
  },
  {
   "cell_type": "markdown",
   "id": "distant-revolution",
   "metadata": {},
   "source": [
    "### Note: manual checked against crt.sh"
   ]
  },
  {
   "cell_type": "code",
   "execution_count": 45,
   "id": "promising-florida",
   "metadata": {},
   "outputs": [
    {
     "name": "stderr",
     "output_type": "stream",
     "text": [
      "<ipython-input-45-f4fa36be3efa>:1: SettingWithCopyWarning: \n",
      "A value is trying to be set on a copy of a slice from a DataFrame.\n",
      "Try using .loc[row_indexer,col_indexer] = value instead\n",
      "\n",
      "See the caveats in the documentation: https://pandas.pydata.org/pandas-docs/stable/user_guide/indexing.html#returning-a-view-versus-a-copy\n",
      "  amazon_vendor2['In CT'] = True\n"
     ]
    }
   ],
   "source": [
    "amazon_vendor2['In CT'] = True"
   ]
  },
  {
   "cell_type": "code",
   "execution_count": 46,
   "id": "inside-blame",
   "metadata": {},
   "outputs": [],
   "source": [
    "roku_vendor['vendor'] = \"Roku\""
   ]
  },
  {
   "cell_type": "code",
   "execution_count": 47,
   "id": "quiet-newfoundland",
   "metadata": {},
   "outputs": [],
   "source": [
    "roku_vendor['issuer_O'] = roku_vendor['issuer_O'].apply(lambda x: x.split(\" Inc\")[0])\n",
    "roku_vendor.loc[roku_vendor.issuer_O == \"Roku\\\\\\\\\", \"issuer_O\"] = \"Roku\""
   ]
  },
  {
   "cell_type": "code",
   "execution_count": 48,
   "id": "national-commons",
   "metadata": {},
   "outputs": [
    {
     "data": {
      "text/plain": [
       "Amazon           27\n",
       "Roku             19\n",
       "DigiCert          4\n",
       "Let's Encrypt     2\n",
       "Name: issuer_O, dtype: int64"
      ]
     },
     "execution_count": 48,
     "metadata": {},
     "output_type": "execute_result"
    }
   ],
   "source": [
    "roku_vendor['issuer_O'].value_counts()"
   ]
  },
  {
   "cell_type": "code",
   "execution_count": 49,
   "id": "pressed-dallas",
   "metadata": {},
   "outputs": [],
   "source": [
    "roku_vendor['In CT'] = True\n",
    "roku_vendor.loc[roku_vendor.issuer_O == \"Roku\", \"In CT\"] = False"
   ]
  },
  {
   "cell_type": "markdown",
   "id": "durable-smoke",
   "metadata": {},
   "source": [
    "### Plot by groups"
   ]
  },
  {
   "cell_type": "code",
   "execution_count": 50,
   "id": "declared-provider",
   "metadata": {},
   "outputs": [],
   "source": [
    "tv_fig = amazon_vendor2[['server_name', 'vendor', 'issuer_O', 'In CT', 'validity_days']]\n",
    "roku_fig = roku_vendor[['server_name', 'vendor', 'issuer_O', 'In CT', 'validity_days']]"
   ]
  },
  {
   "cell_type": "code",
   "execution_count": 51,
   "id": "surrounded-scholar",
   "metadata": {},
   "outputs": [],
   "source": [
    "tv_fig = tv_fig.append(roku_fig, ignore_index=True)"
   ]
  },
  {
   "cell_type": "code",
   "execution_count": 52,
   "id": "thrown-jones",
   "metadata": {},
   "outputs": [],
   "source": [
    "tv_fig['cert_day_log10'] = tv_fig['validity_days'].apply(lambda x: np.log10(x))"
   ]
  },
  {
   "cell_type": "code",
   "execution_count": 53,
   "id": "renewable-bookmark",
   "metadata": {},
   "outputs": [],
   "source": [
    "def jitter(x):\n",
    "    return x + random.uniform(0, .65) - .3"
   ]
  },
  {
   "cell_type": "code",
   "execution_count": 54,
   "id": "widespread-exhaust",
   "metadata": {},
   "outputs": [],
   "source": [
    "vendor_ids = {'Amazon': 1, 'Roku': 2}\n",
    "\n",
    "tv_fig['vendor_id'] = tv_fig['vendor'].apply(lambda x: vendor_ids[x])\n",
    "tv_fig['jittered'] = tv_fig['vendor_id'].apply(lambda x: jitter(x))"
   ]
  },
  {
   "cell_type": "code",
   "execution_count": 55,
   "id": "missing-equality",
   "metadata": {},
   "outputs": [
    {
     "data": {
      "image/png": "[encoded data removed]",
      "text/plain": [
       "<Figure size 720x417.6 with 1 Axes>"
      ]
     },
     "metadata": {
      "needs_background": "light"
     },
     "output_type": "display_data"
    }
   ],
   "source": [
    "fig = plt.figure(figsize=(10,5.8))\n",
    "#sns.despine(bottom=True, left=True)\n",
    "\n",
    "# order: Amazon, DigiCert, Roku, Let's Encrypt\n",
    "issuer_palette = [\"#deebf7\", \"#4292c6\", \"#FE7102\", \"#FBC28D\"]\n",
    "markers = {True: \"o\", False: \"D\"}\n",
    "\n",
    "ax = sns.scatterplot(x=\"jittered\", y=\"cert_day_log10\", style=\"In CT\", hue=\"issuer_O\", s=70, \\\n",
    "                     palette=issuer_palette, markers=markers, \\\n",
    "                     data=tv_fig, alpha=0.8, linewidth=.6, edgecolor='black', x_jitter=True)\n",
    "\n",
    "ax.set_xlabel('')\n",
    "ax.set_ylabel(\"$log_{10}$ (Leaf certificate validity in days)\", fontsize=20, labelpad=10)\n",
    "plt.yticks(fontsize=20)\n",
    "\n",
    "handles, labels = ax.get_legend_handles_labels()\n",
    "legend = ax.legend(handles=[handles[0], handles[1], handles[2], handles[4], handles[3], handles[5], handles[7], handles[6]], \\\n",
    "                   labels=[\"Issuer\", labels[1], labels[2], labels[4], labels[3], labels[5], labels[7], labels[6]], \\\n",
    "                   title=\"\", loc=\"upper left\", fancybox=True, framealpha=1, shadow=True, borderpad=.5, ncol=1,\\\n",
    "                   fontsize=16.5, bbox_to_anchor=[0.05, 1.03])\n",
    "legend.get_frame().set_alpha(None)\n",
    "for handle in legend.legendHandles:\n",
    "    handle.set_sizes([70.0])\n",
    "    handle.set_alpha(0.8)\n",
    "    handle.set_edgecolor('black')\n",
    "    handle.set_linewidth(0.6)\n",
    "\n",
    "plt.xticks([1,2], fontsize=18)\n",
    "ax.set_xticklabels(['Amazon', 'Roku'], fontsize=24)\n",
    "\n",
    "ax.spines['top'].set_visible(False)\n",
    "ax.spines['right'].set_visible(False)\n",
    "\n",
    "\n",
    "fig.tight_layout()\n",
    "plt.show()"
   ]
  },
  {
   "cell_type": "markdown",
   "id": "polish-protest",
   "metadata": {},
   "source": [
    "### Analysis on invalid chain"
   ]
  },
  {
   "cell_type": "code",
   "execution_count": 56,
   "id": "outside-scene",
   "metadata": {},
   "outputs": [
    {
     "data": {
      "text/plain": [
       "ok                                        2572\n",
       "-                                          984\n",
       "unable to get local issuer certificate       9\n",
       "self signed certificate                      3\n",
       "certificate has expired                      3\n",
       "Name: validation_status, dtype: int64"
      ]
     },
     "execution_count": 56,
     "metadata": {},
     "output_type": "execute_result"
    }
   ],
   "source": [
    "amazon['validation_status'].value_counts().nlargest(5)"
   ]
  },
  {
   "cell_type": "code",
   "execution_count": 57,
   "id": "usual-forward",
   "metadata": {},
   "outputs": [
    {
     "data": {
      "text/plain": [
       "Symantec Corporation    5\n",
       "COMODO CA Limited       2\n",
       "GoDaddy.com\\\\           1\n",
       "GeoTrust Inc.           1\n",
       "Name: issuer_O, dtype: int64"
      ]
     },
     "execution_count": 57,
     "metadata": {},
     "output_type": "execute_result"
    }
   ],
   "source": [
    "amazon.loc[amazon['validation_status'] == \"unable to get local issuer certificate\"]['issuer_O'].value_counts()"
   ]
  },
  {
   "cell_type": "code",
   "execution_count": 58,
   "id": "familiar-veteran",
   "metadata": {},
   "outputs": [
    {
     "data": {
      "text/plain": [
       "roku.com    2\n",
       "-.          1\n",
       "Name: domain, dtype: int64"
      ]
     },
     "execution_count": 58,
     "metadata": {},
     "output_type": "execute_result"
    }
   ],
   "source": [
    "amazon.loc[amazon['validation_status'] == \"self signed certificate in certificate chain\"]['domain'].value_counts()"
   ]
  },
  {
   "cell_type": "code",
   "execution_count": 59,
   "id": "emotional-utility",
   "metadata": {},
   "outputs": [
    {
     "data": {
      "text/plain": [
       "GoDaddy.com\\\\       1\n",
       "Amazon              1\n",
       "GlobalSign nv-sa    1\n",
       "Name: issuer_O, dtype: int64"
      ]
     },
     "execution_count": 59,
     "metadata": {},
     "output_type": "execute_result"
    }
   ],
   "source": [
    "amazon.loc[amazon['validation_status'] == \"certificate has expired\"]['issuer_O'].value_counts()"
   ]
  },
  {
   "cell_type": "code",
   "execution_count": 60,
   "id": "sensitive-correspondence",
   "metadata": {},
   "outputs": [
    {
     "data": {
      "text/plain": [
       "arcus-uswest.amazon.com    1\n",
       "www.clikia.com             1\n",
       "-                          1\n",
       "Name: server_name, dtype: int64"
      ]
     },
     "execution_count": 60,
     "metadata": {},
     "output_type": "execute_result"
    }
   ],
   "source": [
    "amazon.loc[amazon['validation_status'] == \"certificate has expired\"]['server_name'].value_counts()"
   ]
  },
  {
   "cell_type": "code",
   "execution_count": 61,
   "id": "final-drink",
   "metadata": {},
   "outputs": [
    {
     "data": {
      "text/plain": [
       "ok                                              3937\n",
       "-                                               1632\n",
       "unable to get local issuer certificate            29\n",
       "self signed certificate in certificate chain      14\n",
       "certificate has expired                            5\n",
       "Name: validation_status, dtype: int64"
      ]
     },
     "execution_count": 61,
     "metadata": {},
     "output_type": "execute_result"
    }
   ],
   "source": [
    "roku['validation_status'].value_counts().nlargest(5)"
   ]
  },
  {
   "cell_type": "code",
   "execution_count": 62,
   "id": "absolute-science",
   "metadata": {},
   "outputs": [
    {
     "data": {
      "text/plain": [
       "Netflix\\\\               7\n",
       "Roku\\\\                  6\n",
       "Symantec Corporation    5\n",
       "DigiCert Inc            3\n",
       "VUDU\\\\                  3\n",
       "COMODO CA Limited       3\n",
       "GoDaddy.com\\\\           1\n",
       "Let's Encrypt           1\n",
       "Name: issuer_O, dtype: int64"
      ]
     },
     "execution_count": 62,
     "metadata": {},
     "output_type": "execute_result"
    }
   ],
   "source": [
    "roku.loc[roku['validation_status'] == \"unable to get local issuer certificate\"]['issuer_O'].value_counts()"
   ]
  },
  {
   "cell_type": "code",
   "execution_count": 63,
   "id": "electoral-sewing",
   "metadata": {},
   "outputs": [
    {
     "data": {
      "text/plain": [
       "roku.com        12\n",
       "netflix.com      1\n",
       "rokutime.com     1\n",
       "Name: domain, dtype: int64"
      ]
     },
     "execution_count": 63,
     "metadata": {},
     "output_type": "execute_result"
    }
   ],
   "source": [
    "roku.loc[roku['validation_status'] == \"self signed certificate in certificate chain\"]['domain'].value_counts()"
   ]
  },
  {
   "cell_type": "code",
   "execution_count": 64,
   "id": "japanese-federal",
   "metadata": {},
   "outputs": [
    {
     "data": {
      "text/plain": [
       "GoDaddy.com\\\\        3\n",
       "DigiCert Inc         1\n",
       "COMODO CA Limited    1\n",
       "Name: issuer_O, dtype: int64"
      ]
     },
     "execution_count": 64,
     "metadata": {},
     "output_type": "execute_result"
    }
   ],
   "source": [
    "roku.loc[roku['validation_status'] == \"certificate has expired\"]['issuer_O'].value_counts()"
   ]
  }
 ],
 "metadata": {
  "kernelspec": {
   "display_name": "Python 3",
   "language": "python",
   "name": "python3"
  },
  "language_info": {
   "codemirror_mode": {
    "name": "ipython",
    "version": 3
   },
   "file_extension": ".py",
   "mimetype": "text/x-python",
   "name": "python",
   "nbconvert_exporter": "python",
   "pygments_lexer": "ipython3",
   "version": "3.8.5"
  }
 },
 "nbformat": 4,
 "nbformat_minor": 5
}
