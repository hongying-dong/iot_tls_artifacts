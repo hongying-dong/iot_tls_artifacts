{
 "cells": [
  {
   "cell_type": "markdown",
   "id": "occupied-softball",
   "metadata": {},
   "source": [
    "## Mapping to known libraries & TLS version, extension analysis"
   ]
  },
  {
   "cell_type": "markdown",
   "id": "inappropriate-certificate",
   "metadata": {},
   "source": [
    "### Import libraries"
   ]
  },
  {
   "cell_type": "code",
   "execution_count": 1,
   "id": "historic-jonathan",
   "metadata": {},
   "outputs": [],
   "source": [
    "import pandas as pd\n",
    "import numpy as np\n",
    "import os\n",
    "import json\n",
    "from tqdm import tqdm\n",
    "import sqlite3\n",
    "import time\n",
    "import hashlib\n",
    "import re\n",
    "import datetime\n",
    "import matplotlib.pyplot as plt\n",
    "import matplotlib\n",
    "import editdistance\n",
    "import functools\n",
    "from IPython.display import clear_output\n",
    "import seaborn as sns\n",
    "import random\n",
    "pd.set_option('display.max_colwidth', None)\n",
    "pd.set_option('display.max_columns', None)"
   ]
  },
  {
   "cell_type": "markdown",
   "id": "seventh-prerequisite",
   "metadata": {},
   "source": [
    "### Readin datasets; iot dataset is the one with distance to library calculated"
   ]
  },
  {
   "cell_type": "code",
   "execution_count": 2,
   "id": "retired-thompson",
   "metadata": {},
   "outputs": [],
   "source": [
    "lib = pd.read_csv(\"../library_fps/library_fps.csv\")"
   ]
  },
  {
   "cell_type": "code",
   "execution_count": 3,
   "id": "european-evidence",
   "metadata": {},
   "outputs": [],
   "source": [
    "iot = pd.read_csv(\"../datasets/2014dev_with_dist2lib.csv\")"
   ]
  },
  {
   "cell_type": "code",
   "execution_count": 4,
   "id": "advance-elimination",
   "metadata": {},
   "outputs": [],
   "source": [
    "iot['extension_types'] = iot['extension_types'].fillna(\"missing\")"
   ]
  },
  {
   "cell_type": "code",
   "execution_count": 5,
   "id": "young-serbia",
   "metadata": {},
   "outputs": [
    {
     "data": {
      "text/plain": [
       "3299    11+10+13+15+13172+16+21\n",
       "4236    11+10+13+15+13172+16+21\n",
       "1498             11+10+13+15+21\n",
       "1591             11+10+13+15+21\n",
       "5104    11+10+13+15+13172+16+21\n",
       "2684                      11+10\n",
       "4394       11+10+13+15+13172+21\n",
       "Name: extension_types, dtype: object"
      ]
     },
     "execution_count": 5,
     "metadata": {},
     "output_type": "execute_result"
    }
   ],
   "source": [
    "lib['extension_types'].sample(7)"
   ]
  },
  {
   "cell_type": "markdown",
   "id": "amended-minute",
   "metadata": {},
   "source": [
    "## 4.1 Matching with libraries"
   ]
  },
  {
   "cell_type": "markdown",
   "id": "editorial-candle",
   "metadata": {},
   "source": [
    "### Statistics: fps"
   ]
  },
  {
   "cell_type": "code",
   "execution_count": 6,
   "id": "endless-planner",
   "metadata": {},
   "outputs": [
    {
     "data": {
      "text/plain": [
       "(2014,)"
      ]
     },
     "execution_count": 6,
     "metadata": {},
     "output_type": "execute_result"
    }
   ],
   "source": [
    "iot['device_id'].value_counts().shape"
   ]
  },
  {
   "cell_type": "code",
   "execution_count": 7,
   "id": "appointed-speaking",
   "metadata": {},
   "outputs": [
    {
     "data": {
      "text/plain": [
       "(905, 20)"
      ]
     },
     "execution_count": 7,
     "metadata": {},
     "output_type": "execute_result"
    }
   ],
   "source": [
    "iot.drop_duplicates(['cipher_suites', 'extension_types', 'tls_version']).shape"
   ]
  },
  {
   "cell_type": "code",
   "execution_count": 8,
   "id": "sublime-indonesia",
   "metadata": {},
   "outputs": [
    {
     "data": {
      "text/plain": [
       "(5827, 20)"
      ]
     },
     "execution_count": 8,
     "metadata": {},
     "output_type": "execute_result"
    }
   ],
   "source": [
    "iot.drop_duplicates(['device_id', 'cipher_suites', 'extension_types', 'tls_version']).shape"
   ]
  },
  {
   "cell_type": "code",
   "execution_count": 9,
   "id": "endless-malawi",
   "metadata": {},
   "outputs": [],
   "source": [
    "tmp_mergelib = pd.merge(iot, lib, how='left', on=['cipher_suites', 'extension_types', 'tls_version'])"
   ]
  },
  {
   "cell_type": "code",
   "execution_count": 10,
   "id": "accessible-contrary",
   "metadata": {},
   "outputs": [
    {
     "data": {
      "text/plain": [
       "(22, 26)"
      ]
     },
     "execution_count": 10,
     "metadata": {},
     "output_type": "execute_result"
    }
   ],
   "source": [
    "tmp_mergelib.loc[tmp_mergelib['library_version'].notna()].drop_duplicates(['cipher_suites', 'extension_types', 'tls_version']).shape"
   ]
  },
  {
   "cell_type": "code",
   "execution_count": 11,
   "id": "continental-intake",
   "metadata": {},
   "outputs": [],
   "source": [
    "tmp_mergelib2 = pd.merge(iot, lib, how='inner', on=['cipher_suites', 'extension_types', 'tls_version'])"
   ]
  },
  {
   "cell_type": "code",
   "execution_count": 12,
   "id": "endless-despite",
   "metadata": {},
   "outputs": [
    {
     "data": {
      "text/plain": [
       "(22, 26)"
      ]
     },
     "execution_count": 12,
     "metadata": {},
     "output_type": "execute_result"
    }
   ],
   "source": [
    "tmp_mergelib2.drop_duplicates(['cipher_suites', 'extension_types', 'tls_version']).shape"
   ]
  },
  {
   "cell_type": "code",
   "execution_count": 13,
   "id": "expanded-depression",
   "metadata": {},
   "outputs": [
    {
     "data": {
      "text/html": [
       "<div>\n",
       "<style scoped>\n",
       "    .dataframe tbody tr th:only-of-type {\n",
       "        vertical-align: middle;\n",
       "    }\n",
       "\n",
       "    .dataframe tbody tr th {\n",
       "        vertical-align: top;\n",
       "    }\n",
       "\n",
       "    .dataframe thead th {\n",
       "        text-align: right;\n",
       "    }\n",
       "</style>\n",
       "<table border=\"1\" class=\"dataframe\">\n",
       "  <thead>\n",
       "    <tr style=\"text-align: right;\">\n",
       "      <th></th>\n",
       "      <th>device_vendor</th>\n",
       "      <th>count</th>\n",
       "    </tr>\n",
       "  </thead>\n",
       "  <tbody>\n",
       "    <tr>\n",
       "      <th>0</th>\n",
       "      <td>amazon</td>\n",
       "      <td>136</td>\n",
       "    </tr>\n",
       "    <tr>\n",
       "      <th>27</th>\n",
       "      <td>wyze</td>\n",
       "      <td>70</td>\n",
       "    </tr>\n",
       "    <tr>\n",
       "      <th>5</th>\n",
       "      <td>google</td>\n",
       "      <td>67</td>\n",
       "    </tr>\n",
       "    <tr>\n",
       "      <th>8</th>\n",
       "      <td>lg</td>\n",
       "      <td>27</td>\n",
       "    </tr>\n",
       "    <tr>\n",
       "      <th>17</th>\n",
       "      <td>samsung</td>\n",
       "      <td>25</td>\n",
       "    </tr>\n",
       "    <tr>\n",
       "      <th>20</th>\n",
       "      <td>synology</td>\n",
       "      <td>24</td>\n",
       "    </tr>\n",
       "    <tr>\n",
       "      <th>19</th>\n",
       "      <td>sony</td>\n",
       "      <td>18</td>\n",
       "    </tr>\n",
       "    <tr>\n",
       "      <th>12</th>\n",
       "      <td>nvidia</td>\n",
       "      <td>12</td>\n",
       "    </tr>\n",
       "    <tr>\n",
       "      <th>26</th>\n",
       "      <td>wink</td>\n",
       "      <td>10</td>\n",
       "    </tr>\n",
       "    <tr>\n",
       "      <th>4</th>\n",
       "      <td>canary</td>\n",
       "      <td>10</td>\n",
       "    </tr>\n",
       "    <tr>\n",
       "      <th>23</th>\n",
       "      <td>tplink</td>\n",
       "      <td>8</td>\n",
       "    </tr>\n",
       "    <tr>\n",
       "      <th>15</th>\n",
       "      <td>qnap</td>\n",
       "      <td>8</td>\n",
       "    </tr>\n",
       "    <tr>\n",
       "      <th>11</th>\n",
       "      <td>netgear</td>\n",
       "      <td>6</td>\n",
       "    </tr>\n",
       "    <tr>\n",
       "      <th>22</th>\n",
       "      <td>texas instruments</td>\n",
       "      <td>6</td>\n",
       "    </tr>\n",
       "    <tr>\n",
       "      <th>9</th>\n",
       "      <td>lutron</td>\n",
       "      <td>5</td>\n",
       "    </tr>\n",
       "    <tr>\n",
       "      <th>13</th>\n",
       "      <td>obihai</td>\n",
       "      <td>4</td>\n",
       "    </tr>\n",
       "    <tr>\n",
       "      <th>28</th>\n",
       "      <td>xiaomi</td>\n",
       "      <td>4</td>\n",
       "    </tr>\n",
       "    <tr>\n",
       "      <th>3</th>\n",
       "      <td>bose</td>\n",
       "      <td>4</td>\n",
       "    </tr>\n",
       "    <tr>\n",
       "      <th>24</th>\n",
       "      <td>vizio</td>\n",
       "      <td>4</td>\n",
       "    </tr>\n",
       "    <tr>\n",
       "      <th>2</th>\n",
       "      <td>arlo</td>\n",
       "      <td>3</td>\n",
       "    </tr>\n",
       "    <tr>\n",
       "      <th>25</th>\n",
       "      <td>western digital</td>\n",
       "      <td>3</td>\n",
       "    </tr>\n",
       "    <tr>\n",
       "      <th>21</th>\n",
       "      <td>tesla</td>\n",
       "      <td>3</td>\n",
       "    </tr>\n",
       "    <tr>\n",
       "      <th>7</th>\n",
       "      <td>irobot</td>\n",
       "      <td>3</td>\n",
       "    </tr>\n",
       "    <tr>\n",
       "      <th>10</th>\n",
       "      <td>nanoleaf</td>\n",
       "      <td>3</td>\n",
       "    </tr>\n",
       "    <tr>\n",
       "      <th>16</th>\n",
       "      <td>roku</td>\n",
       "      <td>2</td>\n",
       "    </tr>\n",
       "    <tr>\n",
       "      <th>6</th>\n",
       "      <td>hp</td>\n",
       "      <td>1</td>\n",
       "    </tr>\n",
       "    <tr>\n",
       "      <th>18</th>\n",
       "      <td>skybell</td>\n",
       "      <td>1</td>\n",
       "    </tr>\n",
       "    <tr>\n",
       "      <th>1</th>\n",
       "      <td>amcrest</td>\n",
       "      <td>1</td>\n",
       "    </tr>\n",
       "    <tr>\n",
       "      <th>14</th>\n",
       "      <td>philips</td>\n",
       "      <td>1</td>\n",
       "    </tr>\n",
       "    <tr>\n",
       "      <th>29</th>\n",
       "      <td>yamaha</td>\n",
       "      <td>1</td>\n",
       "    </tr>\n",
       "  </tbody>\n",
       "</table>\n",
       "</div>"
      ],
      "text/plain": [
       "        device_vendor  count\n",
       "0              amazon    136\n",
       "27               wyze     70\n",
       "5              google     67\n",
       "8                  lg     27\n",
       "17            samsung     25\n",
       "20           synology     24\n",
       "19               sony     18\n",
       "12             nvidia     12\n",
       "26               wink     10\n",
       "4              canary     10\n",
       "23             tplink      8\n",
       "15               qnap      8\n",
       "11            netgear      6\n",
       "22  texas instruments      6\n",
       "9              lutron      5\n",
       "13             obihai      4\n",
       "28             xiaomi      4\n",
       "3                bose      4\n",
       "24              vizio      4\n",
       "2                arlo      3\n",
       "25    western digital      3\n",
       "21              tesla      3\n",
       "7              irobot      3\n",
       "10           nanoleaf      3\n",
       "16               roku      2\n",
       "6                  hp      1\n",
       "18            skybell      1\n",
       "1             amcrest      1\n",
       "14            philips      1\n",
       "29             yamaha      1"
      ]
     },
     "execution_count": 13,
     "metadata": {},
     "output_type": "execute_result"
    }
   ],
   "source": [
    "tmp_mergelib2.groupby('device_vendor')['device_id'].agg(lambda x: x.nunique()).reset_index(name='count').sort_values(by='count', ascending=False)"
   ]
  },
  {
   "cell_type": "markdown",
   "id": "precise-weight",
   "metadata": {},
   "source": [
    "### Statistics: ciphersuites"
   ]
  },
  {
   "cell_type": "code",
   "execution_count": 14,
   "id": "based-script",
   "metadata": {},
   "outputs": [
    {
     "data": {
      "text/plain": [
       "(364, 20)"
      ]
     },
     "execution_count": 14,
     "metadata": {},
     "output_type": "execute_result"
    }
   ],
   "source": [
    "iot.drop_duplicates('cipher_suites').shape"
   ]
  },
  {
   "cell_type": "code",
   "execution_count": 15,
   "id": "alternate-excellence",
   "metadata": {},
   "outputs": [],
   "source": [
    "iot_cipher = pd.merge(iot, lib, how='inner', on=['cipher_suites'])"
   ]
  },
  {
   "cell_type": "code",
   "execution_count": 16,
   "id": "unlikely-authentication",
   "metadata": {},
   "outputs": [
    {
     "data": {
      "text/plain": [
       "(18, 28)"
      ]
     },
     "execution_count": 16,
     "metadata": {},
     "output_type": "execute_result"
    }
   ],
   "source": [
    "iot_cipher.drop_duplicates('cipher_suites').shape"
   ]
  },
  {
   "cell_type": "markdown",
   "id": "boolean-volleyball",
   "metadata": {},
   "source": [
    "### Statistics: extension"
   ]
  },
  {
   "cell_type": "code",
   "execution_count": 17,
   "id": "medium-review",
   "metadata": {},
   "outputs": [
    {
     "data": {
      "text/plain": [
       "(211, 20)"
      ]
     },
     "execution_count": 17,
     "metadata": {},
     "output_type": "execute_result"
    }
   ],
   "source": [
    "iot.drop_duplicates('extension_types').shape"
   ]
  },
  {
   "cell_type": "code",
   "execution_count": 18,
   "id": "iraqi-apparel",
   "metadata": {},
   "outputs": [
    {
     "data": {
      "text/plain": [
       "5051    23+65281+10+11+35+16+5+13+18+51+45+43+27+21\n",
       "3359                                    11+10+35+13\n",
       "4958                              65281+23+13+11+10\n",
       "1408                              11+10+35+13+13172\n",
       "4631    65281+23+13+5+13172+18+16+11+51+45+43+10+21\n",
       "3037                      23+65281+10+11+35+16+5+13\n",
       "2586    23+65281+10+11+35+16+5+13+18+51+45+43+27+41\n",
       "5769                                             35\n",
       "5018                     23+65281+10+11+16+13+13172\n",
       "2544                      23+65281+10+11+35+16+5+13\n",
       "Name: extension_types, dtype: object"
      ]
     },
     "execution_count": 18,
     "metadata": {},
     "output_type": "execute_result"
    }
   ],
   "source": [
    "iot['extension_types'].sample(10)"
   ]
  },
  {
   "cell_type": "code",
   "execution_count": 19,
   "id": "standing-grave",
   "metadata": {},
   "outputs": [],
   "source": [
    "def remove_ext(extensions):\n",
    "    return extensions.replace(\"+13172+16\", \"\").replace(\"+13172\", \"\").replace(\"13172+\", \"\").replace(\"+16\", \"\").replace(\"16+\", \"\").replace(\"+65281\", \"\").replace(\"65281+\", \"\")"
   ]
  },
  {
   "cell_type": "code",
   "execution_count": 20,
   "id": "homeless-video",
   "metadata": {},
   "outputs": [],
   "source": [
    "lib_ex = lib.copy()"
   ]
  },
  {
   "cell_type": "code",
   "execution_count": 21,
   "id": "digital-sitting",
   "metadata": {
    "tags": []
   },
   "outputs": [],
   "source": [
    "lib_ex['extension_types'] = lib_ex['extension_types'].apply(lambda x: remove_ext(x))"
   ]
  },
  {
   "cell_type": "code",
   "execution_count": 22,
   "id": "oriented-momentum",
   "metadata": {},
   "outputs": [],
   "source": [
    "iot_ex = iot.copy()\n",
    "iot_ex['extension_types'] = iot_ex['extension_types'].fillna(\"missing\").apply(lambda x: remove_ext(x))"
   ]
  },
  {
   "cell_type": "code",
   "execution_count": 23,
   "id": "common-boating",
   "metadata": {},
   "outputs": [
    {
     "data": {
      "text/plain": [
       "1405    23+10+11+35+5+13+18+51+45+43+27+41\n",
       "5583                        11+10+35+13+15\n",
       "5734                        11+10+13+15+21\n",
       "1240                        11+10+22+23+13\n",
       "2502                           11+10+35+13\n",
       "84                          11+10+13+15+21\n",
       "4916                           11+10+35+13\n",
       "Name: extension_types, dtype: object"
      ]
     },
     "execution_count": 23,
     "metadata": {},
     "output_type": "execute_result"
    }
   ],
   "source": [
    "iot_ex['extension_types'].sample(7)"
   ]
  },
  {
   "cell_type": "code",
   "execution_count": 24,
   "id": "religious-aluminum",
   "metadata": {},
   "outputs": [
    {
     "data": {
      "text/plain": [
       "1058                         11+10\n",
       "3813    11+10+22+23+13+43+45+51+21\n",
       "266              11+10+35+13+15+21\n",
       "3327    11+10+22+23+13+43+45+51+21\n",
       "439                          11+10\n",
       "6270                   13+11+10+23\n",
       "2902                11+10+13+15+21\n",
       "Name: extension_types, dtype: object"
      ]
     },
     "execution_count": 24,
     "metadata": {},
     "output_type": "execute_result"
    }
   ],
   "source": [
    "lib_ex['extension_types'].sample(7)"
   ]
  },
  {
   "cell_type": "code",
   "execution_count": 25,
   "id": "pressed-stylus",
   "metadata": {},
   "outputs": [
    {
     "data": {
      "text/plain": [
       "(151,)"
      ]
     },
     "execution_count": 25,
     "metadata": {},
     "output_type": "execute_result"
    }
   ],
   "source": [
    "iot_ex['extension_types'].value_counts().shape"
   ]
  },
  {
   "cell_type": "code",
   "execution_count": 26,
   "id": "annoying-syntax",
   "metadata": {},
   "outputs": [],
   "source": [
    "iot_mergelib = pd.merge(iot_ex, lib_ex, how='inner', on=['extension_types'])"
   ]
  },
  {
   "cell_type": "code",
   "execution_count": 27,
   "id": "prime-latex",
   "metadata": {},
   "outputs": [
    {
     "data": {
      "text/plain": [
       "(17,)"
      ]
     },
     "execution_count": 27,
     "metadata": {},
     "output_type": "execute_result"
    }
   ],
   "source": [
    "iot_mergelib['extension_types'].value_counts().shape"
   ]
  },
  {
   "cell_type": "markdown",
   "id": "harmful-separation",
   "metadata": {},
   "source": [
    "### Single proposed ciphersuite"
   ]
  },
  {
   "cell_type": "code",
   "execution_count": 28,
   "id": "controversial-elimination",
   "metadata": {},
   "outputs": [
    {
     "data": {
      "text/plain": [
       "(334,)"
      ]
     },
     "execution_count": 28,
     "metadata": {},
     "output_type": "execute_result"
    }
   ],
   "source": [
    "iot.loc[iot['cipher_suites'] == '47']['device_id'].value_counts().shape"
   ]
  },
  {
   "cell_type": "code",
   "execution_count": 29,
   "id": "dated-bottle",
   "metadata": {},
   "outputs": [
    {
     "data": {
      "text/html": [
       "<div>\n",
       "<style scoped>\n",
       "    .dataframe tbody tr th:only-of-type {\n",
       "        vertical-align: middle;\n",
       "    }\n",
       "\n",
       "    .dataframe tbody tr th {\n",
       "        vertical-align: top;\n",
       "    }\n",
       "\n",
       "    .dataframe thead th {\n",
       "        text-align: right;\n",
       "    }\n",
       "</style>\n",
       "<table border=\"1\" class=\"dataframe\">\n",
       "  <thead>\n",
       "    <tr style=\"text-align: right;\">\n",
       "      <th></th>\n",
       "      <th>extension_types</th>\n",
       "      <th>count</th>\n",
       "    </tr>\n",
       "  </thead>\n",
       "  <tbody>\n",
       "    <tr>\n",
       "      <th>1</th>\n",
       "      <td>missing</td>\n",
       "      <td>326</td>\n",
       "    </tr>\n",
       "    <tr>\n",
       "      <th>0</th>\n",
       "      <td>65281+13</td>\n",
       "      <td>8</td>\n",
       "    </tr>\n",
       "  </tbody>\n",
       "</table>\n",
       "</div>"
      ],
      "text/plain": [
       "  extension_types  count\n",
       "1         missing    326\n",
       "0        65281+13      8"
      ]
     },
     "execution_count": 29,
     "metadata": {},
     "output_type": "execute_result"
    }
   ],
   "source": [
    "iot.loc[iot['cipher_suites'] == '47'].groupby('extension_types')['device_id'].agg(lambda x: x.nunique()).reset_index(name='count').sort_values(by='count', ascending=False)"
   ]
  },
  {
   "cell_type": "code",
   "execution_count": 30,
   "id": "piano-relief",
   "metadata": {},
   "outputs": [
    {
     "data": {
      "text/plain": [
       "silicondust    7\n",
       "hdhomerun      1\n",
       "Name: device_vendor, dtype: int64"
      ]
     },
     "execution_count": 30,
     "metadata": {},
     "output_type": "execute_result"
    }
   ],
   "source": [
    "iot.loc[(iot['cipher_suites'] == '47') & \\\n",
    "        (iot['extension_types'] == '65281+13')]['device_vendor'].value_counts()"
   ]
  },
  {
   "cell_type": "markdown",
   "id": "controversial-thomas",
   "metadata": {},
   "source": [
    "## 4.3 TLS version and extensions"
   ]
  },
  {
   "cell_type": "markdown",
   "id": "decreased-reset",
   "metadata": {},
   "source": [
    "### TLS version"
   ]
  },
  {
   "cell_type": "code",
   "execution_count": 31,
   "id": "universal-multiple",
   "metadata": {},
   "outputs": [
    {
     "data": {
      "text/plain": [
       "(2014,)"
      ]
     },
     "execution_count": 31,
     "metadata": {},
     "output_type": "execute_result"
    }
   ],
   "source": [
    "iot['device_id'].value_counts().shape"
   ]
  },
  {
   "cell_type": "code",
   "execution_count": 32,
   "id": "wireless-therapy",
   "metadata": {},
   "outputs": [
    {
     "data": {
      "text/plain": [
       "771      5214\n",
       "769       236\n",
       "768        31\n",
       "770        18\n",
       "1645        2\n",
       "43308       2\n",
       "22469       2\n",
       "376         2\n",
       "58710       1\n",
       "56785       1\n",
       "13776       1\n",
       "15801       1\n",
       "9602        1\n",
       "13664       1\n",
       "40277       1\n",
       "15925       1\n",
       "9518        1\n",
       "11515       1\n",
       "29940       1\n",
       "21728       1\n",
       "Name: tls_version, dtype: int64"
      ]
     },
     "execution_count": 32,
     "metadata": {},
     "output_type": "execute_result"
    }
   ],
   "source": [
    "iot['tls_version'].value_counts().nlargest(20)"
   ]
  },
  {
   "cell_type": "code",
   "execution_count": 33,
   "id": "residential-insertion",
   "metadata": {},
   "outputs": [
    {
     "data": {
      "text/html": [
       "<div>\n",
       "<style scoped>\n",
       "    .dataframe tbody tr th:only-of-type {\n",
       "        vertical-align: middle;\n",
       "    }\n",
       "\n",
       "    .dataframe tbody tr th {\n",
       "        vertical-align: top;\n",
       "    }\n",
       "\n",
       "    .dataframe thead th {\n",
       "        text-align: right;\n",
       "    }\n",
       "</style>\n",
       "<table border=\"1\" class=\"dataframe\">\n",
       "  <thead>\n",
       "    <tr style=\"text-align: right;\">\n",
       "      <th></th>\n",
       "      <th>idx</th>\n",
       "      <th>likely_libver</th>\n",
       "      <th>lib_ciphersuites</th>\n",
       "      <th>device_id</th>\n",
       "      <th>cipher_suites</th>\n",
       "      <th>extension_types</th>\n",
       "      <th>tls_version</th>\n",
       "      <th>device_vendor</th>\n",
       "      <th>device_name</th>\n",
       "      <th>cipher_code</th>\n",
       "      <th>ciphersuite_len</th>\n",
       "      <th>cipher_code_idxl</th>\n",
       "      <th>cipher_code_hex</th>\n",
       "      <th>updated_hexcodelis</th>\n",
       "      <th>updated_codelis</th>\n",
       "      <th>likely</th>\n",
       "      <th>likely_idx</th>\n",
       "      <th>likely_score</th>\n",
       "      <th>cumulative_agreement</th>\n",
       "      <th>distance_2lib_sim</th>\n",
       "    </tr>\n",
       "  </thead>\n",
       "  <tbody>\n",
       "  </tbody>\n",
       "</table>\n",
       "</div>"
      ],
      "text/plain": [
       "Empty DataFrame\n",
       "Columns: [idx, likely_libver, lib_ciphersuites, device_id, cipher_suites, extension_types, tls_version, device_vendor, device_name, cipher_code, ciphersuite_len, cipher_code_idxl, cipher_code_hex, updated_hexcodelis, updated_codelis, likely, likely_idx, likely_score, cumulative_agreement, distance_2lib_sim]\n",
       "Index: []"
      ]
     },
     "execution_count": 33,
     "metadata": {},
     "output_type": "execute_result"
    }
   ],
   "source": [
    "iot.loc[iot['tls_version'] == 772]"
   ]
  },
  {
   "cell_type": "code",
   "execution_count": 34,
   "id": "deadly-plate",
   "metadata": {},
   "outputs": [],
   "source": [
    "iot_sub = iot.loc[(iot['tls_version'] == 771) | \\\n",
    "                  (iot['tls_version'] == 769) | \\\n",
    "                  (iot['tls_version'] == 768) | \\\n",
    "                  (iot['tls_version'] == 770)]"
   ]
  },
  {
   "cell_type": "code",
   "execution_count": 35,
   "id": "crazy-humor",
   "metadata": {},
   "outputs": [],
   "source": [
    "iot_subgb = iot_sub.groupby(['device_id'])['tls_version'].agg(lambda x: x.nunique()).reset_index(name='num_dist_tlsver')"
   ]
  },
  {
   "cell_type": "code",
   "execution_count": 36,
   "id": "suspected-dryer",
   "metadata": {},
   "outputs": [
    {
     "data": {
      "text/plain": [
       "(194, 2)"
      ]
     },
     "execution_count": 36,
     "metadata": {},
     "output_type": "execute_result"
    }
   ],
   "source": [
    "iot_subgb.loc[iot_subgb['num_dist_tlsver'] > 1].drop_duplicates('device_id').shape"
   ]
  },
  {
   "cell_type": "code",
   "execution_count": 37,
   "id": "flush-chicken",
   "metadata": {},
   "outputs": [
    {
     "data": {
      "text/html": [
       "<div>\n",
       "<style scoped>\n",
       "    .dataframe tbody tr th:only-of-type {\n",
       "        vertical-align: middle;\n",
       "    }\n",
       "\n",
       "    .dataframe tbody tr th {\n",
       "        vertical-align: top;\n",
       "    }\n",
       "\n",
       "    .dataframe thead th {\n",
       "        text-align: right;\n",
       "    }\n",
       "</style>\n",
       "<table border=\"1\" class=\"dataframe\">\n",
       "  <thead>\n",
       "    <tr style=\"text-align: right;\">\n",
       "      <th></th>\n",
       "      <th>device_vendor</th>\n",
       "      <th>unique_cnt</th>\n",
       "    </tr>\n",
       "  </thead>\n",
       "  <tbody>\n",
       "    <tr>\n",
       "      <th>0</th>\n",
       "      <td>amazon</td>\n",
       "      <td>13</td>\n",
       "    </tr>\n",
       "    <tr>\n",
       "      <th>1</th>\n",
       "      <td>lg</td>\n",
       "      <td>2</td>\n",
       "    </tr>\n",
       "    <tr>\n",
       "      <th>2</th>\n",
       "      <td>samsung</td>\n",
       "      <td>4</td>\n",
       "    </tr>\n",
       "    <tr>\n",
       "      <th>3</th>\n",
       "      <td>synology</td>\n",
       "      <td>5</td>\n",
       "    </tr>\n",
       "    <tr>\n",
       "      <th>4</th>\n",
       "      <td>tplink</td>\n",
       "      <td>1</td>\n",
       "    </tr>\n",
       "    <tr>\n",
       "      <th>5</th>\n",
       "      <td>western digital</td>\n",
       "      <td>1</td>\n",
       "    </tr>\n",
       "  </tbody>\n",
       "</table>\n",
       "</div>"
      ],
      "text/plain": [
       "     device_vendor  unique_cnt\n",
       "0           amazon          13\n",
       "1               lg           2\n",
       "2          samsung           4\n",
       "3         synology           5\n",
       "4           tplink           1\n",
       "5  western digital           1"
      ]
     },
     "execution_count": 37,
     "metadata": {},
     "output_type": "execute_result"
    }
   ],
   "source": [
    "iot_sub.loc[iot_sub['tls_version'] == 768].groupby('device_vendor')['device_id'].agg(lambda x: x.nunique()).reset_index(name='unique_cnt')"
   ]
  },
  {
   "cell_type": "markdown",
   "id": "legal-layer",
   "metadata": {},
   "source": [
    "### Extensions"
   ]
  },
  {
   "cell_type": "code",
   "execution_count": 38,
   "id": "adolescent-municipality",
   "metadata": {},
   "outputs": [
    {
     "data": {
      "text/html": [
       "<div>\n",
       "<style scoped>\n",
       "    .dataframe tbody tr th:only-of-type {\n",
       "        vertical-align: middle;\n",
       "    }\n",
       "\n",
       "    .dataframe tbody tr th {\n",
       "        vertical-align: top;\n",
       "    }\n",
       "\n",
       "    .dataframe thead th {\n",
       "        text-align: right;\n",
       "    }\n",
       "</style>\n",
       "<table border=\"1\" class=\"dataframe\">\n",
       "  <thead>\n",
       "    <tr style=\"text-align: right;\">\n",
       "      <th></th>\n",
       "      <th>idx</th>\n",
       "      <th>likely_libver</th>\n",
       "      <th>lib_ciphersuites</th>\n",
       "      <th>device_id</th>\n",
       "      <th>cipher_suites</th>\n",
       "      <th>extension_types</th>\n",
       "      <th>tls_version</th>\n",
       "      <th>device_vendor</th>\n",
       "      <th>device_name</th>\n",
       "      <th>cipher_code</th>\n",
       "      <th>ciphersuite_len</th>\n",
       "      <th>cipher_code_idxl</th>\n",
       "      <th>cipher_code_hex</th>\n",
       "      <th>updated_hexcodelis</th>\n",
       "      <th>updated_codelis</th>\n",
       "      <th>likely</th>\n",
       "      <th>likely_idx</th>\n",
       "      <th>likely_score</th>\n",
       "      <th>cumulative_agreement</th>\n",
       "      <th>distance_2lib_sim</th>\n",
       "    </tr>\n",
       "  </thead>\n",
       "  <tbody>\n",
       "    <tr>\n",
       "      <th>3856</th>\n",
       "      <td>35</td>\n",
       "      <td>curl-7.71.043_openssl-1.0.1u</td>\n",
       "      <td>[49200, 49196, 49192, 49188, 49172, 49162, 163, 159, 107, 106, 57, 56, 136, 135, 49202, 49198, 49194, 49190, 49167, 49157, 157, 61, 53, 132, 49199, 49195, 49191, 49187, 49171, 49161, 162, 158, 103, 64, 51, 50, 154, 153, 69, 68, 49201, 49197, 49193, 49189, 49166, 49156, 156, 60, 47, 150, 65, 7, 49170, 49160, 22, 19, 49165, 49155, 10, 255]</td>\n",
       "      <td>sa4d5b33226</td>\n",
       "      <td>49200+49196+49192+49188+49172+49162+163+159+107+106+57+56+49202+49198+49194+49190+49167+49157+157+61+53+49199+49195+49191+49187+49171+49161+162+158+103+64+51+50+49201+49197+49193+49189+49166+49156+156+60+47+49170+49160+22+19+49165+49155+10+255</td>\n",
       "      <td>11+10+35+13+13172</td>\n",
       "      <td>771</td>\n",
       "      <td>roku</td>\n",
       "      <td>streamer</td>\n",
       "      <td>[49200, 49196, 49192, 49188, 49172, 49162, 163, 159, 107, 106, 57, 56, 49202, 49198, 49194, 49190, 49167, 49157, 157, 61, 53, 49199, 49195, 49191, 49187, 49171, 49161, 162, 158, 103, 64, 51, 50, 49201, 49197, 49193, 49189, 49166, 49156, 156, 60, 47, 49170, 49160, 22, 19, 49165, 49155, 10, 255]</td>\n",
       "      <td>50</td>\n",
       "      <td>['49200:0', '49196:1', '49192:2', '49188:3', '49172:4', '49162:5', '163:6', '159:7', '107:8', '106:9', '57:10', '56:11', '49202:12', '49198:13', '49194:14', '49190:15', '49167:16', '49157:17', '157:18', '61:19', '53:20', '49199:21', '49195:22', '49191:23', '49187:24', '49171:25', '49161:26', '162:27', '158:28', '103:29', '64:30', '51:31', '50:32', '49201:33', '49197:34', '49193:35', '49189:36', '49166:37', '49156:38', '156:39', '60:40', '47:41', '49170:42', '49160:43', '22:44', '19:45', '49165:46', '49155:47', '10:48', '255:49']</td>\n",
       "      <td>['0xc030', '0xc02c', '0xc028', '0xc024', '0xc014', '0xc00a', '0xa3', '0x9f', '0x6b', '0x6a', '0x39', '0x38', '0xc032', '0xc02e', '0xc02a', '0xc026', '0xc00f', '0xc005', '0x9d', '0x3d', '0x35', '0xc02f', '0xc02b', '0xc027', '0xc023', '0xc013', '0xc009', '0xa2', '0x9e', '0x67', '0x40', '0x33', '0x32', '0xc031', '0xc02d', '0xc029', '0xc025', '0xc00e', '0xc004', '0x9c', '0x3c', '0x2f', '0xc012', '0xc008', '0x16', '0x13', '0xc00d', '0xc003', '0xa', '0xff']</td>\n",
       "      <td>['0xc030', '0xc02c', '0xc028', '0xc024', '0xc014', '0xc00a', '0xa3', '0x9f', '0x6b', '0x6a', '0x39', '0x38', '0xc032', '0xc02e', '0xc02a', '0xc026', '0xc00f', '0xc005', '0x9d', '0x3d', '0x35', '0xc02f', '0xc02b', '0xc027', '0xc023', '0xc013', '0xc009', '0xa2', '0x9e', '0x67', '0x40', '0x33', '0x32', '0xc031', '0xc02d', '0xc029', '0xc025', '0xc00e', '0xc004', '0x9c', '0x3c', '0x2f', '0xc012', '0xc008', '0x16', '0x13', '0xc00d', '0xc003', '0xa', '0xff']</td>\n",
       "      <td>[49200, 49196, 49192, 49188, 49172, 49162, 163, 159, 107, 106, 57, 56, 49202, 49198, 49194, 49190, 49167, 49157, 157, 61, 53, 49199, 49195, 49191, 49187, 49171, 49161, 162, 158, 103, 64, 51, 50, 49201, 49197, 49193, 49189, 49166, 49156, 156, 60, 47, 49170, 49160, 22, 19, 49165, 49155, 10, 255]</td>\n",
       "      <td>[35, 0.819672131147541]</td>\n",
       "      <td>35</td>\n",
       "      <td>0.819672</td>\n",
       "      <td>[1.0, 1.0, 1.0, 1.0, 1.0, 1.0, 1.0, 1.0, 1.0, 1.0, 1.0, 1.0, 0.9230769230769231, 0.8571428571428571, 0.8666666666666667, 0.875, 0.8823529411764706, 0.8888888888888888, 0.8947368421052632, 0.9, 0.9047619047619048, 0.9090909090909091, 0.9130434782608695, 0.875, 0.88, 0.8846153846153846, 0.8888888888888888, 0.8928571428571429, 0.896551724137931, 0.9, 0.9032258064516129, 0.90625, 0.9090909090909091, 0.9117647058823529, 0.9142857142857143, 0.9166666666666666, 0.8918918918918919, 0.868421052631579, 0.8461538461538461, 0.825, 0.8292682926829268, 0.8333333333333334, 0.8372093023255814, 0.8409090909090909, 0.8444444444444444, 0.8478260869565217, 0.851063829787234, 0.8541666666666666, 0.8571428571428571, 0.84, 0.8235294117647058, 0.8155339805825242, 0.8269230769230769, 0.8380952380952381, 0.8490566037735849, 0.8598130841121495, 0.8703703703703703, 0.8807339449541285, 0.8909090909090909, 0.9009009009009009]</td>\n",
       "      <td>3</td>\n",
       "    </tr>\n",
       "  </tbody>\n",
       "</table>\n",
       "</div>"
      ],
      "text/plain": [
       "      idx                 likely_libver  \\\n",
       "3856   35  curl-7.71.043_openssl-1.0.1u   \n",
       "\n",
       "                                                                                                                                                                                                                                                                                                                                         lib_ciphersuites  \\\n",
       "3856  [49200, 49196, 49192, 49188, 49172, 49162, 163, 159, 107, 106, 57, 56, 136, 135, 49202, 49198, 49194, 49190, 49167, 49157, 157, 61, 53, 132, 49199, 49195, 49191, 49187, 49171, 49161, 162, 158, 103, 64, 51, 50, 154, 153, 69, 68, 49201, 49197, 49193, 49189, 49166, 49156, 156, 60, 47, 150, 65, 7, 49170, 49160, 22, 19, 49165, 49155, 10, 255]   \n",
       "\n",
       "        device_id  \\\n",
       "3856  sa4d5b33226   \n",
       "\n",
       "                                                                                                                                                                                                                                            cipher_suites  \\\n",
       "3856  49200+49196+49192+49188+49172+49162+163+159+107+106+57+56+49202+49198+49194+49190+49167+49157+157+61+53+49199+49195+49191+49187+49171+49161+162+158+103+64+51+50+49201+49197+49193+49189+49166+49156+156+60+47+49170+49160+22+19+49165+49155+10+255   \n",
       "\n",
       "        extension_types  tls_version device_vendor device_name  \\\n",
       "3856  11+10+35+13+13172          771          roku    streamer   \n",
       "\n",
       "                                                                                                                                                                                                                                                                                                 cipher_code  \\\n",
       "3856  [49200, 49196, 49192, 49188, 49172, 49162, 163, 159, 107, 106, 57, 56, 49202, 49198, 49194, 49190, 49167, 49157, 157, 61, 53, 49199, 49195, 49191, 49187, 49171, 49161, 162, 158, 103, 64, 51, 50, 49201, 49197, 49193, 49189, 49166, 49156, 156, 60, 47, 49170, 49160, 22, 19, 49165, 49155, 10, 255]   \n",
       "\n",
       "      ciphersuite_len  \\\n",
       "3856               50   \n",
       "\n",
       "                                                                                                                                                                                                                                                                                                                                                                                                                                                                                                                                            cipher_code_idxl  \\\n",
       "3856  ['49200:0', '49196:1', '49192:2', '49188:3', '49172:4', '49162:5', '163:6', '159:7', '107:8', '106:9', '57:10', '56:11', '49202:12', '49198:13', '49194:14', '49190:15', '49167:16', '49157:17', '157:18', '61:19', '53:20', '49199:21', '49195:22', '49191:23', '49187:24', '49171:25', '49161:26', '162:27', '158:28', '103:29', '64:30', '51:31', '50:32', '49201:33', '49197:34', '49193:35', '49189:36', '49166:37', '49156:38', '156:39', '60:40', '47:41', '49170:42', '49160:43', '22:44', '19:45', '49165:46', '49155:47', '10:48', '255:49']   \n",
       "\n",
       "                                                                                                                                                                                                                                                                                                                                                                                                                                                              cipher_code_hex  \\\n",
       "3856  ['0xc030', '0xc02c', '0xc028', '0xc024', '0xc014', '0xc00a', '0xa3', '0x9f', '0x6b', '0x6a', '0x39', '0x38', '0xc032', '0xc02e', '0xc02a', '0xc026', '0xc00f', '0xc005', '0x9d', '0x3d', '0x35', '0xc02f', '0xc02b', '0xc027', '0xc023', '0xc013', '0xc009', '0xa2', '0x9e', '0x67', '0x40', '0x33', '0x32', '0xc031', '0xc02d', '0xc029', '0xc025', '0xc00e', '0xc004', '0x9c', '0x3c', '0x2f', '0xc012', '0xc008', '0x16', '0x13', '0xc00d', '0xc003', '0xa', '0xff']   \n",
       "\n",
       "                                                                                                                                                                                                                                                                                                                                                                                                                                                           updated_hexcodelis  \\\n",
       "3856  ['0xc030', '0xc02c', '0xc028', '0xc024', '0xc014', '0xc00a', '0xa3', '0x9f', '0x6b', '0x6a', '0x39', '0x38', '0xc032', '0xc02e', '0xc02a', '0xc026', '0xc00f', '0xc005', '0x9d', '0x3d', '0x35', '0xc02f', '0xc02b', '0xc027', '0xc023', '0xc013', '0xc009', '0xa2', '0x9e', '0x67', '0x40', '0x33', '0x32', '0xc031', '0xc02d', '0xc029', '0xc025', '0xc00e', '0xc004', '0x9c', '0x3c', '0x2f', '0xc012', '0xc008', '0x16', '0x13', '0xc00d', '0xc003', '0xa', '0xff']   \n",
       "\n",
       "                                                                                                                                                                                                                                                                                             updated_codelis  \\\n",
       "3856  [49200, 49196, 49192, 49188, 49172, 49162, 163, 159, 107, 106, 57, 56, 49202, 49198, 49194, 49190, 49167, 49157, 157, 61, 53, 49199, 49195, 49191, 49187, 49171, 49161, 162, 158, 103, 64, 51, 50, 49201, 49197, 49193, 49189, 49166, 49156, 156, 60, 47, 49170, 49160, 22, 19, 49165, 49155, 10, 255]   \n",
       "\n",
       "                       likely  likely_idx  likely_score  \\\n",
       "3856  [35, 0.819672131147541]          35      0.819672   \n",
       "\n",
       "                                                                                                                                                                                                                                                                                                                                                                                                                                                                                                                                                                                                                                                                                                                                                                                                                                                                                                                               cumulative_agreement  \\\n",
       "3856  [1.0, 1.0, 1.0, 1.0, 1.0, 1.0, 1.0, 1.0, 1.0, 1.0, 1.0, 1.0, 0.9230769230769231, 0.8571428571428571, 0.8666666666666667, 0.875, 0.8823529411764706, 0.8888888888888888, 0.8947368421052632, 0.9, 0.9047619047619048, 0.9090909090909091, 0.9130434782608695, 0.875, 0.88, 0.8846153846153846, 0.8888888888888888, 0.8928571428571429, 0.896551724137931, 0.9, 0.9032258064516129, 0.90625, 0.9090909090909091, 0.9117647058823529, 0.9142857142857143, 0.9166666666666666, 0.8918918918918919, 0.868421052631579, 0.8461538461538461, 0.825, 0.8292682926829268, 0.8333333333333334, 0.8372093023255814, 0.8409090909090909, 0.8444444444444444, 0.8478260869565217, 0.851063829787234, 0.8541666666666666, 0.8571428571428571, 0.84, 0.8235294117647058, 0.8155339805825242, 0.8269230769230769, 0.8380952380952381, 0.8490566037735849, 0.8598130841121495, 0.8703703703703703, 0.8807339449541285, 0.8909090909090909, 0.9009009009009009]   \n",
       "\n",
       "      distance_2lib_sim  \n",
       "3856                  3  "
      ]
     },
     "execution_count": 38,
     "metadata": {},
     "output_type": "execute_result"
    }
   ],
   "source": [
    "iot.sample(1)"
   ]
  },
  {
   "cell_type": "code",
   "execution_count": 39,
   "id": "hidden-generic",
   "metadata": {},
   "outputs": [],
   "source": [
    "iot['extensions'] = iot['extension_types'].apply(lambda x: [int(val) for val in x.split(\"+\")] if x != \"missing\" else 99999)"
   ]
  },
  {
   "cell_type": "code",
   "execution_count": 40,
   "id": "official-singapore",
   "metadata": {},
   "outputs": [],
   "source": [
    "iot_sub = iot.loc[iot['extensions'] != 99999][['device_id', 'device_vendor', 'extensions']].reset_index().drop('index', 1)"
   ]
  },
  {
   "cell_type": "code",
   "execution_count": 41,
   "id": "surgical-history",
   "metadata": {},
   "outputs": [
    {
     "data": {
      "text/html": [
       "<div>\n",
       "<style scoped>\n",
       "    .dataframe tbody tr th:only-of-type {\n",
       "        vertical-align: middle;\n",
       "    }\n",
       "\n",
       "    .dataframe tbody tr th {\n",
       "        vertical-align: top;\n",
       "    }\n",
       "\n",
       "    .dataframe thead th {\n",
       "        text-align: right;\n",
       "    }\n",
       "</style>\n",
       "<table border=\"1\" class=\"dataframe\">\n",
       "  <thead>\n",
       "    <tr style=\"text-align: right;\">\n",
       "      <th></th>\n",
       "      <th>device_id</th>\n",
       "      <th>device_vendor</th>\n",
       "      <th>extensions</th>\n",
       "    </tr>\n",
       "  </thead>\n",
       "  <tbody>\n",
       "    <tr>\n",
       "      <th>0</th>\n",
       "      <td>s00058cef5a</td>\n",
       "      <td>amazon</td>\n",
       "      <td>[11, 10, 35, 13]</td>\n",
       "    </tr>\n",
       "    <tr>\n",
       "      <th>1</th>\n",
       "      <td>s00058cef5a</td>\n",
       "      <td>amazon</td>\n",
       "      <td>[11, 10, 35, 13, 16, 21]</td>\n",
       "    </tr>\n",
       "    <tr>\n",
       "      <th>2</th>\n",
       "      <td>s00058cef5a</td>\n",
       "      <td>amazon</td>\n",
       "      <td>[11, 10, 35, 13]</td>\n",
       "    </tr>\n",
       "    <tr>\n",
       "      <th>3</th>\n",
       "      <td>s000859518c</td>\n",
       "      <td>amazon</td>\n",
       "      <td>[23, 65281, 10, 11, 35, 16, 5, 13, 18, 51, 45, 43, 27, 21]</td>\n",
       "    </tr>\n",
       "    <tr>\n",
       "      <th>4</th>\n",
       "      <td>s000859518c</td>\n",
       "      <td>amazon</td>\n",
       "      <td>[65281, 23, 35, 13, 5, 18, 16, 11, 10]</td>\n",
       "    </tr>\n",
       "    <tr>\n",
       "      <th>...</th>\n",
       "      <td>...</td>\n",
       "      <td>...</td>\n",
       "      <td>...</td>\n",
       "    </tr>\n",
       "    <tr>\n",
       "      <th>5463</th>\n",
       "      <td>sffc152f21e</td>\n",
       "      <td>roku</td>\n",
       "      <td>[11, 10, 13, 15, 13172, 16, 21]</td>\n",
       "    </tr>\n",
       "    <tr>\n",
       "      <th>5464</th>\n",
       "      <td>sffc152f21e</td>\n",
       "      <td>roku</td>\n",
       "      <td>[11, 10, 35, 13, 15]</td>\n",
       "    </tr>\n",
       "    <tr>\n",
       "      <th>5465</th>\n",
       "      <td>sffeb109e29</td>\n",
       "      <td>vera</td>\n",
       "      <td>[11, 10, 13, 15]</td>\n",
       "    </tr>\n",
       "    <tr>\n",
       "      <th>5466</th>\n",
       "      <td>sfff9327ea0</td>\n",
       "      <td>roku</td>\n",
       "      <td>[11, 10, 13, 15, 13172, 16, 21]</td>\n",
       "    </tr>\n",
       "    <tr>\n",
       "      <th>5467</th>\n",
       "      <td>sfff9327ea0</td>\n",
       "      <td>roku</td>\n",
       "      <td>[11, 10, 35, 13, 15]</td>\n",
       "    </tr>\n",
       "  </tbody>\n",
       "</table>\n",
       "<p>5468 rows × 3 columns</p>\n",
       "</div>"
      ],
      "text/plain": [
       "        device_id device_vendor  \\\n",
       "0     s00058cef5a        amazon   \n",
       "1     s00058cef5a        amazon   \n",
       "2     s00058cef5a        amazon   \n",
       "3     s000859518c        amazon   \n",
       "4     s000859518c        amazon   \n",
       "...           ...           ...   \n",
       "5463  sffc152f21e          roku   \n",
       "5464  sffc152f21e          roku   \n",
       "5465  sffeb109e29          vera   \n",
       "5466  sfff9327ea0          roku   \n",
       "5467  sfff9327ea0          roku   \n",
       "\n",
       "                                                      extensions  \n",
       "0                                               [11, 10, 35, 13]  \n",
       "1                                       [11, 10, 35, 13, 16, 21]  \n",
       "2                                               [11, 10, 35, 13]  \n",
       "3     [23, 65281, 10, 11, 35, 16, 5, 13, 18, 51, 45, 43, 27, 21]  \n",
       "4                         [65281, 23, 35, 13, 5, 18, 16, 11, 10]  \n",
       "...                                                          ...  \n",
       "5463                             [11, 10, 13, 15, 13172, 16, 21]  \n",
       "5464                                        [11, 10, 35, 13, 15]  \n",
       "5465                                            [11, 10, 13, 15]  \n",
       "5466                             [11, 10, 13, 15, 13172, 16, 21]  \n",
       "5467                                        [11, 10, 35, 13, 15]  \n",
       "\n",
       "[5468 rows x 3 columns]"
      ]
     },
     "execution_count": 41,
     "metadata": {},
     "output_type": "execute_result"
    }
   ],
   "source": [
    "iot_sub"
   ]
  },
  {
   "cell_type": "code",
   "execution_count": 42,
   "id": "rotary-soundtrack",
   "metadata": {},
   "outputs": [],
   "source": [
    "iot_exp = iot_sub.explode('extensions').reset_index(drop=True)"
   ]
  },
  {
   "cell_type": "code",
   "execution_count": 43,
   "id": "satisfied-temple",
   "metadata": {},
   "outputs": [],
   "source": [
    "iot_expgb = iot_exp.groupby('extensions')['device_id'].agg(lambda x: x.nunique()).reset_index(name='unique_devcnt').sort_values('unique_devcnt', ascending=False)"
   ]
  },
  {
   "cell_type": "code",
   "execution_count": 44,
   "id": "equipped-tracy",
   "metadata": {},
   "outputs": [
    {
     "data": {
      "text/html": [
       "<div>\n",
       "<style scoped>\n",
       "    .dataframe tbody tr th:only-of-type {\n",
       "        vertical-align: middle;\n",
       "    }\n",
       "\n",
       "    .dataframe tbody tr th {\n",
       "        vertical-align: top;\n",
       "    }\n",
       "\n",
       "    .dataframe thead th {\n",
       "        text-align: right;\n",
       "    }\n",
       "</style>\n",
       "<table border=\"1\" class=\"dataframe\">\n",
       "  <thead>\n",
       "    <tr style=\"text-align: right;\">\n",
       "      <th></th>\n",
       "      <th>extensions</th>\n",
       "      <th>unique_devcnt</th>\n",
       "    </tr>\n",
       "  </thead>\n",
       "  <tbody>\n",
       "    <tr>\n",
       "      <th>5</th>\n",
       "      <td>13</td>\n",
       "      <td>1993</td>\n",
       "    </tr>\n",
       "    <tr>\n",
       "      <th>3</th>\n",
       "      <td>10</td>\n",
       "      <td>1931</td>\n",
       "    </tr>\n",
       "    <tr>\n",
       "      <th>4</th>\n",
       "      <td>11</td>\n",
       "      <td>1917</td>\n",
       "    </tr>\n",
       "    <tr>\n",
       "      <th>15</th>\n",
       "      <td>35</td>\n",
       "      <td>1445</td>\n",
       "    </tr>\n",
       "    <tr>\n",
       "      <th>7</th>\n",
       "      <td>16</td>\n",
       "      <td>1393</td>\n",
       "    </tr>\n",
       "    <tr>\n",
       "      <th>9</th>\n",
       "      <td>21</td>\n",
       "      <td>1053</td>\n",
       "    </tr>\n",
       "    <tr>\n",
       "      <th>11</th>\n",
       "      <td>23</td>\n",
       "      <td>957</td>\n",
       "    </tr>\n",
       "    <tr>\n",
       "      <th>25</th>\n",
       "      <td>13172</td>\n",
       "      <td>946</td>\n",
       "    </tr>\n",
       "    <tr>\n",
       "      <th>6</th>\n",
       "      <td>15</td>\n",
       "      <td>884</td>\n",
       "    </tr>\n",
       "    <tr>\n",
       "      <th>29</th>\n",
       "      <td>65281</td>\n",
       "      <td>835</td>\n",
       "    </tr>\n",
       "    <tr>\n",
       "      <th>1</th>\n",
       "      <td>5</td>\n",
       "      <td>648</td>\n",
       "    </tr>\n",
       "    <tr>\n",
       "      <th>8</th>\n",
       "      <td>18</td>\n",
       "      <td>595</td>\n",
       "    </tr>\n",
       "    <tr>\n",
       "      <th>20</th>\n",
       "      <td>45</td>\n",
       "      <td>456</td>\n",
       "    </tr>\n",
       "    <tr>\n",
       "      <th>19</th>\n",
       "      <td>43</td>\n",
       "      <td>456</td>\n",
       "    </tr>\n",
       "    <tr>\n",
       "      <th>22</th>\n",
       "      <td>51</td>\n",
       "      <td>456</td>\n",
       "    </tr>\n",
       "    <tr>\n",
       "      <th>13</th>\n",
       "      <td>27</td>\n",
       "      <td>453</td>\n",
       "    </tr>\n",
       "    <tr>\n",
       "      <th>10</th>\n",
       "      <td>22</td>\n",
       "      <td>288</td>\n",
       "    </tr>\n",
       "    <tr>\n",
       "      <th>17</th>\n",
       "      <td>41</td>\n",
       "      <td>274</td>\n",
       "    </tr>\n",
       "    <tr>\n",
       "      <th>24</th>\n",
       "      <td>2570</td>\n",
       "      <td>91</td>\n",
       "    </tr>\n",
       "    <tr>\n",
       "      <th>27</th>\n",
       "      <td>30032</td>\n",
       "      <td>54</td>\n",
       "    </tr>\n",
       "    <tr>\n",
       "      <th>18</th>\n",
       "      <td>42</td>\n",
       "      <td>9</td>\n",
       "    </tr>\n",
       "    <tr>\n",
       "      <th>12</th>\n",
       "      <td>24</td>\n",
       "      <td>8</td>\n",
       "    </tr>\n",
       "    <tr>\n",
       "      <th>26</th>\n",
       "      <td>30031</td>\n",
       "      <td>8</td>\n",
       "    </tr>\n",
       "    <tr>\n",
       "      <th>28</th>\n",
       "      <td>61184</td>\n",
       "      <td>8</td>\n",
       "    </tr>\n",
       "    <tr>\n",
       "      <th>21</th>\n",
       "      <td>49</td>\n",
       "      <td>7</td>\n",
       "    </tr>\n",
       "    <tr>\n",
       "      <th>0</th>\n",
       "      <td>1</td>\n",
       "      <td>6</td>\n",
       "    </tr>\n",
       "    <tr>\n",
       "      <th>14</th>\n",
       "      <td>28</td>\n",
       "      <td>4</td>\n",
       "    </tr>\n",
       "    <tr>\n",
       "      <th>23</th>\n",
       "      <td>132</td>\n",
       "      <td>3</td>\n",
       "    </tr>\n",
       "    <tr>\n",
       "      <th>2</th>\n",
       "      <td>9</td>\n",
       "      <td>2</td>\n",
       "    </tr>\n",
       "    <tr>\n",
       "      <th>16</th>\n",
       "      <td>40</td>\n",
       "      <td>1</td>\n",
       "    </tr>\n",
       "  </tbody>\n",
       "</table>\n",
       "</div>"
      ],
      "text/plain": [
       "    extensions  unique_devcnt\n",
       "5           13           1993\n",
       "3           10           1931\n",
       "4           11           1917\n",
       "15          35           1445\n",
       "7           16           1393\n",
       "9           21           1053\n",
       "11          23            957\n",
       "25       13172            946\n",
       "6           15            884\n",
       "29       65281            835\n",
       "1            5            648\n",
       "8           18            595\n",
       "20          45            456\n",
       "19          43            456\n",
       "22          51            456\n",
       "13          27            453\n",
       "10          22            288\n",
       "17          41            274\n",
       "24        2570             91\n",
       "27       30032             54\n",
       "18          42              9\n",
       "12          24              8\n",
       "26       30031              8\n",
       "28       61184              8\n",
       "21          49              7\n",
       "0            1              6\n",
       "14          28              4\n",
       "23         132              3\n",
       "2            9              2\n",
       "16          40              1"
      ]
     },
     "execution_count": 44,
     "metadata": {},
     "output_type": "execute_result"
    }
   ],
   "source": [
    "iot_expgb"
   ]
  }
 ],
 "metadata": {
  "kernelspec": {
   "display_name": "Python 3",
   "language": "python",
   "name": "python3"
  },
  "language_info": {
   "codemirror_mode": {
    "name": "ipython",
    "version": 3
   },
   "file_extension": ".py",
   "mimetype": "text/x-python",
   "name": "python",
   "nbconvert_exporter": "python",
   "pygments_lexer": "ipython3",
   "version": "3.8.5"
  }
 },
 "nbformat": 4,
 "nbformat_minor": 5
}
