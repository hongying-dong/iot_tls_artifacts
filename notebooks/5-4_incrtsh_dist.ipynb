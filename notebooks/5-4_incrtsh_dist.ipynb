{
 "cells": [
  {
   "cell_type": "code",
   "execution_count": 144,
   "id": "julian-orleans",
   "metadata": {},
   "outputs": [],
   "source": [
    "import os\n",
    "import pandas as pd \n",
    "import numpy as np\n",
    "from lxml import etree \n",
    "pd.set_option('display.max_columns', None)\n",
    "pd.options.display.max_colwidth = 200\n",
    "import os\n",
    "import glob\n",
    "import time\n",
    "import re\n",
    "import datetime\n",
    "import matplotlib.pyplot as plt\n",
    "import seaborn as sns\n",
    "import itertools\n",
    "import matplotlib.patches as mpatches\n",
    "import shutil\n",
    "from IPython.display import clear_output\n",
    "pd.set_option('display.max_rows', 500)\n",
    "from manuf import manuf\n",
    "from user_agents import parse\n",
    "import dataframe_image as dfi\n",
    "import tldextract\n",
    "import random"
   ]
  },
  {
   "cell_type": "code",
   "execution_count": 145,
   "id": "continental-exercise",
   "metadata": {},
   "outputs": [],
   "source": [
    "df = pd.read_parquet(\"dataset/dev_withcrt.parquet\")"
   ]
  },
  {
   "cell_type": "code",
   "execution_count": 146,
   "id": "nominated-murder",
   "metadata": {},
   "outputs": [],
   "source": [
    "df['cert_days'] = df['cert_validity_days'].apply(lambda x: int(x.split(\" \")[0]))"
   ]
  },
  {
   "cell_type": "code",
   "execution_count": 147,
   "id": "recent-wings",
   "metadata": {},
   "outputs": [],
   "source": [
    "names = pd.read_parquet(\"../analysis2/sni_used_to_generate_pcaps.parquet\")"
   ]
  },
  {
   "cell_type": "code",
   "execution_count": 148,
   "id": "solved-cassette",
   "metadata": {},
   "outputs": [],
   "source": [
    "df = pd.merge(df, names, how='left', left_on='server_name_indication', right_on='sni')"
   ]
  },
  {
   "cell_type": "code",
   "execution_count": 149,
   "id": "touched-wrong",
   "metadata": {},
   "outputs": [
    {
     "data": {
      "text/plain": [
       "(371079, 124)"
      ]
     },
     "execution_count": 149,
     "metadata": {},
     "output_type": "execute_result"
    }
   ],
   "source": [
    "df.shape"
   ]
  },
  {
   "cell_type": "code",
   "execution_count": 150,
   "id": "headed-niger",
   "metadata": {},
   "outputs": [
    {
     "data": {
      "text/plain": [
       "(0, 124)"
      ]
     },
     "execution_count": 150,
     "metadata": {},
     "output_type": "execute_result"
    }
   ],
   "source": [
    "df.loc[df['device_id'].isna()].shape"
   ]
  },
  {
   "cell_type": "code",
   "execution_count": 151,
   "id": "adverse-instruction",
   "metadata": {},
   "outputs": [
    {
     "data": {
      "text/plain": [
       "(4949, 5)"
      ]
     },
     "execution_count": 151,
     "metadata": {},
     "output_type": "execute_result"
    }
   ],
   "source": [
    "df.groupby(['serial_num', 'sni', 'issuer_CN', 'device_vendor'])['cert_id'].agg('count').reset_index(name='count').shape"
   ]
  },
  {
   "cell_type": "markdown",
   "id": "talented-split",
   "metadata": {},
   "source": [
    "### Leaf certificate validity days"
   ]
  },
  {
   "cell_type": "code",
   "execution_count": 152,
   "id": "emotional-genre",
   "metadata": {},
   "outputs": [],
   "source": [
    "_col2drop = ['cert_keyIdentifier', 'cert_sortedtime', 'cert_subjectKeyIdentifier', 'cert_mapped_idx', \\\n",
    "             'cert_cap_ts', 'cert_cap_uts', 'dev_dst_ip_x', 'dev_dst_port_x', 'dev_dst_sni', 'cert_idx_list', \\\n",
    "             'client_ciphersuite_code', 'client_compression_method', 'client_extension_type_code', 'client_hello_id', \\\n",
    "             'client_idx', 'client_sig_hash_alg_code', 'client_sig_hash_hash_code', 'client_supported_group_code', \\\n",
    "             'clnt_mapped_idx', 'clnt_cap_ts', 'clnt_cap_uts', 'clnt_ip_dst', 'clnt_ip_src', 'clnt_tcp_dstport', \\\n",
    "             'clnt_tcp_srcport', 'clnt_ts_idx_end', 'clnt_ts_idx_start', 'client_tls_version', 'client_ciphersuite', \\\n",
    "             'client_extension_type', 'client_supported_groups', 'client_sig_hash_alg', 'client_sig_hash_hash', \\\n",
    "             'if_weak_cipher_included', 'weak_cipher_included', 'weak_sigalg_included', 'dev_dst_ip_y', 'dev_dst_port_y', \\\n",
    "             'cert_ts_idx_end', 'cert_ts_idx_start', 'server_hello_id', 'server_idx', 'serv_mapped_idx', 'serv_cap_ts', \\\n",
    "             'serv_cap_uts', 'serv_ip_dst', 'serv_ip_src', 'serv_tcp_dstport', 'serv_tcp_srcport', 'serv_ts_idx_end', \\\n",
    "             'serv_ts_idx_start', 'dev_dst_ip', 'dev_dst_port']"
   ]
  },
  {
   "cell_type": "code",
   "execution_count": 153,
   "id": "ready-charleston",
   "metadata": {},
   "outputs": [],
   "source": [
    "dev_dropcol = df.drop([*_col2drop], 1)"
   ]
  },
  {
   "cell_type": "code",
   "execution_count": 154,
   "id": "sunset-empire",
   "metadata": {},
   "outputs": [
    {
     "data": {
      "text/html": [
       "<div>\n",
       "<style scoped>\n",
       "    .dataframe tbody tr th:only-of-type {\n",
       "        vertical-align: middle;\n",
       "    }\n",
       "\n",
       "    .dataframe tbody tr th {\n",
       "        vertical-align: top;\n",
       "    }\n",
       "\n",
       "    .dataframe thead th {\n",
       "        text-align: right;\n",
       "    }\n",
       "</style>\n",
       "<table border=\"1\" class=\"dataframe\">\n",
       "  <thead>\n",
       "    <tr style=\"text-align: right;\">\n",
       "      <th></th>\n",
       "      <th>cert_alg_element</th>\n",
       "      <th>cert_basicConstraints_cA</th>\n",
       "      <th>cert_id</th>\n",
       "      <th>cert_idx</th>\n",
       "      <th>cert_ifCRLSign</th>\n",
       "      <th>cert_ifDataEncipherment</th>\n",
       "      <th>cert_ifDigitalSig</th>\n",
       "      <th>cert_ifKeyCertSign</th>\n",
       "      <th>cert_ifKeyEncipherment</th>\n",
       "      <th>cert_issuer</th>\n",
       "      <th>cert_public_key_exponent</th>\n",
       "      <th>cert_resourceIdentifier</th>\n",
       "      <th>cert_san</th>\n",
       "      <th>cert_sct_logid</th>\n",
       "      <th>cert_serialNum_from_ber</th>\n",
       "      <th>cert_serialNum_from_x509af</th>\n",
       "      <th>cert_sig_hash_hash</th>\n",
       "      <th>cert_sig_hash_sig</th>\n",
       "      <th>cert_sig_len</th>\n",
       "      <th>cert_subject</th>\n",
       "      <th>cert_version</th>\n",
       "      <th>serv_curve</th>\n",
       "      <th>cert_notBefore</th>\n",
       "      <th>cert_notAfter</th>\n",
       "      <th>cert_validity_days</th>\n",
       "      <th>cert_ip_dst</th>\n",
       "      <th>cert_ip_src</th>\n",
       "      <th>cert_tcp_dstport</th>\n",
       "      <th>cert_tcp_srcport</th>\n",
       "      <th>issuer_CN</th>\n",
       "      <th>issuer_O</th>\n",
       "      <th>issuer_OUnit</th>\n",
       "      <th>issuer_C</th>\n",
       "      <th>subject_CN</th>\n",
       "      <th>subject_O</th>\n",
       "      <th>subject_OUnit</th>\n",
       "      <th>subject_C</th>\n",
       "      <th>cert_sig_alg</th>\n",
       "      <th>if_weak_sig_alg</th>\n",
       "      <th>cert_loc</th>\n",
       "      <th>cert_chain_len</th>\n",
       "      <th>chain_issuer</th>\n",
       "      <th>chain_issuer_O</th>\n",
       "      <th>chain_issuer_CN</th>\n",
       "      <th>chain_subject</th>\n",
       "      <th>chain_subject_O</th>\n",
       "      <th>chain_subject_CN</th>\n",
       "      <th>chain_basicConstraintsCA</th>\n",
       "      <th>chain_ifKeyCertSign</th>\n",
       "      <th>chain_keyIdentifier</th>\n",
       "      <th>chain_subjectIdentifier</th>\n",
       "      <th>chain_serial_from_ber</th>\n",
       "      <th>chain_serial_from_x509af</th>\n",
       "      <th>server_name_indication</th>\n",
       "      <th>if_tls_fallback</th>\n",
       "      <th>if_weak_sigalg</th>\n",
       "      <th>server_ciphersuite</th>\n",
       "      <th>server_ciphersuite_code</th>\n",
       "      <th>server_compression_method</th>\n",
       "      <th>server_extension_type_code</th>\n",
       "      <th>server_tls_version</th>\n",
       "      <th>server_extension_type</th>\n",
       "      <th>if_weak_cipher</th>\n",
       "      <th>serial_num</th>\n",
       "      <th>response</th>\n",
       "      <th>cert_days</th>\n",
       "      <th>device_id</th>\n",
       "      <th>sni</th>\n",
       "      <th>device_vendor</th>\n",
       "      <th>device_name</th>\n",
       "      <th>user_key</th>\n",
       "    </tr>\n",
       "  </thead>\n",
       "  <tbody>\n",
       "    <tr>\n",
       "      <th>21903</th>\n",
       "      <td>rsaEncryption</td>\n",
       "      <td>NaN</td>\n",
       "      <td>1.0</td>\n",
       "      <td>127.0</td>\n",
       "      <td>NaN</td>\n",
       "      <td>NaN</td>\n",
       "      <td>NaN</td>\n",
       "      <td>NaN</td>\n",
       "      <td>NaN</td>\n",
       "      <td>rdnSequence: 3 items (id-at-commonName=Roku Server CA G2,id-at-organizationName=Roku, Inc.,id-at-countryName=US)</td>\n",
       "      <td>65537.0</td>\n",
       "      <td>None</td>\n",
       "      <td>configsvc.cs.roku.com,</td>\n",
       "      <td>None</td>\n",
       "      <td>NaN</td>\n",
       "      <td>107d</td>\n",
       "      <td>None</td>\n",
       "      <td>None</td>\n",
       "      <td>NaN</td>\n",
       "      <td>rdnSequence: 5 items (id-at-commonName=configsvc.cs.roku.com,id-at-organizationName=Roku Inc.,id-at-localityName=Los Gatos,id-at-stateOrProvinceName=California,id-at-countryName=US)</td>\n",
       "      <td>v3</td>\n",
       "      <td>None</td>\n",
       "      <td>2021-02-19 21:35:03</td>\n",
       "      <td>2023-03-21 21:35:03</td>\n",
       "      <td>760 days</td>\n",
       "      <td>67.205.150.252</td>\n",
       "      <td>54.85.54.49</td>\n",
       "      <td>50499</td>\n",
       "      <td>443</td>\n",
       "      <td>Roku Server CA G2</td>\n",
       "      <td>Roku</td>\n",
       "      <td>NaN</td>\n",
       "      <td>US</td>\n",
       "      <td>configsvc.cs.roku.com</td>\n",
       "      <td>Roku Inc.</td>\n",
       "      <td>NaN</td>\n",
       "      <td>US</td>\n",
       "      <td>sha256WithRSAEncryption</td>\n",
       "      <td>None</td>\n",
       "      <td>0</td>\n",
       "      <td>3</td>\n",
       "      <td>[rdnSequence: 3 items (id-at-commonName=Roku Server CA G2,id-at-organizationName=Roku, Inc.,id-at-countryName=US), rdnSequence: 3 items (id-at-commonName=Roku Root CA G2,id-at-organizationName=Rok...</td>\n",
       "      <td>[Roku, Roku, Roku]</td>\n",
       "      <td>[Roku Server CA G2, Roku Root CA G2, Roku Root CA G2]</td>\n",
       "      <td>[rdnSequence: 5 items (id-at-commonName=configsvc.cs.roku.com,id-at-organizationName=Roku Inc.,id-at-localityName=Los Gatos,id-at-stateOrProvinceName=California,id-at-countryName=US), rdnSequence:...</td>\n",
       "      <td>[Roku Inc., Roku, Roku]</td>\n",
       "      <td>[configsvc.cs.roku.com, Roku Server CA G2, Roku Root CA G2]</td>\n",
       "      <td>[nan, 1.0, 1.0]</td>\n",
       "      <td>[None, None, None]</td>\n",
       "      <td>[fa343c74c017168dfe40320f34d04ac9393c4105, 61a8cc62c0cdc9b57c4ff87a64c7b2fa2c767660, 61a8cc62c0cdc9b57c4ff87a64c7b2fa2c767660]</td>\n",
       "      <td>[a4780a013e1ddfede69efd343f101b0626bf7c77, fa343c74c017168dfe40320f34d04ac9393c4105, 61a8cc62c0cdc9b57c4ff87a64c7b2fa2c767660]</td>\n",
       "      <td>[None, None, None]</td>\n",
       "      <td>[107d, 1000, 00dbc3088f01510c0b]</td>\n",
       "      <td>configsvc.cs.roku.com</td>\n",
       "      <td>False</td>\n",
       "      <td>False</td>\n",
       "      <td>TLS_ECDHE_RSA_WITH_AES_256_GCM_SHA384</td>\n",
       "      <td>c030</td>\n",
       "      <td>['0']</td>\n",
       "      <td>['0', '65281', '11']</td>\n",
       "      <td>TLS 1.2</td>\n",
       "      <td>['server_name', 'renegotiation_info', 'ec_point_formats']</td>\n",
       "      <td>False</td>\n",
       "      <td>107d</td>\n",
       "      <td>False</td>\n",
       "      <td>760</td>\n",
       "      <td>s3b5e72e94b</td>\n",
       "      <td>configsvc.cs.roku.com</td>\n",
       "      <td>tcl</td>\n",
       "      <td>roku</td>\n",
       "      <td>btgLK4a3MMdhg5c6</td>\n",
       "    </tr>\n",
       "  </tbody>\n",
       "</table>\n",
       "</div>"
      ],
      "text/plain": [
       "      cert_alg_element  cert_basicConstraints_cA  cert_id  cert_idx  \\\n",
       "21903    rsaEncryption                       NaN      1.0     127.0   \n",
       "\n",
       "       cert_ifCRLSign  cert_ifDataEncipherment  cert_ifDigitalSig  \\\n",
       "21903             NaN                      NaN                NaN   \n",
       "\n",
       "       cert_ifKeyCertSign  cert_ifKeyEncipherment  \\\n",
       "21903                 NaN                     NaN   \n",
       "\n",
       "                                                                                                            cert_issuer  \\\n",
       "21903  rdnSequence: 3 items (id-at-commonName=Roku Server CA G2,id-at-organizationName=Roku, Inc.,id-at-countryName=US)   \n",
       "\n",
       "       cert_public_key_exponent cert_resourceIdentifier  \\\n",
       "21903                   65537.0                    None   \n",
       "\n",
       "                     cert_san cert_sct_logid  cert_serialNum_from_ber  \\\n",
       "21903  configsvc.cs.roku.com,           None                      NaN   \n",
       "\n",
       "      cert_serialNum_from_x509af cert_sig_hash_hash cert_sig_hash_sig  \\\n",
       "21903                       107d               None              None   \n",
       "\n",
       "       cert_sig_len  \\\n",
       "21903           NaN   \n",
       "\n",
       "                                                                                                                                                                                cert_subject  \\\n",
       "21903  rdnSequence: 5 items (id-at-commonName=configsvc.cs.roku.com,id-at-organizationName=Roku Inc.,id-at-localityName=Los Gatos,id-at-stateOrProvinceName=California,id-at-countryName=US)   \n",
       "\n",
       "      cert_version serv_curve       cert_notBefore        cert_notAfter  \\\n",
       "21903           v3       None  2021-02-19 21:35:03  2023-03-21 21:35:03   \n",
       "\n",
       "      cert_validity_days     cert_ip_dst  cert_ip_src  cert_tcp_dstport  \\\n",
       "21903           760 days  67.205.150.252  54.85.54.49             50499   \n",
       "\n",
       "       cert_tcp_srcport          issuer_CN issuer_O  issuer_OUnit issuer_C  \\\n",
       "21903               443  Roku Server CA G2     Roku           NaN       US   \n",
       "\n",
       "                  subject_CN  subject_O  subject_OUnit subject_C  \\\n",
       "21903  configsvc.cs.roku.com  Roku Inc.            NaN        US   \n",
       "\n",
       "                  cert_sig_alg if_weak_sig_alg  cert_loc  cert_chain_len  \\\n",
       "21903  sha256WithRSAEncryption            None         0               3   \n",
       "\n",
       "                                                                                                                                                                                                  chain_issuer  \\\n",
       "21903  [rdnSequence: 3 items (id-at-commonName=Roku Server CA G2,id-at-organizationName=Roku, Inc.,id-at-countryName=US), rdnSequence: 3 items (id-at-commonName=Roku Root CA G2,id-at-organizationName=Rok...   \n",
       "\n",
       "           chain_issuer_O  \\\n",
       "21903  [Roku, Roku, Roku]   \n",
       "\n",
       "                                             chain_issuer_CN  \\\n",
       "21903  [Roku Server CA G2, Roku Root CA G2, Roku Root CA G2]   \n",
       "\n",
       "                                                                                                                                                                                                 chain_subject  \\\n",
       "21903  [rdnSequence: 5 items (id-at-commonName=configsvc.cs.roku.com,id-at-organizationName=Roku Inc.,id-at-localityName=Los Gatos,id-at-stateOrProvinceName=California,id-at-countryName=US), rdnSequence:...   \n",
       "\n",
       "               chain_subject_O  \\\n",
       "21903  [Roku Inc., Roku, Roku]   \n",
       "\n",
       "                                                  chain_subject_CN  \\\n",
       "21903  [configsvc.cs.roku.com, Roku Server CA G2, Roku Root CA G2]   \n",
       "\n",
       "      chain_basicConstraintsCA chain_ifKeyCertSign  \\\n",
       "21903          [nan, 1.0, 1.0]  [None, None, None]   \n",
       "\n",
       "                                                                                                                  chain_keyIdentifier  \\\n",
       "21903  [fa343c74c017168dfe40320f34d04ac9393c4105, 61a8cc62c0cdc9b57c4ff87a64c7b2fa2c767660, 61a8cc62c0cdc9b57c4ff87a64c7b2fa2c767660]   \n",
       "\n",
       "                                                                                                              chain_subjectIdentifier  \\\n",
       "21903  [a4780a013e1ddfede69efd343f101b0626bf7c77, fa343c74c017168dfe40320f34d04ac9393c4105, 61a8cc62c0cdc9b57c4ff87a64c7b2fa2c767660]   \n",
       "\n",
       "      chain_serial_from_ber          chain_serial_from_x509af  \\\n",
       "21903    [None, None, None]  [107d, 1000, 00dbc3088f01510c0b]   \n",
       "\n",
       "      server_name_indication  if_tls_fallback  if_weak_sigalg  \\\n",
       "21903  configsvc.cs.roku.com            False           False   \n",
       "\n",
       "                          server_ciphersuite server_ciphersuite_code  \\\n",
       "21903  TLS_ECDHE_RSA_WITH_AES_256_GCM_SHA384                    c030   \n",
       "\n",
       "      server_compression_method server_extension_type_code server_tls_version  \\\n",
       "21903                     ['0']       ['0', '65281', '11']            TLS 1.2   \n",
       "\n",
       "                                           server_extension_type  \\\n",
       "21903  ['server_name', 'renegotiation_info', 'ec_point_formats']   \n",
       "\n",
       "       if_weak_cipher serial_num  response  cert_days    device_id  \\\n",
       "21903           False       107d     False        760  s3b5e72e94b   \n",
       "\n",
       "                         sni device_vendor device_name          user_key  \n",
       "21903  configsvc.cs.roku.com           tcl        roku  btgLK4a3MMdhg5c6  "
      ]
     },
     "execution_count": 154,
     "metadata": {},
     "output_type": "execute_result"
    }
   ],
   "source": [
    "dev_dropcol.sample(1)"
   ]
  },
  {
   "cell_type": "code",
   "execution_count": 155,
   "id": "dependent-assets",
   "metadata": {},
   "outputs": [],
   "source": [
    "dev_dropcol['device_vendor'] = dev_dropcol['device_vendor'].fillna(\"missing\")"
   ]
  },
  {
   "cell_type": "code",
   "execution_count": 156,
   "id": "ecological-honor",
   "metadata": {},
   "outputs": [],
   "source": [
    "# modified: previously no 'device_id'\n",
    "df_leafval = dev_dropcol.loc[dev_dropcol['device_vendor'] != 'missing']\\\n",
    "                            [['device_vendor', 'sni', 'serial_num', 'response', \\\n",
    "                              'cert_days', 'issuer_O', 'issuer_CN', 'device_id', 'chain_issuer_O', 'chain_issuer_CN']]"
   ]
  },
  {
   "cell_type": "code",
   "execution_count": 157,
   "id": "curious-danger",
   "metadata": {},
   "outputs": [],
   "source": [
    "df_leafval_drop = df_leafval.drop_duplicates(['device_vendor', 'sni', 'serial_num', 'issuer_O', 'issuer_CN', 'device_id', 'response', 'cert_days'])"
   ]
  },
  {
   "cell_type": "code",
   "execution_count": 158,
   "id": "gross-spouse",
   "metadata": {},
   "outputs": [
    {
     "data": {
      "text/plain": [
       "(24480, 10)"
      ]
     },
     "execution_count": 158,
     "metadata": {},
     "output_type": "execute_result"
    }
   ],
   "source": [
    "df_leafval_drop.shape"
   ]
  },
  {
   "cell_type": "code",
   "execution_count": null,
   "id": "sharing-window",
   "metadata": {},
   "outputs": [],
   "source": []
  },
  {
   "cell_type": "code",
   "execution_count": 159,
   "id": "authentic-heritage",
   "metadata": {},
   "outputs": [],
   "source": [
    "df_leafval_temp = df_leafval_drop.groupby(['device_vendor'])['sni'].agg('count').reset_index(name='count')"
   ]
  },
  {
   "cell_type": "code",
   "execution_count": 160,
   "id": "authorized-jason",
   "metadata": {},
   "outputs": [],
   "source": [
    "df_leafval_merge = df_leafval_drop.merge(df_leafval_temp, how='inner', on='device_vendor')"
   ]
  },
  {
   "cell_type": "code",
   "execution_count": 161,
   "id": "assumed-reflection",
   "metadata": {},
   "outputs": [],
   "source": [
    "df_leafval_sort = df_leafval_merge.sort_values(by='count', ascending=False)"
   ]
  },
  {
   "cell_type": "code",
   "execution_count": 162,
   "id": "conceptual-aberdeen",
   "metadata": {},
   "outputs": [],
   "source": [
    "df_leafval_sort['certday_log10'] = df_leafval_sort['cert_days'].apply(lambda x: np.log10(x))"
   ]
  },
  {
   "cell_type": "code",
   "execution_count": 163,
   "id": "mathematical-poetry",
   "metadata": {},
   "outputs": [
    {
     "data": {
      "text/plain": [
       "(24480, 12)"
      ]
     },
     "execution_count": 163,
     "metadata": {},
     "output_type": "execute_result"
    }
   ],
   "source": [
    "df_leafval_sort.shape"
   ]
  },
  {
   "cell_type": "markdown",
   "id": "respected-camera",
   "metadata": {},
   "source": [
    "#### Common & dev-spec issuer"
   ]
  },
  {
   "cell_type": "code",
   "execution_count": 164,
   "id": "sustained-hawaii",
   "metadata": {},
   "outputs": [],
   "source": [
    "public_lis = ['DigiCert', 'Amazon', 'Google Trust Services', 'Microsoft Corporation', 'Sectigo', 'GlobalSign nv-sa', \\\n",
    "              'GoDaddy.com', \"Let's Encrypt\", \"Network Solutions\", \"Entrust\", \"Apple\", \"COMODO CA\", \\\n",
    "              \"COMODO Japan\", \"ZeroSSL\", \"Gandi\", \"TAIWAN-CA\", \"cPanel\", \"GlobalSign\", \"Starfield Technologies\", \\\n",
    "              \"The USERTRUST Network\", \"AddTrust AB\", \"Comodo CA Limited\", \"COMODO CA Limited\", \"The Go Daddy Group\", \\\n",
    "              \"Comodo Japan\", \"Sectigo Limited\", \"Apple Inc.\", \"DigiCert Inc\", \"Baltimore\", \"VeriSign\", \"Network Solutions L.L.C.\", \\\n",
    "              \"Symantec Corporation\", \"Google Trust Services LLC\", \"Trustwave Holdings\", \"Entrust.net\", \"Internet Security Research Group\", \\\n",
    "              \"Digital Signature Trust Co.\", \"SecureTrust Corporation\"]"
   ]
  },
  {
   "cell_type": "code",
   "execution_count": 165,
   "id": "smart-latest",
   "metadata": {},
   "outputs": [],
   "source": [
    "def chain_analysis(issuer_O_lis):\n",
    "    ret = []\n",
    "    for issuer_O in issuer_O_lis:       \n",
    "        if issuer_O in public_lis:\n",
    "            ret.append(\"public\")\n",
    "        else:\n",
    "            ret.append(\"private\")\n",
    "    return '+'.join([str(v) for v in ret])"
   ]
  },
  {
   "cell_type": "code",
   "execution_count": 166,
   "id": "joint-carpet",
   "metadata": {},
   "outputs": [],
   "source": [
    "df_leafval_sort['issuer_O'] = df_leafval_sort['issuer_O'].fillna(\"missing\")"
   ]
  },
  {
   "cell_type": "code",
   "execution_count": 167,
   "id": "closing-abraham",
   "metadata": {},
   "outputs": [],
   "source": [
    "def parse_issuer(text):\n",
    "    if text.startswith('mediasoup'):\n",
    "        return \"mediasoup\"\n",
    "    return text.replace('\\\\', '').replace('\\\"', '')\\\n",
    "               .split(\" Inc\")[0].split(\" INC\")[0].split(\" L.L.C.\")[0].split(\" LLC\")[0].split(\" llc\")[0].split(\" Hue\")[0]\\\n",
    "               .split(\" Co.\")[0].split(\" CO.\")[0].split(\" Ltd\")[0].split(\" Limited\")[0].split(\" GmbH\")[0].split(\" inc\")[0].split(\" CA\")[0]"
   ]
  },
  {
   "cell_type": "code",
   "execution_count": 168,
   "id": "suffering-angel",
   "metadata": {},
   "outputs": [],
   "source": [
    "df_leafval_sort['issuer_O'] = df_leafval_sort['issuer_O'].apply(lambda x: parse_issuer(x))"
   ]
  },
  {
   "cell_type": "code",
   "execution_count": 169,
   "id": "thick-utilization",
   "metadata": {},
   "outputs": [
    {
     "data": {
      "text/html": [
       "<div>\n",
       "<style scoped>\n",
       "    .dataframe tbody tr th:only-of-type {\n",
       "        vertical-align: middle;\n",
       "    }\n",
       "\n",
       "    .dataframe tbody tr th {\n",
       "        vertical-align: top;\n",
       "    }\n",
       "\n",
       "    .dataframe thead th {\n",
       "        text-align: right;\n",
       "    }\n",
       "</style>\n",
       "<table border=\"1\" class=\"dataframe\">\n",
       "  <thead>\n",
       "    <tr style=\"text-align: right;\">\n",
       "      <th></th>\n",
       "      <th>device_vendor</th>\n",
       "      <th>sni</th>\n",
       "      <th>serial_num</th>\n",
       "      <th>response</th>\n",
       "      <th>cert_days</th>\n",
       "      <th>issuer_O</th>\n",
       "      <th>issuer_CN</th>\n",
       "      <th>device_id</th>\n",
       "      <th>chain_issuer_O</th>\n",
       "      <th>chain_issuer_CN</th>\n",
       "      <th>count</th>\n",
       "      <th>certday_log10</th>\n",
       "    </tr>\n",
       "  </thead>\n",
       "  <tbody>\n",
       "    <tr>\n",
       "      <th>16522</th>\n",
       "      <td>amazon</td>\n",
       "      <td>secure.netflix.com</td>\n",
       "      <td>0efe36876de5c9be6700dd194a011588</td>\n",
       "      <td>False</td>\n",
       "      <td>31</td>\n",
       "      <td>Netflix</td>\n",
       "      <td>Netflix Public SHA2 RSA CA 3</td>\n",
       "      <td>s32b8bebcb1</td>\n",
       "      <td>[Netflix, VeriSign]</td>\n",
       "      <td>[Netflix Public SHA2 RSA CA 3, VeriSign Class 3 Public Primary Certification ]</td>\n",
       "      <td>7485</td>\n",
       "      <td>1.491362</td>\n",
       "    </tr>\n",
       "  </tbody>\n",
       "</table>\n",
       "</div>"
      ],
      "text/plain": [
       "      device_vendor                 sni                        serial_num  \\\n",
       "16522        amazon  secure.netflix.com  0efe36876de5c9be6700dd194a011588   \n",
       "\n",
       "       response  cert_days issuer_O                     issuer_CN  \\\n",
       "16522     False         31  Netflix  Netflix Public SHA2 RSA CA 3   \n",
       "\n",
       "         device_id       chain_issuer_O  \\\n",
       "16522  s32b8bebcb1  [Netflix, VeriSign]   \n",
       "\n",
       "                                                                      chain_issuer_CN  \\\n",
       "16522  [Netflix Public SHA2 RSA CA 3, VeriSign Class 3 Public Primary Certification ]   \n",
       "\n",
       "       count  certday_log10  \n",
       "16522   7485       1.491362  "
      ]
     },
     "execution_count": 169,
     "metadata": {},
     "output_type": "execute_result"
    }
   ],
   "source": [
    "df_leafval_sort.sample(1)"
   ]
  },
  {
   "cell_type": "code",
   "execution_count": 170,
   "id": "sound-impression",
   "metadata": {},
   "outputs": [],
   "source": [
    "#df_leafval_sort['chain_issuer_O'] = df_leafval_sort['chain_issuer_O'].apply(lambda x: eval(x))"
   ]
  },
  {
   "cell_type": "code",
   "execution_count": 171,
   "id": "consecutive-greene",
   "metadata": {},
   "outputs": [],
   "source": [
    "df_leafval_sort['chain_issuer'] = df_leafval_sort['chain_issuer_O'].apply(lambda x: chain_analysis(x))"
   ]
  },
  {
   "cell_type": "code",
   "execution_count": 172,
   "id": "outer-determination",
   "metadata": {},
   "outputs": [
    {
     "data": {
      "text/plain": [
       "public+public+public               8595\n",
       "public+public                      7795\n",
       "public+public+public+public        4469\n",
       "private+public                     2247\n",
       "private+private                     666\n",
       "private                             460\n",
       "private+private+private             220\n",
       "private+private+private+private      28\n",
       "Name: chain_issuer, dtype: int64"
      ]
     },
     "execution_count": 172,
     "metadata": {},
     "output_type": "execute_result"
    }
   ],
   "source": [
    "df_leafval_sort['chain_issuer'].value_counts()"
   ]
  },
  {
   "cell_type": "code",
   "execution_count": 173,
   "id": "creative-donor",
   "metadata": {},
   "outputs": [
    {
     "data": {
      "text/plain": [
       "Series([], Name: chain_issuer_O, dtype: object)"
      ]
     },
     "execution_count": 173,
     "metadata": {},
     "output_type": "execute_result"
    }
   ],
   "source": [
    "df_leafval_sort.loc[df_leafval_sort['chain_issuer'] == \"public+private+private\"]['chain_issuer_O']"
   ]
  },
  {
   "cell_type": "code",
   "execution_count": 174,
   "id": "sunset-hierarchy",
   "metadata": {},
   "outputs": [],
   "source": [
    "def cate_chain(chain_issuer):\n",
    "    if chain_issuer == \"public+public+public\" or \\\n",
    "     chain_issuer == \"public+public\" or \\\n",
    "     chain_issuer == \"public+public+public+public\":\n",
    "        return \"Public trust leaf and root certificates\"\n",
    "    \n",
    "    elif chain_issuer == \"private+public\":\n",
    "        return \"Private leaf, public trust root certificates\"\n",
    "    \n",
    "    else:\n",
    "        return \"Private leaf and root certificates\""
   ]
  },
  {
   "cell_type": "code",
   "execution_count": 175,
   "id": "strong-developer",
   "metadata": {},
   "outputs": [],
   "source": [
    "df_leafval_sort['chain_category'] = df_leafval_sort['chain_issuer'].apply(lambda x: cate_chain(x))"
   ]
  },
  {
   "cell_type": "code",
   "execution_count": 176,
   "id": "unlikely-television",
   "metadata": {},
   "outputs": [
    {
     "data": {
      "text/plain": [
       "Public trust leaf and root certificates         20859\n",
       "Private leaf, public trust root certificates     2247\n",
       "Private leaf and root certificates               1374\n",
       "Name: chain_category, dtype: int64"
      ]
     },
     "execution_count": 176,
     "metadata": {},
     "output_type": "execute_result"
    }
   ],
   "source": [
    "df_leafval_sort['chain_category'].value_counts()"
   ]
  },
  {
   "cell_type": "code",
   "execution_count": 177,
   "id": "radio-october",
   "metadata": {},
   "outputs": [],
   "source": [
    "def jitter(x):\n",
    "    return x + random.uniform(0, .5) - .25"
   ]
  },
  {
   "cell_type": "code",
   "execution_count": 178,
   "id": "sudden-messaging",
   "metadata": {},
   "outputs": [],
   "source": [
    "df_leafval_sort['device_vendor'] = df_leafval_sort['device_vendor'].apply(lambda x: x.capitalize())"
   ]
  },
  {
   "cell_type": "code",
   "execution_count": 179,
   "id": "indian-semester",
   "metadata": {},
   "outputs": [
    {
     "name": "stderr",
     "output_type": "stream",
     "text": [
      "<ipython-input-179-b6a8cc46603f>:1: SettingWithCopyWarning: \n",
      "A value is trying to be set on a copy of a slice from a DataFrame\n",
      "\n",
      "See the caveats in the documentation: https://pandas.pydata.org/pandas-docs/stable/user_guide/indexing.html#returning-a-view-versus-a-copy\n",
      "  df_leafval_sort.device_vendor[df_leafval_sort['device_vendor'].str.contains('Lg')] = 'LG'\n",
      "<ipython-input-179-b6a8cc46603f>:2: SettingWithCopyWarning: \n",
      "A value is trying to be set on a copy of a slice from a DataFrame\n",
      "\n",
      "See the caveats in the documentation: https://pandas.pydata.org/pandas-docs/stable/user_guide/indexing.html#returning-a-view-versus-a-copy\n",
      "  df_leafval_sort.device_vendor[df_leafval_sort['device_vendor'].str.contains('Directv')] = 'DirecTV'\n",
      "<ipython-input-179-b6a8cc46603f>:3: SettingWithCopyWarning: \n",
      "A value is trying to be set on a copy of a slice from a DataFrame\n",
      "\n",
      "See the caveats in the documentation: https://pandas.pydata.org/pandas-docs/stable/user_guide/indexing.html#returning-a-view-versus-a-copy\n",
      "  df_leafval_sort.device_vendor[df_leafval_sort['device_vendor'].str.contains('Dish network')] = 'Dish Network'\n",
      "<ipython-input-179-b6a8cc46603f>:4: SettingWithCopyWarning: \n",
      "A value is trying to be set on a copy of a slice from a DataFrame\n",
      "\n",
      "See the caveats in the documentation: https://pandas.pydata.org/pandas-docs/stable/user_guide/indexing.html#returning-a-view-versus-a-copy\n",
      "  df_leafval_sort.device_vendor[df_leafval_sort['device_vendor'].str.contains('Tcl')] = 'TCL'\n",
      "<ipython-input-179-b6a8cc46603f>:5: SettingWithCopyWarning: \n",
      "A value is trying to be set on a copy of a slice from a DataFrame\n",
      "\n",
      "See the caveats in the documentation: https://pandas.pydata.org/pandas-docs/stable/user_guide/indexing.html#returning-a-view-versus-a-copy\n",
      "  df_leafval_sort.device_vendor[df_leafval_sort['device_vendor'].str.contains('Tplink')] = 'TP-Link'\n",
      "<ipython-input-179-b6a8cc46603f>:6: SettingWithCopyWarning: \n",
      "A value is trying to be set on a copy of a slice from a DataFrame\n",
      "\n",
      "See the caveats in the documentation: https://pandas.pydata.org/pandas-docs/stable/user_guide/indexing.html#returning-a-view-versus-a-copy\n",
      "  df_leafval_sort.device_vendor[df_leafval_sort['device_vendor'].str.contains('Western digital')] = 'Western Digital'\n",
      "<ipython-input-179-b6a8cc46603f>:7: SettingWithCopyWarning: \n",
      "A value is trying to be set on a copy of a slice from a DataFrame\n",
      "\n",
      "See the caveats in the documentation: https://pandas.pydata.org/pandas-docs/stable/user_guide/indexing.html#returning-a-view-versus-a-copy\n",
      "  df_leafval_sort.device_vendor[df_leafval_sort['device_vendor'].str.contains('Hp')] = 'HP'\n",
      "<ipython-input-179-b6a8cc46603f>:8: SettingWithCopyWarning: \n",
      "A value is trying to be set on a copy of a slice from a DataFrame\n",
      "\n",
      "See the caveats in the documentation: https://pandas.pydata.org/pandas-docs/stable/user_guide/indexing.html#returning-a-view-versus-a-copy\n",
      "  df_leafval_sort.device_vendor[df_leafval_sort['device_vendor'].str.contains('Ihome')] = 'iHome'\n",
      "<ipython-input-179-b6a8cc46603f>:9: SettingWithCopyWarning: \n",
      "A value is trying to be set on a copy of a slice from a DataFrame\n",
      "\n",
      "See the caveats in the documentation: https://pandas.pydata.org/pandas-docs/stable/user_guide/indexing.html#returning-a-view-versus-a-copy\n",
      "  df_leafval_sort.device_vendor[df_leafval_sort['device_vendor'].str.contains('Ikea')] = 'IKEA'\n",
      "<ipython-input-179-b6a8cc46603f>:10: SettingWithCopyWarning: \n",
      "A value is trying to be set on a copy of a slice from a DataFrame\n",
      "\n",
      "See the caveats in the documentation: https://pandas.pydata.org/pandas-docs/stable/user_guide/indexing.html#returning-a-view-versus-a-copy\n",
      "  df_leafval_sort.device_vendor[df_leafval_sort['device_vendor'].str.contains('Irobot')] = 'iRobot'\n",
      "<ipython-input-179-b6a8cc46603f>:11: SettingWithCopyWarning: \n",
      "A value is trying to be set on a copy of a slice from a DataFrame\n",
      "\n",
      "See the caveats in the documentation: https://pandas.pydata.org/pandas-docs/stable/user_guide/indexing.html#returning-a-view-versus-a-copy\n",
      "  df_leafval_sort.device_vendor[df_leafval_sort['device_vendor'].str.contains('Netgear')] = 'NETGEAR'\n",
      "<ipython-input-179-b6a8cc46603f>:12: SettingWithCopyWarning: \n",
      "A value is trying to be set on a copy of a slice from a DataFrame\n",
      "\n",
      "See the caveats in the documentation: https://pandas.pydata.org/pandas-docs/stable/user_guide/indexing.html#returning-a-view-versus-a-copy\n",
      "  df_leafval_sort.device_vendor[df_leafval_sort['device_vendor'].str.contains('Qnap')] = 'QNAP'\n",
      "<ipython-input-179-b6a8cc46603f>:13: SettingWithCopyWarning: \n",
      "A value is trying to be set on a copy of a slice from a DataFrame\n",
      "\n",
      "See the caveats in the documentation: https://pandas.pydata.org/pandas-docs/stable/user_guide/indexing.html#returning-a-view-versus-a-copy\n",
      "  df_leafval_sort.device_vendor[df_leafval_sort['device_vendor'].str.contains('Sleep number')] = 'Sleep Number'\n",
      "<ipython-input-179-b6a8cc46603f>:14: SettingWithCopyWarning: \n",
      "A value is trying to be set on a copy of a slice from a DataFrame\n",
      "\n",
      "See the caveats in the documentation: https://pandas.pydata.org/pandas-docs/stable/user_guide/indexing.html#returning-a-view-versus-a-copy\n",
      "  df_leafval_sort.device_vendor[df_leafval_sort['device_vendor'].str.contains('Echobee')] = 'echobee'\n",
      "<ipython-input-179-b6a8cc46603f>:15: SettingWithCopyWarning: \n",
      "A value is trying to be set on a copy of a slice from a DataFrame\n",
      "\n",
      "See the caveats in the documentation: https://pandas.pydata.org/pandas-docs/stable/user_guide/indexing.html#returning-a-view-versus-a-copy\n",
      "  df_leafval_sort.device_vendor[df_leafval_sort['device_vendor'].str.contains('Idevices')] = 'iDevices'\n",
      "<ipython-input-179-b6a8cc46603f>:16: SettingWithCopyWarning: \n",
      "A value is trying to be set on a copy of a slice from a DataFrame\n",
      "\n",
      "See the caveats in the documentation: https://pandas.pydata.org/pandas-docs/stable/user_guide/indexing.html#returning-a-view-versus-a-copy\n",
      "  df_leafval_sort.device_vendor[df_leafval_sort['device_vendor'].str.contains('Vmware')] = 'VMware'\n",
      "<ipython-input-179-b6a8cc46603f>:17: SettingWithCopyWarning: \n",
      "A value is trying to be set on a copy of a slice from a DataFrame\n",
      "\n",
      "See the caveats in the documentation: https://pandas.pydata.org/pandas-docs/stable/user_guide/indexing.html#returning-a-view-versus-a-copy\n",
      "  df_leafval_sort.device_vendor[df_leafval_sort['device_vendor'].str.contains('Hdhomerun')] = 'HDHomeRun'\n",
      "<ipython-input-179-b6a8cc46603f>:18: SettingWithCopyWarning: \n",
      "A value is trying to be set on a copy of a slice from a DataFrame\n",
      "\n",
      "See the caveats in the documentation: https://pandas.pydata.org/pandas-docs/stable/user_guide/indexing.html#returning-a-view-versus-a-copy\n",
      "  df_leafval_sort.device_vendor[df_leafval_sort['device_vendor'].str.contains('Ecobee')] = 'ecobee'\n",
      "<ipython-input-179-b6a8cc46603f>:19: SettingWithCopyWarning: \n",
      "A value is trying to be set on a copy of a slice from a DataFrame\n",
      "\n",
      "See the caveats in the documentation: https://pandas.pydata.org/pandas-docs/stable/user_guide/indexing.html#returning-a-view-versus-a-copy\n",
      "  df_leafval_sort.device_vendor[df_leafval_sort['device_vendor'].str.contains('Texas instruments')] = 'Texas Instruments'\n",
      "<ipython-input-179-b6a8cc46603f>:20: SettingWithCopyWarning: \n",
      "A value is trying to be set on a copy of a slice from a DataFrame\n",
      "\n",
      "See the caveats in the documentation: https://pandas.pydata.org/pandas-docs/stable/user_guide/indexing.html#returning-a-view-versus-a-copy\n",
      "  df_leafval_sort.device_vendor[df_leafval_sort['device_vendor'].str.contains('Ubiquity')] = 'Ubiquiti'\n",
      "<ipython-input-179-b6a8cc46603f>:21: SettingWithCopyWarning: \n",
      "A value is trying to be set on a copy of a slice from a DataFrame\n",
      "\n",
      "See the caveats in the documentation: https://pandas.pydata.org/pandas-docs/stable/user_guide/indexing.html#returning-a-view-versus-a-copy\n",
      "  df_leafval_sort.device_vendor[df_leafval_sort['device_vendor'].str.contains('Silicondust')] = 'SiliconDust'\n"
     ]
    }
   ],
   "source": [
    "df_leafval_sort.device_vendor[df_leafval_sort['device_vendor'].str.contains('Lg')] = 'LG'\n",
    "df_leafval_sort.device_vendor[df_leafval_sort['device_vendor'].str.contains('Directv')] = 'DirecTV'\n",
    "df_leafval_sort.device_vendor[df_leafval_sort['device_vendor'].str.contains('Dish network')] = 'Dish Network'\n",
    "df_leafval_sort.device_vendor[df_leafval_sort['device_vendor'].str.contains('Tcl')] = 'TCL'\n",
    "df_leafval_sort.device_vendor[df_leafval_sort['device_vendor'].str.contains('Tplink')] = 'TP-Link'\n",
    "df_leafval_sort.device_vendor[df_leafval_sort['device_vendor'].str.contains('Western digital')] = 'Western Digital'\n",
    "df_leafval_sort.device_vendor[df_leafval_sort['device_vendor'].str.contains('Hp')] = 'HP'\n",
    "df_leafval_sort.device_vendor[df_leafval_sort['device_vendor'].str.contains('Ihome')] = 'iHome'\n",
    "df_leafval_sort.device_vendor[df_leafval_sort['device_vendor'].str.contains('Ikea')] = 'IKEA'\n",
    "df_leafval_sort.device_vendor[df_leafval_sort['device_vendor'].str.contains('Irobot')] = 'iRobot'\n",
    "df_leafval_sort.device_vendor[df_leafval_sort['device_vendor'].str.contains('Netgear')] = 'NETGEAR'\n",
    "df_leafval_sort.device_vendor[df_leafval_sort['device_vendor'].str.contains('Qnap')] = 'QNAP'\n",
    "df_leafval_sort.device_vendor[df_leafval_sort['device_vendor'].str.contains('Sleep number')] = 'Sleep Number'\n",
    "df_leafval_sort.device_vendor[df_leafval_sort['device_vendor'].str.contains('Echobee')] = 'echobee'\n",
    "df_leafval_sort.device_vendor[df_leafval_sort['device_vendor'].str.contains('Idevices')] = 'iDevices'\n",
    "df_leafval_sort.device_vendor[df_leafval_sort['device_vendor'].str.contains('Vmware')] = 'VMware'\n",
    "df_leafval_sort.device_vendor[df_leafval_sort['device_vendor'].str.contains('Hdhomerun')] = 'HDHomeRun'\n",
    "df_leafval_sort.device_vendor[df_leafval_sort['device_vendor'].str.contains('Ecobee')] = 'ecobee'\n",
    "df_leafval_sort.device_vendor[df_leafval_sort['device_vendor'].str.contains('Texas instruments')] = 'Texas Instruments'\n",
    "df_leafval_sort.device_vendor[df_leafval_sort['device_vendor'].str.contains('Ubiquity')] = 'Ubiquiti'\n",
    "df_leafval_sort.device_vendor[df_leafval_sort['device_vendor'].str.contains('Silicondust')] = 'SiliconDust'"
   ]
  },
  {
   "cell_type": "code",
   "execution_count": 180,
   "id": "manual-cornwall",
   "metadata": {},
   "outputs": [
    {
     "data": {
      "text/plain": [
       "Amazon               7485\n",
       "Google               4837\n",
       "Roku                 3196\n",
       "Samsung              1876\n",
       "Sony                 1384\n",
       "LG                    825\n",
       "Nvidia                633\n",
       "TCL                   494\n",
       "Tivo                  405\n",
       "Sonos                 366\n",
       "Synology              338\n",
       "HP                    296\n",
       "Xiaomi                241\n",
       "Cisco                 232\n",
       "Insignia              209\n",
       "Nintendo              201\n",
       "Vizio                 159\n",
       "Logitech              130\n",
       "Wyze                  104\n",
       "Sharp                 103\n",
       "Wink                  101\n",
       "QNAP                   99\n",
       "Brother                69\n",
       "TP-Link                59\n",
       "Lutron                 57\n",
       "Philips                52\n",
       "Tesla                  52\n",
       "Netatmo                34\n",
       "Dish Network           33\n",
       "Amcrest                32\n",
       "Denon                  32\n",
       "Panasonic              30\n",
       "NETGEAR                28\n",
       "Pioneer                25\n",
       "ecobee                 21\n",
       "Sense                  21\n",
       "Onkyo                  20\n",
       "IKEA                   18\n",
       "Canary                 17\n",
       "iRobot                 17\n",
       "SiliconDust            14\n",
       "Sky                    13\n",
       "Arlo                   10\n",
       "Texas Instruments      10\n",
       "DirecTV                10\n",
       "iDevices                9\n",
       "Humax                   8\n",
       "Canon                   7\n",
       "Withings                7\n",
       "Fing                    6\n",
       "Western Digital         6\n",
       "Epson                   6\n",
       "Ubiquiti                4\n",
       "Bose                    4\n",
       "Sleep Number            4\n",
       "Nanoleaf                4\n",
       "Obihai                  4\n",
       "Vera                    4\n",
       "Tuya                    3\n",
       "Unknown                 3\n",
       "VMware                  3\n",
       "Skybell                 3\n",
       "Marantz                 2\n",
       "HDHomeRun               2\n",
       "Belkin                  2\n",
       "Yamaha                  1\n",
       "Name: device_vendor, dtype: int64"
      ]
     },
     "execution_count": 180,
     "metadata": {},
     "output_type": "execute_result"
    }
   ],
   "source": [
    "df_leafval_sort['device_vendor'].value_counts()"
   ]
  },
  {
   "cell_type": "code",
   "execution_count": 181,
   "id": "multiple-appraisal",
   "metadata": {},
   "outputs": [],
   "source": [
    "df_leafval_sort = df_leafval_sort.loc[df_leafval_sort['device_vendor'] != \"Unknown\"]"
   ]
  },
  {
   "cell_type": "code",
   "execution_count": 182,
   "id": "agreed-villa",
   "metadata": {},
   "outputs": [],
   "source": [
    "#df_leafval_sort.loc[df_leafval_sort.issuer_O == \"Roku\", \"response\"] = False\n",
    "#df_leafval_sort.loc[df_leafval_sort.issuer_O == \"Nintendo of America\", \"response\"] = False\n",
    "#df_leafval_sort.loc[df_leafval_sort.issuer_O == \"Sony Computer Entertainment\", \"response\"] = False\n",
    "#df_leafval_sort.loc[df_leafval_sort.issuer_O == \"Samsung Electronics\", \"response\"] = False\n",
    "#df_leafval_sort.loc[df_leafval_sort.issuer_O == \"Sense Labs\", \"response\"] = False\n",
    "#df_leafval_sort.loc[df_leafval_sort.issuer_O == \"LG Electronics\", \"response\"] = False\n",
    "#df_leafval_sort.loc[df_leafval_sort.issuer_O == \"Philips\", \"response\"] = False\n",
    "#df_leafval_sort.loc[df_leafval_sort.issuer_O == \"ecobee\", \"response\"] = False"
   ]
  },
  {
   "cell_type": "code",
   "execution_count": 183,
   "id": "active-tokyo",
   "metadata": {},
   "outputs": [],
   "source": [
    "vendor_ids = {'Amazon': 1, 'Samsung':2, 'Roku': 3, 'Google': 4, 'LG':5, \\\n",
    "            'Sony': 6, 'Nvidia': 7, 'Cisco': 8, 'Tivo': 9, 'Xiaomi': 10, \\\n",
    "            'HP': 11, 'Insignia': 12, 'TCL': 13, 'Wink': 14, 'Vizio': 15, \\\n",
    "            'Sharp': 16, 'Brother': 17, 'Synology': 18, 'Lutron': 19, 'Sonos': 20, \\\n",
    "            'Nintendo': 21, 'Amcrest': 22, 'TP-Link': 23, 'Panasonic': 24, 'Tesla': 25, \\\n",
    "            'Logitech': 26, 'Philips': 27, 'Netatmo': 28, 'Dish Network': 29, \\\n",
    "            'Sky': 30, 'QNAP': 31, 'Pioneer': 32, 'Onkyo': 33, \\\n",
    "            'iDevices': 34, 'NETGEAR': 35, 'Humax': 36, 'iRobot': 37, \\\n",
    "            'Wyze': 38, 'DirecTV': 39, 'Sense':40, \\\n",
    "             'Ubiquiti':41, 'ecobee':42, 'Texas Instruments':43, 'Arlo':44, \\\n",
    "             'Denon':45, 'VMware':46, 'Canon':47, 'Epson':48,\\\n",
    "             'IKEA':49, 'Western Digital':50, 'Belkin':51, 'Bose':52, \\\n",
    "             'SiliconDust':53, 'Withings': 54, 'HDHomeRun':55, 'Marantz':56, 'Canary':57, \\\n",
    "             'Vera':58, 'Yamaha':59, 'Tuya':60, 'Fing':61, 'Nanoleaf':62, \\\n",
    "             'Sleep Number':63, 'Obihai':64, 'Skybell':65}\n",
    "\n",
    "df_leafval_sort['vendor_id'] = df_leafval_sort['device_vendor'].apply(lambda x: vendor_ids[x])\n",
    "df_leafval_sort['jittered'] = df_leafval_sort['vendor_id'].apply(lambda x: jitter(x))"
   ]
  },
  {
   "cell_type": "code",
   "execution_count": 184,
   "id": "strategic-asset",
   "metadata": {},
   "outputs": [],
   "source": [
    "df_leafval_sort = df_leafval_sort.rename(columns={'response': 'In CT', 'chain_category': 'Chain status'})"
   ]
  },
  {
   "cell_type": "code",
   "execution_count": 185,
   "id": "balanced-helping",
   "metadata": {},
   "outputs": [
    {
     "data": {
      "text/plain": [
       "Public trust leaf and root certificates         20856\n",
       "Private leaf, public trust root certificates     2247\n",
       "Private leaf and root certificates               1374\n",
       "Name: Chain status, dtype: int64"
      ]
     },
     "execution_count": 185,
     "metadata": {},
     "output_type": "execute_result"
    }
   ],
   "source": [
    "df_leafval_sort['Chain status'].value_counts().nlargest()"
   ]
  },
  {
   "cell_type": "code",
   "execution_count": 188,
   "id": "affecting-swedish",
   "metadata": {},
   "outputs": [
    {
     "data": {
      "text/plain": [
       "Roku            586\n",
       "Amazon          550\n",
       "Sony            201\n",
       "Samsung         186\n",
       "LG              153\n",
       "Nvidia          124\n",
       "TCL             104\n",
       "Tivo             87\n",
       "Xiaomi           27\n",
       "Dish Network     27\n",
       "Sharp            27\n",
       "Insignia         26\n",
       "Google           17\n",
       "Panasonic        17\n",
       "Brother          15\n",
       "Vizio            14\n",
       "Wink             14\n",
       "HP               13\n",
       "Amcrest          13\n",
       "Sky              12\n",
       "SiliconDust       7\n",
       "Synology          7\n",
       "QNAP              6\n",
       "Cisco             5\n",
       "Philips           4\n",
       "iRobot            1\n",
       "Humax             1\n",
       "HDHomeRun         1\n",
       "NETGEAR           1\n",
       "Lutron            1\n",
       "Name: device_vendor, dtype: int64"
      ]
     },
     "execution_count": 188,
     "metadata": {},
     "output_type": "execute_result"
    }
   ],
   "source": [
    "df_leafval_sort.loc[df_leafval_sort['Chain status'] == \"Private leaf, public trust root certificates\"]['device_vendor'].value_counts()"
   ]
  },
  {
   "cell_type": "code",
   "execution_count": 186,
   "id": "useful-christianity",
   "metadata": {},
   "outputs": [
    {
     "data": {
      "image/png": "[encoded data removed]",
      "text/plain": [
       "<Figure size 2304x864 with 1 Axes>"
      ]
     },
     "metadata": {
      "needs_background": "light"
     },
     "output_type": "display_data"
    }
   ],
   "source": [
    "fig = plt.figure(figsize=(32,12))\n",
    "#sns.despine(bottom=True, left=True)\n",
    "\n",
    "#issuer_palette = [\"#E6550D\", \"#9ECAE1\"]\n",
    "issuer_palette = [\"#6baed6\", \"#cfb838\", '#f7830f']\n",
    "markers = {False: 0, True: 3}\n",
    "\n",
    "ax = sns.scatterplot(x=\"jittered\", y=\"certday_log10\", hue=\"Chain status\", style=\"In CT\", s=150, \\\n",
    "                   palette=issuer_palette, markers=markers, \\\n",
    "                   data=df_leafval_sort, alpha=.9, linewidth=2, x_jitter=True)\n",
    "\n",
    "ax.set_xlim(0.2, 65.8)\n",
    "ax.set_xlabel('')\n",
    "ax.set_ylabel(\"$log_{10}$ (Leaf certificate validity in days)\", fontsize=30, labelpad=10)\n",
    "\n",
    "plt.yticks(fontsize=26)\n",
    "\n",
    "#ax.spines['top'].set_color('none')\n",
    "#ax.spines['right'].set_color('none')\n",
    "\n",
    "handles, labels = ax.get_legend_handles_labels()\n",
    "#ax.set_xticklabels(ax.get_xticklabels(), fontsize=14, rotation=90, ha='right', va='center',rotation_mode='anchor')\n",
    "legend = ax.legend(handles=handles[0:], labels=labels[0:], title=\"\", \\\n",
    "                   loc=\"upper right\", fancybox=True, framealpha=1, shadow=True, borderpad=.5, ncol=2,\\\n",
    "                   fontsize=25)\n",
    "legend.get_frame().set_alpha(None)\n",
    "for handle in legend.legendHandles:\n",
    "    handle.set_sizes([150.0])\n",
    "\n",
    "plt.xticks([1,2,3,4,5,6,7,8,9,10,11,12,13,14,15,16,17,18,19,20,21,22,23,24,25,\\\n",
    "            26,27,28,29,30,31,32,33,34,35,36,37,38,39,40,41,42,43,44,45,46,47,\\\n",
    "           48,49,50,51,52,53,54,55,56,57,58,59,60,61,62,63,64,65], rotation=90, fontsize=22)\n",
    "ax.set_xticklabels(['Amazon', 'Samsung', 'Roku', 'Google', 'LG', \\\n",
    "                    'Sony', 'Nvidia', 'Cisco', 'Tivo', 'Xiaomi', \\\n",
    "                    'HP', 'Insignia', 'TCL', 'Wink', 'Vizio', \\\n",
    "                    'Sharp', 'Brother', 'Synology', 'Lutron', 'Sonos', \\\n",
    "                    'Nintendo', 'Amcrest', 'TP-Link', 'Panasonic', 'Tesla', \\\n",
    "                    'Logitech', 'Philips', 'Netatmo', 'Dish Network', \\\n",
    "                    'Sky', 'QNAP', 'Pioneer', 'Onkyo', \\\n",
    "                    'iDevices', 'NETGEAR', 'Humax', 'iRobot', \\\n",
    "                    'Wyze', 'DirecTV', 'Sense', \\\n",
    "                    'Ubiquiti', 'ecobee', 'Texas Instruments', 'Arlo', \\\n",
    "                    'Denon', 'VMware', 'Canon', 'Epson',\\\n",
    "                    'IKEA', 'Western Digital', 'Belkin', 'Bose', \\\n",
    "                    'Silicondust', 'Withings', 'HDHomeRun', 'Marantz', 'Canary', \\\n",
    "                    'Vera', 'Yamaha', 'Tuya', 'Fing', 'Nanoleaf', \\\n",
    "                    'Sleep Number', 'Obihai', 'Skybell'], \\\n",
    "                    fontsize=24, rotation=90, ha='right', va='center',rotation_mode='anchor')\n",
    "\n",
    "\n",
    "fig.tight_layout()\n",
    "fig.savefig(\"figures/vendor_issuer_crtsh_ver2.png\", dpi=150)\n",
    "plt.show()"
   ]
  },
  {
   "cell_type": "code",
   "execution_count": null,
   "id": "effective-memorabilia",
   "metadata": {},
   "outputs": [],
   "source": []
  },
  {
   "cell_type": "markdown",
   "id": "special-optimization",
   "metadata": {},
   "source": [
    "### Extremely long certificates"
   ]
  },
  {
   "cell_type": "code",
   "execution_count": 81,
   "id": "humanitarian-warrior",
   "metadata": {},
   "outputs": [
    {
     "data": {
      "text/html": [
       "<div>\n",
       "<style scoped>\n",
       "    .dataframe tbody tr th:only-of-type {\n",
       "        vertical-align: middle;\n",
       "    }\n",
       "\n",
       "    .dataframe tbody tr th {\n",
       "        vertical-align: top;\n",
       "    }\n",
       "\n",
       "    .dataframe thead th {\n",
       "        text-align: right;\n",
       "    }\n",
       "</style>\n",
       "<table border=\"1\" class=\"dataframe\">\n",
       "  <thead>\n",
       "    <tr style=\"text-align: right;\">\n",
       "      <th></th>\n",
       "      <th>device_vendor</th>\n",
       "      <th>sni</th>\n",
       "      <th>serial_num</th>\n",
       "      <th>In CT</th>\n",
       "      <th>cert_days</th>\n",
       "      <th>issuer_O</th>\n",
       "      <th>issuer_CN</th>\n",
       "      <th>device_id</th>\n",
       "      <th>count</th>\n",
       "      <th>certday_log10</th>\n",
       "      <th>Issuer</th>\n",
       "      <th>vendor_id</th>\n",
       "      <th>jittered</th>\n",
       "    </tr>\n",
       "  </thead>\n",
       "  <tbody>\n",
       "    <tr>\n",
       "      <th>1826</th>\n",
       "      <td>Google</td>\n",
       "      <td>frontdoor.nest.com</td>\n",
       "      <td>47d243f1b32d248a</td>\n",
       "      <td>False</td>\n",
       "      <td>365</td>\n",
       "      <td>Nest Labs</td>\n",
       "      <td>Nest Private Server Certificate Authority</td>\n",
       "      <td>scfcc1b1d80</td>\n",
       "      <td>4837</td>\n",
       "      <td>2.562293</td>\n",
       "      <td>Untrust</td>\n",
       "      <td>4</td>\n",
       "      <td>3.941927</td>\n",
       "    </tr>\n",
       "  </tbody>\n",
       "</table>\n",
       "</div>"
      ],
      "text/plain": [
       "     device_vendor                 sni        serial_num  In CT  cert_days  \\\n",
       "1826        Google  frontdoor.nest.com  47d243f1b32d248a  False        365   \n",
       "\n",
       "       issuer_O                                  issuer_CN    device_id  \\\n",
       "1826  Nest Labs  Nest Private Server Certificate Authority  scfcc1b1d80   \n",
       "\n",
       "      count  certday_log10   Issuer  vendor_id  jittered  \n",
       "1826   4837       2.562293  Untrust          4  3.941927  "
      ]
     },
     "execution_count": 81,
     "metadata": {},
     "output_type": "execute_result"
    }
   ],
   "source": [
    "df_leafval_sort.sample(1)"
   ]
  },
  {
   "cell_type": "code",
   "execution_count": 80,
   "id": "australian-korean",
   "metadata": {},
   "outputs": [
    {
     "data": {
      "text/plain": [
       "(76, 13)"
      ]
     },
     "execution_count": 80,
     "metadata": {},
     "output_type": "execute_result"
    }
   ],
   "source": [
    "df_leafval_sort.loc[df_leafval_sort['Issuer'] == 'Untrust'].drop_duplicates(['serial_num', 'issuer_CN']).shape"
   ]
  },
  {
   "cell_type": "code",
   "execution_count": 82,
   "id": "hydraulic-mumbai",
   "metadata": {},
   "outputs": [
    {
     "data": {
      "text/plain": [
       "(35, 13)"
      ]
     },
     "execution_count": 82,
     "metadata": {},
     "output_type": "execute_result"
    }
   ],
   "source": [
    "df_leafval_sort.loc[(df_leafval_sort['Issuer'] == 'Untrust') & \\\n",
    "                    (df_leafval_sort['cert_days'] > 1826)].drop_duplicates(['serial_num', 'issuer_CN']).shape"
   ]
  },
  {
   "cell_type": "code",
   "execution_count": null,
   "id": "educated-catch",
   "metadata": {},
   "outputs": [],
   "source": []
  },
  {
   "cell_type": "code",
   "execution_count": null,
   "id": "specific-socket",
   "metadata": {},
   "outputs": [],
   "source": []
  },
  {
   "cell_type": "code",
   "execution_count": null,
   "id": "floral-hearing",
   "metadata": {},
   "outputs": [],
   "source": []
  },
  {
   "cell_type": "code",
   "execution_count": null,
   "id": "revised-violation",
   "metadata": {},
   "outputs": [],
   "source": []
  },
  {
   "cell_type": "code",
   "execution_count": 51,
   "id": "checked-range",
   "metadata": {},
   "outputs": [
    {
     "data": {
      "text/html": [
       "<div>\n",
       "<style scoped>\n",
       "    .dataframe tbody tr th:only-of-type {\n",
       "        vertical-align: middle;\n",
       "    }\n",
       "\n",
       "    .dataframe tbody tr th {\n",
       "        vertical-align: top;\n",
       "    }\n",
       "\n",
       "    .dataframe thead th {\n",
       "        text-align: right;\n",
       "    }\n",
       "</style>\n",
       "<table border=\"1\" class=\"dataframe\">\n",
       "  <thead>\n",
       "    <tr style=\"text-align: right;\">\n",
       "      <th></th>\n",
       "      <th>issuer_O</th>\n",
       "      <th>max</th>\n",
       "    </tr>\n",
       "  </thead>\n",
       "  <tbody>\n",
       "    <tr>\n",
       "      <th>14</th>\n",
       "      <td>nan</td>\n",
       "      <td>36500</td>\n",
       "    </tr>\n",
       "    <tr>\n",
       "      <th>10</th>\n",
       "      <td>Samsung Electronics</td>\n",
       "      <td>25202</td>\n",
       "    </tr>\n",
       "    <tr>\n",
       "      <th>1</th>\n",
       "      <td>EchoStar</td>\n",
       "      <td>24855</td>\n",
       "    </tr>\n",
       "    <tr>\n",
       "      <th>13</th>\n",
       "      <td>Universal Electronics Inc</td>\n",
       "      <td>21946</td>\n",
       "    </tr>\n",
       "    <tr>\n",
       "      <th>9</th>\n",
       "      <td>Samsung</td>\n",
       "      <td>10950</td>\n",
       "    </tr>\n",
       "    <tr>\n",
       "      <th>6</th>\n",
       "      <td>Nintendo of America Inc.</td>\n",
       "      <td>9300</td>\n",
       "    </tr>\n",
       "    <tr>\n",
       "      <th>4</th>\n",
       "      <td>Netflix Inc</td>\n",
       "      <td>8150</td>\n",
       "    </tr>\n",
       "    <tr>\n",
       "      <th>5</th>\n",
       "      <td>Nintendo of America</td>\n",
       "      <td>7233</td>\n",
       "    </tr>\n",
       "    <tr>\n",
       "      <th>8</th>\n",
       "      <td>Roku</td>\n",
       "      <td>5854</td>\n",
       "    </tr>\n",
       "    <tr>\n",
       "      <th>7</th>\n",
       "      <td>Obihai Technology Inc.</td>\n",
       "      <td>5475</td>\n",
       "    </tr>\n",
       "    <tr>\n",
       "      <th>3</th>\n",
       "      <td>LG Electronics Inc.</td>\n",
       "      <td>3000</td>\n",
       "    </tr>\n",
       "    <tr>\n",
       "      <th>12</th>\n",
       "      <td>Tesla Motors</td>\n",
       "      <td>1827</td>\n",
       "    </tr>\n",
       "    <tr>\n",
       "      <th>0</th>\n",
       "      <td>COMODO CA Limited</td>\n",
       "      <td>1185</td>\n",
       "    </tr>\n",
       "    <tr>\n",
       "      <th>2</th>\n",
       "      <td>Gandi</td>\n",
       "      <td>1103</td>\n",
       "    </tr>\n",
       "    <tr>\n",
       "      <th>11</th>\n",
       "      <td>Sony Computer Entertainment Inc.</td>\n",
       "      <td>1095</td>\n",
       "    </tr>\n",
       "  </tbody>\n",
       "</table>\n",
       "</div>"
      ],
      "text/plain": [
       "                            issuer_O    max\n",
       "14                               nan  36500\n",
       "10               Samsung Electronics  25202\n",
       "1                           EchoStar  24855\n",
       "13         Universal Electronics Inc  21946\n",
       "9                            Samsung  10950\n",
       "6           Nintendo of America Inc.   9300\n",
       "4                        Netflix Inc   8150\n",
       "5                Nintendo of America   7233\n",
       "8                               Roku   5854\n",
       "7             Obihai Technology Inc.   5475\n",
       "3                LG Electronics Inc.   3000\n",
       "12                      Tesla Motors   1827\n",
       "0                  COMODO CA Limited   1185\n",
       "2                              Gandi   1103\n",
       "11  Sony Computer Entertainment Inc.   1095"
      ]
     },
     "execution_count": 51,
     "metadata": {},
     "output_type": "execute_result"
    }
   ],
   "source": [
    "df_leafval_drop.loc[df_leafval_drop['cert_days'] > 1000].groupby(\"issuer_O\")['cert_days'].agg('max').reset_index(name='max').sort_values(by='max', ascending=False)"
   ]
  },
  {
   "cell_type": "code",
   "execution_count": 52,
   "id": "thirty-class",
   "metadata": {},
   "outputs": [
    {
     "data": {
      "text/html": [
       "<div>\n",
       "<style scoped>\n",
       "    .dataframe tbody tr th:only-of-type {\n",
       "        vertical-align: middle;\n",
       "    }\n",
       "\n",
       "    .dataframe tbody tr th {\n",
       "        vertical-align: top;\n",
       "    }\n",
       "\n",
       "    .dataframe thead th {\n",
       "        text-align: right;\n",
       "    }\n",
       "</style>\n",
       "<table border=\"1\" class=\"dataframe\">\n",
       "  <thead>\n",
       "    <tr style=\"text-align: right;\">\n",
       "      <th></th>\n",
       "      <th>device_vendor</th>\n",
       "      <th>sni</th>\n",
       "      <th>serial_num</th>\n",
       "      <th>response</th>\n",
       "      <th>cert_days</th>\n",
       "      <th>issuer_O</th>\n",
       "      <th>issuer_CN</th>\n",
       "      <th>device_id</th>\n",
       "    </tr>\n",
       "  </thead>\n",
       "  <tbody>\n",
       "    <tr>\n",
       "      <th>21428</th>\n",
       "      <td>tuya</td>\n",
       "      <td>a2.tuyaus.com</td>\n",
       "      <td>0086cd856e1ee3ae33</td>\n",
       "      <td>False</td>\n",
       "      <td>36500</td>\n",
       "      <td>nan</td>\n",
       "      <td>nan</td>\n",
       "      <td>s5404e0848a</td>\n",
       "    </tr>\n",
       "    <tr>\n",
       "      <th>21429</th>\n",
       "      <td>tuya</td>\n",
       "      <td>a2.tuyaus.com</td>\n",
       "      <td>0086cd856e1ee3ae33</td>\n",
       "      <td>False</td>\n",
       "      <td>36500</td>\n",
       "      <td>nan</td>\n",
       "      <td>nan</td>\n",
       "      <td>s7cb977087f</td>\n",
       "    </tr>\n",
       "    <tr>\n",
       "      <th>21430</th>\n",
       "      <td>tuya</td>\n",
       "      <td>a2.tuyaus.com</td>\n",
       "      <td>0086cd856e1ee3ae33</td>\n",
       "      <td>False</td>\n",
       "      <td>36500</td>\n",
       "      <td>nan</td>\n",
       "      <td>nan</td>\n",
       "      <td>sd895140d26</td>\n",
       "    </tr>\n",
       "  </tbody>\n",
       "</table>\n",
       "</div>"
      ],
      "text/plain": [
       "      device_vendor            sni          serial_num  response  cert_days  \\\n",
       "21428          tuya  a2.tuyaus.com  0086cd856e1ee3ae33     False      36500   \n",
       "21429          tuya  a2.tuyaus.com  0086cd856e1ee3ae33     False      36500   \n",
       "21430          tuya  a2.tuyaus.com  0086cd856e1ee3ae33     False      36500   \n",
       "\n",
       "      issuer_O issuer_CN    device_id  \n",
       "21428      nan       nan  s5404e0848a  \n",
       "21429      nan       nan  s7cb977087f  \n",
       "21430      nan       nan  sd895140d26  "
      ]
     },
     "execution_count": 52,
     "metadata": {},
     "output_type": "execute_result"
    }
   ],
   "source": [
    "df_leafval_drop.loc[(df_leafval_drop['issuer_O'] == 'nan') & \\\n",
    "                    (df_leafval_drop['cert_days'] == 36500)]"
   ]
  },
  {
   "cell_type": "code",
   "execution_count": null,
   "id": "indonesian-number",
   "metadata": {},
   "outputs": [],
   "source": []
  },
  {
   "cell_type": "markdown",
   "id": "intended-childhood",
   "metadata": {},
   "source": [
    "### Not in CT"
   ]
  },
  {
   "cell_type": "code",
   "execution_count": 169,
   "id": "passing-burlington",
   "metadata": {},
   "outputs": [],
   "source": [
    "serial = \"E84177AB21D3317EADE71FDE938A41C8\".lower()"
   ]
  },
  {
   "cell_type": "code",
   "execution_count": 171,
   "id": "short-mandate",
   "metadata": {},
   "outputs": [
    {
     "data": {
      "text/plain": [
       "'e84177ab21d3317eade71fde938a41c8'"
      ]
     },
     "execution_count": 171,
     "metadata": {},
     "output_type": "execute_result"
    }
   ],
   "source": [
    "serial"
   ]
  },
  {
   "cell_type": "code",
   "execution_count": 170,
   "id": "rubber-spoke",
   "metadata": {},
   "outputs": [
    {
     "data": {
      "text/plain": [
       "Series([], Name: sni, dtype: int64)"
      ]
     },
     "execution_count": 170,
     "metadata": {},
     "output_type": "execute_result"
    }
   ],
   "source": [
    "df_leafval.loc[df_leafval['serial_num'] == serial]['sni'].value_counts() "
   ]
  },
  {
   "cell_type": "code",
   "execution_count": 53,
   "id": "understood-paste",
   "metadata": {},
   "outputs": [],
   "source": [
    "pd.set_option('display.max_colwidth', None)"
   ]
  },
  {
   "cell_type": "code",
   "execution_count": 54,
   "id": "bearing-drunk",
   "metadata": {},
   "outputs": [
    {
     "data": {
      "text/html": [
       "<div>\n",
       "<style scoped>\n",
       "    .dataframe tbody tr th:only-of-type {\n",
       "        vertical-align: middle;\n",
       "    }\n",
       "\n",
       "    .dataframe tbody tr th {\n",
       "        vertical-align: top;\n",
       "    }\n",
       "\n",
       "    .dataframe thead th {\n",
       "        text-align: right;\n",
       "    }\n",
       "</style>\n",
       "<table border=\"1\" class=\"dataframe\">\n",
       "  <thead>\n",
       "    <tr style=\"text-align: right;\">\n",
       "      <th></th>\n",
       "      <th>device_vendor</th>\n",
       "      <th>sni</th>\n",
       "      <th>serial_num</th>\n",
       "      <th>response</th>\n",
       "      <th>cert_days</th>\n",
       "      <th>issuer_O</th>\n",
       "      <th>issuer_CN</th>\n",
       "      <th>device_id</th>\n",
       "    </tr>\n",
       "  </thead>\n",
       "  <tbody>\n",
       "    <tr>\n",
       "      <th>315756</th>\n",
       "      <td>roku</td>\n",
       "      <td>giga.logs.roku.com</td>\n",
       "      <td>202a</td>\n",
       "      <td>False</td>\n",
       "      <td>5416</td>\n",
       "      <td>Roku</td>\n",
       "      <td>nan</td>\n",
       "      <td>s9c1cba6e59</td>\n",
       "    </tr>\n",
       "  </tbody>\n",
       "</table>\n",
       "</div>"
      ],
      "text/plain": [
       "       device_vendor                 sni serial_num  response  cert_days  \\\n",
       "315756          roku  giga.logs.roku.com       202a     False       5416   \n",
       "\n",
       "       issuer_O issuer_CN    device_id  \n",
       "315756     Roku       nan  s9c1cba6e59  "
      ]
     },
     "execution_count": 54,
     "metadata": {},
     "output_type": "execute_result"
    }
   ],
   "source": [
    "df_leafval.sample(1)"
   ]
  },
  {
   "cell_type": "code",
   "execution_count": 55,
   "id": "frozen-environment",
   "metadata": {},
   "outputs": [],
   "source": [
    "df_notct = df_leafval.loc[df_leafval['response'] == False]"
   ]
  },
  {
   "cell_type": "code",
   "execution_count": 56,
   "id": "governmental-timeline",
   "metadata": {},
   "outputs": [
    {
     "data": {
      "text/plain": [
       "(40772, 8)"
      ]
     },
     "execution_count": 56,
     "metadata": {},
     "output_type": "execute_result"
    }
   ],
   "source": [
    "df_notct.shape"
   ]
  },
  {
   "cell_type": "code",
   "execution_count": 87,
   "id": "external-brand",
   "metadata": {},
   "outputs": [
    {
     "name": "stderr",
     "output_type": "stream",
     "text": [
      "<ipython-input-87-7ef7629fb151>:1: SettingWithCopyWarning: \n",
      "A value is trying to be set on a copy of a slice from a DataFrame.\n",
      "Try using .loc[row_indexer,col_indexer] = value instead\n",
      "\n",
      "See the caveats in the documentation: https://pandas.pydata.org/pandas-docs/stable/user_guide/indexing.html#returning-a-view-versus-a-copy\n",
      "  df_notct['issuer_O'] = df_notct['issuer_O'].apply(lambda x: parse_issuer(x))\n"
     ]
    }
   ],
   "source": [
    "df_notct['issuer_O'] = df_notct['issuer_O'].apply(lambda x: parse_issuer(x))"
   ]
  },
  {
   "cell_type": "code",
   "execution_count": 88,
   "id": "colonial-portfolio",
   "metadata": {},
   "outputs": [],
   "source": [
    "tab1 = df_notct.groupby(['issuer_O'])['sni'].agg(sni_set=lambda x: set(x), sni_count=lambda x: len(set(x))).reset_index()"
   ]
  },
  {
   "cell_type": "code",
   "execution_count": 89,
   "id": "pediatric-rabbit",
   "metadata": {},
   "outputs": [],
   "source": [
    "tab2 = df_notct.groupby(['issuer_O'])['device_vendor'].agg(vendor_set=lambda x: sorted(set(x))).reset_index()"
   ]
  },
  {
   "cell_type": "code",
   "execution_count": 90,
   "id": "coastal-operator",
   "metadata": {},
   "outputs": [],
   "source": [
    "tab3 = df_notct.groupby(['issuer_O'])['serial_num'].agg(cert_count=lambda x: len(set(x))).reset_index()"
   ]
  },
  {
   "cell_type": "code",
   "execution_count": 91,
   "id": "italic-consolidation",
   "metadata": {},
   "outputs": [],
   "source": [
    "tab4 = df_notct.groupby(['issuer_O'])['device_id'].agg(dev_set=lambda x: set(x)).reset_index()"
   ]
  },
  {
   "cell_type": "code",
   "execution_count": 92,
   "id": "fantastic-length",
   "metadata": {},
   "outputs": [],
   "source": [
    "tab5 = df_notct.groupby(['issuer_O'])['device_id'].agg(devnum=lambda x: x.nunique()).reset_index()"
   ]
  },
  {
   "cell_type": "code",
   "execution_count": 93,
   "id": "alien-talent",
   "metadata": {},
   "outputs": [],
   "source": [
    "tab_merge = pd.merge(tab1, tab2, how='inner', left_on=['issuer_O'], right_on=['issuer_O']).sort_values('sni_count', ascending=False)"
   ]
  },
  {
   "cell_type": "code",
   "execution_count": 94,
   "id": "chinese-frame",
   "metadata": {},
   "outputs": [],
   "source": [
    "tab_merge = pd.merge(tab3, tab_merge, how='inner', left_on='issuer_O', right_on='issuer_O')"
   ]
  },
  {
   "cell_type": "code",
   "execution_count": 95,
   "id": "marine-routine",
   "metadata": {},
   "outputs": [],
   "source": [
    "tab_merge = pd.merge(tab4, tab_merge, how='inner', left_on='issuer_O', right_on='issuer_O')"
   ]
  },
  {
   "cell_type": "code",
   "execution_count": 96,
   "id": "martial-combination",
   "metadata": {},
   "outputs": [],
   "source": [
    "tab_merge = pd.merge(tab5, tab_merge, how='inner', left_on='issuer_O', right_on='issuer_O')"
   ]
  },
  {
   "cell_type": "code",
   "execution_count": 97,
   "id": "resident-offering",
   "metadata": {},
   "outputs": [
    {
     "data": {
      "text/html": [
       "<div>\n",
       "<style scoped>\n",
       "    .dataframe tbody tr th:only-of-type {\n",
       "        vertical-align: middle;\n",
       "    }\n",
       "\n",
       "    .dataframe tbody tr th {\n",
       "        vertical-align: top;\n",
       "    }\n",
       "\n",
       "    .dataframe thead th {\n",
       "        text-align: right;\n",
       "    }\n",
       "</style>\n",
       "<table border=\"1\" class=\"dataframe\">\n",
       "  <thead>\n",
       "    <tr style=\"text-align: right;\">\n",
       "      <th></th>\n",
       "      <th>issuer_O</th>\n",
       "      <th>devnum</th>\n",
       "      <th>dev_set</th>\n",
       "      <th>cert_count</th>\n",
       "      <th>sni_set</th>\n",
       "      <th>sni_count</th>\n",
       "      <th>vendor_set</th>\n",
       "    </tr>\n",
       "  </thead>\n",
       "  <tbody>\n",
       "    <tr>\n",
       "      <th>7</th>\n",
       "      <td>Netflix</td>\n",
       "      <td>280</td>\n",
       "      <td>{s790e737e14, s4365827f31, s879a0b4a45, sf68f1809fc, s336f5de079, s95ccf22f96, s97da71e5cd, sa8832ada84, s83b59a8b29, s95d56d0457, s5124c9f37c, seead2b996f, sbade24f24f, sdb98aed595, sb82fe181b1, s0cfb9b11b6, se4859dd20f, s83ebaf5591, sba8d3874fc, s9580395170, s3f2ffcb5e9, s98b0054b80, sfcd21b3bce, saf83370dfd, s2c25f09247, s456fbd5382, sb5b67a8ddc, s02e268892f, s33fec7ad4d, s366108f010, sd0cd9d7aa5, s3b5e72e94b, s115938e8d8, s2ff0b39a69, sef1f46b3ef, sa4b89606bd, s2db497817c, s11d938429c, s2ffc21ca1e, s3edb13b126, sde1818f912, sa3a8407c69, s2a040f8db0, sa43bd7699b, s8d3d28bced, s34a561843b, s20c3244ee8, s8ee8334fff, s32a8d6f539, s7d18fc126b, s8fd7acf70d, s0dda052cba, s13f13f54f2, s2f423e2e4b, s4e5f48545a, s6f183f11b4, sb3a10fe636, s547863ce35, s3e3190c411, saabb2db8d8, s4156fd53bc, sbf4549f1e7, se78f68fb61, saf0c12496d, sffc152f21e, s43e796d99a, sc58f34c6c2, s0ab7d753f2, s4668581311, s6fd82a52e0, s73b06dce8b, s088a528f27, s580272406e, s6008f35598, s88b0a7cb4a, s3bf08b42b8, s538a738b0e, s72590d39b5, s6387772af1, s7f1d85e281, s826b925b18, s19277670e1, s4268f096cd, s31ffd188e6, s798ea3bedc, scbbef1e35d, seaa8d5316e, s3fe9b67697, sd5f52d32e1, s198fbc43f1, s52d431acac, sa9387a7ede, saaec044562, sc6733c84cd, saa5467b8e6, s64fd01d88e, s24c6c1c71a, sb0d9c4b5d0, s6d591581f3, sdf2756a86b, ...}</td>\n",
       "      <td>16</td>\n",
       "      <td>{appboot.netflix.com, nrdp50-appboot.netflix.com, nrdp51-appboot.netflix.com, api.netflix.com, secure.netflix.com, uiboot.netflix.com, customerevents.netflix.com, nrdp.nccp.netflix.com, nccp-nrdp-31.cloud.netflix.net, api-global.netflix.com, ichnaea.netflix.com}</td>\n",
       "      <td>11</td>\n",
       "      <td>[amazon, amcrest, brother, dish network, hp, humax, insignia, lg, nvidia, panasonic, philips, roku, samsung, sharp, sky, sony, tcl, tivo, vizio, wink, xiaomi]</td>\n",
       "    </tr>\n",
       "    <tr>\n",
       "      <th>11</th>\n",
       "      <td>Roku</td>\n",
       "      <td>134</td>\n",
       "      <td>{s879a0b4a45, s336f5de079, s83b59a8b29, sb82fe181b1, sbade24f24f, s83ebaf5591, seead2b996f, s0cfb9b11b6, s8d695bf07f, sba8d3874fc, s286a5f488d, sb5b67a8ddc, s02e268892f, s33fec7ad4d, sd0cd9d7aa5, s366108f010, s3b5e72e94b, sa4b89606bd, s2db497817c, s5b0b8e5ba8, s3edb13b126, sa3a8407c69, s2a040f8db0, sa43bd7699b, s20c3244ee8, s13f13f54f2, s8fd7acf70d, s6f183f11b4, s2bd397eabf, s9712773c82, s547863ce35, sffc152f21e, s619a795537, saf0c12496d, sc58f34c6c2, s0ab7d753f2, sbbcb5702e6, s73b06dce8b, s94869260ec, s6008f35598, s19277670e1, s1af13897ad, sbc570b5d21, scbbef1e35d, sd5f52d32e1, s24c6c1c71a, s5e83062a24, s6d591581f3, sdf2756a86b, sb8b1a56f9a, sd4cd5ca7c6, s57bca9d644, sb9191a5fc8, sf3556edde0, s43277f2d0a, se5b5933d85, s9bd88d6f5c, s17ceff62c1, s7465a6cc23, sf24a6bd8a3, sc3520ec27b, s6346c90dec, s334509ed34, s178169d84a, s8e57fbb18d, sdc933deb8e, sc2b7834444, s692a0a7478, sed3a95a185, sd434a5c032, sce5b924cef, s840467e83d, s7622fb49b5, s7a1f4713f2, sa4d5b33226, sdf200ffd38, s6c2a4f75d7, s922f20cc76, sf6255ed86e, s408587971b, s9d10933f3f, s9dbeeedbb9, sbafa0069e9, sfcb59bb1cc, s7b76dfe770, s404a230fbb, s8ebedefc72, s0b7722af83, s64ba23cdb3, s39bd6c2ef7, s0222d29760, sff73dd5bb7, s21e27cf918, s10f8b80bef, s587f419a9c, safc1350b4e, sf878656922, scd33cffebe, s2211f1d083, sae648cf49a, ...}</td>\n",
       "      <td>11</td>\n",
       "      <td>{i.ads.roku.com, sugarland.sb.roku.com, scribe.logs.roku.com, liberty.logs.roku.com, austin.sb.roku.com, api2.sr.roku.com, bryan.sw.roku.com, gilbert.sw.roku.com, austin.logs.roku.com, giga.sb.roku.com, cooper.logs.roku.com, cooper.sb.roku.com, longview.sb.roku.com, liberty.sw.roku.com, api.roku.com, content.sr.roku.com, longview.sw.roku.com, giga.sw.roku.com, api.sr.roku.com, api.rokutime.com, austin.sw.roku.com, sugarland.sw.roku.com, liberty.sb.roku.com, gilbert.sb.roku.com, configsvc.cs.roku.com, bryan.sb.roku.com, giga.logs.roku.com, amarillo.sw.roku.com, tis.cti.roku.com, amarillo.sb.roku.com, cloudservices.roku.com}</td>\n",
       "      <td>31</td>\n",
       "      <td>[brother, cisco, insignia, roku, sharp, tcl]</td>\n",
       "    </tr>\n",
       "    <tr>\n",
       "      <th>6</th>\n",
       "      <td>Nest Labs</td>\n",
       "      <td>65</td>\n",
       "      <td>{s7b77742bbd, s162f2f13a7, s3d72f0d7e5, sc0e98160e7, sebb24940a1, s2b6bfa2612, s7ad415490c, s1e7316017c, s0711690213, se27d76dfc2, s55e159e302, sb2ad999d97, sb2dab41dc1, s606a6704cb, sc45e451373, s356995f185, scfcc1b1d80, s91255e99ea, s898c67aa49, s97d7c1cc53, s494220e203, s513e4beee0, s862833b9cc, s1c81554044, scf71363dfd, s6efbab6df7, sb485b53ab0, s039b454302, s626d74a591, s01dfcefa53, s5ca6f2e704, s30c98839cf, sb96dfea711, s3be7952fb3, s1ac69943b3, sf5a1b4ec34, sda645ce776, scec35b7b68, s94a059cb6f, sf557d5891d, s91cee2614c, s2ce34f96f4, sf62f3e0f51, s30d8adfc39, s63090458a0, sc238700e4c, sc4ec225a5b, s8c47c9bbd9, sba2b710c41, se53003abe6, s2ccebbfff4, se32667dc13, s3b04685043, sd662239bad, s207a632dc3, sb78e39712c, sc8367f6e75, sde7fff243e, s46f9a18893, s4d68096223, s959ac7c362, s5e984e5665, s1f319ac1a4, s5706d09f72, s5dee9b3c7c}</td>\n",
       "      <td>3</td>\n",
       "      <td>{weather.nest.com, frontdoor.nest.com, logsink.devices.nest.com}</td>\n",
       "      <td>3</td>\n",
       "      <td>[google, philips, synology]</td>\n",
       "    </tr>\n",
       "    <tr>\n",
       "      <th>13</th>\n",
       "      <td>Samsung Electronics</td>\n",
       "      <td>48</td>\n",
       "      <td>{s1f070071c3, s2c5ab6e979, s52d431acac, sa9387a7ede, sd5defecc5b, s64fd01d88e, s5124c9f37c, sed83d0f40d, s3299914f66, s809e72af6f, s340dc488ac, s7f3545c656, sb2307142ee, s2ff0b39a69, sfefab8724e, s507fddfed1, sef00c6df76, s94c4ef6732, s1595a8b158, s34a561843b, s1c8491dbf2, s96a8d20cd0, sfe2dcaf2db, s6df906e9c2, s7a22f64077, s6186fc20d6, sfa69657b41, s9413e1bb7a, s4487de9e7d, sb0fa9ece25, seed152cd11, s07d64f1447, s43e796d99a, se07dba5ed4, s418f5bd832, s088a528f27, s775d70c595, sde0e33b028, s283e7d4cac, sa881f31560, s8b2554ccd9, s6387772af1, sacf793ef26, sdeebdb15bb, s971d6fb89a, sa50e529623, s97595e9262, s2ac14d4d8d}</td>\n",
       "      <td>7</td>\n",
       "      <td>{infolink.pavv.co.kr, lcprd1.samsungcloudsolution.net, configprd.samsungcloudsolution.net, sas.samsungcloudsolution.com, lcstg1.samsungcloudsolution.net, www.samsungrm.net, fkp.samsungcloudsolution.com, time.samsungcloudsolution.com, otnprd9.samsungcloudsolution.net, otnprd11.samsungcloudsolution.net, acr0.samsungcloudsolution.com, otnprd10.samsungcloudsolution.net, bpu.samsungelectronics.com, otnprd8.samsungcloudsolution.net}</td>\n",
       "      <td>14</td>\n",
       "      <td>[netatmo, samsung]</td>\n",
       "    </tr>\n",
       "    <tr>\n",
       "      <th>8</th>\n",
       "      <td>Nintendo of America</td>\n",
       "      <td>32</td>\n",
       "      <td>{se2c33c2e75, s4c44187c93, s27257b9146, s57763a2277, s319f133a98, sf8a03bc65d, s80a6f3905d, s55e47d20fc, sf2826fd963, s36d994414a, s89c3830bc9, s4586aadb8b, s64ead16924, s6ca7dd1d70, s97291c967b, s8b0ad1aadc, sc3d16a5b37, s35d67c2f94, s5fb3755f69, sdb2b0df08a, s72a2b5b600, s402ee20229, sa67ab2020a, s4b7a2e8b62, s46d17026cf, s5d43f49831, s644e7e5f94, sdcf8db9da4, se7cc82f461, s0e8a71801d, saba0f1922c, s772e0784f8}</td>\n",
       "      <td>10</td>\n",
       "      <td>{aqua.hac.lp1.d4c.nintendo.net, bcat-topics-lp1.cdn.nintendo.net, app-a03.lp1.npns.srv.nintendo.net, dragons.hac.lp1.dragons.nintendo.net, aauth-lp1.ndas.srv.nintendo.net, sun.hac.lp1.d4c.nintendo.net, broker.lp1.npns.srv.nintendo.net, dauth-lp1.ndas.srv.nintendo.net, app.lp1.five.nintendo.net, tagaya.hac.lp1.eshop.nintendo.net, app-a04.lp1.npns.srv.nintendo.net, storage.lp1.scsi.srv.nintendo.net, bcat-list-lp1.cdn.nintendo.net, bcat-data-lp1.cdn.nintendo.net, receive-lp1.dg.srv.nintendo.net, capi.lp1.op2.nintendo.net, nppl.app.nintendo.net, receive-lp1.er.srv.nintendo.net}</td>\n",
       "      <td>18</td>\n",
       "      <td>[nintendo]</td>\n",
       "    </tr>\n",
       "    <tr>\n",
       "      <th>10</th>\n",
       "      <td>Philips</td>\n",
       "      <td>31</td>\n",
       "      <td>{s3b0a0e1c78, s0c0acf3a56, sff008adb9f, s523f52ce67, s500e73fa49, s59608de369, sab619a22b1, s9ad1b811e5, s02369d9373, s99247b8fe0, s8c1ac96e20, sa2c45deae5, se3e3a11139, sdece16fa08, s973e1b9547, s57aabf866b, s4ff811064a, sc05e90cf24, s0a7ed4fef6, s39c697cca0, s94239a8a52, s975fe1a5d1, sdebc66cd4b, sc70ef28154, s33518fc30e, s60ec437067, s2c2a8b58df, sdfbc967d8f, s45b1b0686a, s5dee9b3c7c, sf90d5a6364}</td>\n",
       "      <td>1</td>\n",
       "      <td>{ws.meethue.com}</td>\n",
       "      <td>1</td>\n",
       "      <td>[philips]</td>\n",
       "    </tr>\n",
       "    <tr>\n",
       "      <th>15</th>\n",
       "      <td>Sony Computer Entertainment</td>\n",
       "      <td>31</td>\n",
       "      <td>{s798ea3bedc, sd6990af570, s8f8a8e1df8, s0d6458263c, s7d0c896890, s16947200b8, se88a7c61cb, sfd8c299d48, s7c4629fcf0, s643bbb4dff, sfcd21b3bce, s492db0a039, s46369c9359, sc498fe8dd7, sc512603f3d, sed4f22f874, sd1ff1cdc57, s1715574b8b, sd93c84cc6b, sc0c00e7d36, s22d317b9b8, sdd6635a6a0, s3af125d235, s354ce4c53f, s72a899b384, sb7127b4162, s68db7f7daf, sf529a4d5bb, s61314f7ecd, saa867b4641, sd33a8ef39c}</td>\n",
       "      <td>12</td>\n",
       "      <td>{fus01.ps4.update.playstation.net, gs-sec.ww.np.dl.playstation.net, rnps-crl.dl.playstation.net, portal.store.sonyentertainmentnetwork.com, auth.api.np.ac.playstation.net, us-push.np.communication.playstation.net, trophy.ww.np.community.playstation.net, resource.np.ac.playstation.net, checkout.rnps.dl.playstation.net, party.rnps.dl.playstation.net, friends.rnps.dl.playstation.net, event.api.np.km.playstation.net, ps4updptl.us.np.community.playstation.net, hh.prod.sonyentertainmentnetwork.com}</td>\n",
       "      <td>14</td>\n",
       "      <td>[sony]</td>\n",
       "    </tr>\n",
       "    <tr>\n",
       "      <th>4</th>\n",
       "      <td>LG Electronics</td>\n",
       "      <td>12</td>\n",
       "      <td>{se6f6610a5b, s380e524116, seaa8d5316e, s5b3d58c13d, s857a339fbb, sd752255a93, s1772194a24, s826b925b18, s5ac11e7663, s4156fd53bc, s4ad7fc1a4b, s83707cdcec}</td>\n",
       "      <td>1</td>\n",
       "      <td>{us.rdx2.lgtvsdp.com, ca.rdx2.lgtvsdp.com}</td>\n",
       "      <td>2</td>\n",
       "      <td>[lg]</td>\n",
       "    </tr>\n",
       "    <tr>\n",
       "      <th>2</th>\n",
       "      <td>Canary Connect</td>\n",
       "      <td>10</td>\n",
       "      <td>{s13224aaf42, s9463230566, s4fa7738bb7, s91239ece2b, s6d2e50d29a, s192a384356, s8a9976c123, s957e6d07b0, sa8816855bf, s0fffcfb736}</td>\n",
       "      <td>1</td>\n",
       "      <td>{b.canaryis.com, i.canaryis.com}</td>\n",
       "      <td>2</td>\n",
       "      <td>[canary]</td>\n",
       "    </tr>\n",
       "    <tr>\n",
       "      <th>21</th>\n",
       "      <td>nan</td>\n",
       "      <td>9</td>\n",
       "      <td>{sa802dc4ad8, s186502eb75, sc2f938fae3, s4ed80caf4a, s7cb977087f, s41877b6dff, sd895140d26, s5404e0848a, s4f7f2921a1}</td>\n",
       "      <td>4</td>\n",
       "      <td>{hermes-prd.ap.tesla.services, api-prd.vn.tesla.services, telemetry-prd.ap.tesla.services, a2.tuyaus.com}</td>\n",
       "      <td>4</td>\n",
       "      <td>[lg, tesla, tuya]</td>\n",
       "    </tr>\n",
       "    <tr>\n",
       "      <th>19</th>\n",
       "      <td>Universal Electronics</td>\n",
       "      <td>8</td>\n",
       "      <td>{s1f070071c3, s2c5ab6e979, sef00c6df76, s34a561843b, s96a8d20cd0, sa9387a7ede, s43e796d99a, s2ac14d4d8d}</td>\n",
       "      <td>1</td>\n",
       "      <td>{selfsigned.ueiwsp.com}</td>\n",
       "      <td>1</td>\n",
       "      <td>[samsung]</td>\n",
       "    </tr>\n",
       "    <tr>\n",
       "      <th>5</th>\n",
       "      <td>Microsoft Corporation</td>\n",
       "      <td>6</td>\n",
       "      <td>{sb348d6ea27, s8a4a81dcda, s58c7970188, sc44ef48ee9, s2218a59e45, sfb6614ed82}</td>\n",
       "      <td>4</td>\n",
       "      <td>{settings-win.data.microsoft.com, tsfe.trafficshaping.dsp.mp.microsoft.com, geo-prod.do.dsp.mp.microsoft.com, v10.events.data.microsoft.com, watson.telemetry.microsoft.com}</td>\n",
       "      <td>5</td>\n",
       "      <td>[hp, lutron, xiaomi]</td>\n",
       "    </tr>\n",
       "    <tr>\n",
       "      <th>14</th>\n",
       "      <td>Sense Labs</td>\n",
       "      <td>6</td>\n",
       "      <td>{s694ecc7a07, s974e1ee0da, s21667fb4bb, s24b9a31a08, sc703a940f0, s325371f16e}</td>\n",
       "      <td>2</td>\n",
       "      <td>{mb1.bridge.sense.com, monitorapi.sense.com}</td>\n",
       "      <td>2</td>\n",
       "      <td>[sense, texas instruments]</td>\n",
       "    </tr>\n",
       "    <tr>\n",
       "      <th>9</th>\n",
       "      <td>Obihai Technology</td>\n",
       "      <td>4</td>\n",
       "      <td>{s32f2ba3960, s26e0b008c6, s00b2797bf6, sf2951cac71}</td>\n",
       "      <td>1</td>\n",
       "      <td>{devpfs.obitalk.com}</td>\n",
       "      <td>1</td>\n",
       "      <td>[obihai]</td>\n",
       "    </tr>\n",
       "    <tr>\n",
       "      <th>16</th>\n",
       "      <td>Symantec Corporation</td>\n",
       "      <td>4</td>\n",
       "      <td>{sca9b7a81bc, saaa505cf2a, s40d6448bbb, s98b0054b80}</td>\n",
       "      <td>1</td>\n",
       "      <td>{avkt1jiwvpmcn.iot.us-east-1.amazonaws.com}</td>\n",
       "      <td>1</td>\n",
       "      <td>[vizio]</td>\n",
       "    </tr>\n",
       "    <tr>\n",
       "      <th>17</th>\n",
       "      <td>Tesla</td>\n",
       "      <td>4</td>\n",
       "      <td>{sa802dc4ad8, s41877b6dff, sc2f938fae3, s4ed80caf4a}</td>\n",
       "      <td>1</td>\n",
       "      <td>{telemetry-prd.vn.tesla.services}</td>\n",
       "      <td>1</td>\n",
       "      <td>[lg, tesla]</td>\n",
       "    </tr>\n",
       "    <tr>\n",
       "      <th>20</th>\n",
       "      <td>ecobee</td>\n",
       "      <td>4</td>\n",
       "      <td>{s9fb1dcd11c, s902a607eda, s123c69b086, sda6dbc69e1}</td>\n",
       "      <td>1</td>\n",
       "      <td>{home-fw.ecobee.com}</td>\n",
       "      <td>1</td>\n",
       "      <td>[ecobee]</td>\n",
       "    </tr>\n",
       "    <tr>\n",
       "      <th>1</th>\n",
       "      <td>Apple</td>\n",
       "      <td>3</td>\n",
       "      <td>{s4d62195ad4, s337c1229f0, sa7a0963628}</td>\n",
       "      <td>2</td>\n",
       "      <td>{cl4.apple.com}</td>\n",
       "      <td>1</td>\n",
       "      <td>[cisco, insignia, tplink]</td>\n",
       "    </tr>\n",
       "    <tr>\n",
       "      <th>12</th>\n",
       "      <td>Samsung</td>\n",
       "      <td>3</td>\n",
       "      <td>{sa50e529623, sa881f31560, s4487de9e7d}</td>\n",
       "      <td>1</td>\n",
       "      <td>{log.samsunghrm.com}</td>\n",
       "      <td>1</td>\n",
       "      <td>[samsung]</td>\n",
       "    </tr>\n",
       "    <tr>\n",
       "      <th>3</th>\n",
       "      <td>EchoStar</td>\n",
       "      <td>3</td>\n",
       "      <td>{sea9b90310a, sa51785cc56, s024152ccca}</td>\n",
       "      <td>1</td>\n",
       "      <td>{vmeasureul.dishaccess.tv}</td>\n",
       "      <td>1</td>\n",
       "      <td>[dish network]</td>\n",
       "    </tr>\n",
       "    <tr>\n",
       "      <th>18</th>\n",
       "      <td>Tesla Motors</td>\n",
       "      <td>3</td>\n",
       "      <td>{sa802dc4ad8, s41877b6dff, s4ed80caf4a}</td>\n",
       "      <td>1</td>\n",
       "      <td>{daws.tesla.services}</td>\n",
       "      <td>1</td>\n",
       "      <td>[lg, tesla]</td>\n",
       "    </tr>\n",
       "    <tr>\n",
       "      <th>0</th>\n",
       "      <td>ATT Mobility and Entertainment</td>\n",
       "      <td>3</td>\n",
       "      <td>{s3a4b20ba71, sd6148a34a0, s5b5fcc179a}</td>\n",
       "      <td>1</td>\n",
       "      <td>{callback1-stb.dtvce.com}</td>\n",
       "      <td>1</td>\n",
       "      <td>[directv, humax, samsung]</td>\n",
       "    </tr>\n",
       "  </tbody>\n",
       "</table>\n",
       "</div>"
      ],
      "text/plain": [
       "                          issuer_O  devnum  \\\n",
       "7                          Netflix     280   \n",
       "11                            Roku     134   \n",
       "6                        Nest Labs      65   \n",
       "13             Samsung Electronics      48   \n",
       "8              Nintendo of America      32   \n",
       "10                         Philips      31   \n",
       "15     Sony Computer Entertainment      31   \n",
       "4                   LG Electronics      12   \n",
       "2                   Canary Connect      10   \n",
       "21                             nan       9   \n",
       "19           Universal Electronics       8   \n",
       "5            Microsoft Corporation       6   \n",
       "14                      Sense Labs       6   \n",
       "9                Obihai Technology       4   \n",
       "16            Symantec Corporation       4   \n",
       "17                           Tesla       4   \n",
       "20                          ecobee       4   \n",
       "1                            Apple       3   \n",
       "12                         Samsung       3   \n",
       "3                         EchoStar       3   \n",
       "18                    Tesla Motors       3   \n",
       "0   ATT Mobility and Entertainment       3   \n",
       "\n",
       "                                                                                                                                                                                                                                                                                                                                                                                                                                                                                                                                                                                                                                                                                                                                                                                                                                                                                                                                                                                                                                                                                                                                                                                                                                                                                                                                                      dev_set  \\\n",
       "7   {s790e737e14, s4365827f31, s879a0b4a45, sf68f1809fc, s336f5de079, s95ccf22f96, s97da71e5cd, sa8832ada84, s83b59a8b29, s95d56d0457, s5124c9f37c, seead2b996f, sbade24f24f, sdb98aed595, sb82fe181b1, s0cfb9b11b6, se4859dd20f, s83ebaf5591, sba8d3874fc, s9580395170, s3f2ffcb5e9, s98b0054b80, sfcd21b3bce, saf83370dfd, s2c25f09247, s456fbd5382, sb5b67a8ddc, s02e268892f, s33fec7ad4d, s366108f010, sd0cd9d7aa5, s3b5e72e94b, s115938e8d8, s2ff0b39a69, sef1f46b3ef, sa4b89606bd, s2db497817c, s11d938429c, s2ffc21ca1e, s3edb13b126, sde1818f912, sa3a8407c69, s2a040f8db0, sa43bd7699b, s8d3d28bced, s34a561843b, s20c3244ee8, s8ee8334fff, s32a8d6f539, s7d18fc126b, s8fd7acf70d, s0dda052cba, s13f13f54f2, s2f423e2e4b, s4e5f48545a, s6f183f11b4, sb3a10fe636, s547863ce35, s3e3190c411, saabb2db8d8, s4156fd53bc, sbf4549f1e7, se78f68fb61, saf0c12496d, sffc152f21e, s43e796d99a, sc58f34c6c2, s0ab7d753f2, s4668581311, s6fd82a52e0, s73b06dce8b, s088a528f27, s580272406e, s6008f35598, s88b0a7cb4a, s3bf08b42b8, s538a738b0e, s72590d39b5, s6387772af1, s7f1d85e281, s826b925b18, s19277670e1, s4268f096cd, s31ffd188e6, s798ea3bedc, scbbef1e35d, seaa8d5316e, s3fe9b67697, sd5f52d32e1, s198fbc43f1, s52d431acac, sa9387a7ede, saaec044562, sc6733c84cd, saa5467b8e6, s64fd01d88e, s24c6c1c71a, sb0d9c4b5d0, s6d591581f3, sdf2756a86b, ...}   \n",
       "11  {s879a0b4a45, s336f5de079, s83b59a8b29, sb82fe181b1, sbade24f24f, s83ebaf5591, seead2b996f, s0cfb9b11b6, s8d695bf07f, sba8d3874fc, s286a5f488d, sb5b67a8ddc, s02e268892f, s33fec7ad4d, sd0cd9d7aa5, s366108f010, s3b5e72e94b, sa4b89606bd, s2db497817c, s5b0b8e5ba8, s3edb13b126, sa3a8407c69, s2a040f8db0, sa43bd7699b, s20c3244ee8, s13f13f54f2, s8fd7acf70d, s6f183f11b4, s2bd397eabf, s9712773c82, s547863ce35, sffc152f21e, s619a795537, saf0c12496d, sc58f34c6c2, s0ab7d753f2, sbbcb5702e6, s73b06dce8b, s94869260ec, s6008f35598, s19277670e1, s1af13897ad, sbc570b5d21, scbbef1e35d, sd5f52d32e1, s24c6c1c71a, s5e83062a24, s6d591581f3, sdf2756a86b, sb8b1a56f9a, sd4cd5ca7c6, s57bca9d644, sb9191a5fc8, sf3556edde0, s43277f2d0a, se5b5933d85, s9bd88d6f5c, s17ceff62c1, s7465a6cc23, sf24a6bd8a3, sc3520ec27b, s6346c90dec, s334509ed34, s178169d84a, s8e57fbb18d, sdc933deb8e, sc2b7834444, s692a0a7478, sed3a95a185, sd434a5c032, sce5b924cef, s840467e83d, s7622fb49b5, s7a1f4713f2, sa4d5b33226, sdf200ffd38, s6c2a4f75d7, s922f20cc76, sf6255ed86e, s408587971b, s9d10933f3f, s9dbeeedbb9, sbafa0069e9, sfcb59bb1cc, s7b76dfe770, s404a230fbb, s8ebedefc72, s0b7722af83, s64ba23cdb3, s39bd6c2ef7, s0222d29760, sff73dd5bb7, s21e27cf918, s10f8b80bef, s587f419a9c, safc1350b4e, sf878656922, scd33cffebe, s2211f1d083, sae648cf49a, ...}   \n",
       "6                                                                                                                                                                                                                                                                                                                                                                                                                                                                               {s7b77742bbd, s162f2f13a7, s3d72f0d7e5, sc0e98160e7, sebb24940a1, s2b6bfa2612, s7ad415490c, s1e7316017c, s0711690213, se27d76dfc2, s55e159e302, sb2ad999d97, sb2dab41dc1, s606a6704cb, sc45e451373, s356995f185, scfcc1b1d80, s91255e99ea, s898c67aa49, s97d7c1cc53, s494220e203, s513e4beee0, s862833b9cc, s1c81554044, scf71363dfd, s6efbab6df7, sb485b53ab0, s039b454302, s626d74a591, s01dfcefa53, s5ca6f2e704, s30c98839cf, sb96dfea711, s3be7952fb3, s1ac69943b3, sf5a1b4ec34, sda645ce776, scec35b7b68, s94a059cb6f, sf557d5891d, s91cee2614c, s2ce34f96f4, sf62f3e0f51, s30d8adfc39, s63090458a0, sc238700e4c, sc4ec225a5b, s8c47c9bbd9, sba2b710c41, se53003abe6, s2ccebbfff4, se32667dc13, s3b04685043, sd662239bad, s207a632dc3, sb78e39712c, sc8367f6e75, sde7fff243e, s46f9a18893, s4d68096223, s959ac7c362, s5e984e5665, s1f319ac1a4, s5706d09f72, s5dee9b3c7c}   \n",
       "13                                                                                                                                                                                                                                                                                                                                                                                                                                                                                                                                                                                                                                                                                                           {s1f070071c3, s2c5ab6e979, s52d431acac, sa9387a7ede, sd5defecc5b, s64fd01d88e, s5124c9f37c, sed83d0f40d, s3299914f66, s809e72af6f, s340dc488ac, s7f3545c656, sb2307142ee, s2ff0b39a69, sfefab8724e, s507fddfed1, sef00c6df76, s94c4ef6732, s1595a8b158, s34a561843b, s1c8491dbf2, s96a8d20cd0, sfe2dcaf2db, s6df906e9c2, s7a22f64077, s6186fc20d6, sfa69657b41, s9413e1bb7a, s4487de9e7d, sb0fa9ece25, seed152cd11, s07d64f1447, s43e796d99a, se07dba5ed4, s418f5bd832, s088a528f27, s775d70c595, sde0e33b028, s283e7d4cac, sa881f31560, s8b2554ccd9, s6387772af1, sacf793ef26, sdeebdb15bb, s971d6fb89a, sa50e529623, s97595e9262, s2ac14d4d8d}   \n",
       "8                                                                                                                                                                                                                                                                                                                                                                                                                                                                                                                                                                                                                                                                                                                                                                                                                                                                                                                            {se2c33c2e75, s4c44187c93, s27257b9146, s57763a2277, s319f133a98, sf8a03bc65d, s80a6f3905d, s55e47d20fc, sf2826fd963, s36d994414a, s89c3830bc9, s4586aadb8b, s64ead16924, s6ca7dd1d70, s97291c967b, s8b0ad1aadc, sc3d16a5b37, s35d67c2f94, s5fb3755f69, sdb2b0df08a, s72a2b5b600, s402ee20229, sa67ab2020a, s4b7a2e8b62, s46d17026cf, s5d43f49831, s644e7e5f94, sdcf8db9da4, se7cc82f461, s0e8a71801d, saba0f1922c, s772e0784f8}   \n",
       "10                                                                                                                                                                                                                                                                                                                                                                                                                                                                                                                                                                                                                                                                                                                                                                                                                                                                                                                                        {s3b0a0e1c78, s0c0acf3a56, sff008adb9f, s523f52ce67, s500e73fa49, s59608de369, sab619a22b1, s9ad1b811e5, s02369d9373, s99247b8fe0, s8c1ac96e20, sa2c45deae5, se3e3a11139, sdece16fa08, s973e1b9547, s57aabf866b, s4ff811064a, sc05e90cf24, s0a7ed4fef6, s39c697cca0, s94239a8a52, s975fe1a5d1, sdebc66cd4b, sc70ef28154, s33518fc30e, s60ec437067, s2c2a8b58df, sdfbc967d8f, s45b1b0686a, s5dee9b3c7c, sf90d5a6364}   \n",
       "15                                                                                                                                                                                                                                                                                                                                                                                                                                                                                                                                                                                                                                                                                                                                                                                                                                                                                                                                        {s798ea3bedc, sd6990af570, s8f8a8e1df8, s0d6458263c, s7d0c896890, s16947200b8, se88a7c61cb, sfd8c299d48, s7c4629fcf0, s643bbb4dff, sfcd21b3bce, s492db0a039, s46369c9359, sc498fe8dd7, sc512603f3d, sed4f22f874, sd1ff1cdc57, s1715574b8b, sd93c84cc6b, sc0c00e7d36, s22d317b9b8, sdd6635a6a0, s3af125d235, s354ce4c53f, s72a899b384, sb7127b4162, s68db7f7daf, sf529a4d5bb, s61314f7ecd, saa867b4641, sd33a8ef39c}   \n",
       "4                                                                                                                                                                                                                                                                                                                                                                                                                                                                                                                                                                                                                                                                                                                                                                                                                                                                                                                                                                                                                                                                                                                                                                                                {se6f6610a5b, s380e524116, seaa8d5316e, s5b3d58c13d, s857a339fbb, sd752255a93, s1772194a24, s826b925b18, s5ac11e7663, s4156fd53bc, s4ad7fc1a4b, s83707cdcec}   \n",
       "2                                                                                                                                                                                                                                                                                                                                                                                                                                                                                                                                                                                                                                                                                                                                                                                                                                                                                                                                                                                                                                                                                                                                                                                                                          {s13224aaf42, s9463230566, s4fa7738bb7, s91239ece2b, s6d2e50d29a, s192a384356, s8a9976c123, s957e6d07b0, sa8816855bf, s0fffcfb736}   \n",
       "21                                                                                                                                                                                                                                                                                                                                                                                                                                                                                                                                                                                                                                                                                                                                                                                                                                                                                                                                                                                                                                                                                                                                                                                                                                      {sa802dc4ad8, s186502eb75, sc2f938fae3, s4ed80caf4a, s7cb977087f, s41877b6dff, sd895140d26, s5404e0848a, s4f7f2921a1}   \n",
       "19                                                                                                                                                                                                                                                                                                                                                                                                                                                                                                                                                                                                                                                                                                                                                                                                                                                                                                                                                                                                                                                                                                                                                                                                                                                   {s1f070071c3, s2c5ab6e979, sef00c6df76, s34a561843b, s96a8d20cd0, sa9387a7ede, s43e796d99a, s2ac14d4d8d}   \n",
       "5                                                                                                                                                                                                                                                                                                                                                                                                                                                                                                                                                                                                                                                                                                                                                                                                                                                                                                                                                                                                                                                                                                                                                                                                                                                                              {sb348d6ea27, s8a4a81dcda, s58c7970188, sc44ef48ee9, s2218a59e45, sfb6614ed82}   \n",
       "14                                                                                                                                                                                                                                                                                                                                                                                                                                                                                                                                                                                                                                                                                                                                                                                                                                                                                                                                                                                                                                                                                                                                                                                                                                                                             {s694ecc7a07, s974e1ee0da, s21667fb4bb, s24b9a31a08, sc703a940f0, s325371f16e}   \n",
       "9                                                                                                                                                                                                                                                                                                                                                                                                                                                                                                                                                                                                                                                                                                                                                                                                                                                                                                                                                                                                                                                                                                                                                                                                                                                                                                        {s32f2ba3960, s26e0b008c6, s00b2797bf6, sf2951cac71}   \n",
       "16                                                                                                                                                                                                                                                                                                                                                                                                                                                                                                                                                                                                                                                                                                                                                                                                                                                                                                                                                                                                                                                                                                                                                                                                                                                                                                       {sca9b7a81bc, saaa505cf2a, s40d6448bbb, s98b0054b80}   \n",
       "17                                                                                                                                                                                                                                                                                                                                                                                                                                                                                                                                                                                                                                                                                                                                                                                                                                                                                                                                                                                                                                                                                                                                                                                                                                                                                                       {sa802dc4ad8, s41877b6dff, sc2f938fae3, s4ed80caf4a}   \n",
       "20                                                                                                                                                                                                                                                                                                                                                                                                                                                                                                                                                                                                                                                                                                                                                                                                                                                                                                                                                                                                                                                                                                                                                                                                                                                                                                       {s9fb1dcd11c, s902a607eda, s123c69b086, sda6dbc69e1}   \n",
       "1                                                                                                                                                                                                                                                                                                                                                                                                                                                                                                                                                                                                                                                                                                                                                                                                                                                                                                                                                                                                                                                                                                                                                                                                                                                                                                                     {s4d62195ad4, s337c1229f0, sa7a0963628}   \n",
       "12                                                                                                                                                                                                                                                                                                                                                                                                                                                                                                                                                                                                                                                                                                                                                                                                                                                                                                                                                                                                                                                                                                                                                                                                                                                                                                                    {sa50e529623, sa881f31560, s4487de9e7d}   \n",
       "3                                                                                                                                                                                                                                                                                                                                                                                                                                                                                                                                                                                                                                                                                                                                                                                                                                                                                                                                                                                                                                                                                                                                                                                                                                                                                                                     {sea9b90310a, sa51785cc56, s024152ccca}   \n",
       "18                                                                                                                                                                                                                                                                                                                                                                                                                                                                                                                                                                                                                                                                                                                                                                                                                                                                                                                                                                                                                                                                                                                                                                                                                                                                                                                    {sa802dc4ad8, s41877b6dff, s4ed80caf4a}   \n",
       "0                                                                                                                                                                                                                                                                                                                                                                                                                                                                                                                                                                                                                                                                                                                                                                                                                                                                                                                                                                                                                                                                                                                                                                                                                                                                                                                     {s3a4b20ba71, sd6148a34a0, s5b5fcc179a}   \n",
       "\n",
       "    cert_count  \\\n",
       "7           16   \n",
       "11          11   \n",
       "6            3   \n",
       "13           7   \n",
       "8           10   \n",
       "10           1   \n",
       "15          12   \n",
       "4            1   \n",
       "2            1   \n",
       "21           4   \n",
       "19           1   \n",
       "5            4   \n",
       "14           2   \n",
       "9            1   \n",
       "16           1   \n",
       "17           1   \n",
       "20           1   \n",
       "1            2   \n",
       "12           1   \n",
       "3            1   \n",
       "18           1   \n",
       "0            1   \n",
       "\n",
       "                                                                                                                                                                                                                                                                                                                                                                                                                                                                                                                                                                                                                                                   sni_set  \\\n",
       "7                                                                                                                                                                                                                                                                                                                                                                                   {appboot.netflix.com, nrdp50-appboot.netflix.com, nrdp51-appboot.netflix.com, api.netflix.com, secure.netflix.com, uiboot.netflix.com, customerevents.netflix.com, nrdp.nccp.netflix.com, nccp-nrdp-31.cloud.netflix.net, api-global.netflix.com, ichnaea.netflix.com}   \n",
       "11  {i.ads.roku.com, sugarland.sb.roku.com, scribe.logs.roku.com, liberty.logs.roku.com, austin.sb.roku.com, api2.sr.roku.com, bryan.sw.roku.com, gilbert.sw.roku.com, austin.logs.roku.com, giga.sb.roku.com, cooper.logs.roku.com, cooper.sb.roku.com, longview.sb.roku.com, liberty.sw.roku.com, api.roku.com, content.sr.roku.com, longview.sw.roku.com, giga.sw.roku.com, api.sr.roku.com, api.rokutime.com, austin.sw.roku.com, sugarland.sw.roku.com, liberty.sb.roku.com, gilbert.sb.roku.com, configsvc.cs.roku.com, bryan.sb.roku.com, giga.logs.roku.com, amarillo.sw.roku.com, tis.cti.roku.com, amarillo.sb.roku.com, cloudservices.roku.com}   \n",
       "6                                                                                                                                                                                                                                                                                                                                                                                                                                                                                                                                                                                         {weather.nest.com, frontdoor.nest.com, logsink.devices.nest.com}   \n",
       "13                                                                                                                                                                                                          {infolink.pavv.co.kr, lcprd1.samsungcloudsolution.net, configprd.samsungcloudsolution.net, sas.samsungcloudsolution.com, lcstg1.samsungcloudsolution.net, www.samsungrm.net, fkp.samsungcloudsolution.com, time.samsungcloudsolution.com, otnprd9.samsungcloudsolution.net, otnprd11.samsungcloudsolution.net, acr0.samsungcloudsolution.com, otnprd10.samsungcloudsolution.net, bpu.samsungelectronics.com, otnprd8.samsungcloudsolution.net}   \n",
       "8                                                     {aqua.hac.lp1.d4c.nintendo.net, bcat-topics-lp1.cdn.nintendo.net, app-a03.lp1.npns.srv.nintendo.net, dragons.hac.lp1.dragons.nintendo.net, aauth-lp1.ndas.srv.nintendo.net, sun.hac.lp1.d4c.nintendo.net, broker.lp1.npns.srv.nintendo.net, dauth-lp1.ndas.srv.nintendo.net, app.lp1.five.nintendo.net, tagaya.hac.lp1.eshop.nintendo.net, app-a04.lp1.npns.srv.nintendo.net, storage.lp1.scsi.srv.nintendo.net, bcat-list-lp1.cdn.nintendo.net, bcat-data-lp1.cdn.nintendo.net, receive-lp1.dg.srv.nintendo.net, capi.lp1.op2.nintendo.net, nppl.app.nintendo.net, receive-lp1.er.srv.nintendo.net}   \n",
       "10                                                                                                                                                                                                                                                                                                                                                                                                                                                                                                                                                                                                                                        {ws.meethue.com}   \n",
       "15                                                                                                                                       {fus01.ps4.update.playstation.net, gs-sec.ww.np.dl.playstation.net, rnps-crl.dl.playstation.net, portal.store.sonyentertainmentnetwork.com, auth.api.np.ac.playstation.net, us-push.np.communication.playstation.net, trophy.ww.np.community.playstation.net, resource.np.ac.playstation.net, checkout.rnps.dl.playstation.net, party.rnps.dl.playstation.net, friends.rnps.dl.playstation.net, event.api.np.km.playstation.net, ps4updptl.us.np.community.playstation.net, hh.prod.sonyentertainmentnetwork.com}   \n",
       "4                                                                                                                                                                                                                                                                                                                                                                                                                                                                                                                                                                                                               {us.rdx2.lgtvsdp.com, ca.rdx2.lgtvsdp.com}   \n",
       "2                                                                                                                                                                                                                                                                                                                                                                                                                                                                                                                                                                                                                         {b.canaryis.com, i.canaryis.com}   \n",
       "21                                                                                                                                                                                                                                                                                                                                                                                                                                                                                                                                               {hermes-prd.ap.tesla.services, api-prd.vn.tesla.services, telemetry-prd.ap.tesla.services, a2.tuyaus.com}   \n",
       "19                                                                                                                                                                                                                                                                                                                                                                                                                                                                                                                                                                                                                                 {selfsigned.ueiwsp.com}   \n",
       "5                                                                                                                                                                                                                                                                                                                                                                                                                                                                             {settings-win.data.microsoft.com, tsfe.trafficshaping.dsp.mp.microsoft.com, geo-prod.do.dsp.mp.microsoft.com, v10.events.data.microsoft.com, watson.telemetry.microsoft.com}   \n",
       "14                                                                                                                                                                                                                                                                                                                                                                                                                                                                                                                                                                                                            {mb1.bridge.sense.com, monitorapi.sense.com}   \n",
       "9                                                                                                                                                                                                                                                                                                                                                                                                                                                                                                                                                                                                                                     {devpfs.obitalk.com}   \n",
       "16                                                                                                                                                                                                                                                                                                                                                                                                                                                                                                                                                                                                             {avkt1jiwvpmcn.iot.us-east-1.amazonaws.com}   \n",
       "17                                                                                                                                                                                                                                                                                                                                                                                                                                                                                                                                                                                                                       {telemetry-prd.vn.tesla.services}   \n",
       "20                                                                                                                                                                                                                                                                                                                                                                                                                                                                                                                                                                                                                                    {home-fw.ecobee.com}   \n",
       "1                                                                                                                                                                                                                                                                                                                                                                                                                                                                                                                                                                                                                                          {cl4.apple.com}   \n",
       "12                                                                                                                                                                                                                                                                                                                                                                                                                                                                                                                                                                                                                                    {log.samsunghrm.com}   \n",
       "3                                                                                                                                                                                                                                                                                                                                                                                                                                                                                                                                                                                                                               {vmeasureul.dishaccess.tv}   \n",
       "18                                                                                                                                                                                                                                                                                                                                                                                                                                                                                                                                                                                                                                   {daws.tesla.services}   \n",
       "0                                                                                                                                                                                                                                                                                                                                                                                                                                                                                                                                                                                                                                {callback1-stb.dtvce.com}   \n",
       "\n",
       "    sni_count  \\\n",
       "7          11   \n",
       "11         31   \n",
       "6           3   \n",
       "13         14   \n",
       "8          18   \n",
       "10          1   \n",
       "15         14   \n",
       "4           2   \n",
       "2           2   \n",
       "21          4   \n",
       "19          1   \n",
       "5           5   \n",
       "14          2   \n",
       "9           1   \n",
       "16          1   \n",
       "17          1   \n",
       "20          1   \n",
       "1           1   \n",
       "12          1   \n",
       "3           1   \n",
       "18          1   \n",
       "0           1   \n",
       "\n",
       "                                                                                                                                                        vendor_set  \n",
       "7   [amazon, amcrest, brother, dish network, hp, humax, insignia, lg, nvidia, panasonic, philips, roku, samsung, sharp, sky, sony, tcl, tivo, vizio, wink, xiaomi]  \n",
       "11                                                                                                                    [brother, cisco, insignia, roku, sharp, tcl]  \n",
       "6                                                                                                                                      [google, philips, synology]  \n",
       "13                                                                                                                                              [netatmo, samsung]  \n",
       "8                                                                                                                                                       [nintendo]  \n",
       "10                                                                                                                                                       [philips]  \n",
       "15                                                                                                                                                          [sony]  \n",
       "4                                                                                                                                                             [lg]  \n",
       "2                                                                                                                                                         [canary]  \n",
       "21                                                                                                                                               [lg, tesla, tuya]  \n",
       "19                                                                                                                                                       [samsung]  \n",
       "5                                                                                                                                             [hp, lutron, xiaomi]  \n",
       "14                                                                                                                                      [sense, texas instruments]  \n",
       "9                                                                                                                                                         [obihai]  \n",
       "16                                                                                                                                                         [vizio]  \n",
       "17                                                                                                                                                     [lg, tesla]  \n",
       "20                                                                                                                                                        [ecobee]  \n",
       "1                                                                                                                                        [cisco, insignia, tplink]  \n",
       "12                                                                                                                                                       [samsung]  \n",
       "3                                                                                                                                                   [dish network]  \n",
       "18                                                                                                                                                     [lg, tesla]  \n",
       "0                                                                                                                                        [directv, humax, samsung]  "
      ]
     },
     "execution_count": 97,
     "metadata": {},
     "output_type": "execute_result"
    }
   ],
   "source": [
    "tab_merge.sort_values('devnum', ascending=False)"
   ]
  },
  {
   "cell_type": "code",
   "execution_count": null,
   "id": "ideal-formula",
   "metadata": {},
   "outputs": [],
   "source": []
  },
  {
   "cell_type": "markdown",
   "id": "sacred-feature",
   "metadata": {},
   "source": [
    "### In CT: untrust issuer"
   ]
  },
  {
   "cell_type": "code",
   "execution_count": 112,
   "id": "religious-cuisine",
   "metadata": {},
   "outputs": [
    {
     "data": {
      "text/html": [
       "<div>\n",
       "<style scoped>\n",
       "    .dataframe tbody tr th:only-of-type {\n",
       "        vertical-align: middle;\n",
       "    }\n",
       "\n",
       "    .dataframe tbody tr th {\n",
       "        vertical-align: top;\n",
       "    }\n",
       "\n",
       "    .dataframe thead th {\n",
       "        text-align: right;\n",
       "    }\n",
       "</style>\n",
       "<table border=\"1\" class=\"dataframe\">\n",
       "  <thead>\n",
       "    <tr style=\"text-align: right;\">\n",
       "      <th></th>\n",
       "      <th>device_vendor</th>\n",
       "      <th>sni</th>\n",
       "      <th>serial_num</th>\n",
       "      <th>In CT</th>\n",
       "      <th>cert_days</th>\n",
       "      <th>issuer_O</th>\n",
       "      <th>issuer_CN</th>\n",
       "      <th>device_id</th>\n",
       "      <th>count</th>\n",
       "      <th>certday_log10</th>\n",
       "      <th>Issuer</th>\n",
       "      <th>vendor_id</th>\n",
       "      <th>jittered</th>\n",
       "    </tr>\n",
       "  </thead>\n",
       "  <tbody>\n",
       "    <tr>\n",
       "      <th>13723</th>\n",
       "      <td>Amazon</td>\n",
       "      <td>msh.amazon.com</td>\n",
       "      <td>06ee82236041d44874731b2edb23102c</td>\n",
       "      <td>True</td>\n",
       "      <td>357</td>\n",
       "      <td>Amazon</td>\n",
       "      <td>Amazon</td>\n",
       "      <td>s9c15cf81ab</td>\n",
       "      <td>7485</td>\n",
       "      <td>2.552668</td>\n",
       "      <td>Public trust</td>\n",
       "      <td>1</td>\n",
       "      <td>1.104023</td>\n",
       "    </tr>\n",
       "  </tbody>\n",
       "</table>\n",
       "</div>"
      ],
      "text/plain": [
       "      device_vendor             sni                        serial_num  In CT  \\\n",
       "13723        Amazon  msh.amazon.com  06ee82236041d44874731b2edb23102c   True   \n",
       "\n",
       "       cert_days issuer_O issuer_CN    device_id  count  certday_log10  \\\n",
       "13723        357   Amazon    Amazon  s9c15cf81ab   7485       2.552668   \n",
       "\n",
       "             Issuer  vendor_id  jittered  \n",
       "13723  Public trust          1  1.104023  "
      ]
     },
     "execution_count": 112,
     "metadata": {},
     "output_type": "execute_result"
    }
   ],
   "source": [
    "df_leafval_sort.sample(1)"
   ]
  },
  {
   "cell_type": "code",
   "execution_count": 106,
   "id": "established-pillow",
   "metadata": {},
   "outputs": [],
   "source": [
    "df_ct = df_leafval_sort.loc[(df_leafval_sort['In CT'] == True) &\\\n",
    "                            (df_leafval_sort['Issuer'] == \"Untrust\")]"
   ]
  },
  {
   "cell_type": "code",
   "execution_count": 107,
   "id": "altered-victorian",
   "metadata": {},
   "outputs": [
    {
     "data": {
      "text/plain": [
       "(0, 13)"
      ]
     },
     "execution_count": 107,
     "metadata": {},
     "output_type": "execute_result"
    }
   ],
   "source": [
    "df_ct.shape"
   ]
  },
  {
   "cell_type": "code",
   "execution_count": 108,
   "id": "wrong-sender",
   "metadata": {},
   "outputs": [],
   "source": [
    "df_ct2 = df_leafval_sort.loc[(df_leafval_sort['In CT'] == False) &\\\n",
    "                            (df_leafval_sort['Issuer'] == \"Public trust\")]"
   ]
  },
  {
   "cell_type": "code",
   "execution_count": 110,
   "id": "efficient-reflection",
   "metadata": {},
   "outputs": [
    {
     "data": {
      "text/plain": [
       "(32, 13)"
      ]
     },
     "execution_count": 110,
     "metadata": {},
     "output_type": "execute_result"
    }
   ],
   "source": [
    "df_ct2.shape"
   ]
  },
  {
   "cell_type": "markdown",
   "id": "alpine-mailing",
   "metadata": {},
   "source": [
    "#### Previous"
   ]
  },
  {
   "cell_type": "code",
   "execution_count": 144,
   "id": "comfortable-meditation",
   "metadata": {},
   "outputs": [],
   "source": [
    "tab1 = df_ct.groupby(['issuer_O'])['server_name_indication'].agg(sni_set=lambda x: set(x), sni_count=lambda x: len(set(x))).reset_index()"
   ]
  },
  {
   "cell_type": "code",
   "execution_count": 145,
   "id": "unknown-harvest",
   "metadata": {},
   "outputs": [],
   "source": [
    "tab2 = df_ct.groupby(['issuer_O'])['device_vendor'].agg(vendor_set=lambda x: set(x)).reset_index()"
   ]
  },
  {
   "cell_type": "code",
   "execution_count": 146,
   "id": "arctic-sunset",
   "metadata": {},
   "outputs": [],
   "source": [
    "tab3 = df_ct.groupby(['issuer_O'])['cert_serialNum_from_x509af'].agg(cert_count=lambda x: len(set(x)))"
   ]
  },
  {
   "cell_type": "code",
   "execution_count": 147,
   "id": "comparative-northeast",
   "metadata": {},
   "outputs": [],
   "source": [
    "tab4 = df_ct.groupby(['issuer_O'])['cert_serialNum_from_x509af'].agg(cert_set=lambda x: set(x))"
   ]
  },
  {
   "cell_type": "code",
   "execution_count": 148,
   "id": "dominican-gateway",
   "metadata": {},
   "outputs": [],
   "source": [
    "tab_merge = pd.merge(tab1, tab2, how='inner', left_on=['issuer_O'], right_on=['issuer_O']).sort_values('sni_count', ascending=False)"
   ]
  },
  {
   "cell_type": "code",
   "execution_count": 149,
   "id": "sacred-output",
   "metadata": {},
   "outputs": [],
   "source": [
    "tab_merge = pd.merge(tab3, tab_merge, how='inner', left_on='issuer_O', right_on='issuer_O')"
   ]
  },
  {
   "cell_type": "code",
   "execution_count": 150,
   "id": "virgin-thanks",
   "metadata": {},
   "outputs": [],
   "source": [
    "tab_merge = pd.merge(tab4, tab_merge, how='inner', left_on='issuer_O', right_on='issuer_O')"
   ]
  },
  {
   "cell_type": "code",
   "execution_count": 151,
   "id": "important-norway",
   "metadata": {},
   "outputs": [
    {
     "data": {
      "text/html": [
       "<div>\n",
       "<style scoped>\n",
       "    .dataframe tbody tr th:only-of-type {\n",
       "        vertical-align: middle;\n",
       "    }\n",
       "\n",
       "    .dataframe tbody tr th {\n",
       "        vertical-align: top;\n",
       "    }\n",
       "\n",
       "    .dataframe thead th {\n",
       "        text-align: right;\n",
       "    }\n",
       "</style>\n",
       "<table border=\"1\" class=\"dataframe\">\n",
       "  <thead>\n",
       "    <tr style=\"text-align: right;\">\n",
       "      <th></th>\n",
       "      <th>issuer_O</th>\n",
       "      <th>cert_set</th>\n",
       "      <th>cert_count</th>\n",
       "      <th>sni_set</th>\n",
       "      <th>sni_count</th>\n",
       "      <th>vendor_set</th>\n",
       "    </tr>\n",
       "  </thead>\n",
       "  <tbody>\n",
       "    <tr>\n",
       "      <th>0</th>\n",
       "      <td>Netflix</td>\n",
       "      <td>{080de471c1ac6e66b2c3030064e161ea, 030f25774bcfdd0d6e146f848182a856, 0649fc23f0f52976113ef503612d6fda}</td>\n",
       "      <td>3</td>\n",
       "      <td>{api.netflix.com, secure.netflix.com, api-global.netflix.com, uiboot.netflix.com}</td>\n",
       "      <td>4</td>\n",
       "      <td>{Nvidia, Sharp, Xiaomi, Sky, Philips, HP, Amcrest, Brother, Roku, LG, Tivo, Amazon, Wink, Samsung, Vizio, Sony, Dish Network, TCL, Insignia, Panasonic}</td>\n",
       "    </tr>\n",
       "  </tbody>\n",
       "</table>\n",
       "</div>"
      ],
      "text/plain": [
       "  issuer_O  \\\n",
       "0  Netflix   \n",
       "\n",
       "                                                                                                 cert_set  \\\n",
       "0  {080de471c1ac6e66b2c3030064e161ea, 030f25774bcfdd0d6e146f848182a856, 0649fc23f0f52976113ef503612d6fda}   \n",
       "\n",
       "   cert_count  \\\n",
       "0           3   \n",
       "\n",
       "                                                                             sni_set  \\\n",
       "0  {api.netflix.com, secure.netflix.com, api-global.netflix.com, uiboot.netflix.com}   \n",
       "\n",
       "   sni_count  \\\n",
       "0          4   \n",
       "\n",
       "                                                                                                                                                vendor_set  \n",
       "0  {Nvidia, Sharp, Xiaomi, Sky, Philips, HP, Amcrest, Brother, Roku, LG, Tivo, Amazon, Wink, Samsung, Vizio, Sony, Dish Network, TCL, Insignia, Panasonic}  "
      ]
     },
     "execution_count": 151,
     "metadata": {},
     "output_type": "execute_result"
    }
   ],
   "source": [
    "tab_merge.sort_values('cert_count', ascending=False)"
   ]
  },
  {
   "cell_type": "code",
   "execution_count": null,
   "id": "mounted-concept",
   "metadata": {},
   "outputs": [],
   "source": []
  },
  {
   "cell_type": "markdown",
   "id": "useful-pressure",
   "metadata": {},
   "source": [
    "### Roku"
   ]
  },
  {
   "cell_type": "code",
   "execution_count": 158,
   "id": "promising-senator",
   "metadata": {},
   "outputs": [
    {
     "data": {
      "text/html": [
       "<div>\n",
       "<style scoped>\n",
       "    .dataframe tbody tr th:only-of-type {\n",
       "        vertical-align: middle;\n",
       "    }\n",
       "\n",
       "    .dataframe tbody tr th {\n",
       "        vertical-align: top;\n",
       "    }\n",
       "\n",
       "    .dataframe thead th {\n",
       "        text-align: right;\n",
       "    }\n",
       "</style>\n",
       "<table border=\"1\" class=\"dataframe\">\n",
       "  <thead>\n",
       "    <tr style=\"text-align: right;\">\n",
       "      <th></th>\n",
       "      <th>issuer_O</th>\n",
       "      <th>cert_days</th>\n",
       "      <th>count</th>\n",
       "    </tr>\n",
       "  </thead>\n",
       "  <tbody>\n",
       "    <tr>\n",
       "      <th>0</th>\n",
       "      <td>Amazon</td>\n",
       "      <td>393</td>\n",
       "      <td>214</td>\n",
       "    </tr>\n",
       "    <tr>\n",
       "      <th>1</th>\n",
       "      <td>Amazon</td>\n",
       "      <td>394</td>\n",
       "      <td>45</td>\n",
       "    </tr>\n",
       "    <tr>\n",
       "      <th>2</th>\n",
       "      <td>COMODO</td>\n",
       "      <td>365</td>\n",
       "      <td>36</td>\n",
       "    </tr>\n",
       "    <tr>\n",
       "      <th>3</th>\n",
       "      <td>DigiCert</td>\n",
       "      <td>381</td>\n",
       "      <td>24</td>\n",
       "    </tr>\n",
       "    <tr>\n",
       "      <th>4</th>\n",
       "      <td>Let's Encrypt</td>\n",
       "      <td>89</td>\n",
       "      <td>10</td>\n",
       "    </tr>\n",
       "    <tr>\n",
       "      <th>5</th>\n",
       "      <td>Roku</td>\n",
       "      <td>760</td>\n",
       "      <td>138</td>\n",
       "    </tr>\n",
       "    <tr>\n",
       "      <th>6</th>\n",
       "      <td>Roku</td>\n",
       "      <td>5005</td>\n",
       "      <td>38</td>\n",
       "    </tr>\n",
       "    <tr>\n",
       "      <th>7</th>\n",
       "      <td>Roku</td>\n",
       "      <td>5329</td>\n",
       "      <td>66</td>\n",
       "    </tr>\n",
       "    <tr>\n",
       "      <th>8</th>\n",
       "      <td>Roku</td>\n",
       "      <td>5416</td>\n",
       "      <td>197</td>\n",
       "    </tr>\n",
       "    <tr>\n",
       "      <th>9</th>\n",
       "      <td>Roku</td>\n",
       "      <td>5469</td>\n",
       "      <td>42</td>\n",
       "    </tr>\n",
       "    <tr>\n",
       "      <th>10</th>\n",
       "      <td>Roku</td>\n",
       "      <td>5479</td>\n",
       "      <td>48</td>\n",
       "    </tr>\n",
       "    <tr>\n",
       "      <th>11</th>\n",
       "      <td>Roku</td>\n",
       "      <td>5731</td>\n",
       "      <td>77</td>\n",
       "    </tr>\n",
       "    <tr>\n",
       "      <th>12</th>\n",
       "      <td>Roku</td>\n",
       "      <td>5854</td>\n",
       "      <td>39</td>\n",
       "    </tr>\n",
       "  </tbody>\n",
       "</table>\n",
       "</div>"
      ],
      "text/plain": [
       "         issuer_O  cert_days  count\n",
       "0          Amazon        393    214\n",
       "1          Amazon        394     45\n",
       "2          COMODO        365     36\n",
       "3        DigiCert        381     24\n",
       "4   Let's Encrypt         89     10\n",
       "5            Roku        760    138\n",
       "6            Roku       5005     38\n",
       "7            Roku       5329     66\n",
       "8            Roku       5416    197\n",
       "9            Roku       5469     42\n",
       "10           Roku       5479     48\n",
       "11           Roku       5731     77\n",
       "12           Roku       5854     39"
      ]
     },
     "execution_count": 158,
     "metadata": {},
     "output_type": "execute_result"
    }
   ],
   "source": [
    "df_leafval_sort.loc[df_leafval_sort['sni'].str.contains(\"roku\")].groupby(['issuer_O', 'cert_days'])['sni'].agg('count').reset_index(name='count')"
   ]
  },
  {
   "cell_type": "code",
   "execution_count": null,
   "id": "confident-neutral",
   "metadata": {},
   "outputs": [],
   "source": []
  },
  {
   "cell_type": "markdown",
   "id": "enclosed-nightlife",
   "metadata": {},
   "source": [
    "### Netflix"
   ]
  },
  {
   "cell_type": "code",
   "execution_count": 159,
   "id": "passive-experience",
   "metadata": {},
   "outputs": [
    {
     "data": {
      "text/plain": [
       "issuer_O\n",
       "DigiCert    4031\n",
       "Netflix     2114\n",
       "Name: sni, dtype: int64"
      ]
     },
     "execution_count": 159,
     "metadata": {},
     "output_type": "execute_result"
    }
   ],
   "source": [
    "df_leafval_sort.loc[(df_leafval_sort['sni'].str.contains(\"netflix\")) | (df_leafval_sort['sni'].str.contains(\"nflx\"))].groupby('issuer_O')['sni'].agg('count')"
   ]
  },
  {
   "cell_type": "code",
   "execution_count": 160,
   "id": "received-today",
   "metadata": {},
   "outputs": [
    {
     "data": {
      "text/html": [
       "<div>\n",
       "<style scoped>\n",
       "    .dataframe tbody tr th:only-of-type {\n",
       "        vertical-align: middle;\n",
       "    }\n",
       "\n",
       "    .dataframe tbody tr th {\n",
       "        vertical-align: top;\n",
       "    }\n",
       "\n",
       "    .dataframe thead th {\n",
       "        text-align: right;\n",
       "    }\n",
       "</style>\n",
       "<table border=\"1\" class=\"dataframe\">\n",
       "  <thead>\n",
       "    <tr style=\"text-align: right;\">\n",
       "      <th></th>\n",
       "      <th>device_vendor</th>\n",
       "      <th>sni</th>\n",
       "      <th>serial_num</th>\n",
       "      <th>In CT</th>\n",
       "      <th>cert_days</th>\n",
       "      <th>issuer_O</th>\n",
       "      <th>issuer_CN</th>\n",
       "      <th>device_id</th>\n",
       "      <th>count</th>\n",
       "      <th>certday_log10</th>\n",
       "      <th>Issuer</th>\n",
       "      <th>vendor_id</th>\n",
       "      <th>jittered</th>\n",
       "    </tr>\n",
       "  </thead>\n",
       "  <tbody>\n",
       "    <tr>\n",
       "      <th>8290</th>\n",
       "      <td>Sony</td>\n",
       "      <td>fling.cid.samba.tv</td>\n",
       "      <td>5283a6dd1642389d</td>\n",
       "      <td>True</td>\n",
       "      <td>397</td>\n",
       "      <td>GoDaddy.com</td>\n",
       "      <td>Go Daddy Secure Certificate Authority - G2</td>\n",
       "      <td>s4e406d9d6d</td>\n",
       "      <td>1384</td>\n",
       "      <td>2.598791</td>\n",
       "      <td>Public trust</td>\n",
       "      <td>6</td>\n",
       "      <td>6.003724</td>\n",
       "    </tr>\n",
       "  </tbody>\n",
       "</table>\n",
       "</div>"
      ],
      "text/plain": [
       "     device_vendor                 sni        serial_num  In CT  cert_days  \\\n",
       "8290          Sony  fling.cid.samba.tv  5283a6dd1642389d   True        397   \n",
       "\n",
       "         issuer_O                                   issuer_CN    device_id  \\\n",
       "8290  GoDaddy.com  Go Daddy Secure Certificate Authority - G2  s4e406d9d6d   \n",
       "\n",
       "      count  certday_log10        Issuer  vendor_id  jittered  \n",
       "8290   1384       2.598791  Public trust          6  6.003724  "
      ]
     },
     "execution_count": 160,
     "metadata": {},
     "output_type": "execute_result"
    }
   ],
   "source": [
    "df_leafval_sort.sample(1)"
   ]
  },
  {
   "cell_type": "code",
   "execution_count": 161,
   "id": "polyphonic-slovakia",
   "metadata": {},
   "outputs": [],
   "source": [
    "netflix = df_leafval_sort.loc[df_leafval_sort['issuer_O'].str.startswith(\"Netflix\")]"
   ]
  },
  {
   "cell_type": "code",
   "execution_count": 162,
   "id": "studied-guess",
   "metadata": {},
   "outputs": [
    {
     "data": {
      "text/plain": [
       "(2114, 13)"
      ]
     },
     "execution_count": 162,
     "metadata": {},
     "output_type": "execute_result"
    }
   ],
   "source": [
    "netflix.shape"
   ]
  },
  {
   "cell_type": "code",
   "execution_count": 163,
   "id": "introductory-strand",
   "metadata": {},
   "outputs": [],
   "source": [
    "netflix1 = netflix.groupby(['In CT', 'issuer_CN'])['serial_num'].agg(cert_set=lambda x: set(x), num_cert=lambda x: len(set(x))).reset_index()"
   ]
  },
  {
   "cell_type": "code",
   "execution_count": 164,
   "id": "special-england",
   "metadata": {},
   "outputs": [],
   "source": [
    "netflix2 = netflix.groupby(['In CT', 'issuer_CN'])['cert_days'].agg(cert_days=lambda x: set(x)).reset_index()"
   ]
  },
  {
   "cell_type": "code",
   "execution_count": 165,
   "id": "micro-petite",
   "metadata": {},
   "outputs": [],
   "source": [
    "netflix3 = netflix.groupby(['In CT', 'issuer_CN'])['sni'].agg(sni_set = lambda x: set(x)).reset_index()"
   ]
  },
  {
   "cell_type": "code",
   "execution_count": 166,
   "id": "horizontal-latvia",
   "metadata": {},
   "outputs": [],
   "source": [
    "netflix_merge = pd.merge(netflix1, netflix2, left_on=['In CT', 'issuer_CN'], right_on=['In CT', 'issuer_CN'], how='inner')"
   ]
  },
  {
   "cell_type": "code",
   "execution_count": 167,
   "id": "sublime-ending",
   "metadata": {},
   "outputs": [],
   "source": [
    "netflix_merge = pd.merge(netflix_merge, netflix3, left_on=['In CT', 'issuer_CN'], right_on=['In CT', 'issuer_CN'], how='inner')"
   ]
  },
  {
   "cell_type": "code",
   "execution_count": 168,
   "id": "racial-smart",
   "metadata": {},
   "outputs": [
    {
     "data": {
      "text/html": [
       "<div>\n",
       "<style scoped>\n",
       "    .dataframe tbody tr th:only-of-type {\n",
       "        vertical-align: middle;\n",
       "    }\n",
       "\n",
       "    .dataframe tbody tr th {\n",
       "        vertical-align: top;\n",
       "    }\n",
       "\n",
       "    .dataframe thead th {\n",
       "        text-align: right;\n",
       "    }\n",
       "</style>\n",
       "<table border=\"1\" class=\"dataframe\">\n",
       "  <thead>\n",
       "    <tr style=\"text-align: right;\">\n",
       "      <th></th>\n",
       "      <th>In CT</th>\n",
       "      <th>issuer_CN</th>\n",
       "      <th>cert_set</th>\n",
       "      <th>num_cert</th>\n",
       "      <th>cert_days</th>\n",
       "      <th>sni_set</th>\n",
       "    </tr>\n",
       "  </thead>\n",
       "  <tbody>\n",
       "    <tr>\n",
       "      <th>0</th>\n",
       "      <td>False</td>\n",
       "      <td>Netflix Public SHA2 RSA CA 3</td>\n",
       "      <td>{0c259feba33d6f31abb666e83ba20b31, 0efe36876de5c9be6700dd194a011588, 097c73332d504b2a359ec1d27c5e033b, 055831176ef62f55a2e0af91b558b8e5, 099f0ff9b649373551b6168218d31749, 0a3221a7ebf99d71960d31fe425ab69d, 0b205647250c3b6496039f582b124119, 0da990551346461563aee07f8691defe, 01169f1249562ecceb486641ec1a8f45, 05f305e73708715d5da07e9300952cd0, 0d583a8e2d5df32d424589ec81c5e851, 0ab3ec48f76a43d67558d10bbf08447c, 0cd420cc759ce8e96c3be53494dfc711}</td>\n",
       "      <td>13</td>\n",
       "      <td>{32, 33, 34, 36, 396, 30, 31}</td>\n",
       "      <td>{secure.netflix.com, api.netflix.com, customerevents.netflix.com, uiboot.netflix.com, api-global.netflix.com, ichnaea.netflix.com}</td>\n",
       "    </tr>\n",
       "    <tr>\n",
       "      <th>1</th>\n",
       "      <td>False</td>\n",
       "      <td>Primary Certificate Authority</td>\n",
       "      <td>{01131c26d92130743a79219ad2292c8deed5, 019a641b97c22001a7994740b3f19a543696, 01505884ca4a937e9131068877e360301a4a}</td>\n",
       "      <td>3</td>\n",
       "      <td>{8150}</td>\n",
       "      <td>{appboot.netflix.com, nrdp50-appboot.netflix.com, nrdp51-appboot.netflix.com, nrdp.nccp.netflix.com, nccp-nrdp-31.cloud.netflix.net}</td>\n",
       "    </tr>\n",
       "  </tbody>\n",
       "</table>\n",
       "</div>"
      ],
      "text/plain": [
       "   In CT                      issuer_CN  \\\n",
       "0  False   Netflix Public SHA2 RSA CA 3   \n",
       "1  False  Primary Certificate Authority   \n",
       "\n",
       "                                                                                                                                                                                                                                                                                                                                                                                                                                                     cert_set  \\\n",
       "0  {0c259feba33d6f31abb666e83ba20b31, 0efe36876de5c9be6700dd194a011588, 097c73332d504b2a359ec1d27c5e033b, 055831176ef62f55a2e0af91b558b8e5, 099f0ff9b649373551b6168218d31749, 0a3221a7ebf99d71960d31fe425ab69d, 0b205647250c3b6496039f582b124119, 0da990551346461563aee07f8691defe, 01169f1249562ecceb486641ec1a8f45, 05f305e73708715d5da07e9300952cd0, 0d583a8e2d5df32d424589ec81c5e851, 0ab3ec48f76a43d67558d10bbf08447c, 0cd420cc759ce8e96c3be53494dfc711}   \n",
       "1                                                                                                                                                                                                                                                                                                                                          {01131c26d92130743a79219ad2292c8deed5, 019a641b97c22001a7994740b3f19a543696, 01505884ca4a937e9131068877e360301a4a}   \n",
       "\n",
       "   num_cert                      cert_days  \\\n",
       "0        13  {32, 33, 34, 36, 396, 30, 31}   \n",
       "1         3                         {8150}   \n",
       "\n",
       "                                                                                                                                sni_set  \n",
       "0    {secure.netflix.com, api.netflix.com, customerevents.netflix.com, uiboot.netflix.com, api-global.netflix.com, ichnaea.netflix.com}  \n",
       "1  {appboot.netflix.com, nrdp50-appboot.netflix.com, nrdp51-appboot.netflix.com, nrdp.nccp.netflix.com, nccp-nrdp-31.cloud.netflix.net}  "
      ]
     },
     "execution_count": 168,
     "metadata": {},
     "output_type": "execute_result"
    }
   ],
   "source": [
    "netflix_merge"
   ]
  },
  {
   "cell_type": "code",
   "execution_count": 132,
   "id": "macro-breeding",
   "metadata": {},
   "outputs": [],
   "source": [
    "netflix_serial = list(set(netflix['serial_num'].tolist()))"
   ]
  },
  {
   "cell_type": "code",
   "execution_count": 133,
   "id": "compound-bonus",
   "metadata": {},
   "outputs": [
    {
     "data": {
      "text/plain": [
       "['0c259feba33d6f31abb666e83ba20b31',\n",
       " '0efe36876de5c9be6700dd194a011588',\n",
       " '097c73332d504b2a359ec1d27c5e033b',\n",
       " '055831176ef62f55a2e0af91b558b8e5',\n",
       " '019a641b97c22001a7994740b3f19a543696',\n",
       " '0a3221a7ebf99d71960d31fe425ab69d',\n",
       " '099f0ff9b649373551b6168218d31749',\n",
       " '0b205647250c3b6496039f582b124119',\n",
       " '0da990551346461563aee07f8691defe',\n",
       " '01131c26d92130743a79219ad2292c8deed5',\n",
       " '01169f1249562ecceb486641ec1a8f45',\n",
       " '05f305e73708715d5da07e9300952cd0',\n",
       " '0d583a8e2d5df32d424589ec81c5e851',\n",
       " '01505884ca4a937e9131068877e360301a4a',\n",
       " '0ab3ec48f76a43d67558d10bbf08447c',\n",
       " '0cd420cc759ce8e96c3be53494dfc711']"
      ]
     },
     "execution_count": 133,
     "metadata": {},
     "output_type": "execute_result"
    }
   ],
   "source": [
    "netflix_serial"
   ]
  },
  {
   "cell_type": "code",
   "execution_count": 122,
   "id": "muslim-sudan",
   "metadata": {},
   "outputs": [],
   "source": [
    "iot_ssl = pd.read_csv(\"/Users/hongyingdong/Documents/iot-study/iot-ny0418/pcap_extracted/zeek_ssl.csv\")"
   ]
  },
  {
   "cell_type": "code",
   "execution_count": 123,
   "id": "sunset-brooklyn",
   "metadata": {},
   "outputs": [
    {
     "data": {
      "text/html": [
       "<div>\n",
       "<style scoped>\n",
       "    .dataframe tbody tr th:only-of-type {\n",
       "        vertical-align: middle;\n",
       "    }\n",
       "\n",
       "    .dataframe tbody tr th {\n",
       "        vertical-align: top;\n",
       "    }\n",
       "\n",
       "    .dataframe thead th {\n",
       "        text-align: right;\n",
       "    }\n",
       "</style>\n",
       "<table border=\"1\" class=\"dataframe\">\n",
       "  <thead>\n",
       "    <tr style=\"text-align: right;\">\n",
       "      <th></th>\n",
       "      <th>ts</th>\n",
       "      <th>uid</th>\n",
       "      <th>id.orig_h</th>\n",
       "      <th>id.orig_p</th>\n",
       "      <th>id.resp_h</th>\n",
       "      <th>id.resp_p</th>\n",
       "      <th>version</th>\n",
       "      <th>cipher</th>\n",
       "      <th>curve</th>\n",
       "      <th>server_name</th>\n",
       "      <th>resumed</th>\n",
       "      <th>last_alert</th>\n",
       "      <th>next_protocol</th>\n",
       "      <th>established</th>\n",
       "      <th>ssl_history</th>\n",
       "      <th>cert_chain_fps</th>\n",
       "      <th>client_cert_chain_fps</th>\n",
       "      <th>sni_matches_cert</th>\n",
       "      <th>validation_status</th>\n",
       "    </tr>\n",
       "  </thead>\n",
       "  <tbody>\n",
       "    <tr>\n",
       "      <th>10766</th>\n",
       "      <td>1650123587.617423</td>\n",
       "      <td>C8rVZ33Bh2eQF2kb86</td>\n",
       "      <td>67.205.150.252</td>\n",
       "      <td>40738.0</td>\n",
       "      <td>142.251.40.142</td>\n",
       "      <td>443.0</td>\n",
       "      <td>TLSv12</td>\n",
       "      <td>TLS_ECDHE_ECDSA_WITH_CHACHA20_POLY1305_SHA256</td>\n",
       "      <td>-</td>\n",
       "      <td>encrypted-tbn0.gstatic.com</td>\n",
       "      <td>F</td>\n",
       "      <td>-</td>\n",
       "      <td>-</td>\n",
       "      <td>T</td>\n",
       "      <td>CsxknGIti</td>\n",
       "      <td>72be6d3c2b2a291f2cbf74a4020df57d9db774a472027852d1255ddf4611518c,23ecb03eec17338c4e33a6b48a41dc3cda12281bbc3ff813c0589d6cc2387522,3ee0278df71fa3c125c4cd487f01d774694e6fc57e0cd94c24efd769133918e5</td>\n",
       "      <td>(empty)</td>\n",
       "      <td>T</td>\n",
       "      <td>ok</td>\n",
       "    </tr>\n",
       "  </tbody>\n",
       "</table>\n",
       "</div>"
      ],
      "text/plain": [
       "                      ts                 uid       id.orig_h  id.orig_p  \\\n",
       "10766  1650123587.617423  C8rVZ33Bh2eQF2kb86  67.205.150.252    40738.0   \n",
       "\n",
       "            id.resp_h  id.resp_p version  \\\n",
       "10766  142.251.40.142      443.0  TLSv12   \n",
       "\n",
       "                                              cipher curve  \\\n",
       "10766  TLS_ECDHE_ECDSA_WITH_CHACHA20_POLY1305_SHA256     -   \n",
       "\n",
       "                      server_name resumed last_alert next_protocol  \\\n",
       "10766  encrypted-tbn0.gstatic.com       F          -             -   \n",
       "\n",
       "      established ssl_history  \\\n",
       "10766           T   CsxknGIti   \n",
       "\n",
       "                                                                                                                                                                                           cert_chain_fps  \\\n",
       "10766  72be6d3c2b2a291f2cbf74a4020df57d9db774a472027852d1255ddf4611518c,23ecb03eec17338c4e33a6b48a41dc3cda12281bbc3ff813c0589d6cc2387522,3ee0278df71fa3c125c4cd487f01d774694e6fc57e0cd94c24efd769133918e5   \n",
       "\n",
       "      client_cert_chain_fps sni_matches_cert validation_status  \n",
       "10766               (empty)                T                ok  "
      ]
     },
     "execution_count": 123,
     "metadata": {},
     "output_type": "execute_result"
    }
   ],
   "source": [
    "iot_ssl.sample(1)"
   ]
  },
  {
   "cell_type": "code",
   "execution_count": 124,
   "id": "double-confirmation",
   "metadata": {},
   "outputs": [
    {
     "data": {
      "text/plain": [
       "(45874, 19)"
      ]
     },
     "execution_count": 124,
     "metadata": {},
     "output_type": "execute_result"
    }
   ],
   "source": [
    "iot_ssl.shape"
   ]
  },
  {
   "cell_type": "code",
   "execution_count": 125,
   "id": "apart-farming",
   "metadata": {},
   "outputs": [],
   "source": [
    "iot_x509 = pd.read_csv(\"/Users/hongyingdong/Documents/iot-study/iot-ny0418/pcap_extracted/zeek_x509.csv\")"
   ]
  },
  {
   "cell_type": "code",
   "execution_count": 126,
   "id": "abstract-fleet",
   "metadata": {},
   "outputs": [
    {
     "data": {
      "text/html": [
       "<div>\n",
       "<style scoped>\n",
       "    .dataframe tbody tr th:only-of-type {\n",
       "        vertical-align: middle;\n",
       "    }\n",
       "\n",
       "    .dataframe tbody tr th {\n",
       "        vertical-align: top;\n",
       "    }\n",
       "\n",
       "    .dataframe thead th {\n",
       "        text-align: right;\n",
       "    }\n",
       "</style>\n",
       "<table border=\"1\" class=\"dataframe\">\n",
       "  <thead>\n",
       "    <tr style=\"text-align: right;\">\n",
       "      <th></th>\n",
       "      <th>ts</th>\n",
       "      <th>fingerprint</th>\n",
       "      <th>certificate.version</th>\n",
       "      <th>certificate.serial</th>\n",
       "      <th>certificate.subject</th>\n",
       "      <th>certificate.issuer</th>\n",
       "      <th>certificate.not_valid_before</th>\n",
       "      <th>certificate.not_valid_after</th>\n",
       "      <th>certificate.key_alg</th>\n",
       "      <th>certificate.sig_alg</th>\n",
       "      <th>certificate.key_type</th>\n",
       "      <th>certificate.key_length</th>\n",
       "      <th>certificate.exponent</th>\n",
       "      <th>certificate.curve</th>\n",
       "      <th>san.dns</th>\n",
       "      <th>san.uri</th>\n",
       "      <th>san.email</th>\n",
       "      <th>san.ip</th>\n",
       "      <th>basic_constraints.ca</th>\n",
       "      <th>basic_constraints.path_len</th>\n",
       "      <th>host_cert</th>\n",
       "      <th>client_cert</th>\n",
       "    </tr>\n",
       "  </thead>\n",
       "  <tbody>\n",
       "    <tr>\n",
       "      <th>30110</th>\n",
       "      <td>1650129638.698316</td>\n",
       "      <td>fa153341d4493a7ae93096b7c85a1b829ec5597b7b93591253ddffc5079461b0</td>\n",
       "      <td>3.0</td>\n",
       "      <td>0E37426371650FAD1D5F2E7D00159F07</td>\n",
       "      <td>CN=*.wyzecam.com,O=WYZE LABS INC.,L=Kirkland,ST=Washington,C=US</td>\n",
       "      <td>CN=DigiCert TLS RSA SHA256 2020 CA1,O=DigiCert Inc,C=US</td>\n",
       "      <td>1.638248e+09</td>\n",
       "      <td>1.669784e+09</td>\n",
       "      <td>rsaEncryption</td>\n",
       "      <td>sha256WithRSAEncryption</td>\n",
       "      <td>rsa</td>\n",
       "      <td>2048.0</td>\n",
       "      <td>65537.0</td>\n",
       "      <td>-</td>\n",
       "      <td>*.wyzecam.com,wyzecam.com</td>\n",
       "      <td>-</td>\n",
       "      <td>-</td>\n",
       "      <td>-</td>\n",
       "      <td>F</td>\n",
       "      <td>-</td>\n",
       "      <td>T</td>\n",
       "      <td>F</td>\n",
       "    </tr>\n",
       "  </tbody>\n",
       "</table>\n",
       "</div>"
      ],
      "text/plain": [
       "                      ts  \\\n",
       "30110  1650129638.698316   \n",
       "\n",
       "                                                            fingerprint  \\\n",
       "30110  fa153341d4493a7ae93096b7c85a1b829ec5597b7b93591253ddffc5079461b0   \n",
       "\n",
       "       certificate.version                certificate.serial  \\\n",
       "30110                  3.0  0E37426371650FAD1D5F2E7D00159F07   \n",
       "\n",
       "                                                   certificate.subject  \\\n",
       "30110  CN=*.wyzecam.com,O=WYZE LABS INC.,L=Kirkland,ST=Washington,C=US   \n",
       "\n",
       "                                            certificate.issuer  \\\n",
       "30110  CN=DigiCert TLS RSA SHA256 2020 CA1,O=DigiCert Inc,C=US   \n",
       "\n",
       "       certificate.not_valid_before  certificate.not_valid_after  \\\n",
       "30110                  1.638248e+09                 1.669784e+09   \n",
       "\n",
       "      certificate.key_alg      certificate.sig_alg certificate.key_type  \\\n",
       "30110       rsaEncryption  sha256WithRSAEncryption                  rsa   \n",
       "\n",
       "       certificate.key_length certificate.exponent certificate.curve  \\\n",
       "30110                  2048.0              65537.0                 -   \n",
       "\n",
       "                         san.dns san.uri san.email san.ip  \\\n",
       "30110  *.wyzecam.com,wyzecam.com       -         -      -   \n",
       "\n",
       "      basic_constraints.ca basic_constraints.path_len host_cert client_cert  \n",
       "30110                    F                          -         T           F  "
      ]
     },
     "execution_count": 126,
     "metadata": {},
     "output_type": "execute_result"
    }
   ],
   "source": [
    "iot_x509.sample(1)"
   ]
  },
  {
   "cell_type": "code",
   "execution_count": 134,
   "id": "tutorial-lesson",
   "metadata": {},
   "outputs": [],
   "source": [
    "netflix_cert=[]\n",
    "for serial in netflix_serial:\n",
    "    serial = serial.upper()\n",
    "    netflix_cert.append(serial)"
   ]
  },
  {
   "cell_type": "code",
   "execution_count": 135,
   "id": "bearing-compromise",
   "metadata": {},
   "outputs": [
    {
     "data": {
      "text/plain": [
       "['0C259FEBA33D6F31ABB666E83BA20B31',\n",
       " '0EFE36876DE5C9BE6700DD194A011588',\n",
       " '097C73332D504B2A359EC1D27C5E033B',\n",
       " '055831176EF62F55A2E0AF91B558B8E5',\n",
       " '019A641B97C22001A7994740B3F19A543696',\n",
       " '0A3221A7EBF99D71960D31FE425AB69D',\n",
       " '099F0FF9B649373551B6168218D31749',\n",
       " '0B205647250C3B6496039F582B124119',\n",
       " '0DA990551346461563AEE07F8691DEFE',\n",
       " '01131C26D92130743A79219AD2292C8DEED5',\n",
       " '01169F1249562ECCEB486641EC1A8F45',\n",
       " '05F305E73708715D5DA07E9300952CD0',\n",
       " '0D583A8E2D5DF32D424589EC81C5E851',\n",
       " '01505884CA4A937E9131068877E360301A4A',\n",
       " '0AB3EC48F76A43D67558D10BBF08447C',\n",
       " '0CD420CC759CE8E96C3BE53494DFC711']"
      ]
     },
     "execution_count": 135,
     "metadata": {},
     "output_type": "execute_result"
    }
   ],
   "source": [
    "netflix_cert"
   ]
  },
  {
   "cell_type": "code",
   "execution_count": 136,
   "id": "corporate-diesel",
   "metadata": {},
   "outputs": [],
   "source": [
    "iot_ssl['cert_chain_fps'] = iot_ssl['cert_chain_fps'].fillna(\"missing\")"
   ]
  },
  {
   "cell_type": "code",
   "execution_count": 137,
   "id": "nervous-canon",
   "metadata": {},
   "outputs": [],
   "source": [
    "iot_ssl['fingerprint'] = iot_ssl['cert_chain_fps'].apply(lambda x: x.split(\",\")[0])"
   ]
  },
  {
   "cell_type": "code",
   "execution_count": 138,
   "id": "injured-microwave",
   "metadata": {},
   "outputs": [],
   "source": [
    "netflix_finger_lis = list(set(iot_x509.loc[iot_x509['certificate.serial'].isin(netflix_cert)]['fingerprint'].tolist()))"
   ]
  },
  {
   "cell_type": "code",
   "execution_count": 139,
   "id": "legal-traveler",
   "metadata": {},
   "outputs": [],
   "source": [
    "netflix_ssl = iot_ssl.loc[iot_ssl['fingerprint'].isin(netflix_finger_lis)]"
   ]
  },
  {
   "cell_type": "code",
   "execution_count": 140,
   "id": "union-biotechnology",
   "metadata": {},
   "outputs": [
    {
     "data": {
      "text/plain": [
       "(220, 20)"
      ]
     },
     "execution_count": 140,
     "metadata": {},
     "output_type": "execute_result"
    }
   ],
   "source": [
    "netflix_ssl.shape"
   ]
  },
  {
   "cell_type": "code",
   "execution_count": 141,
   "id": "plain-ebony",
   "metadata": {},
   "outputs": [
    {
     "name": "stderr",
     "output_type": "stream",
     "text": [
      "<ipython-input-141-a9ed37d8f59b>:1: SettingWithCopyWarning: \n",
      "A value is trying to be set on a copy of a slice from a DataFrame.\n",
      "Try using .loc[row_indexer,col_indexer] = value instead\n",
      "\n",
      "See the caveats in the documentation: https://pandas.pydata.org/pandas-docs/stable/user_guide/indexing.html#returning-a-view-versus-a-copy\n",
      "  netflix_ssl['cert_chain_len'] = netflix_ssl['cert_chain_fps'].apply(lambda x: len(x.split(\",\")))\n"
     ]
    }
   ],
   "source": [
    "netflix_ssl['cert_chain_len'] = netflix_ssl['cert_chain_fps'].apply(lambda x: len(x.split(\",\")))"
   ]
  },
  {
   "cell_type": "code",
   "execution_count": 142,
   "id": "obvious-valve",
   "metadata": {},
   "outputs": [
    {
     "data": {
      "text/plain": [
       "2    220\n",
       "Name: cert_chain_len, dtype: int64"
      ]
     },
     "execution_count": 142,
     "metadata": {},
     "output_type": "execute_result"
    }
   ],
   "source": [
    "netflix_ssl['cert_chain_len'].value_counts().nlargest(10)"
   ]
  },
  {
   "cell_type": "code",
   "execution_count": 143,
   "id": "external-motel",
   "metadata": {},
   "outputs": [
    {
     "data": {
      "text/html": [
       "<div>\n",
       "<style scoped>\n",
       "    .dataframe tbody tr th:only-of-type {\n",
       "        vertical-align: middle;\n",
       "    }\n",
       "\n",
       "    .dataframe tbody tr th {\n",
       "        vertical-align: top;\n",
       "    }\n",
       "\n",
       "    .dataframe thead th {\n",
       "        text-align: right;\n",
       "    }\n",
       "</style>\n",
       "<table border=\"1\" class=\"dataframe\">\n",
       "  <thead>\n",
       "    <tr style=\"text-align: right;\">\n",
       "      <th></th>\n",
       "      <th>ts</th>\n",
       "      <th>uid</th>\n",
       "      <th>id.orig_h</th>\n",
       "      <th>id.orig_p</th>\n",
       "      <th>id.resp_h</th>\n",
       "      <th>id.resp_p</th>\n",
       "      <th>version</th>\n",
       "      <th>cipher</th>\n",
       "      <th>curve</th>\n",
       "      <th>server_name</th>\n",
       "      <th>resumed</th>\n",
       "      <th>last_alert</th>\n",
       "      <th>next_protocol</th>\n",
       "      <th>established</th>\n",
       "      <th>ssl_history</th>\n",
       "      <th>cert_chain_fps</th>\n",
       "      <th>client_cert_chain_fps</th>\n",
       "      <th>sni_matches_cert</th>\n",
       "      <th>validation_status</th>\n",
       "      <th>fingerprint</th>\n",
       "      <th>cert_chain_len</th>\n",
       "    </tr>\n",
       "  </thead>\n",
       "  <tbody>\n",
       "    <tr>\n",
       "      <th>11762</th>\n",
       "      <td>1650129449.709408</td>\n",
       "      <td>CDkC9e4igNiJwWT8t3</td>\n",
       "      <td>67.205.150.252</td>\n",
       "      <td>41886.0</td>\n",
       "      <td>45.57.91.1</td>\n",
       "      <td>443.0</td>\n",
       "      <td>TLSv12</td>\n",
       "      <td>TLS_ECDHE_RSA_WITH_AES_128_GCM_SHA256</td>\n",
       "      <td>x25519</td>\n",
       "      <td>secure.netflix.com</td>\n",
       "      <td>F</td>\n",
       "      <td>-</td>\n",
       "      <td>-</td>\n",
       "      <td>T</td>\n",
       "      <td>CsxknGIti</td>\n",
       "      <td>e7be7ea2287c469520af2b64db7e48f067a667de641410bbb1c967eaf33e6b66,8cb67e8e76de03a83b9a4daaea595f70850df42a6e5602444754fc52f4001633</td>\n",
       "      <td>(empty)</td>\n",
       "      <td>T</td>\n",
       "      <td>unable to get local issuer certificate</td>\n",
       "      <td>e7be7ea2287c469520af2b64db7e48f067a667de641410bbb1c967eaf33e6b66</td>\n",
       "      <td>2</td>\n",
       "    </tr>\n",
       "    <tr>\n",
       "      <th>43700</th>\n",
       "      <td>1650126102.056942</td>\n",
       "      <td>CYXdI14rfKNlYueO3l</td>\n",
       "      <td>67.205.150.252</td>\n",
       "      <td>52511.0</td>\n",
       "      <td>52.49.69.103</td>\n",
       "      <td>443.0</td>\n",
       "      <td>TLSv12</td>\n",
       "      <td>TLS_ECDHE_RSA_WITH_AES_128_GCM_SHA256</td>\n",
       "      <td>secp256r1</td>\n",
       "      <td>uiboot.netflix.com</td>\n",
       "      <td>F</td>\n",
       "      <td>-</td>\n",
       "      <td>-</td>\n",
       "      <td>T</td>\n",
       "      <td>CsxknGIi</td>\n",
       "      <td>2a21c63433968c5e7d0e4b2486a2010c2e39079a93bf6b3dbf6da68e2d2df4ba,8cb67e8e76de03a83b9a4daaea595f70850df42a6e5602444754fc52f4001633</td>\n",
       "      <td>(empty)</td>\n",
       "      <td>T</td>\n",
       "      <td>unable to get local issuer certificate</td>\n",
       "      <td>2a21c63433968c5e7d0e4b2486a2010c2e39079a93bf6b3dbf6da68e2d2df4ba</td>\n",
       "      <td>2</td>\n",
       "    </tr>\n",
       "    <tr>\n",
       "      <th>360</th>\n",
       "      <td>1650130840.613970</td>\n",
       "      <td>CpjWkM29TjhRQvqxo8</td>\n",
       "      <td>67.205.150.252</td>\n",
       "      <td>63169.0</td>\n",
       "      <td>52.1.25.196</td>\n",
       "      <td>443.0</td>\n",
       "      <td>TLSv12</td>\n",
       "      <td>TLS_ECDHE_RSA_WITH_AES_128_GCM_SHA256</td>\n",
       "      <td>secp256r1</td>\n",
       "      <td>nrdp.nccp.netflix.com</td>\n",
       "      <td>F</td>\n",
       "      <td>-</td>\n",
       "      <td>-</td>\n",
       "      <td>T</td>\n",
       "      <td>CsxknGIi</td>\n",
       "      <td>8f96e9f52e3ca489761ba6fd30e5d369959172dc4faf28397e62e7f605ec0a30,0a4a82405e240423710d9276ed1d3e03b8d6ebdf3187c4b03f09655fbfccbd6e</td>\n",
       "      <td>(empty)</td>\n",
       "      <td>T</td>\n",
       "      <td>self signed certificate in certificate chain</td>\n",
       "      <td>8f96e9f52e3ca489761ba6fd30e5d369959172dc4faf28397e62e7f605ec0a30</td>\n",
       "      <td>2</td>\n",
       "    </tr>\n",
       "  </tbody>\n",
       "</table>\n",
       "</div>"
      ],
      "text/plain": [
       "                      ts                 uid       id.orig_h  id.orig_p  \\\n",
       "11762  1650129449.709408  CDkC9e4igNiJwWT8t3  67.205.150.252    41886.0   \n",
       "43700  1650126102.056942  CYXdI14rfKNlYueO3l  67.205.150.252    52511.0   \n",
       "360    1650130840.613970  CpjWkM29TjhRQvqxo8  67.205.150.252    63169.0   \n",
       "\n",
       "          id.resp_h  id.resp_p version                                 cipher  \\\n",
       "11762    45.57.91.1      443.0  TLSv12  TLS_ECDHE_RSA_WITH_AES_128_GCM_SHA256   \n",
       "43700  52.49.69.103      443.0  TLSv12  TLS_ECDHE_RSA_WITH_AES_128_GCM_SHA256   \n",
       "360     52.1.25.196      443.0  TLSv12  TLS_ECDHE_RSA_WITH_AES_128_GCM_SHA256   \n",
       "\n",
       "           curve            server_name resumed last_alert next_protocol  \\\n",
       "11762     x25519     secure.netflix.com       F          -             -   \n",
       "43700  secp256r1     uiboot.netflix.com       F          -             -   \n",
       "360    secp256r1  nrdp.nccp.netflix.com       F          -             -   \n",
       "\n",
       "      established ssl_history  \\\n",
       "11762           T   CsxknGIti   \n",
       "43700           T    CsxknGIi   \n",
       "360             T    CsxknGIi   \n",
       "\n",
       "                                                                                                                          cert_chain_fps  \\\n",
       "11762  e7be7ea2287c469520af2b64db7e48f067a667de641410bbb1c967eaf33e6b66,8cb67e8e76de03a83b9a4daaea595f70850df42a6e5602444754fc52f4001633   \n",
       "43700  2a21c63433968c5e7d0e4b2486a2010c2e39079a93bf6b3dbf6da68e2d2df4ba,8cb67e8e76de03a83b9a4daaea595f70850df42a6e5602444754fc52f4001633   \n",
       "360    8f96e9f52e3ca489761ba6fd30e5d369959172dc4faf28397e62e7f605ec0a30,0a4a82405e240423710d9276ed1d3e03b8d6ebdf3187c4b03f09655fbfccbd6e   \n",
       "\n",
       "      client_cert_chain_fps sni_matches_cert  \\\n",
       "11762               (empty)                T   \n",
       "43700               (empty)                T   \n",
       "360                 (empty)                T   \n",
       "\n",
       "                                  validation_status  \\\n",
       "11762        unable to get local issuer certificate   \n",
       "43700        unable to get local issuer certificate   \n",
       "360    self signed certificate in certificate chain   \n",
       "\n",
       "                                                            fingerprint  \\\n",
       "11762  e7be7ea2287c469520af2b64db7e48f067a667de641410bbb1c967eaf33e6b66   \n",
       "43700  2a21c63433968c5e7d0e4b2486a2010c2e39079a93bf6b3dbf6da68e2d2df4ba   \n",
       "360    8f96e9f52e3ca489761ba6fd30e5d369959172dc4faf28397e62e7f605ec0a30   \n",
       "\n",
       "       cert_chain_len  \n",
       "11762               2  \n",
       "43700               2  \n",
       "360                 2  "
      ]
     },
     "execution_count": 143,
     "metadata": {},
     "output_type": "execute_result"
    }
   ],
   "source": [
    "netflix_ssl.sample(3)"
   ]
  },
  {
   "cell_type": "code",
   "execution_count": 144,
   "id": "legislative-session",
   "metadata": {},
   "outputs": [
    {
     "name": "stderr",
     "output_type": "stream",
     "text": [
      "<ipython-input-144-37e9788632dd>:1: SettingWithCopyWarning: \n",
      "A value is trying to be set on a copy of a slice from a DataFrame.\n",
      "Try using .loc[row_indexer,col_indexer] = value instead\n",
      "\n",
      "See the caveats in the documentation: https://pandas.pydata.org/pandas-docs/stable/user_guide/indexing.html#returning-a-view-versus-a-copy\n",
      "  netflix_ssl['last_cert_fingerprint'] = netflix_ssl['cert_chain_fps'].apply(lambda x: x.split(\",\")[-1])\n"
     ]
    }
   ],
   "source": [
    "netflix_ssl['last_cert_fingerprint'] = netflix_ssl['cert_chain_fps'].apply(lambda x: x.split(\",\")[-1])"
   ]
  },
  {
   "cell_type": "code",
   "execution_count": 145,
   "id": "smaller-coordinator",
   "metadata": {},
   "outputs": [],
   "source": [
    "iot_x509_dropdup = iot_x509.drop_duplicates(['fingerprint'])"
   ]
  },
  {
   "cell_type": "code",
   "execution_count": 146,
   "id": "funky-inspector",
   "metadata": {},
   "outputs": [
    {
     "data": {
      "text/plain": [
       "(21910, 22)"
      ]
     },
     "execution_count": 146,
     "metadata": {},
     "output_type": "execute_result"
    }
   ],
   "source": [
    "iot_x509_dropdup.shape"
   ]
  },
  {
   "cell_type": "code",
   "execution_count": 147,
   "id": "nominated-canyon",
   "metadata": {},
   "outputs": [],
   "source": [
    "root_netflixssl = pd.merge(netflix_ssl, iot_x509_dropdup, left_on=\"last_cert_fingerprint\", right_on= \"fingerprint\", how=\"left\")"
   ]
  },
  {
   "cell_type": "code",
   "execution_count": 148,
   "id": "demographic-consciousness",
   "metadata": {},
   "outputs": [
    {
     "data": {
      "text/plain": [
       "(220, 44)"
      ]
     },
     "execution_count": 148,
     "metadata": {},
     "output_type": "execute_result"
    }
   ],
   "source": [
    "root_netflixssl.shape"
   ]
  },
  {
   "cell_type": "code",
   "execution_count": null,
   "id": "rapid-island",
   "metadata": {},
   "outputs": [],
   "source": []
  },
  {
   "cell_type": "markdown",
   "id": "inappropriate-pressure",
   "metadata": {},
   "source": [
    "### Other untrust issuers signed short certificates?"
   ]
  },
  {
   "cell_type": "code",
   "execution_count": 120,
   "id": "weird-village",
   "metadata": {},
   "outputs": [
    {
     "data": {
      "text/html": [
       "<div>\n",
       "<style scoped>\n",
       "    .dataframe tbody tr th:only-of-type {\n",
       "        vertical-align: middle;\n",
       "    }\n",
       "\n",
       "    .dataframe tbody tr th {\n",
       "        vertical-align: top;\n",
       "    }\n",
       "\n",
       "    .dataframe thead th {\n",
       "        text-align: right;\n",
       "    }\n",
       "</style>\n",
       "<table border=\"1\" class=\"dataframe\">\n",
       "  <thead>\n",
       "    <tr style=\"text-align: right;\">\n",
       "      <th></th>\n",
       "      <th>device_vendor</th>\n",
       "      <th>sni</th>\n",
       "      <th>serial_num</th>\n",
       "      <th>In CT</th>\n",
       "      <th>cert_days</th>\n",
       "      <th>issuer_O</th>\n",
       "      <th>issuer_CN</th>\n",
       "      <th>device_id</th>\n",
       "      <th>count</th>\n",
       "      <th>certday_log10</th>\n",
       "      <th>Issuer</th>\n",
       "      <th>vendor_id</th>\n",
       "      <th>jittered</th>\n",
       "    </tr>\n",
       "  </thead>\n",
       "  <tbody>\n",
       "  </tbody>\n",
       "</table>\n",
       "</div>"
      ],
      "text/plain": [
       "Empty DataFrame\n",
       "Columns: [device_vendor, sni, serial_num, In CT, cert_days, issuer_O, issuer_CN, device_id, count, certday_log10, Issuer, vendor_id, jittered]\n",
       "Index: []"
      ]
     },
     "execution_count": 120,
     "metadata": {},
     "output_type": "execute_result"
    }
   ],
   "source": [
    "df_leafval_sort.loc[(df_leafval_sort['cert_days']<50) & \\\n",
    "                    (df_leafval_sort['Issuer'] == \"Untrust\") & \\\n",
    "                    (df_leafval_sort['issuer_O'] != \"Netflix\")]"
   ]
  },
  {
   "cell_type": "code",
   "execution_count": null,
   "id": "integral-edwards",
   "metadata": {},
   "outputs": [],
   "source": []
  },
  {
   "cell_type": "code",
   "execution_count": null,
   "id": "planned-vitamin",
   "metadata": {},
   "outputs": [],
   "source": []
  },
  {
   "cell_type": "code",
   "execution_count": 152,
   "id": "adverse-inspection",
   "metadata": {},
   "outputs": [],
   "source": [
    "netflix_df = dev_dropcol.loc[dev_dropcol['issuer_O'].str.startswith(\"Netflix\")][['server_name_indication', 'issuer_O', 'issuer_CN', 'serial_num',\\\n",
    "                                                                                 'chain_issuer_O', 'chain_issuer_CN', \\\n",
    "                                                                                 'chain_subject_O', 'chain_subject_CN', 'cert_chain_len', 'chain_serial_from_x509af', \\\n",
    "                                                                                 'response', 'cert_days', 'device_vendor']]"
   ]
  },
  {
   "cell_type": "code",
   "execution_count": 153,
   "id": "interior-persian",
   "metadata": {},
   "outputs": [
    {
     "data": {
      "text/plain": [
       "(13902, 13)"
      ]
     },
     "execution_count": 153,
     "metadata": {},
     "output_type": "execute_result"
    }
   ],
   "source": [
    "netflix_df.shape"
   ]
  },
  {
   "cell_type": "code",
   "execution_count": 386,
   "id": "corrected-desert",
   "metadata": {},
   "outputs": [],
   "source": [
    "netflix_df = netflix_df.drop_duplicates(['server_name_indication', 'issuer_CN', 'issuer_O', 'cert_serialNum_from_x509af', 'cert_chain_len'])"
   ]
  },
  {
   "cell_type": "code",
   "execution_count": 387,
   "id": "textile-marshall",
   "metadata": {},
   "outputs": [
    {
     "data": {
      "text/plain": [
       "(18, 13)"
      ]
     },
     "execution_count": 387,
     "metadata": {},
     "output_type": "execute_result"
    }
   ],
   "source": [
    "netflix_df.shape"
   ]
  },
  {
   "cell_type": "code",
   "execution_count": 389,
   "id": "supported-ordering",
   "metadata": {},
   "outputs": [],
   "source": [
    "netflix_df['last_cert_issuer_O'] = netflix_df['chain_issuer_O'].apply(lambda x: x[-1])"
   ]
  },
  {
   "cell_type": "code",
   "execution_count": 393,
   "id": "disciplinary-briefs",
   "metadata": {},
   "outputs": [
    {
     "data": {
      "text/html": [
       "<div>\n",
       "<style scoped>\n",
       "    .dataframe tbody tr th:only-of-type {\n",
       "        vertical-align: middle;\n",
       "    }\n",
       "\n",
       "    .dataframe tbody tr th {\n",
       "        vertical-align: top;\n",
       "    }\n",
       "\n",
       "    .dataframe thead th {\n",
       "        text-align: right;\n",
       "    }\n",
       "</style>\n",
       "<table border=\"1\" class=\"dataframe\">\n",
       "  <thead>\n",
       "    <tr style=\"text-align: right;\">\n",
       "      <th></th>\n",
       "      <th>server_name_indication</th>\n",
       "      <th>issuer_O</th>\n",
       "      <th>issuer_CN</th>\n",
       "      <th>cert_serialNum_from_x509af</th>\n",
       "      <th>chain_issuer_O</th>\n",
       "      <th>chain_issuer_CN</th>\n",
       "      <th>chain_subject_O</th>\n",
       "      <th>chain_subject_CN</th>\n",
       "      <th>cert_chain_len</th>\n",
       "      <th>chain_serial_from_x509af</th>\n",
       "      <th>if_in_crtsh</th>\n",
       "      <th>cert_days</th>\n",
       "      <th>device_vendor</th>\n",
       "      <th>last_cert_issuer_O</th>\n",
       "    </tr>\n",
       "  </thead>\n",
       "  <tbody>\n",
       "    <tr>\n",
       "      <th>10658</th>\n",
       "      <td>customerevents.netflix.com</td>\n",
       "      <td>Netflix</td>\n",
       "      <td>Netflix Public SHA2 RSA CA 3</td>\n",
       "      <td>09ee66e2bb3bb4eee78ee0487d66c9fd</td>\n",
       "      <td>[Netflix, VeriSign]</td>\n",
       "      <td>[Netflix Public SHA2 RSA CA 3, VeriSign Class 3 Public Primary Certification ]</td>\n",
       "      <td>[Netflix, Netflix]</td>\n",
       "      <td>[customerevents.netflix.com, Netflix Public SHA2 RSA CA 3]</td>\n",
       "      <td>2</td>\n",
       "      <td>[09ee66e2bb3bb4eee78ee0487d66c9fd, 35935b1ee9b4608968cd82922571a20b]</td>\n",
       "      <td>False</td>\n",
       "      <td>396</td>\n",
       "      <td>amazon</td>\n",
       "      <td>VeriSign</td>\n",
       "    </tr>\n",
       "    <tr>\n",
       "      <th>12125</th>\n",
       "      <td>ichnaea.netflix.com</td>\n",
       "      <td>Netflix</td>\n",
       "      <td>Netflix Public SHA2 RSA CA 3</td>\n",
       "      <td>09ee66e2bb3bb4eee78ee0487d66c9fd</td>\n",
       "      <td>[Netflix, VeriSign]</td>\n",
       "      <td>[Netflix Public SHA2 RSA CA 3, VeriSign Class 3 Public Primary Certification ]</td>\n",
       "      <td>[Netflix, Netflix]</td>\n",
       "      <td>[customerevents.netflix.com, Netflix Public SHA2 RSA CA 3]</td>\n",
       "      <td>2</td>\n",
       "      <td>[09ee66e2bb3bb4eee78ee0487d66c9fd, 35935b1ee9b4608968cd82922571a20b]</td>\n",
       "      <td>False</td>\n",
       "      <td>396</td>\n",
       "      <td>amazon</td>\n",
       "      <td>VeriSign</td>\n",
       "    </tr>\n",
       "    <tr>\n",
       "      <th>20126</th>\n",
       "      <td>api.netflix.com</td>\n",
       "      <td>Netflix</td>\n",
       "      <td>Netflix Public SHA2 RSA CA 3</td>\n",
       "      <td>030f25774bcfdd0d6e146f848182a856</td>\n",
       "      <td>[Netflix, VeriSign]</td>\n",
       "      <td>[Netflix Public SHA2 RSA CA 3, VeriSign Class 3 Public Primary Certification ]</td>\n",
       "      <td>[Netflix, Netflix]</td>\n",
       "      <td>[api.netflix.com, Netflix Public SHA2 RSA CA 3]</td>\n",
       "      <td>2</td>\n",
       "      <td>[030f25774bcfdd0d6e146f848182a856, 35935b1ee9b4608968cd82922571a20b]</td>\n",
       "      <td>True</td>\n",
       "      <td>396</td>\n",
       "      <td>roku</td>\n",
       "      <td>VeriSign</td>\n",
       "    </tr>\n",
       "    <tr>\n",
       "      <th>43658</th>\n",
       "      <td>nccp-nrdp-31.cloud.netflix.net</td>\n",
       "      <td>Netflix Inc</td>\n",
       "      <td>Primary Certificate Authority</td>\n",
       "      <td>019a641b97c22001a7994740b3f19a543696</td>\n",
       "      <td>[Netflix Inc, Netflix Inc]</td>\n",
       "      <td>[Primary Certificate Authority, Primary Certificate Authority]</td>\n",
       "      <td>[Netflix, Netflix Inc]</td>\n",
       "      <td>[*.cloud.netflix.net, Primary Certificate Authority]</td>\n",
       "      <td>2</td>\n",
       "      <td>[019a641b97c22001a7994740b3f19a543696, 00]</td>\n",
       "      <td>False</td>\n",
       "      <td>8150</td>\n",
       "      <td>roku</td>\n",
       "      <td>Netflix Inc</td>\n",
       "    </tr>\n",
       "    <tr>\n",
       "      <th>48074</th>\n",
       "      <td>uiboot.netflix.com</td>\n",
       "      <td>Netflix</td>\n",
       "      <td>Netflix Public SHA2 RSA CA 3</td>\n",
       "      <td>030f25774bcfdd0d6e146f848182a856</td>\n",
       "      <td>[Netflix, VeriSign]</td>\n",
       "      <td>[Netflix Public SHA2 RSA CA 3, VeriSign Class 3 Public Primary Certification ]</td>\n",
       "      <td>[Netflix, Netflix]</td>\n",
       "      <td>[api.netflix.com, Netflix Public SHA2 RSA CA 3]</td>\n",
       "      <td>2</td>\n",
       "      <td>[030f25774bcfdd0d6e146f848182a856, 35935b1ee9b4608968cd82922571a20b]</td>\n",
       "      <td>True</td>\n",
       "      <td>396</td>\n",
       "      <td>amazon</td>\n",
       "      <td>VeriSign</td>\n",
       "    </tr>\n",
       "    <tr>\n",
       "      <th>52050</th>\n",
       "      <td>api-global.netflix.com</td>\n",
       "      <td>Netflix</td>\n",
       "      <td>Netflix Public SHA2 RSA CA 3</td>\n",
       "      <td>030f25774bcfdd0d6e146f848182a856</td>\n",
       "      <td>[Netflix, VeriSign]</td>\n",
       "      <td>[Netflix Public SHA2 RSA CA 3, VeriSign Class 3 Public Primary Certification ]</td>\n",
       "      <td>[Netflix, Netflix]</td>\n",
       "      <td>[api.netflix.com, Netflix Public SHA2 RSA CA 3]</td>\n",
       "      <td>2</td>\n",
       "      <td>[030f25774bcfdd0d6e146f848182a856, 35935b1ee9b4608968cd82922571a20b]</td>\n",
       "      <td>True</td>\n",
       "      <td>396</td>\n",
       "      <td>amazon</td>\n",
       "      <td>VeriSign</td>\n",
       "    </tr>\n",
       "    <tr>\n",
       "      <th>66034</th>\n",
       "      <td>nrdp.nccp.netflix.com</td>\n",
       "      <td>Netflix Inc</td>\n",
       "      <td>Primary Certificate Authority</td>\n",
       "      <td>01505884ca4a937e9131068877e360301a4a</td>\n",
       "      <td>[Netflix Inc, Netflix Inc]</td>\n",
       "      <td>[Primary Certificate Authority, Primary Certificate Authority]</td>\n",
       "      <td>[Netflix, Netflix Inc]</td>\n",
       "      <td>[*.nccp.netflix.com, Primary Certificate Authority]</td>\n",
       "      <td>2</td>\n",
       "      <td>[01505884ca4a937e9131068877e360301a4a, 00]</td>\n",
       "      <td>False</td>\n",
       "      <td>8150</td>\n",
       "      <td>tivo</td>\n",
       "      <td>Netflix Inc</td>\n",
       "    </tr>\n",
       "    <tr>\n",
       "      <th>476109</th>\n",
       "      <td>secure.netflix.com</td>\n",
       "      <td>Netflix</td>\n",
       "      <td>Netflix Public SHA2 RSA CA 3</td>\n",
       "      <td>0c537961e12287d5dc4c10847364e7f0</td>\n",
       "      <td>[Netflix, VeriSign]</td>\n",
       "      <td>[Netflix Public SHA2 RSA CA 3, VeriSign Class 3 Public Primary Certification ]</td>\n",
       "      <td>[Netflix, Netflix]</td>\n",
       "      <td>[secure.netflix.com, Netflix Public SHA2 RSA CA 3]</td>\n",
       "      <td>2</td>\n",
       "      <td>[0c537961e12287d5dc4c10847364e7f0, 35935b1ee9b4608968cd82922571a20b]</td>\n",
       "      <td>False</td>\n",
       "      <td>34</td>\n",
       "      <td>amazon</td>\n",
       "      <td>VeriSign</td>\n",
       "    </tr>\n",
       "    <tr>\n",
       "      <th>499516</th>\n",
       "      <td>secure.netflix.com</td>\n",
       "      <td>Netflix</td>\n",
       "      <td>Netflix Public SHA2 RSA CA 3</td>\n",
       "      <td>0649fc23f0f52976113ef503612d6fda</td>\n",
       "      <td>[Netflix, VeriSign]</td>\n",
       "      <td>[Netflix Public SHA2 RSA CA 3, VeriSign Class 3 Public Primary Certification ]</td>\n",
       "      <td>[Netflix, Netflix]</td>\n",
       "      <td>[secure.netflix.com, Netflix Public SHA2 RSA CA 3]</td>\n",
       "      <td>2</td>\n",
       "      <td>[0649fc23f0f52976113ef503612d6fda, 35935b1ee9b4608968cd82922571a20b]</td>\n",
       "      <td>True</td>\n",
       "      <td>31</td>\n",
       "      <td>amazon</td>\n",
       "      <td>VeriSign</td>\n",
       "    </tr>\n",
       "    <tr>\n",
       "      <th>531022</th>\n",
       "      <td>secure.netflix.com</td>\n",
       "      <td>Netflix</td>\n",
       "      <td>Netflix Public SHA2 RSA CA 3</td>\n",
       "      <td>0cbf3528fc66e61387332a8fa32a9263</td>\n",
       "      <td>[Netflix, VeriSign]</td>\n",
       "      <td>[Netflix Public SHA2 RSA CA 3, VeriSign Class 3 Public Primary Certification ]</td>\n",
       "      <td>[Netflix, Netflix]</td>\n",
       "      <td>[secure.netflix.com, Netflix Public SHA2 RSA CA 3]</td>\n",
       "      <td>2</td>\n",
       "      <td>[0cbf3528fc66e61387332a8fa32a9263, 35935b1ee9b4608968cd82922571a20b]</td>\n",
       "      <td>False</td>\n",
       "      <td>35</td>\n",
       "      <td>amazon</td>\n",
       "      <td>VeriSign</td>\n",
       "    </tr>\n",
       "    <tr>\n",
       "      <th>534416</th>\n",
       "      <td>secure.netflix.com</td>\n",
       "      <td>Netflix</td>\n",
       "      <td>Netflix Public SHA2 RSA CA 3</td>\n",
       "      <td>0dc8947208659ae2db997c128e812897</td>\n",
       "      <td>[Netflix, VeriSign]</td>\n",
       "      <td>[Netflix Public SHA2 RSA CA 3, VeriSign Class 3 Public Primary Certification ]</td>\n",
       "      <td>[Netflix, Netflix]</td>\n",
       "      <td>[secure.netflix.com, Netflix Public SHA2 RSA CA 3]</td>\n",
       "      <td>2</td>\n",
       "      <td>[0dc8947208659ae2db997c128e812897, 35935b1ee9b4608968cd82922571a20b]</td>\n",
       "      <td>False</td>\n",
       "      <td>33</td>\n",
       "      <td>amazon</td>\n",
       "      <td>VeriSign</td>\n",
       "    </tr>\n",
       "    <tr>\n",
       "      <th>547912</th>\n",
       "      <td>secure.netflix.com</td>\n",
       "      <td>Netflix</td>\n",
       "      <td>Netflix Public SHA2 RSA CA 3</td>\n",
       "      <td>080de471c1ac6e66b2c3030064e161ea</td>\n",
       "      <td>[Netflix, VeriSign]</td>\n",
       "      <td>[Netflix Public SHA2 RSA CA 3, VeriSign Class 3 Public Primary Certification ]</td>\n",
       "      <td>[Netflix, Netflix]</td>\n",
       "      <td>[secure.netflix.com, Netflix Public SHA2 RSA CA 3]</td>\n",
       "      <td>2</td>\n",
       "      <td>[080de471c1ac6e66b2c3030064e161ea, 35935b1ee9b4608968cd82922571a20b]</td>\n",
       "      <td>True</td>\n",
       "      <td>30</td>\n",
       "      <td>amazon</td>\n",
       "      <td>VeriSign</td>\n",
       "    </tr>\n",
       "    <tr>\n",
       "      <th>598792</th>\n",
       "      <td>secure.netflix.com</td>\n",
       "      <td>Netflix</td>\n",
       "      <td>Netflix Public SHA2 RSA CA 3</td>\n",
       "      <td>04d5f39eeb749e3a2f589015c6b617f7</td>\n",
       "      <td>[Netflix, VeriSign]</td>\n",
       "      <td>[Netflix Public SHA2 RSA CA 3, VeriSign Class 3 Public Primary Certification ]</td>\n",
       "      <td>[Netflix, Netflix]</td>\n",
       "      <td>[secure.netflix.com, Netflix Public SHA2 RSA CA 3]</td>\n",
       "      <td>2</td>\n",
       "      <td>[04d5f39eeb749e3a2f589015c6b617f7, 35935b1ee9b4608968cd82922571a20b]</td>\n",
       "      <td>False</td>\n",
       "      <td>30</td>\n",
       "      <td>amazon</td>\n",
       "      <td>VeriSign</td>\n",
       "    </tr>\n",
       "    <tr>\n",
       "      <th>617441</th>\n",
       "      <td>secure.netflix.com</td>\n",
       "      <td>Netflix</td>\n",
       "      <td>Netflix Public SHA2 RSA CA 3</td>\n",
       "      <td>0a85f1855a285c6bbd3588c35c96bd9c</td>\n",
       "      <td>[Netflix, VeriSign]</td>\n",
       "      <td>[Netflix Public SHA2 RSA CA 3, VeriSign Class 3 Public Primary Certification ]</td>\n",
       "      <td>[Netflix, Netflix]</td>\n",
       "      <td>[secure.netflix.com, Netflix Public SHA2 RSA CA 3]</td>\n",
       "      <td>2</td>\n",
       "      <td>[0a85f1855a285c6bbd3588c35c96bd9c, 35935b1ee9b4608968cd82922571a20b]</td>\n",
       "      <td>False</td>\n",
       "      <td>35</td>\n",
       "      <td>amazon</td>\n",
       "      <td>VeriSign</td>\n",
       "    </tr>\n",
       "    <tr>\n",
       "      <th>627082</th>\n",
       "      <td>secure.netflix.com</td>\n",
       "      <td>Netflix</td>\n",
       "      <td>Netflix Public SHA2 RSA CA 3</td>\n",
       "      <td>0ce971341631ef8f3c5d54549fae8785</td>\n",
       "      <td>[Netflix, VeriSign]</td>\n",
       "      <td>[Netflix Public SHA2 RSA CA 3, VeriSign Class 3 Public Primary Certification ]</td>\n",
       "      <td>[Netflix, Netflix]</td>\n",
       "      <td>[secure.netflix.com, Netflix Public SHA2 RSA CA 3]</td>\n",
       "      <td>2</td>\n",
       "      <td>[0ce971341631ef8f3c5d54549fae8785, 35935b1ee9b4608968cd82922571a20b]</td>\n",
       "      <td>False</td>\n",
       "      <td>34</td>\n",
       "      <td>amazon</td>\n",
       "      <td>VeriSign</td>\n",
       "    </tr>\n",
       "    <tr>\n",
       "      <th>665474</th>\n",
       "      <td>secure.netflix.com</td>\n",
       "      <td>Netflix</td>\n",
       "      <td>Netflix Public SHA2 RSA CA 3</td>\n",
       "      <td>034d11a848c84d5d9a428e3d1e73b87b</td>\n",
       "      <td>[Netflix, VeriSign]</td>\n",
       "      <td>[Netflix Public SHA2 RSA CA 3, VeriSign Class 3 Public Primary Certification ]</td>\n",
       "      <td>[Netflix, Netflix]</td>\n",
       "      <td>[secure.netflix.com, Netflix Public SHA2 RSA CA 3]</td>\n",
       "      <td>2</td>\n",
       "      <td>[034d11a848c84d5d9a428e3d1e73b87b, 35935b1ee9b4608968cd82922571a20b]</td>\n",
       "      <td>False</td>\n",
       "      <td>29</td>\n",
       "      <td>amazon</td>\n",
       "      <td>VeriSign</td>\n",
       "    </tr>\n",
       "    <tr>\n",
       "      <th>686959</th>\n",
       "      <td>secure.netflix.com</td>\n",
       "      <td>Netflix</td>\n",
       "      <td>Netflix Public SHA2 RSA CA 3</td>\n",
       "      <td>09b02eb9d241bf8a7b2eef87022c63fb</td>\n",
       "      <td>[Netflix, VeriSign]</td>\n",
       "      <td>[Netflix Public SHA2 RSA CA 3, VeriSign Class 3 Public Primary Certification ]</td>\n",
       "      <td>[Netflix, Netflix]</td>\n",
       "      <td>[secure.netflix.com, Netflix Public SHA2 RSA CA 3]</td>\n",
       "      <td>2</td>\n",
       "      <td>[09b02eb9d241bf8a7b2eef87022c63fb, 35935b1ee9b4608968cd82922571a20b]</td>\n",
       "      <td>False</td>\n",
       "      <td>31</td>\n",
       "      <td>amazon</td>\n",
       "      <td>VeriSign</td>\n",
       "    </tr>\n",
       "    <tr>\n",
       "      <th>689296</th>\n",
       "      <td>secure.netflix.com</td>\n",
       "      <td>Netflix</td>\n",
       "      <td>Netflix Public SHA2 RSA CA 3</td>\n",
       "      <td>07af5e87c01cd864ad7f5d22a262c2f5</td>\n",
       "      <td>[Netflix, VeriSign]</td>\n",
       "      <td>[Netflix Public SHA2 RSA CA 3, VeriSign Class 3 Public Primary Certification ]</td>\n",
       "      <td>[Netflix, Netflix]</td>\n",
       "      <td>[secure.netflix.com, Netflix Public SHA2 RSA CA 3]</td>\n",
       "      <td>2</td>\n",
       "      <td>[07af5e87c01cd864ad7f5d22a262c2f5, 35935b1ee9b4608968cd82922571a20b]</td>\n",
       "      <td>False</td>\n",
       "      <td>29</td>\n",
       "      <td>amazon</td>\n",
       "      <td>VeriSign</td>\n",
       "    </tr>\n",
       "  </tbody>\n",
       "</table>\n",
       "</div>"
      ],
      "text/plain": [
       "                server_name_indication     issuer_O  \\\n",
       "10658       customerevents.netflix.com      Netflix   \n",
       "12125              ichnaea.netflix.com      Netflix   \n",
       "20126                  api.netflix.com      Netflix   \n",
       "43658   nccp-nrdp-31.cloud.netflix.net  Netflix Inc   \n",
       "48074               uiboot.netflix.com      Netflix   \n",
       "52050           api-global.netflix.com      Netflix   \n",
       "66034            nrdp.nccp.netflix.com  Netflix Inc   \n",
       "476109              secure.netflix.com      Netflix   \n",
       "499516              secure.netflix.com      Netflix   \n",
       "531022              secure.netflix.com      Netflix   \n",
       "534416              secure.netflix.com      Netflix   \n",
       "547912              secure.netflix.com      Netflix   \n",
       "598792              secure.netflix.com      Netflix   \n",
       "617441              secure.netflix.com      Netflix   \n",
       "627082              secure.netflix.com      Netflix   \n",
       "665474              secure.netflix.com      Netflix   \n",
       "686959              secure.netflix.com      Netflix   \n",
       "689296              secure.netflix.com      Netflix   \n",
       "\n",
       "                            issuer_CN            cert_serialNum_from_x509af  \\\n",
       "10658    Netflix Public SHA2 RSA CA 3      09ee66e2bb3bb4eee78ee0487d66c9fd   \n",
       "12125    Netflix Public SHA2 RSA CA 3      09ee66e2bb3bb4eee78ee0487d66c9fd   \n",
       "20126    Netflix Public SHA2 RSA CA 3      030f25774bcfdd0d6e146f848182a856   \n",
       "43658   Primary Certificate Authority  019a641b97c22001a7994740b3f19a543696   \n",
       "48074    Netflix Public SHA2 RSA CA 3      030f25774bcfdd0d6e146f848182a856   \n",
       "52050    Netflix Public SHA2 RSA CA 3      030f25774bcfdd0d6e146f848182a856   \n",
       "66034   Primary Certificate Authority  01505884ca4a937e9131068877e360301a4a   \n",
       "476109   Netflix Public SHA2 RSA CA 3      0c537961e12287d5dc4c10847364e7f0   \n",
       "499516   Netflix Public SHA2 RSA CA 3      0649fc23f0f52976113ef503612d6fda   \n",
       "531022   Netflix Public SHA2 RSA CA 3      0cbf3528fc66e61387332a8fa32a9263   \n",
       "534416   Netflix Public SHA2 RSA CA 3      0dc8947208659ae2db997c128e812897   \n",
       "547912   Netflix Public SHA2 RSA CA 3      080de471c1ac6e66b2c3030064e161ea   \n",
       "598792   Netflix Public SHA2 RSA CA 3      04d5f39eeb749e3a2f589015c6b617f7   \n",
       "617441   Netflix Public SHA2 RSA CA 3      0a85f1855a285c6bbd3588c35c96bd9c   \n",
       "627082   Netflix Public SHA2 RSA CA 3      0ce971341631ef8f3c5d54549fae8785   \n",
       "665474   Netflix Public SHA2 RSA CA 3      034d11a848c84d5d9a428e3d1e73b87b   \n",
       "686959   Netflix Public SHA2 RSA CA 3      09b02eb9d241bf8a7b2eef87022c63fb   \n",
       "689296   Netflix Public SHA2 RSA CA 3      07af5e87c01cd864ad7f5d22a262c2f5   \n",
       "\n",
       "                    chain_issuer_O  \\\n",
       "10658          [Netflix, VeriSign]   \n",
       "12125          [Netflix, VeriSign]   \n",
       "20126          [Netflix, VeriSign]   \n",
       "43658   [Netflix Inc, Netflix Inc]   \n",
       "48074          [Netflix, VeriSign]   \n",
       "52050          [Netflix, VeriSign]   \n",
       "66034   [Netflix Inc, Netflix Inc]   \n",
       "476109         [Netflix, VeriSign]   \n",
       "499516         [Netflix, VeriSign]   \n",
       "531022         [Netflix, VeriSign]   \n",
       "534416         [Netflix, VeriSign]   \n",
       "547912         [Netflix, VeriSign]   \n",
       "598792         [Netflix, VeriSign]   \n",
       "617441         [Netflix, VeriSign]   \n",
       "627082         [Netflix, VeriSign]   \n",
       "665474         [Netflix, VeriSign]   \n",
       "686959         [Netflix, VeriSign]   \n",
       "689296         [Netflix, VeriSign]   \n",
       "\n",
       "                                                                       chain_issuer_CN  \\\n",
       "10658   [Netflix Public SHA2 RSA CA 3, VeriSign Class 3 Public Primary Certification ]   \n",
       "12125   [Netflix Public SHA2 RSA CA 3, VeriSign Class 3 Public Primary Certification ]   \n",
       "20126   [Netflix Public SHA2 RSA CA 3, VeriSign Class 3 Public Primary Certification ]   \n",
       "43658                   [Primary Certificate Authority, Primary Certificate Authority]   \n",
       "48074   [Netflix Public SHA2 RSA CA 3, VeriSign Class 3 Public Primary Certification ]   \n",
       "52050   [Netflix Public SHA2 RSA CA 3, VeriSign Class 3 Public Primary Certification ]   \n",
       "66034                   [Primary Certificate Authority, Primary Certificate Authority]   \n",
       "476109  [Netflix Public SHA2 RSA CA 3, VeriSign Class 3 Public Primary Certification ]   \n",
       "499516  [Netflix Public SHA2 RSA CA 3, VeriSign Class 3 Public Primary Certification ]   \n",
       "531022  [Netflix Public SHA2 RSA CA 3, VeriSign Class 3 Public Primary Certification ]   \n",
       "534416  [Netflix Public SHA2 RSA CA 3, VeriSign Class 3 Public Primary Certification ]   \n",
       "547912  [Netflix Public SHA2 RSA CA 3, VeriSign Class 3 Public Primary Certification ]   \n",
       "598792  [Netflix Public SHA2 RSA CA 3, VeriSign Class 3 Public Primary Certification ]   \n",
       "617441  [Netflix Public SHA2 RSA CA 3, VeriSign Class 3 Public Primary Certification ]   \n",
       "627082  [Netflix Public SHA2 RSA CA 3, VeriSign Class 3 Public Primary Certification ]   \n",
       "665474  [Netflix Public SHA2 RSA CA 3, VeriSign Class 3 Public Primary Certification ]   \n",
       "686959  [Netflix Public SHA2 RSA CA 3, VeriSign Class 3 Public Primary Certification ]   \n",
       "689296  [Netflix Public SHA2 RSA CA 3, VeriSign Class 3 Public Primary Certification ]   \n",
       "\n",
       "               chain_subject_O  \\\n",
       "10658       [Netflix, Netflix]   \n",
       "12125       [Netflix, Netflix]   \n",
       "20126       [Netflix, Netflix]   \n",
       "43658   [Netflix, Netflix Inc]   \n",
       "48074       [Netflix, Netflix]   \n",
       "52050       [Netflix, Netflix]   \n",
       "66034   [Netflix, Netflix Inc]   \n",
       "476109      [Netflix, Netflix]   \n",
       "499516      [Netflix, Netflix]   \n",
       "531022      [Netflix, Netflix]   \n",
       "534416      [Netflix, Netflix]   \n",
       "547912      [Netflix, Netflix]   \n",
       "598792      [Netflix, Netflix]   \n",
       "617441      [Netflix, Netflix]   \n",
       "627082      [Netflix, Netflix]   \n",
       "665474      [Netflix, Netflix]   \n",
       "686959      [Netflix, Netflix]   \n",
       "689296      [Netflix, Netflix]   \n",
       "\n",
       "                                                  chain_subject_CN  \\\n",
       "10658   [customerevents.netflix.com, Netflix Public SHA2 RSA CA 3]   \n",
       "12125   [customerevents.netflix.com, Netflix Public SHA2 RSA CA 3]   \n",
       "20126              [api.netflix.com, Netflix Public SHA2 RSA CA 3]   \n",
       "43658         [*.cloud.netflix.net, Primary Certificate Authority]   \n",
       "48074              [api.netflix.com, Netflix Public SHA2 RSA CA 3]   \n",
       "52050              [api.netflix.com, Netflix Public SHA2 RSA CA 3]   \n",
       "66034          [*.nccp.netflix.com, Primary Certificate Authority]   \n",
       "476109          [secure.netflix.com, Netflix Public SHA2 RSA CA 3]   \n",
       "499516          [secure.netflix.com, Netflix Public SHA2 RSA CA 3]   \n",
       "531022          [secure.netflix.com, Netflix Public SHA2 RSA CA 3]   \n",
       "534416          [secure.netflix.com, Netflix Public SHA2 RSA CA 3]   \n",
       "547912          [secure.netflix.com, Netflix Public SHA2 RSA CA 3]   \n",
       "598792          [secure.netflix.com, Netflix Public SHA2 RSA CA 3]   \n",
       "617441          [secure.netflix.com, Netflix Public SHA2 RSA CA 3]   \n",
       "627082          [secure.netflix.com, Netflix Public SHA2 RSA CA 3]   \n",
       "665474          [secure.netflix.com, Netflix Public SHA2 RSA CA 3]   \n",
       "686959          [secure.netflix.com, Netflix Public SHA2 RSA CA 3]   \n",
       "689296          [secure.netflix.com, Netflix Public SHA2 RSA CA 3]   \n",
       "\n",
       "        cert_chain_len  \\\n",
       "10658                2   \n",
       "12125                2   \n",
       "20126                2   \n",
       "43658                2   \n",
       "48074                2   \n",
       "52050                2   \n",
       "66034                2   \n",
       "476109               2   \n",
       "499516               2   \n",
       "531022               2   \n",
       "534416               2   \n",
       "547912               2   \n",
       "598792               2   \n",
       "617441               2   \n",
       "627082               2   \n",
       "665474               2   \n",
       "686959               2   \n",
       "689296               2   \n",
       "\n",
       "                                                    chain_serial_from_x509af  \\\n",
       "10658   [09ee66e2bb3bb4eee78ee0487d66c9fd, 35935b1ee9b4608968cd82922571a20b]   \n",
       "12125   [09ee66e2bb3bb4eee78ee0487d66c9fd, 35935b1ee9b4608968cd82922571a20b]   \n",
       "20126   [030f25774bcfdd0d6e146f848182a856, 35935b1ee9b4608968cd82922571a20b]   \n",
       "43658                             [019a641b97c22001a7994740b3f19a543696, 00]   \n",
       "48074   [030f25774bcfdd0d6e146f848182a856, 35935b1ee9b4608968cd82922571a20b]   \n",
       "52050   [030f25774bcfdd0d6e146f848182a856, 35935b1ee9b4608968cd82922571a20b]   \n",
       "66034                             [01505884ca4a937e9131068877e360301a4a, 00]   \n",
       "476109  [0c537961e12287d5dc4c10847364e7f0, 35935b1ee9b4608968cd82922571a20b]   \n",
       "499516  [0649fc23f0f52976113ef503612d6fda, 35935b1ee9b4608968cd82922571a20b]   \n",
       "531022  [0cbf3528fc66e61387332a8fa32a9263, 35935b1ee9b4608968cd82922571a20b]   \n",
       "534416  [0dc8947208659ae2db997c128e812897, 35935b1ee9b4608968cd82922571a20b]   \n",
       "547912  [080de471c1ac6e66b2c3030064e161ea, 35935b1ee9b4608968cd82922571a20b]   \n",
       "598792  [04d5f39eeb749e3a2f589015c6b617f7, 35935b1ee9b4608968cd82922571a20b]   \n",
       "617441  [0a85f1855a285c6bbd3588c35c96bd9c, 35935b1ee9b4608968cd82922571a20b]   \n",
       "627082  [0ce971341631ef8f3c5d54549fae8785, 35935b1ee9b4608968cd82922571a20b]   \n",
       "665474  [034d11a848c84d5d9a428e3d1e73b87b, 35935b1ee9b4608968cd82922571a20b]   \n",
       "686959  [09b02eb9d241bf8a7b2eef87022c63fb, 35935b1ee9b4608968cd82922571a20b]   \n",
       "689296  [07af5e87c01cd864ad7f5d22a262c2f5, 35935b1ee9b4608968cd82922571a20b]   \n",
       "\n",
       "        if_in_crtsh  cert_days device_vendor last_cert_issuer_O  \n",
       "10658         False        396        amazon           VeriSign  \n",
       "12125         False        396        amazon           VeriSign  \n",
       "20126          True        396          roku           VeriSign  \n",
       "43658         False       8150          roku        Netflix Inc  \n",
       "48074          True        396        amazon           VeriSign  \n",
       "52050          True        396        amazon           VeriSign  \n",
       "66034         False       8150          tivo        Netflix Inc  \n",
       "476109        False         34        amazon           VeriSign  \n",
       "499516         True         31        amazon           VeriSign  \n",
       "531022        False         35        amazon           VeriSign  \n",
       "534416        False         33        amazon           VeriSign  \n",
       "547912         True         30        amazon           VeriSign  \n",
       "598792        False         30        amazon           VeriSign  \n",
       "617441        False         35        amazon           VeriSign  \n",
       "627082        False         34        amazon           VeriSign  \n",
       "665474        False         29        amazon           VeriSign  \n",
       "686959        False         31        amazon           VeriSign  \n",
       "689296        False         29        amazon           VeriSign  "
      ]
     },
     "execution_count": 393,
     "metadata": {},
     "output_type": "execute_result"
    }
   ],
   "source": [
    "netflix_df"
   ]
  },
  {
   "cell_type": "code",
   "execution_count": 394,
   "id": "designing-policy",
   "metadata": {},
   "outputs": [
    {
     "data": {
      "text/html": [
       "<div>\n",
       "<style scoped>\n",
       "    .dataframe tbody tr th:only-of-type {\n",
       "        vertical-align: middle;\n",
       "    }\n",
       "\n",
       "    .dataframe tbody tr th {\n",
       "        vertical-align: top;\n",
       "    }\n",
       "\n",
       "    .dataframe thead th {\n",
       "        text-align: right;\n",
       "    }\n",
       "</style>\n",
       "<table border=\"1\" class=\"dataframe\">\n",
       "  <thead>\n",
       "    <tr style=\"text-align: right;\">\n",
       "      <th></th>\n",
       "      <th>issuer_O</th>\n",
       "      <th>issuer_CN</th>\n",
       "      <th>last_cert_issuer_O</th>\n",
       "      <th>if_in_crtsh</th>\n",
       "      <th>cert_day_set</th>\n",
       "    </tr>\n",
       "  </thead>\n",
       "  <tbody>\n",
       "    <tr>\n",
       "      <th>0</th>\n",
       "      <td>Netflix</td>\n",
       "      <td>Netflix Public SHA2 RSA CA 3</td>\n",
       "      <td>VeriSign</td>\n",
       "      <td>False</td>\n",
       "      <td>{33, 34, 35, 396, 29, 30, 31}</td>\n",
       "    </tr>\n",
       "    <tr>\n",
       "      <th>1</th>\n",
       "      <td>Netflix</td>\n",
       "      <td>Netflix Public SHA2 RSA CA 3</td>\n",
       "      <td>VeriSign</td>\n",
       "      <td>True</td>\n",
       "      <td>{396, 30, 31}</td>\n",
       "    </tr>\n",
       "    <tr>\n",
       "      <th>2</th>\n",
       "      <td>Netflix Inc</td>\n",
       "      <td>Primary Certificate Authority</td>\n",
       "      <td>Netflix Inc</td>\n",
       "      <td>False</td>\n",
       "      <td>{8150}</td>\n",
       "    </tr>\n",
       "  </tbody>\n",
       "</table>\n",
       "</div>"
      ],
      "text/plain": [
       "      issuer_O                      issuer_CN last_cert_issuer_O  if_in_crtsh  \\\n",
       "0      Netflix   Netflix Public SHA2 RSA CA 3           VeriSign        False   \n",
       "1      Netflix   Netflix Public SHA2 RSA CA 3           VeriSign         True   \n",
       "2  Netflix Inc  Primary Certificate Authority        Netflix Inc        False   \n",
       "\n",
       "                    cert_day_set  \n",
       "0  {33, 34, 35, 396, 29, 30, 31}  \n",
       "1                  {396, 30, 31}  \n",
       "2                         {8150}  "
      ]
     },
     "execution_count": 394,
     "metadata": {},
     "output_type": "execute_result"
    }
   ],
   "source": [
    "netflix_df.groupby(['issuer_O', 'issuer_CN', 'last_cert_issuer_O', 'if_in_crtsh'])['cert_days'].agg(cert_day_set=lambda x: set(x)).reset_index()"
   ]
  },
  {
   "cell_type": "code",
   "execution_count": null,
   "id": "southeast-russia",
   "metadata": {},
   "outputs": [],
   "source": []
  }
 ],
 "metadata": {
  "kernelspec": {
   "display_name": "Python 3",
   "language": "python",
   "name": "python3"
  },
  "language_info": {
   "codemirror_mode": {
    "name": "ipython",
    "version": 3
   },
   "file_extension": ".py",
   "mimetype": "text/x-python",
   "name": "python",
   "nbconvert_exporter": "python",
   "pygments_lexer": "ipython3",
   "version": "3.8.5"
  }
 },
 "nbformat": 4,
 "nbformat_minor": 5
}
