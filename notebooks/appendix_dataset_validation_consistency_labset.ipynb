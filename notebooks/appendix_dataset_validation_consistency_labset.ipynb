{
 "cells": [
  {
   "cell_type": "markdown",
   "id": "victorian-blair",
   "metadata": {},
   "source": [
    "## Comparison with Lab Dataset"
   ]
  },
  {
   "cell_type": "markdown",
   "id": "manual-lottery",
   "metadata": {},
   "source": [
    "### Import libraries"
   ]
  },
  {
   "cell_type": "code",
   "execution_count": 1,
   "id": "skilled-bracelet",
   "metadata": {},
   "outputs": [],
   "source": [
    "import os\n",
    "import pandas as pd \n",
    "import numpy as np\n",
    "from lxml import etree \n",
    "pd.set_option('display.max_columns', None)\n",
    "pd.options.display.max_colwidth = 200\n",
    "import os\n",
    "import glob\n",
    "import time\n",
    "import re\n",
    "import datetime\n",
    "import matplotlib.pyplot as plt\n",
    "import seaborn as sns\n",
    "import itertools\n",
    "import matplotlib.patches as mpatches\n",
    "import shutil\n",
    "from IPython.display import clear_output\n",
    "pd.set_option('display.max_rows', 500)\n",
    "from manuf import manuf\n",
    "from user_agents import parse\n",
    "import dataframe_image as dfi\n",
    "import tldextract\n",
    "import random\n",
    "import matplotlib"
   ]
  },
  {
   "cell_type": "markdown",
   "id": "prompt-fraud",
   "metadata": {},
   "source": [
    "### Readin datasets"
   ]
  },
  {
   "cell_type": "code",
   "execution_count": 2,
   "id": "operational-review",
   "metadata": {},
   "outputs": [],
   "source": [
    "iot = pd.read_parquet(\"../datasets/ny_serv_withcrt.parquet\")"
   ]
  },
  {
   "cell_type": "code",
   "execution_count": 3,
   "id": "synthetic-stand",
   "metadata": {},
   "outputs": [],
   "source": [
    "names = pd.read_parquet(\"../datasets/sni_used_to_generate_pcaps.parquet\")"
   ]
  },
  {
   "cell_type": "markdown",
   "id": "fresh-theology",
   "metadata": {},
   "source": [
    "### Merge to obtain device info"
   ]
  },
  {
   "cell_type": "code",
   "execution_count": 4,
   "id": "premium-techno",
   "metadata": {},
   "outputs": [],
   "source": [
    "iot = pd.merge(iot, names, how='left', left_on='server_name_indication', right_on='sni')"
   ]
  },
  {
   "cell_type": "markdown",
   "id": "minute-abuse",
   "metadata": {},
   "source": [
    "### Readin Lab Dataset"
   ]
  },
  {
   "cell_type": "code",
   "execution_count": 5,
   "id": "billion-statistics",
   "metadata": {},
   "outputs": [],
   "source": [
    "target_dir = \"../datasets/lab_ssl/\""
   ]
  },
  {
   "cell_type": "code",
   "execution_count": 6,
   "id": "saved-observation",
   "metadata": {},
   "outputs": [],
   "source": [
    "file_lis = os.listdir(target_dir)"
   ]
  },
  {
   "cell_type": "code",
   "execution_count": 7,
   "id": "endless-selling",
   "metadata": {},
   "outputs": [
    {
     "name": "stderr",
     "output_type": "stream",
     "text": [
      "/usr/local/Caskroom/miniconda/base/lib/python3.8/site-packages/IPython/core/interactiveshell.py:3165: DtypeWarning: Columns (31) have mixed types.Specify dtype option on import or set low_memory=False.\n",
      "  has_raised = await self.run_ast_nodes(code_ast.body, cell_name,\n"
     ]
    },
    {
     "name": "stdout",
     "output_type": "stream",
     "text": [
      "finished!\n"
     ]
    }
   ],
   "source": [
    "lab_zeek = pd.DataFrame()\n",
    "for file in file_lis:\n",
    "    curr_ssl = pd.read_csv(os.path.join(target_dir, file), index_col=0)\n",
    "    lab_zeek = lab_zeek.append(curr_ssl)\n",
    "print (\"finished!\")"
   ]
  },
  {
   "cell_type": "markdown",
   "id": "cleared-password",
   "metadata": {},
   "source": [
    "### Discard interception/injected data from Lab Dataset"
   ]
  },
  {
   "cell_type": "code",
   "execution_count": 8,
   "id": "jewish-feeling",
   "metadata": {},
   "outputs": [
    {
     "data": {
      "text/plain": [
       "(455519, 50)"
      ]
     },
     "execution_count": 8,
     "metadata": {},
     "output_type": "execute_result"
    }
   ],
   "source": [
    "lab_zeek.shape"
   ]
  },
  {
   "cell_type": "code",
   "execution_count": 9,
   "id": "seeing-heather",
   "metadata": {},
   "outputs": [],
   "source": [
    "lab_filter = lab_zeek.loc[lab_zeek['issuer_O'] != \"mitmproxy\"]"
   ]
  },
  {
   "cell_type": "code",
   "execution_count": 10,
   "id": "standing-essay",
   "metadata": {},
   "outputs": [
    {
     "data": {
      "text/plain": [
       "(455519, 50)"
      ]
     },
     "execution_count": 10,
     "metadata": {},
     "output_type": "execute_result"
    }
   ],
   "source": [
    "lab_filter.shape"
   ]
  },
  {
   "cell_type": "code",
   "execution_count": 11,
   "id": "biological-sport",
   "metadata": {},
   "outputs": [],
   "source": [
    "lab_filter = lab_filter.loc[lab_filter['certificate.serial'].notna()]\n",
    "lab_filter[\"serial_strcnt\"] = lab_filter['certificate.serial'].map(len)"
   ]
  },
  {
   "cell_type": "code",
   "execution_count": 12,
   "id": "exterior-three",
   "metadata": {},
   "outputs": [],
   "source": [
    "lab_filter = lab_filter.loc[(~lab_filter['certificate.serial'].str.startswith(\"0EA\")) & \\\n",
    "                            (lab_filter['serial_strcnt'] != 12)]\n",
    "lab_filter = lab_filter.loc[(~lab_filter['certificate.serial'].str.startswith(\"0A\")) & \\\n",
    "                            (lab_filter['serial_strcnt'] != 8)]"
   ]
  },
  {
   "cell_type": "code",
   "execution_count": 13,
   "id": "chronic-spring",
   "metadata": {},
   "outputs": [
    {
     "data": {
      "text/plain": [
       "(61283, 51)"
      ]
     },
     "execution_count": 13,
     "metadata": {},
     "output_type": "execute_result"
    }
   ],
   "source": [
    "lab_filter.shape"
   ]
  },
  {
   "cell_type": "code",
   "execution_count": 14,
   "id": "subject-beijing",
   "metadata": {},
   "outputs": [
    {
     "data": {
      "text/plain": [
       "(7966, 51)"
      ]
     },
     "execution_count": 14,
     "metadata": {},
     "output_type": "execute_result"
    }
   ],
   "source": [
    "lab_filter.loc[lab_filter['server_name'] == '-'].shape"
   ]
  },
  {
   "cell_type": "code",
   "execution_count": 15,
   "id": "atomic-lying",
   "metadata": {},
   "outputs": [],
   "source": [
    "lab_filter = lab_filter.rename({'vendor':'device_vendor'}, axis=1)"
   ]
  },
  {
   "cell_type": "markdown",
   "id": "imperial-sapphire",
   "metadata": {},
   "source": [
    "### Common vendor"
   ]
  },
  {
   "cell_type": "code",
   "execution_count": 17,
   "id": "amino-little",
   "metadata": {},
   "outputs": [
    {
     "data": {
      "text/plain": [
       "{'amazon',\n",
       " 'amcrest',\n",
       " 'belkin',\n",
       " 'google',\n",
       " 'ikea',\n",
       " 'lg',\n",
       " 'nintendo',\n",
       " 'philips',\n",
       " 'roku',\n",
       " 'samsung',\n",
       " 'tivo',\n",
       " 'tplink',\n",
       " 'tuya',\n",
       " 'wink',\n",
       " 'withings',\n",
       " 'wyze',\n",
       " 'xiaomi'}"
      ]
     },
     "execution_count": 17,
     "metadata": {},
     "output_type": "execute_result"
    }
   ],
   "source": [
    "set(iot['device_vendor'].tolist()).intersection(set(lab_filter['device_vendor'].tolist()))"
   ]
  },
  {
   "cell_type": "code",
   "execution_count": 18,
   "id": "adverse-following",
   "metadata": {},
   "outputs": [],
   "source": [
    "vendor_lis = ['amazon', 'amcrest', 'belkin', 'google', 'ikea', 'nintendo', 'lg', 'philips', 'roku',\\\n",
    "              'samsung', 'tivo', 'tplink', 'tuya', 'wink', 'withings', 'wyze', 'xiaomi']"
   ]
  },
  {
   "cell_type": "code",
   "execution_count": 19,
   "id": "optional-persian",
   "metadata": {},
   "outputs": [
    {
     "data": {
      "text/plain": [
       "(293518, 123)"
      ]
     },
     "execution_count": 19,
     "metadata": {},
     "output_type": "execute_result"
    }
   ],
   "source": [
    "iot.loc[iot['device_vendor'].isin(vendor_lis)].shape"
   ]
  },
  {
   "cell_type": "code",
   "execution_count": 20,
   "id": "enclosed-brooklyn",
   "metadata": {},
   "outputs": [
    {
     "data": {
      "text/plain": [
       "(52772, 51)"
      ]
     },
     "execution_count": 20,
     "metadata": {},
     "output_type": "execute_result"
    }
   ],
   "source": [
    "lab_filter.loc[lab_filter['device_vendor'].isin(vendor_lis)].shape"
   ]
  },
  {
   "cell_type": "code",
   "execution_count": 21,
   "id": "worst-listing",
   "metadata": {},
   "outputs": [],
   "source": [
    "iot_share = iot.loc[iot['device_vendor'].isin(vendor_lis)]"
   ]
  },
  {
   "cell_type": "code",
   "execution_count": 23,
   "id": "modern-finland",
   "metadata": {},
   "outputs": [],
   "source": [
    "lab_share = lab_filter.loc[lab_filter['device_vendor'].isin(vendor_lis)]"
   ]
  },
  {
   "cell_type": "code",
   "execution_count": 24,
   "id": "restricted-armor",
   "metadata": {},
   "outputs": [
    {
     "name": "stderr",
     "output_type": "stream",
     "text": [
      "<ipython-input-24-11816eea40ca>:1: SettingWithCopyWarning: \n",
      "A value is trying to be set on a copy of a slice from a DataFrame.\n",
      "Try using .loc[row_indexer,col_indexer] = value instead\n",
      "\n",
      "See the caveats in the documentation: https://pandas.pydata.org/pandas-docs/stable/user_guide/indexing.html#returning-a-view-versus-a-copy\n",
      "  lab_share['issuer_O'] = lab_share['issuer_O'].apply(lambda x: x.split(\"\\\\\\\\\")[0])\n"
     ]
    }
   ],
   "source": [
    "lab_share['issuer_O'] = lab_share['issuer_O'].apply(lambda x: x.split(\"\\\\\\\\\")[0])"
   ]
  },
  {
   "cell_type": "markdown",
   "id": "fossil-organic",
   "metadata": {},
   "source": [
    "### Comparison"
   ]
  },
  {
   "cell_type": "code",
   "execution_count": 25,
   "id": "treated-junction",
   "metadata": {},
   "outputs": [],
   "source": [
    "iot_share_dropdup = iot_share.drop_duplicates(subset=['server_name_indication', 'device_vendor', 'device_id', \\\n",
    "                                                      'cert_serialNum_from_x509af', 'issuer_O', 'issuer_CN'])"
   ]
  },
  {
   "cell_type": "code",
   "execution_count": 26,
   "id": "engaging-public",
   "metadata": {},
   "outputs": [
    {
     "data": {
      "text/plain": [
       "(19444, 123)"
      ]
     },
     "execution_count": 26,
     "metadata": {},
     "output_type": "execute_result"
    }
   ],
   "source": [
    "iot_share_dropdup.shape"
   ]
  },
  {
   "cell_type": "code",
   "execution_count": 27,
   "id": "ceramic-supply",
   "metadata": {},
   "outputs": [],
   "source": [
    "iot_vendorgb = iot_share_dropdup.groupby(['device_vendor'])['issuer_O'].agg(iot_issuer=lambda x: set(x), \\\n",
    "                                                                            iot_numissuer=lambda x: x.nunique()).reset_index()"
   ]
  },
  {
   "cell_type": "code",
   "execution_count": 28,
   "id": "frozen-postage",
   "metadata": {},
   "outputs": [],
   "source": [
    "#neu_share = neu_share.rename({'vendor':'device_vendor'}, axis=1)\n",
    "lab_share_dropdup = lab_share.drop_duplicates(subset=['server_name', 'device_vendor', 'mac', \\\n",
    "                                                      'validation_status', 'cert_chain_fps', 'issuer_O', 'issuer_CN'])"
   ]
  },
  {
   "cell_type": "code",
   "execution_count": 29,
   "id": "opposed-exhibition",
   "metadata": {},
   "outputs": [
    {
     "data": {
      "text/plain": [
       "(5279, 51)"
      ]
     },
     "execution_count": 29,
     "metadata": {},
     "output_type": "execute_result"
    }
   ],
   "source": [
    "lab_share_dropdup.shape"
   ]
  },
  {
   "cell_type": "markdown",
   "id": "executed-record",
   "metadata": {},
   "source": [
    "### SNI analysis"
   ]
  },
  {
   "cell_type": "markdown",
   "id": "adopted-development",
   "metadata": {},
   "source": [
    "#### Rename"
   ]
  },
  {
   "cell_type": "code",
   "execution_count": 30,
   "id": "practical-hanging",
   "metadata": {},
   "outputs": [
    {
     "name": "stderr",
     "output_type": "stream",
     "text": [
      "/usr/local/Caskroom/miniconda/base/lib/python3.8/site-packages/pandas/core/indexing.py:1720: SettingWithCopyWarning: \n",
      "A value is trying to be set on a copy of a slice from a DataFrame.\n",
      "Try using .loc[row_indexer,col_indexer] = value instead\n",
      "\n",
      "See the caveats in the documentation: https://pandas.pydata.org/pandas-docs/stable/user_guide/indexing.html#returning-a-view-versus-a-copy\n",
      "  self._setitem_single_column(loc, value, pi)\n"
     ]
    }
   ],
   "source": [
    "iot_share_dropdup.loc[iot_share_dropdup.device_vendor=='tuya', 'issuer_O'] =\"Tuya Global Inc.\""
   ]
  },
  {
   "cell_type": "code",
   "execution_count": 31,
   "id": "valued-ensemble",
   "metadata": {},
   "outputs": [
    {
     "data": {
      "text/plain": [
       "(989,)"
      ]
     },
     "execution_count": 31,
     "metadata": {},
     "output_type": "execute_result"
    }
   ],
   "source": [
    "iot_share_dropdup['server_name_indication'].value_counts().shape"
   ]
  },
  {
   "cell_type": "code",
   "execution_count": 35,
   "id": "backed-dubai",
   "metadata": {},
   "outputs": [],
   "source": [
    "lab_share_sni = lab_share_dropdup.loc[lab_share_dropdup['server_name'] != '-']"
   ]
  },
  {
   "cell_type": "code",
   "execution_count": 36,
   "id": "trying-snapshot",
   "metadata": {},
   "outputs": [
    {
     "data": {
      "text/plain": [
       "(1443,)"
      ]
     },
     "execution_count": 36,
     "metadata": {},
     "output_type": "execute_result"
    }
   ],
   "source": [
    "lab_share_sni['server_name'].value_counts().shape"
   ]
  },
  {
   "cell_type": "code",
   "execution_count": 38,
   "id": "graphic-circle",
   "metadata": {},
   "outputs": [],
   "source": [
    "sni_commlis = set(iot_share_dropdup['server_name_indication'].tolist()).intersection(set(lab_share_sni['server_name'].tolist()))"
   ]
  },
  {
   "cell_type": "code",
   "execution_count": 39,
   "id": "sunrise-spare",
   "metadata": {},
   "outputs": [
    {
     "data": {
      "text/plain": [
       "362"
      ]
     },
     "execution_count": 39,
     "metadata": {},
     "output_type": "execute_result"
    }
   ],
   "source": [
    "len(sni_commlis)"
   ]
  },
  {
   "cell_type": "code",
   "execution_count": 40,
   "id": "popular-avenue",
   "metadata": {},
   "outputs": [
    {
     "data": {
      "text/plain": [
       "(4778, 51)"
      ]
     },
     "execution_count": 40,
     "metadata": {},
     "output_type": "execute_result"
    }
   ],
   "source": [
    "lab_share_sni.shape"
   ]
  },
  {
   "cell_type": "markdown",
   "id": "monthly-linux",
   "metadata": {},
   "source": [
    "### Different SNIs"
   ]
  },
  {
   "cell_type": "code",
   "execution_count": 41,
   "id": "editorial-mississippi",
   "metadata": {},
   "outputs": [],
   "source": [
    "iot_share_diffsni = iot_share_dropdup.loc[~iot_share_dropdup['server_name_indication'].isin(sni_commlis)]\n",
    "lab_share_diffsni = lab_share_sni.loc[~lab_share_sni['server_name'].isin(sni_commlis)]"
   ]
  },
  {
   "cell_type": "code",
   "execution_count": 42,
   "id": "developmental-renewal",
   "metadata": {},
   "outputs": [],
   "source": [
    "lab_share_diffsni = lab_share_diffsni.loc[lab_share_diffsni['server_name'] != \"-\"]"
   ]
  },
  {
   "cell_type": "code",
   "execution_count": 43,
   "id": "cleared-cassette",
   "metadata": {},
   "outputs": [
    {
     "data": {
      "text/plain": [
       "(1736, 51)"
      ]
     },
     "execution_count": 43,
     "metadata": {},
     "output_type": "execute_result"
    }
   ],
   "source": [
    "lab_share_diffsni.shape"
   ]
  },
  {
   "cell_type": "code",
   "execution_count": 44,
   "id": "completed-dress",
   "metadata": {},
   "outputs": [
    {
     "name": "stderr",
     "output_type": "stream",
     "text": [
      "<ipython-input-44-0c2dac20961b>:1: SettingWithCopyWarning: \n",
      "A value is trying to be set on a copy of a slice from a DataFrame.\n",
      "Try using .loc[row_indexer,col_indexer] = value instead\n",
      "\n",
      "See the caveats in the documentation: https://pandas.pydata.org/pandas-docs/stable/user_guide/indexing.html#returning-a-view-versus-a-copy\n",
      "  iot_share_diffsni['domain'] = iot_share_diffsni['server_name_indication'].apply(lambda x: \"{}.{}\".format(tldextract.extract(x).domain,\\\n"
     ]
    }
   ],
   "source": [
    "iot_share_diffsni['domain'] = iot_share_diffsni['server_name_indication'].apply(lambda x: \"{}.{}\".format(tldextract.extract(x).domain,\\\n",
    "                                                                                                        tldextract.extract(x).suffix))\n",
    "lab_share_diffsni['domain'] = lab_share_diffsni['server_name'].apply(lambda x: \"{}.{}\".format(tldextract.extract(x).domain,\\\n",
    "                                                                                              tldextract.extract(x).suffix))"
   ]
  },
  {
   "cell_type": "code",
   "execution_count": 56,
   "id": "celtic-necessity",
   "metadata": {},
   "outputs": [
    {
     "data": {
      "text/plain": [
       "(256,)"
      ]
     },
     "execution_count": 56,
     "metadata": {},
     "output_type": "execute_result"
    }
   ],
   "source": [
    "iot_share_diffsni['domain'].value_counts().shape"
   ]
  },
  {
   "cell_type": "code",
   "execution_count": 45,
   "id": "subsequent-grocery",
   "metadata": {},
   "outputs": [
    {
     "data": {
      "text/plain": [
       "(246,)"
      ]
     },
     "execution_count": 45,
     "metadata": {},
     "output_type": "execute_result"
    }
   ],
   "source": [
    "lab_share_diffsni['domain'].value_counts().shape"
   ]
  },
  {
   "cell_type": "code",
   "execution_count": 46,
   "id": "material-render",
   "metadata": {},
   "outputs": [],
   "source": [
    "dom_commlis = set(iot_share_diffsni['domain'].tolist()).intersection(set(lab_share_diffsni['domain'].tolist()))"
   ]
  },
  {
   "cell_type": "code",
   "execution_count": 47,
   "id": "special-brave",
   "metadata": {},
   "outputs": [
    {
     "data": {
      "text/plain": [
       "67"
      ]
     },
     "execution_count": 47,
     "metadata": {},
     "output_type": "execute_result"
    }
   ],
   "source": [
    "len(dom_commlis)"
   ]
  },
  {
   "cell_type": "code",
   "execution_count": 48,
   "id": "fabulous-monitoring",
   "metadata": {},
   "outputs": [
    {
     "data": {
      "text/plain": [
       "(269,)"
      ]
     },
     "execution_count": 48,
     "metadata": {},
     "output_type": "execute_result"
    }
   ],
   "source": [
    "iot_share_diffsni.loc[iot_share_diffsni['domain'].isin(dom_commlis)]['server_name_indication'].value_counts().shape"
   ]
  },
  {
   "cell_type": "code",
   "execution_count": 49,
   "id": "separate-powder",
   "metadata": {},
   "outputs": [],
   "source": [
    "commdom_snilis = list(set(iot_share_diffsni.loc[iot_share_diffsni['domain'].isin(dom_commlis)]['server_name_indication'].tolist()))"
   ]
  },
  {
   "cell_type": "code",
   "execution_count": 50,
   "id": "lesser-sleeping",
   "metadata": {},
   "outputs": [
    {
     "data": {
      "text/plain": [
       "269"
      ]
     },
     "execution_count": 50,
     "metadata": {},
     "output_type": "execute_result"
    }
   ],
   "source": [
    "len(commdom_snilis)"
   ]
  },
  {
   "cell_type": "code",
   "execution_count": 51,
   "id": "moving-locking",
   "metadata": {},
   "outputs": [],
   "source": [
    "commdom_domlist = list(set(iot_share_diffsni.loc[iot_share_diffsni['domain'].isin(dom_commlis)]['domain'].tolist()))"
   ]
  },
  {
   "cell_type": "code",
   "execution_count": 52,
   "id": "about-constraint",
   "metadata": {},
   "outputs": [
    {
     "data": {
      "text/plain": [
       "67"
      ]
     },
     "execution_count": 52,
     "metadata": {},
     "output_type": "execute_result"
    }
   ],
   "source": [
    "len(commdom_domlist)"
   ]
  },
  {
   "cell_type": "code",
   "execution_count": 53,
   "id": "tamil-charge",
   "metadata": {},
   "outputs": [
    {
     "data": {
      "text/plain": [
       "(14,)"
      ]
     },
     "execution_count": 53,
     "metadata": {},
     "output_type": "execute_result"
    }
   ],
   "source": [
    "iot_share_diffsni.loc[iot_share_diffsni['domain'].isin(dom_commlis)]['device_vendor'].value_counts().shape"
   ]
  },
  {
   "cell_type": "code",
   "execution_count": 59,
   "id": "differential-mathematics",
   "metadata": {},
   "outputs": [],
   "source": [
    "iot_share_commdom = iot_share_diffsni.loc[iot_share_diffsni['domain'].isin(dom_commlis)]\n",
    "lab_share_commdom = lab_share_diffsni.loc[lab_share_diffsni['domain'].isin(dom_commlis)]"
   ]
  },
  {
   "cell_type": "markdown",
   "id": "optical-undergraduate",
   "metadata": {},
   "source": [
    "#### Definitions"
   ]
  },
  {
   "cell_type": "code",
   "execution_count": 60,
   "id": "vital-print",
   "metadata": {},
   "outputs": [],
   "source": [
    "samsung_comm = [\"DigiCert Inc\", \"Netflix\", \"Sectigo Limited\", \"COMODO CA Limited\", \"GoDaddy.com\", \\\n",
    "                    \"GlobalSign nv-sa\", \"Amazon\", \"Google Trust Services LLC\", \"Universal Electronics Inc\", \"Entrust\", \"Netflix Inc\", \"Samsung Electronics\"]\n",
    "amazon_comm = [\"Cloudflare\", \"DigiCert Inc\", \"Netflix\", \"Sectigo Limited\", \"COMODO CA Limited\", \"GoDaddy.com\", \\\n",
    "                   \"GlobalSign nv-sa\", \"Let's Encrypt\", \"Amazon\", \"Google Trust Services LLC\", \"Entrust\", \"Netflix Inc\"]\n",
    "lg_comm = [\"Netflix\", \"DigiCert Inc\", \"Sectigo Limited\", \"Microsoft Corporation\", \"GoDaddy.com\", \"LG Electronics Inc.\", \\\n",
    "               \"GlobalSign nv-sa\", \"Let's Encrypt\", \"Amazon\", \"Entrust\", \"Google Trust Services LLC\", \"Netflix Inc\", \"Network Solutions L.L.C.\"]\n",
    "roku_comm = [\"DigiCert Inc\", \"Netflix\", \"Sectigo Limited\", \"COMODO CA Limited\", \"Let's Encrypt\", \"Amazon\", \"Netflix Inc\", \"Roku\", \"Network Solutions L.L.C.\"]\n",
    "tivo_comm = [\"Netflix\", \"DigiCert Inc\", \"Sectigo Limited\", \"GoDaddy.com\", \"Amazon\", \"Google Trust Services LLC\"]\n",
    "google_comm = [\"DigiCert Inc\", \"GlobalSign nv-sa\", \"Let's Encrypt\", \"Amazon\", \"Google Trust Services LLC\"]\n",
    "wink_comm = [\"Sectigo Limited\", \"Let's Encrypt\", \"COMODO CA Limited\", \"DigiCert Inc\"]\n",
    "xiaomi_comm = []\n",
    "philips_comm = [\"ZeroSSL\", \"Philips Hue\", \"DigiCert Inc\", \"Google Trust Services LLC\"]\n",
    "amcrest_comm = [\"GoDaddy.com\"]\n",
    "nintendo_comm = [\"Nintendo of America\", \"DigiCert Inc\", \"Nintendo of America Inc.\", \"Amazon\"]\n",
    "tplink_comm = [\"GoDaddy.com\", \"DigiCert Inc\"]\n",
    "ikea_comm = [\"Amazon\"]\n",
    "withings_comm = []\n",
    "wyze_comm = [\"DigiCert Inc\", \"Amazon\"]\n",
    "belkin_comm = [\"DigiCert Inc\"]\n",
    "tuya_comm = [\"Tuya Global Inc.\"]"
   ]
  },
  {
   "cell_type": "code",
   "execution_count": 61,
   "id": "respected-wallet",
   "metadata": {},
   "outputs": [],
   "source": [
    "iot_samsung_commdom = iot_share_commdom.loc[(iot_share_commdom['device_vendor'] == 'samsung') &\\\n",
    "                                             (iot_share_commdom['issuer_O'].isin(samsung_comm))]\n",
    "iot_amazon_commdom = iot_share_commdom.loc[(iot_share_commdom['device_vendor'] == 'amazon')& \\\n",
    "                                   (iot_share_commdom['issuer_O'].isin(amazon_comm))]\n",
    "iot_lg_commdom = iot_share_commdom.loc[(iot_share_commdom['device_vendor'] == 'lg') & \\\n",
    "                               (iot_share_commdom['issuer_O'].isin(lg_comm))]\n",
    "iot_roku_commdom = iot_share_commdom.loc[(iot_share_commdom['device_vendor'] == 'roku') & \\\n",
    "                                 (iot_share_commdom['issuer_O'].isin(roku_comm))]\n",
    "iot_tivo_commdom = iot_share_commdom.loc[(iot_share_commdom['device_vendor'] == 'tivo') & \\\n",
    "                                 (iot_share_commdom['issuer_O'].isin(tivo_comm))]\n",
    "iot_google_commdom = iot_share_commdom.loc[(iot_share_commdom['device_vendor'] == 'google') & \\\n",
    "                                   (iot_share_commdom['issuer_O'].isin(google_comm))]\n",
    "iot_wink_commdom = iot_share_commdom.loc[(iot_share_commdom['device_vendor'] == 'wink') & \\\n",
    "                                 (iot_share_commdom['issuer_O'].isin(wink_comm))]\n",
    "iot_xiaomi_commdom = iot_share_commdom.loc[(iot_share_commdom['device_vendor'] == 'xiaomi') & \\\n",
    "                                   (iot_share_commdom['issuer_O'].isin(xiaomi_comm))]\n",
    "iot_philips_commdom = iot_share_commdom.loc[(iot_share_commdom['device_vendor'] == 'philips') & \\\n",
    "                                    (iot_share_commdom['issuer_O'].isin(philips_comm))]\n",
    "iot_amcrest_commdom = iot_share_commdom.loc[(iot_share_commdom['device_vendor'] == 'amcrest') & \\\n",
    "                                    (iot_share_commdom['issuer_O'].isin(amcrest_comm))]\n",
    "iot_nintendo_commdom = iot_share_commdom.loc[(iot_share_commdom['device_vendor'] == 'nintendo') & \\\n",
    "                                     (iot_share_commdom['issuer_O'].isin(nintendo_comm))]\n",
    "iot_tplink_commdom = iot_share_commdom.loc[(iot_share_commdom['device_vendor'] == 'tplink') & \\\n",
    "                                   (iot_share_commdom['issuer_O'].isin(tplink_comm))]\n",
    "iot_ikea_commdom = iot_share_commdom.loc[(iot_share_commdom['device_vendor'] == 'ikea') & \\\n",
    "                                 (iot_share_commdom['issuer_O'].isin(ikea_comm))]\n",
    "iot_withings_commdom = iot_share_commdom.loc[(iot_share_commdom['device_vendor'] == 'withings') & \\\n",
    "                                     (iot_share_commdom['issuer_O'].isin(withings_comm))]\n",
    "iot_wyze_commdom = iot_share_commdom.loc[(iot_share_commdom['device_vendor'] == 'wyze') & \\\n",
    "                                 (iot_share_commdom['issuer_O'].isin(wyze_comm))]\n",
    "iot_belkin_commdom = iot_share_commdom.loc[(iot_share_commdom['device_vendor'] == 'belkin') & \\\n",
    "                                   (iot_share_commdom['issuer_O'].isin(belkin_comm))]\n",
    "iot_tuya_commdom = iot_share_commdom.loc[(iot_share_commdom['device_vendor'] == 'tuya') & \\\n",
    "                                 (iot_share_commdom['issuer_O'].isin(tuya_comm))]"
   ]
  },
  {
   "cell_type": "code",
   "execution_count": 62,
   "id": "tender-texas",
   "metadata": {},
   "outputs": [],
   "source": [
    "lab_samsung_commdom = lab_share_commdom.loc[(lab_share_commdom['device_vendor'] == 'samsung') & \\\n",
    "                                             (lab_share_commdom['issuer_O'].isin(samsung_comm))]\n",
    "lab_amazon_commdom = lab_share_commdom.loc[(lab_share_commdom['device_vendor'] == 'amazon') & \\\n",
    "                                            (lab_share_commdom['issuer_O'].isin(amazon_comm))]\n",
    "lab_lg_commdom = lab_share_commdom.loc[(lab_share_commdom['device_vendor'] == 'lg') & \\\n",
    "                                        (lab_share_commdom['issuer_O'].isin(lg_comm))]\n",
    "lab_roku_commdom = lab_share_commdom.loc[(lab_share_commdom['device_vendor'] == 'roku') & \\\n",
    "                                          (lab_share_commdom['issuer_O'].isin(roku_comm))]\n",
    "lab_tivo_commdom = lab_share_commdom.loc[(lab_share_commdom['device_vendor'] == 'tivo') & \\\n",
    "                                          (lab_share_commdom['issuer_O'].isin(tivo_comm))]\n",
    "lab_google_commdom = lab_share_commdom.loc[(lab_share_commdom['device_vendor'] == 'google') & \\\n",
    "                                            (lab_share_commdom['issuer_O'].isin(google_comm))]\n",
    "lab_wink_commdom = lab_share_commdom.loc[(lab_share_commdom['device_vendor'] == 'wink') & \\\n",
    "                                          (lab_share_commdom['issuer_O'].isin(wink_comm))]\n",
    "lab_xiaomi_commdom = lab_share_commdom.loc[(lab_share_commdom['device_vendor'] == 'xiaomi') & \\\n",
    "                                            (lab_share_commdom['issuer_O'].isin(xiaomi_comm))]\n",
    "lab_philips_commdom = lab_share_commdom.loc[(lab_share_commdom['device_vendor'] == 'philips') & \\\n",
    "                                             (lab_share_commdom['issuer_O'].isin(philips_comm))]\n",
    "lab_amcrest_commdom = lab_share_commdom.loc[(lab_share_commdom['device_vendor'] == 'amcrest') & \\\n",
    "                                             (lab_share_commdom['issuer_O'].isin(amcrest_comm))]\n",
    "lab_nintendo_commdom = lab_share_commdom.loc[(lab_share_commdom['device_vendor'] == 'nintendo') & \\\n",
    "                                              (lab_share_commdom['issuer_O'].isin(nintendo_comm))]\n",
    "lab_tplink_commdom = lab_share_commdom.loc[(lab_share_commdom['device_vendor'] == 'tplink') & \\\n",
    "                                            (lab_share_commdom['issuer_O'].isin(tplink_comm))]\n",
    "lab_ikea_commdom = lab_share_commdom.loc[(lab_share_commdom['device_vendor'] == 'ikea') & \\\n",
    "                                          (lab_share_commdom['issuer_O'].isin(ikea_comm))]\n",
    "lab_withings_commdom = lab_share_commdom.loc[(lab_share_commdom['device_vendor'] == 'withings') & \\\n",
    "                                              (lab_share_commdom['issuer_O'].isin(withings_comm))]\n",
    "lab_wyze_commdom = lab_share_commdom.loc[(lab_share_commdom['device_vendor'] == 'wyze') & \\\n",
    "                                          (lab_share_commdom['issuer_O'].isin(wyze_comm))]\n",
    "lab_belkin_commdom = lab_share_commdom.loc[(lab_share_commdom['device_vendor'] == 'belkin') & \\\n",
    "                                            (lab_share_commdom['issuer_O'].isin(belkin_comm))]\n",
    "lab_tuya_commdom = lab_share_commdom.loc[(lab_share_commdom['device_vendor'] == 'tuya') & \\\n",
    "                                          (lab_share_commdom['issuer_O'].isin(tuya_comm))]"
   ]
  },
  {
   "cell_type": "code",
   "execution_count": 63,
   "id": "dated-valuable",
   "metadata": {},
   "outputs": [],
   "source": [
    "iot_commdom = pd.concat([iot_samsung_commdom, iot_amazon_commdom, iot_lg_commdom, \\\n",
    "                         iot_roku_commdom, iot_tivo_commdom, iot_google_commdom, iot_wink_commdom, iot_xiaomi_commdom, \\\n",
    "                         iot_philips_commdom, iot_amcrest_commdom, iot_nintendo_commdom, iot_tplink_commdom,\\\n",
    "                          iot_ikea_commdom, iot_withings_commdom, iot_wyze_commdom, iot_belkin_commdom, \\\n",
    "                          iot_tuya_commdom], ignore_index=True)"
   ]
  },
  {
   "cell_type": "code",
   "execution_count": 64,
   "id": "innovative-story",
   "metadata": {},
   "outputs": [
    {
     "data": {
      "text/plain": [
       "(66,)"
      ]
     },
     "execution_count": 64,
     "metadata": {},
     "output_type": "execute_result"
    }
   ],
   "source": [
    "iot_commdom['domain'].value_counts().shape"
   ]
  },
  {
   "cell_type": "code",
   "execution_count": 66,
   "id": "stretch-concept",
   "metadata": {},
   "outputs": [],
   "source": [
    "lab_commdom = pd.concat([lab_samsung_commdom, lab_amazon_commdom, lab_lg_commdom, \\\n",
    "                          lab_roku_commdom, lab_tivo_commdom, lab_google_commdom, lab_wink_commdom,\\\n",
    "                          lab_xiaomi_commdom, lab_philips_commdom, lab_amcrest_commdom, lab_nintendo_commdom, \\\n",
    "                          lab_tplink_commdom, lab_ikea_commdom, lab_withings_commdom, lab_wyze_commdom, lab_belkin_commdom, \\\n",
    "                          lab_tuya_commdom], ignore_index=True)"
   ]
  },
  {
   "cell_type": "code",
   "execution_count": 67,
   "id": "coordinate-covering",
   "metadata": {},
   "outputs": [],
   "source": [
    "commdomissuer_snilis = list(set(iot_commdom['server_name_indication'].tolist()))"
   ]
  },
  {
   "cell_type": "code",
   "execution_count": 68,
   "id": "favorite-quarterly",
   "metadata": {},
   "outputs": [
    {
     "data": {
      "text/plain": [
       "260"
      ]
     },
     "execution_count": 68,
     "metadata": {},
     "output_type": "execute_result"
    }
   ],
   "source": [
    "len(commdomissuer_snilis)"
   ]
  },
  {
   "cell_type": "code",
   "execution_count": 69,
   "id": "static-convenience",
   "metadata": {},
   "outputs": [],
   "source": [
    "commdomissuer_domlis = list(set(iot_commdom['domain'].tolist()))"
   ]
  },
  {
   "cell_type": "code",
   "execution_count": 70,
   "id": "single-lloyd",
   "metadata": {},
   "outputs": [
    {
     "data": {
      "text/plain": [
       "66"
      ]
     },
     "execution_count": 70,
     "metadata": {},
     "output_type": "execute_result"
    }
   ],
   "source": [
    "len(commdomissuer_domlis)"
   ]
  },
  {
   "cell_type": "code",
   "execution_count": 71,
   "id": "aboriginal-southeast",
   "metadata": {},
   "outputs": [],
   "source": [
    "diffissuer_2dom = list(set(commdom_domlist).difference(set(commdomissuer_domlis)))"
   ]
  },
  {
   "cell_type": "code",
   "execution_count": 72,
   "id": "eligible-representative",
   "metadata": {},
   "outputs": [
    {
     "data": {
      "text/plain": [
       "1"
      ]
     },
     "execution_count": 72,
     "metadata": {},
     "output_type": "execute_result"
    }
   ],
   "source": [
    "len(diffissuer_2dom)"
   ]
  },
  {
   "cell_type": "code",
   "execution_count": 73,
   "id": "naval-child",
   "metadata": {},
   "outputs": [
    {
     "data": {
      "text/html": [
       "<div>\n",
       "<style scoped>\n",
       "    .dataframe tbody tr th:only-of-type {\n",
       "        vertical-align: middle;\n",
       "    }\n",
       "\n",
       "    .dataframe tbody tr th {\n",
       "        vertical-align: top;\n",
       "    }\n",
       "\n",
       "    .dataframe thead th {\n",
       "        text-align: right;\n",
       "    }\n",
       "</style>\n",
       "<table border=\"1\" class=\"dataframe\">\n",
       "  <thead>\n",
       "    <tr style=\"text-align: right;\">\n",
       "      <th></th>\n",
       "      <th>server_name_indication</th>\n",
       "      <th>issuer_CN</th>\n",
       "      <th>issuer_O</th>\n",
       "      <th>cert_sortedtime</th>\n",
       "      <th>response</th>\n",
       "      <th>device_vendor</th>\n",
       "    </tr>\n",
       "  </thead>\n",
       "  <tbody>\n",
       "    <tr>\n",
       "      <th>21653</th>\n",
       "      <td>scalews.withings.net</td>\n",
       "      <td>Gandi Standard SSL CA 2</td>\n",
       "      <td>Gandi</td>\n",
       "      <td>['2021-07-12 00:00:00 (UTC)', '2022-08-10 23:59:59 (UTC)']</td>\n",
       "      <td>True</td>\n",
       "      <td>withings</td>\n",
       "    </tr>\n",
       "    <tr>\n",
       "      <th>21654</th>\n",
       "      <td>scalews.withings.net</td>\n",
       "      <td>Gandi Standard SSL CA 2</td>\n",
       "      <td>Gandi</td>\n",
       "      <td>['2021-07-12 00:00:00 (UTC)', '2022-08-10 23:59:59 (UTC)']</td>\n",
       "      <td>True</td>\n",
       "      <td>withings</td>\n",
       "    </tr>\n",
       "    <tr>\n",
       "      <th>21655</th>\n",
       "      <td>scalews.withings.net</td>\n",
       "      <td>Gandi Standard SSL CA 2</td>\n",
       "      <td>Gandi</td>\n",
       "      <td>['2021-07-12 00:00:00 (UTC)', '2022-08-10 23:59:59 (UTC)']</td>\n",
       "      <td>True</td>\n",
       "      <td>withings</td>\n",
       "    </tr>\n",
       "    <tr>\n",
       "      <th>21656</th>\n",
       "      <td>scalews.withings.net</td>\n",
       "      <td>Gandi Standard SSL CA 2</td>\n",
       "      <td>Gandi</td>\n",
       "      <td>['2021-07-12 00:00:00 (UTC)', '2022-08-10 23:59:59 (UTC)']</td>\n",
       "      <td>True</td>\n",
       "      <td>withings</td>\n",
       "    </tr>\n",
       "  </tbody>\n",
       "</table>\n",
       "</div>"
      ],
      "text/plain": [
       "      server_name_indication                issuer_CN issuer_O  \\\n",
       "21653   scalews.withings.net  Gandi Standard SSL CA 2    Gandi   \n",
       "21654   scalews.withings.net  Gandi Standard SSL CA 2    Gandi   \n",
       "21655   scalews.withings.net  Gandi Standard SSL CA 2    Gandi   \n",
       "21656   scalews.withings.net  Gandi Standard SSL CA 2    Gandi   \n",
       "\n",
       "                                                  cert_sortedtime  response  \\\n",
       "21653  ['2021-07-12 00:00:00 (UTC)', '2022-08-10 23:59:59 (UTC)']      True   \n",
       "21654  ['2021-07-12 00:00:00 (UTC)', '2022-08-10 23:59:59 (UTC)']      True   \n",
       "21655  ['2021-07-12 00:00:00 (UTC)', '2022-08-10 23:59:59 (UTC)']      True   \n",
       "21656  ['2021-07-12 00:00:00 (UTC)', '2022-08-10 23:59:59 (UTC)']      True   \n",
       "\n",
       "      device_vendor  \n",
       "21653      withings  \n",
       "21654      withings  \n",
       "21655      withings  \n",
       "21656      withings  "
      ]
     },
     "execution_count": 73,
     "metadata": {},
     "output_type": "execute_result"
    }
   ],
   "source": [
    "iot_share_diffsni.loc[iot_share_diffsni['domain'].isin(diffissuer_2dom)][['server_name_indication', 'issuer_CN', 'issuer_O', \\\n",
    "                                                                          'cert_sortedtime', 'response', 'device_vendor']]"
   ]
  },
  {
   "cell_type": "code",
   "execution_count": 74,
   "id": "integral-layout",
   "metadata": {},
   "outputs": [
    {
     "data": {
      "text/html": [
       "<div>\n",
       "<style scoped>\n",
       "    .dataframe tbody tr th:only-of-type {\n",
       "        vertical-align: middle;\n",
       "    }\n",
       "\n",
       "    .dataframe tbody tr th {\n",
       "        vertical-align: top;\n",
       "    }\n",
       "\n",
       "    .dataframe thead th {\n",
       "        text-align: right;\n",
       "    }\n",
       "</style>\n",
       "<table border=\"1\" class=\"dataframe\">\n",
       "  <thead>\n",
       "    <tr style=\"text-align: right;\">\n",
       "      <th></th>\n",
       "      <th>server_name</th>\n",
       "      <th>issuer_CN</th>\n",
       "      <th>issuer_O</th>\n",
       "      <th>not_before</th>\n",
       "      <th>not_after</th>\n",
       "      <th>device_vendor</th>\n",
       "    </tr>\n",
       "  </thead>\n",
       "  <tbody>\n",
       "    <tr>\n",
       "      <th>6896</th>\n",
       "      <td>wpm05-ws.withings.net</td>\n",
       "      <td>*.withings.net</td>\n",
       "      <td>Withings</td>\n",
       "      <td>03/16/2021, 13:24:21</td>\n",
       "      <td>03/15/2026, 13:24:21</td>\n",
       "      <td>withings</td>\n",
       "    </tr>\n",
       "    <tr>\n",
       "      <th>5560</th>\n",
       "      <td>wsm02-ws.withings.net</td>\n",
       "      <td>*.withings.net</td>\n",
       "      <td>Withings</td>\n",
       "      <td>03/16/2021, 13:24:21</td>\n",
       "      <td>03/15/2026, 13:24:21</td>\n",
       "      <td>withings</td>\n",
       "    </tr>\n",
       "  </tbody>\n",
       "</table>\n",
       "</div>"
      ],
      "text/plain": [
       "                server_name       issuer_CN  issuer_O            not_before  \\\n",
       "6896  wpm05-ws.withings.net  *.withings.net  Withings  03/16/2021, 13:24:21   \n",
       "5560  wsm02-ws.withings.net  *.withings.net  Withings  03/16/2021, 13:24:21   \n",
       "\n",
       "                 not_after device_vendor  \n",
       "6896  03/15/2026, 13:24:21      withings  \n",
       "5560  03/15/2026, 13:24:21      withings  "
      ]
     },
     "execution_count": 74,
     "metadata": {},
     "output_type": "execute_result"
    }
   ],
   "source": [
    "lab_share_diffsni.loc[lab_share_diffsni['domain'].isin(diffissuer_2dom)][['server_name', 'issuer_CN', 'issuer_O', \\\n",
    "                                                                                'not_before', 'not_after', 'device_vendor']]"
   ]
  },
  {
   "cell_type": "markdown",
   "id": "reported-retailer",
   "metadata": {},
   "source": [
    "### Common issuer, different domain"
   ]
  },
  {
   "cell_type": "code",
   "execution_count": 75,
   "id": "several-female",
   "metadata": {},
   "outputs": [],
   "source": [
    "iot_share_diff = iot_share_dropdup.loc[(~iot_share_dropdup['server_name_indication'].isin(sni_commlis)) & \\\n",
    "                                       (~iot_share_dropdup['server_name_indication'].isin(commdom_snilis))]\n",
    "lab_share_diff = lab_share_sni.loc[(~lab_share_sni['server_name'].isin(sni_commlis)) & \\\n",
    "                                       (~lab_share_sni['server_name'].isin(commdom_snilis))]"
   ]
  },
  {
   "cell_type": "code",
   "execution_count": 76,
   "id": "based-rabbit",
   "metadata": {},
   "outputs": [
    {
     "data": {
      "text/plain": [
       "(358,)"
      ]
     },
     "execution_count": 76,
     "metadata": {},
     "output_type": "execute_result"
    }
   ],
   "source": [
    "iot_share_diff['server_name_indication'].value_counts().shape"
   ]
  },
  {
   "cell_type": "code",
   "execution_count": 77,
   "id": "north-assault",
   "metadata": {},
   "outputs": [],
   "source": [
    "diffsni_iotlis = list(set(iot_share_diff['server_name_indication'].tolist()))"
   ]
  },
  {
   "cell_type": "code",
   "execution_count": 78,
   "id": "detailed-engagement",
   "metadata": {},
   "outputs": [
    {
     "data": {
      "text/plain": [
       "358"
      ]
     },
     "execution_count": 78,
     "metadata": {},
     "output_type": "execute_result"
    }
   ],
   "source": [
    "len(diffsni_iotlis)"
   ]
  },
  {
   "cell_type": "code",
   "execution_count": 80,
   "id": "global-scholarship",
   "metadata": {},
   "outputs": [],
   "source": [
    "diffsni_lablis = list(set(lab_share_diff['server_name'].tolist()))"
   ]
  },
  {
   "cell_type": "code",
   "execution_count": 81,
   "id": "bottom-garlic",
   "metadata": {},
   "outputs": [
    {
     "data": {
      "text/plain": [
       "1081"
      ]
     },
     "execution_count": 81,
     "metadata": {},
     "output_type": "execute_result"
    }
   ],
   "source": [
    "len(diffsni_lablis)"
   ]
  },
  {
   "cell_type": "markdown",
   "id": "extended-patrick",
   "metadata": {},
   "source": [
    "### Same SNIs"
   ]
  },
  {
   "cell_type": "code",
   "execution_count": 82,
   "id": "english-faculty",
   "metadata": {},
   "outputs": [],
   "source": [
    "iot_share_commsni = iot_share_dropdup.loc[iot_share_dropdup['server_name_indication'].isin(sni_commlis)]\n",
    "lab_share_commsni = lab_share_sni.loc[lab_share_sni['server_name'].isin(sni_commlis)]"
   ]
  },
  {
   "cell_type": "code",
   "execution_count": 83,
   "id": "casual-wholesale",
   "metadata": {},
   "outputs": [
    {
     "data": {
      "text/plain": [
       "(14258, 123)"
      ]
     },
     "execution_count": 83,
     "metadata": {},
     "output_type": "execute_result"
    }
   ],
   "source": [
    "iot_share_commsni.shape"
   ]
  },
  {
   "cell_type": "code",
   "execution_count": 84,
   "id": "ordered-raleigh",
   "metadata": {},
   "outputs": [
    {
     "data": {
      "text/plain": [
       "(3042, 51)"
      ]
     },
     "execution_count": 84,
     "metadata": {},
     "output_type": "execute_result"
    }
   ],
   "source": [
    "lab_share_commsni.shape"
   ]
  },
  {
   "cell_type": "code",
   "execution_count": 85,
   "id": "combined-blank",
   "metadata": {},
   "outputs": [],
   "source": [
    "iot_samsung_commboth = iot_share_commsni.loc[(iot_share_commsni['device_vendor'] == 'samsung') &\\\n",
    "                                             (iot_share_commsni['issuer_O'].isin(samsung_comm))]\n",
    "iot_amazon_commboth = iot_share_commsni.loc[(iot_share_commsni['device_vendor'] == 'amazon')& \\\n",
    "                                   (iot_share_commsni['issuer_O'].isin(amazon_comm))]\n",
    "iot_lg_commboth = iot_share_commsni.loc[(iot_share_commsni['device_vendor'] == 'lg') & \\\n",
    "                               (iot_share_commsni['issuer_O'].isin(lg_comm))]\n",
    "iot_roku_commboth = iot_share_commsni.loc[(iot_share_commsni['device_vendor'] == 'roku') & \\\n",
    "                                 (iot_share_commsni['issuer_O'].isin(roku_comm))]\n",
    "iot_tivo_commboth = iot_share_commsni.loc[(iot_share_commsni['device_vendor'] == 'tivo') & \\\n",
    "                                 (iot_share_commsni['issuer_O'].isin(tivo_comm))]\n",
    "iot_google_commboth = iot_share_commsni.loc[(iot_share_commsni['device_vendor'] == 'google') & \\\n",
    "                                   (iot_share_commsni['issuer_O'].isin(google_comm))]\n",
    "iot_wink_commboth = iot_share_commsni.loc[(iot_share_commsni['device_vendor'] == 'wink') & \\\n",
    "                                 (iot_share_commsni['issuer_O'].isin(wink_comm))]\n",
    "iot_xiaomi_commboth = iot_share_commsni.loc[(iot_share_commsni['device_vendor'] == 'xiaomi') & \\\n",
    "                                   (iot_share_commsni['issuer_O'].isin(xiaomi_comm))]\n",
    "iot_philips_commboth = iot_share_commsni.loc[(iot_share_commsni['device_vendor'] == 'philips') & \\\n",
    "                                    (iot_share_commsni['issuer_O'].isin(philips_comm))]\n",
    "iot_amcrest_commboth = iot_share_commsni.loc[(iot_share_commsni['device_vendor'] == 'amcrest') & \\\n",
    "                                    (iot_share_commsni['issuer_O'].isin(amcrest_comm))]\n",
    "iot_nintendo_commboth = iot_share_commsni.loc[(iot_share_commsni['device_vendor'] == 'nintendo') & \\\n",
    "                                     (iot_share_commsni['issuer_O'].isin(nintendo_comm))]\n",
    "iot_tplink_commboth = iot_share_commsni.loc[(iot_share_commsni['device_vendor'] == 'tplink') & \\\n",
    "                                   (iot_share_commsni['issuer_O'].isin(tplink_comm))]\n",
    "iot_ikea_commboth = iot_share_commsni.loc[(iot_share_commsni['device_vendor'] == 'ikea') & \\\n",
    "                                 (iot_share_commsni['issuer_O'].isin(ikea_comm))]\n",
    "iot_withings_commboth = iot_share_commsni.loc[(iot_share_commsni['device_vendor'] == 'withings') & \\\n",
    "                                     (iot_share_commsni['issuer_O'].isin(withings_comm))]\n",
    "iot_wyze_commboth = iot_share_commsni.loc[(iot_share_commsni['device_vendor'] == 'wyze') & \\\n",
    "                                 (iot_share_commsni['issuer_O'].isin(wyze_comm))]\n",
    "iot_belkin_commboth = iot_share_commsni.loc[(iot_share_commsni['device_vendor'] == 'belkin') & \\\n",
    "                                   (iot_share_commsni['issuer_O'].isin(belkin_comm))]\n",
    "iot_tuya_commboth = iot_share_commsni.loc[(iot_share_commsni['device_vendor'] == 'tuya') & \\\n",
    "                                 (iot_share_commsni['issuer_O'].isin(tuya_comm))]"
   ]
  },
  {
   "cell_type": "code",
   "execution_count": 86,
   "id": "strategic-census",
   "metadata": {},
   "outputs": [],
   "source": [
    "lab_samsung_commboth = lab_share_commsni.loc[(lab_share_commsni['device_vendor'] == 'samsung') & \\\n",
    "                                             (lab_share_commsni['issuer_O'].isin(samsung_comm))]\n",
    "lab_amazon_commboth = lab_share_commsni.loc[(lab_share_commsni['device_vendor'] == 'amazon') & \\\n",
    "                                            (lab_share_commsni['issuer_O'].isin(amazon_comm))]\n",
    "lab_lg_commboth = lab_share_commsni.loc[(lab_share_commsni['device_vendor'] == 'lg') & \\\n",
    "                                        (lab_share_commsni['issuer_O'].isin(lg_comm))]\n",
    "lab_roku_commboth = lab_share_commsni.loc[(lab_share_commsni['device_vendor'] == 'roku') & \\\n",
    "                                          (lab_share_commsni['issuer_O'].isin(roku_comm))]\n",
    "lab_tivo_commboth = lab_share_commsni.loc[(lab_share_commsni['device_vendor'] == 'tivo') & \\\n",
    "                                          (lab_share_commsni['issuer_O'].isin(tivo_comm))]\n",
    "lab_google_commboth = lab_share_commsni.loc[(lab_share_commsni['device_vendor'] == 'google') & \\\n",
    "                                            (lab_share_commsni['issuer_O'].isin(google_comm))]\n",
    "lab_wink_commboth = lab_share_commsni.loc[(lab_share_commsni['device_vendor'] == 'wink') & \\\n",
    "                                          (lab_share_commsni['issuer_O'].isin(wink_comm))]\n",
    "lab_xiaomi_commboth = lab_share_commsni.loc[(lab_share_commsni['device_vendor'] == 'xiaomi') & \\\n",
    "                                            (lab_share_commsni['issuer_O'].isin(xiaomi_comm))]\n",
    "lab_philips_commboth = lab_share_commsni.loc[(lab_share_commsni['device_vendor'] == 'philips') & \\\n",
    "                                             (lab_share_commsni['issuer_O'].isin(philips_comm))]\n",
    "lab_amcrest_commboth = lab_share_commsni.loc[(lab_share_commsni['device_vendor'] == 'amcrest') & \\\n",
    "                                             (lab_share_commsni['issuer_O'].isin(amcrest_comm))]\n",
    "lab_nintendo_commboth = lab_share_commsni.loc[(lab_share_commsni['device_vendor'] == 'nintendo') & \\\n",
    "                                              (lab_share_commsni['issuer_O'].isin(nintendo_comm))]\n",
    "lab_tplink_commboth = lab_share_commsni.loc[(lab_share_commsni['device_vendor'] == 'tplink') & \\\n",
    "                                            (lab_share_commsni['issuer_O'].isin(tplink_comm))]\n",
    "lab_ikea_commboth = lab_share_commsni.loc[(lab_share_commsni['device_vendor'] == 'ikea') & \\\n",
    "                                          (lab_share_commsni['issuer_O'].isin(ikea_comm))]\n",
    "lab_withings_commboth = lab_share_commsni.loc[(lab_share_commsni['device_vendor'] == 'withings') & \\\n",
    "                                              (lab_share_commsni['issuer_O'].isin(withings_comm))]\n",
    "lab_wyze_commboth = lab_share_commsni.loc[(lab_share_commsni['device_vendor'] == 'wyze') & \\\n",
    "                                          (lab_share_commsni['issuer_O'].isin(wyze_comm))]\n",
    "lab_belkin_commboth = lab_share_commsni.loc[(lab_share_commsni['device_vendor'] == 'belkin') & \\\n",
    "                                            (lab_share_commsni['issuer_O'].isin(belkin_comm))]\n",
    "lab_tuya_commboth = lab_share_commsni.loc[(lab_share_commsni['device_vendor'] == 'tuya') & \\\n",
    "                                          (lab_share_commsni['issuer_O'].isin(tuya_comm))]"
   ]
  },
  {
   "cell_type": "code",
   "execution_count": 87,
   "id": "micro-enlargement",
   "metadata": {},
   "outputs": [],
   "source": [
    "iot_commboth = pd.concat([iot_samsung_commboth, iot_amazon_commboth, iot_lg_commboth, \\\n",
    "                          iot_roku_commboth, iot_tivo_commboth, iot_google_commboth, iot_wink_commboth, iot_xiaomi_commboth, \\\n",
    "                          iot_philips_commboth, iot_amcrest_commboth, iot_nintendo_commboth, iot_tplink_commboth,\\\n",
    "                          iot_ikea_commboth, iot_withings_commboth, iot_wyze_commboth, iot_belkin_commboth, \\\n",
    "                          iot_tuya_commboth], ignore_index=True)"
   ]
  },
  {
   "cell_type": "code",
   "execution_count": 88,
   "id": "combined-spanking",
   "metadata": {},
   "outputs": [
    {
     "data": {
      "text/plain": [
       "(356,)"
      ]
     },
     "execution_count": 88,
     "metadata": {},
     "output_type": "execute_result"
    }
   ],
   "source": [
    "iot_commboth['server_name_indication'].value_counts().shape"
   ]
  },
  {
   "cell_type": "code",
   "execution_count": 91,
   "id": "determined-poker",
   "metadata": {},
   "outputs": [],
   "source": [
    "lab_commboth = pd.concat([lab_samsung_commboth, lab_amazon_commboth, lab_lg_commboth, \\\n",
    "                          lab_roku_commboth, lab_tivo_commboth, lab_google_commboth, lab_wink_commboth,\\\n",
    "                          lab_xiaomi_commboth, lab_philips_commboth, lab_amcrest_commboth, lab_nintendo_commboth, \\\n",
    "                          lab_tplink_commboth, lab_ikea_commboth, lab_withings_commboth, lab_wyze_commboth, lab_belkin_commboth, \\\n",
    "                          lab_tuya_commboth], ignore_index=True)"
   ]
  },
  {
   "cell_type": "code",
   "execution_count": 93,
   "id": "filled-ideal",
   "metadata": {},
   "outputs": [
    {
     "data": {
      "text/plain": [
       "(342,)"
      ]
     },
     "execution_count": 93,
     "metadata": {},
     "output_type": "execute_result"
    }
   ],
   "source": [
    "lab_commboth['server_name'].value_counts().shape"
   ]
  },
  {
   "cell_type": "code",
   "execution_count": null,
   "id": "professional-vienna",
   "metadata": {},
   "outputs": [],
   "source": []
  },
  {
   "cell_type": "markdown",
   "id": "governmental-europe",
   "metadata": {},
   "source": [
    "### Analysis on issuer"
   ]
  },
  {
   "cell_type": "code",
   "execution_count": 94,
   "id": "global-tenant",
   "metadata": {},
   "outputs": [],
   "source": [
    "lab_vendorgb = lab_share_dropdup.groupby(['device_vendor'])['issuer_O'].agg(lab_issuer=lambda x: set(x), \\\n",
    "                                                                            lab_numissuer=lambda x: x.nunique()).reset_index()"
   ]
  },
  {
   "cell_type": "code",
   "execution_count": 95,
   "id": "drawn-vegetation",
   "metadata": {},
   "outputs": [],
   "source": [
    "lab_share_sub = lab_share_dropdup[['device_vendor', 'issuer_O']].drop_duplicates()\n",
    "iot_share_sub = iot_share_dropdup[['device_vendor', 'issuer_O']].drop_duplicates()"
   ]
  },
  {
   "cell_type": "code",
   "execution_count": 96,
   "id": "eleven-reader",
   "metadata": {},
   "outputs": [],
   "source": [
    "share_comm = pd.merge(lab_share_sub, iot_share_sub, how='inner', on=['device_vendor', 'issuer_O'])"
   ]
  },
  {
   "cell_type": "code",
   "execution_count": 97,
   "id": "unusual-criminal",
   "metadata": {},
   "outputs": [
    {
     "data": {
      "text/plain": [
       "(78, 2)"
      ]
     },
     "execution_count": 97,
     "metadata": {},
     "output_type": "execute_result"
    }
   ],
   "source": [
    "share_comm.shape"
   ]
  },
  {
   "cell_type": "code",
   "execution_count": 98,
   "id": "nonprofit-mouse",
   "metadata": {},
   "outputs": [],
   "source": [
    "share_vendorgb = share_comm.groupby(['device_vendor'])['issuer_O'].agg(comm_issuer=lambda x: set(x), \\\n",
    "                                                                       num_commissuer=lambda x: x.nunique()).reset_index()"
   ]
  },
  {
   "cell_type": "code",
   "execution_count": 99,
   "id": "sexual-agenda",
   "metadata": {},
   "outputs": [],
   "source": [
    "numserv_temp = pd.merge(iot_vendorgb, lab_vendorgb, how='outer', on=['device_vendor'])\n",
    "numserv = pd.merge(numserv_temp, share_vendorgb, how='outer', on=['device_vendor'])"
   ]
  },
  {
   "cell_type": "code",
   "execution_count": 100,
   "id": "brilliant-format",
   "metadata": {},
   "outputs": [],
   "source": [
    "pd.set_option('display.max_colwidth', None)"
   ]
  },
  {
   "cell_type": "code",
   "execution_count": 101,
   "id": "powerful-frame",
   "metadata": {},
   "outputs": [
    {
     "data": {
      "text/html": [
       "<div>\n",
       "<style scoped>\n",
       "    .dataframe tbody tr th:only-of-type {\n",
       "        vertical-align: middle;\n",
       "    }\n",
       "\n",
       "    .dataframe tbody tr th {\n",
       "        vertical-align: top;\n",
       "    }\n",
       "\n",
       "    .dataframe thead th {\n",
       "        text-align: right;\n",
       "    }\n",
       "</style>\n",
       "<table border=\"1\" class=\"dataframe\">\n",
       "  <thead>\n",
       "    <tr style=\"text-align: right;\">\n",
       "      <th></th>\n",
       "      <th>device_vendor</th>\n",
       "      <th>iot_issuer</th>\n",
       "      <th>iot_numissuer</th>\n",
       "      <th>lab_issuer</th>\n",
       "      <th>lab_numissuer</th>\n",
       "      <th>comm_issuer</th>\n",
       "      <th>num_commissuer</th>\n",
       "    </tr>\n",
       "  </thead>\n",
       "  <tbody>\n",
       "    <tr>\n",
       "      <th>9</th>\n",
       "      <td>samsung</td>\n",
       "      <td>{Google Trust Services LLC, GlobalSign nv-sa, Entrust, Amazon, Samsung, Samsung Electronics, Universal Electronics Inc, Netflix, Apple Inc., ATT Mobility and Entertainment, Microsoft Corporation, Network Solutions L.L.C., GoDaddy.com, Cloudflare, Netflix Inc, DigiCert Inc, COMODO CA Limited, Let's Encrypt, ZeroSSL, Sectigo Limited}</td>\n",
       "      <td>20</td>\n",
       "      <td>{Gandi, Google Trust Services LLC, GlobalSign nv-sa, Entrust, Amazon, Samsung Electronics, Universal Electronics Inc, Netflix, SAMSUNG ELECTRONICS CO., SmartViewSDK, Symantec Corporation, GoDaddy.com, Google Trust Services, Netflix Inc, thawte, DigiCert Inc, COMODO CA Limited, Let's Encrypt, GeoTrust Inc., Sectigo Limited}</td>\n",
       "      <td>20</td>\n",
       "      <td>{Netflix Inc, DigiCert Inc, Universal Electronics Inc, Google Trust Services LLC, COMODO CA Limited, Let's Encrypt, Netflix, GlobalSign nv-sa, Entrust, Amazon, Samsung Electronics, GoDaddy.com, Sectigo Limited}</td>\n",
       "      <td>13.0</td>\n",
       "    </tr>\n",
       "    <tr>\n",
       "      <th>5</th>\n",
       "      <td>lg</td>\n",
       "      <td>{LG Electronics Inc., Netflix Inc, Tesla Motors, DigiCert Inc, Google Trust Services LLC, Let's Encrypt, Netflix, GlobalSign nv-sa, Apple Inc., Entrust, Amazon, nan, Microsoft Corporation, GoDaddy.com, Tesla Inc., Cloudflare, Sectigo Limited, Network Solutions L.L.C.}</td>\n",
       "      <td>18</td>\n",
       "      <td>{LG Electronics Inc., Google Trust Services LLC, IPS Certification Authority s.l., GlobalSign nv-sa, Entrust, Amazon, Google Inc, Trustwave Holdings, Netflix, Microsoft Corporation, Network Solutions L.L.C., LG Electronics U.S.A, Symantec Corporation, GoDaddy.com, Google Trust Services, Netflix Inc, thawte, DigiCert Inc, COMODO CA Limited, Let's Encrypt, CloudFlare, ZeroSSL, Sectigo Limited}</td>\n",
       "      <td>23</td>\n",
       "      <td>{LG Electronics Inc., Netflix Inc, DigiCert Inc, Google Trust Services LLC, Let's Encrypt, Netflix, GlobalSign nv-sa, Entrust, Amazon, Microsoft Corporation, GoDaddy.com, Sectigo Limited, Network Solutions L.L.C.}</td>\n",
       "      <td>13.0</td>\n",
       "    </tr>\n",
       "    <tr>\n",
       "      <th>0</th>\n",
       "      <td>amazon</td>\n",
       "      <td>{Netflix Inc, DigiCert Inc, Trustwave Holdings, Comodo Japan, Google Trust Services LLC, COMODO CA Limited, Let's Encrypt, Netflix, GlobalSign nv-sa, Apple Inc., Entrust, Amazon, Microsoft Corporation, GoDaddy.com, Cloudflare, Sectigo Limited, Network Solutions L.L.C.}</td>\n",
       "      <td>17</td>\n",
       "      <td>{Google Trust Services LLC, GlobalSign nv-sa, Entrust, Amazon, Samsung Electronics, CN=a 2 z, Netflix, CN=aau, WHALEXA, Symantec Corporation, GoDaddy.com, Google Trust Services, Cloudflare, Netflix Inc, DigiCert Inc, COMODO CA Limited, Let's Encrypt, ZeroSSL, GeoTrust Inc., Sectigo Limited}</td>\n",
       "      <td>20</td>\n",
       "      <td>{Netflix Inc, DigiCert Inc, Google Trust Services LLC, COMODO CA Limited, Let's Encrypt, Netflix, GlobalSign nv-sa, Entrust, Amazon, GoDaddy.com, Cloudflare, Sectigo Limited}</td>\n",
       "      <td>12.0</td>\n",
       "    </tr>\n",
       "    <tr>\n",
       "      <th>8</th>\n",
       "      <td>roku</td>\n",
       "      <td>{Netflix Inc, DigiCert Inc, Google Trust Services LLC, COMODO CA Limited, Let's Encrypt, Netflix, GlobalSign nv-sa, Apple Inc., Sectigo Limited, Entrust, Amazon, GoDaddy.com, Cloudflare, Roku, Network Solutions L.L.C.}</td>\n",
       "      <td>15</td>\n",
       "      <td>{Netflix Inc, DigiCert Inc, COMODO CA Limited, Let's Encrypt, IPS Certification Authority s.l., Netflix, Sectigo Limited, Amazon, Symantec Corporation, Google Trust Services, Roku, Network Solutions L.L.C.}</td>\n",
       "      <td>12</td>\n",
       "      <td>{Netflix Inc, DigiCert Inc, COMODO CA Limited, Let's Encrypt, Netflix, Sectigo Limited, Amazon, Roku, Network Solutions L.L.C.}</td>\n",
       "      <td>9.0</td>\n",
       "    </tr>\n",
       "    <tr>\n",
       "      <th>10</th>\n",
       "      <td>tivo</td>\n",
       "      <td>{Netflix Inc, DigiCert Inc, Google Trust Services LLC, Let's Encrypt, Netflix, GlobalSign nv-sa, Apple Inc., Entrust, Amazon, ZeroSSL, GoDaddy.com, Cloudflare, Sectigo Limited, Network Solutions L.L.C.}</td>\n",
       "      <td>14</td>\n",
       "      <td>{DigiCert Inc, Google Trust Services LLC, Netflix, Amazon, Google Inc, GoDaddy.com, Google Trust Services, Sectigo Limited}</td>\n",
       "      <td>8</td>\n",
       "      <td>{DigiCert Inc, Google Trust Services LLC, Netflix, Amazon, GoDaddy.com, Sectigo Limited}</td>\n",
       "      <td>6.0</td>\n",
       "    </tr>\n",
       "    <tr>\n",
       "      <th>3</th>\n",
       "      <td>google</td>\n",
       "      <td>{DigiCert Inc, Google Trust Services LLC, COMODO CA Limited, Let's Encrypt, GlobalSign nv-sa, Apple Inc., Amazon, Microsoft Corporation, Nest Labs, GoDaddy.com, Cloudflare, Sectigo Limited, Network Solutions L.L.C.}</td>\n",
       "      <td>13</td>\n",
       "      <td>{DigiCert Inc, Google Trust Services LLC, Let's Encrypt, Netflix, GlobalSign nv-sa, title=TEE, Amazon, Google Inc, ZeroSSL, Google Trust Services}</td>\n",
       "      <td>10</td>\n",
       "      <td>{DigiCert Inc, Google Trust Services LLC, Let's Encrypt, GlobalSign nv-sa, Amazon}</td>\n",
       "      <td>5.0</td>\n",
       "    </tr>\n",
       "    <tr>\n",
       "      <th>13</th>\n",
       "      <td>wink</td>\n",
       "      <td>{DigiCert Inc, Google Trust Services LLC, COMODO CA Limited, Let's Encrypt, Netflix, GlobalSign nv-sa, Apple Inc., Amazon, GoDaddy.com, Sectigo Limited, Network Solutions L.L.C.}</td>\n",
       "      <td>11</td>\n",
       "      <td>{DigiCert Inc, CN=aau, COMODO CA Limited, Let's Encrypt, Wink, ZeroSSL, GeoTrust Inc., Sectigo Limited}</td>\n",
       "      <td>8</td>\n",
       "      <td>{Let's Encrypt, DigiCert Inc, Sectigo Limited, COMODO CA Limited}</td>\n",
       "      <td>4.0</td>\n",
       "    </tr>\n",
       "    <tr>\n",
       "      <th>16</th>\n",
       "      <td>xiaomi</td>\n",
       "      <td>{DigiCert Inc, Google Trust Services LLC, COMODO CA Limited, Let's Encrypt, Netflix, GlobalSign nv-sa, Microsoft Corporation, Amazon, GoDaddy.com, Cloudflare, Sectigo Limited}</td>\n",
       "      <td>11</td>\n",
       "      <td>{Symantec Corporation}</td>\n",
       "      <td>1</td>\n",
       "      <td>NaN</td>\n",
       "      <td>NaN</td>\n",
       "    </tr>\n",
       "    <tr>\n",
       "      <th>7</th>\n",
       "      <td>philips</td>\n",
       "      <td>{DigiCert Inc, Philips Hue, Google Trust Services LLC, Netflix, Nest Labs, ZeroSSL}</td>\n",
       "      <td>6</td>\n",
       "      <td>{DigiCert Inc, Philips Hue, Google Trust Services LLC, Let's Encrypt, Amazon, Symantec Corporation, ZeroSSL}</td>\n",
       "      <td>7</td>\n",
       "      <td>{ZeroSSL, DigiCert Inc, Philips Hue, Google Trust Services LLC}</td>\n",
       "      <td>4.0</td>\n",
       "    </tr>\n",
       "    <tr>\n",
       "      <th>1</th>\n",
       "      <td>amcrest</td>\n",
       "      <td>{DigiCert Inc, Google Trust Services LLC, Netflix, GlobalSign nv-sa, Amazon, GoDaddy.com}</td>\n",
       "      <td>6</td>\n",
       "      <td>{ZeroSSL, GoDaddy.com, Let's Encrypt, Sectigo Limited}</td>\n",
       "      <td>4</td>\n",
       "      <td>{GoDaddy.com}</td>\n",
       "      <td>1.0</td>\n",
       "    </tr>\n",
       "    <tr>\n",
       "      <th>6</th>\n",
       "      <td>nintendo</td>\n",
       "      <td>{DigiCert Inc, Google Trust Services LLC, Nintendo of America Inc., Amazon, Nintendo of America}</td>\n",
       "      <td>5</td>\n",
       "      <td>{Amazon, Nintendo of America, Nintendo of America Inc., DigiCert Inc}</td>\n",
       "      <td>4</td>\n",
       "      <td>{Amazon, Nintendo of America, Nintendo of America Inc., DigiCert Inc}</td>\n",
       "      <td>4.0</td>\n",
       "    </tr>\n",
       "    <tr>\n",
       "      <th>11</th>\n",
       "      <td>tplink</td>\n",
       "      <td>{GoDaddy.com, DigiCert Inc, Apple Inc., Google Trust Services LLC}</td>\n",
       "      <td>4</td>\n",
       "      <td>{DigiCert Inc, Acme Co, Let's Encrypt, CN=TP-LINK CA P1, Symantec Corporation, ZeroSSL, GoDaddy.com}</td>\n",
       "      <td>7</td>\n",
       "      <td>{GoDaddy.com, DigiCert Inc}</td>\n",
       "      <td>2.0</td>\n",
       "    </tr>\n",
       "    <tr>\n",
       "      <th>4</th>\n",
       "      <td>ikea</td>\n",
       "      <td>{Amazon, DigiCert Inc}</td>\n",
       "      <td>2</td>\n",
       "      <td>{Amazon, Symantec Corporation}</td>\n",
       "      <td>2</td>\n",
       "      <td>{Amazon}</td>\n",
       "      <td>1.0</td>\n",
       "    </tr>\n",
       "    <tr>\n",
       "      <th>14</th>\n",
       "      <td>withings</td>\n",
       "      <td>{Amazon, Gandi}</td>\n",
       "      <td>2</td>\n",
       "      <td>{Withings}</td>\n",
       "      <td>1</td>\n",
       "      <td>NaN</td>\n",
       "      <td>NaN</td>\n",
       "    </tr>\n",
       "    <tr>\n",
       "      <th>15</th>\n",
       "      <td>wyze</td>\n",
       "      <td>{Amazon, DigiCert Inc}</td>\n",
       "      <td>2</td>\n",
       "      <td>{Amazon, DigiCert Inc, Symantec Corporation}</td>\n",
       "      <td>3</td>\n",
       "      <td>{Amazon, DigiCert Inc}</td>\n",
       "      <td>2.0</td>\n",
       "    </tr>\n",
       "    <tr>\n",
       "      <th>2</th>\n",
       "      <td>belkin</td>\n",
       "      <td>{DigiCert Inc}</td>\n",
       "      <td>1</td>\n",
       "      <td>{ZeroSSL, GoDaddy.com, Amazon, DigiCert Inc}</td>\n",
       "      <td>4</td>\n",
       "      <td>{DigiCert Inc}</td>\n",
       "      <td>1.0</td>\n",
       "    </tr>\n",
       "    <tr>\n",
       "      <th>12</th>\n",
       "      <td>tuya</td>\n",
       "      <td>{nan}</td>\n",
       "      <td>1</td>\n",
       "      <td>{GoDaddy.com, Tuya Global Inc., DigiCert Inc}</td>\n",
       "      <td>3</td>\n",
       "      <td>{Tuya Global Inc.}</td>\n",
       "      <td>1.0</td>\n",
       "    </tr>\n",
       "  </tbody>\n",
       "</table>\n",
       "</div>"
      ],
      "text/plain": [
       "   device_vendor  \\\n",
       "9        samsung   \n",
       "5             lg   \n",
       "0         amazon   \n",
       "8           roku   \n",
       "10          tivo   \n",
       "3         google   \n",
       "13          wink   \n",
       "16        xiaomi   \n",
       "7        philips   \n",
       "1        amcrest   \n",
       "6       nintendo   \n",
       "11        tplink   \n",
       "4           ikea   \n",
       "14      withings   \n",
       "15          wyze   \n",
       "2         belkin   \n",
       "12          tuya   \n",
       "\n",
       "                                                                                                                                                                                                                                                                                                                                       iot_issuer  \\\n",
       "9   {Google Trust Services LLC, GlobalSign nv-sa, Entrust, Amazon, Samsung, Samsung Electronics, Universal Electronics Inc, Netflix, Apple Inc., ATT Mobility and Entertainment, Microsoft Corporation, Network Solutions L.L.C., GoDaddy.com, Cloudflare, Netflix Inc, DigiCert Inc, COMODO CA Limited, Let's Encrypt, ZeroSSL, Sectigo Limited}   \n",
       "5                                                                    {LG Electronics Inc., Netflix Inc, Tesla Motors, DigiCert Inc, Google Trust Services LLC, Let's Encrypt, Netflix, GlobalSign nv-sa, Apple Inc., Entrust, Amazon, nan, Microsoft Corporation, GoDaddy.com, Tesla Inc., Cloudflare, Sectigo Limited, Network Solutions L.L.C.}   \n",
       "0                                                                   {Netflix Inc, DigiCert Inc, Trustwave Holdings, Comodo Japan, Google Trust Services LLC, COMODO CA Limited, Let's Encrypt, Netflix, GlobalSign nv-sa, Apple Inc., Entrust, Amazon, Microsoft Corporation, GoDaddy.com, Cloudflare, Sectigo Limited, Network Solutions L.L.C.}   \n",
       "8                                                                                                                      {Netflix Inc, DigiCert Inc, Google Trust Services LLC, COMODO CA Limited, Let's Encrypt, Netflix, GlobalSign nv-sa, Apple Inc., Sectigo Limited, Entrust, Amazon, GoDaddy.com, Cloudflare, Roku, Network Solutions L.L.C.}   \n",
       "10                                                                                                                                     {Netflix Inc, DigiCert Inc, Google Trust Services LLC, Let's Encrypt, Netflix, GlobalSign nv-sa, Apple Inc., Entrust, Amazon, ZeroSSL, GoDaddy.com, Cloudflare, Sectigo Limited, Network Solutions L.L.C.}   \n",
       "3                                                                                                                         {DigiCert Inc, Google Trust Services LLC, COMODO CA Limited, Let's Encrypt, GlobalSign nv-sa, Apple Inc., Amazon, Microsoft Corporation, Nest Labs, GoDaddy.com, Cloudflare, Sectigo Limited, Network Solutions L.L.C.}   \n",
       "13                                                                                                                                                             {DigiCert Inc, Google Trust Services LLC, COMODO CA Limited, Let's Encrypt, Netflix, GlobalSign nv-sa, Apple Inc., Amazon, GoDaddy.com, Sectigo Limited, Network Solutions L.L.C.}   \n",
       "16                                                                                                                                                                {DigiCert Inc, Google Trust Services LLC, COMODO CA Limited, Let's Encrypt, Netflix, GlobalSign nv-sa, Microsoft Corporation, Amazon, GoDaddy.com, Cloudflare, Sectigo Limited}   \n",
       "7                                                                                                                                                                                                                                                             {DigiCert Inc, Philips Hue, Google Trust Services LLC, Netflix, Nest Labs, ZeroSSL}   \n",
       "1                                                                                                                                                                                                                                                       {DigiCert Inc, Google Trust Services LLC, Netflix, GlobalSign nv-sa, Amazon, GoDaddy.com}   \n",
       "6                                                                                                                                                                                                                                                {DigiCert Inc, Google Trust Services LLC, Nintendo of America Inc., Amazon, Nintendo of America}   \n",
       "11                                                                                                                                                                                                                                                                             {GoDaddy.com, DigiCert Inc, Apple Inc., Google Trust Services LLC}   \n",
       "4                                                                                                                                                                                                                                                                                                                          {Amazon, DigiCert Inc}   \n",
       "14                                                                                                                                                                                                                                                                                                                                {Amazon, Gandi}   \n",
       "15                                                                                                                                                                                                                                                                                                                         {Amazon, DigiCert Inc}   \n",
       "2                                                                                                                                                                                                                                                                                                                                  {DigiCert Inc}   \n",
       "12                                                                                                                                                                                                                                                                                                                                          {nan}   \n",
       "\n",
       "    iot_numissuer  \\\n",
       "9              20   \n",
       "5              18   \n",
       "0              17   \n",
       "8              15   \n",
       "10             14   \n",
       "3              13   \n",
       "13             11   \n",
       "16             11   \n",
       "7               6   \n",
       "1               6   \n",
       "6               5   \n",
       "11              4   \n",
       "4               2   \n",
       "14              2   \n",
       "15              2   \n",
       "2               1   \n",
       "12              1   \n",
       "\n",
       "                                                                                                                                                                                                                                                                                                                                                                                                    lab_issuer  \\\n",
       "9                                                                         {Gandi, Google Trust Services LLC, GlobalSign nv-sa, Entrust, Amazon, Samsung Electronics, Universal Electronics Inc, Netflix, SAMSUNG ELECTRONICS CO., SmartViewSDK, Symantec Corporation, GoDaddy.com, Google Trust Services, Netflix Inc, thawte, DigiCert Inc, COMODO CA Limited, Let's Encrypt, GeoTrust Inc., Sectigo Limited}   \n",
       "5   {LG Electronics Inc., Google Trust Services LLC, IPS Certification Authority s.l., GlobalSign nv-sa, Entrust, Amazon, Google Inc, Trustwave Holdings, Netflix, Microsoft Corporation, Network Solutions L.L.C., LG Electronics U.S.A, Symantec Corporation, GoDaddy.com, Google Trust Services, Netflix Inc, thawte, DigiCert Inc, COMODO CA Limited, Let's Encrypt, CloudFlare, ZeroSSL, Sectigo Limited}   \n",
       "0                                                                                                          {Google Trust Services LLC, GlobalSign nv-sa, Entrust, Amazon, Samsung Electronics, CN=a 2 z, Netflix, CN=aau, WHALEXA, Symantec Corporation, GoDaddy.com, Google Trust Services, Cloudflare, Netflix Inc, DigiCert Inc, COMODO CA Limited, Let's Encrypt, ZeroSSL, GeoTrust Inc., Sectigo Limited}   \n",
       "8                                                                                                                                                                                               {Netflix Inc, DigiCert Inc, COMODO CA Limited, Let's Encrypt, IPS Certification Authority s.l., Netflix, Sectigo Limited, Amazon, Symantec Corporation, Google Trust Services, Roku, Network Solutions L.L.C.}   \n",
       "10                                                                                                                                                                                                                                                                                 {DigiCert Inc, Google Trust Services LLC, Netflix, Amazon, Google Inc, GoDaddy.com, Google Trust Services, Sectigo Limited}   \n",
       "3                                                                                                                                                                                                                                                           {DigiCert Inc, Google Trust Services LLC, Let's Encrypt, Netflix, GlobalSign nv-sa, title=TEE, Amazon, Google Inc, ZeroSSL, Google Trust Services}   \n",
       "13                                                                                                                                                                                                                                                                                                     {DigiCert Inc, CN=aau, COMODO CA Limited, Let's Encrypt, Wink, ZeroSSL, GeoTrust Inc., Sectigo Limited}   \n",
       "16                                                                                                                                                                                                                                                                                                                                                                                      {Symantec Corporation}   \n",
       "7                                                                                                                                                                                                                                                                                                 {DigiCert Inc, Philips Hue, Google Trust Services LLC, Let's Encrypt, Amazon, Symantec Corporation, ZeroSSL}   \n",
       "1                                                                                                                                                                                                                                                                                                                                                       {ZeroSSL, GoDaddy.com, Let's Encrypt, Sectigo Limited}   \n",
       "6                                                                                                                                                                                                                                                                                                                                        {Amazon, Nintendo of America, Nintendo of America Inc., DigiCert Inc}   \n",
       "11                                                                                                                                                                                                                                                                                                        {DigiCert Inc, Acme Co, Let's Encrypt, CN=TP-LINK CA P1, Symantec Corporation, ZeroSSL, GoDaddy.com}   \n",
       "4                                                                                                                                                                                                                                                                                                                                                                               {Amazon, Symantec Corporation}   \n",
       "14                                                                                                                                                                                                                                                                                                                                                                                                  {Withings}   \n",
       "15                                                                                                                                                                                                                                                                                                                                                                {Amazon, DigiCert Inc, Symantec Corporation}   \n",
       "2                                                                                                                                                                                                                                                                                                                                                                 {ZeroSSL, GoDaddy.com, Amazon, DigiCert Inc}   \n",
       "12                                                                                                                                                                                                                                                                                                                                                               {GoDaddy.com, Tuya Global Inc., DigiCert Inc}   \n",
       "\n",
       "    lab_numissuer  \\\n",
       "9              20   \n",
       "5              23   \n",
       "0              20   \n",
       "8              12   \n",
       "10              8   \n",
       "3              10   \n",
       "13              8   \n",
       "16              1   \n",
       "7               7   \n",
       "1               4   \n",
       "6               4   \n",
       "11              7   \n",
       "4               2   \n",
       "14              1   \n",
       "15              3   \n",
       "2               4   \n",
       "12              3   \n",
       "\n",
       "                                                                                                                                                                                                              comm_issuer  \\\n",
       "9      {Netflix Inc, DigiCert Inc, Universal Electronics Inc, Google Trust Services LLC, COMODO CA Limited, Let's Encrypt, Netflix, GlobalSign nv-sa, Entrust, Amazon, Samsung Electronics, GoDaddy.com, Sectigo Limited}   \n",
       "5   {LG Electronics Inc., Netflix Inc, DigiCert Inc, Google Trust Services LLC, Let's Encrypt, Netflix, GlobalSign nv-sa, Entrust, Amazon, Microsoft Corporation, GoDaddy.com, Sectigo Limited, Network Solutions L.L.C.}   \n",
       "0                                          {Netflix Inc, DigiCert Inc, Google Trust Services LLC, COMODO CA Limited, Let's Encrypt, Netflix, GlobalSign nv-sa, Entrust, Amazon, GoDaddy.com, Cloudflare, Sectigo Limited}   \n",
       "8                                                                                         {Netflix Inc, DigiCert Inc, COMODO CA Limited, Let's Encrypt, Netflix, Sectigo Limited, Amazon, Roku, Network Solutions L.L.C.}   \n",
       "10                                                                                                                               {DigiCert Inc, Google Trust Services LLC, Netflix, Amazon, GoDaddy.com, Sectigo Limited}   \n",
       "3                                                                                                                                      {DigiCert Inc, Google Trust Services LLC, Let's Encrypt, GlobalSign nv-sa, Amazon}   \n",
       "13                                                                                                                                                      {Let's Encrypt, DigiCert Inc, Sectigo Limited, COMODO CA Limited}   \n",
       "16                                                                                                                                                                                                                    NaN   \n",
       "7                                                                                                                                                         {ZeroSSL, DigiCert Inc, Philips Hue, Google Trust Services LLC}   \n",
       "1                                                                                                                                                                                                           {GoDaddy.com}   \n",
       "6                                                                                                                                                   {Amazon, Nintendo of America, Nintendo of America Inc., DigiCert Inc}   \n",
       "11                                                                                                                                                                                            {GoDaddy.com, DigiCert Inc}   \n",
       "4                                                                                                                                                                                                                {Amazon}   \n",
       "14                                                                                                                                                                                                                    NaN   \n",
       "15                                                                                                                                                                                                 {Amazon, DigiCert Inc}   \n",
       "2                                                                                                                                                                                                          {DigiCert Inc}   \n",
       "12                                                                                                                                                                                                     {Tuya Global Inc.}   \n",
       "\n",
       "    num_commissuer  \n",
       "9             13.0  \n",
       "5             13.0  \n",
       "0             12.0  \n",
       "8              9.0  \n",
       "10             6.0  \n",
       "3              5.0  \n",
       "13             4.0  \n",
       "16             NaN  \n",
       "7              4.0  \n",
       "1              1.0  \n",
       "6              4.0  \n",
       "11             2.0  \n",
       "4              1.0  \n",
       "14             NaN  \n",
       "15             2.0  \n",
       "2              1.0  \n",
       "12             1.0  "
      ]
     },
     "execution_count": 101,
     "metadata": {},
     "output_type": "execute_result"
    }
   ],
   "source": [
    "numserv.sort_values('iot_numissuer', ascending=False)"
   ]
  },
  {
   "cell_type": "markdown",
   "id": "specific-tiger",
   "metadata": {},
   "source": [
    "### Certificate properties"
   ]
  },
  {
   "cell_type": "code",
   "execution_count": 102,
   "id": "fantastic-algorithm",
   "metadata": {},
   "outputs": [],
   "source": [
    "iot_sub = iot_share_dropdup[['server_name_indication', 'cert_serialNum_from_x509af', 'issuer_O', 'cert_validity_days', 'device_id', \\\n",
    "                             'device_vendor', 'device_name', 'issuer_CN', 'subject_CN', 'response']]"
   ]
  },
  {
   "cell_type": "code",
   "execution_count": 103,
   "id": "assisted-issue",
   "metadata": {},
   "outputs": [
    {
     "name": "stderr",
     "output_type": "stream",
     "text": [
      "<ipython-input-103-1711aee45a5a>:1: SettingWithCopyWarning: \n",
      "A value is trying to be set on a copy of a slice from a DataFrame.\n",
      "Try using .loc[row_indexer,col_indexer] = value instead\n",
      "\n",
      "See the caveats in the documentation: https://pandas.pydata.org/pandas-docs/stable/user_guide/indexing.html#returning-a-view-versus-a-copy\n",
      "  iot_sub['validity_days'] = iot_sub['cert_validity_days'].apply(lambda x: int(x.split(\" days\")[0]))\n"
     ]
    }
   ],
   "source": [
    "iot_sub['validity_days'] = iot_sub['cert_validity_days'].apply(lambda x: int(x.split(\" days\")[0]))"
   ]
  },
  {
   "cell_type": "code",
   "execution_count": 104,
   "id": "indonesian-millennium",
   "metadata": {},
   "outputs": [
    {
     "data": {
      "text/plain": [
       "(19444, 11)"
      ]
     },
     "execution_count": 104,
     "metadata": {},
     "output_type": "execute_result"
    }
   ],
   "source": [
    "iot_sub.shape"
   ]
  },
  {
   "cell_type": "code",
   "execution_count": 105,
   "id": "challenging-memory",
   "metadata": {},
   "outputs": [],
   "source": [
    "lab_sub = lab_share_dropdup[['server_name', 'certificate.serial', 'issuer_O', 'validity_days', 'mac', \\\n",
    "                             'device_vendor', 'issuer_CN', 'subject_CN', 'validation_status']]"
   ]
  },
  {
   "cell_type": "code",
   "execution_count": 106,
   "id": "aerial-walter",
   "metadata": {},
   "outputs": [
    {
     "data": {
      "text/plain": [
       "(2129,)"
      ]
     },
     "execution_count": 106,
     "metadata": {},
     "output_type": "execute_result"
    }
   ],
   "source": [
    "lab_sub['certificate.serial'].value_counts().shape"
   ]
  },
  {
   "cell_type": "markdown",
   "id": "african-midwest",
   "metadata": {},
   "source": [
    "#### Readin crt.sh query results"
   ]
  },
  {
   "cell_type": "code",
   "execution_count": 107,
   "id": "innovative-johnson",
   "metadata": {},
   "outputs": [],
   "source": [
    "lab_res = pd.read_csv(\"../datasets/labset_ct_res.csv\", names=['serial', 'response'])"
   ]
  },
  {
   "cell_type": "code",
   "execution_count": 108,
   "id": "continuing-turning",
   "metadata": {},
   "outputs": [],
   "source": [
    "lab_res['res'] = lab_res['response'].apply(lambda x: eval(x.split(\"'response': \")[-1].split(\"}\")[0]))"
   ]
  },
  {
   "cell_type": "code",
   "execution_count": 109,
   "id": "comprehensive-printer",
   "metadata": {},
   "outputs": [
    {
     "data": {
      "text/plain": [
       "True     1817\n",
       "False     312\n",
       "Name: res, dtype: int64"
      ]
     },
     "execution_count": 109,
     "metadata": {},
     "output_type": "execute_result"
    }
   ],
   "source": [
    "lab_res['res'].value_counts()"
   ]
  },
  {
   "cell_type": "code",
   "execution_count": 110,
   "id": "exempt-broadcasting",
   "metadata": {},
   "outputs": [],
   "source": [
    "lab_ans = lab_res[['serial', 'res']]\n",
    "lab_sub = pd.merge(lab_sub, lab_ans, left_on=['certificate.serial'], right_on=['serial'], how='left')"
   ]
  },
  {
   "cell_type": "code",
   "execution_count": 111,
   "id": "positive-directory",
   "metadata": {},
   "outputs": [
    {
     "data": {
      "text/plain": [
       "True     4449\n",
       "False     830\n",
       "Name: res, dtype: int64"
      ]
     },
     "execution_count": 111,
     "metadata": {},
     "output_type": "execute_result"
    }
   ],
   "source": [
    "lab_sub['res'].value_counts()"
   ]
  },
  {
   "cell_type": "markdown",
   "id": "actual-closer",
   "metadata": {},
   "source": [
    "#### Manual fix Lab crt.sh false positives"
   ]
  },
  {
   "cell_type": "code",
   "execution_count": 112,
   "id": "novel-testament",
   "metadata": {},
   "outputs": [],
   "source": [
    "#lab_sub.loc[lab_sub.issuer_O == 'WHALEXA', 'res'] = False"
   ]
  },
  {
   "cell_type": "markdown",
   "id": "identified-former",
   "metadata": {},
   "source": [
    "#### Statistics"
   ]
  },
  {
   "cell_type": "code",
   "execution_count": 113,
   "id": "arranged-porter",
   "metadata": {},
   "outputs": [
    {
     "data": {
      "text/plain": [
       "Google Trust Services        264\n",
       "Google Trust Services LLC    168\n",
       "Netflix                      101\n",
       "WHALEXA                       68\n",
       "COMODO CA Limited             62\n",
       "GoDaddy.com                   51\n",
       "Sectigo Limited               19\n",
       "Symantec Corporation          15\n",
       "Amazon                        14\n",
       "Entrust                       10\n",
       "Google Inc                     9\n",
       "Wink                           8\n",
       "CN=aau                         8\n",
       "Philips Hue                    7\n",
       "Network Solutions L.L.C.       6\n",
       "LG Electronics U.S.A           4\n",
       "CN=TP-LINK CA P1               4\n",
       "Universal Electronics Inc      2\n",
       "Tuya Global Inc.               2\n",
       "Samsung Electronics            2\n",
       "Withings                       2\n",
       "SmartViewSDK                   1\n",
       "Netflix Inc                    1\n",
       "Gandi                          1\n",
       "Acme Co                        1\n",
       "Name: issuer_O, dtype: int64"
      ]
     },
     "execution_count": 113,
     "metadata": {},
     "output_type": "execute_result"
    }
   ],
   "source": [
    "lab_sub.loc[lab_sub['res'] == False]['issuer_O'].value_counts()"
   ]
  },
  {
   "cell_type": "code",
   "execution_count": 114,
   "id": "polished-toyota",
   "metadata": {},
   "outputs": [],
   "source": [
    "false_lis = ['CN=aau', 'CN=a 2 z', 'title=TEE', 'Acme Co']"
   ]
  },
  {
   "cell_type": "code",
   "execution_count": 115,
   "id": "brave-duncan",
   "metadata": {},
   "outputs": [],
   "source": [
    "lab_sub = lab_sub.loc[~lab_sub['issuer_O'].isin(false_lis)]"
   ]
  },
  {
   "cell_type": "markdown",
   "id": "boring-contrary",
   "metadata": {},
   "source": [
    "#### Rename"
   ]
  },
  {
   "cell_type": "code",
   "execution_count": 116,
   "id": "exempt-birthday",
   "metadata": {},
   "outputs": [
    {
     "name": "stderr",
     "output_type": "stream",
     "text": [
      "/usr/local/Caskroom/miniconda/base/lib/python3.8/site-packages/pandas/core/indexing.py:1720: SettingWithCopyWarning: \n",
      "A value is trying to be set on a copy of a slice from a DataFrame.\n",
      "Try using .loc[row_indexer,col_indexer] = value instead\n",
      "\n",
      "See the caveats in the documentation: https://pandas.pydata.org/pandas-docs/stable/user_guide/indexing.html#returning-a-view-versus-a-copy\n",
      "  self._setitem_single_column(loc, value, pi)\n"
     ]
    }
   ],
   "source": [
    "iot_sub.loc[iot_sub.device_vendor == \"tuya\", \"issuer_O\"] = \"Tuya Global Inc.\""
   ]
  },
  {
   "cell_type": "markdown",
   "id": "adapted-nevada",
   "metadata": {},
   "source": [
    "### Common issuers"
   ]
  },
  {
   "cell_type": "code",
   "execution_count": 117,
   "id": "north-history",
   "metadata": {},
   "outputs": [],
   "source": [
    "samsung_comm = [\"DigiCert Inc\", \"Netflix\", \"Sectigo Limited\", \"COMODO CA Limited\", \"GoDaddy.com\", \\\n",
    "                    \"GlobalSign nv-sa\", \"Amazon\", \"Google Trust Services LLC\", \"Universal Electronics Inc\", \"Entrust\", \"Netflix Inc\", \"Samsung Electronics\"]\n",
    "amazon_comm = [\"Cloudflare\", \"DigiCert Inc\", \"Netflix\", \"Sectigo Limited\", \"COMODO CA Limited\", \"GoDaddy.com\", \\\n",
    "                   \"GlobalSign nv-sa\", \"Let's Encrypt\", \"Amazon\", \"Google Trust Services LLC\", \"Entrust\", \"Netflix Inc\"]\n",
    "lg_comm = [\"Netflix\", \"DigiCert Inc\", \"Sectigo Limited\", \"Microsoft Corporation\", \"GoDaddy.com\", \"LG Electronics Inc.\", \\\n",
    "               \"GlobalSign nv-sa\", \"Let's Encrypt\", \"Amazon\", \"Entrust\", \"Google Trust Services LLC\", \"Netflix Inc\", \"Network Solutions L.L.C.\"]\n",
    "roku_comm = [\"DigiCert Inc\", \"Netflix\", \"Sectigo Limited\", \"COMODO CA Limited\", \"Let's Encrypt\", \"Amazon\", \"Netflix Inc\", \"Roku\", \"Network Solutions L.L.C.\"]\n",
    "tivo_comm = [\"Netflix\", \"DigiCert Inc\", \"Sectigo Limited\", \"GoDaddy.com\", \"Amazon\", \"Google Trust Services LLC\"]\n",
    "google_comm = [\"DigiCert Inc\", \"GlobalSign nv-sa\", \"Let's Encrypt\", \"Amazon\", \"Google Trust Services LLC\"]\n",
    "wink_comm = [\"Sectigo Limited\", \"Let's Encrypt\", \"COMODO CA Limited\", \"DigiCert Inc\"]\n",
    "xiaomi_comm = []\n",
    "philips_comm = [\"ZeroSSL\", \"Philips Hue\", \"DigiCert Inc\", \"Google Trust Services LLC\"]\n",
    "amcrest_comm = [\"GoDaddy.com\"]\n",
    "nintendo_comm = [\"Nintendo of America\", \"DigiCert Inc\", \"Nintendo of America Inc.\", \"Amazon\"]\n",
    "tplink_comm = [\"GoDaddy.com\", \"DigiCert Inc\"]\n",
    "ikea_comm = [\"Amazon\"]\n",
    "withings_comm = []\n",
    "wyze_comm = [\"DigiCert Inc\", \"Amazon\"]\n",
    "belkin_comm = [\"DigiCert Inc\"]\n",
    "tuya_comm = [\"Tuya Global Inc.\"]"
   ]
  },
  {
   "cell_type": "markdown",
   "id": "particular-wyoming",
   "metadata": {},
   "source": [
    "#### Note: vendors with empty sub dataframes not included"
   ]
  },
  {
   "cell_type": "code",
   "execution_count": 119,
   "id": "silent-friday",
   "metadata": {},
   "outputs": [],
   "source": [
    "iot_samsung = iot_sub.loc[(iot_sub['device_vendor'] == 'samsung') & (iot_sub['issuer_O'].isin(samsung_comm))]\n",
    "iot_amazon = iot_sub.loc[(iot_sub['device_vendor'] == 'amazon') & (iot_sub['issuer_O'].isin(amazon_comm))]\n",
    "iot_lg = iot_sub.loc[(iot_sub['device_vendor'] == 'lg') & (iot_sub['issuer_O'].isin(lg_comm))]\n",
    "iot_roku = iot_sub.loc[(iot_sub['device_vendor'] == 'roku') & (iot_sub['issuer_O'].isin(roku_comm))]\n",
    "iot_tivo = iot_sub.loc[(iot_sub['device_vendor'] == 'tivo') & (iot_sub['issuer_O'].isin(tivo_comm))]\n",
    "iot_google = iot_sub.loc[(iot_sub['device_vendor'] == 'google') & (iot_sub['issuer_O'].isin(google_comm))]\n",
    "iot_wink = iot_sub.loc[(iot_sub['device_vendor'] == 'wink') & (iot_sub['issuer_O'].isin(wink_comm))]\n",
    "iot_philips = iot_sub.loc[(iot_sub['device_vendor'] == 'philips') & (iot_sub['issuer_O'].isin(philips_comm))]\n",
    "iot_amcrest = iot_sub.loc[(iot_sub['device_vendor'] == 'amcrest') & (iot_sub['issuer_O'].isin(amcrest_comm))]\n",
    "iot_nintendo = iot_sub.loc[(iot_sub['device_vendor'] == 'nintendo') & (iot_sub['issuer_O'].isin(nintendo_comm))]\n",
    "iot_tplink = iot_sub.loc[(iot_sub['device_vendor'] == 'tplink') & (iot_sub['issuer_O'].isin(tplink_comm))]\n",
    "iot_ikea = iot_sub.loc[(iot_sub['device_vendor'] == 'ikea') & (iot_sub['issuer_O'].isin(ikea_comm))]\n",
    "iot_wyze = iot_sub.loc[(iot_sub['device_vendor'] == 'wyze') & (iot_sub['issuer_O'].isin(wyze_comm))]\n",
    "iot_belkin = iot_sub.loc[(iot_sub['device_vendor'] == 'belkin') & (iot_sub['issuer_O'].isin(belkin_comm))]\n",
    "iot_tuya = iot_sub.loc[(iot_sub['device_vendor'] == 'tuya') & (iot_sub['issuer_O'].isin(tuya_comm))]"
   ]
  },
  {
   "cell_type": "code",
   "execution_count": 121,
   "id": "processed-direction",
   "metadata": {},
   "outputs": [],
   "source": [
    "lab_samsung = lab_sub.loc[(lab_sub['device_vendor'] == 'samsung') & (lab_sub['issuer_O'].isin(samsung_comm))]\n",
    "lab_amazon = lab_sub.loc[(lab_sub['device_vendor'] == 'amazon') & (lab_sub['issuer_O'].isin(amazon_comm))]\n",
    "lab_lg = lab_sub.loc[(lab_sub['device_vendor'] == 'lg') & (lab_sub['issuer_O'].isin(lg_comm))]\n",
    "lab_roku = lab_sub.loc[(lab_sub['device_vendor'] == 'roku') & (lab_sub['issuer_O'].isin(roku_comm))]\n",
    "lab_tivo = lab_sub.loc[(lab_sub['device_vendor'] == 'tivo') & (lab_sub['issuer_O'].isin(tivo_comm))]\n",
    "lab_google = lab_sub.loc[(lab_sub['device_vendor'] == 'google') & (lab_sub['issuer_O'].isin(google_comm))]\n",
    "lab_wink = lab_sub.loc[(lab_sub['device_vendor'] == 'wink') & (lab_sub['issuer_O'].isin(wink_comm))]\n",
    "lab_philips = lab_sub.loc[(lab_sub['device_vendor'] == 'philips') & (lab_sub['issuer_O'].isin(philips_comm))]\n",
    "lab_amcrest = lab_sub.loc[(lab_sub['device_vendor'] == 'amcrest') & (lab_sub['issuer_O'].isin(amcrest_comm))]\n",
    "lab_nintendo = lab_sub.loc[(lab_sub['device_vendor'] == 'nintendo') & (lab_sub['issuer_O'].isin(nintendo_comm))]\n",
    "lab_tplink = lab_sub.loc[(lab_sub['device_vendor'] == 'tplink') & (lab_sub['issuer_O'].isin(tplink_comm))]\n",
    "lab_ikea = lab_sub.loc[(lab_sub['device_vendor'] == 'ikea') & (lab_sub['issuer_O'].isin(ikea_comm))]\n",
    "lab_wyze = lab_sub.loc[(lab_sub['device_vendor'] == 'wyze') & (lab_sub['issuer_O'].isin(wyze_comm))]\n",
    "lab_belkin = lab_sub.loc[(lab_sub['device_vendor'] == 'belkin') & (lab_sub['issuer_O'].isin(belkin_comm))]\n",
    "lab_tuya = lab_sub.loc[(lab_sub['device_vendor'] == 'tuya') & (lab_sub['issuer_O'].isin(tuya_comm))]"
   ]
  },
  {
   "cell_type": "code",
   "execution_count": 122,
   "id": "facial-warrior",
   "metadata": {},
   "outputs": [],
   "source": [
    "iot_comm = pd.concat([iot_samsung, iot_amazon, iot_lg, iot_roku, iot_tivo, iot_google, iot_wink,\\\n",
    "                      iot_philips, iot_amcrest, iot_nintendo, iot_tplink, iot_ikea, iot_wyze, iot_belkin, iot_tuya], ignore_index=True)"
   ]
  },
  {
   "cell_type": "code",
   "execution_count": 123,
   "id": "remarkable-cloud",
   "metadata": {},
   "outputs": [],
   "source": [
    "lab_comm = pd.concat([lab_samsung, lab_amazon, lab_lg, lab_roku, lab_tivo, lab_google, lab_wink,\\\n",
    "                      lab_philips, lab_amcrest, lab_nintendo, lab_tplink, lab_ikea, lab_wyze, lab_belkin, lab_tuya], ignore_index=True)"
   ]
  },
  {
   "cell_type": "code",
   "execution_count": 124,
   "id": "interracial-wyoming",
   "metadata": {},
   "outputs": [],
   "source": [
    "publis = ['Amazon', \"COMODO CA Limited\", \"DigiCert Inc\", \"GoDaddy.com\", \"Sectigo Limited\", \"GlobalSign nv-sa\", \\\n",
    "          \"Entrust\", \"Google Trust Services LLC\", \"Let's Encrypt\", \"Cloudflare\", \"Network Solutions L.L.C.\", \\\n",
    "          \"Microsoft Corporation\", \"ZeroSSL\"]"
   ]
  },
  {
   "cell_type": "code",
   "execution_count": 125,
   "id": "filled-marshall",
   "metadata": {},
   "outputs": [],
   "source": [
    "iot_comm['Issuer'] = iot_comm['issuer_O'].apply(lambda x: \"Public trust\" if x in publis else \"Untrust\")"
   ]
  },
  {
   "cell_type": "code",
   "execution_count": 127,
   "id": "coastal-algeria",
   "metadata": {},
   "outputs": [],
   "source": [
    "lab_comm['Issuer'] = lab_comm['issuer_O'].apply(lambda x: \"Public trust\" if x in publis else \"Untrust\")"
   ]
  },
  {
   "cell_type": "code",
   "execution_count": 128,
   "id": "proprietary-liberty",
   "metadata": {},
   "outputs": [],
   "source": [
    "iot_comm['certday_log10'] = iot_comm['validity_days'].apply(lambda x: np.log10(x))"
   ]
  },
  {
   "cell_type": "code",
   "execution_count": 129,
   "id": "unlimited-baghdad",
   "metadata": {},
   "outputs": [],
   "source": [
    "lab_comm['certday_log10'] = lab_comm['validity_days'].apply(lambda x: np.log10(x))"
   ]
  },
  {
   "cell_type": "code",
   "execution_count": 130,
   "id": "gentle-arbor",
   "metadata": {},
   "outputs": [],
   "source": [
    "iot_comm = iot_comm.drop_duplicates(['device_vendor', 'cert_serialNum_from_x509af', 'issuer_CN', 'validity_days'])\n",
    "lab_comm = lab_comm.drop_duplicates(['device_vendor', 'serial', 'issuer_CN', 'validity_days'])"
   ]
  },
  {
   "cell_type": "code",
   "execution_count": 131,
   "id": "hired-movement",
   "metadata": {},
   "outputs": [],
   "source": [
    "def jitter(x):\n",
    "    return x + random.uniform(0, .5) - .25"
   ]
  },
  {
   "cell_type": "code",
   "execution_count": 132,
   "id": "governing-passport",
   "metadata": {},
   "outputs": [],
   "source": [
    "iot_comm = iot_comm.rename({\"response\": \"In CT\"}, axis=1)\n",
    "lab_comm = lab_comm.rename({\"res\": \"In CT\"}, axis=1)"
   ]
  },
  {
   "cell_type": "code",
   "execution_count": 133,
   "id": "maritime-motor",
   "metadata": {},
   "outputs": [],
   "source": [
    "vendor_ids = {'samsung':1, 'amazon':2, 'lg':3, 'roku':4, 'tivo':5, \\\n",
    "             'google':6, 'wink':7, 'philips':8, 'amcrest':9, 'nintendo':10, \\\n",
    "             'tplink':11, 'ikea':12, 'wyze':13, 'belkin':14, 'tuya':15}\n",
    "\n",
    "iot_comm['vendor_id'] = iot_comm['device_vendor'].apply(lambda x: vendor_ids[x])\n",
    "iot_comm['jittered'] = iot_comm['vendor_id'].apply(lambda x: jitter(x))\n",
    "lab_comm['vendor_id'] = lab_comm['device_vendor'].apply(lambda x: vendor_ids[x])\n",
    "lab_comm['jittered'] = lab_comm['vendor_id'].apply(lambda x: jitter(x))"
   ]
  },
  {
   "cell_type": "code",
   "execution_count": 134,
   "id": "ongoing-recycling",
   "metadata": {},
   "outputs": [
    {
     "data": {
      "image/png": "[encoded data removed]",
      "text/plain": [
       "<Figure size 1008x576 with 2 Axes>"
      ]
     },
     "metadata": {
      "needs_background": "light"
     },
     "output_type": "display_data"
    }
   ],
   "source": [
    "fig, axes = plt.subplots(2, figsize=(14, 8), sharex=True)\n",
    "matplotlib.rc('ytick', labelsize=14)\n",
    "\n",
    "ct_palette = [\"#7E89F8\", \"#FA9F09\"]\n",
    "markers = {True: \"_\", False: \"+\"}\n",
    "\n",
    "sns.scatterplot(data=iot_comm, x=\"jittered\", y=\"certday_log10\", hue=\"Issuer\", style=\"In CT\", ax=axes[0],\\\n",
    "                s=60, palette=ct_palette, markers=markers, alpha=1, linewidth=1.2, x_jitter=True)\n",
    "sns.scatterplot(data=lab_comm, x=\"jittered\", y=\"certday_log10\", hue=\"Issuer\", style=\"In CT\", ax=axes[1], \\\n",
    "                s=60, palette=ct_palette, markers=markers, alpha=1, linewidth=1.2, x_jitter=True)\n",
    "\n",
    "axes[0].set_xlabel(\"\")\n",
    "axes[0].set_ylabel(\"\")\n",
    "axes[1].set_xlabel(\"\")\n",
    "axes[1].set_ylabel(\"\")\n",
    "#axes[0].title.set_text('IoT Inspector Server Dataset', Fontsize=16)\n",
    "axes[0].set_title(\"IoT Inspector Server Dataset\", fontsize=16)\n",
    "#axes[1].title.set_text('Lab Dataset', Fontsize=16)\n",
    "axes[1].set_title(\"Lab Dataset\", fontsize=16)\n",
    "\n",
    "handles0, labels0 = axes[0].get_legend_handles_labels()\n",
    "axes[0].legend(handles=handles0[0:], labels=labels0[0:], title=\"\",\\\n",
    "                   loc=\"lower right\", fancybox=True, framealpha=1, shadow=True, borderpad=.5, ncol=2, bbox_to_anchor=[0.92, 0.60], \\\n",
    "                   fontsize=13)\n",
    "\n",
    "axes[1].get_legend().remove()\n",
    "\n",
    "plt.xticks([1,2,3,4,5,6,7,8,9,10,11,12,13,14,15], fontsize=15)\n",
    "axes[1].set_xticklabels(['Samsung', 'Amazon', 'LG', 'Roku', 'Tivo', \\\n",
    "                    'Google', 'Wink', 'Philips', 'Amcrest', 'Nintendo', \\\n",
    "                    'TP-Link', 'IKEA', 'Wyze', 'Belkin', 'Tuya'], \\\n",
    "                    fontsize=15, rotation=90, ha='right', va='center',rotation_mode='anchor')\n",
    "\n",
    "fig.text(0.025, 0.5, '$log_{10}$ (Leaf certificate validity period)', va='center', rotation='vertical', fontsize=18)\n",
    "plt.subplots_adjust(left=0.08, right=0.99, bottom=0.15, top=0.95)\n",
    "\n",
    "#fig.tight_layout()\n",
    "plt.show()"
   ]
  },
  {
   "cell_type": "markdown",
   "id": "stretch-trinidad",
   "metadata": {},
   "source": [
    "### Common Issuer, Same SNIs"
   ]
  },
  {
   "cell_type": "code",
   "execution_count": 135,
   "id": "genetic-marketing",
   "metadata": {},
   "outputs": [],
   "source": [
    "iot_comm_sni = iot_comm.loc[iot_comm['server_name_indication'].isin(sni_commlis)]\n",
    "lab_comm_sni = lab_comm.loc[lab_comm['server_name'].isin(sni_commlis)]"
   ]
  },
  {
   "cell_type": "code",
   "execution_count": 136,
   "id": "dying-hypothetical",
   "metadata": {},
   "outputs": [
    {
     "data": {
      "text/html": [
       "<div>\n",
       "<style scoped>\n",
       "    .dataframe tbody tr th:only-of-type {\n",
       "        vertical-align: middle;\n",
       "    }\n",
       "\n",
       "    .dataframe tbody tr th {\n",
       "        vertical-align: top;\n",
       "    }\n",
       "\n",
       "    .dataframe thead th {\n",
       "        text-align: right;\n",
       "    }\n",
       "</style>\n",
       "<table border=\"1\" class=\"dataframe\">\n",
       "  <thead>\n",
       "    <tr style=\"text-align: right;\">\n",
       "      <th></th>\n",
       "      <th>server_name</th>\n",
       "      <th>certificate.serial</th>\n",
       "      <th>issuer_O</th>\n",
       "      <th>validity_days</th>\n",
       "      <th>mac</th>\n",
       "      <th>device_vendor</th>\n",
       "      <th>issuer_CN</th>\n",
       "      <th>subject_CN</th>\n",
       "      <th>validation_status</th>\n",
       "      <th>serial</th>\n",
       "      <th>In CT</th>\n",
       "      <th>Issuer</th>\n",
       "      <th>certday_log10</th>\n",
       "      <th>vendor_id</th>\n",
       "      <th>jittered</th>\n",
       "    </tr>\n",
       "  </thead>\n",
       "  <tbody>\n",
       "    <tr>\n",
       "      <th>16</th>\n",
       "      <td>osb-ussvc.samsungqbe.com</td>\n",
       "      <td>A8B29861E641DF722AFAA99072176C5C</td>\n",
       "      <td>COMODO CA Limited</td>\n",
       "      <td>813</td>\n",
       "      <td>84:c0:ef:2f:42:cc</td>\n",
       "      <td>samsung</td>\n",
       "      <td>COMODO RSA Organization Validation Secure Server CA</td>\n",
       "      <td>*.samsungqbe.com</td>\n",
       "      <td>ok</td>\n",
       "      <td>A8B29861E641DF722AFAA99072176C5C</td>\n",
       "      <td>False</td>\n",
       "      <td>Public trust</td>\n",
       "      <td>2.910091</td>\n",
       "      <td>1</td>\n",
       "      <td>1.209161</td>\n",
       "    </tr>\n",
       "    <tr>\n",
       "      <th>32</th>\n",
       "      <td>www.mgo.com</td>\n",
       "      <td>9310935F50EBB897D4A2EDC4E693771F</td>\n",
       "      <td>COMODO CA Limited</td>\n",
       "      <td>730</td>\n",
       "      <td>84:c0:ef:2f:42:cc</td>\n",
       "      <td>samsung</td>\n",
       "      <td>COMODO RSA Organization Validation Secure Server CA</td>\n",
       "      <td>*.mgo.com</td>\n",
       "      <td>ok</td>\n",
       "      <td>9310935F50EBB897D4A2EDC4E693771F</td>\n",
       "      <td>False</td>\n",
       "      <td>Public trust</td>\n",
       "      <td>2.863323</td>\n",
       "      <td>1</td>\n",
       "      <td>0.923118</td>\n",
       "    </tr>\n",
       "    <tr>\n",
       "      <th>55</th>\n",
       "      <td>log-ingestion.samsungacr.com</td>\n",
       "      <td>9EBDDD0CB99954E6</td>\n",
       "      <td>GoDaddy.com</td>\n",
       "      <td>730</td>\n",
       "      <td>84:c0:ef:2f:42:cc</td>\n",
       "      <td>samsung</td>\n",
       "      <td>Go Daddy Secure Certificate Authority - G2</td>\n",
       "      <td>*.samsungacr.com</td>\n",
       "      <td>ok</td>\n",
       "      <td>9EBDDD0CB99954E6</td>\n",
       "      <td>False</td>\n",
       "      <td>Public trust</td>\n",
       "      <td>2.863323</td>\n",
       "      <td>1</td>\n",
       "      <td>0.952951</td>\n",
       "    </tr>\n",
       "    <tr>\n",
       "      <th>84</th>\n",
       "      <td>api.distribution.hulu.com</td>\n",
       "      <td>8090FE51DC1346FF1F18507F1A682348</td>\n",
       "      <td>Sectigo Limited</td>\n",
       "      <td>730</td>\n",
       "      <td>84:c0:ef:2f:42:cc</td>\n",
       "      <td>samsung</td>\n",
       "      <td>Sectigo RSA Organization Validation Secure Server CA</td>\n",
       "      <td>api.distribution.hulu.com</td>\n",
       "      <td>ok</td>\n",
       "      <td>8090FE51DC1346FF1F18507F1A682348</td>\n",
       "      <td>False</td>\n",
       "      <td>Public trust</td>\n",
       "      <td>2.863323</td>\n",
       "      <td>1</td>\n",
       "      <td>0.914417</td>\n",
       "    </tr>\n",
       "    <tr>\n",
       "      <th>174</th>\n",
       "      <td>gpm.samsungqbe.com</td>\n",
       "      <td>FA77B7D7A6FFF4DA8BDD3A538C5E2D4E</td>\n",
       "      <td>COMODO CA Limited</td>\n",
       "      <td>820</td>\n",
       "      <td>84:c0:ef:2f:42:cc</td>\n",
       "      <td>samsung</td>\n",
       "      <td>COMODO RSA Organization Validation Secure Server CA</td>\n",
       "      <td>*.samsungqbe.com</td>\n",
       "      <td>ok</td>\n",
       "      <td>FA77B7D7A6FFF4DA8BDD3A538C5E2D4E</td>\n",
       "      <td>False</td>\n",
       "      <td>Public trust</td>\n",
       "      <td>2.913814</td>\n",
       "      <td>1</td>\n",
       "      <td>0.852526</td>\n",
       "    </tr>\n",
       "    <tr>\n",
       "      <th>216</th>\n",
       "      <td>log-config.samsungacr.com</td>\n",
       "      <td>D76EE54416982D1E</td>\n",
       "      <td>GoDaddy.com</td>\n",
       "      <td>397</td>\n",
       "      <td>84:c0:ef:2f:42:cc</td>\n",
       "      <td>samsung</td>\n",
       "      <td>Go Daddy Secure Certificate Authority - G2</td>\n",
       "      <td>*.samsungacr.com</td>\n",
       "      <td>ok</td>\n",
       "      <td>D76EE54416982D1E</td>\n",
       "      <td>False</td>\n",
       "      <td>Public trust</td>\n",
       "      <td>2.598791</td>\n",
       "      <td>1</td>\n",
       "      <td>0.986327</td>\n",
       "    </tr>\n",
       "    <tr>\n",
       "      <th>226</th>\n",
       "      <td>www.google.com</td>\n",
       "      <td>D2AC57EBA83598450A0000000108AEDB</td>\n",
       "      <td>Google Trust Services LLC</td>\n",
       "      <td>83</td>\n",
       "      <td>84:c0:ef:2f:42:cc</td>\n",
       "      <td>samsung</td>\n",
       "      <td>GTS CA 1C3</td>\n",
       "      <td>www.google.com</td>\n",
       "      <td>ok</td>\n",
       "      <td>D2AC57EBA83598450A0000000108AEDB</td>\n",
       "      <td>False</td>\n",
       "      <td>Public trust</td>\n",
       "      <td>1.919078</td>\n",
       "      <td>1</td>\n",
       "      <td>0.925675</td>\n",
       "    </tr>\n",
       "    <tr>\n",
       "      <th>252</th>\n",
       "      <td>auth.hulu.com</td>\n",
       "      <td>D6F251B9325DA506BED7F9A34BC4EC42</td>\n",
       "      <td>COMODO CA Limited</td>\n",
       "      <td>1095</td>\n",
       "      <td>84:c0:ef:2f:42:cc</td>\n",
       "      <td>samsung</td>\n",
       "      <td>COMODO RSA Domain Validation Secure Server CA</td>\n",
       "      <td>auth.hulu.com</td>\n",
       "      <td>ok</td>\n",
       "      <td>D6F251B9325DA506BED7F9A34BC4EC42</td>\n",
       "      <td>False</td>\n",
       "      <td>Public trust</td>\n",
       "      <td>3.039414</td>\n",
       "      <td>1</td>\n",
       "      <td>0.930592</td>\n",
       "    </tr>\n",
       "    <tr>\n",
       "      <th>265</th>\n",
       "      <td>siloh.pluto.tv</td>\n",
       "      <td>CD87ED5233B2F1ECCA312576CFE38A1F</td>\n",
       "      <td>COMODO CA Limited</td>\n",
       "      <td>730</td>\n",
       "      <td>84:c0:ef:2f:42:cc</td>\n",
       "      <td>samsung</td>\n",
       "      <td>COMODO RSA Domain Validation Secure Server CA</td>\n",
       "      <td>siloh.pluto.tv</td>\n",
       "      <td>ok</td>\n",
       "      <td>CD87ED5233B2F1ECCA312576CFE38A1F</td>\n",
       "      <td>False</td>\n",
       "      <td>Public trust</td>\n",
       "      <td>2.863323</td>\n",
       "      <td>1</td>\n",
       "      <td>1.222373</td>\n",
       "    </tr>\n",
       "    <tr>\n",
       "      <th>268</th>\n",
       "      <td>sb.scorecardresearch.com</td>\n",
       "      <td>E6CC1314B397DBD158E3B494FE2889C6</td>\n",
       "      <td>COMODO CA Limited</td>\n",
       "      <td>393</td>\n",
       "      <td>84:c0:ef:2f:42:cc</td>\n",
       "      <td>samsung</td>\n",
       "      <td>COMODO RSA Organization Validation Secure Server CA</td>\n",
       "      <td>*.scorecardresearch.com</td>\n",
       "      <td>ok</td>\n",
       "      <td>E6CC1314B397DBD158E3B494FE2889C6</td>\n",
       "      <td>False</td>\n",
       "      <td>Public trust</td>\n",
       "      <td>2.594393</td>\n",
       "      <td>1</td>\n",
       "      <td>0.931168</td>\n",
       "    </tr>\n",
       "    <tr>\n",
       "      <th>376</th>\n",
       "      <td>artwork.espncdn.com</td>\n",
       "      <td>AC4DE428D61CD87A0000000050E94C40</td>\n",
       "      <td>Entrust</td>\n",
       "      <td>553</td>\n",
       "      <td>84:c0:ef:2f:42:cc</td>\n",
       "      <td>samsung</td>\n",
       "      <td>Entrust Certification Authority - L1K</td>\n",
       "      <td>cdn.secure.espn.go.com</td>\n",
       "      <td>ok</td>\n",
       "      <td>AC4DE428D61CD87A0000000050E94C40</td>\n",
       "      <td>False</td>\n",
       "      <td>Public trust</td>\n",
       "      <td>2.742725</td>\n",
       "      <td>1</td>\n",
       "      <td>0.915293</td>\n",
       "    </tr>\n",
       "    <tr>\n",
       "      <th>394</th>\n",
       "      <td>www.googleapis.com</td>\n",
       "      <td>B82FB98BF9BCC72B0A0000000108ADD2</td>\n",
       "      <td>Google Trust Services LLC</td>\n",
       "      <td>83</td>\n",
       "      <td>d4:91:f:55:27:b7</td>\n",
       "      <td>amazon</td>\n",
       "      <td>GTS CA 1C3</td>\n",
       "      <td>upload.video.google.com</td>\n",
       "      <td>ok</td>\n",
       "      <td>B82FB98BF9BCC72B0A0000000108ADD2</td>\n",
       "      <td>False</td>\n",
       "      <td>Public trust</td>\n",
       "      <td>1.919078</td>\n",
       "      <td>2</td>\n",
       "      <td>1.984929</td>\n",
       "    </tr>\n",
       "    <tr>\n",
       "      <th>582</th>\n",
       "      <td>www.googleapis.com</td>\n",
       "      <td>8469E899E8669FB20A00000001103656</td>\n",
       "      <td>Google Trust Services LLC</td>\n",
       "      <td>83</td>\n",
       "      <td>34:af:b3:34:3d:50</td>\n",
       "      <td>amazon</td>\n",
       "      <td>GTS CA 1C3</td>\n",
       "      <td>upload.video.google.com</td>\n",
       "      <td>ok</td>\n",
       "      <td>8469E899E8669FB20A00000001103656</td>\n",
       "      <td>False</td>\n",
       "      <td>Public trust</td>\n",
       "      <td>1.919078</td>\n",
       "      <td>2</td>\n",
       "      <td>2.175953</td>\n",
       "    </tr>\n",
       "    <tr>\n",
       "      <th>1735</th>\n",
       "      <td>mas-ext.amazon.com</td>\n",
       "      <td>0F546145DA2205EE676E56FD13076082</td>\n",
       "      <td>Amazon</td>\n",
       "      <td>365</td>\n",
       "      <td>6c:56:97:35:39:f4</td>\n",
       "      <td>amazon</td>\n",
       "      <td>Amazon</td>\n",
       "      <td>mas-ext.amazon.com</td>\n",
       "      <td>ok</td>\n",
       "      <td>0F546145DA2205EE676E56FD13076082</td>\n",
       "      <td>False</td>\n",
       "      <td>Public trust</td>\n",
       "      <td>2.562293</td>\n",
       "      <td>2</td>\n",
       "      <td>2.076621</td>\n",
       "    </tr>\n",
       "    <tr>\n",
       "      <th>2008</th>\n",
       "      <td>www.googletagservices.com</td>\n",
       "      <td>EEB891B92A6F538E0A00000000F2BAE8</td>\n",
       "      <td>Google Trust Services LLC</td>\n",
       "      <td>83</td>\n",
       "      <td>38:8c:50:68:d7:5c</td>\n",
       "      <td>lg</td>\n",
       "      <td>GTS CA 1C3</td>\n",
       "      <td>*.g.doubleclick.net</td>\n",
       "      <td>ok</td>\n",
       "      <td>EEB891B92A6F538E0A00000000F2BAE8</td>\n",
       "      <td>False</td>\n",
       "      <td>Public trust</td>\n",
       "      <td>1.919078</td>\n",
       "      <td>3</td>\n",
       "      <td>3.093365</td>\n",
       "    </tr>\n",
       "    <tr>\n",
       "      <th>2041</th>\n",
       "      <td>cm.g.doubleclick.net</td>\n",
       "      <td>E3CB51346C4BC8150A00000000EB4AA9</td>\n",
       "      <td>Google Trust Services LLC</td>\n",
       "      <td>83</td>\n",
       "      <td>38:8c:50:68:d7:5c</td>\n",
       "      <td>lg</td>\n",
       "      <td>GTS CA 1C3</td>\n",
       "      <td>*.g.doubleclick.net</td>\n",
       "      <td>ok</td>\n",
       "      <td>E3CB51346C4BC8150A00000000EB4AA9</td>\n",
       "      <td>False</td>\n",
       "      <td>Public trust</td>\n",
       "      <td>1.919078</td>\n",
       "      <td>3</td>\n",
       "      <td>2.766168</td>\n",
       "    </tr>\n",
       "    <tr>\n",
       "      <th>2044</th>\n",
       "      <td>apis.google.com</td>\n",
       "      <td>FD15C7FA3DCB4A410A00000000EB622D</td>\n",
       "      <td>Google Trust Services LLC</td>\n",
       "      <td>83</td>\n",
       "      <td>38:8c:50:68:d7:5c</td>\n",
       "      <td>lg</td>\n",
       "      <td>GTS CA 1C3</td>\n",
       "      <td>*.apis.google.com</td>\n",
       "      <td>ok</td>\n",
       "      <td>FD15C7FA3DCB4A410A00000000EB622D</td>\n",
       "      <td>False</td>\n",
       "      <td>Public trust</td>\n",
       "      <td>1.919078</td>\n",
       "      <td>3</td>\n",
       "      <td>2.975084</td>\n",
       "    </tr>\n",
       "    <tr>\n",
       "      <th>2072</th>\n",
       "      <td>static.doubleclick.net</td>\n",
       "      <td>81A21C85BF505E300A00000000F2BADC</td>\n",
       "      <td>Google Trust Services LLC</td>\n",
       "      <td>83</td>\n",
       "      <td>38:8c:50:68:d7:5c</td>\n",
       "      <td>lg</td>\n",
       "      <td>GTS CA 1C3</td>\n",
       "      <td>*.doubleclick.net</td>\n",
       "      <td>ok</td>\n",
       "      <td>81A21C85BF505E300A00000000F2BADC</td>\n",
       "      <td>False</td>\n",
       "      <td>Public trust</td>\n",
       "      <td>1.919078</td>\n",
       "      <td>3</td>\n",
       "      <td>2.856759</td>\n",
       "    </tr>\n",
       "    <tr>\n",
       "      <th>2075</th>\n",
       "      <td>yt3.ggpht.com</td>\n",
       "      <td>C97417577F777DAE0A00000000F2C21C</td>\n",
       "      <td>Google Trust Services LLC</td>\n",
       "      <td>83</td>\n",
       "      <td>38:8c:50:68:d7:5c</td>\n",
       "      <td>lg</td>\n",
       "      <td>GTS CA 1C3</td>\n",
       "      <td>*.googleusercontent.com</td>\n",
       "      <td>ok</td>\n",
       "      <td>C97417577F777DAE0A00000000F2C21C</td>\n",
       "      <td>False</td>\n",
       "      <td>Public trust</td>\n",
       "      <td>1.919078</td>\n",
       "      <td>3</td>\n",
       "      <td>2.852757</td>\n",
       "    </tr>\n",
       "    <tr>\n",
       "      <th>2085</th>\n",
       "      <td>ssl.gstatic.com</td>\n",
       "      <td>C8DFCD1455532C030A00000000F6EE84</td>\n",
       "      <td>Google Trust Services LLC</td>\n",
       "      <td>83</td>\n",
       "      <td>38:8c:50:68:d7:5c</td>\n",
       "      <td>lg</td>\n",
       "      <td>GTS CA 1C3</td>\n",
       "      <td>*.gstatic.com</td>\n",
       "      <td>ok</td>\n",
       "      <td>C8DFCD1455532C030A00000000F6EE84</td>\n",
       "      <td>False</td>\n",
       "      <td>Public trust</td>\n",
       "      <td>1.919078</td>\n",
       "      <td>3</td>\n",
       "      <td>3.007589</td>\n",
       "    </tr>\n",
       "    <tr>\n",
       "      <th>2301</th>\n",
       "      <td>sync.crwdcntrl.net</td>\n",
       "      <td>D3B35A7375BCAE7B</td>\n",
       "      <td>GoDaddy.com</td>\n",
       "      <td>1095</td>\n",
       "      <td>38:8c:50:68:d7:5c</td>\n",
       "      <td>lg</td>\n",
       "      <td>Go Daddy Secure Certificate Authority - G2</td>\n",
       "      <td>*.crwdcntrl.net</td>\n",
       "      <td>ok</td>\n",
       "      <td>D3B35A7375BCAE7B</td>\n",
       "      <td>False</td>\n",
       "      <td>Public trust</td>\n",
       "      <td>3.039414</td>\n",
       "      <td>3</td>\n",
       "      <td>3.127332</td>\n",
       "    </tr>\n",
       "    <tr>\n",
       "      <th>2310</th>\n",
       "      <td>loadm.exelator.com</td>\n",
       "      <td>9E4E4BF0803541CD</td>\n",
       "      <td>GoDaddy.com</td>\n",
       "      <td>761</td>\n",
       "      <td>38:8c:50:68:d7:5c</td>\n",
       "      <td>lg</td>\n",
       "      <td>Go Daddy Secure Certificate Authority - G2</td>\n",
       "      <td>*.exelator.com</td>\n",
       "      <td>ok</td>\n",
       "      <td>9E4E4BF0803541CD</td>\n",
       "      <td>False</td>\n",
       "      <td>Public trust</td>\n",
       "      <td>2.881385</td>\n",
       "      <td>3</td>\n",
       "      <td>3.244391</td>\n",
       "    </tr>\n",
       "    <tr>\n",
       "      <th>2318</th>\n",
       "      <td>tps30.doubleverify.com</td>\n",
       "      <td>820BBAC6FA5BB09D43520490375785C5</td>\n",
       "      <td>Network Solutions L.L.C.</td>\n",
       "      <td>1095</td>\n",
       "      <td>38:8c:50:68:d7:5c</td>\n",
       "      <td>lg</td>\n",
       "      <td>Network Solutions OV Server CA 2</td>\n",
       "      <td>*.doubleverify.com</td>\n",
       "      <td>ok</td>\n",
       "      <td>820BBAC6FA5BB09D43520490375785C5</td>\n",
       "      <td>False</td>\n",
       "      <td>Public trust</td>\n",
       "      <td>3.039414</td>\n",
       "      <td>3</td>\n",
       "      <td>2.874958</td>\n",
       "    </tr>\n",
       "    <tr>\n",
       "      <th>2458</th>\n",
       "      <td>www.googletagservices.com</td>\n",
       "      <td>CAA4298E4E7683B80A0000000108AB57</td>\n",
       "      <td>Google Trust Services LLC</td>\n",
       "      <td>83</td>\n",
       "      <td>38:8c:50:68:d7:5c</td>\n",
       "      <td>lg</td>\n",
       "      <td>GTS CA 1C3</td>\n",
       "      <td>*.g.doubleclick.net</td>\n",
       "      <td>ok</td>\n",
       "      <td>CAA4298E4E7683B80A0000000108AB57</td>\n",
       "      <td>False</td>\n",
       "      <td>Public trust</td>\n",
       "      <td>1.919078</td>\n",
       "      <td>3</td>\n",
       "      <td>2.894059</td>\n",
       "    </tr>\n",
       "    <tr>\n",
       "      <th>2466</th>\n",
       "      <td>ssl.gstatic.com</td>\n",
       "      <td>FCFB47CAF5AB3B390A0000000108ADBC</td>\n",
       "      <td>Google Trust Services LLC</td>\n",
       "      <td>83</td>\n",
       "      <td>38:8c:50:68:d7:5c</td>\n",
       "      <td>lg</td>\n",
       "      <td>GTS CA 1C3</td>\n",
       "      <td>*.gstatic.com</td>\n",
       "      <td>ok</td>\n",
       "      <td>FCFB47CAF5AB3B390A0000000108ADBC</td>\n",
       "      <td>False</td>\n",
       "      <td>Public trust</td>\n",
       "      <td>1.919078</td>\n",
       "      <td>3</td>\n",
       "      <td>3.034171</td>\n",
       "    </tr>\n",
       "    <tr>\n",
       "      <th>2474</th>\n",
       "      <td>www.googleadservices.com</td>\n",
       "      <td>BD93A6A13AA7480D0A0000000108ADEA</td>\n",
       "      <td>Google Trust Services LLC</td>\n",
       "      <td>83</td>\n",
       "      <td>38:8c:50:68:d7:5c</td>\n",
       "      <td>lg</td>\n",
       "      <td>GTS CA 1C3</td>\n",
       "      <td>www.googleadservices.com</td>\n",
       "      <td>ok</td>\n",
       "      <td>BD93A6A13AA7480D0A0000000108ADEA</td>\n",
       "      <td>False</td>\n",
       "      <td>Public trust</td>\n",
       "      <td>1.919078</td>\n",
       "      <td>3</td>\n",
       "      <td>2.956292</td>\n",
       "    </tr>\n",
       "    <tr>\n",
       "      <th>2479</th>\n",
       "      <td>tpc.googlesyndication.com</td>\n",
       "      <td>DA0170352FDCF9FA0A0000000108ADCD</td>\n",
       "      <td>Google Trust Services LLC</td>\n",
       "      <td>83</td>\n",
       "      <td>38:8c:50:68:d7:5c</td>\n",
       "      <td>lg</td>\n",
       "      <td>GTS CA 1C3</td>\n",
       "      <td>tpc.googlesyndication.com</td>\n",
       "      <td>ok</td>\n",
       "      <td>DA0170352FDCF9FA0A0000000108ADCD</td>\n",
       "      <td>False</td>\n",
       "      <td>Public trust</td>\n",
       "      <td>1.919078</td>\n",
       "      <td>3</td>\n",
       "      <td>3.082864</td>\n",
       "    </tr>\n",
       "    <tr>\n",
       "      <th>2480</th>\n",
       "      <td>www.google.com</td>\n",
       "      <td>D2AC57EBA83598450A0000000108AEDB</td>\n",
       "      <td>Google Trust Services LLC</td>\n",
       "      <td>83</td>\n",
       "      <td>38:8c:50:68:d7:5c</td>\n",
       "      <td>lg</td>\n",
       "      <td>GTS CA 1C3</td>\n",
       "      <td>www.google.com</td>\n",
       "      <td>ok</td>\n",
       "      <td>D2AC57EBA83598450A0000000108AEDB</td>\n",
       "      <td>False</td>\n",
       "      <td>Public trust</td>\n",
       "      <td>1.919078</td>\n",
       "      <td>3</td>\n",
       "      <td>2.854302</td>\n",
       "    </tr>\n",
       "    <tr>\n",
       "      <th>2504</th>\n",
       "      <td>customer-feedbacks.web.roku.com</td>\n",
       "      <td>060C0725284E8424874857916D7033FE</td>\n",
       "      <td>Amazon</td>\n",
       "      <td>396</td>\n",
       "      <td>88:de:a9:8:3:b9</td>\n",
       "      <td>roku</td>\n",
       "      <td>Amazon</td>\n",
       "      <td>customer-feedbacks.web.roku.com</td>\n",
       "      <td>ok</td>\n",
       "      <td>060C0725284E8424874857916D7033FE</td>\n",
       "      <td>False</td>\n",
       "      <td>Public trust</td>\n",
       "      <td>2.597695</td>\n",
       "      <td>4</td>\n",
       "      <td>4.090603</td>\n",
       "    </tr>\n",
       "    <tr>\n",
       "      <th>2513</th>\n",
       "      <td>www-roku.mgo.com</td>\n",
       "      <td>9310935F50EBB897D4A2EDC4E693771F</td>\n",
       "      <td>COMODO CA Limited</td>\n",
       "      <td>730</td>\n",
       "      <td>88:de:a9:8:3:b9</td>\n",
       "      <td>roku</td>\n",
       "      <td>COMODO RSA Organization Validation Secure Server CA</td>\n",
       "      <td>*.mgo.com</td>\n",
       "      <td>ok</td>\n",
       "      <td>9310935F50EBB897D4A2EDC4E693771F</td>\n",
       "      <td>False</td>\n",
       "      <td>Public trust</td>\n",
       "      <td>2.863323</td>\n",
       "      <td>4</td>\n",
       "      <td>3.979656</td>\n",
       "    </tr>\n",
       "    <tr>\n",
       "      <th>2522</th>\n",
       "      <td>lat-services.api.data.roku.com</td>\n",
       "      <td>015AC176925445FECBD86E82F2F1EE6D</td>\n",
       "      <td>Amazon</td>\n",
       "      <td>393</td>\n",
       "      <td>88:de:a9:8:3:b9</td>\n",
       "      <td>roku</td>\n",
       "      <td>Amazon</td>\n",
       "      <td>lat-services.api.data.roku.com</td>\n",
       "      <td>ok</td>\n",
       "      <td>015AC176925445FECBD86E82F2F1EE6D</td>\n",
       "      <td>False</td>\n",
       "      <td>Public trust</td>\n",
       "      <td>2.594393</td>\n",
       "      <td>4</td>\n",
       "      <td>4.096527</td>\n",
       "    </tr>\n",
       "    <tr>\n",
       "      <th>2872</th>\n",
       "      <td>www-roku.mgo.com</td>\n",
       "      <td>C4E42E8724A9C92BD0E3DE3F86164016</td>\n",
       "      <td>COMODO CA Limited</td>\n",
       "      <td>730</td>\n",
       "      <td>88:de:a9:8:3:b9</td>\n",
       "      <td>roku</td>\n",
       "      <td>COMODO RSA Organization Validation Secure Server CA</td>\n",
       "      <td>*.mgo.com</td>\n",
       "      <td>ok</td>\n",
       "      <td>C4E42E8724A9C92BD0E3DE3F86164016</td>\n",
       "      <td>False</td>\n",
       "      <td>Public trust</td>\n",
       "      <td>2.863323</td>\n",
       "      <td>4</td>\n",
       "      <td>4.013616</td>\n",
       "    </tr>\n",
       "    <tr>\n",
       "      <th>2940</th>\n",
       "      <td>uapi.adrise.tv</td>\n",
       "      <td>FA40447936B8B752</td>\n",
       "      <td>GoDaddy.com</td>\n",
       "      <td>397</td>\n",
       "      <td>0:11:d9:b0:1:fc</td>\n",
       "      <td>tivo</td>\n",
       "      <td>Go Daddy Secure Certificate Authority - G2</td>\n",
       "      <td>*.adrise.tv</td>\n",
       "      <td>ok</td>\n",
       "      <td>FA40447936B8B752</td>\n",
       "      <td>False</td>\n",
       "      <td>Public trust</td>\n",
       "      <td>2.598791</td>\n",
       "      <td>5</td>\n",
       "      <td>4.770857</td>\n",
       "    </tr>\n",
       "    <tr>\n",
       "      <th>2965</th>\n",
       "      <td>android.clients.google.com</td>\n",
       "      <td>B9CF6383F08819330A00000000FA6231</td>\n",
       "      <td>Google Trust Services LLC</td>\n",
       "      <td>83</td>\n",
       "      <td>0:11:d9:b0:1:fc</td>\n",
       "      <td>tivo</td>\n",
       "      <td>GTS CA 1C3</td>\n",
       "      <td>*.google.com</td>\n",
       "      <td>ok</td>\n",
       "      <td>B9CF6383F08819330A00000000FA6231</td>\n",
       "      <td>False</td>\n",
       "      <td>Public trust</td>\n",
       "      <td>1.919078</td>\n",
       "      <td>5</td>\n",
       "      <td>5.047631</td>\n",
       "    </tr>\n",
       "    <tr>\n",
       "      <th>3004</th>\n",
       "      <td>play.googleapis.com</td>\n",
       "      <td>8469E899E8669FB20A00000001103656</td>\n",
       "      <td>Google Trust Services LLC</td>\n",
       "      <td>83</td>\n",
       "      <td>0:11:d9:b0:1:fc</td>\n",
       "      <td>tivo</td>\n",
       "      <td>GTS CA 1C3</td>\n",
       "      <td>upload.video.google.com</td>\n",
       "      <td>ok</td>\n",
       "      <td>8469E899E8669FB20A00000001103656</td>\n",
       "      <td>False</td>\n",
       "      <td>Public trust</td>\n",
       "      <td>1.919078</td>\n",
       "      <td>5</td>\n",
       "      <td>4.869392</td>\n",
       "    </tr>\n",
       "    <tr>\n",
       "      <th>3019</th>\n",
       "      <td>www.google.com</td>\n",
       "      <td>F0CFFAF486AEA5990A0000000110379B</td>\n",
       "      <td>Google Trust Services LLC</td>\n",
       "      <td>83</td>\n",
       "      <td>0:11:d9:b0:1:fc</td>\n",
       "      <td>tivo</td>\n",
       "      <td>GTS CA 1C3</td>\n",
       "      <td>www.google.com</td>\n",
       "      <td>ok</td>\n",
       "      <td>F0CFFAF486AEA5990A0000000110379B</td>\n",
       "      <td>False</td>\n",
       "      <td>Public trust</td>\n",
       "      <td>1.919078</td>\n",
       "      <td>5</td>\n",
       "      <td>5.164422</td>\n",
       "    </tr>\n",
       "    <tr>\n",
       "      <th>3029</th>\n",
       "      <td>connectivitycheck.gstatic.com</td>\n",
       "      <td>C8DFCD1455532C030A00000000F6EE84</td>\n",
       "      <td>Google Trust Services LLC</td>\n",
       "      <td>83</td>\n",
       "      <td>0:11:d9:b0:1:fc</td>\n",
       "      <td>tivo</td>\n",
       "      <td>GTS CA 1C3</td>\n",
       "      <td>*.gstatic.com</td>\n",
       "      <td>ok</td>\n",
       "      <td>C8DFCD1455532C030A00000000F6EE84</td>\n",
       "      <td>False</td>\n",
       "      <td>Public trust</td>\n",
       "      <td>1.919078</td>\n",
       "      <td>5</td>\n",
       "      <td>5.027648</td>\n",
       "    </tr>\n",
       "    <tr>\n",
       "      <th>3044</th>\n",
       "      <td>app-measurement.com</td>\n",
       "      <td>81C1798E508227FC0A00000000F2BAEB</td>\n",
       "      <td>Google Trust Services LLC</td>\n",
       "      <td>83</td>\n",
       "      <td>0:11:d9:b0:1:fc</td>\n",
       "      <td>tivo</td>\n",
       "      <td>GTS CA 1C3</td>\n",
       "      <td>*.google-analytics.com</td>\n",
       "      <td>ok</td>\n",
       "      <td>81C1798E508227FC0A00000000F2BAEB</td>\n",
       "      <td>False</td>\n",
       "      <td>Public trust</td>\n",
       "      <td>1.919078</td>\n",
       "      <td>5</td>\n",
       "      <td>5.130199</td>\n",
       "    </tr>\n",
       "    <tr>\n",
       "      <th>3045</th>\n",
       "      <td>www.google.com</td>\n",
       "      <td>BEB7EA6B7EF2F8E20A00000000F2C8BF</td>\n",
       "      <td>Google Trust Services LLC</td>\n",
       "      <td>83</td>\n",
       "      <td>0:11:d9:b0:1:fc</td>\n",
       "      <td>tivo</td>\n",
       "      <td>GTS CA 1C3</td>\n",
       "      <td>www.google.com</td>\n",
       "      <td>ok</td>\n",
       "      <td>BEB7EA6B7EF2F8E20A00000000F2C8BF</td>\n",
       "      <td>False</td>\n",
       "      <td>Public trust</td>\n",
       "      <td>1.919078</td>\n",
       "      <td>5</td>\n",
       "      <td>5.138625</td>\n",
       "    </tr>\n",
       "    <tr>\n",
       "      <th>3050</th>\n",
       "      <td>www.google.com</td>\n",
       "      <td>DCEA89366B88D57C0A00000000FCF822</td>\n",
       "      <td>Google Trust Services LLC</td>\n",
       "      <td>83</td>\n",
       "      <td>0:11:d9:b0:1:fc</td>\n",
       "      <td>tivo</td>\n",
       "      <td>GTS CA 1C3</td>\n",
       "      <td>www.google.com</td>\n",
       "      <td>ok</td>\n",
       "      <td>DCEA89366B88D57C0A00000000FCF822</td>\n",
       "      <td>False</td>\n",
       "      <td>Public trust</td>\n",
       "      <td>1.919078</td>\n",
       "      <td>5</td>\n",
       "      <td>4.751683</td>\n",
       "    </tr>\n",
       "    <tr>\n",
       "      <th>3061</th>\n",
       "      <td>app-measurement.com</td>\n",
       "      <td>CE3AE39F578A94160A00000000FB7B4A</td>\n",
       "      <td>Google Trust Services LLC</td>\n",
       "      <td>83</td>\n",
       "      <td>0:11:d9:b0:1:fc</td>\n",
       "      <td>tivo</td>\n",
       "      <td>GTS CA 1C3</td>\n",
       "      <td>*.google-analytics.com</td>\n",
       "      <td>ok</td>\n",
       "      <td>CE3AE39F578A94160A00000000FB7B4A</td>\n",
       "      <td>False</td>\n",
       "      <td>Public trust</td>\n",
       "      <td>1.919078</td>\n",
       "      <td>5</td>\n",
       "      <td>5.104628</td>\n",
       "    </tr>\n",
       "    <tr>\n",
       "      <th>3068</th>\n",
       "      <td>www.google.com</td>\n",
       "      <td>946DC696658E8A710A00000000E84224</td>\n",
       "      <td>Google Trust Services LLC</td>\n",
       "      <td>83</td>\n",
       "      <td>0:11:d9:b0:1:fc</td>\n",
       "      <td>tivo</td>\n",
       "      <td>GTS CA 1C3</td>\n",
       "      <td>www.google.com</td>\n",
       "      <td>ok</td>\n",
       "      <td>946DC696658E8A710A00000000E84224</td>\n",
       "      <td>False</td>\n",
       "      <td>Public trust</td>\n",
       "      <td>1.919078</td>\n",
       "      <td>5</td>\n",
       "      <td>5.242413</td>\n",
       "    </tr>\n",
       "    <tr>\n",
       "      <th>3091</th>\n",
       "      <td>connectivitycheck.gstatic.com</td>\n",
       "      <td>FCFB47CAF5AB3B390A0000000108ADBC</td>\n",
       "      <td>Google Trust Services LLC</td>\n",
       "      <td>83</td>\n",
       "      <td>0:11:d9:b0:1:fc</td>\n",
       "      <td>tivo</td>\n",
       "      <td>GTS CA 1C3</td>\n",
       "      <td>*.gstatic.com</td>\n",
       "      <td>ok</td>\n",
       "      <td>FCFB47CAF5AB3B390A0000000108ADBC</td>\n",
       "      <td>False</td>\n",
       "      <td>Public trust</td>\n",
       "      <td>1.919078</td>\n",
       "      <td>5</td>\n",
       "      <td>5.019181</td>\n",
       "    </tr>\n",
       "    <tr>\n",
       "      <th>3092</th>\n",
       "      <td>play.googleapis.com</td>\n",
       "      <td>B82FB98BF9BCC72B0A0000000108ADD2</td>\n",
       "      <td>Google Trust Services LLC</td>\n",
       "      <td>83</td>\n",
       "      <td>0:11:d9:b0:1:fc</td>\n",
       "      <td>tivo</td>\n",
       "      <td>GTS CA 1C3</td>\n",
       "      <td>upload.video.google.com</td>\n",
       "      <td>ok</td>\n",
       "      <td>B82FB98BF9BCC72B0A0000000108ADD2</td>\n",
       "      <td>False</td>\n",
       "      <td>Public trust</td>\n",
       "      <td>1.919078</td>\n",
       "      <td>5</td>\n",
       "      <td>5.137404</td>\n",
       "    </tr>\n",
       "    <tr>\n",
       "      <th>3123</th>\n",
       "      <td>clients3.google.com</td>\n",
       "      <td>EB8B75FB563F94570A00000000E0520B</td>\n",
       "      <td>Google Trust Services LLC</td>\n",
       "      <td>83</td>\n",
       "      <td>0:11:d9:b0:1:fc</td>\n",
       "      <td>tivo</td>\n",
       "      <td>GTS CA 1C3</td>\n",
       "      <td>*.google.com</td>\n",
       "      <td>ok</td>\n",
       "      <td>EB8B75FB563F94570A00000000E0520B</td>\n",
       "      <td>False</td>\n",
       "      <td>Public trust</td>\n",
       "      <td>1.919078</td>\n",
       "      <td>5</td>\n",
       "      <td>4.868268</td>\n",
       "    </tr>\n",
       "    <tr>\n",
       "      <th>3125</th>\n",
       "      <td>play.googleapis.com</td>\n",
       "      <td>8D7A8CC6CBD35F9F0A00000000FF6410</td>\n",
       "      <td>Google Trust Services LLC</td>\n",
       "      <td>67</td>\n",
       "      <td>0:11:d9:b0:1:fc</td>\n",
       "      <td>tivo</td>\n",
       "      <td>GTS CA 1C3</td>\n",
       "      <td>upload.video.google.com</td>\n",
       "      <td>ok</td>\n",
       "      <td>8D7A8CC6CBD35F9F0A00000000FF6410</td>\n",
       "      <td>False</td>\n",
       "      <td>Public trust</td>\n",
       "      <td>1.826075</td>\n",
       "      <td>5</td>\n",
       "      <td>4.897025</td>\n",
       "    </tr>\n",
       "    <tr>\n",
       "      <th>3136</th>\n",
       "      <td>connectivitycheck.gstatic.com</td>\n",
       "      <td>AB1C506A38B7BBF20A00000000FF6406</td>\n",
       "      <td>Google Trust Services LLC</td>\n",
       "      <td>67</td>\n",
       "      <td>0:11:d9:b0:1:fc</td>\n",
       "      <td>tivo</td>\n",
       "      <td>GTS CA 1C3</td>\n",
       "      <td>*.gstatic.com</td>\n",
       "      <td>ok</td>\n",
       "      <td>AB1C506A38B7BBF20A00000000FF6406</td>\n",
       "      <td>False</td>\n",
       "      <td>Public trust</td>\n",
       "      <td>1.826075</td>\n",
       "      <td>5</td>\n",
       "      <td>5.249817</td>\n",
       "    </tr>\n",
       "    <tr>\n",
       "      <th>3141</th>\n",
       "      <td>app-measurement.com</td>\n",
       "      <td>D6A2357297FE0CCE0A00000000FF602E</td>\n",
       "      <td>Google Trust Services LLC</td>\n",
       "      <td>67</td>\n",
       "      <td>0:11:d9:b0:1:fc</td>\n",
       "      <td>tivo</td>\n",
       "      <td>GTS CA 1C3</td>\n",
       "      <td>*.google-analytics.com</td>\n",
       "      <td>ok</td>\n",
       "      <td>D6A2357297FE0CCE0A00000000FF602E</td>\n",
       "      <td>False</td>\n",
       "      <td>Public trust</td>\n",
       "      <td>1.826075</td>\n",
       "      <td>5</td>\n",
       "      <td>5.177716</td>\n",
       "    </tr>\n",
       "    <tr>\n",
       "      <th>3152</th>\n",
       "      <td>www.google.com</td>\n",
       "      <td>D2AC57EBA83598450A0000000108AEDB</td>\n",
       "      <td>Google Trust Services LLC</td>\n",
       "      <td>83</td>\n",
       "      <td>0:11:d9:b0:1:fc</td>\n",
       "      <td>tivo</td>\n",
       "      <td>GTS CA 1C3</td>\n",
       "      <td>www.google.com</td>\n",
       "      <td>ok</td>\n",
       "      <td>D2AC57EBA83598450A0000000108AEDB</td>\n",
       "      <td>False</td>\n",
       "      <td>Public trust</td>\n",
       "      <td>1.919078</td>\n",
       "      <td>5</td>\n",
       "      <td>4.897676</td>\n",
       "    </tr>\n",
       "    <tr>\n",
       "      <th>3244</th>\n",
       "      <td>www.google.com</td>\n",
       "      <td>D944AF606942F8C60A00000000FA68AE</td>\n",
       "      <td>Google Trust Services LLC</td>\n",
       "      <td>83</td>\n",
       "      <td>ac:67:84:f8:0:6f</td>\n",
       "      <td>google</td>\n",
       "      <td>GTS CA 1C3</td>\n",
       "      <td>www.google.com</td>\n",
       "      <td>ok</td>\n",
       "      <td>D944AF606942F8C60A00000000FA68AE</td>\n",
       "      <td>False</td>\n",
       "      <td>Public trust</td>\n",
       "      <td>1.919078</td>\n",
       "      <td>6</td>\n",
       "      <td>5.935607</td>\n",
       "    </tr>\n",
       "    <tr>\n",
       "      <th>3256</th>\n",
       "      <td>www.googleapis.com</td>\n",
       "      <td>8469E899E8669FB20A00000001103656</td>\n",
       "      <td>Google Trust Services LLC</td>\n",
       "      <td>83</td>\n",
       "      <td>ac:67:84:f8:0:6f</td>\n",
       "      <td>google</td>\n",
       "      <td>GTS CA 1C3</td>\n",
       "      <td>upload.video.google.com</td>\n",
       "      <td>ok</td>\n",
       "      <td>8469E899E8669FB20A00000001103656</td>\n",
       "      <td>False</td>\n",
       "      <td>Public trust</td>\n",
       "      <td>1.919078</td>\n",
       "      <td>6</td>\n",
       "      <td>6.022991</td>\n",
       "    </tr>\n",
       "    <tr>\n",
       "      <th>3284</th>\n",
       "      <td>www.googleapis.com</td>\n",
       "      <td>8D7A8CC6CBD35F9F0A00000000FF6410</td>\n",
       "      <td>Google Trust Services LLC</td>\n",
       "      <td>67</td>\n",
       "      <td>ac:67:84:f8:0:6f</td>\n",
       "      <td>google</td>\n",
       "      <td>GTS CA 1C3</td>\n",
       "      <td>upload.video.google.com</td>\n",
       "      <td>ok</td>\n",
       "      <td>8D7A8CC6CBD35F9F0A00000000FF6410</td>\n",
       "      <td>False</td>\n",
       "      <td>Public trust</td>\n",
       "      <td>1.826075</td>\n",
       "      <td>6</td>\n",
       "      <td>6.155536</td>\n",
       "    </tr>\n",
       "    <tr>\n",
       "      <th>3291</th>\n",
       "      <td>app-measurement.com</td>\n",
       "      <td>D6A2357297FE0CCE0A00000000FF602E</td>\n",
       "      <td>Google Trust Services LLC</td>\n",
       "      <td>67</td>\n",
       "      <td>ac:67:84:f8:0:6f</td>\n",
       "      <td>google</td>\n",
       "      <td>GTS CA 1C3</td>\n",
       "      <td>*.google-analytics.com</td>\n",
       "      <td>ok</td>\n",
       "      <td>D6A2357297FE0CCE0A00000000FF602E</td>\n",
       "      <td>False</td>\n",
       "      <td>Public trust</td>\n",
       "      <td>1.826075</td>\n",
       "      <td>6</td>\n",
       "      <td>6.182003</td>\n",
       "    </tr>\n",
       "    <tr>\n",
       "      <th>3292</th>\n",
       "      <td>www.googleapis.com</td>\n",
       "      <td>B82FB98BF9BCC72B0A0000000108ADD2</td>\n",
       "      <td>Google Trust Services LLC</td>\n",
       "      <td>83</td>\n",
       "      <td>ac:67:84:f8:0:6f</td>\n",
       "      <td>google</td>\n",
       "      <td>GTS CA 1C3</td>\n",
       "      <td>upload.video.google.com</td>\n",
       "      <td>ok</td>\n",
       "      <td>B82FB98BF9BCC72B0A0000000108ADD2</td>\n",
       "      <td>False</td>\n",
       "      <td>Public trust</td>\n",
       "      <td>1.919078</td>\n",
       "      <td>6</td>\n",
       "      <td>6.229679</td>\n",
       "    </tr>\n",
       "    <tr>\n",
       "      <th>3315</th>\n",
       "      <td>www.google.com</td>\n",
       "      <td>BEB7EA6B7EF2F8E20A00000000F2C8BF</td>\n",
       "      <td>Google Trust Services LLC</td>\n",
       "      <td>83</td>\n",
       "      <td>ac:67:84:f8:0:6f</td>\n",
       "      <td>google</td>\n",
       "      <td>GTS CA 1C3</td>\n",
       "      <td>www.google.com</td>\n",
       "      <td>ok</td>\n",
       "      <td>BEB7EA6B7EF2F8E20A00000000F2C8BF</td>\n",
       "      <td>False</td>\n",
       "      <td>Public trust</td>\n",
       "      <td>1.919078</td>\n",
       "      <td>6</td>\n",
       "      <td>6.244197</td>\n",
       "    </tr>\n",
       "    <tr>\n",
       "      <th>3321</th>\n",
       "      <td>www.google.com</td>\n",
       "      <td>DCEA89366B88D57C0A00000000FCF822</td>\n",
       "      <td>Google Trust Services LLC</td>\n",
       "      <td>83</td>\n",
       "      <td>ac:67:84:f8:0:6f</td>\n",
       "      <td>google</td>\n",
       "      <td>GTS CA 1C3</td>\n",
       "      <td>www.google.com</td>\n",
       "      <td>ok</td>\n",
       "      <td>DCEA89366B88D57C0A00000000FCF822</td>\n",
       "      <td>False</td>\n",
       "      <td>Public trust</td>\n",
       "      <td>1.919078</td>\n",
       "      <td>6</td>\n",
       "      <td>5.956340</td>\n",
       "    </tr>\n",
       "    <tr>\n",
       "      <th>3328</th>\n",
       "      <td>www.google.com</td>\n",
       "      <td>F0CFFAF486AEA5990A0000000110379B</td>\n",
       "      <td>Google Trust Services LLC</td>\n",
       "      <td>83</td>\n",
       "      <td>ac:67:84:f8:0:6f</td>\n",
       "      <td>google</td>\n",
       "      <td>GTS CA 1C3</td>\n",
       "      <td>www.google.com</td>\n",
       "      <td>ok</td>\n",
       "      <td>F0CFFAF486AEA5990A0000000110379B</td>\n",
       "      <td>False</td>\n",
       "      <td>Public trust</td>\n",
       "      <td>1.919078</td>\n",
       "      <td>6</td>\n",
       "      <td>5.972579</td>\n",
       "    </tr>\n",
       "    <tr>\n",
       "      <th>3342</th>\n",
       "      <td>fonts.gstatic.com</td>\n",
       "      <td>AB1C506A38B7BBF20A00000000FF6406</td>\n",
       "      <td>Google Trust Services LLC</td>\n",
       "      <td>67</td>\n",
       "      <td>ac:67:84:f8:0:6f</td>\n",
       "      <td>google</td>\n",
       "      <td>GTS CA 1C3</td>\n",
       "      <td>*.gstatic.com</td>\n",
       "      <td>ok</td>\n",
       "      <td>AB1C506A38B7BBF20A00000000FF6406</td>\n",
       "      <td>False</td>\n",
       "      <td>Public trust</td>\n",
       "      <td>1.826075</td>\n",
       "      <td>6</td>\n",
       "      <td>5.985544</td>\n",
       "    </tr>\n",
       "    <tr>\n",
       "      <th>3352</th>\n",
       "      <td>www.google.com</td>\n",
       "      <td>D2AC57EBA83598450A0000000108AEDB</td>\n",
       "      <td>Google Trust Services LLC</td>\n",
       "      <td>83</td>\n",
       "      <td>ac:67:84:f8:0:6f</td>\n",
       "      <td>google</td>\n",
       "      <td>GTS CA 1C3</td>\n",
       "      <td>www.google.com</td>\n",
       "      <td>ok</td>\n",
       "      <td>D2AC57EBA83598450A0000000108AEDB</td>\n",
       "      <td>False</td>\n",
       "      <td>Public trust</td>\n",
       "      <td>1.919078</td>\n",
       "      <td>6</td>\n",
       "      <td>6.087574</td>\n",
       "    </tr>\n",
       "    <tr>\n",
       "      <th>3353</th>\n",
       "      <td>www.google.com</td>\n",
       "      <td>E1C9841F6D56301E0A00000000F6F146</td>\n",
       "      <td>Google Trust Services LLC</td>\n",
       "      <td>83</td>\n",
       "      <td>ac:67:84:f8:0:6f</td>\n",
       "      <td>google</td>\n",
       "      <td>GTS CA 1C3</td>\n",
       "      <td>www.google.com</td>\n",
       "      <td>ok</td>\n",
       "      <td>E1C9841F6D56301E0A00000000F6F146</td>\n",
       "      <td>False</td>\n",
       "      <td>Public trust</td>\n",
       "      <td>1.919078</td>\n",
       "      <td>6</td>\n",
       "      <td>6.213438</td>\n",
       "    </tr>\n",
       "    <tr>\n",
       "      <th>3376</th>\n",
       "      <td>pagead2.googlesyndication.com</td>\n",
       "      <td>D9FDAF66EDE7C3030A00000000FCEFE0</td>\n",
       "      <td>Google Trust Services LLC</td>\n",
       "      <td>83</td>\n",
       "      <td>ac:67:84:f8:0:6f</td>\n",
       "      <td>google</td>\n",
       "      <td>GTS CA 1C3</td>\n",
       "      <td>*.g.doubleclick.net</td>\n",
       "      <td>ok</td>\n",
       "      <td>D9FDAF66EDE7C3030A00000000FCEFE0</td>\n",
       "      <td>False</td>\n",
       "      <td>Public trust</td>\n",
       "      <td>1.919078</td>\n",
       "      <td>6</td>\n",
       "      <td>6.070361</td>\n",
       "    </tr>\n",
       "    <tr>\n",
       "      <th>3393</th>\n",
       "      <td>app-measurement.com</td>\n",
       "      <td>8A269BF2F6920E0B0A00000001195184</td>\n",
       "      <td>Google Trust Services LLC</td>\n",
       "      <td>83</td>\n",
       "      <td>ac:67:84:f8:0:6f</td>\n",
       "      <td>google</td>\n",
       "      <td>GTS CA 1C3</td>\n",
       "      <td>*.google-analytics.com</td>\n",
       "      <td>ok</td>\n",
       "      <td>8A269BF2F6920E0B0A00000001195184</td>\n",
       "      <td>False</td>\n",
       "      <td>Public trust</td>\n",
       "      <td>1.919078</td>\n",
       "      <td>6</td>\n",
       "      <td>6.063355</td>\n",
       "    </tr>\n",
       "    <tr>\n",
       "      <th>3449</th>\n",
       "      <td>pagead2.googlesyndication.com</td>\n",
       "      <td>CAA4298E4E7683B80A0000000108AB57</td>\n",
       "      <td>Google Trust Services LLC</td>\n",
       "      <td>83</td>\n",
       "      <td>ac:67:84:f8:0:6f</td>\n",
       "      <td>google</td>\n",
       "      <td>GTS CA 1C3</td>\n",
       "      <td>*.g.doubleclick.net</td>\n",
       "      <td>ok</td>\n",
       "      <td>CAA4298E4E7683B80A0000000108AB57</td>\n",
       "      <td>False</td>\n",
       "      <td>Public trust</td>\n",
       "      <td>1.919078</td>\n",
       "      <td>6</td>\n",
       "      <td>6.118664</td>\n",
       "    </tr>\n",
       "    <tr>\n",
       "      <th>3453</th>\n",
       "      <td>app-measurement.com</td>\n",
       "      <td>81C1798E508227FC0A00000000F2BAEB</td>\n",
       "      <td>Google Trust Services LLC</td>\n",
       "      <td>83</td>\n",
       "      <td>ac:67:84:f8:0:6f</td>\n",
       "      <td>google</td>\n",
       "      <td>GTS CA 1C3</td>\n",
       "      <td>*.google-analytics.com</td>\n",
       "      <td>ok</td>\n",
       "      <td>81C1798E508227FC0A00000000F2BAEB</td>\n",
       "      <td>False</td>\n",
       "      <td>Public trust</td>\n",
       "      <td>1.919078</td>\n",
       "      <td>6</td>\n",
       "      <td>6.075596</td>\n",
       "    </tr>\n",
       "    <tr>\n",
       "      <th>3465</th>\n",
       "      <td>yt3.ggpht.com</td>\n",
       "      <td>B696288ECA80C5710A00000000FCF395</td>\n",
       "      <td>Google Trust Services LLC</td>\n",
       "      <td>83</td>\n",
       "      <td>ac:67:84:f8:0:6f</td>\n",
       "      <td>google</td>\n",
       "      <td>GTS CA 1C3</td>\n",
       "      <td>*.googleusercontent.com</td>\n",
       "      <td>ok</td>\n",
       "      <td>B696288ECA80C5710A00000000FCF395</td>\n",
       "      <td>False</td>\n",
       "      <td>Public trust</td>\n",
       "      <td>1.919078</td>\n",
       "      <td>6</td>\n",
       "      <td>6.162765</td>\n",
       "    </tr>\n",
       "    <tr>\n",
       "      <th>3466</th>\n",
       "      <td>static.doubleclick.net</td>\n",
       "      <td>B31D452AEEB4E1C50A00000000FCEFA5</td>\n",
       "      <td>Google Trust Services LLC</td>\n",
       "      <td>83</td>\n",
       "      <td>ac:67:84:f8:0:6f</td>\n",
       "      <td>google</td>\n",
       "      <td>GTS CA 1C3</td>\n",
       "      <td>*.doubleclick.net</td>\n",
       "      <td>ok</td>\n",
       "      <td>B31D452AEEB4E1C50A00000000FCEFA5</td>\n",
       "      <td>False</td>\n",
       "      <td>Public trust</td>\n",
       "      <td>1.919078</td>\n",
       "      <td>6</td>\n",
       "      <td>6.077309</td>\n",
       "    </tr>\n",
       "    <tr>\n",
       "      <th>3469</th>\n",
       "      <td>tpc.googlesyndication.com</td>\n",
       "      <td>CBBB2F30D5995B480A00000000FCF48C</td>\n",
       "      <td>Google Trust Services LLC</td>\n",
       "      <td>83</td>\n",
       "      <td>ac:67:84:f8:0:6f</td>\n",
       "      <td>google</td>\n",
       "      <td>GTS CA 1C3</td>\n",
       "      <td>tpc.googlesyndication.com</td>\n",
       "      <td>ok</td>\n",
       "      <td>CBBB2F30D5995B480A00000000FCF48C</td>\n",
       "      <td>False</td>\n",
       "      <td>Public trust</td>\n",
       "      <td>1.919078</td>\n",
       "      <td>6</td>\n",
       "      <td>5.842259</td>\n",
       "    </tr>\n",
       "    <tr>\n",
       "      <th>3470</th>\n",
       "      <td>pagead2.googlesyndication.com</td>\n",
       "      <td>EEB891B92A6F538E0A00000000F2BAE8</td>\n",
       "      <td>Google Trust Services LLC</td>\n",
       "      <td>83</td>\n",
       "      <td>ac:67:84:f8:0:6f</td>\n",
       "      <td>google</td>\n",
       "      <td>GTS CA 1C3</td>\n",
       "      <td>*.g.doubleclick.net</td>\n",
       "      <td>ok</td>\n",
       "      <td>EEB891B92A6F538E0A00000000F2BAE8</td>\n",
       "      <td>False</td>\n",
       "      <td>Public trust</td>\n",
       "      <td>1.919078</td>\n",
       "      <td>6</td>\n",
       "      <td>5.996559</td>\n",
       "    </tr>\n",
       "    <tr>\n",
       "      <th>3474</th>\n",
       "      <td>app-measurement.com</td>\n",
       "      <td>CE3AE39F578A94160A00000000FB7B4A</td>\n",
       "      <td>Google Trust Services LLC</td>\n",
       "      <td>83</td>\n",
       "      <td>ac:67:84:f8:0:6f</td>\n",
       "      <td>google</td>\n",
       "      <td>GTS CA 1C3</td>\n",
       "      <td>*.google-analytics.com</td>\n",
       "      <td>ok</td>\n",
       "      <td>CE3AE39F578A94160A00000000FB7B4A</td>\n",
       "      <td>False</td>\n",
       "      <td>Public trust</td>\n",
       "      <td>1.919078</td>\n",
       "      <td>6</td>\n",
       "      <td>5.871572</td>\n",
       "    </tr>\n",
       "    <tr>\n",
       "      <th>3475</th>\n",
       "      <td>pagead2.googlesyndication.com</td>\n",
       "      <td>FEF9674239B5672D0A00000000FA6227</td>\n",
       "      <td>Google Trust Services LLC</td>\n",
       "      <td>83</td>\n",
       "      <td>ac:67:84:f8:0:6f</td>\n",
       "      <td>google</td>\n",
       "      <td>GTS CA 1C3</td>\n",
       "      <td>*.g.doubleclick.net</td>\n",
       "      <td>ok</td>\n",
       "      <td>FEF9674239B5672D0A00000000FA6227</td>\n",
       "      <td>False</td>\n",
       "      <td>Public trust</td>\n",
       "      <td>1.919078</td>\n",
       "      <td>6</td>\n",
       "      <td>5.954581</td>\n",
       "    </tr>\n",
       "    <tr>\n",
       "      <th>3476</th>\n",
       "      <td>connectivitycheck.gstatic.com</td>\n",
       "      <td>FCFB47CAF5AB3B390A0000000108ADBC</td>\n",
       "      <td>Google Trust Services LLC</td>\n",
       "      <td>83</td>\n",
       "      <td>ac:67:84:f8:0:6f</td>\n",
       "      <td>google</td>\n",
       "      <td>GTS CA 1C3</td>\n",
       "      <td>*.gstatic.com</td>\n",
       "      <td>ok</td>\n",
       "      <td>FCFB47CAF5AB3B390A0000000108ADBC</td>\n",
       "      <td>False</td>\n",
       "      <td>Public trust</td>\n",
       "      <td>1.919078</td>\n",
       "      <td>6</td>\n",
       "      <td>6.170931</td>\n",
       "    </tr>\n",
       "    <tr>\n",
       "      <th>3509</th>\n",
       "      <td>www.google.com</td>\n",
       "      <td>946DC696658E8A710A00000000E84224</td>\n",
       "      <td>Google Trust Services LLC</td>\n",
       "      <td>83</td>\n",
       "      <td>ac:67:84:f8:0:6f</td>\n",
       "      <td>google</td>\n",
       "      <td>GTS CA 1C3</td>\n",
       "      <td>www.google.com</td>\n",
       "      <td>ok</td>\n",
       "      <td>946DC696658E8A710A00000000E84224</td>\n",
       "      <td>False</td>\n",
       "      <td>Public trust</td>\n",
       "      <td>1.919078</td>\n",
       "      <td>6</td>\n",
       "      <td>5.996111</td>\n",
       "    </tr>\n",
       "    <tr>\n",
       "      <th>3510</th>\n",
       "      <td>pagead2.googlesyndication.com</td>\n",
       "      <td>FE93B273749AC78C0A00000000E831B1</td>\n",
       "      <td>Google Trust Services LLC</td>\n",
       "      <td>83</td>\n",
       "      <td>ac:67:84:f8:0:6f</td>\n",
       "      <td>google</td>\n",
       "      <td>GTS CA 1C3</td>\n",
       "      <td>*.g.doubleclick.net</td>\n",
       "      <td>ok</td>\n",
       "      <td>FE93B273749AC78C0A00000000E831B1</td>\n",
       "      <td>False</td>\n",
       "      <td>Public trust</td>\n",
       "      <td>1.919078</td>\n",
       "      <td>6</td>\n",
       "      <td>5.810582</td>\n",
       "    </tr>\n",
       "    <tr>\n",
       "      <th>3513</th>\n",
       "      <td>pagead2.googlesyndication.com</td>\n",
       "      <td>E3CB51346C4BC8150A00000000EB4AA9</td>\n",
       "      <td>Google Trust Services LLC</td>\n",
       "      <td>83</td>\n",
       "      <td>ac:67:84:f8:0:6f</td>\n",
       "      <td>google</td>\n",
       "      <td>GTS CA 1C3</td>\n",
       "      <td>*.g.doubleclick.net</td>\n",
       "      <td>ok</td>\n",
       "      <td>E3CB51346C4BC8150A00000000EB4AA9</td>\n",
       "      <td>False</td>\n",
       "      <td>Public trust</td>\n",
       "      <td>1.919078</td>\n",
       "      <td>6</td>\n",
       "      <td>5.863721</td>\n",
       "    </tr>\n",
       "    <tr>\n",
       "      <th>3530</th>\n",
       "      <td>hub-api.wink.com</td>\n",
       "      <td>E84177AB21D3317EADE71FDE938A41C8</td>\n",
       "      <td>COMODO CA Limited</td>\n",
       "      <td>1185</td>\n",
       "      <td>0:21:cc:4d:ce:8c</td>\n",
       "      <td>wink</td>\n",
       "      <td>COMODO RSA Domain Validation Secure Server CA</td>\n",
       "      <td>*.wink.com</td>\n",
       "      <td>ok</td>\n",
       "      <td>E84177AB21D3317EADE71FDE938A41C8</td>\n",
       "      <td>False</td>\n",
       "      <td>Public trust</td>\n",
       "      <td>3.073718</td>\n",
       "      <td>7</td>\n",
       "      <td>6.980697</td>\n",
       "    </tr>\n",
       "    <tr>\n",
       "      <th>3613</th>\n",
       "      <td>use1-api.tplinkra.com</td>\n",
       "      <td>E89385568D2D3264</td>\n",
       "      <td>GoDaddy.com</td>\n",
       "      <td>775</td>\n",
       "      <td>50:c7:bf:5a:2e:a0</td>\n",
       "      <td>tplink</td>\n",
       "      <td>Go Daddy Secure Certificate Authority - G2</td>\n",
       "      <td>*.tplinkra.com</td>\n",
       "      <td>ok</td>\n",
       "      <td>E89385568D2D3264</td>\n",
       "      <td>False</td>\n",
       "      <td>Public trust</td>\n",
       "      <td>2.889302</td>\n",
       "      <td>11</td>\n",
       "      <td>10.935609</td>\n",
       "    </tr>\n",
       "  </tbody>\n",
       "</table>\n",
       "</div>"
      ],
      "text/plain": [
       "                          server_name                certificate.serial  \\\n",
       "16           osb-ussvc.samsungqbe.com  A8B29861E641DF722AFAA99072176C5C   \n",
       "32                        www.mgo.com  9310935F50EBB897D4A2EDC4E693771F   \n",
       "55       log-ingestion.samsungacr.com                  9EBDDD0CB99954E6   \n",
       "84          api.distribution.hulu.com  8090FE51DC1346FF1F18507F1A682348   \n",
       "174                gpm.samsungqbe.com  FA77B7D7A6FFF4DA8BDD3A538C5E2D4E   \n",
       "216         log-config.samsungacr.com                  D76EE54416982D1E   \n",
       "226                    www.google.com  D2AC57EBA83598450A0000000108AEDB   \n",
       "252                     auth.hulu.com  D6F251B9325DA506BED7F9A34BC4EC42   \n",
       "265                    siloh.pluto.tv  CD87ED5233B2F1ECCA312576CFE38A1F   \n",
       "268          sb.scorecardresearch.com  E6CC1314B397DBD158E3B494FE2889C6   \n",
       "376               artwork.espncdn.com  AC4DE428D61CD87A0000000050E94C40   \n",
       "394                www.googleapis.com  B82FB98BF9BCC72B0A0000000108ADD2   \n",
       "582                www.googleapis.com  8469E899E8669FB20A00000001103656   \n",
       "1735               mas-ext.amazon.com  0F546145DA2205EE676E56FD13076082   \n",
       "2008        www.googletagservices.com  EEB891B92A6F538E0A00000000F2BAE8   \n",
       "2041             cm.g.doubleclick.net  E3CB51346C4BC8150A00000000EB4AA9   \n",
       "2044                  apis.google.com  FD15C7FA3DCB4A410A00000000EB622D   \n",
       "2072           static.doubleclick.net  81A21C85BF505E300A00000000F2BADC   \n",
       "2075                    yt3.ggpht.com  C97417577F777DAE0A00000000F2C21C   \n",
       "2085                  ssl.gstatic.com  C8DFCD1455532C030A00000000F6EE84   \n",
       "2301               sync.crwdcntrl.net                  D3B35A7375BCAE7B   \n",
       "2310               loadm.exelator.com                  9E4E4BF0803541CD   \n",
       "2318           tps30.doubleverify.com  820BBAC6FA5BB09D43520490375785C5   \n",
       "2458        www.googletagservices.com  CAA4298E4E7683B80A0000000108AB57   \n",
       "2466                  ssl.gstatic.com  FCFB47CAF5AB3B390A0000000108ADBC   \n",
       "2474         www.googleadservices.com  BD93A6A13AA7480D0A0000000108ADEA   \n",
       "2479        tpc.googlesyndication.com  DA0170352FDCF9FA0A0000000108ADCD   \n",
       "2480                   www.google.com  D2AC57EBA83598450A0000000108AEDB   \n",
       "2504  customer-feedbacks.web.roku.com  060C0725284E8424874857916D7033FE   \n",
       "2513                 www-roku.mgo.com  9310935F50EBB897D4A2EDC4E693771F   \n",
       "2522   lat-services.api.data.roku.com  015AC176925445FECBD86E82F2F1EE6D   \n",
       "2872                 www-roku.mgo.com  C4E42E8724A9C92BD0E3DE3F86164016   \n",
       "2940                   uapi.adrise.tv                  FA40447936B8B752   \n",
       "2965       android.clients.google.com  B9CF6383F08819330A00000000FA6231   \n",
       "3004              play.googleapis.com  8469E899E8669FB20A00000001103656   \n",
       "3019                   www.google.com  F0CFFAF486AEA5990A0000000110379B   \n",
       "3029    connectivitycheck.gstatic.com  C8DFCD1455532C030A00000000F6EE84   \n",
       "3044              app-measurement.com  81C1798E508227FC0A00000000F2BAEB   \n",
       "3045                   www.google.com  BEB7EA6B7EF2F8E20A00000000F2C8BF   \n",
       "3050                   www.google.com  DCEA89366B88D57C0A00000000FCF822   \n",
       "3061              app-measurement.com  CE3AE39F578A94160A00000000FB7B4A   \n",
       "3068                   www.google.com  946DC696658E8A710A00000000E84224   \n",
       "3091    connectivitycheck.gstatic.com  FCFB47CAF5AB3B390A0000000108ADBC   \n",
       "3092              play.googleapis.com  B82FB98BF9BCC72B0A0000000108ADD2   \n",
       "3123              clients3.google.com  EB8B75FB563F94570A00000000E0520B   \n",
       "3125              play.googleapis.com  8D7A8CC6CBD35F9F0A00000000FF6410   \n",
       "3136    connectivitycheck.gstatic.com  AB1C506A38B7BBF20A00000000FF6406   \n",
       "3141              app-measurement.com  D6A2357297FE0CCE0A00000000FF602E   \n",
       "3152                   www.google.com  D2AC57EBA83598450A0000000108AEDB   \n",
       "3244                   www.google.com  D944AF606942F8C60A00000000FA68AE   \n",
       "3256               www.googleapis.com  8469E899E8669FB20A00000001103656   \n",
       "3284               www.googleapis.com  8D7A8CC6CBD35F9F0A00000000FF6410   \n",
       "3291              app-measurement.com  D6A2357297FE0CCE0A00000000FF602E   \n",
       "3292               www.googleapis.com  B82FB98BF9BCC72B0A0000000108ADD2   \n",
       "3315                   www.google.com  BEB7EA6B7EF2F8E20A00000000F2C8BF   \n",
       "3321                   www.google.com  DCEA89366B88D57C0A00000000FCF822   \n",
       "3328                   www.google.com  F0CFFAF486AEA5990A0000000110379B   \n",
       "3342                fonts.gstatic.com  AB1C506A38B7BBF20A00000000FF6406   \n",
       "3352                   www.google.com  D2AC57EBA83598450A0000000108AEDB   \n",
       "3353                   www.google.com  E1C9841F6D56301E0A00000000F6F146   \n",
       "3376    pagead2.googlesyndication.com  D9FDAF66EDE7C3030A00000000FCEFE0   \n",
       "3393              app-measurement.com  8A269BF2F6920E0B0A00000001195184   \n",
       "3449    pagead2.googlesyndication.com  CAA4298E4E7683B80A0000000108AB57   \n",
       "3453              app-measurement.com  81C1798E508227FC0A00000000F2BAEB   \n",
       "3465                    yt3.ggpht.com  B696288ECA80C5710A00000000FCF395   \n",
       "3466           static.doubleclick.net  B31D452AEEB4E1C50A00000000FCEFA5   \n",
       "3469        tpc.googlesyndication.com  CBBB2F30D5995B480A00000000FCF48C   \n",
       "3470    pagead2.googlesyndication.com  EEB891B92A6F538E0A00000000F2BAE8   \n",
       "3474              app-measurement.com  CE3AE39F578A94160A00000000FB7B4A   \n",
       "3475    pagead2.googlesyndication.com  FEF9674239B5672D0A00000000FA6227   \n",
       "3476    connectivitycheck.gstatic.com  FCFB47CAF5AB3B390A0000000108ADBC   \n",
       "3509                   www.google.com  946DC696658E8A710A00000000E84224   \n",
       "3510    pagead2.googlesyndication.com  FE93B273749AC78C0A00000000E831B1   \n",
       "3513    pagead2.googlesyndication.com  E3CB51346C4BC8150A00000000EB4AA9   \n",
       "3530                 hub-api.wink.com  E84177AB21D3317EADE71FDE938A41C8   \n",
       "3613            use1-api.tplinkra.com                  E89385568D2D3264   \n",
       "\n",
       "                       issuer_O validity_days                mac  \\\n",
       "16            COMODO CA Limited           813  84:c0:ef:2f:42:cc   \n",
       "32            COMODO CA Limited           730  84:c0:ef:2f:42:cc   \n",
       "55                  GoDaddy.com           730  84:c0:ef:2f:42:cc   \n",
       "84              Sectigo Limited           730  84:c0:ef:2f:42:cc   \n",
       "174           COMODO CA Limited           820  84:c0:ef:2f:42:cc   \n",
       "216                 GoDaddy.com           397  84:c0:ef:2f:42:cc   \n",
       "226   Google Trust Services LLC            83  84:c0:ef:2f:42:cc   \n",
       "252           COMODO CA Limited          1095  84:c0:ef:2f:42:cc   \n",
       "265           COMODO CA Limited           730  84:c0:ef:2f:42:cc   \n",
       "268           COMODO CA Limited           393  84:c0:ef:2f:42:cc   \n",
       "376                     Entrust           553  84:c0:ef:2f:42:cc   \n",
       "394   Google Trust Services LLC            83   d4:91:f:55:27:b7   \n",
       "582   Google Trust Services LLC            83  34:af:b3:34:3d:50   \n",
       "1735                     Amazon           365  6c:56:97:35:39:f4   \n",
       "2008  Google Trust Services LLC            83  38:8c:50:68:d7:5c   \n",
       "2041  Google Trust Services LLC            83  38:8c:50:68:d7:5c   \n",
       "2044  Google Trust Services LLC            83  38:8c:50:68:d7:5c   \n",
       "2072  Google Trust Services LLC            83  38:8c:50:68:d7:5c   \n",
       "2075  Google Trust Services LLC            83  38:8c:50:68:d7:5c   \n",
       "2085  Google Trust Services LLC            83  38:8c:50:68:d7:5c   \n",
       "2301                GoDaddy.com          1095  38:8c:50:68:d7:5c   \n",
       "2310                GoDaddy.com           761  38:8c:50:68:d7:5c   \n",
       "2318   Network Solutions L.L.C.          1095  38:8c:50:68:d7:5c   \n",
       "2458  Google Trust Services LLC            83  38:8c:50:68:d7:5c   \n",
       "2466  Google Trust Services LLC            83  38:8c:50:68:d7:5c   \n",
       "2474  Google Trust Services LLC            83  38:8c:50:68:d7:5c   \n",
       "2479  Google Trust Services LLC            83  38:8c:50:68:d7:5c   \n",
       "2480  Google Trust Services LLC            83  38:8c:50:68:d7:5c   \n",
       "2504                     Amazon           396    88:de:a9:8:3:b9   \n",
       "2513          COMODO CA Limited           730    88:de:a9:8:3:b9   \n",
       "2522                     Amazon           393    88:de:a9:8:3:b9   \n",
       "2872          COMODO CA Limited           730    88:de:a9:8:3:b9   \n",
       "2940                GoDaddy.com           397    0:11:d9:b0:1:fc   \n",
       "2965  Google Trust Services LLC            83    0:11:d9:b0:1:fc   \n",
       "3004  Google Trust Services LLC            83    0:11:d9:b0:1:fc   \n",
       "3019  Google Trust Services LLC            83    0:11:d9:b0:1:fc   \n",
       "3029  Google Trust Services LLC            83    0:11:d9:b0:1:fc   \n",
       "3044  Google Trust Services LLC            83    0:11:d9:b0:1:fc   \n",
       "3045  Google Trust Services LLC            83    0:11:d9:b0:1:fc   \n",
       "3050  Google Trust Services LLC            83    0:11:d9:b0:1:fc   \n",
       "3061  Google Trust Services LLC            83    0:11:d9:b0:1:fc   \n",
       "3068  Google Trust Services LLC            83    0:11:d9:b0:1:fc   \n",
       "3091  Google Trust Services LLC            83    0:11:d9:b0:1:fc   \n",
       "3092  Google Trust Services LLC            83    0:11:d9:b0:1:fc   \n",
       "3123  Google Trust Services LLC            83    0:11:d9:b0:1:fc   \n",
       "3125  Google Trust Services LLC            67    0:11:d9:b0:1:fc   \n",
       "3136  Google Trust Services LLC            67    0:11:d9:b0:1:fc   \n",
       "3141  Google Trust Services LLC            67    0:11:d9:b0:1:fc   \n",
       "3152  Google Trust Services LLC            83    0:11:d9:b0:1:fc   \n",
       "3244  Google Trust Services LLC            83   ac:67:84:f8:0:6f   \n",
       "3256  Google Trust Services LLC            83   ac:67:84:f8:0:6f   \n",
       "3284  Google Trust Services LLC            67   ac:67:84:f8:0:6f   \n",
       "3291  Google Trust Services LLC            67   ac:67:84:f8:0:6f   \n",
       "3292  Google Trust Services LLC            83   ac:67:84:f8:0:6f   \n",
       "3315  Google Trust Services LLC            83   ac:67:84:f8:0:6f   \n",
       "3321  Google Trust Services LLC            83   ac:67:84:f8:0:6f   \n",
       "3328  Google Trust Services LLC            83   ac:67:84:f8:0:6f   \n",
       "3342  Google Trust Services LLC            67   ac:67:84:f8:0:6f   \n",
       "3352  Google Trust Services LLC            83   ac:67:84:f8:0:6f   \n",
       "3353  Google Trust Services LLC            83   ac:67:84:f8:0:6f   \n",
       "3376  Google Trust Services LLC            83   ac:67:84:f8:0:6f   \n",
       "3393  Google Trust Services LLC            83   ac:67:84:f8:0:6f   \n",
       "3449  Google Trust Services LLC            83   ac:67:84:f8:0:6f   \n",
       "3453  Google Trust Services LLC            83   ac:67:84:f8:0:6f   \n",
       "3465  Google Trust Services LLC            83   ac:67:84:f8:0:6f   \n",
       "3466  Google Trust Services LLC            83   ac:67:84:f8:0:6f   \n",
       "3469  Google Trust Services LLC            83   ac:67:84:f8:0:6f   \n",
       "3470  Google Trust Services LLC            83   ac:67:84:f8:0:6f   \n",
       "3474  Google Trust Services LLC            83   ac:67:84:f8:0:6f   \n",
       "3475  Google Trust Services LLC            83   ac:67:84:f8:0:6f   \n",
       "3476  Google Trust Services LLC            83   ac:67:84:f8:0:6f   \n",
       "3509  Google Trust Services LLC            83   ac:67:84:f8:0:6f   \n",
       "3510  Google Trust Services LLC            83   ac:67:84:f8:0:6f   \n",
       "3513  Google Trust Services LLC            83   ac:67:84:f8:0:6f   \n",
       "3530          COMODO CA Limited          1185   0:21:cc:4d:ce:8c   \n",
       "3613                GoDaddy.com           775  50:c7:bf:5a:2e:a0   \n",
       "\n",
       "     device_vendor                                             issuer_CN  \\\n",
       "16         samsung   COMODO RSA Organization Validation Secure Server CA   \n",
       "32         samsung   COMODO RSA Organization Validation Secure Server CA   \n",
       "55         samsung            Go Daddy Secure Certificate Authority - G2   \n",
       "84         samsung  Sectigo RSA Organization Validation Secure Server CA   \n",
       "174        samsung   COMODO RSA Organization Validation Secure Server CA   \n",
       "216        samsung            Go Daddy Secure Certificate Authority - G2   \n",
       "226        samsung                                            GTS CA 1C3   \n",
       "252        samsung         COMODO RSA Domain Validation Secure Server CA   \n",
       "265        samsung         COMODO RSA Domain Validation Secure Server CA   \n",
       "268        samsung   COMODO RSA Organization Validation Secure Server CA   \n",
       "376        samsung                 Entrust Certification Authority - L1K   \n",
       "394         amazon                                            GTS CA 1C3   \n",
       "582         amazon                                            GTS CA 1C3   \n",
       "1735        amazon                                                Amazon   \n",
       "2008            lg                                            GTS CA 1C3   \n",
       "2041            lg                                            GTS CA 1C3   \n",
       "2044            lg                                            GTS CA 1C3   \n",
       "2072            lg                                            GTS CA 1C3   \n",
       "2075            lg                                            GTS CA 1C3   \n",
       "2085            lg                                            GTS CA 1C3   \n",
       "2301            lg            Go Daddy Secure Certificate Authority - G2   \n",
       "2310            lg            Go Daddy Secure Certificate Authority - G2   \n",
       "2318            lg                      Network Solutions OV Server CA 2   \n",
       "2458            lg                                            GTS CA 1C3   \n",
       "2466            lg                                            GTS CA 1C3   \n",
       "2474            lg                                            GTS CA 1C3   \n",
       "2479            lg                                            GTS CA 1C3   \n",
       "2480            lg                                            GTS CA 1C3   \n",
       "2504          roku                                                Amazon   \n",
       "2513          roku   COMODO RSA Organization Validation Secure Server CA   \n",
       "2522          roku                                                Amazon   \n",
       "2872          roku   COMODO RSA Organization Validation Secure Server CA   \n",
       "2940          tivo            Go Daddy Secure Certificate Authority - G2   \n",
       "2965          tivo                                            GTS CA 1C3   \n",
       "3004          tivo                                            GTS CA 1C3   \n",
       "3019          tivo                                            GTS CA 1C3   \n",
       "3029          tivo                                            GTS CA 1C3   \n",
       "3044          tivo                                            GTS CA 1C3   \n",
       "3045          tivo                                            GTS CA 1C3   \n",
       "3050          tivo                                            GTS CA 1C3   \n",
       "3061          tivo                                            GTS CA 1C3   \n",
       "3068          tivo                                            GTS CA 1C3   \n",
       "3091          tivo                                            GTS CA 1C3   \n",
       "3092          tivo                                            GTS CA 1C3   \n",
       "3123          tivo                                            GTS CA 1C3   \n",
       "3125          tivo                                            GTS CA 1C3   \n",
       "3136          tivo                                            GTS CA 1C3   \n",
       "3141          tivo                                            GTS CA 1C3   \n",
       "3152          tivo                                            GTS CA 1C3   \n",
       "3244        google                                            GTS CA 1C3   \n",
       "3256        google                                            GTS CA 1C3   \n",
       "3284        google                                            GTS CA 1C3   \n",
       "3291        google                                            GTS CA 1C3   \n",
       "3292        google                                            GTS CA 1C3   \n",
       "3315        google                                            GTS CA 1C3   \n",
       "3321        google                                            GTS CA 1C3   \n",
       "3328        google                                            GTS CA 1C3   \n",
       "3342        google                                            GTS CA 1C3   \n",
       "3352        google                                            GTS CA 1C3   \n",
       "3353        google                                            GTS CA 1C3   \n",
       "3376        google                                            GTS CA 1C3   \n",
       "3393        google                                            GTS CA 1C3   \n",
       "3449        google                                            GTS CA 1C3   \n",
       "3453        google                                            GTS CA 1C3   \n",
       "3465        google                                            GTS CA 1C3   \n",
       "3466        google                                            GTS CA 1C3   \n",
       "3469        google                                            GTS CA 1C3   \n",
       "3470        google                                            GTS CA 1C3   \n",
       "3474        google                                            GTS CA 1C3   \n",
       "3475        google                                            GTS CA 1C3   \n",
       "3476        google                                            GTS CA 1C3   \n",
       "3509        google                                            GTS CA 1C3   \n",
       "3510        google                                            GTS CA 1C3   \n",
       "3513        google                                            GTS CA 1C3   \n",
       "3530          wink         COMODO RSA Domain Validation Secure Server CA   \n",
       "3613        tplink            Go Daddy Secure Certificate Authority - G2   \n",
       "\n",
       "                           subject_CN validation_status  \\\n",
       "16                   *.samsungqbe.com                ok   \n",
       "32                          *.mgo.com                ok   \n",
       "55                   *.samsungacr.com                ok   \n",
       "84          api.distribution.hulu.com                ok   \n",
       "174                  *.samsungqbe.com                ok   \n",
       "216                  *.samsungacr.com                ok   \n",
       "226                    www.google.com                ok   \n",
       "252                     auth.hulu.com                ok   \n",
       "265                    siloh.pluto.tv                ok   \n",
       "268           *.scorecardresearch.com                ok   \n",
       "376            cdn.secure.espn.go.com                ok   \n",
       "394           upload.video.google.com                ok   \n",
       "582           upload.video.google.com                ok   \n",
       "1735               mas-ext.amazon.com                ok   \n",
       "2008              *.g.doubleclick.net                ok   \n",
       "2041              *.g.doubleclick.net                ok   \n",
       "2044                *.apis.google.com                ok   \n",
       "2072                *.doubleclick.net                ok   \n",
       "2075          *.googleusercontent.com                ok   \n",
       "2085                    *.gstatic.com                ok   \n",
       "2301                  *.crwdcntrl.net                ok   \n",
       "2310                   *.exelator.com                ok   \n",
       "2318               *.doubleverify.com                ok   \n",
       "2458              *.g.doubleclick.net                ok   \n",
       "2466                    *.gstatic.com                ok   \n",
       "2474         www.googleadservices.com                ok   \n",
       "2479        tpc.googlesyndication.com                ok   \n",
       "2480                   www.google.com                ok   \n",
       "2504  customer-feedbacks.web.roku.com                ok   \n",
       "2513                        *.mgo.com                ok   \n",
       "2522   lat-services.api.data.roku.com                ok   \n",
       "2872                        *.mgo.com                ok   \n",
       "2940                      *.adrise.tv                ok   \n",
       "2965                     *.google.com                ok   \n",
       "3004          upload.video.google.com                ok   \n",
       "3019                   www.google.com                ok   \n",
       "3029                    *.gstatic.com                ok   \n",
       "3044           *.google-analytics.com                ok   \n",
       "3045                   www.google.com                ok   \n",
       "3050                   www.google.com                ok   \n",
       "3061           *.google-analytics.com                ok   \n",
       "3068                   www.google.com                ok   \n",
       "3091                    *.gstatic.com                ok   \n",
       "3092          upload.video.google.com                ok   \n",
       "3123                     *.google.com                ok   \n",
       "3125          upload.video.google.com                ok   \n",
       "3136                    *.gstatic.com                ok   \n",
       "3141           *.google-analytics.com                ok   \n",
       "3152                   www.google.com                ok   \n",
       "3244                   www.google.com                ok   \n",
       "3256          upload.video.google.com                ok   \n",
       "3284          upload.video.google.com                ok   \n",
       "3291           *.google-analytics.com                ok   \n",
       "3292          upload.video.google.com                ok   \n",
       "3315                   www.google.com                ok   \n",
       "3321                   www.google.com                ok   \n",
       "3328                   www.google.com                ok   \n",
       "3342                    *.gstatic.com                ok   \n",
       "3352                   www.google.com                ok   \n",
       "3353                   www.google.com                ok   \n",
       "3376              *.g.doubleclick.net                ok   \n",
       "3393           *.google-analytics.com                ok   \n",
       "3449              *.g.doubleclick.net                ok   \n",
       "3453           *.google-analytics.com                ok   \n",
       "3465          *.googleusercontent.com                ok   \n",
       "3466                *.doubleclick.net                ok   \n",
       "3469        tpc.googlesyndication.com                ok   \n",
       "3470              *.g.doubleclick.net                ok   \n",
       "3474           *.google-analytics.com                ok   \n",
       "3475              *.g.doubleclick.net                ok   \n",
       "3476                    *.gstatic.com                ok   \n",
       "3509                   www.google.com                ok   \n",
       "3510              *.g.doubleclick.net                ok   \n",
       "3513              *.g.doubleclick.net                ok   \n",
       "3530                       *.wink.com                ok   \n",
       "3613                   *.tplinkra.com                ok   \n",
       "\n",
       "                                serial  In CT        Issuer  certday_log10  \\\n",
       "16    A8B29861E641DF722AFAA99072176C5C  False  Public trust       2.910091   \n",
       "32    9310935F50EBB897D4A2EDC4E693771F  False  Public trust       2.863323   \n",
       "55                    9EBDDD0CB99954E6  False  Public trust       2.863323   \n",
       "84    8090FE51DC1346FF1F18507F1A682348  False  Public trust       2.863323   \n",
       "174   FA77B7D7A6FFF4DA8BDD3A538C5E2D4E  False  Public trust       2.913814   \n",
       "216                   D76EE54416982D1E  False  Public trust       2.598791   \n",
       "226   D2AC57EBA83598450A0000000108AEDB  False  Public trust       1.919078   \n",
       "252   D6F251B9325DA506BED7F9A34BC4EC42  False  Public trust       3.039414   \n",
       "265   CD87ED5233B2F1ECCA312576CFE38A1F  False  Public trust       2.863323   \n",
       "268   E6CC1314B397DBD158E3B494FE2889C6  False  Public trust       2.594393   \n",
       "376   AC4DE428D61CD87A0000000050E94C40  False  Public trust       2.742725   \n",
       "394   B82FB98BF9BCC72B0A0000000108ADD2  False  Public trust       1.919078   \n",
       "582   8469E899E8669FB20A00000001103656  False  Public trust       1.919078   \n",
       "1735  0F546145DA2205EE676E56FD13076082  False  Public trust       2.562293   \n",
       "2008  EEB891B92A6F538E0A00000000F2BAE8  False  Public trust       1.919078   \n",
       "2041  E3CB51346C4BC8150A00000000EB4AA9  False  Public trust       1.919078   \n",
       "2044  FD15C7FA3DCB4A410A00000000EB622D  False  Public trust       1.919078   \n",
       "2072  81A21C85BF505E300A00000000F2BADC  False  Public trust       1.919078   \n",
       "2075  C97417577F777DAE0A00000000F2C21C  False  Public trust       1.919078   \n",
       "2085  C8DFCD1455532C030A00000000F6EE84  False  Public trust       1.919078   \n",
       "2301                  D3B35A7375BCAE7B  False  Public trust       3.039414   \n",
       "2310                  9E4E4BF0803541CD  False  Public trust       2.881385   \n",
       "2318  820BBAC6FA5BB09D43520490375785C5  False  Public trust       3.039414   \n",
       "2458  CAA4298E4E7683B80A0000000108AB57  False  Public trust       1.919078   \n",
       "2466  FCFB47CAF5AB3B390A0000000108ADBC  False  Public trust       1.919078   \n",
       "2474  BD93A6A13AA7480D0A0000000108ADEA  False  Public trust       1.919078   \n",
       "2479  DA0170352FDCF9FA0A0000000108ADCD  False  Public trust       1.919078   \n",
       "2480  D2AC57EBA83598450A0000000108AEDB  False  Public trust       1.919078   \n",
       "2504  060C0725284E8424874857916D7033FE  False  Public trust       2.597695   \n",
       "2513  9310935F50EBB897D4A2EDC4E693771F  False  Public trust       2.863323   \n",
       "2522  015AC176925445FECBD86E82F2F1EE6D  False  Public trust       2.594393   \n",
       "2872  C4E42E8724A9C92BD0E3DE3F86164016  False  Public trust       2.863323   \n",
       "2940                  FA40447936B8B752  False  Public trust       2.598791   \n",
       "2965  B9CF6383F08819330A00000000FA6231  False  Public trust       1.919078   \n",
       "3004  8469E899E8669FB20A00000001103656  False  Public trust       1.919078   \n",
       "3019  F0CFFAF486AEA5990A0000000110379B  False  Public trust       1.919078   \n",
       "3029  C8DFCD1455532C030A00000000F6EE84  False  Public trust       1.919078   \n",
       "3044  81C1798E508227FC0A00000000F2BAEB  False  Public trust       1.919078   \n",
       "3045  BEB7EA6B7EF2F8E20A00000000F2C8BF  False  Public trust       1.919078   \n",
       "3050  DCEA89366B88D57C0A00000000FCF822  False  Public trust       1.919078   \n",
       "3061  CE3AE39F578A94160A00000000FB7B4A  False  Public trust       1.919078   \n",
       "3068  946DC696658E8A710A00000000E84224  False  Public trust       1.919078   \n",
       "3091  FCFB47CAF5AB3B390A0000000108ADBC  False  Public trust       1.919078   \n",
       "3092  B82FB98BF9BCC72B0A0000000108ADD2  False  Public trust       1.919078   \n",
       "3123  EB8B75FB563F94570A00000000E0520B  False  Public trust       1.919078   \n",
       "3125  8D7A8CC6CBD35F9F0A00000000FF6410  False  Public trust       1.826075   \n",
       "3136  AB1C506A38B7BBF20A00000000FF6406  False  Public trust       1.826075   \n",
       "3141  D6A2357297FE0CCE0A00000000FF602E  False  Public trust       1.826075   \n",
       "3152  D2AC57EBA83598450A0000000108AEDB  False  Public trust       1.919078   \n",
       "3244  D944AF606942F8C60A00000000FA68AE  False  Public trust       1.919078   \n",
       "3256  8469E899E8669FB20A00000001103656  False  Public trust       1.919078   \n",
       "3284  8D7A8CC6CBD35F9F0A00000000FF6410  False  Public trust       1.826075   \n",
       "3291  D6A2357297FE0CCE0A00000000FF602E  False  Public trust       1.826075   \n",
       "3292  B82FB98BF9BCC72B0A0000000108ADD2  False  Public trust       1.919078   \n",
       "3315  BEB7EA6B7EF2F8E20A00000000F2C8BF  False  Public trust       1.919078   \n",
       "3321  DCEA89366B88D57C0A00000000FCF822  False  Public trust       1.919078   \n",
       "3328  F0CFFAF486AEA5990A0000000110379B  False  Public trust       1.919078   \n",
       "3342  AB1C506A38B7BBF20A00000000FF6406  False  Public trust       1.826075   \n",
       "3352  D2AC57EBA83598450A0000000108AEDB  False  Public trust       1.919078   \n",
       "3353  E1C9841F6D56301E0A00000000F6F146  False  Public trust       1.919078   \n",
       "3376  D9FDAF66EDE7C3030A00000000FCEFE0  False  Public trust       1.919078   \n",
       "3393  8A269BF2F6920E0B0A00000001195184  False  Public trust       1.919078   \n",
       "3449  CAA4298E4E7683B80A0000000108AB57  False  Public trust       1.919078   \n",
       "3453  81C1798E508227FC0A00000000F2BAEB  False  Public trust       1.919078   \n",
       "3465  B696288ECA80C5710A00000000FCF395  False  Public trust       1.919078   \n",
       "3466  B31D452AEEB4E1C50A00000000FCEFA5  False  Public trust       1.919078   \n",
       "3469  CBBB2F30D5995B480A00000000FCF48C  False  Public trust       1.919078   \n",
       "3470  EEB891B92A6F538E0A00000000F2BAE8  False  Public trust       1.919078   \n",
       "3474  CE3AE39F578A94160A00000000FB7B4A  False  Public trust       1.919078   \n",
       "3475  FEF9674239B5672D0A00000000FA6227  False  Public trust       1.919078   \n",
       "3476  FCFB47CAF5AB3B390A0000000108ADBC  False  Public trust       1.919078   \n",
       "3509  946DC696658E8A710A00000000E84224  False  Public trust       1.919078   \n",
       "3510  FE93B273749AC78C0A00000000E831B1  False  Public trust       1.919078   \n",
       "3513  E3CB51346C4BC8150A00000000EB4AA9  False  Public trust       1.919078   \n",
       "3530  E84177AB21D3317EADE71FDE938A41C8  False  Public trust       3.073718   \n",
       "3613                  E89385568D2D3264  False  Public trust       2.889302   \n",
       "\n",
       "      vendor_id   jittered  \n",
       "16            1   1.209161  \n",
       "32            1   0.923118  \n",
       "55            1   0.952951  \n",
       "84            1   0.914417  \n",
       "174           1   0.852526  \n",
       "216           1   0.986327  \n",
       "226           1   0.925675  \n",
       "252           1   0.930592  \n",
       "265           1   1.222373  \n",
       "268           1   0.931168  \n",
       "376           1   0.915293  \n",
       "394           2   1.984929  \n",
       "582           2   2.175953  \n",
       "1735          2   2.076621  \n",
       "2008          3   3.093365  \n",
       "2041          3   2.766168  \n",
       "2044          3   2.975084  \n",
       "2072          3   2.856759  \n",
       "2075          3   2.852757  \n",
       "2085          3   3.007589  \n",
       "2301          3   3.127332  \n",
       "2310          3   3.244391  \n",
       "2318          3   2.874958  \n",
       "2458          3   2.894059  \n",
       "2466          3   3.034171  \n",
       "2474          3   2.956292  \n",
       "2479          3   3.082864  \n",
       "2480          3   2.854302  \n",
       "2504          4   4.090603  \n",
       "2513          4   3.979656  \n",
       "2522          4   4.096527  \n",
       "2872          4   4.013616  \n",
       "2940          5   4.770857  \n",
       "2965          5   5.047631  \n",
       "3004          5   4.869392  \n",
       "3019          5   5.164422  \n",
       "3029          5   5.027648  \n",
       "3044          5   5.130199  \n",
       "3045          5   5.138625  \n",
       "3050          5   4.751683  \n",
       "3061          5   5.104628  \n",
       "3068          5   5.242413  \n",
       "3091          5   5.019181  \n",
       "3092          5   5.137404  \n",
       "3123          5   4.868268  \n",
       "3125          5   4.897025  \n",
       "3136          5   5.249817  \n",
       "3141          5   5.177716  \n",
       "3152          5   4.897676  \n",
       "3244          6   5.935607  \n",
       "3256          6   6.022991  \n",
       "3284          6   6.155536  \n",
       "3291          6   6.182003  \n",
       "3292          6   6.229679  \n",
       "3315          6   6.244197  \n",
       "3321          6   5.956340  \n",
       "3328          6   5.972579  \n",
       "3342          6   5.985544  \n",
       "3352          6   6.087574  \n",
       "3353          6   6.213438  \n",
       "3376          6   6.070361  \n",
       "3393          6   6.063355  \n",
       "3449          6   6.118664  \n",
       "3453          6   6.075596  \n",
       "3465          6   6.162765  \n",
       "3466          6   6.077309  \n",
       "3469          6   5.842259  \n",
       "3470          6   5.996559  \n",
       "3474          6   5.871572  \n",
       "3475          6   5.954581  \n",
       "3476          6   6.170931  \n",
       "3509          6   5.996111  \n",
       "3510          6   5.810582  \n",
       "3513          6   5.863721  \n",
       "3530          7   6.980697  \n",
       "3613         11  10.935609  "
      ]
     },
     "execution_count": 136,
     "metadata": {},
     "output_type": "execute_result"
    }
   ],
   "source": [
    "lab_comm_sni.loc[(lab_comm_sni['In CT'] == False) & (lab_comm_sni['Issuer'] == \"Public trust\")]"
   ]
  },
  {
   "cell_type": "code",
   "execution_count": 137,
   "id": "handy-setup",
   "metadata": {},
   "outputs": [
    {
     "name": "stderr",
     "output_type": "stream",
     "text": [
      "<ipython-input-137-c87d9b8e2fc7>:5: SettingWithCopyWarning: \n",
      "A value is trying to be set on a copy of a slice from a DataFrame.\n",
      "Try using .loc[row_indexer,col_indexer] = value instead\n",
      "\n",
      "See the caveats in the documentation: https://pandas.pydata.org/pandas-docs/stable/user_guide/indexing.html#returning-a-view-versus-a-copy\n",
      "  iot_comm_sni['vendor_id'] = iot_comm_sni['device_vendor'].apply(lambda x: vendor_ids[x])\n",
      "<ipython-input-137-c87d9b8e2fc7>:6: SettingWithCopyWarning: \n",
      "A value is trying to be set on a copy of a slice from a DataFrame.\n",
      "Try using .loc[row_indexer,col_indexer] = value instead\n",
      "\n",
      "See the caveats in the documentation: https://pandas.pydata.org/pandas-docs/stable/user_guide/indexing.html#returning-a-view-versus-a-copy\n",
      "  iot_comm_sni['jittered'] = iot_comm_sni['vendor_id'].apply(lambda x: jitter(x))\n",
      "<ipython-input-137-c87d9b8e2fc7>:7: SettingWithCopyWarning: \n",
      "A value is trying to be set on a copy of a slice from a DataFrame.\n",
      "Try using .loc[row_indexer,col_indexer] = value instead\n",
      "\n",
      "See the caveats in the documentation: https://pandas.pydata.org/pandas-docs/stable/user_guide/indexing.html#returning-a-view-versus-a-copy\n",
      "  lab_comm_sni['vendor_id'] = lab_comm_sni['device_vendor'].apply(lambda x: vendor_ids[x])\n",
      "<ipython-input-137-c87d9b8e2fc7>:8: SettingWithCopyWarning: \n",
      "A value is trying to be set on a copy of a slice from a DataFrame.\n",
      "Try using .loc[row_indexer,col_indexer] = value instead\n",
      "\n",
      "See the caveats in the documentation: https://pandas.pydata.org/pandas-docs/stable/user_guide/indexing.html#returning-a-view-versus-a-copy\n",
      "  lab_comm_sni['jittered'] = lab_comm_sni['vendor_id'].apply(lambda x: jitter(x))\n"
     ]
    }
   ],
   "source": [
    "vendor_ids = {'amazon':1, 'samsung':2, 'lg':3, 'roku':4, \\\n",
    "             'google':5, 'tivo':6, 'philips':7, 'nintendo':8, \\\n",
    "             'wink':9, 'wyze':10, 'tplink':11, 'tuya':12, 'ikea':13}\n",
    "\n",
    "iot_comm_sni['vendor_id'] = iot_comm_sni['device_vendor'].apply(lambda x: vendor_ids[x])\n",
    "iot_comm_sni['jittered'] = iot_comm_sni['vendor_id'].apply(lambda x: jitter(x))\n",
    "lab_comm_sni['vendor_id'] = lab_comm_sni['device_vendor'].apply(lambda x: vendor_ids[x])\n",
    "lab_comm_sni['jittered'] = lab_comm_sni['vendor_id'].apply(lambda x: jitter(x))"
   ]
  },
  {
   "cell_type": "code",
   "execution_count": 138,
   "id": "pretty-candy",
   "metadata": {},
   "outputs": [
    {
     "data": {
      "image/png": "[encoded data removed]",
      "text/plain": [
       "<Figure size 1008x576 with 2 Axes>"
      ]
     },
     "metadata": {
      "needs_background": "light"
     },
     "output_type": "display_data"
    }
   ],
   "source": [
    "fig, axes = plt.subplots(2, figsize=(14, 8), sharex=True)\n",
    "matplotlib.rc('ytick', labelsize=14)\n",
    "\n",
    "ct_palette = [\"#7E89F8\", \"#FA9F09\"]\n",
    "markers = {True: \"_\", False: \"+\"}\n",
    "\n",
    "sns.scatterplot(data=iot_comm_sni, x=\"jittered\", y=\"certday_log10\", hue=\"Issuer\", style=\"In CT\", ax=axes[0],\\\n",
    "                s=60, palette=ct_palette, markers=markers, alpha=1, linewidth=1.2, x_jitter=True)\n",
    "sns.scatterplot(data=lab_comm_sni, x=\"jittered\", y=\"certday_log10\", hue=\"Issuer\", style=\"In CT\", ax=axes[1], \\\n",
    "                s=60, palette=ct_palette, markers=markers, alpha=1, linewidth=1.2, x_jitter=True)\n",
    "\n",
    "axes[0].set_xlabel(\"\")\n",
    "axes[0].set_ylabel(\"\")\n",
    "axes[1].set_xlabel(\"\")\n",
    "axes[1].set_ylabel(\"\")\n",
    "#axes[0].title.set_text('IoT Inspector Server Dataset', Fontsize=16)\n",
    "axes[0].set_title(\"IoT Inspector Server Dataset\", fontsize=16)\n",
    "#axes[1].title.set_text('Lab Dataset', Fontsize=16)\n",
    "axes[1].set_title(\"Lab Dataset\", fontsize=16)\n",
    "\n",
    "handles0, labels0 = axes[0].get_legend_handles_labels()\n",
    "axes[0].legend(handles=handles0[0:], labels=labels0[0:], title=\"\",\\\n",
    "                   fancybox=True, framealpha=1, shadow=True, borderpad=.5, ncol=2, bbox_to_anchor=[0.72, 0.55], \\\n",
    "                   fontsize=13)\n",
    "\n",
    "axes[1].get_legend().remove()\n",
    "\n",
    "plt.xticks([1,2,3,4,5,6,7,8,9,10,11,12,13], fontsize=15)\n",
    "axes[1].set_xticklabels(['Amazon', 'Samsung', 'LG', 'Roku', \\\n",
    "                    'Google', 'Tivo', 'Philips', 'Nintendo', 'Wink',\\\n",
    "                    'Wyze', 'TP-Link', 'Tuya', 'IKEA'], \\\n",
    "                    fontsize=15, rotation=90, ha='right', va='center',rotation_mode='anchor')\n",
    "\n",
    "fig.text(0.025, 0.5, '$log_{10}$ (Leaf certificate validity period)', va='center', rotation='vertical', fontsize=18)\n",
    "plt.subplots_adjust(left=0.08, right=0.99, bottom=0.15, top=0.95)\n",
    "\n",
    "#fig.tight_layout()\n",
    "plt.show()"
   ]
  },
  {
   "cell_type": "markdown",
   "id": "tropical-scott",
   "metadata": {},
   "source": [
    "### Different SNIs"
   ]
  },
  {
   "cell_type": "code",
   "execution_count": 139,
   "id": "floral-chocolate",
   "metadata": {},
   "outputs": [],
   "source": [
    "lab_diff_plot = lab_sub.loc[lab_sub['server_name'].isin(diffsni_lablis)]"
   ]
  },
  {
   "cell_type": "code",
   "execution_count": 140,
   "id": "steady-restaurant",
   "metadata": {},
   "outputs": [],
   "source": [
    "iot_diff_plot = iot_sub.loc[iot_sub['server_name_indication'].isin(diffsni_iotlis)]"
   ]
  },
  {
   "cell_type": "code",
   "execution_count": 141,
   "id": "fatal-object",
   "metadata": {},
   "outputs": [],
   "source": [
    "publis = ['Amazon', \"COMODO CA Limited\", \"DigiCert Inc\", \"GoDaddy.com\", \"Sectigo Limited\", \"GlobalSign nv-sa\", \\\n",
    "          \"Entrust\", \"Google Trust Services LLC\", \"Let's Encrypt\", \"Cloudflare\", \"Network Solutions L.L.C.\", \\\n",
    "          \"Microsoft Corporation\", \"ZeroSSL\", \"Apple Inc.\", \"Cloudflare\", \"Trustwave Holdings\", \"Comodo Japan\", \\\n",
    "          \"Google Trust Services\", \"Symantec Corporation\", \"thawte\", \"Google Inc\", \"GeoTrust Inc.\", \"Gandi\", \\\n",
    "          \"IPS Certification Authority s.l.\", \"CloudFlare\"]"
   ]
  },
  {
   "cell_type": "code",
   "execution_count": 142,
   "id": "divine-sugar",
   "metadata": {},
   "outputs": [
    {
     "name": "stderr",
     "output_type": "stream",
     "text": [
      "<ipython-input-142-972fef2a1448>:1: SettingWithCopyWarning: \n",
      "A value is trying to be set on a copy of a slice from a DataFrame.\n",
      "Try using .loc[row_indexer,col_indexer] = value instead\n",
      "\n",
      "See the caveats in the documentation: https://pandas.pydata.org/pandas-docs/stable/user_guide/indexing.html#returning-a-view-versus-a-copy\n",
      "  iot_diff_plot['Issuer'] = iot_diff_plot['issuer_O'].apply(lambda x: \"Public trust\" if x in publis else \"Untrust\")\n",
      "<ipython-input-142-972fef2a1448>:2: SettingWithCopyWarning: \n",
      "A value is trying to be set on a copy of a slice from a DataFrame.\n",
      "Try using .loc[row_indexer,col_indexer] = value instead\n",
      "\n",
      "See the caveats in the documentation: https://pandas.pydata.org/pandas-docs/stable/user_guide/indexing.html#returning-a-view-versus-a-copy\n",
      "  lab_diff_plot['Issuer'] = lab_diff_plot['issuer_O'].apply(lambda x: \"Public trust\" if x in publis else \"Untrust\")\n"
     ]
    }
   ],
   "source": [
    "iot_diff_plot['Issuer'] = iot_diff_plot['issuer_O'].apply(lambda x: \"Public trust\" if x in publis else \"Untrust\")\n",
    "lab_diff_plot['Issuer'] = lab_diff_plot['issuer_O'].apply(lambda x: \"Public trust\" if x in publis else \"Untrust\")"
   ]
  },
  {
   "cell_type": "code",
   "execution_count": 143,
   "id": "finished-island",
   "metadata": {},
   "outputs": [
    {
     "name": "stderr",
     "output_type": "stream",
     "text": [
      "<ipython-input-143-dd7e01590c1a>:1: SettingWithCopyWarning: \n",
      "A value is trying to be set on a copy of a slice from a DataFrame.\n",
      "Try using .loc[row_indexer,col_indexer] = value instead\n",
      "\n",
      "See the caveats in the documentation: https://pandas.pydata.org/pandas-docs/stable/user_guide/indexing.html#returning-a-view-versus-a-copy\n",
      "  iot_diff_plot['certday_log10'] = iot_diff_plot['validity_days'].apply(lambda x: np.log10(x))\n"
     ]
    }
   ],
   "source": [
    "iot_diff_plot['certday_log10'] = iot_diff_plot['validity_days'].apply(lambda x: np.log10(x))"
   ]
  },
  {
   "cell_type": "code",
   "execution_count": 144,
   "id": "classified-entrepreneur",
   "metadata": {},
   "outputs": [
    {
     "name": "stderr",
     "output_type": "stream",
     "text": [
      "<ipython-input-144-e0b4df96c20a>:1: SettingWithCopyWarning: \n",
      "A value is trying to be set on a copy of a slice from a DataFrame.\n",
      "Try using .loc[row_indexer,col_indexer] = value instead\n",
      "\n",
      "See the caveats in the documentation: https://pandas.pydata.org/pandas-docs/stable/user_guide/indexing.html#returning-a-view-versus-a-copy\n",
      "  lab_diff_plot['certday_log10'] = lab_diff_plot['validity_days'].apply(lambda x: np.log10(x))\n"
     ]
    }
   ],
   "source": [
    "lab_diff_plot['certday_log10'] = lab_diff_plot['validity_days'].apply(lambda x: np.log10(x))"
   ]
  },
  {
   "cell_type": "code",
   "execution_count": 145,
   "id": "breeding-soundtrack",
   "metadata": {},
   "outputs": [],
   "source": [
    "iot_diff_plot = iot_diff_plot.drop_duplicates(['device_vendor', 'cert_serialNum_from_x509af', 'issuer_CN', 'certday_log10'])\n",
    "lab_diff_plot = lab_diff_plot.drop_duplicates(['device_vendor', 'serial', 'issuer_CN', 'certday_log10'])"
   ]
  },
  {
   "cell_type": "code",
   "execution_count": 146,
   "id": "imported-system",
   "metadata": {},
   "outputs": [],
   "source": [
    "def jitter(x):\n",
    "    return x + random.uniform(0, .5) - .25"
   ]
  },
  {
   "cell_type": "code",
   "execution_count": 147,
   "id": "divine-lexington",
   "metadata": {},
   "outputs": [],
   "source": [
    "iot_diff_plot = iot_diff_plot.rename({\"response\": \"In CT\"}, axis=1)\n",
    "lab_diff_plot = lab_diff_plot.rename({\"res\": \"In CT\"}, axis=1)"
   ]
  },
  {
   "cell_type": "code",
   "execution_count": 148,
   "id": "rapid-building",
   "metadata": {},
   "outputs": [
    {
     "data": {
      "text/plain": [
       "amazon      145\n",
       "samsung     122\n",
       "google      101\n",
       "roku         98\n",
       "lg           81\n",
       "xiaomi       49\n",
       "tivo         27\n",
       "tplink       21\n",
       "wink         19\n",
       "amcrest       4\n",
       "philips       2\n",
       "ikea          2\n",
       "nintendo      1\n",
       "belkin        1\n",
       "Name: device_vendor, dtype: int64"
      ]
     },
     "execution_count": 148,
     "metadata": {},
     "output_type": "execute_result"
    }
   ],
   "source": [
    "iot_diff_plot['device_vendor'].value_counts()"
   ]
  },
  {
   "cell_type": "code",
   "execution_count": 149,
   "id": "inappropriate-edition",
   "metadata": {},
   "outputs": [
    {
     "data": {
      "text/plain": [
       "lg          294\n",
       "samsung     170\n",
       "amazon      151\n",
       "roku         77\n",
       "google       66\n",
       "tivo         44\n",
       "philips      13\n",
       "wyze         13\n",
       "belkin       13\n",
       "nintendo     10\n",
       "wink          7\n",
       "ikea          6\n",
       "tuya          3\n",
       "withings      1\n",
       "tplink        1\n",
       "Name: device_vendor, dtype: int64"
      ]
     },
     "execution_count": 149,
     "metadata": {},
     "output_type": "execute_result"
    }
   ],
   "source": [
    "lab_diff_plot['device_vendor'].value_counts()"
   ]
  },
  {
   "cell_type": "code",
   "execution_count": 150,
   "id": "outdoor-graphics",
   "metadata": {},
   "outputs": [],
   "source": [
    "vendor_ids = {'amazon':1, 'samsung':2, 'google':3, 'roku':4, 'lg':5, \\\n",
    "             'xiaomi':6, 'tivo':7, 'tplink':8, 'wink':9, 'amcrest':10, \\\n",
    "             'philips':11, 'ikea':12, 'belkin':13, 'nintendo':14, 'withings':15, 'wyze':16, 'tuya':17}\n",
    "\n",
    "iot_diff_plot['vendor_id'] = iot_diff_plot['device_vendor'].apply(lambda x: vendor_ids[x])\n",
    "iot_diff_plot['jittered'] = iot_diff_plot['vendor_id'].apply(lambda x: jitter(x))\n",
    "lab_diff_plot['vendor_id'] = lab_diff_plot['device_vendor'].apply(lambda x: vendor_ids[x])\n",
    "lab_diff_plot['jittered'] = lab_diff_plot['vendor_id'].apply(lambda x: jitter(x))"
   ]
  },
  {
   "cell_type": "code",
   "execution_count": 151,
   "id": "successful-girlfriend",
   "metadata": {},
   "outputs": [
    {
     "data": {
      "image/png": "[encoded data removed]",
      "text/plain": [
       "<Figure size 1008x576 with 2 Axes>"
      ]
     },
     "metadata": {
      "needs_background": "light"
     },
     "output_type": "display_data"
    }
   ],
   "source": [
    "fig, axes = plt.subplots(2, figsize=(14, 8), sharex=True)\n",
    "matplotlib.rc('ytick', labelsize=14)\n",
    "\n",
    "ct_palette = [\"#1AC280\", \"#FDA501\"]\n",
    "markers = {True: \"_\", False: \"+\"}\n",
    "\n",
    "sns.scatterplot(data=iot_diff_plot, x=\"jittered\", y=\"certday_log10\", hue=\"Issuer\", style=\"In CT\", ax=axes[0],\\\n",
    "                s=60, palette=ct_palette, markers=markers, alpha=1, linewidth=1.2, x_jitter=True)\n",
    "sns.scatterplot(data=lab_diff_plot, x=\"jittered\", y=\"certday_log10\", hue=\"Issuer\", style=\"In CT\", ax=axes[1], \\\n",
    "                s=60, palette=ct_palette, markers=markers, alpha=1, linewidth=1.2, x_jitter=True)\n",
    "\n",
    "axes[0].set_xlabel(\"\")\n",
    "axes[0].set_ylabel(\"\")\n",
    "axes[1].set_xlabel(\"\")\n",
    "axes[1].set_ylabel(\"\")\n",
    "#axes[0].title.set_text('IoT Inspector Server Dataset', Fontsize=16)\n",
    "axes[0].set_title(\"IoT Inspector Server Dataset\", fontsize=16)\n",
    "#axes[1].title.set_text('Lab Dataset', Fontsize=16)\n",
    "axes[1].set_title(\"Lab Dataset\", fontsize=16)\n",
    "\n",
    "handles0, labels0 = axes[0].get_legend_handles_labels()\n",
    "axes[0].legend(handles=handles0[0:], labels=labels0[0:], title=\"\",\\\n",
    "                   loc=\"lower right\", fancybox=True, framealpha=1, shadow=True, borderpad=.5, ncol=2, bbox_to_anchor=[0.92, 0.60], \\\n",
    "                   fontsize=13)\n",
    "\n",
    "axes[1].get_legend().remove()\n",
    "\n",
    "plt.xticks([1,2,3,4,5,6,7,8,9,10,11,12,13,14,15,16,17,18], fontsize=15)\n",
    "axes[1].set_xticklabels(['Amazon', 'Samsung', 'Google', 'Roku', 'LG', \\\n",
    "                         'Xiaomi', 'Tivo', 'TP-Link', 'Wink', 'Amcrest', \\\n",
    "                         'Philips', 'IKEA', 'Belkin', 'Nintendo', 'Withings', 'Wyze', 'Tuya', ''], \\\n",
    "                        fontsize=15, rotation=90, ha='right', va='center',rotation_mode='anchor')\n",
    "\n",
    "fig.text(0.025, 0.5, '$log_{10}$ (Leaf certificate validity period)', va='center', rotation='vertical', fontsize=18)\n",
    "plt.subplots_adjust(left=0.08, right=0.99, bottom=0.15, top=0.95)\n",
    "\n",
    "#fig.tight_layout()\n",
    "plt.show()"
   ]
  },
  {
   "cell_type": "markdown",
   "id": "champion-beauty",
   "metadata": {},
   "source": [
    "### Different issuers"
   ]
  },
  {
   "cell_type": "code",
   "execution_count": 152,
   "id": "graphic-kelly",
   "metadata": {},
   "outputs": [],
   "source": [
    "iot2_samsung = iot_sub.loc[(iot_sub['device_vendor'] == 'samsung') & (~iot_sub['issuer_O'].isin(samsung_comm))]\n",
    "iot2_amazon = iot_sub.loc[(iot_sub['device_vendor'] == 'amazon') & (~iot_sub['issuer_O'].isin(amazon_comm))]\n",
    "iot2_lg = iot_sub.loc[(iot_sub['device_vendor'] == 'lg') & (~iot_sub['issuer_O'].isin(lg_comm))]\n",
    "iot2_roku = iot_sub.loc[(iot_sub['device_vendor'] == 'roku') & (~iot_sub['issuer_O'].isin(roku_comm))]\n",
    "iot2_tivo = iot_sub.loc[(iot_sub['device_vendor'] == 'tivo') & (~iot_sub['issuer_O'].isin(tivo_comm))]\n",
    "iot2_google = iot_sub.loc[(iot_sub['device_vendor'] == 'google') & (~iot_sub['issuer_O'].isin(google_comm))]\n",
    "iot2_wink = iot_sub.loc[(iot_sub['device_vendor'] == 'wink') & (~iot_sub['issuer_O'].isin(wink_comm))]\n",
    "iot2_xiaomi = iot_sub.loc[(iot_sub['device_vendor'] == 'xiaomi')]\n",
    "iot2_philips = iot_sub.loc[(iot_sub['device_vendor'] == 'philips') & (~iot_sub['issuer_O'].isin(philips_comm))]\n",
    "iot2_amcrest = iot_sub.loc[(iot_sub['device_vendor'] == 'amcrest') & (~iot_sub['issuer_O'].isin(amcrest_comm))]\n",
    "iot2_nintendo = iot_sub.loc[(iot_sub['device_vendor'] == 'nintendo') & (~iot_sub['issuer_O'].isin(nintendo_comm))]\n",
    "iot2_tplink = iot_sub.loc[(iot_sub['device_vendor'] == 'tplink') & (~iot_sub['issuer_O'].isin(tplink_comm))]\n",
    "iot2_ikea = iot_sub.loc[(iot_sub['device_vendor'] == 'ikea') & (~iot_sub['issuer_O'].isin(ikea_comm))]\n",
    "iot2_withings = iot_sub.loc[(iot_sub['device_vendor'] == 'withings')]\n",
    "iot2_wyze = iot_sub.loc[(iot_sub['device_vendor'] == 'wyze') & (~iot_sub['issuer_O'].isin(wyze_comm))]\n",
    "iot2_belkin = iot_sub.loc[(iot_sub['device_vendor'] == 'belkin') & (~iot_sub['issuer_O'].isin(belkin_comm))]\n",
    "iot2_tuya = iot_sub.loc[(iot_sub['device_vendor'] == 'tuya') & (~iot_sub['issuer_O'].isin(tuya_comm))]"
   ]
  },
  {
   "cell_type": "code",
   "execution_count": 153,
   "id": "placed-allen",
   "metadata": {},
   "outputs": [],
   "source": [
    "iot_diff = pd.concat([iot2_samsung, iot2_amazon, iot2_lg, iot2_roku, iot2_tivo, iot2_google, iot2_wink, iot2_xiaomi, iot2_withings, \\\n",
    "                      iot2_philips, iot2_amcrest, iot2_nintendo, iot2_tplink, iot2_ikea, iot2_wyze, iot2_belkin, iot2_tuya], ignore_index=True)"
   ]
  },
  {
   "cell_type": "code",
   "execution_count": 154,
   "id": "extra-inclusion",
   "metadata": {},
   "outputs": [],
   "source": [
    "lab2_samsung = lab_sub.loc[(lab_sub['device_vendor'] == 'samsung') & (~lab_sub['issuer_O'].isin(samsung_comm))]\n",
    "lab2_amazon = lab_sub.loc[(lab_sub['device_vendor'] == 'amazon') & (~lab_sub['issuer_O'].isin(amazon_comm))]\n",
    "lab2_lg = lab_sub.loc[(lab_sub['device_vendor'] == 'lg') & (~lab_sub['issuer_O'].isin(lg_comm))]\n",
    "lab2_roku = lab_sub.loc[(lab_sub['device_vendor'] == 'roku') & (~lab_sub['issuer_O'].isin(roku_comm))]\n",
    "lab2_tivo = lab_sub.loc[(lab_sub['device_vendor'] == 'tivo') & (~lab_sub['issuer_O'].isin(tivo_comm))]\n",
    "lab2_google = lab_sub.loc[(lab_sub['device_vendor'] == 'google') & (~lab_sub['issuer_O'].isin(google_comm))]\n",
    "lab2_wink = lab_sub.loc[(lab_sub['device_vendor'] == 'wink') & (~lab_sub['issuer_O'].isin(wink_comm))]\n",
    "lab2_xiaomi = lab_sub.loc[(lab_sub['device_vendor'] == 'xiaomi')]\n",
    "lab2_philips = lab_sub.loc[(lab_sub['device_vendor'] == 'philips') & (~lab_sub['issuer_O'].isin(philips_comm))]\n",
    "lab2_amcrest = lab_sub.loc[(lab_sub['device_vendor'] == 'amcrest') & (~lab_sub['issuer_O'].isin(amcrest_comm))]\n",
    "lab2_nintendo = lab_sub.loc[(lab_sub['device_vendor'] == 'nintendo') & (~lab_sub['issuer_O'].isin(nintendo_comm))]\n",
    "lab2_tplink = lab_sub.loc[(lab_sub['device_vendor'] == 'tplink') & (~lab_sub['issuer_O'].isin(tplink_comm))]\n",
    "lab2_ikea = lab_sub.loc[(lab_sub['device_vendor'] == 'ikea') & (~lab_sub['issuer_O'].isin(ikea_comm))]\n",
    "lab2_withings = lab_sub.loc[(lab_sub['device_vendor'] == 'withings')]\n",
    "lab2_wyze = lab_sub.loc[(lab_sub['device_vendor'] == 'wyze') & (~lab_sub['issuer_O'].isin(wyze_comm))]\n",
    "lab2_belkin = lab_sub.loc[(lab_sub['device_vendor'] == 'belkin') & (~lab_sub['issuer_O'].isin(belkin_comm))]\n",
    "lab2_tuya = lab_sub.loc[(lab_sub['device_vendor'] == 'tuya') & (~lab_sub['issuer_O'].isin(tuya_comm))]"
   ]
  },
  {
   "cell_type": "code",
   "execution_count": 155,
   "id": "offensive-reader",
   "metadata": {},
   "outputs": [],
   "source": [
    "lab_diff = pd.concat([lab2_samsung, lab2_amazon, lab2_lg, lab2_roku, lab2_tivo, lab2_google, lab2_wink, lab2_xiaomi, lab2_withings, \\\n",
    "                      lab2_philips, lab2_amcrest, lab2_nintendo, lab2_tplink, lab2_ikea, lab2_wyze, lab2_belkin, lab2_tuya], ignore_index=True)"
   ]
  },
  {
   "cell_type": "code",
   "execution_count": 156,
   "id": "automated-active",
   "metadata": {},
   "outputs": [],
   "source": [
    "publis = ['Amazon', \"COMODO CA Limited\", \"DigiCert Inc\", \"GoDaddy.com\", \"Sectigo Limited\", \"GlobalSign nv-sa\", \\\n",
    "          \"Entrust\", \"Google Trust Services LLC\", \"Let's Encrypt\", \"Cloudflare\", \"Network Solutions L.L.C.\", \\\n",
    "          \"Microsoft Corporation\", \"ZeroSSL\", \"Apple Inc.\", \"Trustwave Holdings\", \"Comodo Japan\", \"DigiCert\", \\\n",
    "          \"Google Trust Services\", \"Symantec Corporation\", \"Google Inc\", \"thawte\", \"GeoTrust Inc.\", \"IPS Certification Authority s.l.\", \\\n",
    "          \"Gandi\", \"CloudFlare\"]"
   ]
  },
  {
   "cell_type": "code",
   "execution_count": 157,
   "id": "quick-batch",
   "metadata": {},
   "outputs": [],
   "source": [
    "iot_diff['Issuer'] = iot_diff['issuer_O'].apply(lambda x: \"Public trust\" if x in publis else \"Untrust\")"
   ]
  },
  {
   "cell_type": "code",
   "execution_count": 158,
   "id": "adjacent-klein",
   "metadata": {},
   "outputs": [],
   "source": [
    "lab_diff['Issuer'] = lab_diff['issuer_O'].apply(lambda x: \"Public trust\" if x in publis else \"Untrust\")"
   ]
  },
  {
   "cell_type": "code",
   "execution_count": 159,
   "id": "tight-headline",
   "metadata": {},
   "outputs": [],
   "source": [
    "iot_diff['certday_log10'] = iot_diff['validity_days'].apply(lambda x: np.log10(x))"
   ]
  },
  {
   "cell_type": "code",
   "execution_count": 160,
   "id": "extraordinary-practitioner",
   "metadata": {},
   "outputs": [],
   "source": [
    "lab_diff['certday_log10'] = lab_diff['validity_days'].apply(lambda x: np.log10(x))"
   ]
  },
  {
   "cell_type": "code",
   "execution_count": 162,
   "id": "wrapped-creator",
   "metadata": {},
   "outputs": [],
   "source": [
    "iot_diff = iot_diff.drop_duplicates(['device_vendor', 'cert_serialNum_from_x509af', 'issuer_CN', 'validity_days'])\n",
    "lab_diff = lab_diff.drop_duplicates(['device_vendor', 'serial', 'issuer_CN', 'validity_days'])"
   ]
  },
  {
   "cell_type": "code",
   "execution_count": 163,
   "id": "marine-trader",
   "metadata": {},
   "outputs": [],
   "source": [
    "def jitter(x):\n",
    "    return x + random.uniform(0, .5) - .25"
   ]
  },
  {
   "cell_type": "code",
   "execution_count": 164,
   "id": "industrial-closing",
   "metadata": {},
   "outputs": [],
   "source": [
    "iot_diff = iot_diff.rename({\"response\": \"In CT\"}, axis=1)\n",
    "lab_diff = lab_diff.rename({\"res\": \"In CT\"}, axis=1)"
   ]
  },
  {
   "cell_type": "code",
   "execution_count": 165,
   "id": "tough-following",
   "metadata": {},
   "outputs": [],
   "source": [
    "vendor_ids = {'samsung':1, 'amazon':2, 'lg':3, 'roku':4, 'tivo':5, \\\n",
    "             'google':6, 'wink':7, \"xiaomi\":8, 'philips':9, 'amcrest':10, 'nintendo':11, \\\n",
    "             'tplink':12, 'ikea':13, 'withings':14, 'wyze':15, 'belkin':16, 'tuya':17}\n",
    "\n",
    "iot_diff['vendor_id'] = iot_diff['device_vendor'].apply(lambda x: vendor_ids[x])\n",
    "iot_diff['jittered'] = iot_diff['vendor_id'].apply(lambda x: jitter(x))\n",
    "lab_diff['vendor_id'] = lab_diff['device_vendor'].apply(lambda x: vendor_ids[x])\n",
    "lab_diff['jittered'] = lab_diff['vendor_id'].apply(lambda x: jitter(x))"
   ]
  },
  {
   "cell_type": "code",
   "execution_count": 166,
   "id": "invisible-counter",
   "metadata": {},
   "outputs": [
    {
     "data": {
      "image/png": "[encoded data removed]",
      "text/plain": [
       "<Figure size 1008x576 with 2 Axes>"
      ]
     },
     "metadata": {
      "needs_background": "light"
     },
     "output_type": "display_data"
    }
   ],
   "source": [
    "fig, axes = plt.subplots(2, figsize=(14, 8), sharex=True)\n",
    "matplotlib.rc('ytick', labelsize=14)\n",
    "\n",
    "ct_palette = [\"#1AC280\", \"#FDA501\"]\n",
    "markers = {True: \"_\", False: \"+\"}\n",
    "\n",
    "sns.scatterplot(data=iot_diff, x=\"jittered\", y=\"certday_log10\", hue=\"Issuer\", style=\"In CT\", ax=axes[0],\\\n",
    "                s=60, palette=ct_palette, markers=markers, alpha=1, linewidth=1.2, x_jitter=True)\n",
    "sns.scatterplot(data=lab_diff, x=\"jittered\", y=\"certday_log10\", hue=\"Issuer\", style=\"In CT\", ax=axes[1], \\\n",
    "                s=60, palette=ct_palette, markers=markers, alpha=1, linewidth=1.2, x_jitter=True)\n",
    "\n",
    "axes[0].set_ylim([1.0, 4.5])\n",
    "axes[1].set_ylim([1.0, 4.5])\n",
    "axes[0].set_xlabel(\"\")\n",
    "axes[0].set_ylabel(\"\")\n",
    "axes[1].set_xlabel(\"\")\n",
    "axes[1].set_ylabel(\"\")\n",
    "#axes[0].title.set_text('IoT Inspector Server Dataset', Fontsize=16)\n",
    "axes[0].set_title(\"IoT Inspector Server Dataset\", fontsize=16)\n",
    "#axes[1].title.set_text('Lab Dataset', Fontsize=16)\n",
    "axes[1].set_title(\"Lab Dataset\", fontsize=16)\n",
    "\n",
    "handles0, labels0 = axes[0].get_legend_handles_labels()\n",
    "axes[0].legend(handles=handles0[0:], labels=labels0[0:], title=\"\",\\\n",
    "                   loc=\"upper right\", fancybox=True, framealpha=1, shadow=True, borderpad=.5, ncol=2, \\\n",
    "                   fontsize=13)\n",
    "\n",
    "axes[1].get_legend().remove()\n",
    "\n",
    "plt.xticks([1,2,3,4,5,6,7,8,9,10,11,12,13,14,15,16,17], fontsize=15)\n",
    "axes[1].set_xticklabels(['Samsung', 'Amazon', 'LG', 'Roku', 'Tivo', \\\n",
    "                    'Google', 'Wink', 'Xiaomi', 'Philips', 'Amcrest', 'Nintendo', \\\n",
    "                    'TP-Link', 'IKEA', 'Withings', 'Wyze', 'Belkin', 'Tuya'], \\\n",
    "                    fontsize=15, rotation=90, ha='right', va='center',rotation_mode='anchor')\n",
    "\n",
    "fig.text(0.025, 0.5, '$log_{10}$ (Leaf certificate validity period)', va='center', rotation='vertical', fontsize=18)\n",
    "plt.subplots_adjust(left=0.08, right=0.99, bottom=0.15, top=0.95)\n",
    "\n",
    "#fig.tight_layout()\n",
    "plt.show()"
   ]
  }
 ],
 "metadata": {
  "kernelspec": {
   "display_name": "Python 3",
   "language": "python",
   "name": "python3"
  },
  "language_info": {
   "codemirror_mode": {
    "name": "ipython",
    "version": 3
   },
   "file_extension": ".py",
   "mimetype": "text/x-python",
   "name": "python",
   "nbconvert_exporter": "python",
   "pygments_lexer": "ipython3",
   "version": "3.8.5"
  }
 },
 "nbformat": 4,
 "nbformat_minor": 5
}
